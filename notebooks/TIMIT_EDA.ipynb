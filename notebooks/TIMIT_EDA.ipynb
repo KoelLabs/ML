{
 "cells": [
  {
   "cell_type": "code",
   "execution_count": null,
   "metadata": {},
   "outputs": [],
   "source": [
    "import matplotlib.pyplot as plt\n",
    "import numpy as np\n",
    "import zipfile\n",
    "from datasets import Dataset\n",
    "import pandas as pd\n",
    "import pathlib"
   ]
  },
  {
   "cell_type": "code",
   "execution_count": 2,
   "metadata": {},
   "outputs": [],
   "source": [
    "import sys\n",
    "sys.path.append('..')\n",
    "from scripts.audio import audio_array_to_wav_file\n",
    "from scripts.ipa import timit2ipa"
   ]
  },
  {
   "cell_type": "code",
   "execution_count": null,
   "metadata": {},
   "outputs": [],
   "source": [
    "timit = zipfile.ZipFile('../.data/TIMIT.zip', 'r')\n",
    "timit_files = timit.namelist()\n",
    "print(timit_files)"
   ]
  },
  {
   "cell_type": "code",
   "execution_count": null,
   "metadata": {},
   "outputs": [],
   "source": [
    "# print PHONCODE.DOC \n",
    "timit_phoncode = timit.open('PHONCODE.DOC')\n",
    "for line in timit_phoncode:\n",
    "    print(line.decode('utf-8').strip())"
   ]
  },
  {
   "cell_type": "code",
   "execution_count": null,
   "metadata": {},
   "outputs": [],
   "source": [
    "# print PROMPTS.TXT\n",
    "timit_prompts = timit.open('PROMPTS.TXT')\n",
    "for line in timit_prompts:\n",
    "    print(line.decode('utf-8').strip())"
   ]
  },
  {
   "cell_type": "code",
   "execution_count": null,
   "metadata": {},
   "outputs": [],
   "source": [
    "# print README.DOC\n",
    "timit_readme = timit.open('README.DOC')\n",
    "for line in timit_readme:\n",
    "    print(line.decode('utf-8').strip())"
   ]
  },
  {
   "cell_type": "code",
   "execution_count": null,
   "metadata": {},
   "outputs": [],
   "source": [
    "# print SPKRINFO.TXT\n",
    "timit_spkrinfo = timit.open('SPKRINFO.TXT')\n",
    "for line in timit_spkrinfo:\n",
    "    print(line.decode('utf-8').strip())"
   ]
  },
  {
   "cell_type": "code",
   "execution_count": 24,
   "metadata": {},
   "outputs": [
    {
     "data": {
      "text/html": [
       "<div>\n",
       "<style scoped>\n",
       "    .dataframe tbody tr th:only-of-type {\n",
       "        vertical-align: middle;\n",
       "    }\n",
       "\n",
       "    .dataframe tbody tr th {\n",
       "        vertical-align: top;\n",
       "    }\n",
       "\n",
       "    .dataframe thead th {\n",
       "        text-align: right;\n",
       "    }\n",
       "</style>\n",
       "<table border=\"1\" class=\"dataframe\">\n",
       "  <thead>\n",
       "    <tr style=\"text-align: right;\">\n",
       "      <th></th>\n",
       "      <th>speaker_initials</th>\n",
       "      <th>sex</th>\n",
       "      <th>dialect_region</th>\n",
       "      <th>use</th>\n",
       "      <th>recording_date</th>\n",
       "      <th>birth_date</th>\n",
       "      <th>height</th>\n",
       "      <th>race</th>\n",
       "      <th>education_level</th>\n",
       "      <th>comments</th>\n",
       "    </tr>\n",
       "  </thead>\n",
       "  <tbody>\n",
       "    <tr>\n",
       "      <th>0</th>\n",
       "      <td>ABC0</td>\n",
       "      <td>M</td>\n",
       "      <td>New York City</td>\n",
       "      <td>Train</td>\n",
       "      <td>03/03/86</td>\n",
       "      <td>06/17/60</td>\n",
       "      <td>5'11\"</td>\n",
       "      <td>WHT</td>\n",
       "      <td>BS</td>\n",
       "      <td></td>\n",
       "    </tr>\n",
       "    <tr>\n",
       "      <th>1</th>\n",
       "      <td>ABW0</td>\n",
       "      <td>M</td>\n",
       "      <td>Northern</td>\n",
       "      <td>Test</td>\n",
       "      <td>04/21/86</td>\n",
       "      <td>05/26/59</td>\n",
       "      <td>5'9\"</td>\n",
       "      <td>WHT</td>\n",
       "      <td>BS</td>\n",
       "      <td></td>\n",
       "    </tr>\n",
       "    <tr>\n",
       "      <th>2</th>\n",
       "      <td>ADC0</td>\n",
       "      <td>M</td>\n",
       "      <td>North Midland</td>\n",
       "      <td>Train</td>\n",
       "      <td>02/25/86</td>\n",
       "      <td>04/27/54</td>\n",
       "      <td>5'9\"</td>\n",
       "      <td>WHT</td>\n",
       "      <td>HS</td>\n",
       "      <td></td>\n",
       "    </tr>\n",
       "    <tr>\n",
       "      <th>3</th>\n",
       "      <td>ADD0</td>\n",
       "      <td>M</td>\n",
       "      <td>Western</td>\n",
       "      <td>Train</td>\n",
       "      <td>01/28/86</td>\n",
       "      <td>03/23/58</td>\n",
       "      <td>6'2\"</td>\n",
       "      <td>WHT</td>\n",
       "      <td>BS</td>\n",
       "      <td></td>\n",
       "    </tr>\n",
       "    <tr>\n",
       "      <th>4</th>\n",
       "      <td>ADG0</td>\n",
       "      <td>F</td>\n",
       "      <td>South Midland</td>\n",
       "      <td>Test</td>\n",
       "      <td>02/12/86</td>\n",
       "      <td>04/11/59</td>\n",
       "      <td>5'4\"</td>\n",
       "      <td>WHT</td>\n",
       "      <td>MS</td>\n",
       "      <td></td>\n",
       "    </tr>\n",
       "  </tbody>\n",
       "</table>\n",
       "</div>"
      ],
      "text/plain": [
       "  speaker_initials sex dialect_region    use recording_date birth_date height  \\\n",
       "0             ABC0   M  New York City  Train       03/03/86   06/17/60  5'11\"   \n",
       "1             ABW0   M       Northern   Test       04/21/86   05/26/59   5'9\"   \n",
       "2             ADC0   M  North Midland  Train       02/25/86   04/27/54   5'9\"   \n",
       "3             ADD0   M        Western  Train       01/28/86   03/23/58   6'2\"   \n",
       "4             ADG0   F  South Midland   Test       02/12/86   04/11/59   5'4\"   \n",
       "\n",
       "  race education_level comments  \n",
       "0  WHT              BS           \n",
       "1  WHT              BS           \n",
       "2  WHT              HS           \n",
       "3  WHT              BS           \n",
       "4  WHT              MS           "
      ]
     },
     "execution_count": 24,
     "metadata": {},
     "output_type": "execute_result"
    }
   ],
   "source": [
    "REGIONS = ['New England', 'Northern', 'North Midland', 'South Midland', 'Southern', 'New York City', 'Western', 'Army Brat (moved around)']\n",
    "records = []\n",
    "for line in timit.open('SPKRINFO.TXT'):\n",
    "    line = line.decode('utf-8').strip()\n",
    "    if line == \"\" or line.startswith(';'):\n",
    "        continue\n",
    "    line = line.split()\n",
    "    if len(line) < 10:\n",
    "        line += [\"\"] * (10 - len(line))\n",
    "    records.append({\n",
    "        \"speaker_initials\": line[0],\n",
    "        \"sex\": line[1],\n",
    "        \"dialect_region\": REGIONS[int(line[2]) - 1],\n",
    "        \"use\": \"Train\" if line[3] == \"TRN\" else \"Test\",\n",
    "        \"recording_date\": line[4],\n",
    "        \"birth_date\": line[5],\n",
    "        \"height\": line[6],\n",
    "        \"race\": line[7],\n",
    "        \"education_level\": line[8],\n",
    "        \"comments\": line[9]\n",
    "    })\n",
    "speaker_info_df = pd.DataFrame(records)\n",
    "speaker_info_df.head()"
   ]
  },
  {
   "cell_type": "code",
   "execution_count": null,
   "metadata": {},
   "outputs": [],
   "source": [
    "# print SPKRSENT.TXT\n",
    "timit_spkrsent = timit.open('SPKRSENT.TXT')\n",
    "for line in timit_spkrsent:\n",
    "    print(line.decode('utf-8').strip())"
   ]
  },
  {
   "cell_type": "code",
   "execution_count": null,
   "metadata": {},
   "outputs": [],
   "source": [
    "# print TESTSET.DOC\n",
    "timit_testset = timit.open('TESTSET.DOC')\n",
    "for line in timit_testset:\n",
    "    print(line.decode('utf-8').strip())"
   ]
  },
  {
   "cell_type": "code",
   "execution_count": null,
   "metadata": {},
   "outputs": [],
   "source": [
    "# print TIMITDIC.DOC\n",
    "timit_timitdic = timit.open('TIMITDIC.DOC')\n",
    "for line in timit_timitdic:\n",
    "    print(line.decode('utf-8').strip())"
   ]
  },
  {
   "cell_type": "code",
   "execution_count": null,
   "metadata": {},
   "outputs": [],
   "source": [
    "# print TIMITDIC.TXT\n",
    "timit_timitdic = timit.open('TIMITDIC.TXT')\n",
    "for line in timit_timitdic:\n",
    "    print(line.decode('utf-8').strip())"
   ]
  },
  {
   "cell_type": "code",
   "execution_count": null,
   "metadata": {},
   "outputs": [],
   "source": [
    "# list the file extensions for each data point\n",
    "set(map(lambda x: x.split('.')[1], filter(lambda x: x.startswith('data/TRAIN'), timit_files)))"
   ]
  },
  {
   "cell_type": "code",
   "execution_count": null,
   "metadata": {},
   "outputs": [],
   "source": [
    "training_files = list(set(map(lambda x: x.split('.')[0], filter(lambda x: x.startswith('data/TRAIN'), timit_files))))\n",
    "print(training_files)"
   ]
  },
  {
   "cell_type": "code",
   "execution_count": null,
   "metadata": {},
   "outputs": [],
   "source": [
    "test_files = list(set(map(lambda x: x.split('.')[0], filter(lambda x: x.startswith('data/TEST'), timit_files))))\n",
    "print(test_files)"
   ]
  },
  {
   "cell_type": "code",
   "execution_count": 16,
   "metadata": {},
   "outputs": [],
   "source": [
    "def timit_file_to_dict(filename):\n",
    "    with timit.open(filename + '.PHN') as phn_file:\n",
    "        timestamped_phonemes = []\n",
    "        for line in phn_file.read().decode('utf-8').split('\\n'):\n",
    "            if line == '':\n",
    "                continue\n",
    "            start, end, phoneme = line.split()\n",
    "            timestamped_phonemes.append((timit2ipa(phoneme), int(start) / 16_000, int(end) / 16_000))\n",
    "    with timit.open(filename + '.TXT') as txt_file:\n",
    "        transcription = txt_file.read().decode('utf-8').strip()\n",
    "        # first two numbers are the start and end times\n",
    "        transcription_start, transcription_end, *words = transcription.split()\n",
    "        transcription = ' '.join(words)\n",
    "    with timit.open(filename + '.WRD') as wrd_file:\n",
    "        timestamped_words = []\n",
    "        for line in wrd_file.read().decode('utf-8').split('\\n'):\n",
    "            if line == '':\n",
    "                continue\n",
    "            start, end, word = line.split()\n",
    "            timestamped_words.append((word, int(start) / 16_000, int(end) / 16_000))\n",
    "    path_segments = pathlib.Path(filename).parts\n",
    "    speaker_initials = path_segments[-2][1:]\n",
    "    return {'speaker_initials': speaker_initials, 'timestamped_phonemes': timestamped_phonemes, 'transcription': transcription, 'transcription_start': int(transcription_start) / 16_000, 'transcription_end': int(transcription_end) / 16_000, 'timestamped_words': timestamped_words, 'wav_filename': filename + '.WAV'}"
   ]
  },
  {
   "cell_type": "code",
   "execution_count": 17,
   "metadata": {},
   "outputs": [],
   "source": [
    "def zipped_wav_to_array(filename):\n",
    "    with timit.open(filename) as wav_file:\n",
    "        return np.frombuffer(wav_file.read(), dtype=np.int16)"
   ]
  },
  {
   "cell_type": "code",
   "execution_count": null,
   "metadata": {},
   "outputs": [],
   "source": [
    "parsed_0 = timit_file_to_dict(training_files[0])\n",
    "print(parsed_0)"
   ]
  },
  {
   "cell_type": "code",
   "execution_count": null,
   "metadata": {},
   "outputs": [
    {
     "data": {
      "image/png": "[encoded data removed]",
      "text/plain": [
       "<Figure size 640x480 with 1 Axes>"
      ]
     },
     "metadata": {},
     "output_type": "display_data"
    }
   ],
   "source": [
    "arr_0 = zipped_wav_to_array(parsed_0['wav_filename'])\n",
    "start = parsed_0['timestamped_phonemes'][0][2]\n",
    "arr_0 = arr_0[int(start * 16000):]\n",
    "audio_array_to_wav_file(arr_0, '../data/audio-tests/TIMIT_sample_0.wav')\n",
    "time = np.arange(0, len(arr_0)) / 16000\n",
    "plt.plot(time, arr_0)\n",
    "plt.xlabel('Time (s)')\n",
    "plt.ylabel('Amplitude')\n",
    "plt.show()"
   ]
  },
  {
   "cell_type": "code",
   "execution_count": 20,
   "metadata": {},
   "outputs": [
    {
     "name": "stdout",
     "output_type": "stream",
     "text": [
      "ðɨmæŋɡoʊɛnðɨpəpaɪʌɑɹɪɾ̃ɨboʊl\n"
     ]
    }
   ],
   "source": [
    "phonemic_transcription = \"\".join(map(lambda x: x[0], parsed_0['timestamped_phonemes']))\n",
    "print(phonemic_transcription)"
   ]
  },
  {
   "cell_type": "code",
   "execution_count": 21,
   "metadata": {},
   "outputs": [],
   "source": [
    "def files_to_df(files):\n",
    "    records = []\n",
    "    for filename in files:\n",
    "        parsed = timit_file_to_dict(filename)\n",
    "        parsed['audio'] = zipped_wav_to_array(parsed['wav_filename'])\n",
    "        del parsed['wav_filename']\n",
    "        parsed['phonemes'] = [phoneme for phoneme, _, _ in parsed['timestamped_phonemes']]\n",
    "        parsed['phoneme_starts'] = [start for _, start, _ in parsed['timestamped_phonemes']]\n",
    "        parsed['phoneme_ends'] = [end for _, _, end in parsed['timestamped_phonemes']]\n",
    "        del parsed['timestamped_phonemes']\n",
    "        parsed['words'] = [word for word, _, _ in parsed['timestamped_words']]\n",
    "        parsed['word_starts'] = [start for _, start, _ in parsed['timestamped_words']]\n",
    "        parsed['word_ends'] = [end for _, _, end in parsed['timestamped_words']]\n",
    "        del parsed['timestamped_words']\n",
    "        records.append(parsed)\n",
    "    df = pd.DataFrame(records)\n",
    "    return df.merge(speaker_info_df, on='speaker_initials', how='left')"
   ]
  },
  {
   "cell_type": "code",
   "execution_count": null,
   "metadata": {},
   "outputs": [],
   "source": [
    "train_df = files_to_df(training_files)\n",
    "train_df.head()"
   ]
  },
  {
   "cell_type": "code",
   "execution_count": null,
   "metadata": {},
   "outputs": [],
   "source": [
    "train_ds = Dataset.from_pandas(train_df)\n",
    "print(train_ds[0])"
   ]
  },
  {
   "cell_type": "code",
   "execution_count": null,
   "metadata": {},
   "outputs": [],
   "source": [
    "test_df = files_to_df(test_files)\n",
    "test_df.head()"
   ]
  },
  {
   "cell_type": "code",
   "execution_count": null,
   "metadata": {},
   "outputs": [],
   "source": [
    "test_ds = Dataset.from_pandas(test_df)\n",
    "print(test_ds[0])"
   ]
  },
  {
   "cell_type": "code",
   "execution_count": 38,
   "metadata": {},
   "outputs": [],
   "source": [
    "# Export some samples\n",
    "import os\n",
    "SAVE_DIR = '../.data/TIMIT-Samples'\n",
    "os.makedirs(SAVE_DIR, exist_ok=True)\n",
    "pd.set_option('display.max_colwidth', None)\n",
    "for i in range(20):\n",
    "    row = test_df.iloc[i]\n",
    "    audio = np.array(row['audio'])\n",
    "    # start = row['phoneme_ends'][0]\n",
    "    # audio = audio[int(start * 16000):]\n",
    "    audio_array_to_wav_file(audio, f'{SAVE_DIR}/test_{i}.wav')\n",
    "    with open(f'{SAVE_DIR}/test_{i}.txt', 'w') as f:\n",
    "        f.write(row[[col for col in test_df.columns if col != 'audio']].to_string())\n",
    "    "
   ]
  }
 ],
 "metadata": {
  "kernelspec": {
   "display_name": "venv",
   "language": "python",
   "name": "python3"
  },
  "language_info": {
   "codemirror_mode": {
    "name": "ipython",
    "version": 3
   },
   "file_extension": ".py",
   "mimetype": "text/x-python",
   "name": "python",
   "nbconvert_exporter": "python",
   "pygments_lexer": "ipython3",
   "version": "3.8.10"
  }
 },
 "nbformat": 4,
 "nbformat_minor": 2
}
