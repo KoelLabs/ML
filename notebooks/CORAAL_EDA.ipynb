{
 "cells": [
  {
   "cell_type": "code",
   "execution_count": null,
   "metadata": {},
   "outputs": [],
   "source": [
    "import sys\n",
    "sys.path.append('..')\n",
    "\n",
    "from scripts.data_loaders.common import show_sample\n",
    "from scripts.data_loaders.CORAAL import CORAALDataset\n",
    "from scripts.core.audio import TARGET_SAMPLE_RATE\n",
    "from scripts.ipa_transcription.wav2vec2 import transcribe_batch\n",
    "\n",
    "import torch\n",
    "from transformers import AutoProcessor, AutoModelForCTC\n",
    "\n",
    "from IPython.display import clear_output\n",
    "clear_output()"
   ]
  },
  {
   "cell_type": "code",
   "execution_count": 2,
   "metadata": {},
   "outputs": [],
   "source": [
    "data = CORAALDataset(include_speaker_info=True)"
   ]
  },
  {
   "cell_type": "code",
   "execution_count": null,
   "metadata": {},
   "outputs": [],
   "source": [
    "aks_examples = list(data.search_transcript(\" aks \"))\n",
    "print(f\"Found {len(aks_examples)} examples of 'aks' in the transcripts\")\n",
    "aks_example1 = aks_examples[0]\n",
    "print(aks_example1[-1])"
   ]
  },
  {
   "cell_type": "code",
   "execution_count": null,
   "metadata": {},
   "outputs": [],
   "source": [
    "start = int(aks_example1[2]['StTime'] * TARGET_SAMPLE_RATE)\n",
    "end = int(aks_example1[2]['EnTime'] * TARGET_SAMPLE_RATE)\n",
    "text, audio, speaker = data[aks_example1[0]] # type: ignore\n",
    "sample = (aks_example1[2]['Content'], audio[start:end], speaker) # type: ignore\n",
    "show_sample(sample)"
   ]
  },
  {
   "cell_type": "code",
   "execution_count": 24,
   "metadata": {},
   "outputs": [],
   "source": [
    "MODEL_ID = \"facebook/wav2vec2-lv-60-espeak-cv-ft\"\n",
    "DEVICE = 'cuda' if torch.cuda.is_available() else 'mps' if torch.backends.mps.is_available() else 'cpu'\n",
    "torch.mps.empty_cache()\n",
    "processor = AutoProcessor.from_pretrained(MODEL_ID)\n",
    "model = AutoModelForCTC.from_pretrained(MODEL_ID).to(DEVICE)"
   ]
  },
  {
   "cell_type": "code",
   "execution_count": null,
   "metadata": {},
   "outputs": [],
   "source": [
    "transcribe_batch([sample], model, processor)"
   ]
  }
 ],
 "metadata": {
  "kernelspec": {
   "display_name": "venv",
   "language": "python",
   "name": "python3"
  },
  "language_info": {
   "codemirror_mode": {
    "name": "ipython",
    "version": 3
   },
   "file_extension": ".py",
   "mimetype": "text/x-python",
   "name": "python",
   "nbconvert_exporter": "python",
   "pygments_lexer": "ipython3",
   "version": "3.10.16"
  }
 },
 "nbformat": 4,
 "nbformat_minor": 2
}
