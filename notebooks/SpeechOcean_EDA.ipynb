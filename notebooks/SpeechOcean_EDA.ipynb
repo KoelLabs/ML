{
 "cells": [
  {
   "cell_type": "code",
   "execution_count": 33,
   "metadata": {},
   "outputs": [],
   "source": [
    "import torch\n",
    "from transformers import AutoProcessor, AutoModelForCTC\n",
    "\n",
    "import numpy as np\n",
    "\n",
    "from datasets import load_dataset\n",
    "\n",
    "from IPython.display import clear_output\n",
    "clear_output()"
   ]
  },
  {
   "cell_type": "code",
   "execution_count": 5,
   "metadata": {},
   "outputs": [],
   "source": [
    "# set espeak library path for macOS\n",
    "import sys\n",
    "if sys.platform == \"darwin\":\n",
    "    from phonemizer.backend.espeak.wrapper import EspeakWrapper\n",
    "\n",
    "    _ESPEAK_LIBRARY = \"/opt/homebrew/Cellar/espeak/1.48.04_1/lib/libespeak.1.1.48.dylib\"\n",
    "    EspeakWrapper.set_library(_ESPEAK_LIBRARY)"
   ]
  },
  {
   "cell_type": "code",
   "execution_count": 2,
   "metadata": {},
   "outputs": [
    {
     "name": "stderr",
     "output_type": "stream",
     "text": [
      "Generating train split: 100%|██████████| 2500/2500 [00:00<00:00, 3191.55 examples/s]\n",
      "Generating test split: 100%|██████████| 2500/2500 [00:00<00:00, 6482.65 examples/s]\n"
     ]
    }
   ],
   "source": [
    "testset = load_dataset(\"mispeech/speechocean762\", split=\"test\") # pip install --upgrade huggingface_hub datasets"
   ]
  },
  {
   "cell_type": "code",
   "execution_count": 3,
   "metadata": {},
   "outputs": [
    {
     "data": {
      "text/plain": [
       "2500"
      ]
     },
     "execution_count": 3,
     "metadata": {},
     "output_type": "execute_result"
    }
   ],
   "source": [
    "len(testset)"
   ]
  },
  {
   "cell_type": "code",
   "execution_count": 12,
   "metadata": {},
   "outputs": [],
   "source": [
    "ARPABET2IPA = {'AA':'ɑ','AE':'æ','AH':'ʌ','AH0':'ə','AO':'ɔ','AW':'aʊ','AY':'aɪ','EH':'ɛ','ER':'ɝ','ER0':'ɚ','EY':'eɪ','IH':'ɪ','IH0':'ɨ','IY':'i','OW':'oʊ','OY':'ɔɪ','UH':'ʊ','UW':'u','B':'b','CH':'tʃ','D':'d','DH':'ð','EL':'l̩ ','EM':'m̩','EN':'n̩','F':'f','G':'ɡ','HH':'h','JH':'dʒ','K':'k','L':'l','M':'m','N':'n','NG':'ŋ','P':'p','Q':'ʔ','R':'ɹ','S':'s','SH':'ʃ','T':'t','TH':'θ','V':'v','W':'w','WH':'ʍ','Y':'j','Z':'z','ZH':'ʒ'}\n",
    "IPA_SUBSTITUTIONS = {\n",
    "    'ɝ': 'ɹ',   # Simplify rhotacized schwa to 'ɹ'\n",
    "    'ɚ': 'ɹ',   # Simplify rhotacized schwa to 'ɹ'\n",
    "    'l̩': 'l',   # Remove syllabic marker from 'l̩'\n",
    "    'm̩': 'm',   # Remove syllabic marker from 'm̩'\n",
    "    'n̩': 'n',   # Remove syllabic marker from 'n̩'\n",
    "    '̩': '',     # Remove syllabic marker\n",
    "    'ɨ': 'i',    # Replace high central unrounded vowel with high front unrounded vowel\n",
    "    ' ': '',     # Remove nasalization marker\n",
    "}\n",
    "for k in ARPABET2IPA.keys():\n",
    "    if ARPABET2IPA[k] in IPA_SUBSTITUTIONS:\n",
    "        ARPABET2IPA[k] = IPA_SUBSTITUTIONS[ARPABET2IPA[k]]"
   ]
  },
  {
   "cell_type": "code",
   "execution_count": 29,
   "metadata": {},
   "outputs": [],
   "source": [
    "def extract_ipa_audio(sample):\n",
    "    audio = sample[\"audio\"]['array']\n",
    "    words = sample[\"words\"]\n",
    "    phones = [p for w in words for p in w[\"phones\"]]\n",
    "    remove_stress = [''.join([p for p in phon if p.isalpha()]) for phon in phones]\n",
    "    ipa = [ARPABET2IPA[p] for p in remove_stress]\n",
    "\n",
    "    return ''.join(ipa), audio"
   ]
  },
  {
   "cell_type": "code",
   "execution_count": 30,
   "metadata": {},
   "outputs": [
    {
     "name": "stdout",
     "output_type": "stream",
     "text": [
      "mɑɹkɪzɡoʊɪŋtusiɛlɪfʌnt\n"
     ]
    },
    {
     "data": {
      "image/png": "[encoded data removed]",
      "text/plain": [
       "<Figure size 640x480 with 1 Axes>"
      ]
     },
     "metadata": {},
     "output_type": "display_data"
    }
   ],
   "source": [
    "ipa, audio = extract_ipa_audio(testset[0])\n",
    "import matplotlib.pyplot as plt\n",
    "print(ipa)\n",
    "plt.plot(audio)\n",
    "plt.show()"
   ]
  },
  {
   "cell_type": "code",
   "execution_count": 60,
   "metadata": {},
   "outputs": [],
   "source": [
    "# MODEL_ID = \"KoelLabs/xlsr-timit-a1\"\n",
    "# MODEL_ID = \"KoelLabs/xlsr-timit-b0\"\n",
    "# MODEL_ID = \"KoelLabs/xlsr-timit-c0\"\n",
    "# MODEL_ID = \"KoelLabs/xlsr-timit-d0\"\n",
    "# MODEL_ID = \"KoelLabs/xlsr-timit-e0\"\n",
    "# MODEL_ID = \"KoelLabs/xlsr-timit-b1\"\n",
    "# MODEL_ID = \"KoelLabs/xlsr-timit-c1\"\n",
    "# MODEL_ID = \"KoelLabs/xlsr-timit-d1\"\n",
    "# MODEL_ID = \"KoelLabs/xlsr-timit-e1\"\n",
    "# MODEL_ID = \"ginic/gender_split_70_female_4_wav2vec2-large-xlsr-53-buckeye-ipa\"\n",
    "# MODEL_ID = \"mrrubino/wav2vec2-large-xlsr-53-l2-arctic-phoneme\"\n",
    "# MODEL_ID = \"facebook/wav2vec2-lv-60-espeak-cv-ft\"\n",
    "MODEL_ID = \"vitouphy/wav2vec2-xls-r-300m-timit-phoneme\"\n",
    "DEVICE = 'cuda' if torch.cuda.is_available() else 'mps' if torch.backends.mps.is_available() else 'cpu'\n",
    "# DEVICE = 'cpu' # force cpu since we run out of memory with mps when using suitcase_corpus\n",
    "torch.mps.empty_cache()\n",
    "processor = AutoProcessor.from_pretrained(MODEL_ID)\n",
    "model = AutoModelForCTC.from_pretrained(MODEL_ID).to(DEVICE)"
   ]
  },
  {
   "cell_type": "code",
   "execution_count": 31,
   "metadata": {},
   "outputs": [],
   "source": [
    "TARGET_SAMPLE_RATE = processor.feature_extractor.sampling_rate\n",
    "def transcribe_batch(batch):\n",
    "    input_values = processor([extract_ipa_audio(x)[1] for x in batch], sampling_rate=TARGET_SAMPLE_RATE, return_tensors=\"pt\", padding=True).input_values.type(torch.float32).to(DEVICE)\n",
    "    with torch.no_grad():\n",
    "        logits = model(input_values).logits\n",
    "\n",
    "    predicted_ids = torch.argmax(logits, dim=-1)\n",
    "    return [processor.decode(ids) for ids in predicted_ids]"
   ]
  },
  {
   "cell_type": "code",
   "execution_count": 32,
   "metadata": {},
   "outputs": [
    {
     "data": {
      "text/plain": [
       "['mɑkʔɪzɡoʊiŋtʊsiʔɛɾifint']"
      ]
     },
     "execution_count": 32,
     "metadata": {},
     "output_type": "execute_result"
    }
   ],
   "source": [
    "transcribe_batch([testset[0]])"
   ]
  },
  {
   "cell_type": "code",
   "execution_count": 34,
   "metadata": {},
   "outputs": [],
   "source": [
    "import panphon.distance\n",
    "\n",
    "def cer(prediction, ground_truth):\n",
    "    # Convert input lists to strings if they're lists\n",
    "    if isinstance(prediction, list):\n",
    "        prediction = \"\".join(prediction)\n",
    "    if isinstance(ground_truth, list):\n",
    "        ground_truth = \"\".join(ground_truth)\n",
    "\n",
    "    # Handle empty strings\n",
    "    if len(ground_truth) == 0:\n",
    "        return 1.0 if len(prediction) > 0 else 0.0\n",
    "\n",
    "    # Initialize the matrix\n",
    "    matrix = np.zeros((len(prediction) + 1, len(ground_truth) + 1))\n",
    "\n",
    "    # Fill first row and column\n",
    "    for i in range(len(prediction) + 1):\n",
    "        matrix[i, 0] = i\n",
    "    for j in range(len(ground_truth) + 1):\n",
    "        matrix[0, j] = j\n",
    "\n",
    "    # Fill in the rest of the matrix\n",
    "    for i in range(1, len(prediction) + 1):\n",
    "        for j in range(1, len(ground_truth) + 1):\n",
    "            if prediction[i - 1] == ground_truth[j - 1]:\n",
    "                matrix[i, j] = matrix[i - 1, j - 1]\n",
    "            else:\n",
    "                substitution = matrix[i - 1, j - 1] + 1\n",
    "                insertion = matrix[i, j - 1] + 1\n",
    "                deletion = matrix[i - 1, j] + 1\n",
    "                matrix[i, j] = min(substitution, insertion, deletion)\n",
    "\n",
    "    # Calculate CER\n",
    "    distance = matrix[len(prediction), len(ground_truth)]\n",
    "    return distance / len(ground_truth)\n",
    "\n",
    "\n",
    "def preprocess_ipa(ipa_string):\n",
    "    \"\"\"Preprocess an IPA string by removing unsupported symbols. Suggestions by David Mortensen, creator of panphon.\"\"\"\n",
    "    replacement_map = {\n",
    "        \"ɚ\": \"ɹ̩\",  # Convert /ɚ/ to /ɹ/ (non-syllabic r)\n",
    "        \"ɝ\": \"ɹ\",  # Convert /ɝ/ to /ɹ/ (non-syllabic r)\n",
    "        \"ː\": \"\",  # Remove length mark (or duplicate previous vowel if length is important)\n",
    "        \"͡\": \"\",  # Remove tie bar (or split into components if part of an affricate)\n",
    "        \"g\": \"ɡ\",  # replace two versions of g, TIMIT uses ascii g and STANDARD IPA uses unicode g\n",
    "    }\n",
    "    processed_string = \"\".join(replacement_map.get(char, char) for char in ipa_string)\n",
    "\n",
    "    return processed_string\n",
    "\n",
    "\n",
    "def panphon_model_eval(label, predicted):\n",
    "    label_sequence = preprocess_ipa(label)\n",
    "    pred_sequence = preprocess_ipa(predicted)\n",
    "\n",
    "    weighted_feature_dist = panphon.distance.Distance().weighted_feature_edit_distance(\n",
    "        label_sequence, pred_sequence\n",
    "    )\n",
    "    cer_score = cer(predicted, label)\n",
    "\n",
    "    return cer_score, weighted_feature_dist"
   ]
  },
  {
   "cell_type": "code",
   "execution_count": 61,
   "metadata": {},
   "outputs": [
    {
     "name": "stdout",
     "output_type": "stream",
     "text": [
      "CER: 0.724481719040464\n",
      "FER: 25.811225\n"
     ]
    }
   ],
   "source": [
    "BATCH_SIZE = 4\n",
    "average_cer = 0\n",
    "average_feature_distance = 0\n",
    "amount = len(testset)\n",
    "for i in range(0, amount, BATCH_SIZE):\n",
    "    torch.mps.empty_cache()\n",
    "    size = min(BATCH_SIZE, amount - i)\n",
    "    transcriptions = transcribe_batch([testset[i+j] for j in range(size)])\n",
    "    for j in range(size):\n",
    "        cer_score, feature_distance = panphon_model_eval(extract_ipa_audio(testset[i+j])[0], transcriptions[j])\n",
    "        average_cer += cer_score\n",
    "        average_feature_distance += feature_distance\n",
    "\n",
    "print(f\"CER: {average_cer / amount}\")\n",
    "print(f\"FER: {average_feature_distance / amount}\")"
   ]
  },
  {
   "cell_type": "markdown",
   "metadata": {},
   "source": [
    "A1 CER: 0.5200123734215772\n",
    "A1 FER: 34.841425\n",
    "\n",
    "B0 CER: 0.4964618187991499\n",
    "B0 FER: 31.7856\n",
    "\n",
    "C0 CER: 0.523518326005636\n",
    "C0 FER: 35.243925\n",
    "\n",
    "D0 CER: 0.5019584750007547\n",
    "D0 FER: 33.410825\n",
    "\n",
    "E0 CER: 0.5036827946120923\n",
    "E0 FER: 33.240875\n",
    "\n",
    "B1 CER: 0.509668540315498\n",
    "B1 FER: 32.062325\n",
    "\n",
    "C1 CER: 0.522973851740122\n",
    "C1 FER: 34.595825\n",
    "\n",
    "D1 CER: 0.5019890725650029\n",
    "D1 FER: 33.3339\n",
    "\n",
    "E1 CER: 0.5181767662322538\n",
    "E1 FER: 33.77795\n",
    "\n",
    "GINIC CER: 0.46347369715476144\n",
    "GINIC FER: 28.552325\n",
    "\n",
    "Arctic Finetune CER: 0.6083775375446213\n",
    "Arctic Finetune FER: 20.3091\n",
    "\n",
    "Facebook 60 CER: 1.3656656869826551\n",
    "Facebook 60 FER: 23.488125\n",
    "\n",
    "Vitou CER: 0.724481719040464\n",
    "Vitou FER: 25.811225"
   ]
  }
 ],
 "metadata": {
  "kernelspec": {
   "display_name": "venv",
   "language": "python",
   "name": "python3"
  },
  "language_info": {
   "codemirror_mode": {
    "name": "ipython",
    "version": 3
   },
   "file_extension": ".py",
   "mimetype": "text/x-python",
   "name": "python",
   "nbconvert_exporter": "python",
   "pygments_lexer": "ipython3",
   "version": "3.8.10"
  }
 },
 "nbformat": 4,
 "nbformat_minor": 2
}
