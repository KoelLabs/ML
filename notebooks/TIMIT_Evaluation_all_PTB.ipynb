{
 "cells": [
  {
   "cell_type": "code",
   "execution_count": 1,
   "metadata": {},
   "outputs": [
    {
     "name": "stderr",
     "output_type": "stream",
     "text": [
      "/home/arunasri/ML/venv/lib/python3.8/site-packages/tqdm/auto.py:21: TqdmWarning: IProgress not found. Please update jupyter and ipywidgets. See https://ipywidgets.readthedocs.io/en/stable/user_install.html\n",
      "  from .autonotebook import tqdm as notebook_tqdm\n"
     ]
    }
   ],
   "source": [
    "import numpy as np\n",
    "import zipfile\n",
    "from datasets import Dataset\n",
    "import pandas as pd\n",
    "\n",
    "import os\n",
    "# run as much as possible accelerated by apple silicon, fall back to cpu if not possible\n",
    "os.environ[\"PYTORCH_ENABLE_MPS_FALLBACK\"] = \"1\"\n",
    "import torch\n",
    "\n",
    "import sys\n",
    "sys.path.append('..')\n",
    "from scripts.audio import audio_file_to_array\n",
    "from scripts.ipa import timit2ipa\n",
    "from scripts.ipa import filter_chars"
   ]
  },
  {
   "cell_type": "code",
   "execution_count": 2,
   "metadata": {},
   "outputs": [],
   "source": [
    "import sys, os\n",
    "sys.path.append('..')\n",
    "from scripts.eval_tests.panphon_model_eval import panphon_model_eval "
   ]
  },
  {
   "cell_type": "code",
   "execution_count": 3,
   "metadata": {},
   "outputs": [],
   "source": [
    "# set espeak library path for macOS\n",
    "if sys.platform == \"darwin\":\n",
    "    from phonemizer.backend.espeak.wrapper import EspeakWrapper\n",
    "\n",
    "    _ESPEAK_LIBRARY = \"/opt/homebrew/Cellar/espeak/1.48.04_1/lib/libespeak.1.1.48.dylib\"\n",
    "    EspeakWrapper.set_library(_ESPEAK_LIBRARY)"
   ]
  },
  {
   "cell_type": "code",
   "execution_count": 4,
   "metadata": {},
   "outputs": [],
   "source": [
    "from transformers import AutoProcessor, AutoModelForCTC, AutoTokenizer, AutoFeatureExtractor"
   ]
  },
  {
   "cell_type": "markdown",
   "metadata": {},
   "source": [
    "# Load Data"
   ]
  },
  {
   "cell_type": "code",
   "execution_count": 5,
   "metadata": {},
   "outputs": [],
   "source": [
    "timit = zipfile.ZipFile('../.data/TIMIT.zip', 'r')\n",
    "timit_files = timit.namelist()"
   ]
  },
  {
   "cell_type": "code",
   "execution_count": 6,
   "metadata": {},
   "outputs": [],
   "source": [
    "\n",
    "test_files = list(set(map(lambda x: x.split('.')[0], filter(lambda x: x.startswith('data/TEST'), timit_files))))"
   ]
  },
  {
   "cell_type": "code",
   "execution_count": 7,
   "metadata": {},
   "outputs": [],
   "source": [
    "WAV_HEADER_SIZE = 44\n",
    "def zipped_wav_to_array(filename):\n",
    "    with timit.open(filename) as wav_file:\n",
    "        return np.frombuffer(wav_file.read(), dtype=np.int16)[WAV_HEADER_SIZE//2:]"
   ]
  },
  {
   "cell_type": "code",
   "execution_count": 8,
   "metadata": {},
   "outputs": [
    {
     "data": {
      "text/html": [
       "<div>\n",
       "<style scoped>\n",
       "    .dataframe tbody tr th:only-of-type {\n",
       "        vertical-align: middle;\n",
       "    }\n",
       "\n",
       "    .dataframe tbody tr th {\n",
       "        vertical-align: top;\n",
       "    }\n",
       "\n",
       "    .dataframe thead th {\n",
       "        text-align: right;\n",
       "    }\n",
       "</style>\n",
       "<table border=\"1\" class=\"dataframe\">\n",
       "  <thead>\n",
       "    <tr style=\"text-align: right;\">\n",
       "      <th></th>\n",
       "      <th>audio</th>\n",
       "      <th>ipa</th>\n",
       "      <th>phoneme_starts</th>\n",
       "      <th>phoneme_ends</th>\n",
       "    </tr>\n",
       "  </thead>\n",
       "  <tbody>\n",
       "    <tr>\n",
       "      <th>0</th>\n",
       "      <td>[25971, 30303, 29285, 26995, 28271, 11552, 131...</td>\n",
       "      <td>ʃihæddʒɹdɑɹksuʔɪnɡɹisiwɔʃwɔɾɹɔjɪɹ</td>\n",
       "      <td>[0, 2534, 4440, 5400, 5848, 8040, 8712, 9320, ...</td>\n",
       "      <td>[2534, 4440, 5400, 5848, 8040, 8712, 9320, 106...</td>\n",
       "    </tr>\n",
       "    <tr>\n",
       "      <th>1</th>\n",
       "      <td>[25971, 30303, 29285, 26995, 28271, 11552, 131...</td>\n",
       "      <td>oʊnʔæskmitəkɛɹiinʔɔliɹæɡlaɪkðæt</td>\n",
       "      <td>[0, 2190, 2650, 5240, 5880, 6379, 9030, 10820,...</td>\n",
       "      <td>[2190, 2650, 5240, 5880, 6379, 9030, 10820, 11...</td>\n",
       "    </tr>\n",
       "    <tr>\n",
       "      <th>2</th>\n",
       "      <td>[25971, 30303, 29285, 26995, 28271, 11552, 131...</td>\n",
       "      <td>ʔɑɹjəlʊkiŋfɔɹəmplɔɪmənt</td>\n",
       "      <td>[0, 1963, 2464, 3578, 4135, 4971, 5806, 6516, ...</td>\n",
       "      <td>[1963, 2464, 3578, 4135, 4971, 5806, 6516, 764...</td>\n",
       "    </tr>\n",
       "    <tr>\n",
       "      <th>3</th>\n",
       "      <td>[25971, 30303, 29285, 26995, 28271, 11552, 131...</td>\n",
       "      <td>əmbaɪnʔɔlðiiŋɡɹiɾiinsiɾəlɑɹddʒboʊl</td>\n",
       "      <td>[0, 2180, 2940, 3424, 4796, 5547, 5726, 9960, ...</td>\n",
       "      <td>[2180, 2940, 3424, 4796, 5547, 5726, 9960, 105...</td>\n",
       "    </tr>\n",
       "    <tr>\n",
       "      <th>4</th>\n",
       "      <td>[25971, 30303, 29285, 26995, 28271, 11552, 131...</td>\n",
       "      <td>ðɛnhiðɛnwʌt</td>\n",
       "      <td>[0, 2200, 2597, 4600, 5430, 6558, 9357, 19270,...</td>\n",
       "      <td>[2200, 2597, 4600, 5430, 6558, 9357, 19270, 19...</td>\n",
       "    </tr>\n",
       "  </tbody>\n",
       "</table>\n",
       "</div>"
      ],
      "text/plain": [
       "                                               audio  \\\n",
       "0  [25971, 30303, 29285, 26995, 28271, 11552, 131...   \n",
       "1  [25971, 30303, 29285, 26995, 28271, 11552, 131...   \n",
       "2  [25971, 30303, 29285, 26995, 28271, 11552, 131...   \n",
       "3  [25971, 30303, 29285, 26995, 28271, 11552, 131...   \n",
       "4  [25971, 30303, 29285, 26995, 28271, 11552, 131...   \n",
       "\n",
       "                                  ipa  \\\n",
       "0   ʃihæddʒɹdɑɹksuʔɪnɡɹisiwɔʃwɔɾɹɔjɪɹ   \n",
       "1     oʊnʔæskmitəkɛɹiinʔɔliɹæɡlaɪkðæt   \n",
       "2             ʔɑɹjəlʊkiŋfɔɹəmplɔɪmənt   \n",
       "3  əmbaɪnʔɔlðiiŋɡɹiɾiinsiɾəlɑɹddʒboʊl   \n",
       "4                         ðɛnhiðɛnwʌt   \n",
       "\n",
       "                                      phoneme_starts  \\\n",
       "0  [0, 2534, 4440, 5400, 5848, 8040, 8712, 9320, ...   \n",
       "1  [0, 2190, 2650, 5240, 5880, 6379, 9030, 10820,...   \n",
       "2  [0, 1963, 2464, 3578, 4135, 4971, 5806, 6516, ...   \n",
       "3  [0, 2180, 2940, 3424, 4796, 5547, 5726, 9960, ...   \n",
       "4  [0, 2200, 2597, 4600, 5430, 6558, 9357, 19270,...   \n",
       "\n",
       "                                        phoneme_ends  \n",
       "0  [2534, 4440, 5400, 5848, 8040, 8712, 9320, 106...  \n",
       "1  [2190, 2650, 5240, 5880, 6379, 9030, 10820, 11...  \n",
       "2  [1963, 2464, 3578, 4135, 4971, 5806, 6516, 764...  \n",
       "3  [2180, 2940, 3424, 4796, 5547, 5726, 9960, 105...  \n",
       "4  [2200, 2597, 4600, 5430, 6558, 9357, 19270, 19...  "
      ]
     },
     "execution_count": 8,
     "metadata": {},
     "output_type": "execute_result"
    }
   ],
   "source": [
    "# First, ensure that the simplify_timit function is available and works\n",
    "def simplify_timit(phoneme):\n",
    "    # Substitute the phoneme based on the dictionary\n",
    "    substitution_dict = {\n",
    "        'ɾ̃': 'ɾ',  # Replace nasalized flap with plain flap\n",
    "        'ŋ̍': 'ŋ',  # Remove syllabic marker from 'ŋ̍'\n",
    "        'ə̥': 'ə',  # Remove voiceless marker from 'ə̥'\n",
    "        'ɝ': 'ɹ',   # Simplify rhotacized schwa to 'ɹ'\n",
    "        'ɚ': 'ɹ',   # Simplify rhotacized schwa to 'ɹ'\n",
    "        'l̩': 'l',   # Remove syllabic marker from 'l̩'\n",
    "        'm̩': 'm',   # Remove syllabic marker from 'm̩'\n",
    "        'n̩': 'n',   # Remove syllabic marker from 'n̩'\n",
    "        '̩': '',     # Remove syllabic marker\n",
    "        'ʉ': 'u',    # Replace high central rounded vowel with high back rounded vowel\n",
    "        'ɨ': 'i',    # Replace high central unrounded vowel with high front unrounded vowel\n",
    "        ' ': '',     # Remove nasalization marker\n",
    "        'ɦ': 'h',    # Replace voiceless glottal fricative with voiceless glottal fricative\n",
    "        '͡': '', # Simplify affricate to single character\n",
    "        # Add other necessary substitutions if needed\n",
    "    }\n",
    "    phoneme.replace('͡', '') \n",
    "    # Apply the substitution for the phoneme\n",
    "    return substitution_dict.get(phoneme, phoneme)  # Return simplified phoneme or the original if no replacement\n",
    "\n",
    "def remove_stress_mark(text):\n",
    "    \"\"\"\n",
    "    Removes the combining double inverted breve (͡) from text.\n",
    "    \n",
    "    Args:\n",
    "        text: String or iterable containing IPA symbols\n",
    "        \n",
    "    Returns:\n",
    "        Text with stress marks removed\n",
    "    \"\"\"\n",
    "    if isinstance(text, str):\n",
    "        return text.replace('͡', '')\n",
    "    else:\n",
    "        raise TypeError(\"Input must be string, set, or list\")\n",
    "    \n",
    "# Updated timit_file_to_dict to use the simplified IPA phonemes\n",
    "def timit_file_to_dict(filename):\n",
    "    with timit.open(filename + '.PHN') as phn_file:\n",
    "        timestamped_phonemes = []\n",
    "        for line in phn_file.read().decode('utf-8').split('\\n'):\n",
    "            if line == '':\n",
    "                continue\n",
    "            start, end, phoneme = line.split()\n",
    "            \n",
    "            # Convert to IPA first and then simplify the phoneme\n",
    "            ipa_phonemes = timit2ipa(phoneme, \"eng\")\n",
    "            \n",
    "            # Now filter only the necessary characters (this simplifies the phoneme to the basic form)\n",
    "            cleaned_ipa = filter_chars(simplify_timit(ipa_phonemes), filter_type=\"letters\")\n",
    "            cleaned_ipa = remove_stress_mark(cleaned_ipa)\n",
    "            timestamped_phonemes.append((cleaned_ipa, int(start), int(end)))\n",
    "\n",
    "    return {'timestamped_phonemes': timestamped_phonemes, 'wav_filename': filename + '.WAV'}\n",
    "\n",
    "# Updated files_to_df to create DataFrame with cleaned-up phonemes\n",
    "def files_to_df(files):\n",
    "    records = []\n",
    "    for filename in files:\n",
    "        parsed = timit_file_to_dict(filename)\n",
    "        parsed['audio'] = zipped_wav_to_array(parsed['wav_filename'])\n",
    "        del parsed['wav_filename']\n",
    "        parsed['ipa'] = \"\".join(phoneme for phoneme, _, _ in parsed['timestamped_phonemes'])\n",
    "        parsed['phoneme_starts'] = [start for _, start, _ in parsed['timestamped_phonemes']]\n",
    "        parsed['phoneme_ends'] = [end for _, _, end in parsed['timestamped_phonemes']]\n",
    "        del parsed['timestamped_phonemes']\n",
    "        records.append(parsed)\n",
    "    return pd.DataFrame(records)\n",
    "\n",
    "# Call files_to_df for your test files\n",
    "test_df = files_to_df(test_files)\n",
    "test_df.head()\n"
   ]
  },
  {
   "cell_type": "code",
   "execution_count": 9,
   "metadata": {},
   "outputs": [
    {
     "name": "stdout",
     "output_type": "stream",
     "text": [
      "Number of unique IPA symbols in TIMIT: {'e', 'd', 'ŋ', 'ɹ', 'ɔ', 'u', 'l', 'v', 'æ', 's', 'ɪ', 'n', 'ə', 't', 'f', 'ʊ', 'ɡ', 'a', 'ʒ', 'm', 'ɾ', 'k', 'z', 'o', 'h', 'ɛ', 'ʃ', 'ʌ', 'i', 'j', 'p', 'ʔ', 'b', 'ɑ', 'θ', 'ð', 'w'}\n"
     ]
    }
   ],
   "source": [
    "timit_vocab = set(\"\".join(test_df['ipa']))\n",
    "print(f\"Number of unique IPA symbols in TIMIT: {(timit_vocab)}\")"
   ]
  },
  {
   "cell_type": "markdown",
   "metadata": {},
   "source": [
    "### Cleaning Up Audio"
   ]
  },
  {
   "cell_type": "code",
   "execution_count": 10,
   "metadata": {},
   "outputs": [],
   "source": [
    "def crop_audio(row):\n",
    "    # Access the phoneme_starts column and get the last value of the list\n",
    "    end = row['phoneme_starts'][-1]\n",
    "    # Access the phoneme_ends column and get the first value of the list\n",
    "    start = row['phoneme_ends'][0]\n",
    "    # Crop the audio from start to end\n",
    "    # note that start and end are in samples, not seconds\n",
    "    cropped_audio = row['audio'][start:end]\n",
    "    \n",
    "    return cropped_audio"
   ]
  },
  {
   "cell_type": "code",
   "execution_count": 11,
   "metadata": {},
   "outputs": [
    {
     "data": {
      "image/png": "[encoded data removed]",
      "text/plain": [
       "<Figure size 640x480 with 1 Axes>"
      ]
     },
     "metadata": {},
     "output_type": "display_data"
    }
   ],
   "source": [
    "# graph one audio to see start signal that we will remove\n",
    "import matplotlib.pyplot as plt\n",
    "plt.plot(test_df['audio'][0])\n",
    "plt.show()"
   ]
  },
  {
   "cell_type": "code",
   "execution_count": 12,
   "metadata": {},
   "outputs": [
    {
     "data": {
      "text/html": [
       "<div>\n",
       "<style scoped>\n",
       "    .dataframe tbody tr th:only-of-type {\n",
       "        vertical-align: middle;\n",
       "    }\n",
       "\n",
       "    .dataframe tbody tr th {\n",
       "        vertical-align: top;\n",
       "    }\n",
       "\n",
       "    .dataframe thead th {\n",
       "        text-align: right;\n",
       "    }\n",
       "</style>\n",
       "<table border=\"1\" class=\"dataframe\">\n",
       "  <thead>\n",
       "    <tr style=\"text-align: right;\">\n",
       "      <th></th>\n",
       "      <th>audio</th>\n",
       "      <th>ipa</th>\n",
       "      <th>phoneme_starts</th>\n",
       "      <th>phoneme_ends</th>\n",
       "      <th>cropped_audio</th>\n",
       "    </tr>\n",
       "  </thead>\n",
       "  <tbody>\n",
       "    <tr>\n",
       "      <th>0</th>\n",
       "      <td>[25971, 30303, 29285, 26995, 28271, 11552, 131...</td>\n",
       "      <td>ʃihæddʒɹdɑɹksuʔɪnɡɹisiwɔʃwɔɾɹɔjɪɹ</td>\n",
       "      <td>[0, 2534, 4440, 5400, 5848, 8040, 8712, 9320, ...</td>\n",
       "      <td>[2534, 4440, 5400, 5848, 8040, 8712, 9320, 106...</td>\n",
       "      <td>[0, 0, 0, 0, 1, 1, 0, 2, 4, -3, 1, 0, 0, 3, 0,...</td>\n",
       "    </tr>\n",
       "    <tr>\n",
       "      <th>1</th>\n",
       "      <td>[25971, 30303, 29285, 26995, 28271, 11552, 131...</td>\n",
       "      <td>oʊnʔæskmitəkɛɹiinʔɔliɹæɡlaɪkðæt</td>\n",
       "      <td>[0, 2190, 2650, 5240, 5880, 6379, 9030, 10820,...</td>\n",
       "      <td>[2190, 2650, 5240, 5880, 6379, 9030, 10820, 11...</td>\n",
       "      <td>[4, 2, 0, 0, 2, 2, 1, 2, 4, 3, 3, 3, 1, 2, 1, ...</td>\n",
       "    </tr>\n",
       "    <tr>\n",
       "      <th>2</th>\n",
       "      <td>[25971, 30303, 29285, 26995, 28271, 11552, 131...</td>\n",
       "      <td>ʔɑɹjəlʊkiŋfɔɹəmplɔɪmənt</td>\n",
       "      <td>[0, 1963, 2464, 3578, 4135, 4971, 5806, 6516, ...</td>\n",
       "      <td>[1963, 2464, 3578, 4135, 4971, 5806, 6516, 764...</td>\n",
       "      <td>[-1, 2, 0, -1, 1, 0, 1, 3, 1, 0, 1, -2, -1, 1,...</td>\n",
       "    </tr>\n",
       "    <tr>\n",
       "      <th>3</th>\n",
       "      <td>[25971, 30303, 29285, 26995, 28271, 11552, 131...</td>\n",
       "      <td>əmbaɪnʔɔlðiiŋɡɹiɾiinsiɾəlɑɹddʒboʊl</td>\n",
       "      <td>[0, 2180, 2940, 3424, 4796, 5547, 5726, 9960, ...</td>\n",
       "      <td>[2180, 2940, 3424, 4796, 5547, 5726, 9960, 105...</td>\n",
       "      <td>[2, 1, 0, 3, 0, 5, 1, 3, 2, 1, 3, 1, 0, 2, 0, ...</td>\n",
       "    </tr>\n",
       "    <tr>\n",
       "      <th>4</th>\n",
       "      <td>[25971, 30303, 29285, 26995, 28271, 11552, 131...</td>\n",
       "      <td>ðɛnhiðɛnwʌt</td>\n",
       "      <td>[0, 2200, 2597, 4600, 5430, 6558, 9357, 19270,...</td>\n",
       "      <td>[2200, 2597, 4600, 5430, 6558, 9357, 19270, 19...</td>\n",
       "      <td>[-22, -22, -19, -20, -19, -12, -11, -2, 21, 31...</td>\n",
       "    </tr>\n",
       "  </tbody>\n",
       "</table>\n",
       "</div>"
      ],
      "text/plain": [
       "                                               audio  \\\n",
       "0  [25971, 30303, 29285, 26995, 28271, 11552, 131...   \n",
       "1  [25971, 30303, 29285, 26995, 28271, 11552, 131...   \n",
       "2  [25971, 30303, 29285, 26995, 28271, 11552, 131...   \n",
       "3  [25971, 30303, 29285, 26995, 28271, 11552, 131...   \n",
       "4  [25971, 30303, 29285, 26995, 28271, 11552, 131...   \n",
       "\n",
       "                                  ipa  \\\n",
       "0   ʃihæddʒɹdɑɹksuʔɪnɡɹisiwɔʃwɔɾɹɔjɪɹ   \n",
       "1     oʊnʔæskmitəkɛɹiinʔɔliɹæɡlaɪkðæt   \n",
       "2             ʔɑɹjəlʊkiŋfɔɹəmplɔɪmənt   \n",
       "3  əmbaɪnʔɔlðiiŋɡɹiɾiinsiɾəlɑɹddʒboʊl   \n",
       "4                         ðɛnhiðɛnwʌt   \n",
       "\n",
       "                                      phoneme_starts  \\\n",
       "0  [0, 2534, 4440, 5400, 5848, 8040, 8712, 9320, ...   \n",
       "1  [0, 2190, 2650, 5240, 5880, 6379, 9030, 10820,...   \n",
       "2  [0, 1963, 2464, 3578, 4135, 4971, 5806, 6516, ...   \n",
       "3  [0, 2180, 2940, 3424, 4796, 5547, 5726, 9960, ...   \n",
       "4  [0, 2200, 2597, 4600, 5430, 6558, 9357, 19270,...   \n",
       "\n",
       "                                        phoneme_ends  \\\n",
       "0  [2534, 4440, 5400, 5848, 8040, 8712, 9320, 106...   \n",
       "1  [2190, 2650, 5240, 5880, 6379, 9030, 10820, 11...   \n",
       "2  [1963, 2464, 3578, 4135, 4971, 5806, 6516, 764...   \n",
       "3  [2180, 2940, 3424, 4796, 5547, 5726, 9960, 105...   \n",
       "4  [2200, 2597, 4600, 5430, 6558, 9357, 19270, 19...   \n",
       "\n",
       "                                       cropped_audio  \n",
       "0  [0, 0, 0, 0, 1, 1, 0, 2, 4, -3, 1, 0, 0, 3, 0,...  \n",
       "1  [4, 2, 0, 0, 2, 2, 1, 2, 4, 3, 3, 3, 1, 2, 1, ...  \n",
       "2  [-1, 2, 0, -1, 1, 0, 1, 3, 1, 0, 1, -2, -1, 1,...  \n",
       "3  [2, 1, 0, 3, 0, 5, 1, 3, 2, 1, 3, 1, 0, 2, 0, ...  \n",
       "4  [-22, -22, -19, -20, -19, -12, -11, -2, 21, 31...  "
      ]
     },
     "execution_count": 12,
     "metadata": {},
     "output_type": "execute_result"
    }
   ],
   "source": [
    "test_df['cropped_audio'] = test_df.apply(crop_audio, axis=1)\n",
    "test_df.head()"
   ]
  },
  {
   "cell_type": "code",
   "execution_count": 13,
   "metadata": {},
   "outputs": [
    {
     "data": {
      "text/plain": [
       "[<matplotlib.lines.Line2D at 0x7fe84c97de20>]"
      ]
     },
     "execution_count": 13,
     "metadata": {},
     "output_type": "execute_result"
    },
    {
     "data": {
      "image/png": "[encoded data removed]",
      "text/plain": [
       "<Figure size 640x480 with 1 Axes>"
      ]
     },
     "metadata": {},
     "output_type": "display_data"
    }
   ],
   "source": [
    "# visualize again, much better!\n",
    "plt.plot(test_df['cropped_audio'][0])\n"
   ]
  },
  {
   "cell_type": "code",
   "execution_count": 14,
   "metadata": {},
   "outputs": [
    {
     "data": {
      "text/html": [
       "<div>\n",
       "<style scoped>\n",
       "    .dataframe tbody tr th:only-of-type {\n",
       "        vertical-align: middle;\n",
       "    }\n",
       "\n",
       "    .dataframe tbody tr th {\n",
       "        vertical-align: top;\n",
       "    }\n",
       "\n",
       "    .dataframe thead th {\n",
       "        text-align: right;\n",
       "    }\n",
       "</style>\n",
       "<table border=\"1\" class=\"dataframe\">\n",
       "  <thead>\n",
       "    <tr style=\"text-align: right;\">\n",
       "      <th></th>\n",
       "      <th>ipa</th>\n",
       "      <th>audio</th>\n",
       "    </tr>\n",
       "  </thead>\n",
       "  <tbody>\n",
       "    <tr>\n",
       "      <th>0</th>\n",
       "      <td>ʃihæddʒɹdɑɹksuʔɪnɡɹisiwɔʃwɔɾɹɔjɪɹ</td>\n",
       "      <td>[0, 0, 0, 0, 1, 1, 0, 2, 4, -3, 1, 0, 0, 3, 0,...</td>\n",
       "    </tr>\n",
       "    <tr>\n",
       "      <th>1</th>\n",
       "      <td>oʊnʔæskmitəkɛɹiinʔɔliɹæɡlaɪkðæt</td>\n",
       "      <td>[4, 2, 0, 0, 2, 2, 1, 2, 4, 3, 3, 3, 1, 2, 1, ...</td>\n",
       "    </tr>\n",
       "    <tr>\n",
       "      <th>2</th>\n",
       "      <td>ʔɑɹjəlʊkiŋfɔɹəmplɔɪmənt</td>\n",
       "      <td>[-1, 2, 0, -1, 1, 0, 1, 3, 1, 0, 1, -2, -1, 1,...</td>\n",
       "    </tr>\n",
       "    <tr>\n",
       "      <th>3</th>\n",
       "      <td>əmbaɪnʔɔlðiiŋɡɹiɾiinsiɾəlɑɹddʒboʊl</td>\n",
       "      <td>[2, 1, 0, 3, 0, 5, 1, 3, 2, 1, 3, 1, 0, 2, 0, ...</td>\n",
       "    </tr>\n",
       "    <tr>\n",
       "      <th>4</th>\n",
       "      <td>ðɛnhiðɛnwʌt</td>\n",
       "      <td>[-22, -22, -19, -20, -19, -12, -11, -2, 21, 31...</td>\n",
       "    </tr>\n",
       "  </tbody>\n",
       "</table>\n",
       "</div>"
      ],
      "text/plain": [
       "                                  ipa  \\\n",
       "0   ʃihæddʒɹdɑɹksuʔɪnɡɹisiwɔʃwɔɾɹɔjɪɹ   \n",
       "1     oʊnʔæskmitəkɛɹiinʔɔliɹæɡlaɪkðæt   \n",
       "2             ʔɑɹjəlʊkiŋfɔɹəmplɔɪmənt   \n",
       "3  əmbaɪnʔɔlðiiŋɡɹiɾiinsiɾəlɑɹddʒboʊl   \n",
       "4                         ðɛnhiðɛnwʌt   \n",
       "\n",
       "                                               audio  \n",
       "0  [0, 0, 0, 0, 1, 1, 0, 2, 4, -3, 1, 0, 0, 3, 0,...  \n",
       "1  [4, 2, 0, 0, 2, 2, 1, 2, 4, 3, 3, 3, 1, 2, 1, ...  \n",
       "2  [-1, 2, 0, -1, 1, 0, 1, 3, 1, 0, 1, -2, -1, 1,...  \n",
       "3  [2, 1, 0, 3, 0, 5, 1, 3, 2, 1, 3, 1, 0, 2, 0, ...  \n",
       "4  [-22, -22, -19, -20, -19, -12, -11, -2, 21, 31...  "
      ]
     },
     "execution_count": 14,
     "metadata": {},
     "output_type": "execute_result"
    }
   ],
   "source": [
    "# Same for test_df\n",
    "test_df = test_df.drop(columns=['phoneme_starts', 'phoneme_ends', 'audio'])\n",
    "test_df = test_df.rename(columns={'cropped_audio': 'audio'})\n",
    "test_df.head()"
   ]
  },
  {
   "cell_type": "code",
   "execution_count": 15,
   "metadata": {},
   "outputs": [],
   "source": [
    "\n",
    "test_ds = Dataset.from_pandas(test_df)"
   ]
  },
  {
   "cell_type": "markdown",
   "metadata": {},
   "source": [
    "## retrieve the Total TIMIT Vocab \n",
    "we will grab the set of unique timit phonemes and map them to IPA. this will be the vocab all models will be adjusted to fit"
   ]
  },
  {
   "cell_type": "code",
   "execution_count": 16,
   "metadata": {},
   "outputs": [],
   "source": [
    "PRE_TRAINED_ID = \"facebook/wav2vec2-lv-60-espeak-cv-ft\""
   ]
  },
  {
   "cell_type": "code",
   "execution_count": null,
   "metadata": {},
   "outputs": [],
   "source": [
    "processor = AutoProcessor.from_pretrained(PRE_TRAINED_ID)\n",
    "model = AutoModelForCTC.from_pretrained(PRE_TRAINED_ID).to('cuda')\n",
    "BATCH_SIZE = 1"
   ]
  },
  {
   "cell_type": "markdown",
   "metadata": {},
   "source": [
    "# Tokenize!"
   ]
  },
  {
   "cell_type": "code",
   "execution_count": 18,
   "metadata": {},
   "outputs": [
    {
     "name": "stdout",
     "output_type": "stream",
     "text": [
      "{'<s>': 1, '<pad>': 0, '</s>': 2, '<unk>': 3, 'n': 4, 's': 5, 't': 6, 'ə': 7, 'l': 8, 'a': 9, 'i': 10, 'k': 11, 'd': 12, 'm': 13, 'ɛ': 14, 'ɾ': 15, 'e': 16, 'ɪ': 17, 'p': 18, 'o': 19, 'ɐ': 20, 'z': 21, 'ð': 22, 'f': 23, 'j': 24, 'v': 25, 'b': 26, 'ɹ': 27, 'ʁ': 28, 'ʊ': 29, 'iː': 30, 'r': 31, 'w': 32, 'ʌ': 33, 'u': 34, 'ɡ': 35, 'æ': 36, 'aɪ': 37, 'ʃ': 38, 'h': 39, 'ɔ': 40, 'ɑː': 41, 'ŋ': 42, 'ɚ': 43, 'eɪ': 44, 'β': 45, 'uː': 46, 'y': 47, 'ɑ̃': 48, 'oʊ': 49, 'ᵻ': 50, 'eː': 51, 'θ': 52, 'aʊ': 53, 'ts': 54, 'oː': 55, 'ɔ̃': 56, 'ɣ': 57, 'ɜ': 58, 'ɑ': 59, 'dʒ': 60, 'əl': 61, 'x': 62, 'ɜː': 63, 'ç': 64, 'ʒ': 65, 'tʃ': 66, 'ɔː': 67, 'ɑːɹ': 68, 'ɛ̃': 69, 'ʎ': 70, 'ɔːɹ': 71, 'ʋ': 72, 'aː': 73, 'ɕ': 74, 'œ': 75, 'ø': 76, 'oːɹ': 77, 'ɲ': 78, 'yː': 79, 'ʔ': 80, 'iə': 81, 'i5': 82, 's.': 83, 'tɕ': 84, '??': 85, 'nʲ': 86, 'ɛː': 87, 'œ̃': 88, 'ɭ': 89, 'ɔø': 90, 'ʑ': 91, 'tʲ': 92, 'ɨ': 93, 'ɛɹ': 94, 'ts.': 95, 'rʲ': 96, 'ɪɹ': 97, 'ɭʲ': 98, 'i.5': 99, 'ɔɪ': 100, 'q': 101, 'sʲ': 102, 'u5': 103, 'ʊɹ': 104, 'iɜ': 105, 'a5': 106, 'iɛ5': 107, 'øː': 108, 'ʕ': 109, 'ja': 110, 'əɜ': 111, 'th': 112, 'ɑ5': 113, 'oɪ': 114, 'dʲ': 115, 'ə5': 116, 'tɕh': 117, 'ts.h': 118, 'mʲ': 119, 'ɯ': 120, 'dʑ': 121, 'vʲ': 122, 'e̞': 123, 'tʃʲ': 124, 'ei5': 125, 'o5': 126, 'onɡ5': 127, 'ɑu5': 128, 'iɑ5': 129, 'ai5': 130, 'aɪɚ': 131, 'kh': 132, 'ə1': 133, 'ʐ': 134, 'i2': 135, 'ʉ': 136, 'ħ': 137, 't[': 138, 'aɪə': 139, 'ʲ': 140, 'ju': 141, 'ə2': 142, 'u2': 143, 'oɜ': 144, 'pː': 145, 'iɛɜ': 146, 'ou5': 147, 'y5': 148, 'uɜ': 149, 'tː': 150, 'uo5': 151, 'd[': 152, 'uoɜ': 153, 'tsh': 154, 'ɑɜ': 155, 'ɵ': 156, 'i̪5': 157, 'uei5': 158, 'ɟ': 159, 'aɜ': 160, 'ɑɨ': 161, 'i.ɜ': 162, 'eʊ': 163, 'o2': 164, 'ɐ̃': 165, 'ä': 166, 'pʲ': 167, 'kʲ': 168, 'n̩': 169, 'ɒ': 170, 'ph': 171, 'ɑu2': 172, 'uɨ': 173, 'əɪ': 174, 'ɫ': 175, 'ɬ': 176, 'yɜ': 177, 'bʲ': 178, 'ɑ2': 179, 's̪': 180, 'aiɜ': 181, 'χ': 182, 'ɐ̃ʊ̃': 183, '1': 184, 'ə4': 185, 'yæɜ': 186, 'a2': 187, 'ɨː': 188, 't̪': 189, 'iouɜ': 190, 'ũ': 191, 'onɡɜ': 192, 'aɨ': 193, 'iɛ2': 194, 'ɔɨ': 195, 'ɑuɜ': 196, 'o̞': 197, 'ei2': 198, 'iou2': 199, 'c': 200, 'kː': 201, 'y2': 202, 'ɖ': 203, 'oe': 204, 'dˤ': 205, 'yɛɜ': 206, 'əʊ': 207, 'S': 208, 'ɡʲ': 209, 'onɡ2': 210, 'u\"': 211, 'eiɜ': 212, 'ʈ': 213, 'ɯᵝ': 214, 'iou5': 215, 'dZ': 216, 'r̝̊': 217, 'i.2': 218, 'tS': 219, 's^': 220, 'ʝ': 221, 'yə5': 222, 'iɑɜ': 223, 'uə5': 224, 'pf': 225, 'ɨu': 226, 'iɑ2': 227, 'ou2': 228, 'ər2': 229, 'fʲ': 230, 'ai2': 231, 'r̝': 232, 'uəɜ': 233, 'ɳ': 234, 'əɨ': 235, 'ua5': 236, 'uɪ': 237, 'ɽ': 238, 'bː': 239, 'yu5': 240, 'uo2': 241, 'yɛ5': 242, 'l̩': 243, 'ɻ': 244, 'ərɜ': 245, 'ʂ': 246, 'i̪2': 247, 'ouɜ': 248, 'uaɜ': 249, 'a.': 250, 'a.ː': 251, 'yæ5': 252, 'dː': 253, 'r̩': 254, 'ee': 255, 'ɪu': 256, 'ər5': 257, 'i̪ɜ': 258, 'æi': 259, 'u:': 260, 'i.ː': 261, 't^': 262, 'o1': 263, 'ɪ^': 264, 'ai': 265, 'ueiɜ': 266, 'æː': 267, 'ɛɪ': 268, 'eə': 269, 'i.': 270, 'ɴ': 271, 'ie': 272, 'ua2': 273, 'ɑ1': 274, 'o4': 275, 'tʃː': 276, 'o:': 277, 'ɑ:': 278, 'u1': 279, 'N': 280, 'i̪1': 281, 'au': 282, 'yæ2': 283, 'u.': 284, 'qː': 285, 'yəɜ': 286, 'y:': 287, 'kʰ': 288, 'tʃʰ': 289, 'iʊ': 290, 'sx': 291, 'õ': 292, 'uo': 293, 'tʰ': 294, 'uai5': 295, 'bʰ': 296, 'u.ː': 297, 'uə2': 298, 'ʊə': 299, 'd^': 300, 's̪ː': 301, 'yiɜ': 302, 'dʰ': 303, 'r.': 304, 'oe:': 305, 'i1': 306, 'ɟː': 307, 'yu2': 308, 'nʲʲ': 309, 'i̪4': 310, 'uei2': 311, 'tsʲ': 312, 'ɸ': 313, 'ĩ': 314, 'ɑ4': 315, 't̪ː': 316, 'eɑ': 317, 'u4': 318, 'e:': 319, 'tsː': 320, 'ʈʰ': 321, 'ɡʰ': 322, 'ɯɯ': 323, 'dʒʲ': 324, 'ʂʲ': 325, 'X': 326, 'ɵː': 327, 'uaiɜ': 328, 'tɕʲ': 329, 'ã': 330, 't^ː': 331, 'ẽː': 332, 'yɛ2': 333, 'cː': 334, 'i.1': 335, 'ɛʊ': 336, 'dˤdˤ': 337, 'dʒː': 338, 'i4': 339, 'ɡː': 340, 'yi': 341, 'ɕʲ': 342, 'ɟʰ': 343, 'pʰ': 344, 'dʑʲ': 345, 'yuɜ': 346, 'ua1': 347, 'ua4': 348, 'æiː': 349, 'ɐɐ': 350, 'ui': 351, 'iou1': 352, 'ʊː': 353, 'a1': 354, 'iou4': 355, 'cʰ': 356, 'iɛ1': 357, 'yə2': 358, 'ɖʰ': 359, 'ẽ': 360, 'ʒʲ': 361, 'ää': 362, 'ər4': 363, 'iːː': 364, 'ɪː': 365, 'iɑ1': 366, 'ər1': 367, 'œː': 368, 'øi': 369, 'ɪuː': 370, 'cʰcʰ': 371, 'əː1': 372, 'iː1': 373, 'ũ': 374, 'kʰː': 375, 'o̞o̞': 376, 'xʲ': 377, 'ou1': 378, 'iɛ4': 379, 'e̞e̞': 380, 'y1': 381, 'dzː': 382, 'dʲʲ': 383, 'dʰː': 384, 'ɯᵝɯᵝ': 385, 'lː': 386, 'uo1': 387, 'i.4': 388, 'i:': 389, 'yɛ5ʲ': 390, 'a4': 391}\n"
     ]
    }
   ],
   "source": [
    "tokenizer = AutoTokenizer.from_pretrained(PRE_TRAINED_ID)\n",
    "vocab = tokenizer.get_vocab()\n",
    "print(vocab)"
   ]
  },
  {
   "cell_type": "code",
   "execution_count": 19,
   "metadata": {},
   "outputs": [],
   "source": [
    "timit_vocab = set(\"\".join(test_df['ipa']))"
   ]
  },
  {
   "cell_type": "code",
   "execution_count": 20,
   "metadata": {},
   "outputs": [
    {
     "name": "stdout",
     "output_type": "stream",
     "text": [
      "missing:  set()\n",
      "{'<s>': 1, '<pad>': 0, '</s>': 2, '<unk>': 3, 'n': 4, 's': 5, 't': 6, 'ə': 7, 'l': 8, 'a': 9, 'i': 10, 'k': 11, 'd': 12, 'm': 13, 'ɛ': 14, 'ɾ': 15, 'e': 16, 'ɪ': 17, 'p': 18, 'o': 19, 'ɐ': 20, 'z': 21, 'ð': 22, 'f': 23, 'j': 24, 'v': 25, 'b': 26, 'ɹ': 27, 'ʁ': 28, 'ʊ': 29, 'iː': 30, 'r': 31, 'w': 32, 'ʌ': 33, 'u': 34, 'ɡ': 35, 'æ': 36, 'aɪ': 37, 'ʃ': 38, 'h': 39, 'ɔ': 40, 'ɑː': 41, 'ŋ': 42, 'ɚ': 43, 'eɪ': 44, 'β': 45, 'uː': 46, 'y': 47, 'ɑ̃': 48, 'oʊ': 49, 'ᵻ': 50, 'eː': 51, 'θ': 52, 'aʊ': 53, 'ts': 54, 'oː': 55, 'ɔ̃': 56, 'ɣ': 57, 'ɜ': 58, 'ɑ': 59, 'dʒ': 60, 'əl': 61, 'x': 62, 'ɜː': 63, 'ç': 64, 'ʒ': 65, 'tʃ': 66, 'ɔː': 67, 'ɑːɹ': 68, 'ɛ̃': 69, 'ʎ': 70, 'ɔːɹ': 71, 'ʋ': 72, 'aː': 73, 'ɕ': 74, 'œ': 75, 'ø': 76, 'oːɹ': 77, 'ɲ': 78, 'yː': 79, 'ʔ': 80, 'iə': 81, 'i5': 82, 's.': 83, 'tɕ': 84, '??': 85, 'nʲ': 86, 'ɛː': 87, 'œ̃': 88, 'ɭ': 89, 'ɔø': 90, 'ʑ': 91, 'tʲ': 92, 'ɨ': 93, 'ɛɹ': 94, 'ts.': 95, 'rʲ': 96, 'ɪɹ': 97, 'ɭʲ': 98, 'i.5': 99, 'ɔɪ': 100, 'q': 101, 'sʲ': 102, 'u5': 103, 'ʊɹ': 104, 'iɜ': 105, 'a5': 106, 'iɛ5': 107, 'øː': 108, 'ʕ': 109, 'ja': 110, 'əɜ': 111, 'th': 112, 'ɑ5': 113, 'oɪ': 114, 'dʲ': 115, 'ə5': 116, 'tɕh': 117, 'ts.h': 118, 'mʲ': 119, 'ɯ': 120, 'dʑ': 121, 'vʲ': 122, 'e̞': 123, 'tʃʲ': 124, 'ei5': 125, 'o5': 126, 'onɡ5': 127, 'ɑu5': 128, 'iɑ5': 129, 'ai5': 130, 'aɪɚ': 131, 'kh': 132, 'ə1': 133, 'ʐ': 134, 'i2': 135, 'ʉ': 136, 'ħ': 137, 't[': 138, 'aɪə': 139, 'ʲ': 140, 'ju': 141, 'ə2': 142, 'u2': 143, 'oɜ': 144, 'pː': 145, 'iɛɜ': 146, 'ou5': 147, 'y5': 148, 'uɜ': 149, 'tː': 150, 'uo5': 151, 'd[': 152, 'uoɜ': 153, 'tsh': 154, 'ɑɜ': 155, 'ɵ': 156, 'i̪5': 157, 'uei5': 158, 'ɟ': 159, 'aɜ': 160, 'ɑɨ': 161, 'i.ɜ': 162, 'eʊ': 163, 'o2': 164, 'ɐ̃': 165, 'ä': 166, 'pʲ': 167, 'kʲ': 168, 'n̩': 169, 'ɒ': 170, 'ph': 171, 'ɑu2': 172, 'uɨ': 173, 'əɪ': 174, 'ɫ': 175, 'ɬ': 176, 'yɜ': 177, 'bʲ': 178, 'ɑ2': 179, 's̪': 180, 'aiɜ': 181, 'χ': 182, 'ɐ̃ʊ̃': 183, '1': 184, 'ə4': 185, 'yæɜ': 186, 'a2': 187, 'ɨː': 188, 't̪': 189, 'iouɜ': 190, 'ũ': 191, 'onɡɜ': 192, 'aɨ': 193, 'iɛ2': 194, 'ɔɨ': 195, 'ɑuɜ': 196, 'o̞': 197, 'ei2': 198, 'iou2': 199, 'c': 200, 'kː': 201, 'y2': 202, 'ɖ': 203, 'oe': 204, 'dˤ': 205, 'yɛɜ': 206, 'əʊ': 207, 'S': 208, 'ɡʲ': 209, 'onɡ2': 210, 'u\"': 211, 'eiɜ': 212, 'ʈ': 213, 'ɯᵝ': 214, 'iou5': 215, 'dZ': 216, 'r̝̊': 217, 'i.2': 218, 'tS': 219, 's^': 220, 'ʝ': 221, 'yə5': 222, 'iɑɜ': 223, 'uə5': 224, 'pf': 225, 'ɨu': 226, 'iɑ2': 227, 'ou2': 228, 'ər2': 229, 'fʲ': 230, 'ai2': 231, 'r̝': 232, 'uəɜ': 233, 'ɳ': 234, 'əɨ': 235, 'ua5': 236, 'uɪ': 237, 'ɽ': 238, 'bː': 239, 'yu5': 240, 'uo2': 241, 'yɛ5': 242, 'l̩': 243, 'ɻ': 244, 'ərɜ': 245, 'ʂ': 246, 'i̪2': 247, 'ouɜ': 248, 'uaɜ': 249, 'a.': 250, 'a.ː': 251, 'yæ5': 252, 'dː': 253, 'r̩': 254, 'ee': 255, 'ɪu': 256, 'ər5': 257, 'i̪ɜ': 258, 'æi': 259, 'u:': 260, 'i.ː': 261, 't^': 262, 'o1': 263, 'ɪ^': 264, 'ai': 265, 'ueiɜ': 266, 'æː': 267, 'ɛɪ': 268, 'eə': 269, 'i.': 270, 'ɴ': 271, 'ie': 272, 'ua2': 273, 'ɑ1': 274, 'o4': 275, 'tʃː': 276, 'o:': 277, 'ɑ:': 278, 'u1': 279, 'N': 280, 'i̪1': 281, 'au': 282, 'yæ2': 283, 'u.': 284, 'qː': 285, 'yəɜ': 286, 'y:': 287, 'kʰ': 288, 'tʃʰ': 289, 'iʊ': 290, 'sx': 291, 'õ': 292, 'uo': 293, 'tʰ': 294, 'uai5': 295, 'bʰ': 296, 'u.ː': 297, 'uə2': 298, 'ʊə': 299, 'd^': 300, 's̪ː': 301, 'yiɜ': 302, 'dʰ': 303, 'r.': 304, 'oe:': 305, 'i1': 306, 'ɟː': 307, 'yu2': 308, 'nʲʲ': 309, 'i̪4': 310, 'uei2': 311, 'tsʲ': 312, 'ɸ': 313, 'ĩ': 314, 'ɑ4': 315, 't̪ː': 316, 'eɑ': 317, 'u4': 318, 'e:': 319, 'tsː': 320, 'ʈʰ': 321, 'ɡʰ': 322, 'ɯɯ': 323, 'dʒʲ': 324, 'ʂʲ': 325, 'X': 326, 'ɵː': 327, 'uaiɜ': 328, 'tɕʲ': 329, 'ã': 330, 't^ː': 331, 'ẽː': 332, 'yɛ2': 333, 'cː': 334, 'i.1': 335, 'ɛʊ': 336, 'dˤdˤ': 337, 'dʒː': 338, 'i4': 339, 'ɡː': 340, 'yi': 341, 'ɕʲ': 342, 'ɟʰ': 343, 'pʰ': 344, 'dʑʲ': 345, 'yuɜ': 346, 'ua1': 347, 'ua4': 348, 'æiː': 349, 'ɐɐ': 350, 'ui': 351, 'iou1': 352, 'ʊː': 353, 'a1': 354, 'iou4': 355, 'cʰ': 356, 'iɛ1': 357, 'yə2': 358, 'ɖʰ': 359, 'ẽ': 360, 'ʒʲ': 361, 'ää': 362, 'ər4': 363, 'iːː': 364, 'ɪː': 365, 'iɑ1': 366, 'ər1': 367, 'œː': 368, 'øi': 369, 'ɪuː': 370, 'cʰcʰ': 371, 'əː1': 372, 'iː1': 373, 'ũ': 374, 'kʰː': 375, 'o̞o̞': 376, 'xʲ': 377, 'ou1': 378, 'iɛ4': 379, 'e̞e̞': 380, 'y1': 381, 'dzː': 382, 'dʲʲ': 383, 'dʰː': 384, 'ɯᵝɯᵝ': 385, 'lː': 386, 'uo1': 387, 'i.4': 388, 'i:': 389, 'yɛ5ʲ': 390, 'a4': 391}\n"
     ]
    }
   ],
   "source": [
    "# add missing symbols to the vocab\n",
    "missing_symbols = timit_vocab - set(vocab.keys())\n",
    "print(\"missing: \", missing_symbols)\n",
    "tokenizer.add_tokens(list(missing_symbols))\n",
    "vocab = tokenizer.get_vocab()\n",
    "missing_symbols = timit_vocab - set(vocab.keys())\n",
    "# assert missing is empty\n",
    "assert len(missing_symbols) == 0\n",
    "print(vocab)\n"
   ]
  },
  {
   "cell_type": "markdown",
   "metadata": {},
   "source": [
    "# Update Feature Extraction"
   ]
  },
  {
   "cell_type": "code",
   "execution_count": 21,
   "metadata": {},
   "outputs": [],
   "source": [
    "feature_extractor = AutoFeatureExtractor.from_pretrained(PRE_TRAINED_ID)"
   ]
  },
  {
   "cell_type": "markdown",
   "metadata": {},
   "source": [
    "We don't need to update the feature extractor since it has been pretrained on 16kHz audio which matches the TIMIT dataset.\n",
    "\n",
    "For datasets with different sampling rates, the feature extractor should be updated or the audio resampled (easier).\n",
    "\n",
    "This is also where code to add extra features (such as conditioning on speaker's native language etc.) would be added."
   ]
  },
  {
   "cell_type": "markdown",
   "metadata": {},
   "source": [
    "# Preprocess Data"
   ]
  },
  {
   "cell_type": "code",
   "execution_count": 22,
   "metadata": {},
   "outputs": [
    {
     "data": {
      "text/html": [
       "<div>\n",
       "<style scoped>\n",
       "    .dataframe tbody tr th:only-of-type {\n",
       "        vertical-align: middle;\n",
       "    }\n",
       "\n",
       "    .dataframe tbody tr th {\n",
       "        vertical-align: top;\n",
       "    }\n",
       "\n",
       "    .dataframe thead th {\n",
       "        text-align: right;\n",
       "    }\n",
       "</style>\n",
       "<table border=\"1\" class=\"dataframe\">\n",
       "  <thead>\n",
       "    <tr style=\"text-align: right;\">\n",
       "      <th></th>\n",
       "      <th>ipa</th>\n",
       "      <th>audio</th>\n",
       "    </tr>\n",
       "  </thead>\n",
       "  <tbody>\n",
       "    <tr>\n",
       "      <th>0</th>\n",
       "      <td>ʃihæddʒɹdɑɹksuʔɪnɡɹisiwɔʃwɔɾɹɔjɪɹ</td>\n",
       "      <td>[0, 0, 0, 0, 1, 1, 0, 2, 4, -3, 1, 0, 0, 3, 0,...</td>\n",
       "    </tr>\n",
       "    <tr>\n",
       "      <th>1</th>\n",
       "      <td>oʊnʔæskmitəkɛɹiinʔɔliɹæɡlaɪkðæt</td>\n",
       "      <td>[4, 2, 0, 0, 2, 2, 1, 2, 4, 3, 3, 3, 1, 2, 1, ...</td>\n",
       "    </tr>\n",
       "    <tr>\n",
       "      <th>2</th>\n",
       "      <td>ʔɑɹjəlʊkiŋfɔɹəmplɔɪmənt</td>\n",
       "      <td>[-1, 2, 0, -1, 1, 0, 1, 3, 1, 0, 1, -2, -1, 1,...</td>\n",
       "    </tr>\n",
       "    <tr>\n",
       "      <th>3</th>\n",
       "      <td>əmbaɪnʔɔlðiiŋɡɹiɾiinsiɾəlɑɹddʒboʊl</td>\n",
       "      <td>[2, 1, 0, 3, 0, 5, 1, 3, 2, 1, 3, 1, 0, 2, 0, ...</td>\n",
       "    </tr>\n",
       "    <tr>\n",
       "      <th>4</th>\n",
       "      <td>ðɛnhiðɛnwʌt</td>\n",
       "      <td>[-22, -22, -19, -20, -19, -12, -11, -2, 21, 31...</td>\n",
       "    </tr>\n",
       "  </tbody>\n",
       "</table>\n",
       "</div>"
      ],
      "text/plain": [
       "                                  ipa  \\\n",
       "0   ʃihæddʒɹdɑɹksuʔɪnɡɹisiwɔʃwɔɾɹɔjɪɹ   \n",
       "1     oʊnʔæskmitəkɛɹiinʔɔliɹæɡlaɪkðæt   \n",
       "2             ʔɑɹjəlʊkiŋfɔɹəmplɔɪmənt   \n",
       "3  əmbaɪnʔɔlðiiŋɡɹiɾiinsiɾəlɑɹddʒboʊl   \n",
       "4                         ðɛnhiðɛnwʌt   \n",
       "\n",
       "                                               audio  \n",
       "0  [0, 0, 0, 0, 1, 1, 0, 2, 4, -3, 1, 0, 0, 3, 0,...  \n",
       "1  [4, 2, 0, 0, 2, 2, 1, 2, 4, 3, 3, 3, 1, 2, 1, ...  \n",
       "2  [-1, 2, 0, -1, 1, 0, 1, 3, 1, 0, 1, -2, -1, 1,...  \n",
       "3  [2, 1, 0, 3, 0, 5, 1, 3, 2, 1, 3, 1, 0, 2, 0, ...  \n",
       "4  [-22, -22, -19, -20, -19, -12, -11, -2, 21, 31...  "
      ]
     },
     "execution_count": 22,
     "metadata": {},
     "output_type": "execute_result"
    }
   ],
   "source": [
    "test_df.head()"
   ]
  },
  {
   "cell_type": "code",
   "execution_count": 23,
   "metadata": {},
   "outputs": [
    {
     "name": "stdout",
     "output_type": "stream",
     "text": [
      "[  4   2   0 ... -67 -64 -54]\n"
     ]
    }
   ],
   "source": [
    "print(test_df['audio'][1])"
   ]
  },
  {
   "cell_type": "markdown",
   "metadata": {},
   "source": [
    "# Run Evaluation"
   ]
  },
  {
   "cell_type": "code",
   "execution_count": 24,
   "metadata": {},
   "outputs": [
    {
     "name": "stdout",
     "output_type": "stream",
     "text": [
      "{'<s>': 1, '<pad>': 0, '</s>': 2, '<unk>': 3, 'n': 4, 's': 5, 't': 6, 'ə': 7, 'l': 8, 'a': 9, 'i': 10, 'k': 11, 'd': 12, 'm': 13, 'ɛ': 14, 'ɾ': 15, 'e': 16, 'ɪ': 17, 'p': 18, 'o': 19, 'ɐ': 20, 'z': 21, 'ð': 22, 'f': 23, 'j': 24, 'v': 25, 'b': 26, 'ɹ': 27, 'ʁ': 28, 'ʊ': 29, 'iː': 30, 'r': 31, 'w': 32, 'ʌ': 33, 'u': 34, 'ɡ': 35, 'æ': 36, 'aɪ': 37, 'ʃ': 38, 'h': 39, 'ɔ': 40, 'ɑː': 41, 'ŋ': 42, 'ɚ': 43, 'eɪ': 44, 'β': 45, 'uː': 46, 'y': 47, 'ɑ̃': 48, 'oʊ': 49, 'ᵻ': 50, 'eː': 51, 'θ': 52, 'aʊ': 53, 'ts': 54, 'oː': 55, 'ɔ̃': 56, 'ɣ': 57, 'ɜ': 58, 'ɑ': 59, 'dʒ': 60, 'əl': 61, 'x': 62, 'ɜː': 63, 'ç': 64, 'ʒ': 65, 'tʃ': 66, 'ɔː': 67, 'ɑːɹ': 68, 'ɛ̃': 69, 'ʎ': 70, 'ɔːɹ': 71, 'ʋ': 72, 'aː': 73, 'ɕ': 74, 'œ': 75, 'ø': 76, 'oːɹ': 77, 'ɲ': 78, 'yː': 79, 'ʔ': 80, 'iə': 81, 'i5': 82, 's.': 83, 'tɕ': 84, '??': 85, 'nʲ': 86, 'ɛː': 87, 'œ̃': 88, 'ɭ': 89, 'ɔø': 90, 'ʑ': 91, 'tʲ': 92, 'ɨ': 93, 'ɛɹ': 94, 'ts.': 95, 'rʲ': 96, 'ɪɹ': 97, 'ɭʲ': 98, 'i.5': 99, 'ɔɪ': 100, 'q': 101, 'sʲ': 102, 'u5': 103, 'ʊɹ': 104, 'iɜ': 105, 'a5': 106, 'iɛ5': 107, 'øː': 108, 'ʕ': 109, 'ja': 110, 'əɜ': 111, 'th': 112, 'ɑ5': 113, 'oɪ': 114, 'dʲ': 115, 'ə5': 116, 'tɕh': 117, 'ts.h': 118, 'mʲ': 119, 'ɯ': 120, 'dʑ': 121, 'vʲ': 122, 'e̞': 123, 'tʃʲ': 124, 'ei5': 125, 'o5': 126, 'onɡ5': 127, 'ɑu5': 128, 'iɑ5': 129, 'ai5': 130, 'aɪɚ': 131, 'kh': 132, 'ə1': 133, 'ʐ': 134, 'i2': 135, 'ʉ': 136, 'ħ': 137, 't[': 138, 'aɪə': 139, 'ʲ': 140, 'ju': 141, 'ə2': 142, 'u2': 143, 'oɜ': 144, 'pː': 145, 'iɛɜ': 146, 'ou5': 147, 'y5': 148, 'uɜ': 149, 'tː': 150, 'uo5': 151, 'd[': 152, 'uoɜ': 153, 'tsh': 154, 'ɑɜ': 155, 'ɵ': 156, 'i̪5': 157, 'uei5': 158, 'ɟ': 159, 'aɜ': 160, 'ɑɨ': 161, 'i.ɜ': 162, 'eʊ': 163, 'o2': 164, 'ɐ̃': 165, 'ä': 166, 'pʲ': 167, 'kʲ': 168, 'n̩': 169, 'ɒ': 170, 'ph': 171, 'ɑu2': 172, 'uɨ': 173, 'əɪ': 174, 'ɫ': 175, 'ɬ': 176, 'yɜ': 177, 'bʲ': 178, 'ɑ2': 179, 's̪': 180, 'aiɜ': 181, 'χ': 182, 'ɐ̃ʊ̃': 183, '1': 184, 'ə4': 185, 'yæɜ': 186, 'a2': 187, 'ɨː': 188, 't̪': 189, 'iouɜ': 190, 'ũ': 191, 'onɡɜ': 192, 'aɨ': 193, 'iɛ2': 194, 'ɔɨ': 195, 'ɑuɜ': 196, 'o̞': 197, 'ei2': 198, 'iou2': 199, 'c': 200, 'kː': 201, 'y2': 202, 'ɖ': 203, 'oe': 204, 'dˤ': 205, 'yɛɜ': 206, 'əʊ': 207, 'S': 208, 'ɡʲ': 209, 'onɡ2': 210, 'u\"': 211, 'eiɜ': 212, 'ʈ': 213, 'ɯᵝ': 214, 'iou5': 215, 'dZ': 216, 'r̝̊': 217, 'i.2': 218, 'tS': 219, 's^': 220, 'ʝ': 221, 'yə5': 222, 'iɑɜ': 223, 'uə5': 224, 'pf': 225, 'ɨu': 226, 'iɑ2': 227, 'ou2': 228, 'ər2': 229, 'fʲ': 230, 'ai2': 231, 'r̝': 232, 'uəɜ': 233, 'ɳ': 234, 'əɨ': 235, 'ua5': 236, 'uɪ': 237, 'ɽ': 238, 'bː': 239, 'yu5': 240, 'uo2': 241, 'yɛ5': 242, 'l̩': 243, 'ɻ': 244, 'ərɜ': 245, 'ʂ': 246, 'i̪2': 247, 'ouɜ': 248, 'uaɜ': 249, 'a.': 250, 'a.ː': 251, 'yæ5': 252, 'dː': 253, 'r̩': 254, 'ee': 255, 'ɪu': 256, 'ər5': 257, 'i̪ɜ': 258, 'æi': 259, 'u:': 260, 'i.ː': 261, 't^': 262, 'o1': 263, 'ɪ^': 264, 'ai': 265, 'ueiɜ': 266, 'æː': 267, 'ɛɪ': 268, 'eə': 269, 'i.': 270, 'ɴ': 271, 'ie': 272, 'ua2': 273, 'ɑ1': 274, 'o4': 275, 'tʃː': 276, 'o:': 277, 'ɑ:': 278, 'u1': 279, 'N': 280, 'i̪1': 281, 'au': 282, 'yæ2': 283, 'u.': 284, 'qː': 285, 'yəɜ': 286, 'y:': 287, 'kʰ': 288, 'tʃʰ': 289, 'iʊ': 290, 'sx': 291, 'õ': 292, 'uo': 293, 'tʰ': 294, 'uai5': 295, 'bʰ': 296, 'u.ː': 297, 'uə2': 298, 'ʊə': 299, 'd^': 300, 's̪ː': 301, 'yiɜ': 302, 'dʰ': 303, 'r.': 304, 'oe:': 305, 'i1': 306, 'ɟː': 307, 'yu2': 308, 'nʲʲ': 309, 'i̪4': 310, 'uei2': 311, 'tsʲ': 312, 'ɸ': 313, 'ĩ': 314, 'ɑ4': 315, 't̪ː': 316, 'eɑ': 317, 'u4': 318, 'e:': 319, 'tsː': 320, 'ʈʰ': 321, 'ɡʰ': 322, 'ɯɯ': 323, 'dʒʲ': 324, 'ʂʲ': 325, 'X': 326, 'ɵː': 327, 'uaiɜ': 328, 'tɕʲ': 329, 'ã': 330, 't^ː': 331, 'ẽː': 332, 'yɛ2': 333, 'cː': 334, 'i.1': 335, 'ɛʊ': 336, 'dˤdˤ': 337, 'dʒː': 338, 'i4': 339, 'ɡː': 340, 'yi': 341, 'ɕʲ': 342, 'ɟʰ': 343, 'pʰ': 344, 'dʑʲ': 345, 'yuɜ': 346, 'ua1': 347, 'ua4': 348, 'æiː': 349, 'ɐɐ': 350, 'ui': 351, 'iou1': 352, 'ʊː': 353, 'a1': 354, 'iou4': 355, 'cʰ': 356, 'iɛ1': 357, 'yə2': 358, 'ɖʰ': 359, 'ẽ': 360, 'ʒʲ': 361, 'ää': 362, 'ər4': 363, 'iːː': 364, 'ɪː': 365, 'iɑ1': 366, 'ər1': 367, 'œː': 368, 'øi': 369, 'ɪuː': 370, 'cʰcʰ': 371, 'əː1': 372, 'iː1': 373, 'ũ': 374, 'kʰː': 375, 'o̞o̞': 376, 'xʲ': 377, 'ou1': 378, 'iɛ4': 379, 'e̞e̞': 380, 'y1': 381, 'dzː': 382, 'dʲʲ': 383, 'dʰː': 384, 'ɯᵝɯᵝ': 385, 'lː': 386, 'uo1': 387, 'i.4': 388, 'i:': 389, 'yɛ5ʲ': 390, 'a4': 391}\n"
     ]
    }
   ],
   "source": [
    "print(tokenizer.get_vocab())  # This will print the vocabulary, including the newly added token\n"
   ]
  },
  {
   "cell_type": "code",
   "execution_count": 25,
   "metadata": {},
   "outputs": [
    {
     "name": "stderr",
     "output_type": "stream",
     "text": [
      "/home/arunasri/ML/venv/lib/python3.8/site-packages/panphon/distance.py:73: YAMLLoadWarning: calling yaml.load() without Loader=... is deprecated, as the default Loader is unsafe. Please read https://msg.pyyaml.org/load for full details.\n",
      "  dogol_prime = yaml.load(f.read())\n"
     ]
    },
    {
     "name": "stdout",
     "output_type": "stream",
     "text": [
      "prediction: ʃiːhædtədɑːksəŋændɡɹɪsiwaɪsɔːɹɹɔːljiɛ5\n",
      "grnd_truth: ʃihæddʒɹdɑɹksuʔɪnɡɹisiwɔʃwɔɾɹɔjɪɹ\n",
      "Weighted feature edit distance: 48.3125\n",
      "CER: 0.6060606060606061\n",
      "prediction: doʊntæsmitəkɛɹihoʊlibæɡlaɪkðæ\n",
      "grnd_truth: oʊnʔæskmitəkɛɹiinʔɔliɹæɡlaɪkðæt\n",
      "Weighted feature edit distance: 39.625\n",
      "CER: 0.2903225806451613\n",
      "prediction: ɑːɹjyɜlə1xiɜŋfɔːɹxəɜn\n",
      "grnd_truth: ʔɑɹjəlʊkiŋfɔɹəmplɔɪmənt\n",
      "Weighted feature edit distance: 55.4375\n",
      "CER: 0.782608695652174\n",
      "prediction: kʌmbaɪnɔːlðɪnɡɹiːdəntsɑːɹʃəl\n",
      "grnd_truth: əmbaɪnʔɔlðiiŋɡɹiɾiinsiɾəlɑɹddʒboʊl\n",
      "Weighted feature edit distance: 86.8125\n",
      "CER: 0.6470588235294118\n",
      "prediction: pai5ni5fai5wa\n",
      "grnd_truth: ðɛnhiðɛnwʌt\n",
      "Weighted feature edit distance: 18.875\n",
      "CER: 1.0909090909090908\n",
      "prediction: ɐθɔːɹɾiseɪðætoʊlstɚzɑːɹɹɐkɹænpɑːɹɾi\n",
      "grnd_truth: ʔəθɔɹɹɾiseɪðɛɾoʊldstɹzɑɹeɪpɹaɪmtɑɹɡit\n",
      "Weighted feature edit distance: 54.4375\n",
      "CER: 0.4864864864864865\n",
      "prediction: wei5khiɛ5mɑ5ns.i.5ŋli5ko5\n",
      "grnd_truth: wikeɪmɔnisunvwikʊd\n",
      "Weighted feature edit distance: 39.8125\n",
      "CER: 1.0\n",
      "prediction: ðɪsɡɹuːʃɚɹɪzpɚtɪkɚliɪnfɔːɹməntɪfɚpɹəspɛktɪvbaɪ\n",
      "grnd_truth: ðisbɹoʊʃɹizpɹtɪkiliinfɔɹmɪtɪvfɹpɹspɛkivbaɪɹ\n",
      "Weighted feature edit distance: 56.3125\n",
      "CER: 0.4186046511627907\n",
      "prediction: pɹɪɾisuːnwʊmhædlʌŋheɪdɡoʊldənɡɹlʌzəwɑːkistɪ\n",
      "grnd_truth: ɹɪɾisuɾəwʊminkeɪməlɔŋkɪɹiɾifoʊldiɾʌmbɹʌlɪzəwɑkiŋstɪk\n",
      "Weighted feature edit distance: 108.375\n",
      "CER: 0.5384615384615384\n",
      "prediction: mɛtəlkʌlɚdəbɛdɹuːmwɔːlwɪðɡɹeɪs\n",
      "grnd_truth: maɪklkʌlɹdðəbɛdɹumwɔlwəθkɹeɪɑnts\n",
      "Weighted feature edit distance: 46.3125\n",
      "CER: 0.40625\n",
      "prediction: kɛndɚɡɑːɹnzuːndɛkɚɹeɪtɚklæsɹuːmfɚɔːlhɑːlᵻdeɪz\n",
      "grnd_truth: ɪnɹɡɑɹdnttʃɪldɹindɛkɹeɪtðɹklæsɹumzfɹʔɔlhɔlədeɪz\n",
      "Weighted feature edit distance: 98.9375\n",
      "CER: 0.5319148936170213\n"
     ]
    },
    {
     "ename": "KeyboardInterrupt",
     "evalue": "",
     "output_type": "error",
     "traceback": [
      "\u001b[0;31m---------------------------------------------------------------------------\u001b[0m",
      "\u001b[0;31mKeyboardInterrupt\u001b[0m                         Traceback (most recent call last)",
      "Cell \u001b[0;32mIn[25], line 125\u001b[0m\n\u001b[1;32m    122\u001b[0m     \u001b[38;5;28;01mreturn\u001b[39;00m avg_weighted_dist, std_weighted_dist, avg_cer, std_cer\n\u001b[1;32m    124\u001b[0m \u001b[38;5;66;03m# Evaluate the model\u001b[39;00m\n\u001b[0;32m--> 125\u001b[0m avg_distance, std_distance, avg_cer, std_cer \u001b[38;5;241m=\u001b[39m \u001b[43mevaluate_model\u001b[49m\u001b[43m(\u001b[49m\u001b[43mtest_df\u001b[49m\u001b[43m,\u001b[49m\u001b[43m \u001b[49m\u001b[43mprocessor\u001b[49m\u001b[43m,\u001b[49m\u001b[43m \u001b[49m\u001b[43mmodel\u001b[49m\u001b[43m)\u001b[49m\n\u001b[1;32m    126\u001b[0m \u001b[38;5;28mprint\u001b[39m(\u001b[38;5;124mf\u001b[39m\u001b[38;5;124m\"\u001b[39m\u001b[38;5;124mFinal Results - Average Weighted Distance: \u001b[39m\u001b[38;5;132;01m{\u001b[39;00mavg_distance\u001b[38;5;132;01m}\u001b[39;00m\u001b[38;5;124m, Standard Deviation: \u001b[39m\u001b[38;5;132;01m{\u001b[39;00mstd_distance\u001b[38;5;132;01m}\u001b[39;00m\u001b[38;5;124m\"\u001b[39m)\n\u001b[1;32m    127\u001b[0m \u001b[38;5;28mprint\u001b[39m(\u001b[38;5;124mf\u001b[39m\u001b[38;5;124m\"\u001b[39m\u001b[38;5;124mFinal Results - Average CER: \u001b[39m\u001b[38;5;132;01m{\u001b[39;00mavg_cer\u001b[38;5;132;01m}\u001b[39;00m\u001b[38;5;124m, Standard Deviation: \u001b[39m\u001b[38;5;132;01m{\u001b[39;00mstd_cer\u001b[38;5;132;01m}\u001b[39;00m\u001b[38;5;124m\"\u001b[39m)\n",
      "Cell \u001b[0;32mIn[25], line 104\u001b[0m, in \u001b[0;36mevaluate_model\u001b[0;34m(test_df, processor, model)\u001b[0m\n\u001b[1;32m    101\u001b[0m predictions \u001b[38;5;241m=\u001b[39m [pred\u001b[38;5;241m.\u001b[39mreplace(\u001b[38;5;124m'\u001b[39m\u001b[38;5;124m \u001b[39m\u001b[38;5;124m'\u001b[39m, \u001b[38;5;124m'\u001b[39m\u001b[38;5;124m'\u001b[39m) \u001b[38;5;28;01mfor\u001b[39;00m pred \u001b[38;5;129;01min\u001b[39;00m predictions]\n\u001b[1;32m    103\u001b[0m \u001b[38;5;66;03m# Call panphon_model_eval with label and predicted IPA\u001b[39;00m\n\u001b[0;32m--> 104\u001b[0m results \u001b[38;5;241m=\u001b[39m \u001b[43mpanphon_model_eval\u001b[49m\u001b[43m(\u001b[49m\u001b[43mground_truth_labels\u001b[49m\u001b[43m,\u001b[49m\u001b[43m \u001b[49m\u001b[43mpredictions\u001b[49m\u001b[43m)\u001b[49m\n\u001b[1;32m    106\u001b[0m weighted_distances\u001b[38;5;241m.\u001b[39mappend(results[\u001b[38;5;124m'\u001b[39m\u001b[38;5;124mweighted_feature_dist\u001b[39m\u001b[38;5;124m'\u001b[39m])\n\u001b[1;32m    107\u001b[0m total_cer\u001b[38;5;241m.\u001b[39mappend(results[\u001b[38;5;124m'\u001b[39m\u001b[38;5;124mcer_score\u001b[39m\u001b[38;5;124m'\u001b[39m])\n",
      "File \u001b[0;32m~/ML/notebooks/../scripts/eval_tests/panphon_model_eval.py:124\u001b[0m, in \u001b[0;36mpanphon_model_eval\u001b[0;34m(label, predicted)\u001b[0m\n\u001b[1;32m    120\u001b[0m \u001b[38;5;66;03m# calculate distances between the two feature arrays using panphone distance metrics\u001b[39;00m\n\u001b[1;32m    121\u001b[0m feature_dist \u001b[38;5;241m=\u001b[39m panphon\u001b[38;5;241m.\u001b[39mdistance\u001b[38;5;241m.\u001b[39mDistance()\u001b[38;5;241m.\u001b[39mfeature_edit_distance(\n\u001b[1;32m    122\u001b[0m     label_sequence, pred_sequence\n\u001b[1;32m    123\u001b[0m )\n\u001b[0;32m--> 124\u001b[0m weighted_feature_dist \u001b[38;5;241m=\u001b[39m \u001b[43mpanphon\u001b[49m\u001b[38;5;241;43m.\u001b[39;49m\u001b[43mdistance\u001b[49m\u001b[38;5;241;43m.\u001b[39;49m\u001b[43mDistance\u001b[49m\u001b[43m(\u001b[49m\u001b[43m)\u001b[49m\u001b[38;5;241m.\u001b[39mweighted_feature_edit_distance(\n\u001b[1;32m    125\u001b[0m     label_sequence, pred_sequence\n\u001b[1;32m    126\u001b[0m )\n\u001b[1;32m    127\u001b[0m hamming_feature_dist \u001b[38;5;241m=\u001b[39m panphon\u001b[38;5;241m.\u001b[39mdistance\u001b[38;5;241m.\u001b[39mDistance()\u001b[38;5;241m.\u001b[39mhamming_feature_edit_distance(\n\u001b[1;32m    128\u001b[0m     label_sequence, pred_sequence\n\u001b[1;32m    129\u001b[0m )\n\u001b[1;32m    130\u001b[0m \u001b[38;5;66;03m# calculate hamming distance with fastdtw\u001b[39;00m\n\u001b[1;32m    131\u001b[0m \u001b[38;5;66;03m# dist, path = fastdtw(feature_array, second_feature_array, dist=hamming_distance)\u001b[39;00m\n\u001b[1;32m    132\u001b[0m \n\u001b[1;32m    133\u001b[0m \u001b[38;5;66;03m# CER calculation\u001b[39;00m\n",
      "File \u001b[0;32m~/ML/venv/lib/python3.8/site-packages/panphon/distance.py:58\u001b[0m, in \u001b[0;36mDistance.__init__\u001b[0;34m(self, feature_set, feature_model)\u001b[0m\n\u001b[1;32m     48\u001b[0m \u001b[38;5;250m\u001b[39m\u001b[38;5;124;03m\"\"\"Construct a `Distance` object\u001b[39;00m\n\u001b[1;32m     49\u001b[0m \n\u001b[1;32m     50\u001b[0m \u001b[38;5;124;03mArgs:\u001b[39;00m\n\u001b[0;32m   (...)\u001b[0m\n\u001b[1;32m     53\u001b[0m \u001b[38;5;124;03m                         `Distance` object\u001b[39;00m\n\u001b[1;32m     54\u001b[0m \u001b[38;5;124;03m\"\"\"\u001b[39;00m\n\u001b[1;32m     55\u001b[0m fm \u001b[38;5;241m=\u001b[39m {\u001b[38;5;124m'\u001b[39m\u001b[38;5;124mstrict\u001b[39m\u001b[38;5;124m'\u001b[39m: _panphon\u001b[38;5;241m.\u001b[39mFeatureTable,\n\u001b[1;32m     56\u001b[0m       \u001b[38;5;124m'\u001b[39m\u001b[38;5;124mpermissive\u001b[39m\u001b[38;5;124m'\u001b[39m: permissive\u001b[38;5;241m.\u001b[39mPermissiveFeatureTable,\n\u001b[1;32m     57\u001b[0m       \u001b[38;5;124m'\u001b[39m\u001b[38;5;124msegment\u001b[39m\u001b[38;5;124m'\u001b[39m: featuretable\u001b[38;5;241m.\u001b[39mFeatureTable}\n\u001b[0;32m---> 58\u001b[0m \u001b[38;5;28mself\u001b[39m\u001b[38;5;241m.\u001b[39mfm \u001b[38;5;241m=\u001b[39m \u001b[43mfm\u001b[49m\u001b[43m[\u001b[49m\u001b[43mfeature_model\u001b[49m\u001b[43m]\u001b[49m\u001b[43m(\u001b[49m\u001b[43mfeature_set\u001b[49m\u001b[38;5;241;43m=\u001b[39;49m\u001b[43mfeature_set\u001b[49m\u001b[43m)\u001b[49m\n\u001b[1;32m     59\u001b[0m \u001b[38;5;28mself\u001b[39m\u001b[38;5;241m.\u001b[39mxs \u001b[38;5;241m=\u001b[39m xsampa\u001b[38;5;241m.\u001b[39mXSampa()\n\u001b[1;32m     60\u001b[0m \u001b[38;5;28mself\u001b[39m\u001b[38;5;241m.\u001b[39mdogol_prime \u001b[38;5;241m=\u001b[39m \u001b[38;5;28mself\u001b[39m\u001b[38;5;241m.\u001b[39m_dogolpolsky_prime()\n",
      "File \u001b[0;32m~/ML/venv/lib/python3.8/site-packages/panphon/featuretable.py:28\u001b[0m, in \u001b[0;36mFeatureTable.__init__\u001b[0;34m(self, feature_set)\u001b[0m\n\u001b[1;32m     26\u001b[0m bases_fn, weights_fn \u001b[38;5;241m=\u001b[39m feature_sets[feature_set]\n\u001b[1;32m     27\u001b[0m \u001b[38;5;28mself\u001b[39m\u001b[38;5;241m.\u001b[39mweights \u001b[38;5;241m=\u001b[39m \u001b[38;5;28mself\u001b[39m\u001b[38;5;241m.\u001b[39m_read_weights(weights_fn)\n\u001b[0;32m---> 28\u001b[0m \u001b[38;5;28mself\u001b[39m\u001b[38;5;241m.\u001b[39msegments, \u001b[38;5;28mself\u001b[39m\u001b[38;5;241m.\u001b[39mseg_dict, \u001b[38;5;28mself\u001b[39m\u001b[38;5;241m.\u001b[39mnames \u001b[38;5;241m=\u001b[39m \u001b[38;5;28;43mself\u001b[39;49m\u001b[38;5;241;43m.\u001b[39;49m\u001b[43m_read_bases\u001b[49m\u001b[43m(\u001b[49m\u001b[43mbases_fn\u001b[49m\u001b[43m,\u001b[49m\u001b[43m \u001b[49m\u001b[38;5;28;43mself\u001b[39;49m\u001b[38;5;241;43m.\u001b[39;49m\u001b[43mweights\u001b[49m\u001b[43m)\u001b[49m\n\u001b[1;32m     29\u001b[0m \u001b[38;5;28mself\u001b[39m\u001b[38;5;241m.\u001b[39mseg_regex \u001b[38;5;241m=\u001b[39m \u001b[38;5;28mself\u001b[39m\u001b[38;5;241m.\u001b[39m_build_seg_regex()\n\u001b[1;32m     30\u001b[0m \u001b[38;5;28mself\u001b[39m\u001b[38;5;241m.\u001b[39mlongest_seg \u001b[38;5;241m=\u001b[39m \u001b[38;5;28mmax\u001b[39m([\u001b[38;5;28mlen\u001b[39m(x) \u001b[38;5;28;01mfor\u001b[39;00m x \u001b[38;5;129;01min\u001b[39;00m \u001b[38;5;28mself\u001b[39m\u001b[38;5;241m.\u001b[39mseg_dict\u001b[38;5;241m.\u001b[39mkeys()])\n",
      "File \u001b[0;32m~/ML/venv/lib/python3.8/site-packages/panphon/featuretable.py:43\u001b[0m, in \u001b[0;36mFeatureTable._read_bases\u001b[0;34m(self, fn, weights)\u001b[0m\n\u001b[1;32m     41\u001b[0m         ipa \u001b[38;5;241m=\u001b[39m unicodedata\u001b[38;5;241m.\u001b[39mnormalize(\u001b[38;5;124m'\u001b[39m\u001b[38;5;124mNFD\u001b[39m\u001b[38;5;124m'\u001b[39m, row[\u001b[38;5;241m0\u001b[39m])\n\u001b[1;32m     42\u001b[0m         vals \u001b[38;5;241m=\u001b[39m [{\u001b[38;5;124m'\u001b[39m\u001b[38;5;124m-\u001b[39m\u001b[38;5;124m'\u001b[39m: \u001b[38;5;241m-\u001b[39m\u001b[38;5;241m1\u001b[39m, \u001b[38;5;124m'\u001b[39m\u001b[38;5;124m0\u001b[39m\u001b[38;5;124m'\u001b[39m: \u001b[38;5;241m0\u001b[39m, \u001b[38;5;124m'\u001b[39m\u001b[38;5;124m+\u001b[39m\u001b[38;5;124m'\u001b[39m: \u001b[38;5;241m1\u001b[39m}[x] \u001b[38;5;28;01mfor\u001b[39;00m x \u001b[38;5;129;01min\u001b[39;00m row[\u001b[38;5;241m1\u001b[39m:]]\n\u001b[0;32m---> 43\u001b[0m         vec \u001b[38;5;241m=\u001b[39m \u001b[43mSegment\u001b[49m\u001b[43m(\u001b[49m\u001b[43mnames\u001b[49m\u001b[43m,\u001b[49m\n\u001b[1;32m     44\u001b[0m \u001b[43m                      \u001b[49m\u001b[43m{\u001b[49m\u001b[43mn\u001b[49m\u001b[43m:\u001b[49m\u001b[43m \u001b[49m\u001b[43mv\u001b[49m\u001b[43m \u001b[49m\u001b[38;5;28;43;01mfor\u001b[39;49;00m\u001b[43m \u001b[49m\u001b[43m(\u001b[49m\u001b[43mn\u001b[49m\u001b[43m,\u001b[49m\u001b[43m \u001b[49m\u001b[43mv\u001b[49m\u001b[43m)\u001b[49m\u001b[43m \u001b[49m\u001b[38;5;129;43;01min\u001b[39;49;00m\u001b[43m \u001b[49m\u001b[38;5;28;43mzip\u001b[39;49m\u001b[43m(\u001b[49m\u001b[43mnames\u001b[49m\u001b[43m,\u001b[49m\u001b[43m \u001b[49m\u001b[43mvals\u001b[49m\u001b[43m)\u001b[49m\u001b[43m}\u001b[49m\u001b[43m,\u001b[49m\n\u001b[1;32m     45\u001b[0m \u001b[43m                      \u001b[49m\u001b[43mweights\u001b[49m\u001b[38;5;241;43m=\u001b[39;49m\u001b[43mweights\u001b[49m\u001b[43m)\u001b[49m\n\u001b[1;32m     46\u001b[0m         segments\u001b[38;5;241m.\u001b[39mappend((ipa, vec))\n\u001b[1;32m     47\u001b[0m seg_dict \u001b[38;5;241m=\u001b[39m \u001b[38;5;28mdict\u001b[39m(segments)\n",
      "File \u001b[0;32m~/ML/venv/lib/python3.8/site-packages/panphon/segment.py:11\u001b[0m, in \u001b[0;36mSegment.__init__\u001b[0;34m(self, names, features, ftstr, weights)\u001b[0m\n\u001b[1;32m      9\u001b[0m \u001b[38;5;28;01mclass\u001b[39;00m \u001b[38;5;21;01mSegment\u001b[39;00m(\u001b[38;5;28mobject\u001b[39m):\n\u001b[1;32m     10\u001b[0m \u001b[38;5;250m    \u001b[39m\u001b[38;5;124;03m\"\"\"Models a phonological segment as a vector of features.\"\"\"\u001b[39;00m\n\u001b[0;32m---> 11\u001b[0m     \u001b[38;5;28;01mdef\u001b[39;00m \u001b[38;5;21m__init__\u001b[39m(\u001b[38;5;28mself\u001b[39m, names, features\u001b[38;5;241m=\u001b[39m{}, ftstr\u001b[38;5;241m=\u001b[39m\u001b[38;5;124m'\u001b[39m\u001b[38;5;124m'\u001b[39m, weights\u001b[38;5;241m=\u001b[39m\u001b[38;5;28;01mNone\u001b[39;00m):\n\u001b[1;32m     12\u001b[0m \u001b[38;5;250m        \u001b[39m\u001b[38;5;124;03m\"\"\"Construct a `Segment` object\u001b[39;00m\n\u001b[1;32m     13\u001b[0m \n\u001b[1;32m     14\u001b[0m \u001b[38;5;124;03m        Args:\u001b[39;00m\n\u001b[0;32m   (...)\u001b[0m\n\u001b[1;32m     19\u001b[0m \u001b[38;5;124;03m            weights (float): order list of feature weights/saliences\u001b[39;00m\n\u001b[1;32m     20\u001b[0m \u001b[38;5;124;03m            \"\"\"\u001b[39;00m\n\u001b[1;32m     21\u001b[0m         \u001b[38;5;28mself\u001b[39m\u001b[38;5;241m.\u001b[39mn2s \u001b[38;5;241m=\u001b[39m {\u001b[38;5;241m-\u001b[39m\u001b[38;5;241m1\u001b[39m: \u001b[38;5;124m'\u001b[39m\u001b[38;5;124m-\u001b[39m\u001b[38;5;124m'\u001b[39m, \u001b[38;5;241m0\u001b[39m: \u001b[38;5;124m'\u001b[39m\u001b[38;5;124m0\u001b[39m\u001b[38;5;124m'\u001b[39m, \u001b[38;5;241m1\u001b[39m: \u001b[38;5;124m'\u001b[39m\u001b[38;5;124m+\u001b[39m\u001b[38;5;124m'\u001b[39m}\n",
      "\u001b[0;31mKeyboardInterrupt\u001b[0m: "
     ]
    }
   ],
   "source": [
    "import numpy as np\n",
    "from transformers import Wav2Vec2Processor, Wav2Vec2ForCTC\n",
    "import torch\n",
    "from torch.utils.data import DataLoader\n",
    "from torch.nn.utils.rnn import pad_sequence\n",
    "from audiomentations import (\n",
    "    Compose, AddGaussianNoise, TimeStretch, \n",
    "    PitchShift, ApplyImpulseResponse, BandPassFilter, AddBackgroundNoise\n",
    ")\n",
    "from pathlib import Path\n",
    "\n",
    "def evaluate_model(test_df, processor, model):\n",
    "    def collate_fn(batch):\n",
    "        \"\"\"\n",
    "        Collate function to batch inputs and process them with augmentation.\n",
    "        \"\"\"\n",
    "        # Process both original and augmented audio\n",
    "        original_audios = []\n",
    "        augmented_audios = []\n",
    "        labels = []\n",
    "        \n",
    "        for item in batch:\n",
    "            # Convert original audio to numpy if it isn't already\n",
    "            original_audio_np = np.array(item['audio'], dtype=np.float32)\n",
    "            original_audio = torch.tensor(original_audio_np, dtype=torch.float32)\n",
    "            original_audios.append(original_audio)\n",
    "\n",
    "            augment = Compose([\n",
    "                # PitchShift(\n",
    "                #     min_semitones=-4,\n",
    "                #     max_semitones=4,\n",
    "                #     p=1.0  # Set to 1.0 for testing\n",
    "                # ),\n",
    "                TimeStretch(\n",
    "                        min_rate=0.8,\n",
    "                        max_rate=1.00,\n",
    "                        p=1.0, \n",
    "                        leave_length_unchanged=False\n",
    "                ),\n",
    "                # BandPassFilter( min_center_freq=100.0, max_center_freq=6000, p=1.0)\n",
    "                # AddBackgroundNoise(\n",
    "                #     sounds_path=str(\"/home/arunasri/ML/notebooks/noise_samples/emo-soundscape/test\"),\n",
    "                #     min_snr_db=3.0,\n",
    "                #     max_snr_db=10.0,\n",
    "                #     p=1.0\n",
    "                # ),\n",
    "                # ApplyImpulseResponse(\n",
    "                #     ir_path=str(\"/home/arunasri/ML/notebooks/noise_samples/real_rirs_isotropic_noises/test\"),\n",
    "                #     p=1.0\n",
    "                # )\n",
    "            ])\n",
    "            # Make sure input to augment is numpy array\n",
    "            augmented = augment(samples=original_audio_np, sample_rate=16000)\n",
    "            augmented_audio = torch.tensor(augmented, dtype=torch.float32)\n",
    "            augmented_audios.append(augmented_audio)\n",
    "            \n",
    "            # Add labels twice (once for original, once for augmented)\n",
    "            labels.extend([item['ipa']])\n",
    "\n",
    "        # Combine and pad all audio sequences\n",
    "        all_audios = augmented_audios\n",
    "        padded_audios = pad_sequence(all_audios, batch_first=True, padding_value=-100)\n",
    "\n",
    "        # Process through feature extractor\n",
    "        inputs = processor.feature_extractor(\n",
    "            padded_audios.numpy(),\n",
    "            sampling_rate=16000,\n",
    "            return_tensors=\"pt\",\n",
    "            padding=False\n",
    "        )\n",
    "\n",
    "        return {\n",
    "            \"input_values\": inputs[\"input_values\"],\n",
    "            \"attention_mask\": inputs.get(\"attention_mask\"),\n",
    "            \"labels\": labels,\n",
    "        }\n",
    "\n",
    "    dataset = test_df.to_dict(orient=\"records\")\n",
    "    data_loader = DataLoader(dataset, batch_size=BATCH_SIZE, collate_fn=collate_fn, num_workers=4, pin_memory=True)\n",
    "\n",
    "    model.eval().to('cuda')\n",
    "    weighted_distances = []\n",
    "    total_cer = []\n",
    "    \n",
    "    for batch in data_loader:\n",
    "        input_values = batch[\"input_values\"].to('cuda', non_blocking=True)\n",
    "        # attention_mask = batch[\"attention_mask\"].to('cuda', non_blocking=True)\n",
    "        ground_truth_labels = batch[\"labels\"]\n",
    "        \n",
    "        input_values = input_values.to(model.device)\n",
    "\n",
    "        with torch.no_grad():\n",
    "            outputs = model(input_values=input_values)\n",
    "            logits = outputs.logits\n",
    "            \n",
    "            predicted_ids = torch.argmax(logits, dim=-1)\n",
    "            try:\n",
    "                predictions = processor.batch_decode(predicted_ids, skip_special_tokens=True)\n",
    "                if not predictions:  # Skip if predictions is empty\n",
    "                    continue\n",
    "                predictions = [pred.replace(' ', '') for pred in predictions]\n",
    "\n",
    "                # Call panphon_model_eval with label and predicted IPA\n",
    "                results = panphon_model_eval(ground_truth_labels, predictions)\n",
    "                \n",
    "                weighted_distances.append(results['weighted_feature_dist'])\n",
    "                total_cer.append(results['cer_score'])\n",
    "\n",
    "                print(f\"Weighted feature edit distance: {results['weighted_feature_dist']}\")\n",
    "                print(f\"CER: {results['cer_score']}\")\n",
    "            except ValueError:  # Skip if batch_decode fails\n",
    "                print(\"Batch decode failed\")\n",
    "                continue\n",
    "\n",
    "    weighted_distances = np.array(weighted_distances)\n",
    "    avg_weighted_dist = np.mean(weighted_distances)\n",
    "    std_weighted_dist = np.std(weighted_distances)\n",
    "\n",
    "    avg_cer = np.mean(total_cer)\n",
    "    std_cer = np.std(total_cer)\n",
    "\n",
    "    return avg_weighted_dist, std_weighted_dist, avg_cer, std_cer\n",
    "\n",
    "# Evaluate the model\n",
    "avg_distance, std_distance, avg_cer, std_cer = evaluate_model(test_df, processor, model)\n",
    "print(f\"Final Results - Average Weighted Distance: {avg_distance}, Standard Deviation: {std_distance}\")\n",
    "print(f\"Final Results - Average CER: {avg_cer}, Standard Deviation: {std_cer}\")"
   ]
  },
  {
   "cell_type": "code",
   "execution_count": 26,
   "metadata": {},
   "outputs": [],
   "source": [
    "def cer(pred, label):\n",
    "    distances = np.zeros((len(pred) + 1, len(label) + 1))\n",
    "\n",
    "    for t1 in range(len(pred) + 1):\n",
    "        distances[t1][0] = t1\n",
    "\n",
    "    for t2 in range(len(label) + 1):\n",
    "        distances[0][t2] = t2\n",
    "        \n",
    "    a = 0\n",
    "    b = 0\n",
    "    c = 0\n",
    "    \n",
    "    for t1 in range(1, len(pred) + 1):\n",
    "        for t2 in range(1, len(label) + 1):\n",
    "            if (pred[t1-1] == label[t2-1]):\n",
    "                distances[t1][t2] = distances[t1 - 1][t2 - 1]\n",
    "            else:\n",
    "                a = distances[t1][t2 - 1]\n",
    "                b = distances[t1 - 1][t2]\n",
    "                c = distances[t1 - 1][t2 - 1]\n",
    "                \n",
    "                if (a <= b and a <= c):\n",
    "                    distances[t1][t2] = a + 1\n",
    "                elif (b <= a and b <= c):\n",
    "                    distances[t1][t2] = b + 1\n",
    "                else:\n",
    "                    distances[t1][t2] = c + 1\n",
    "\n",
    "    return distances[len(pred)][len(label)] / len(label)"
   ]
  },
  {
   "cell_type": "code",
   "execution_count": null,
   "metadata": {},
   "outputs": [],
   "source": [
    "from transformers import Trainer\n",
    "model = AutoModelForCTC.from_pretrained(PRE_TRAINED_ID)\n",
    "\n",
    "trainer = Trainer(\n",
    "    model=model,\n",
    "    data_collator=data_collator,\n",
    "    compute_metrics=compute_metrics,\n",
    "    eval_dataset=test_ds_prepared,\n",
    "    tokenizer=tokenizer\n",
    ")"
   ]
  },
  {
   "cell_type": "markdown",
   "metadata": {},
   "source": [
    "# Evaluate"
   ]
  },
  {
   "cell_type": "code",
   "execution_count": null,
   "metadata": {},
   "outputs": [],
   "source": [
    "import wandb\n",
    "eval_results = trainer.evaluate()\n",
    "print(eval_results)\n",
    "wandb.log(eval_results)"
   ]
  },
  {
   "cell_type": "code",
   "execution_count": 48,
   "metadata": {},
   "outputs": [],
   "source": [
    "def predict(model, wav_file):\n",
    "    speech = audio_file_to_array(wav_file)\n",
    "    input_values = processor(speech, sampling_rate=16000, return_tensors=\"pt\").input_values.type(torch.float32).to(model.device)\n",
    "\n",
    "    with torch.no_grad():\n",
    "        logits = model(input_values).logits\n",
    "\n",
    "    predicted_ids = torch.argmax(logits, dim=-1)\n",
    "    return processor.decode(predicted_ids[0])\n",
    "    "
   ]
  }
 ],
 "metadata": {
  "kernelspec": {
   "display_name": "venv",
   "language": "python",
   "name": "python3"
  },
  "language_info": {
   "codemirror_mode": {
    "name": "ipython",
    "version": 3
   },
   "file_extension": ".py",
   "mimetype": "text/x-python",
   "name": "python",
   "nbconvert_exporter": "python",
   "pygments_lexer": "ipython3",
   "version": "3.8.10"
  }
 },
 "nbformat": 4,
 "nbformat_minor": 2
}
