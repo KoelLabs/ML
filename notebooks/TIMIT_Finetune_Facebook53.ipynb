{
 "cells": [
  {
   "cell_type": "markdown",
   "metadata": {},
   "source": [
    "## Basic Setup"
   ]
  },
  {
   "cell_type": "code",
   "execution_count": 43,
   "metadata": {},
   "outputs": [],
   "source": [
    "import sys, pathlib\n",
    "\n",
    "sys.path.append(\"..\")\n",
    "\n",
    "from scripts.data_loaders.common import show_sample\n",
    "\n",
    "# importing datasets from dataloader\n",
    "from scripts.data_loaders.L2ARCTIC import (\n",
    "    L2ArcticDataset,\n",
    "    all_arctic_speaker_splits,\n",
    "    SPEAKERS,\n",
    ")\n",
    "from scripts.data_loaders.TIMIT import TIMITDataset\n",
    "from scripts.data_loaders.PSST import PSSTDataset\n",
    "from scripts.data_loaders.OSUBuckeye import BuckeyeDataset, all_buckeye_speaker_splits\n",
    "from scripts.data_loaders.DoReCo import DoReCoDataset\n",
    "from scripts.data_loaders.EpaDB import EpaDBDataset\n",
    "from scripts.data_loaders.SpeechOcean import SpeechOceanDataset\n",
    "from scripts.data_loaders.common import split_utterance_into_multiple\n",
    "\n",
    "from scripts.forced_alignment.common import sequence_to_vectors\n",
    "\n",
    "\n",
    "from scripts.eval.evaluate import evaluate\n",
    "from scripts.eval.metrics import per, fer\n",
    "from scripts.ipa_transcription.wav2vec2 import transcribe_batch\n",
    "\n",
    "from scripts.core.ipa import filter_chars, simplify_ipa, canonize, remove_stress_marker\n",
    "from scripts.core.audio import TARGET_SAMPLE_RATE\n",
    "from IPython.display import clear_output\n",
    "\n",
    "clear_output()\n",
    "\n",
    "# imports for finetuning\n",
    "\n",
    "\n",
    "import logging\n",
    "import torch\n",
    "import wandb\n",
    "import json\n",
    "import numpy as np\n",
    "import pandas as pd\n",
    "import torchaudio\n",
    "import os\n",
    "import matplotlib.pyplot as plt\n",
    "\n",
    "from transformers import (\n",
    "    Trainer,\n",
    "    TrainingArguments,\n",
    "    Wav2Vec2Processor,\n",
    "    Wav2Vec2FeatureExtractor,\n",
    "    set_seed,\n",
    ")\n",
    "from datasets import Dataset\n",
    "from dataclasses import dataclass\n",
    "from typing import Dict, List, Optional, Union\n",
    "import functools\n",
    "from sklearn.model_selection import train_test_split\n",
    "from sklearn import logger"
   ]
  },
  {
   "cell_type": "code",
   "execution_count": 42,
   "metadata": {},
   "outputs": [],
   "source": [
    "PRE_TRAINED_ID = \"facebook/wav2vec2-xlsr-53-phon-cv-ft\""
   ]
  },
  {
   "cell_type": "code",
   "execution_count": 4,
   "metadata": {},
   "outputs": [],
   "source": [
    "processor = Wav2Vec2Processor.from_pretrained(PRE_TRAINED_ID)\n",
    "tokenizor = processor.tokenizer\n",
    "model_vocab = tokenizor.get_vocab()"
   ]
  },
  {
   "cell_type": "code",
   "execution_count": 5,
   "metadata": {},
   "outputs": [],
   "source": [
    "PROJECT_NAME = \"Facebook_Finetune_A\""
   ]
  },
  {
   "cell_type": "code",
   "execution_count": 6,
   "metadata": {},
   "outputs": [],
   "source": [
    "BATCH_SIZE_MAP = 32\n",
    "NUM_PROC_MAP = 4  # adjust\n",
    "RNG_SEED = 42  # rando seed, KEEP CONST"
   ]
  },
  {
   "cell_type": "code",
   "execution_count": 81,
   "metadata": {},
   "outputs": [],
   "source": [
    "MATCHED_VOCAB = {\n",
    "    \"a\",\n",
    "    \"ʒ\",\n",
    "    \"ɨ\",\n",
    "    \"ɡ\",\n",
    "    \"d\",\n",
    "    \"ɦ\",\n",
    "    \"ɛ\",\n",
    "    \"ɾ\",\n",
    "    \"o\",\n",
    "    \"θ\",\n",
    "    \"æ\",\n",
    "    \"ŋ\",\n",
    "    \"u\",\n",
    "    \"ɝ\",\n",
    "    \"p\",\n",
    "    \"ɒ\",\n",
    "    \"ə\",\n",
    "    \"ɔ\",\n",
    "    \"ʔ\",\n",
    "    \"t\",\n",
    "    \"v\",\n",
    "    \"x\",\n",
    "    \"ɹ\",\n",
    "    \"β\",\n",
    "    \"i\",\n",
    "    \"s\",\n",
    "    \"f\",\n",
    "    \"m\",\n",
    "    \"z\",\n",
    "    \"ʌ\",\n",
    "    \"ʊ\",\n",
    "    \"l\",\n",
    "    \"n\",\n",
    "    \"h\",\n",
    "    \"ɪ\",\n",
    "    \"ɚ\",\n",
    "    \"ɑ\",\n",
    "    \"e\",\n",
    "    \"w\",\n",
    "    \"k\",\n",
    "    \"ʉ\",\n",
    "    \"b\",\n",
    "    \"ɜ\",\n",
    "    \"ð\",\n",
    "    \"j\",\n",
    "    \"ʃ\",\n",
    "    \"r\",\n",
    "    \"aʊ\",\n",
    "    \"dʒ\",\n",
    "    \"dz\",\n",
    "    \"l̩\",\n",
    "    \"pʰ\",\n",
    "    \"ɛ̃\",\n",
    "    \"m̩\",\n",
    "    \"æ̃\",\n",
    "    \"aɪ\",\n",
    "    \"eɪ\",\n",
    "    \"ɑ̃\",\n",
    "    \"ɔɪ\",\n",
    "    \"kʰ\",\n",
    "    \"ts\",\n",
    "    \"n̩\",\n",
    "    \"tʃ\",\n",
    "    \"ʊ̃\",\n",
    "}"
   ]
  },
  {
   "cell_type": "markdown",
   "metadata": {},
   "source": [
    "# Load Data"
   ]
  },
  {
   "cell_type": "markdown",
   "metadata": {},
   "source": [
    "### Dataset viewing: \n",
    "look at dataset statistics, you can skip this.  "
   ]
  },
  {
   "cell_type": "markdown",
   "metadata": {},
   "source": [
    "#### EpaDB dataset\n",
    "**About**: \n",
    "1894 samples 0.02-0.17 in length, 98 minutes total (no audio clipping) \n",
    "some special characters that will be mapped. \n",
    "\n",
    "Simplified vocab: {'ɛ', 'ŋ', 'b', 'd', 'ʍ', 'ɪ', 'f', 'ɾ̃', 'r', 'ə', 'l', 'ɑ', 'θʰ', 'k', 'v', 'pʰ', 'aɪ', 'oʊ', 'a', 'æ', 'n̩', 'h', 'x', 'ɾ', 'ɔ', 'ɡ', 'w', 'ʌ', 'ʉ', 'z', 'ɝ', 'eɪ', 'u', 'ʔ', 'ɨ', 'ɔɪ', 'kʰ', 'n', 'aʊ', 'e', 'ɹ', 'm', 'ʟ', 'dʒ', 'ʒ', 'm̩', 't', 'p', 'ɚ', 'β', 'o', 'sʰ', 'ʊ', 's', 'i', 'j', 'l̩', 'ð', 'ɡɣ', 'tʃ'}\n",
    "\n",
    "not found: ['ɡɣ', 'ɝ', 'ɾ̃', 'ʍ', 'θʰ', 'm̩', 'sʰ', 'ʟ']\n"
   ]
  },
  {
   "cell_type": "code",
   "execution_count": 32,
   "metadata": {},
   "outputs": [],
   "source": [
    "epadb = EpaDBDataset(split=\"train\")"
   ]
  },
  {
   "cell_type": "markdown",
   "metadata": {},
   "source": [
    "#### PSST dataset\n",
    "**About**: 2298 samples, 0.1 to 1.2 minutes, 166 minutes total (no audio clipping)\n",
    "some small sample annotation ambiguities to be discussed later\n",
    "\n",
    "Simplified Vocab: {'ɛ', 'ŋ', 'b', 'd', 'ʍ', 'ɪ', 'f', 'ɾ̃', 'ə', 'l', 'ɑ', 'k', 'v', 'aɪ', 'oʊ', 'æ', 'n̩', 'h', 'θ', 'ɾ', 'ɔ', 'ɡ', 'w', 'ʌ', 'ʉ', 'z', 'ɝ', 'eɪ', 'u', 'ʔ', 'ɨ', 'ɔɪ', 'n', 'aʊ', 'ɹ', 'm', 'dʒ', 'ʒ', 'm̩', 't', 'p', 'ɚ', 'ʊ', 's', 'i', 'j', 'l̩', 'ð', 'tʃ', 'ʃ'}\n",
    "\n",
    "not found: ['ɝ', 'ɾ̃', 'ʍ', 'm̩']"
   ]
  },
  {
   "cell_type": "code",
   "execution_count": 33,
   "metadata": {},
   "outputs": [
    {
     "name": "stderr",
     "output_type": "stream",
     "text": [
      "psstdata INFO: Loaded data version local at /Users/arunasrivastava/Koel/ML-eval/ML/notebooks/../scripts/data_loaders/../../.data/psst-data\n"
     ]
    }
   ],
   "source": [
    "psst = PSSTDataset(split=\"train\", force_offline=True)"
   ]
  },
  {
   "cell_type": "markdown",
   "metadata": {},
   "source": [
    "#### Timit dataset\n",
    "**About**: 4620 samples, 0.013 to 0.12 minutes, 222 minutes total (no audio clipping)\n",
    "\n",
    "Simplified vocab: {'ɛ', 'ŋ', 'b', 'd', 'ʍ', 'ɪ', 'f', 'ɾ̃', 'ə', 'l', 'ɑ', 'k', 'v', 'aɪ', 'oʊ', 'æ', 'n̩', 'h', 'θ', 'ɾ', 'ɔ', 'ɡ', 'w', 'ʌ', 'ʉ', 'z', 'ɝ', 'eɪ', 'u', 'ʔ', 'ɨ', 'ɔɪ', 'n', 'aʊ', 'ɹ', 'm', 'ɦ', 'dʒ', 'ʒ', 'm̩', 't', 'p', 'ɚ', 'ʊ', 's', 'i', 'ə̥', 'j', 'l̩', 'ð', 'ŋ̍', 'tʃ', 'ʃ'}\n",
    "\n",
    "not found: ['ŋ̍', 'ə̥', 'ɝ', 'ɾ̃', 'ʍ', 'ɦ', 'm̩']"
   ]
  },
  {
   "cell_type": "code",
   "execution_count": 34,
   "metadata": {},
   "outputs": [],
   "source": [
    "timit = TIMITDataset(split=\"train\")"
   ]
  },
  {
   "cell_type": "markdown",
   "metadata": {},
   "source": [
    "#### Suitcase L2 arctic\n",
    "**About**: 22 samples, 0.459 to 3.92 minutes (26 minutes of speech)\n",
    "\n",
    "**with audio clipping**: 153 samples, 0.16 to 0.22 minutes (23 minutes of speech)\n",
    "\n",
    "10 seconds was found to be the best splitting length that allowed all clips to meet this threshold. \n",
    "\n",
    "Simplfiied vocab: {'ɛ', 'ŋ', 'b', 'd', 'ʍ', 'ɪ', 'f', 'ɾ̃', 'ə', 'l', 'ɑ', 'k', 'v', 'aɪ', 'oʊ', 'æ', 'n̩', 'h', 'θ', 'ɾ', 'ɔ', 'ɡ', 'w', 'ʌ', 'ʉ', 'z', 'ɝ', 'eɪ', 'u', 'ʔ', 'ɨ', 'ɔɪ', 'n', 'aʊ', 'ɹ', 'm', 'dʒ', 'ʒ', 'm̩', 't', 'p', 'ɚ', 'ʊ', 's', 'i', 'j', 'l̩', 'ð', 'tʃ', 'ʃ'}\n",
    "\n",
    "not found: ['ɝ', 'ɾ̃', 'ʍ', 'm̩']"
   ]
  },
  {
   "cell_type": "code",
   "execution_count": 35,
   "metadata": {},
   "outputs": [],
   "source": [
    "suitcase = L2ArcticDataset(\n",
    "    split=\"suitcase_corpus\", include_timestamps=True\n",
    ")  # spontaneous speech"
   ]
  },
  {
   "cell_type": "markdown",
   "metadata": {},
   "source": [
    "audio cropping... \n",
    "\n",
    "first check audio length"
   ]
  },
  {
   "cell_type": "code",
   "execution_count": 36,
   "metadata": {},
   "outputs": [
    {
     "name": "stdout",
     "output_type": "stream",
     "text": [
      "Total audio length in minutes: 26.100249999999996\n",
      "number of samples: 22\n"
     ]
    },
    {
     "data": {
      "image/png": "[encoded data removed]",
      "text/plain": [
       "<Figure size 640x480 with 1 Axes>"
      ]
     },
     "metadata": {},
     "output_type": "display_data"
    }
   ],
   "source": [
    "audio_lens = []\n",
    "for sample in suitcase:\n",
    "    audio_lens.append(len(sample[1]) / 16000 / 60)\n",
    "plt.hist(audio_lens, bins=100)\n",
    "original_total_audio = sum(audio_lens)\n",
    "print(\"Total audio length in minutes:\", original_total_audio)\n",
    "print(\"number of samples:\", len(suitcase))"
   ]
  },
  {
   "cell_type": "code",
   "execution_count": 37,
   "metadata": {},
   "outputs": [
    {
     "name": "stdout",
     "output_type": "stream",
     "text": [
      "total audio length in minutes: 23.145196875\n",
      "number of samples: 129\n",
      "min length: 0.16676666666666667\n",
      "max length: 0.2055\n"
     ]
    },
    {
     "data": {
      "image/png": "[encoded data removed]",
      "text/plain": [
       "<Figure size 640x480 with 1 Axes>"
      ]
     },
     "metadata": {},
     "output_type": "display_data"
    }
   ],
   "source": [
    "new_audio_lens = []\n",
    "# new ipa and audio\n",
    "refined_suitcase = []\n",
    "\n",
    "for sample in suitcase:\n",
    "    subsamples = split_utterance_into_multiple(sample[2], sample[1], 0.01, 10)\n",
    "    for subsample in subsamples:\n",
    "        new_audio_lens.append(len(subsample[1]) / 16000 / 60)\n",
    "        refined_suitcase.append((remove_stress_marker(subsample[0]), subsample[1]))\n",
    "\n",
    "#  plot audio lens\n",
    "plt.hist(np.array(new_audio_lens), bins=100)\n",
    "new_total_audio = sum(np.array(new_audio_lens))\n",
    "print(\"total audio length in minutes:\", new_total_audio)\n",
    "print(\"number of samples:\", len(refined_suitcase))\n",
    "print(\"min length:\", min(new_audio_lens))\n",
    "print(\"max length:\", max(new_audio_lens))"
   ]
  },
  {
   "cell_type": "markdown",
   "metadata": {},
   "source": [
    "#### Buckeye dataset\n",
    "**About**: 255 samples, 4-10 minutes (1704 minutes)\n",
    "**with audio clipping**: 3026 samples, 30 seconds, 0.1 (1587 minutes)\n",
    "\n",
    "Simplified vocab: {'ɛ', 'ŋ', 'd', 'b', 'ɪ', 'f', 'ɾ̃', 'l', 'ɑ', 'k', 'æ̃', 'ɛ̃', 'v', 'aɪ', 'oʊ', 'æ', 'n̩', 'oʊ̃', 'θ', 'h', 'ɾ', 'ɔ', 'ɡ', 'w', 'aɪ̃', 'ʌ', 'ɑ̃', 'z', 'eɪ', 'u', 'ʔ', 'ə̃', 'ɔɪ', 'n', 'aʊ', 'ɹ', 'm', 'dʒ', 'ĩ', 'ʒ', 'm̩', 't', 'ʊ̃', 'p', 'ɚ', 'ʊ', 's', 'i', 'j', 'l̩', 'ð', 'ŋ̍', 'tʃ', 'ʃ'}\n",
    "\n",
    "Not found: ['ŋ̍', 'oʊ̃', 'ɾ̃', 'æ̃', 'ʊ̃', 'm̩', 'ə̃', 'aɪ̃']"
   ]
  },
  {
   "cell_type": "code",
   "execution_count": 38,
   "metadata": {},
   "outputs": [],
   "source": [
    "buckeye = all_buckeye_speaker_splits(include_timestamps=True)  # scripted speech"
   ]
  },
  {
   "cell_type": "markdown",
   "metadata": {},
   "source": [
    "check audio length"
   ]
  },
  {
   "cell_type": "code",
   "execution_count": 39,
   "metadata": {},
   "outputs": [
    {
     "data": {
      "image/png": "[encoded data removed]",
      "text/plain": [
       "<Figure size 640x480 with 1 Axes>"
      ]
     },
     "metadata": {},
     "output_type": "display_data"
    }
   ],
   "source": [
    "audio_lens = []\n",
    "for sample in buckeye:\n",
    "    audio_lens.append(len(sample[1]) / 16000 / 60)\n",
    "plt.hist(audio_lens, bins=100);"
   ]
  },
  {
   "cell_type": "code",
   "execution_count": 40,
   "metadata": {},
   "outputs": [
    {
     "name": "stdout",
     "output_type": "stream",
     "text": [
      "total audio length in minutes: 1587.0021604166643\n"
     ]
    },
    {
     "data": {
      "image/png": "[encoded data removed]",
      "text/plain": [
       "<Figure size 640x480 with 1 Axes>"
      ]
     },
     "metadata": {},
     "output_type": "display_data"
    }
   ],
   "source": [
    "new_audio_lens = []\n",
    "refined_buckeye = []\n",
    "\n",
    "for sample in buckeye:\n",
    "    subsamples = split_utterance_into_multiple(sample[2], sample[1], 0.01, 30)\n",
    "    for subsample in subsamples:\n",
    "        new_audio_lens.append(len(subsample[1]) / 16000 / 60)\n",
    "        refined_buckeye.append((subsample[0], subsample[1]))\n",
    "\n",
    "#  plot audio lens\n",
    "plt.hist(np.array(new_audio_lens), bins=100)\n",
    "new_total_audio = sum(np.array(new_audio_lens))\n",
    "print(\"total audio length in minutes:\", new_total_audio)"
   ]
  },
  {
   "cell_type": "markdown",
   "metadata": {},
   "source": [
    "#### Doreco dataset\n",
    "**About**: 600 samples, 0.002-0.5 minutes, 44 minutes, no audio cropping \n",
    "\n",
    "Contains shorter really ambiguous short clips less than 1 second. future work may remove these\n",
    "\n",
    "Vocab: {'ŋ', 'b', 'd', 'ɪ', 'f', 'r', 'ð', 'ə', 'l', 'ɑ', 'k', 'v', 'a', 'æ', 'h', 'θ', 'ɔ', 'ɡ', 'w', 'ɒ', 'ʌ', 'z', 'u', 'n', 'e', 'dz', 'ɹ', 'm', 'dʒ', 'ts', 'ʒ', 't', 'p', 'ɡb', 'ɜ', 's', 'i', 'j', 'ʊ', 'tʃ', 'ʃ'}\n",
    "\n",
    "not found: ['dz', 'ɡb']"
   ]
  },
  {
   "cell_type": "code",
   "execution_count": 41,
   "metadata": {},
   "outputs": [],
   "source": [
    "doreco = DoReCoDataset(split=\"all\")"
   ]
  },
  {
   "cell_type": "markdown",
   "metadata": {},
   "source": [
    "check audio length"
   ]
  },
  {
   "cell_type": "code",
   "execution_count": 42,
   "metadata": {},
   "outputs": [
    {
     "name": "stdout",
     "output_type": "stream",
     "text": [
      "total audio 44.85913229166667\n"
     ]
    },
    {
     "data": {
      "image/png": "[encoded data removed]",
      "text/plain": [
       "<Figure size 640x480 with 1 Axes>"
      ]
     },
     "metadata": {},
     "output_type": "display_data"
    }
   ],
   "source": [
    "audio_lens = []\n",
    "for sample in doreco:\n",
    "    audio_lens.append(len(sample[1]) / 16_000 / 60)\n",
    "plt.hist(audio_lens, bins=100)\n",
    "print(\"total audio\", sum(audio_lens))"
   ]
  },
  {
   "cell_type": "markdown",
   "metadata": {},
   "source": [
    "#### Speech Ocean dataset\n",
    "**About**: 2481 samples 0.02-0.34 minutes, 170 minutes, no audio cropping\n",
    "\n",
    "Some samples are highly biased in their annotation. We will remove any samples have been mis-annotated with the unvoiced and voiced \"th\" but should have been annotated with \"z\" instead. \n",
    "\n",
    "vocab: {'ɛ', 'ŋ', 'b', 'd', 'ʍ', 'ɪ', 'f', 'ɾ̃', 'ə', 'l', 'ɑ', 'k', 'v', 'aɪ', 'oʊ', 'æ', 'n̩', 'h', 'θ', 'ɾ', 'ɔ', 'ɡ', 'w', 'ʌ', 'ʉ', 'z', 'ɝ', 'eɪ', 'u', 'ʔ', 'ɨ', 'ɔɪ', 'n', 'aʊ', 'ɹ', 'm', 'dʒ', 'ʒ', 'm̩', 't', 'p', 'ɚ', 'ʊ', 's', 'i', 'j', 'l̩', 'ð', 'tʃ', 'ʃ'}\n",
    "\n",
    "not found: ['ɝ', 'ɾ̃', 'ʍ', 'm̩']"
   ]
  },
  {
   "cell_type": "code",
   "execution_count": 43,
   "metadata": {},
   "outputs": [],
   "source": [
    "speech_ocean = SpeechOceanDataset(split=\"train\")"
   ]
  },
  {
   "cell_type": "markdown",
   "metadata": {},
   "source": [
    "removing biased annotations"
   ]
  },
  {
   "cell_type": "code",
   "execution_count": 44,
   "metadata": {},
   "outputs": [
    {
     "name": "stdout",
     "output_type": "stream",
     "text": [
      "Original number of samples: 2481\n",
      "Filtered number of samples: 1120\n"
     ]
    }
   ],
   "source": [
    "refined_speech_ocean = [\n",
    "    sample for sample in speech_ocean if \"ð\" not in sample[0] and \"θ\" not in sample[0]\n",
    "]\n",
    "\n",
    "print(f\"Original number of samples: {len(speech_ocean)}\")\n",
    "print(f\"Filtered number of samples: {len(refined_speech_ocean)}\")"
   ]
  },
  {
   "cell_type": "markdown",
   "metadata": {},
   "source": [
    "check audio length"
   ]
  },
  {
   "cell_type": "code",
   "execution_count": 45,
   "metadata": {},
   "outputs": [
    {
     "data": {
      "image/png": "[encoded data removed]",
      "text/plain": [
       "<Figure size 640x480 with 1 Axes>"
      ]
     },
     "metadata": {},
     "output_type": "display_data"
    }
   ],
   "source": [
    "audio_lens = []\n",
    "for sample in speech_ocean:\n",
    "    audio_lens.append(len(sample[1]) / 16000 / 60)\n",
    "plt.hist(audio_lens, bins=100);"
   ]
  },
  {
   "cell_type": "markdown",
   "metadata": {},
   "source": [
    "#### L2 Arctic Scripted \n",
    "**About**: 3599 samples, 0.015-0.155 min, 219 minutes, no audio cropping\n",
    "and remove stress markers\n",
    "\n",
    "vocab: {'ɛ', 'ŋ', 'b', 'd', 'ʍ', 'ɪ', 'f', 'ɾ̃', 'ə', 'l', 'ɑ', 'k', 'v', 'aɪ', 'oʊ', 'æ', 'n̩', 'h', 'θ', 'ɾ', 'ɔ', 'ɡ', 'w', 'ʌ', 'ʉ', 'z', 'ɝ', 'eɪ', 'u', 'ʔ', 'ɨ', 'ɔɪ', 'n', 'aʊ', 'ɹ', 'm', 'dʒ', 'ʒ', 'm̩', 't', 'p', 'ɚ', 'ʊ', 's', 'i', 'j', 'l̩', 'ð', 'tʃ', 'ʃ'}\n",
    "\n",
    "not found: ['ɝ', 'ɾ̃', 'ʍ', 'm̩']"
   ]
  },
  {
   "cell_type": "code",
   "execution_count": 46,
   "metadata": {},
   "outputs": [],
   "source": [
    "# load all_arctic_speaker_splits\n",
    "arctic = all_arctic_speaker_splits(include_timestamps=True)  # scripted speech\n",
    "for sample in arctic:\n",
    "    sample = (remove_stress_marker(sample[0]), sample[1])"
   ]
  },
  {
   "cell_type": "code",
   "execution_count": 47,
   "metadata": {},
   "outputs": [
    {
     "name": "stdout",
     "output_type": "stream",
     "text": [
      "arctic audio lens median: 0.05993125\n"
     ]
    },
    {
     "data": {
      "image/png": "[encoded data removed]",
      "text/plain": [
       "<Figure size 640x480 with 1 Axes>"
      ]
     },
     "metadata": {},
     "output_type": "display_data"
    }
   ],
   "source": [
    "audio_lens = []\n",
    "for sample in arctic:\n",
    "    audio_lens.append(len(sample[1]) / 16000 / 60)\n",
    "plt.hist(audio_lens, bins=100)\n",
    "print(f\"arctic audio lens median: {np.median(audio_lens)}\")"
   ]
  },
  {
   "cell_type": "markdown",
   "metadata": {},
   "source": [
    "### make train_df"
   ]
  },
  {
   "cell_type": "code",
   "execution_count": null,
   "metadata": {},
   "outputs": [],
   "source": [
    "# your dict of lists/tuples\n",
    "datasets = {\n",
    "    \"psst\": psst,\n",
    "    \"refined_speech_ocean\": refined_speech_ocean,\n",
    "    \"arctic\": arctic,\n",
    "    \"doreco\": doreco,\n",
    "    \"epadb\": epadb,\n",
    "    \"refined_buckeye\": refined_buckeye,\n",
    "    \"timit\": timit,  # high quality\n",
    "    \"refined_suitcase\": refined_suitcase,  # high quality\n",
    "}\n",
    "\n",
    "all_items = [(item[0], item[1]) for _, lst in datasets.items() for item in lst]"
   ]
  },
  {
   "cell_type": "code",
   "execution_count": null,
   "metadata": {},
   "outputs": [],
   "source": [
    "train_df = pd.DataFrame(all_items, columns=[\"audio\", \"ipa\"])"
   ]
  },
  {
   "cell_type": "markdown",
   "metadata": {},
   "source": [
    "### Mapping unmatched vocab tokens to approximations in Facebook"
   ]
  },
  {
   "cell_type": "code",
   "execution_count": 80,
   "metadata": {},
   "outputs": [],
   "source": [
    "UNMATCHED_VOCAB = {\n",
    "    \"ŋ̍\",\n",
    "    \"oʊ̃\",\n",
    "    \"ɡb\",\n",
    "    \"ʟ\",\n",
    "    \"ĩ\",\n",
    "    \"ɡɣ\",\n",
    "    \"ə̃\",\n",
    "    \"sʰ\",\n",
    "    \"aɪ̃\",\n",
    "    \"oʊ\",\n",
    "    \"θʰ\",\n",
    "    \"ə̥\",\n",
    "    \"ɾ̃\",\n",
    "    \"ʍ\",\n",
    "}"
   ]
  },
  {
   "cell_type": "code",
   "execution_count": 82,
   "metadata": {},
   "outputs": [],
   "source": [
    "partial_unmatched = {\n",
    "    \"ŋ̍\": [263, 39],\n",
    "    \"oʊ̃\": [225, 17, 31],\n",
    "    \"ɡb\": [21, 43],\n",
    "    \"ɡɣ\": [43, 99],\n",
    "    \"ə̃\": [10, 129],\n",
    "    \"sʰ\": [6, 220],\n",
    "    \"aɪ̃\": [7, 8, 48],\n",
    "    \"oʊ\": [31, 17],\n",
    "    \"θʰ\": [37, 220],\n",
    "    \"ə̥\": [10, 36],\n",
    "}"
   ]
  },
  {
   "cell_type": "code",
   "execution_count": 83,
   "metadata": {},
   "outputs": [],
   "source": [
    "full_unmatched = {\n",
    "    \"ʍ\": 28,  # maps to token w\n",
    "    \"ʟ\": 80,  # maps to token ɫ\n",
    "    \"ĩ\": 15,\n",
    "    \"ɾ̃\": 34,  # maps to token ɾ\n",
    "}\n",
    "\n",
    "# \"tʰ\": 95"
   ]
  },
  {
   "cell_type": "markdown",
   "metadata": {},
   "source": [
    "* Perfect Matches (MATCHED_VOCAB): Ensure perfect matches get Facebook weights directly, ignoring partial matches.\n",
    "* Partial Matches: Transfer Facebook weights to partial matches, averaging weights for tokens with multiple partial matches (e.g., \"dz\").\n",
    "* Unmatched Tokens: Use specified Facebook token IDs, transfer weights, and add a small epsilon for differentiation\n",
    "\n",
    "* Final Vocab: Combine partial_unmatched, full_unmatched, and MATCHED_VOCAB to create a condensed vocab.\n",
    "\n"
   ]
  },
  {
   "cell_type": "code",
   "execution_count": 84,
   "metadata": {},
   "outputs": [
    {
     "name": "stdout",
     "output_type": "stream",
     "text": [
      "✅  transfer complete\n",
      "   old head rows : 272\n",
      "   new head rows : 82\n",
      "   max old2id    : 271\n",
      "   max vocab id  : 81\n",
      "\n",
      "🚀  Condensed checkpoint saved to /Users/arunasrivastava/Koel/ML-eval/ML/notebooks/facebook53_condensed_unduped\n"
     ]
    }
   ],
   "source": [
    "# for weight transfer\n",
    "from transformers import (\n",
    "    AutoModelForCTC,\n",
    "    AutoTokenizer,\n",
    "    Wav2Vec2CTCTokenizer,\n",
    ")\n",
    "\n",
    "SPECIALS = [\"<pad>\", \"<s>\", \"</s>\", \"<unk>\"]\n",
    "\n",
    "SAVE_DIR = pathlib.Path(\"facebook53_condensed\")\n",
    "SAVE_DIR.mkdir(exist_ok=True)\n",
    "\n",
    "token_sequence = (\n",
    "    SPECIALS\n",
    "    + sorted(MATCHED_VOCAB)\n",
    "    + sorted(partial_unmatched.keys())\n",
    "    + sorted(full_unmatched.keys())\n",
    ")\n",
    "\n",
    "\n",
    "vocab_dict = {tok: idx for idx, tok in enumerate(token_sequence)}\n",
    "\n",
    "tok_dir = SAVE_DIR / \"tokenizer\"\n",
    "tok_dir.mkdir(exist_ok=True)\n",
    "(tok_dir / \"vocab.json\").write_text(\n",
    "    json.dumps(vocab_dict, ensure_ascii=False, indent=2)\n",
    ")\n",
    "\n",
    "tokenizer = Wav2Vec2CTCTokenizer(\n",
    "    str(tok_dir / \"vocab.json\"), pad_token=\"<pad>\", unk_token=\"<unk>\"\n",
    ")\n",
    "tokenizer.save_pretrained(tok_dir)\n",
    "\n",
    "# load pretrained model & stash old head\n",
    "base = AutoModelForCTC.from_pretrained(PRE_TRAINED_ID)\n",
    "old_W = base.lm_head.weight.data.clone()\n",
    "old_b = base.lm_head.bias.data.clone()\n",
    "\n",
    "# shrink lm_head & update vocab_size\n",
    "in_feats = base.lm_head.in_features\n",
    "base.lm_head = torch.nn.Linear(in_feats, len(vocab_dict), bias=True)\n",
    "base.config.vocab_size = len(vocab_dict)\n",
    "torch.nn.init.normal_(base.lm_head.weight, std=0.02)\n",
    "\n",
    "new_W, new_B = base.lm_head.weight.data, base.lm_head.bias.data\n",
    "old_tok = AutoTokenizer.from_pretrained(PRE_TRAINED_ID)\n",
    "old2id = old_tok.get_vocab()\n",
    "\n",
    "rng = torch.Generator().manual_seed(0)\n",
    "jitter = lambda v, s=0.01: v + torch.empty_like(v).uniform_(-s, s, generator=rng)\n",
    "\n",
    "# copy / average / jitter weights\n",
    "for tok in SPECIALS + list(MATCHED_VOCAB):\n",
    "    new_W[vocab_dict[tok]] = old_W[old2id[tok]]\n",
    "    new_B[vocab_dict[tok]] = old_b[old2id[tok]]\n",
    "\n",
    "for tok, ids in partial_unmatched.items():\n",
    "    new_W[vocab_dict[tok]] = torch.stack([old_W[i] for i in ids]).mean(0)\n",
    "    new_B[vocab_dict[tok]] = torch.stack([old_b[i] for i in ids]).mean(0)\n",
    "\n",
    "for tok, parent in full_unmatched.items():\n",
    "    new_W[vocab_dict[tok]] = jitter(old_W[parent])\n",
    "    new_B[vocab_dict[tok]] = old_b[parent]\n",
    "\n",
    "# bundle feature-extractor so processor loads cleanly\n",
    "fe = Wav2Vec2FeatureExtractor.from_pretrained(PRE_TRAINED_ID)\n",
    "Wav2Vec2Processor(feature_extractor=fe, tokenizer=tokenizer).save_pretrained(\n",
    "    SAVE_DIR\n",
    ")  # writes preprocessor_config.json\n",
    "\n",
    "# sanity-check & save model\n",
    "print(\" transfer complete\")\n",
    "print(f\"   old head rows : {old_W.size(0)}\")\n",
    "print(f\"   new head rows : {new_W.size(0)}\")\n",
    "print(f\"   max old2id    : {max(old2id.values())}\")\n",
    "print(f\"   max vocab id  : {max(vocab_dict.values())}\\n\")\n",
    "\n",
    "base.save_pretrained(SAVE_DIR)\n",
    "print(\"🚀  Condensed checkpoint saved to\", SAVE_DIR.resolve())"
   ]
  },
  {
   "cell_type": "code",
   "execution_count": 87,
   "metadata": {},
   "outputs": [],
   "source": [
    "CONDENSED_DIR = \"/Users/arunasrivastava/Koel/ML-eval/ML/notebooks/facebook53_condensed\""
   ]
  },
  {
   "cell_type": "markdown",
   "metadata": {},
   "source": [
    "sanity check on the revised vocab model:"
   ]
  },
  {
   "cell_type": "code",
   "execution_count": 89,
   "metadata": {},
   "outputs": [
    {
     "name": "stdout",
     "output_type": "stream",
     "text": [
      "aɪraɪtæktəstʌmptəʍeɪɪdɪɒtɪklɪ\n"
     ]
    }
   ],
   "source": [
    "ckpt = pathlib.Path(CONDENSED_DIR)\n",
    "processor = Wav2Vec2Processor.from_pretrained(CONDENSED_DIR)\n",
    "model = AutoModelForCTC.from_pretrained(CONDENSED_DIR).eval()\n",
    "\n",
    "wav, sr = torchaudio.load(\n",
    "    \"/Users/arunasrivastava/Koel/ML-eval/ML/data/ExamplesWithComments/TIMIT_sample_0.wav\"\n",
    ")\n",
    "if sr != 16_000:\n",
    "    wav = torchaudio.functional.resample(wav, sr, 16_000)\n",
    "\n",
    "with torch.no_grad():\n",
    "    logits = model(\n",
    "        processor(wav.squeeze(), sampling_rate=16_000, return_tensors=\"pt\").input_values\n",
    "    ).logits\n",
    "print(processor.tokenizer.batch_decode(logits.argmax(-1))[0])\n",
    "\n",
    "# should look something like:\n",
    "# prev = \"aɪɻaɪtæktəstʌmptəweɪɪdɪɒtɪklɪ\" (facebook)\n",
    "# curr = \"aɪraɪtæktəstʌmptəʍeɪɪdɪɒtɪklɪ\" (new)"
   ]
  },
  {
   "cell_type": "markdown",
   "metadata": {},
   "source": [
    "# hyperparam search\n"
   ]
  },
  {
   "cell_type": "code",
   "execution_count": null,
   "metadata": {},
   "outputs": [],
   "source": [
    "@dataclass\n",
    "class DataCollatorCTCWithPadding:\n",
    "    \"\"\"\n",
    "    Dynamically pad *both* the acoustic inputs and the target\n",
    "    label sequences for CTC training.\n",
    "\n",
    "    Notes\n",
    "    -----\n",
    "    • Speech features are padded with 0.0 (default supplied by\n",
    "      `Wav2Vec2Processor.pad`).\n",
    "    • Label padding indices are replaced with **–100**, so that\n",
    "      `nn.CTCLoss` ignores them.\n",
    "    \"\"\"\n",
    "\n",
    "    processor: Wav2Vec2Processor\n",
    "    padding: bool | str = True  # \"longest\" | \"max_length\" | True\n",
    "    pad_to_multiple_of: int | None = None  # e.g. 8 for tensor cores\n",
    "\n",
    "    def __call__(self, features: List[Dict[str, Any]]) -> Dict[str, torch.Tensor]:\n",
    "        # ─── 1) separate source and target sequences ──────────────────────────────\n",
    "        input_values = [f[\"input_values\"] for f in features]\n",
    "        labels = [f[\"labels\"] for f in features]\n",
    "\n",
    "        # ─── 2) pad acoustic inputs ──────────────────────────────────────────────\n",
    "        acoustic_batch = self.processor.pad(\n",
    "            {\"input_values\": input_values},\n",
    "            padding=self.padding,\n",
    "            pad_to_multiple_of=self.pad_to_multiple_of,\n",
    "            return_tensors=\"pt\",\n",
    "        )\n",
    "\n",
    "        # ─── 3) pad label sequences (using target processor branch) ──────────────\n",
    "        with self.processor.as_target_processor():\n",
    "            label_batch = self.processor.pad(\n",
    "                {\"input_ids\": labels},\n",
    "                padding=self.padding,\n",
    "                pad_to_multiple_of=self.pad_to_multiple_of,\n",
    "                return_tensors=\"pt\",\n",
    "            )\n",
    "\n",
    "        # ─── 4) replace label padding with -100 so CTCLoss ignores it ────────────\n",
    "        labels_padded = label_batch[\"input_ids\"]\n",
    "        padding_mask = label_batch[\"attention_mask\"].ne(1)  # 1 ↔ real token\n",
    "        labels_padded[padding_mask] = -100\n",
    "\n",
    "        # ─── 5) assemble final batch ─────────────────────────────────────────────\n",
    "        acoustic_batch[\"labels\"] = labels_padded\n",
    "        return acoustic_batch\n",
    "\n",
    "\n",
    "logger = logging.getLogger(__name__)\n",
    "\n",
    "\n",
    "def prepare_datasets(train_df, processor):\n",
    "    \"\"\"Split dataframe, resample audio, and tokenize IPA labels.\"\"\"\n",
    "    logger.info(\"Splitting dataset into train / eval …\")\n",
    "    train_data, eval_data = train_test_split(\n",
    "        train_df, test_size=0.20, random_state=42, shuffle=True\n",
    "    )\n",
    "\n",
    "    def process_row(row):\n",
    "        # ① audio → float32 @16 kHz\n",
    "        audio = preprocess_audio(row[\"audio\"])\n",
    "\n",
    "        # ② acoustic features (no padding yet)\n",
    "        inputs = processor(\n",
    "            audio, sampling_rate=TARGET_SAMPLE_RATE, return_tensors=None\n",
    "        )  # numpy 1-D\n",
    "        input_values = np.asarray(inputs[\"input_values\"][0], dtype=np.float32)\n",
    "\n",
    "        # ③ tokenize IPA label sequence\n",
    "        with processor.as_target_processor():\n",
    "            labels = processor(row[\"ipa\"]).input_ids\n",
    "\n",
    "        return {\n",
    "            \"input_values\": input_values,\n",
    "            \"labels\": labels,\n",
    "            # keep audio only if you need it for debugging / viz\n",
    "        }\n",
    "\n",
    "    # The incoming dataframe columns are [\"audio\", \"ipa\", …]\n",
    "    train_ds = Dataset.from_pandas(train_data)\n",
    "    eval_ds = Dataset.from_pandas(eval_data)\n",
    "\n",
    "    keep_cols = [\"input_values\", \"labels\"]\n",
    "\n",
    "    train_ds = train_ds.map(\n",
    "        process_row,\n",
    "        batched=False,\n",
    "        num_proc=NUM_PROC_MAP,\n",
    "        remove_columns=train_ds.column_names,  # drop originals\n",
    "    ).select_columns(keep_cols)\n",
    "\n",
    "    eval_ds = eval_ds.map(\n",
    "        process_row,\n",
    "        batched=False,\n",
    "        num_proc=NUM_PROC_MAP,\n",
    "        remove_columns=eval_ds.column_names,\n",
    "    ).select_columns(keep_cols)\n",
    "\n",
    "    return train_ds, eval_ds\n",
    "\n",
    "\n",
    "def preprocess_audio(audio_np: np.ndarray) -> np.ndarray:\n",
    "    \"\"\"\n",
    "    Ensures dtype == float32 (CTC models expect float32 tensors).\n",
    "    \"\"\"\n",
    "    return audio_np.astype(np.float32, copy=False)\n",
    "\n",
    "\n",
    "def prepare_model_and_processor(\n",
    "    freeze_feature_extractor: bool | None = None,\n",
    "    seed: int = RNG_SEED,\n",
    "):\n",
    "    \"\"\"\n",
    "    1. Loads tokenizer + fine-tuned weights from `condensed_dir`.\n",
    "    2. Loads the *feature extractor* from Facebook’s original model.\n",
    "    3. Combines both into a single `Wav2Vec2Processor`.\n",
    "    4. Optionally freezes the CNN frontend.\n",
    "    \"\"\"\n",
    "    set_seed(seed)\n",
    "\n",
    "    # ─── A) tokenizer & condensed model ───────────────────────────────────────\n",
    "    model = AutoModelForCTC.from_pretrained(CONDENSED_DIR)\n",
    "    tokenizer = model._get_name_or_path_tokenizer(CONDENSED_DIR)  # ↔ AutoCTCTokenizer\n",
    "\n",
    "    # ─── B) feature extractor from original checkpoint ────────────────────────\n",
    "    feat_extr = Wav2Vec2FeatureExtractor.from_pretrained(PRE_TRAINED_ID)\n",
    "\n",
    "    # ─── C) bundle into a Processor ───────────────────────────────────────────\n",
    "    processor = Wav2Vec2Processor(feature_extractor=feat_extr, tokenizer=tokenizer)\n",
    "\n",
    "    # ─── D) optionally freeze the CNN encoder ─────────────────────────────────\n",
    "    if freeze_feature_extractor:\n",
    "        model.feature_extractor._freeze_feature_encoder()\n",
    "        for p in model.feature_extractor.parameters():\n",
    "            p.requires_grad = False\n",
    "\n",
    "    return model, processor\n",
    "\n",
    "\n",
    "def define_sweep_config():\n",
    "    return {\n",
    "        \"name\": \"wav2vec2_ipa_condensed\",\n",
    "        \"method\": \"random\",\n",
    "        \"metric\": {\"name\": \"eval_wer\", \"goal\": \"minimize\"},\n",
    "        \"parameters\": {\n",
    "            # optimiser\n",
    "            \"learning_rate\": {\n",
    "                \"distribution\": \"log_uniform_values\",\n",
    "                \"min\": 1e-5,\n",
    "                \"max\": 5e-4,\n",
    "            },\n",
    "            \"weight_decay\": {\"values\": [0.0, 0.01, 0.05]},\n",
    "            # training regime\n",
    "            \"train_batch_size\": {\"values\": [4, 8]},\n",
    "            \"gradient_accumulation_steps\": {\"values\": [2, 4]},\n",
    "            \"num_train_epochs\": {\"values\": [5, 10, 15]},\n",
    "            \"warmup_steps\": {\"values\": [500, 1000, 2000]},\n",
    "            # SpecAugment (time masking prob)\n",
    "            \"mask_time_prob\": {\n",
    "                \"distribution\": \"uniform\",\n",
    "                \"min\": 0.05,\n",
    "                \"max\": 0.15,\n",
    "            },\n",
    "            # model variant\n",
    "            \"freeze_feature_extractor\": {\"values\": [True, False]},\n",
    "        },\n",
    "    }\n",
    "\n",
    "\n",
    "def train_model(train_df, condensed_dir, config=None):\n",
    "    \"\"\"\n",
    "    Launches one training run with hyper-params from wandb.config.\n",
    "    \"\"\"\n",
    "    wandb.init(config=config)\n",
    "    cfg = wandb.config\n",
    "\n",
    "    # 1) model / processor ------------------------------------------------------\n",
    "    model, processor = prepare_model_and_processor(\n",
    "        condensed_dir=condensed_dir,\n",
    "        freeze_feature_extractor=cfg.freeze_feature_extractor,\n",
    "    )\n",
    "\n",
    "    # 2) datasets ---------------------------------------------------------------\n",
    "    train_ds, eval_ds = prepare_datasets(train_df, processor)\n",
    "\n",
    "    collator = DataCollatorCTCWithPadding(\n",
    "        processor,\n",
    "        padding=\"longest\",\n",
    "        pad_to_multiple_of=8,  # helps Tensor Cores\n",
    "    )\n",
    "\n",
    "    # 3) evaluation metric (WER) -----------------------------------------------\n",
    "    def compute_metrics(pred):\n",
    "        pred_ids = np.argmax(pred.predictions, axis=-1)\n",
    "        pred_text = processor.batch_decode(pred_ids)\n",
    "\n",
    "        # replace -100 with pad_token_id before decoding\n",
    "        label_ids = np.where(\n",
    "            pred.label_ids != -100, pred.label_ids, processor.tokenizer.pad_token_id\n",
    "        )\n",
    "        label_text = processor.batch_decode(label_ids, group_tokens=False)\n",
    "\n",
    "        return {\"per\": per(label_text, pred_text)}\n",
    "\n",
    "    # 4) HF Trainer -------------------------------------------------------------\n",
    "    args = TrainingArguments(\n",
    "        output_dir=f\"./runs/{wandb.run.id}\",\n",
    "        learning_rate=cfg.learning_rate,\n",
    "        per_device_train_batch_size=cfg.train_batch_size,\n",
    "        per_device_eval_batch_size=cfg.train_batch_size,\n",
    "        gradient_accumulation_steps=cfg.gradient_accumulation_steps,\n",
    "        num_train_epochs=cfg.num_train_epochs,\n",
    "        warmup_steps=cfg.warmup_steps,\n",
    "        weight_decay=cfg.weight_decay,\n",
    "        fp16=torch.cuda.is_available(),\n",
    "        evaluation_strategy=\"epoch\",\n",
    "        save_strategy=\"epoch\",\n",
    "        logging_steps=50,\n",
    "        dataloader_num_workers=4,\n",
    "        save_total_limit=2,\n",
    "        report_to=[\"wandb\"],\n",
    "    )\n",
    "\n",
    "    # propagate SpecAugment param\n",
    "    model.config.mask_time_prob = cfg.mask_time_prob\n",
    "\n",
    "    trainer = Trainer(\n",
    "        model=model,\n",
    "        args=args,\n",
    "        train_dataset=train_ds,\n",
    "        eval_dataset=eval_ds,\n",
    "        data_collator=collator,\n",
    "        tokenizer=processor.feature_extractor,\n",
    "        compute_metrics=compute_metrics,\n",
    "    )\n",
    "\n",
    "    trainer.train()\n",
    "    eval_metrics = trainer.evaluate()\n",
    "    wandb.log({\"eval_wer\": eval_metrics[\"eval_wer\"]})\n",
    "    wandb.finish()\n",
    "\n",
    "\n",
    "# --- Sweep launcher --------------------------------------------------------------\n",
    "def run_sweep(train_df, condensed_dir, sweep_trials: int = 30):\n",
    "    \"\"\"\n",
    "    Creates the sweep → spawns an agent that runs `sweep_trials` jobs.\n",
    "    \"\"\"\n",
    "    sweep_id = wandb.sweep(\n",
    "        define_sweep_config(),\n",
    "        project=\"wav2vec2_ipa_condensed\",\n",
    "    )\n",
    "\n",
    "    agent_fn = functools.partial(\n",
    "        train_model,\n",
    "        train_df=train_df,\n",
    "        condensed_dir=condensed_dir,\n",
    "    )\n",
    "\n",
    "    wandb.agent(sweep_id, function=agent_fn, count=sweep_trials)\n",
    "    return sweep_id\n",
    "\n",
    "\n",
    "# --- Script entry-point ------------------------------------------------------------\n",
    "if __name__ == \"__main__\":\n",
    "    # assume `train_df` already exists in your notebook namespace\n",
    "    SWEEP_ID = run_sweep(\n",
    "        train_df=train_df,\n",
    "        condensed_dir=\"notebooks/facebook60_condensed\",\n",
    "        sweep_trials=30,  # adjust\n",
    "    )\n",
    "    print(\"🚀 sweep launched lets goooo:\", SWEEP_ID)"
   ]
  },
  {
   "cell_type": "markdown",
   "metadata": {},
   "source": [
    "## V2 resize finetuning "
   ]
  },
  {
   "cell_type": "code",
   "execution_count": null,
   "metadata": {},
   "outputs": [],
   "source": [
    "import json\n",
    "import torch\n",
    "import logging\n",
    "import tempfile\n",
    "import wandb\n",
    "import numpy as np\n",
    "from transformers import (\n",
    "    AutoProcessor,\n",
    "    AutoModelForCTC,\n",
    "    Trainer,\n",
    "    TrainingArguments,\n",
    "    Wav2Vec2CTCTokenizer,\n",
    "    EarlyStoppingCallback,\n",
    ")\n",
    "from datasets import Dataset\n",
    "from dataclasses import dataclass\n",
    "from typing import Dict, List, Union, Any\n",
    "import torchaudio\n",
    "from sklearn.model_selection import train_test_split\n",
    "import os\n",
    "import time\n",
    "from datetime import datetime\n",
    "import GPUtil\n",
    "import psutil\n",
    "\n",
    "# Constants and logging setup as before\n",
    "SAMPLING_RATE = 16000\n",
    "MAX_AUDIO_LENGTH = 160000\n",
    "MAX_LABEL_LENGTH = 100\n",
    "\n",
    "logging.basicConfig(level=logging.INFO)\n",
    "logger = logging.getLogger(__name__)\n",
    "\n",
    "\n",
    "class TrialTimeTracker:\n",
    "    def __init__(self, output_file):\n",
    "        self.output_file = output_file\n",
    "        self.current_trial = None\n",
    "        self.start_time = None\n",
    "\n",
    "    def start_trial(self, config):\n",
    "        self.current_trial = {\n",
    "            \"config\": config,\n",
    "            \"start_time\": datetime.now().isoformat(),\n",
    "            \"gpu_type\": self._get_gpu_type(),\n",
    "            \"timestamps\": [],\n",
    "        }\n",
    "        self.start_time = time.time()\n",
    "\n",
    "    def log_timestamp(self, step_name):\n",
    "        if self.current_trial:\n",
    "            gpu_metrics = self._get_gpu_metrics()\n",
    "            timestamp = {\n",
    "                \"step\": step_name,\n",
    "                \"elapsed_seconds\": time.time() - self.start_time,\n",
    "                **gpu_metrics,\n",
    "            }\n",
    "            self.current_trial[\"timestamps\"].append(timestamp)\n",
    "            logger.info(\n",
    "                f\"Step {step_name} completed after {timestamp['elapsed_seconds']:.2f}s\"\n",
    "            )\n",
    "\n",
    "    def _get_gpu_type(self):\n",
    "        try:\n",
    "            gpu = GPUtil.getGPUs()[0]\n",
    "            return gpu.name\n",
    "        except:\n",
    "            return \"Unknown\"\n",
    "\n",
    "    def _get_gpu_metrics(self):\n",
    "        try:\n",
    "            gpu = GPUtil.getGPUs()[0]\n",
    "            return {\n",
    "                \"gpu_utilization\": gpu.load * 100,\n",
    "                \"gpu_memory_used\": gpu.memoryUsed,\n",
    "                \"gpu_memory_total\": gpu.memoryTotal,\n",
    "            }\n",
    "        except:\n",
    "            return {\n",
    "                \"gpu_utilization\": None,\n",
    "                \"gpu_memory_used\": None,\n",
    "                \"gpu_memory_total\": None,\n",
    "            }\n",
    "\n",
    "\n",
    "@dataclass\n",
    "class DataCollatorCTCWithPadding:\n",
    "    # Same as before\n",
    "    processor: AutoProcessor\n",
    "    padding: Union[bool, str] = \"longest\"\n",
    "\n",
    "    def __call__(\n",
    "        self, features: List[Dict[str, Union[List[int], torch.Tensor]]]\n",
    "    ) -> Dict[str, torch.Tensor]:\n",
    "        max_length = min(\n",
    "            max(len(feature[\"input_values\"]) for feature in features), MAX_AUDIO_LENGTH\n",
    "        )\n",
    "        padded_inputs = []\n",
    "        attention_mask = []\n",
    "\n",
    "        for feature in features:\n",
    "            input_length = len(feature[\"input_values\"])\n",
    "            padding_length = max_length - input_length\n",
    "\n",
    "            if isinstance(feature[\"input_values\"], list):\n",
    "                input_values = torch.tensor(feature[\"input_values\"])\n",
    "            else:\n",
    "                input_values = feature[\"input_values\"]\n",
    "\n",
    "            input_values = input_values.squeeze()\n",
    "\n",
    "            if padding_length > 0:\n",
    "                padded_input = torch.nn.functional.pad(\n",
    "                    input_values, (0, padding_length)\n",
    "                )\n",
    "                attention_mask.append(\n",
    "                    torch.cat([torch.ones(input_length), torch.zeros(padding_length)])\n",
    "                )\n",
    "            else:\n",
    "                padded_input = input_values\n",
    "                attention_mask.append(torch.ones(input_length))\n",
    "\n",
    "            padded_inputs.append(padded_input)\n",
    "\n",
    "        batch = {\n",
    "            \"input_values\": torch.stack(padded_inputs),\n",
    "            \"attention_mask\": torch.stack(attention_mask),\n",
    "        }\n",
    "\n",
    "        with self.processor.as_target_processor():\n",
    "            label_features = [{\"input_ids\": feature[\"labels\"]} for feature in features]\n",
    "            labels_batch = self.processor.pad(\n",
    "                label_features,\n",
    "                padding=self.padding,\n",
    "                return_tensors=\"pt\",\n",
    "            )\n",
    "\n",
    "        labels = labels_batch[\"input_ids\"].masked_fill(\n",
    "            labels_batch.attention_mask.ne(1), -100\n",
    "        )\n",
    "        batch[\"labels\"] = labels\n",
    "\n",
    "        return batch\n",
    "\n",
    "\n",
    "def prepare_model_and_processor(pre_trained_id, timit_vocab, base_dir):\n",
    "    \"\"\"Prepare model and processor with vocabulary resizing\"\"\"\n",
    "    logger.info(\"Loading pretrained model and processor...\")\n",
    "\n",
    "    os.makedirs(base_dir, exist_ok=True)\n",
    "    processor = AutoProcessor.from_pretrained(pre_trained_id)\n",
    "    model = AutoModelForCTC.from_pretrained(pre_trained_id)\n",
    "\n",
    "    old_vocab = processor.tokenizer.get_vocab()\n",
    "    logger.info(f\"Initial vocabulary size: {len(old_vocab)}\")\n",
    "\n",
    "    special_tokens = {\"[PAD]\": 0, \"<s>\": 1, \"</s>\": 2, \"[UNK]\": 3}\n",
    "\n",
    "    regular_tokens = sorted(list(timit_vocab - set([\"<pad>\", \"<unk>\"])))\n",
    "    vocab = {**special_tokens}\n",
    "\n",
    "    for idx, token in enumerate(regular_tokens):\n",
    "        vocab[token] = idx + len(special_tokens)\n",
    "\n",
    "    logger.info(f\"New vocabulary size: {len(vocab)}\")\n",
    "\n",
    "    vocab_file = os.path.join(base_dir, \"vocab.json\")\n",
    "    with open(vocab_file, \"w\") as f:\n",
    "        json.dump(vocab, f, indent=2)\n",
    "\n",
    "    tokenizer_config = {\n",
    "        \"vocab\": vocab,\n",
    "        \"pad_token\": \"[PAD]\",\n",
    "        \"bos_token\": \"<s>\",\n",
    "        \"eos_token\": \"</s>\",\n",
    "        \"unk_token\": \"[UNK]\",\n",
    "    }\n",
    "\n",
    "    with tempfile.NamedTemporaryFile(mode=\"w\", delete=False) as f:\n",
    "        json.dump(vocab, f)\n",
    "        vocab_path = f.name\n",
    "\n",
    "    new_tokenizer = Wav2Vec2CTCTokenizer(\n",
    "        vocab_path, **{k: v for k, v in tokenizer_config.items() if k != \"vocab\"}\n",
    "    )\n",
    "\n",
    "    processor.tokenizer = new_tokenizer\n",
    "\n",
    "    # Save processor configuration\n",
    "    processor_path = os.path.join(base_dir, \"processor\")\n",
    "    processor.save_pretrained(processor_path)\n",
    "\n",
    "    # Resize the linear head\n",
    "    old_weights = model.lm_head.weight.data\n",
    "    old_bias = model.lm_head.bias.data\n",
    "\n",
    "    new_layer = torch.nn.Linear(model.lm_head.in_features, len(processor.tokenizer))\n",
    "    torch.nn.init.xavier_uniform_(new_layer.weight.data, gain=0.1)\n",
    "    new_layer.bias.data.uniform_(-0.1, 0.1)\n",
    "\n",
    "    transfer_count = 0\n",
    "    for token, new_idx in vocab.items():\n",
    "        if token in old_vocab:\n",
    "            old_idx = old_vocab[token]\n",
    "            new_layer.weight.data[new_idx, :] = old_weights[old_idx, :]\n",
    "            new_layer.bias.data[new_idx] = old_bias[old_idx]\n",
    "            transfer_count += 1\n",
    "\n",
    "    logger.info(f\"Transferred weights for {transfer_count} tokens\")\n",
    "\n",
    "    model.lm_head = new_layer\n",
    "    model.config.vocab_size = len(vocab)\n",
    "    model.config.pad_token_id = special_tokens[\"[PAD]\"]\n",
    "    model.config.bos_token_id = special_tokens[\"<s>\"]\n",
    "    model.config.eos_token_id = special_tokens[\"</s>\"]\n",
    "    model.config.unk_token_id = special_tokens[\"[UNK]\"]\n",
    "\n",
    "    return model, processor\n",
    "\n",
    "\n",
    "def prepare_datasets(train_df, processor):\n",
    "    \"\"\"Dataset preparation with optimized batch processing\"\"\"\n",
    "    # Same as before\n",
    "    logger.info(\"Splitting dataset into train and evaluation...\")\n",
    "\n",
    "    train_data, eval_data = train_test_split(train_df, test_size=0.2, random_state=42)\n",
    "\n",
    "    def process_data(batch):\n",
    "        audio = preprocess_audio(batch[\"audio\"])\n",
    "        audio = audio.squeeze()\n",
    "\n",
    "        inputs = processor(audio, sampling_rate=SAMPLING_RATE, return_tensors=None)\n",
    "\n",
    "        input_values = np.squeeze(inputs[\"input_values\"])\n",
    "\n",
    "        with processor.as_target_processor():\n",
    "            labels = processor(batch[\"ipa\"]).input_ids\n",
    "\n",
    "        return {\"input_values\": input_values, \"labels\": labels, \"audio\": audio}\n",
    "\n",
    "    train_dataset = Dataset.from_pandas(train_data)\n",
    "    eval_dataset = Dataset.from_pandas(eval_data)\n",
    "\n",
    "    train_dataset = train_dataset.map(\n",
    "        process_data,\n",
    "        batch_size=32,\n",
    "        num_proc=4,\n",
    "        remove_columns=[col for col in train_dataset.column_names if col != \"audio\"],\n",
    "    )\n",
    "    eval_dataset = eval_dataset.map(\n",
    "        process_data,\n",
    "        batch_size=32,\n",
    "        num_proc=4,\n",
    "        remove_columns=[col for col in eval_dataset.column_names if col != \"audio\"],\n",
    "    )\n",
    "\n",
    "    return train_dataset, eval_dataset\n",
    "\n",
    "\n",
    "def preprocess_audio(audio_input):\n",
    "    \"\"\"Audio preprocessing function\"\"\"\n",
    "    # Same as before\n",
    "    if isinstance(audio_input, str):\n",
    "        waveform, sample_rate = torchaudio.load(audio_input)\n",
    "        audio_numpy = waveform.squeeze().numpy()\n",
    "    elif isinstance(audio_input, (list, np.ndarray, torch.Tensor)):\n",
    "        audio_numpy = np.array(audio_input, dtype=np.float32)\n",
    "    else:\n",
    "        raise ValueError(f\"Unsupported audio type: {type(audio_input)}\")\n",
    "\n",
    "    audio_numpy = audio_numpy.astype(np.float32)\n",
    "    if len(audio_numpy.shape) > 1:\n",
    "        audio_numpy = np.mean(audio_numpy, axis=0)\n",
    "\n",
    "    if np.abs(audio_numpy).max() > 1:\n",
    "        audio_numpy = audio_numpy / np.abs(audio_numpy).max()\n",
    "\n",
    "    if len(audio_numpy) > MAX_AUDIO_LENGTH:\n",
    "        audio_numpy = audio_numpy[:MAX_AUDIO_LENGTH]\n",
    "    elif len(audio_numpy) < MAX_AUDIO_LENGTH:\n",
    "        padding = np.zeros(MAX_AUDIO_LENGTH - len(audio_numpy), dtype=np.float32)\n",
    "        audio_numpy = np.concatenate([audio_numpy, padding])\n",
    "\n",
    "    return audio_numpy\n",
    "\n",
    "\n",
    "def run_finetuning(train_df, pre_trained_id, timit_vocab, output_dir):\n",
    "    \"\"\"Run finetuning with optimal hyperparameters\"\"\"\n",
    "    tracker = TrialTimeTracker(os.path.join(output_dir, \"finetuning_log.jsonl\"))\n",
    "\n",
    "    config = {\n",
    "        \"learning_rate\": 9.999999999999999e-05,\n",
    "        \"per_device_train_batch_size\": 4,\n",
    "        \"per_device_eval_batch_size\": 4,\n",
    "        \"gradient_accumulation_steps\": 2,\n",
    "        \"warmup_ratio\": 0.1,\n",
    "        \"weight_decay\": 0.01,\n",
    "        \"max_grad_norm\": 1.0,\n",
    "        \"adam_beta1\": 0.9,\n",
    "        \"adam_beta2\": 0.975,\n",
    "        \"adam_epsilon\": 1e-08,\n",
    "    }\n",
    "\n",
    "    wandb.init(\n",
    "        project=\"xlsr-phoneme-finetuning-final\",\n",
    "        name=\"finetuning_optimal_params\",\n",
    "        config=config,\n",
    "    )\n",
    "\n",
    "    tracker.start_trial(config)\n",
    "\n",
    "    tracker.log_timestamp(\"model_init_start\")\n",
    "    model, processor = prepare_model_and_processor(\n",
    "        pre_trained_id, timit_vocab, output_dir\n",
    "    )\n",
    "    model.gradient_checkpointing_enable()\n",
    "    tracker.log_timestamp(\"model_init_complete\")\n",
    "\n",
    "    tracker.log_timestamp(\"dataset_prep_start\")\n",
    "    train_dataset, eval_dataset = prepare_datasets(train_df, processor)\n",
    "    tracker.log_timestamp(\"dataset_prep_complete\")\n",
    "\n",
    "    training_args = TrainingArguments(\n",
    "        output_dir=output_dir,\n",
    "        **config,\n",
    "        num_train_epochs=20,\n",
    "        logging_steps=50,\n",
    "        save_steps=100,\n",
    "        eval_steps=100,\n",
    "        evaluation_strategy=\"steps\",\n",
    "        load_best_model_at_end=True,\n",
    "        metric_for_best_model=\"eval_loss\",\n",
    "        greater_is_better=False,\n",
    "        save_strategy=\"steps\",\n",
    "        save_total_limit=2,\n",
    "        fp16=True,\n",
    "        dataloader_num_workers=16,\n",
    "        gradient_checkpointing=True,\n",
    "        dataloader_prefetch_factor=4,\n",
    "        ddp_find_unused_parameters=False,\n",
    "    )\n",
    "\n",
    "    trainer = Trainer(\n",
    "        model=model,\n",
    "        args=training_args,\n",
    "        train_dataset=train_dataset,\n",
    "        eval_dataset=eval_dataset,\n",
    "        data_collator=DataCollatorCTCWithPadding(\n",
    "            processor=processor, padding=\"longest\"\n",
    "        ),\n",
    "        callbacks=[EarlyStoppingCallback(early_stopping_patience=5)],\n",
    "    )\n",
    "\n",
    "    tracker.log_timestamp(\"training_start\")\n",
    "    train_result = trainer.train()\n",
    "    tracker.log_timestamp(\"training_complete\")\n",
    "\n",
    "    eval_result = trainer.evaluate()\n",
    "    tracker.log_timestamp(\"evaluation_complete\")\n",
    "\n",
    "    logger.info(\"Saving final model and processor...\")\n",
    "    trainer.save_model(os.path.join(output_dir, \"final_model\"))\n",
    "    processor.save_pretrained(os.path.join(output_dir, \"final_processor\"))\n",
    "\n",
    "    wandb.finish()\n",
    "\n",
    "\n",
    "if __name__ == \"__main__\":\n",
    "    run_finetuning(\n",
    "        train_df=train_df,  # Your training DataFrame\n",
    "        pre_trained_id=PRE_TRAINED_ID,  # Your pretrained model ID\n",
    "        timit_vocab=timit_vocab,  # Your TIMIT vocabulary set\n",
    "        output_dir=\"./results/finetune_resize_final\",\n",
    "    )"
   ]
  },
  {
   "cell_type": "markdown",
   "metadata": {},
   "source": [
    "## Save Model on Hugging Face"
   ]
  },
  {
   "cell_type": "code",
   "execution_count": null,
   "metadata": {},
   "outputs": [],
   "source": [
    "from transformers import AutoModelForCTC, Wav2Vec2Processor\n",
    "from huggingface_hub import login\n",
    "\n",
    "# Log in to Hugging Face (if not already logged in)\n",
    "# login(\"your-huggingface-api-token\")\n",
    "\n",
    "# Load the model and processor from your local directory\n",
    "model = AutoModelForCTC.from_pretrained(\"/home/arunasrivastava/ML/notebooks/results-b0\")\n",
    "processor = Wav2Vec2Processor.from_pretrained(\n",
    "    \"/home/arunasrivastava/ML/notebooks/results-b0\"\n",
    ")\n",
    "\n",
    "# Specify the directory where you want to save the model\n",
    "save_directory = \"./xlsr-timit-b0\"\n",
    "\n",
    "# Save and upload to Hugging Face Model Hub under an organization\n",
    "model.save_pretrained(\n",
    "    save_directory, push_to_hub=True, repo_id=\"KoelLabs/xlsr-timit-b0\"\n",
    ")\n",
    "processor.save_pretrained(save_directory)"
   ]
  },
  {
   "cell_type": "markdown",
   "metadata": {},
   "source": [
    "# Instructions to Upload Model to Hugging Face\n",
    "\n",
    "1. **Login to Hugging Face**  \n",
    "   Run the following command to log in to your Hugging Face account:\n",
    "   ```bash\n",
    "   huggingface-cli login\n"
   ]
  },
  {
   "cell_type": "markdown",
   "metadata": {},
   "source": [
    "2. **Create a Repository**  \n",
    "   Run the following command to log in to your Hugging Face account:\n",
    "   ```bash\n",
    "   huggingface-cli repo create your-model-name --organization your-org-name"
   ]
  },
  {
   "cell_type": "markdown",
   "metadata": {},
   "source": [
    "3. **Git clone**  \n",
    "   Run the following command to clone your repo:\n",
    "   ```bash \n",
    "   git clone https://huggingface.co/your-org-name/your-model-name"
   ]
  },
  {
   "cell_type": "markdown",
   "metadata": {},
   "source": [
    "4. **Upload Model**  (if you did not make it on Hugging Face already)\n",
    "   Run the following command to clone your repo:\n",
    "   ```bash \n",
    "   huggingface-cli repo upload --path ./<path here>\n"
   ]
  },
  {
   "cell_type": "markdown",
   "metadata": {},
   "source": [
    "5. **Move Other Files**  \n",
    "   Run the following command to copy each file into the repo:\n",
    "   ```bash\n",
    "   cp -r ./<path here> <your-cloned-repo-folder> "
   ]
  },
  {
   "cell_type": "markdown",
   "metadata": {},
   "source": [
    "6. **Stage & Commit!**\n",
    "    Run the following git commands\n",
    "    ```bash\n",
    "    git add README.md\n",
    "    git commit -m \"Add model card\"\n",
    "    git push\n"
   ]
  },
  {
   "cell_type": "markdown",
   "metadata": {},
   "source": [
    "### YAAAAY CONGRATULATIONS "
   ]
  },
  {
   "cell_type": "markdown",
   "metadata": {},
   "source": [
    "# (Optional) Hyperparam search\n"
   ]
  },
  {
   "cell_type": "code",
   "execution_count": null,
   "metadata": {},
   "outputs": [],
   "source": []
  }
 ],
 "metadata": {
  "kernelspec": {
   "display_name": "venv",
   "language": "python",
   "name": "python3"
  },
  "language_info": {
   "codemirror_mode": {
    "name": "ipython",
    "version": 3
   },
   "file_extension": ".py",
   "mimetype": "text/x-python",
   "name": "python",
   "nbconvert_exporter": "python",
   "pygments_lexer": "ipython3",
   "version": "3.8.10"
  }
 },
 "nbformat": 4,
 "nbformat_minor": 2
}
