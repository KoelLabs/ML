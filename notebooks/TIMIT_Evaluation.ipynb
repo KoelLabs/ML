{
 "cells": [
  {
   "cell_type": "code",
   "execution_count": 98,
   "metadata": {},
   "outputs": [],
   "source": [
    "import numpy as np\n",
    "import zipfile\n",
    "from datasets import Dataset\n",
    "import pandas as pd\n",
    "\n",
    "import os\n",
    "# run as much as possible accelerated by apple silicon, fall back to cpu if not possible\n",
    "os.environ[\"PYTORCH_ENABLE_MPS_FALLBACK\"] = \"1\"\n",
    "import torch\n",
    "\n",
    "import sys\n",
    "sys.path.append('..')\n",
    "from scripts.audio import audio_file_to_array\n",
    "from scripts.ipa import timit2ipa\n",
    "from scripts.ipa import filter_chars"
   ]
  },
  {
   "cell_type": "code",
   "execution_count": 14,
   "metadata": {},
   "outputs": [],
   "source": [
    "import sys, os\n",
    "sys.path.append('..')\n",
    "from scripts.eval_tests.panphon_model_eval import panphon_model_eval "
   ]
  },
  {
   "cell_type": "code",
   "execution_count": 15,
   "metadata": {},
   "outputs": [],
   "source": [
    "# set espeak library path for macOS\n",
    "if sys.platform == \"darwin\":\n",
    "    from phonemizer.backend.espeak.wrapper import EspeakWrapper\n",
    "\n",
    "    _ESPEAK_LIBRARY = \"/opt/homebrew/Cellar/espeak/1.48.04_1/lib/libespeak.1.1.48.dylib\"\n",
    "    EspeakWrapper.set_library(_ESPEAK_LIBRARY)"
   ]
  },
  {
   "cell_type": "code",
   "execution_count": 16,
   "metadata": {},
   "outputs": [],
   "source": [
    "from transformers import AutoProcessor, AutoModelForCTC, AutoTokenizer, AutoFeatureExtractor"
   ]
  },
  {
   "cell_type": "code",
   "execution_count": 17,
   "metadata": {},
   "outputs": [],
   "source": [
    "PRE_TRAINED_ID = \"facebook/wav2vec2-lv-60-espeak-cv-ft\""
   ]
  },
  {
   "cell_type": "markdown",
   "metadata": {},
   "source": [
    "# Load Data"
   ]
  },
  {
   "cell_type": "code",
   "execution_count": 18,
   "metadata": {},
   "outputs": [],
   "source": [
    "timit = zipfile.ZipFile('../.data/TIMIT.zip', 'r')\n",
    "timit_files = timit.namelist()"
   ]
  },
  {
   "cell_type": "code",
   "execution_count": 19,
   "metadata": {},
   "outputs": [],
   "source": [
    "\n",
    "test_files = list(set(map(lambda x: x.split('.')[0], filter(lambda x: x.startswith('data/TEST'), timit_files))))"
   ]
  },
  {
   "cell_type": "code",
   "execution_count": 21,
   "metadata": {},
   "outputs": [],
   "source": [
    "WAV_HEADER_SIZE = 44\n",
    "def zipped_wav_to_array(filename):\n",
    "    with timit.open(filename) as wav_file:\n",
    "        return np.frombuffer(wav_file.read(), dtype=np.int16)[WAV_HEADER_SIZE//2:]"
   ]
  },
  {
   "cell_type": "code",
   "execution_count": 120,
   "metadata": {},
   "outputs": [
    {
     "name": "stdout",
     "output_type": "stream",
     "text": [
      "dʒ\n"
     ]
    }
   ],
   "source": [
    "def remove_tie_symbol(phoneme):\n",
    "    # Replace the tie symbol (U+032F) in the affricate 'd͡ʒ' with an empty string\n",
    "    return phoneme.replace('͡', '')  # This removes the tie symbol from the phoneme\n",
    "\n",
    "# Example usage:\n",
    "phoneme = 'd͡ʒ'\n",
    "ipa_phonemes = remove_tie_symbol(phoneme)\n",
    "print(ipa_phonemes)  # Output will be 'dʒ'\n"
   ]
  },
  {
   "cell_type": "code",
   "execution_count": 124,
   "metadata": {},
   "outputs": [
    {
     "data": {
      "text/html": [
       "<div>\n",
       "<style scoped>\n",
       "    .dataframe tbody tr th:only-of-type {\n",
       "        vertical-align: middle;\n",
       "    }\n",
       "\n",
       "    .dataframe tbody tr th {\n",
       "        vertical-align: top;\n",
       "    }\n",
       "\n",
       "    .dataframe thead th {\n",
       "        text-align: right;\n",
       "    }\n",
       "</style>\n",
       "<table border=\"1\" class=\"dataframe\">\n",
       "  <thead>\n",
       "    <tr style=\"text-align: right;\">\n",
       "      <th></th>\n",
       "      <th>audio</th>\n",
       "      <th>ipa</th>\n",
       "      <th>phoneme_starts</th>\n",
       "      <th>phoneme_ends</th>\n",
       "    </tr>\n",
       "  </thead>\n",
       "  <tbody>\n",
       "    <tr>\n",
       "      <th>0</th>\n",
       "      <td>[25971, 30303, 29285, 26995, 28271, 11552, 131...</td>\n",
       "      <td>jʌŋstɹzlʌvkɑmɪnkændiiztɹits</td>\n",
       "      <td>[0, 2320, 3007, 4080, 5162, 6053, 6642, 7120, ...</td>\n",
       "      <td>[2320, 3007, 4080, 5162, 6053, 6642, 7120, 858...</td>\n",
       "    </tr>\n",
       "    <tr>\n",
       "      <th>1</th>\n",
       "      <td>[25971, 30303, 29285, 26995, 28271, 11552, 131...</td>\n",
       "      <td>əmbaɪnʔɔlðiiŋɡɹiɾiinsiɾəlɑɹdd͡ʒboʊl</td>\n",
       "      <td>[0, 2180, 2940, 3424, 4796, 5547, 5726, 9960, ...</td>\n",
       "      <td>[2180, 2940, 3424, 4796, 5547, 5726, 9960, 105...</td>\n",
       "    </tr>\n",
       "    <tr>\n",
       "      <th>2</th>\n",
       "      <td>[25971, 30303, 29285, 26995, 28271, 11552, 131...</td>\n",
       "      <td>ʃihædd͡ʒɹdɑɹksutiŋɡɹiziwɔʃwɔɾɹʔɔljɪɹ</td>\n",
       "      <td>[2840, 8313, 9483, 10610, 11160, 13033, 13535,...</td>\n",
       "      <td>[8313, 9483, 10610, 11160, 13033, 13535, 14078...</td>\n",
       "    </tr>\n",
       "    <tr>\n",
       "      <th>3</th>\n",
       "      <td>[25971, 30303, 29285, 26995, 28271, 11552, 131...</td>\n",
       "      <td>saɪkəlɑdd͡ʒikliðɹɹisɛpʃinʃʊdiðiklaɪmæksfɑləwin...</td>\n",
       "      <td>[0, 2275, 4135, 5400, 6182, 6680, 7477, 8731, ...</td>\n",
       "      <td>[2275, 4135, 5400, 6182, 6680, 7477, 8731, 109...</td>\n",
       "    </tr>\n",
       "    <tr>\n",
       "      <th>4</th>\n",
       "      <td>[25971, 30303, 29285, 26995, 28271, 11552, 131...</td>\n",
       "      <td>mɪlɪtɛɹɪpɹsnɛlʔɑɹɪkspɛkiduoʊbeɪɡʌvɹməntʔɔɹɾɹz</td>\n",
       "      <td>[0, 2032, 2513, 3270, 3801, 4591, 5260, 6460, ...</td>\n",
       "      <td>[2032, 2513, 3270, 3801, 4591, 5260, 6460, 697...</td>\n",
       "    </tr>\n",
       "  </tbody>\n",
       "</table>\n",
       "</div>"
      ],
      "text/plain": [
       "                                               audio  \\\n",
       "0  [25971, 30303, 29285, 26995, 28271, 11552, 131...   \n",
       "1  [25971, 30303, 29285, 26995, 28271, 11552, 131...   \n",
       "2  [25971, 30303, 29285, 26995, 28271, 11552, 131...   \n",
       "3  [25971, 30303, 29285, 26995, 28271, 11552, 131...   \n",
       "4  [25971, 30303, 29285, 26995, 28271, 11552, 131...   \n",
       "\n",
       "                                                 ipa  \\\n",
       "0                        jʌŋstɹzlʌvkɑmɪnkændiiztɹits   \n",
       "1                əmbaɪnʔɔlðiiŋɡɹiɾiinsiɾəlɑɹdd͡ʒboʊl   \n",
       "2               ʃihædd͡ʒɹdɑɹksutiŋɡɹiziwɔʃwɔɾɹʔɔljɪɹ   \n",
       "3  saɪkəlɑdd͡ʒikliðɹɹisɛpʃinʃʊdiðiklaɪmæksfɑləwin...   \n",
       "4      mɪlɪtɛɹɪpɹsnɛlʔɑɹɪkspɛkiduoʊbeɪɡʌvɹməntʔɔɹɾɹz   \n",
       "\n",
       "                                      phoneme_starts  \\\n",
       "0  [0, 2320, 3007, 4080, 5162, 6053, 6642, 7120, ...   \n",
       "1  [0, 2180, 2940, 3424, 4796, 5547, 5726, 9960, ...   \n",
       "2  [2840, 8313, 9483, 10610, 11160, 13033, 13535,...   \n",
       "3  [0, 2275, 4135, 5400, 6182, 6680, 7477, 8731, ...   \n",
       "4  [0, 2032, 2513, 3270, 3801, 4591, 5260, 6460, ...   \n",
       "\n",
       "                                        phoneme_ends  \n",
       "0  [2320, 3007, 4080, 5162, 6053, 6642, 7120, 858...  \n",
       "1  [2180, 2940, 3424, 4796, 5547, 5726, 9960, 105...  \n",
       "2  [8313, 9483, 10610, 11160, 13033, 13535, 14078...  \n",
       "3  [2275, 4135, 5400, 6182, 6680, 7477, 8731, 109...  \n",
       "4  [2032, 2513, 3270, 3801, 4591, 5260, 6460, 697...  "
      ]
     },
     "execution_count": 124,
     "metadata": {},
     "output_type": "execute_result"
    }
   ],
   "source": [
    "# First, ensure that the simplify_timit function is available and works\n",
    "def simplify_timit(phoneme):\n",
    "    # Substitute the phoneme based on the dictionary\n",
    "    substitution_dict = {\n",
    "        'ɾ̃': 'ɾ',  # Replace nasalized flap with plain flap\n",
    "        'ŋ̍': 'ŋ',  # Remove syllabic marker from 'ŋ̍'\n",
    "        'ə̥': 'ə',  # Remove voiceless marker from 'ə̥'\n",
    "        'ɝ': 'ɹ',   # Simplify rhotacized schwa to 'ɹ'\n",
    "        'ɚ': 'ɹ',   # Simplify rhotacized schwa to 'ɹ'\n",
    "        'l̩': 'l',   # Remove syllabic marker from 'l̩'\n",
    "        'm̩': 'm',   # Remove syllabic marker from 'm̩'\n",
    "        'n̩': 'n',   # Remove syllabic marker from 'n̩'\n",
    "        '̩': '',     # Remove syllabic marker\n",
    "        'ʉ': 'u',    # Replace high central rounded vowel with high back rounded vowel\n",
    "        'ɨ': 'i',    # Replace high central unrounded vowel with high front unrounded vowel\n",
    "        ' ': '',     # Remove nasalization marker\n",
    "        'ɦ': 'h',    # Replace voiceless glottal fricative with voiceless glottal fricative\n",
    "        '͡': '', # Simplify affricate to single character\n",
    "        # Add other necessary substitutions if needed\n",
    "    }\n",
    "    phoneme.replace('͡', '') \n",
    "    # Apply the substitution for the phoneme\n",
    "    return substitution_dict.get(phoneme, phoneme)  # Return simplified phoneme or the original if no replacement\n",
    "\n",
    "# Updated timit_file_to_dict to use the simplified IPA phonemes\n",
    "def timit_file_to_dict(filename):\n",
    "    with timit.open(filename + '.PHN') as phn_file:\n",
    "        timestamped_phonemes = []\n",
    "        for line in phn_file.read().decode('utf-8').split('\\n'):\n",
    "            if line == '':\n",
    "                continue\n",
    "            start, end, phoneme = line.split()\n",
    "            \n",
    "            # Convert to IPA first and then simplify the phoneme\n",
    "            ipa_phonemes = timit2ipa(phoneme, \"eng\")\n",
    "            \n",
    "            # Now filter only the necessary characters (this simplifies the phoneme to the basic form)\n",
    "            cleaned_ipa = filter_chars(simplify_timit(ipa_phonemes), filter_type=\"letters\")\n",
    "            \n",
    "            timestamped_phonemes.append((cleaned_ipa, int(start), int(end)))\n",
    "\n",
    "    return {'timestamped_phonemes': timestamped_phonemes, 'wav_filename': filename + '.WAV'}\n",
    "\n",
    "# Updated files_to_df to create DataFrame with cleaned-up phonemes\n",
    "def files_to_df(files):\n",
    "    records = []\n",
    "    for filename in files:\n",
    "        parsed = timit_file_to_dict(filename)\n",
    "        parsed['audio'] = zipped_wav_to_array(parsed['wav_filename'])\n",
    "        del parsed['wav_filename']\n",
    "        parsed['ipa'] = \"\".join(phoneme for phoneme, _, _ in parsed['timestamped_phonemes'])\n",
    "        parsed['phoneme_starts'] = [start for _, start, _ in parsed['timestamped_phonemes']]\n",
    "        parsed['phoneme_ends'] = [end for _, _, end in parsed['timestamped_phonemes']]\n",
    "        del parsed['timestamped_phonemes']\n",
    "        records.append(parsed)\n",
    "    return pd.DataFrame(records)\n",
    "\n",
    "# Call files_to_df for your test files\n",
    "test_df = files_to_df(test_files)\n",
    "test_df.head()\n"
   ]
  },
  {
   "cell_type": "code",
   "execution_count": 116,
   "metadata": {},
   "outputs": [
    {
     "name": "stdout",
     "output_type": "stream",
     "text": [
      "Number of unique IPA symbols in TIMIT: {'ə', 's', 'l', '͡', 'ʔ', 'w', 'z', 'ɛ', 'a', 'θ', 'b', 't', 'ɪ', 'd', 'h', 'ʒ', 'o', 'n', 'm', 'j', 'ʊ', ' ', 'e', 'æ', 'k', 'ð', 'ʌ', 'u', 'ɹ', 'v', 'ɾ', 'ʃ', 'ɔ', 'ɡ', 'ɑ', 'i', 'ŋ', 'f', 'p'}\n"
     ]
    }
   ],
   "source": [
    "timit_vocab = set(\"\".join(test_df['ipa']))\n",
    "print(f\"Number of unique IPA symbols in TIMIT: {(timit_vocab)}\")"
   ]
  },
  {
   "cell_type": "markdown",
   "metadata": {},
   "source": [
    "### Cleaning Up Audio"
   ]
  },
  {
   "cell_type": "code",
   "execution_count": 84,
   "metadata": {},
   "outputs": [],
   "source": [
    "def crop_audio(row):\n",
    "    # Access the phoneme_starts column and get the last value of the list\n",
    "    end = row['phoneme_starts'][-1]\n",
    "    # Access the phoneme_ends column and get the first value of the list\n",
    "    start = row['phoneme_ends'][0]\n",
    "    # Crop the audio from start to end\n",
    "    # note that start and end are in samples, not seconds\n",
    "    cropped_audio = row['audio'][start:end]\n",
    "    \n",
    "    return cropped_audio"
   ]
  },
  {
   "cell_type": "code",
   "execution_count": 85,
   "metadata": {},
   "outputs": [
    {
     "data": {
      "image/png": "[encoded data removed]",
      "text/plain": [
       "<Figure size 640x480 with 1 Axes>"
      ]
     },
     "metadata": {},
     "output_type": "display_data"
    }
   ],
   "source": [
    "# graph one audio to see start signal that we will remove\n",
    "import matplotlib.pyplot as plt\n",
    "plt.plot(test_df['audio'][0])\n",
    "plt.show()"
   ]
  },
  {
   "cell_type": "code",
   "execution_count": 86,
   "metadata": {},
   "outputs": [
    {
     "data": {
      "text/html": [
       "<div>\n",
       "<style scoped>\n",
       "    .dataframe tbody tr th:only-of-type {\n",
       "        vertical-align: middle;\n",
       "    }\n",
       "\n",
       "    .dataframe tbody tr th {\n",
       "        vertical-align: top;\n",
       "    }\n",
       "\n",
       "    .dataframe thead th {\n",
       "        text-align: right;\n",
       "    }\n",
       "</style>\n",
       "<table border=\"1\" class=\"dataframe\">\n",
       "  <thead>\n",
       "    <tr style=\"text-align: right;\">\n",
       "      <th></th>\n",
       "      <th>audio</th>\n",
       "      <th>ipa</th>\n",
       "      <th>phoneme_starts</th>\n",
       "      <th>phoneme_ends</th>\n",
       "      <th>cropped_audio</th>\n",
       "    </tr>\n",
       "  </thead>\n",
       "  <tbody>\n",
       "    <tr>\n",
       "      <th>0</th>\n",
       "      <td>[25971, 30303, 29285, 26995, 28271, 11552, 131...</td>\n",
       "      <td>jʌŋstɹzlʌvkɑmɪnkændiiztɹits</td>\n",
       "      <td>[0, 2320, 3007, 4080, 5162, 6053, 6642, 7120, ...</td>\n",
       "      <td>[2320, 3007, 4080, 5162, 6053, 6642, 7120, 858...</td>\n",
       "      <td>[-1, 1, 0, -1, -1, 1, 6, 2, -1, 1, -1, 2, 1, 1...</td>\n",
       "    </tr>\n",
       "    <tr>\n",
       "      <th>1</th>\n",
       "      <td>[25971, 30303, 29285, 26995, 28271, 11552, 131...</td>\n",
       "      <td>əmbaɪnʔɔlðiiŋɡɹiɾiinsiɾəlɑɹddʒboʊl</td>\n",
       "      <td>[0, 2180, 2940, 3424, 4796, 5547, 5726, 9960, ...</td>\n",
       "      <td>[2180, 2940, 3424, 4796, 5547, 5726, 9960, 105...</td>\n",
       "      <td>[2, 1, 0, 3, 0, 5, 1, 3, 2, 1, 3, 1, 0, 2, 0, ...</td>\n",
       "    </tr>\n",
       "    <tr>\n",
       "      <th>2</th>\n",
       "      <td>[25971, 30303, 29285, 26995, 28271, 11552, 131...</td>\n",
       "      <td>ʃihæddʒɹdɑɹksutiŋɡɹiziwɔʃwɔɾɹʔɔljɪɹ</td>\n",
       "      <td>[2840, 8313, 9483, 10610, 11160, 13033, 13535,...</td>\n",
       "      <td>[8313, 9483, 10610, 11160, 13033, 13535, 14078...</td>\n",
       "      <td>[0, -2, -1, -2, -1, 0, -3, -3, 0, -2, -1, -1, ...</td>\n",
       "    </tr>\n",
       "    <tr>\n",
       "      <th>3</th>\n",
       "      <td>[25971, 30303, 29285, 26995, 28271, 11552, 131...</td>\n",
       "      <td>saɪkəlɑddʒikliðɹɹisɛpʃinʃʊdiðiklaɪmæksfɑləwini...</td>\n",
       "      <td>[0, 2275, 4135, 5400, 6182, 6680, 7477, 8731, ...</td>\n",
       "      <td>[2275, 4135, 5400, 6182, 6680, 7477, 8731, 109...</td>\n",
       "      <td>[0, 2, 4, 3, 6, 2, 1, -1, 1, 2, 0, 0, -2, -1, ...</td>\n",
       "    </tr>\n",
       "    <tr>\n",
       "      <th>4</th>\n",
       "      <td>[25971, 30303, 29285, 26995, 28271, 11552, 131...</td>\n",
       "      <td>mɪlɪtɛɹɪpɹsnɛlʔɑɹɪkspɛkiduoʊbeɪɡʌvɹməntʔɔɹɾɹz</td>\n",
       "      <td>[0, 2032, 2513, 3270, 3801, 4591, 5260, 6460, ...</td>\n",
       "      <td>[2032, 2513, 3270, 3801, 4591, 5260, 6460, 697...</td>\n",
       "      <td>[-3, 5, 6, 5, -3, 4, 6, 5, -3, 1, 5, 8, 2, 1, ...</td>\n",
       "    </tr>\n",
       "  </tbody>\n",
       "</table>\n",
       "</div>"
      ],
      "text/plain": [
       "                                               audio  \\\n",
       "0  [25971, 30303, 29285, 26995, 28271, 11552, 131...   \n",
       "1  [25971, 30303, 29285, 26995, 28271, 11552, 131...   \n",
       "2  [25971, 30303, 29285, 26995, 28271, 11552, 131...   \n",
       "3  [25971, 30303, 29285, 26995, 28271, 11552, 131...   \n",
       "4  [25971, 30303, 29285, 26995, 28271, 11552, 131...   \n",
       "\n",
       "                                                 ipa  \\\n",
       "0                        jʌŋstɹzlʌvkɑmɪnkændiiztɹits   \n",
       "1                 əmbaɪnʔɔlðiiŋɡɹiɾiinsiɾəlɑɹddʒboʊl   \n",
       "2                ʃihæddʒɹdɑɹksutiŋɡɹiziwɔʃwɔɾɹʔɔljɪɹ   \n",
       "3  saɪkəlɑddʒikliðɹɹisɛpʃinʃʊdiðiklaɪmæksfɑləwini...   \n",
       "4      mɪlɪtɛɹɪpɹsnɛlʔɑɹɪkspɛkiduoʊbeɪɡʌvɹməntʔɔɹɾɹz   \n",
       "\n",
       "                                      phoneme_starts  \\\n",
       "0  [0, 2320, 3007, 4080, 5162, 6053, 6642, 7120, ...   \n",
       "1  [0, 2180, 2940, 3424, 4796, 5547, 5726, 9960, ...   \n",
       "2  [2840, 8313, 9483, 10610, 11160, 13033, 13535,...   \n",
       "3  [0, 2275, 4135, 5400, 6182, 6680, 7477, 8731, ...   \n",
       "4  [0, 2032, 2513, 3270, 3801, 4591, 5260, 6460, ...   \n",
       "\n",
       "                                        phoneme_ends  \\\n",
       "0  [2320, 3007, 4080, 5162, 6053, 6642, 7120, 858...   \n",
       "1  [2180, 2940, 3424, 4796, 5547, 5726, 9960, 105...   \n",
       "2  [8313, 9483, 10610, 11160, 13033, 13535, 14078...   \n",
       "3  [2275, 4135, 5400, 6182, 6680, 7477, 8731, 109...   \n",
       "4  [2032, 2513, 3270, 3801, 4591, 5260, 6460, 697...   \n",
       "\n",
       "                                       cropped_audio  \n",
       "0  [-1, 1, 0, -1, -1, 1, 6, 2, -1, 1, -1, 2, 1, 1...  \n",
       "1  [2, 1, 0, 3, 0, 5, 1, 3, 2, 1, 3, 1, 0, 2, 0, ...  \n",
       "2  [0, -2, -1, -2, -1, 0, -3, -3, 0, -2, -1, -1, ...  \n",
       "3  [0, 2, 4, 3, 6, 2, 1, -1, 1, 2, 0, 0, -2, -1, ...  \n",
       "4  [-3, 5, 6, 5, -3, 4, 6, 5, -3, 1, 5, 8, 2, 1, ...  "
      ]
     },
     "execution_count": 86,
     "metadata": {},
     "output_type": "execute_result"
    }
   ],
   "source": [
    "test_df['cropped_audio'] = test_df.apply(crop_audio, axis=1)\n",
    "test_df.head()"
   ]
  },
  {
   "cell_type": "code",
   "execution_count": 87,
   "metadata": {},
   "outputs": [
    {
     "data": {
      "text/plain": [
       "[<matplotlib.lines.Line2D at 0x7f66409e33d0>]"
      ]
     },
     "execution_count": 87,
     "metadata": {},
     "output_type": "execute_result"
    },
    {
     "data": {
      "image/png": "[encoded data removed]",
      "text/plain": [
       "<Figure size 640x480 with 1 Axes>"
      ]
     },
     "metadata": {},
     "output_type": "display_data"
    }
   ],
   "source": [
    "# visualize again, much better!\n",
    "plt.plot(test_df['cropped_audio'][0])\n"
   ]
  },
  {
   "cell_type": "code",
   "execution_count": 88,
   "metadata": {},
   "outputs": [
    {
     "data": {
      "text/html": [
       "<div>\n",
       "<style scoped>\n",
       "    .dataframe tbody tr th:only-of-type {\n",
       "        vertical-align: middle;\n",
       "    }\n",
       "\n",
       "    .dataframe tbody tr th {\n",
       "        vertical-align: top;\n",
       "    }\n",
       "\n",
       "    .dataframe thead th {\n",
       "        text-align: right;\n",
       "    }\n",
       "</style>\n",
       "<table border=\"1\" class=\"dataframe\">\n",
       "  <thead>\n",
       "    <tr style=\"text-align: right;\">\n",
       "      <th></th>\n",
       "      <th>ipa</th>\n",
       "      <th>audio</th>\n",
       "    </tr>\n",
       "  </thead>\n",
       "  <tbody>\n",
       "    <tr>\n",
       "      <th>0</th>\n",
       "      <td>jʌŋstɹzlʌvkɑmɪnkændiiztɹits</td>\n",
       "      <td>[-1, 1, 0, -1, -1, 1, 6, 2, -1, 1, -1, 2, 1, 1...</td>\n",
       "    </tr>\n",
       "    <tr>\n",
       "      <th>1</th>\n",
       "      <td>əmbaɪnʔɔlðiiŋɡɹiɾiinsiɾəlɑɹddʒboʊl</td>\n",
       "      <td>[2, 1, 0, 3, 0, 5, 1, 3, 2, 1, 3, 1, 0, 2, 0, ...</td>\n",
       "    </tr>\n",
       "    <tr>\n",
       "      <th>2</th>\n",
       "      <td>ʃihæddʒɹdɑɹksutiŋɡɹiziwɔʃwɔɾɹʔɔljɪɹ</td>\n",
       "      <td>[0, -2, -1, -2, -1, 0, -3, -3, 0, -2, -1, -1, ...</td>\n",
       "    </tr>\n",
       "    <tr>\n",
       "      <th>3</th>\n",
       "      <td>saɪkəlɑddʒikliðɹɹisɛpʃinʃʊdiðiklaɪmæksfɑləwini...</td>\n",
       "      <td>[0, 2, 4, 3, 6, 2, 1, -1, 1, 2, 0, 0, -2, -1, ...</td>\n",
       "    </tr>\n",
       "    <tr>\n",
       "      <th>4</th>\n",
       "      <td>mɪlɪtɛɹɪpɹsnɛlʔɑɹɪkspɛkiduoʊbeɪɡʌvɹməntʔɔɹɾɹz</td>\n",
       "      <td>[-3, 5, 6, 5, -3, 4, 6, 5, -3, 1, 5, 8, 2, 1, ...</td>\n",
       "    </tr>\n",
       "  </tbody>\n",
       "</table>\n",
       "</div>"
      ],
      "text/plain": [
       "                                                 ipa  \\\n",
       "0                        jʌŋstɹzlʌvkɑmɪnkændiiztɹits   \n",
       "1                 əmbaɪnʔɔlðiiŋɡɹiɾiinsiɾəlɑɹddʒboʊl   \n",
       "2                ʃihæddʒɹdɑɹksutiŋɡɹiziwɔʃwɔɾɹʔɔljɪɹ   \n",
       "3  saɪkəlɑddʒikliðɹɹisɛpʃinʃʊdiðiklaɪmæksfɑləwini...   \n",
       "4      mɪlɪtɛɹɪpɹsnɛlʔɑɹɪkspɛkiduoʊbeɪɡʌvɹməntʔɔɹɾɹz   \n",
       "\n",
       "                                               audio  \n",
       "0  [-1, 1, 0, -1, -1, 1, 6, 2, -1, 1, -1, 2, 1, 1...  \n",
       "1  [2, 1, 0, 3, 0, 5, 1, 3, 2, 1, 3, 1, 0, 2, 0, ...  \n",
       "2  [0, -2, -1, -2, -1, 0, -3, -3, 0, -2, -1, -1, ...  \n",
       "3  [0, 2, 4, 3, 6, 2, 1, -1, 1, 2, 0, 0, -2, -1, ...  \n",
       "4  [-3, 5, 6, 5, -3, 4, 6, 5, -3, 1, 5, 8, 2, 1, ...  "
      ]
     },
     "execution_count": 88,
     "metadata": {},
     "output_type": "execute_result"
    }
   ],
   "source": [
    "# Same for test_df\n",
    "test_df = test_df.drop(columns=['phoneme_starts', 'phoneme_ends', 'audio'])\n",
    "test_df = test_df.rename(columns={'cropped_audio': 'audio'})\n",
    "test_df.head()"
   ]
  },
  {
   "cell_type": "code",
   "execution_count": 89,
   "metadata": {},
   "outputs": [],
   "source": [
    "\n",
    "test_ds = Dataset.from_pandas(test_df)"
   ]
  },
  {
   "cell_type": "markdown",
   "metadata": {},
   "source": [
    "## retrieve the Total TIMIT Vocab \n",
    "we will grab the set of unique timit phonemes and map them to IPA. this will be the vocab all models will be adjusted to fit"
   ]
  },
  {
   "cell_type": "markdown",
   "metadata": {},
   "source": [
    "# Tokenize!"
   ]
  },
  {
   "cell_type": "code",
   "execution_count": 103,
   "metadata": {},
   "outputs": [
    {
     "name": "stdout",
     "output_type": "stream",
     "text": [
      "Number of unique IPA symbols in TIMIT: {'ə', 's', 'l', '͡', 'ʔ', 'w', 'z', 'ɛ', 'a', 'θ', 'b', 't', 'ɪ', 'd', 'h', 'ʒ', 'o', 'n', 'm', 'j', 'ʊ', 'e', 'æ', 'k', 'ð', 'ʌ', 'u', 'ɹ', 'v', 'ɾ', 'ʃ', 'ɔ', 'ɡ', 'ɑ', 'i', 'ŋ', 'f', 'p'}\n"
     ]
    }
   ],
   "source": [
    "timit_vocab = set(\"\".join(test_df['ipa']))\n",
    "print(f\"Number of unique IPA symbols in TIMIT: {(timit_vocab)}\")"
   ]
  },
  {
   "cell_type": "code",
   "execution_count": 104,
   "metadata": {},
   "outputs": [
    {
     "name": "stdout",
     "output_type": "stream",
     "text": [
      "{'<s>': 1, '<pad>': 0, '</s>': 2, '<unk>': 3, 'n': 4, 's': 5, 't': 6, 'ə': 7, 'l': 8, 'a': 9, 'i': 10, 'k': 11, 'd': 12, 'm': 13, 'ɛ': 14, 'ɾ': 15, 'e': 16, 'ɪ': 17, 'p': 18, 'o': 19, 'ɐ': 20, 'z': 21, 'ð': 22, 'f': 23, 'j': 24, 'v': 25, 'b': 26, 'ɹ': 27, 'ʁ': 28, 'ʊ': 29, 'iː': 30, 'r': 31, 'w': 32, 'ʌ': 33, 'u': 34, 'ɡ': 35, 'æ': 36, 'aɪ': 37, 'ʃ': 38, 'h': 39, 'ɔ': 40, 'ɑː': 41, 'ŋ': 42, 'ɚ': 43, 'eɪ': 44, 'β': 45, 'uː': 46, 'y': 47, 'ɑ̃': 48, 'oʊ': 49, 'ᵻ': 50, 'eː': 51, 'θ': 52, 'aʊ': 53, 'ts': 54, 'oː': 55, 'ɔ̃': 56, 'ɣ': 57, 'ɜ': 58, 'ɑ': 59, 'dʒ': 60, 'əl': 61, 'x': 62, 'ɜː': 63, 'ç': 64, 'ʒ': 65, 'tʃ': 66, 'ɔː': 67, 'ɑːɹ': 68, 'ɛ̃': 69, 'ʎ': 70, 'ɔːɹ': 71, 'ʋ': 72, 'aː': 73, 'ɕ': 74, 'œ': 75, 'ø': 76, 'oːɹ': 77, 'ɲ': 78, 'yː': 79, 'ʔ': 80, 'iə': 81, 'i5': 82, 's.': 83, 'tɕ': 84, '??': 85, 'nʲ': 86, 'ɛː': 87, 'œ̃': 88, 'ɭ': 89, 'ɔø': 90, 'ʑ': 91, 'tʲ': 92, 'ɨ': 93, 'ɛɹ': 94, 'ts.': 95, 'rʲ': 96, 'ɪɹ': 97, 'ɭʲ': 98, 'i.5': 99, 'ɔɪ': 100, 'q': 101, 'sʲ': 102, 'u5': 103, 'ʊɹ': 104, 'iɜ': 105, 'a5': 106, 'iɛ5': 107, 'øː': 108, 'ʕ': 109, 'ja': 110, 'əɜ': 111, 'th': 112, 'ɑ5': 113, 'oɪ': 114, 'dʲ': 115, 'ə5': 116, 'tɕh': 117, 'ts.h': 118, 'mʲ': 119, 'ɯ': 120, 'dʑ': 121, 'vʲ': 122, 'e̞': 123, 'tʃʲ': 124, 'ei5': 125, 'o5': 126, 'onɡ5': 127, 'ɑu5': 128, 'iɑ5': 129, 'ai5': 130, 'aɪɚ': 131, 'kh': 132, 'ə1': 133, 'ʐ': 134, 'i2': 135, 'ʉ': 136, 'ħ': 137, 't[': 138, 'aɪə': 139, 'ʲ': 140, 'ju': 141, 'ə2': 142, 'u2': 143, 'oɜ': 144, 'pː': 145, 'iɛɜ': 146, 'ou5': 147, 'y5': 148, 'uɜ': 149, 'tː': 150, 'uo5': 151, 'd[': 152, 'uoɜ': 153, 'tsh': 154, 'ɑɜ': 155, 'ɵ': 156, 'i̪5': 157, 'uei5': 158, 'ɟ': 159, 'aɜ': 160, 'ɑɨ': 161, 'i.ɜ': 162, 'eʊ': 163, 'o2': 164, 'ɐ̃': 165, 'ä': 166, 'pʲ': 167, 'kʲ': 168, 'n̩': 169, 'ɒ': 170, 'ph': 171, 'ɑu2': 172, 'uɨ': 173, 'əɪ': 174, 'ɫ': 175, 'ɬ': 176, 'yɜ': 177, 'bʲ': 178, 'ɑ2': 179, 's̪': 180, 'aiɜ': 181, 'χ': 182, 'ɐ̃ʊ̃': 183, '1': 184, 'ə4': 185, 'yæɜ': 186, 'a2': 187, 'ɨː': 188, 't̪': 189, 'iouɜ': 190, 'ũ': 191, 'onɡɜ': 192, 'aɨ': 193, 'iɛ2': 194, 'ɔɨ': 195, 'ɑuɜ': 196, 'o̞': 197, 'ei2': 198, 'iou2': 199, 'c': 200, 'kː': 201, 'y2': 202, 'ɖ': 203, 'oe': 204, 'dˤ': 205, 'yɛɜ': 206, 'əʊ': 207, 'S': 208, 'ɡʲ': 209, 'onɡ2': 210, 'u\"': 211, 'eiɜ': 212, 'ʈ': 213, 'ɯᵝ': 214, 'iou5': 215, 'dZ': 216, 'r̝̊': 217, 'i.2': 218, 'tS': 219, 's^': 220, 'ʝ': 221, 'yə5': 222, 'iɑɜ': 223, 'uə5': 224, 'pf': 225, 'ɨu': 226, 'iɑ2': 227, 'ou2': 228, 'ər2': 229, 'fʲ': 230, 'ai2': 231, 'r̝': 232, 'uəɜ': 233, 'ɳ': 234, 'əɨ': 235, 'ua5': 236, 'uɪ': 237, 'ɽ': 238, 'bː': 239, 'yu5': 240, 'uo2': 241, 'yɛ5': 242, 'l̩': 243, 'ɻ': 244, 'ərɜ': 245, 'ʂ': 246, 'i̪2': 247, 'ouɜ': 248, 'uaɜ': 249, 'a.': 250, 'a.ː': 251, 'yæ5': 252, 'dː': 253, 'r̩': 254, 'ee': 255, 'ɪu': 256, 'ər5': 257, 'i̪ɜ': 258, 'æi': 259, 'u:': 260, 'i.ː': 261, 't^': 262, 'o1': 263, 'ɪ^': 264, 'ai': 265, 'ueiɜ': 266, 'æː': 267, 'ɛɪ': 268, 'eə': 269, 'i.': 270, 'ɴ': 271, 'ie': 272, 'ua2': 273, 'ɑ1': 274, 'o4': 275, 'tʃː': 276, 'o:': 277, 'ɑ:': 278, 'u1': 279, 'N': 280, 'i̪1': 281, 'au': 282, 'yæ2': 283, 'u.': 284, 'qː': 285, 'yəɜ': 286, 'y:': 287, 'kʰ': 288, 'tʃʰ': 289, 'iʊ': 290, 'sx': 291, 'õ': 292, 'uo': 293, 'tʰ': 294, 'uai5': 295, 'bʰ': 296, 'u.ː': 297, 'uə2': 298, 'ʊə': 299, 'd^': 300, 's̪ː': 301, 'yiɜ': 302, 'dʰ': 303, 'r.': 304, 'oe:': 305, 'i1': 306, 'ɟː': 307, 'yu2': 308, 'nʲʲ': 309, 'i̪4': 310, 'uei2': 311, 'tsʲ': 312, 'ɸ': 313, 'ĩ': 314, 'ɑ4': 315, 't̪ː': 316, 'eɑ': 317, 'u4': 318, 'e:': 319, 'tsː': 320, 'ʈʰ': 321, 'ɡʰ': 322, 'ɯɯ': 323, 'dʒʲ': 324, 'ʂʲ': 325, 'X': 326, 'ɵː': 327, 'uaiɜ': 328, 'tɕʲ': 329, 'ã': 330, 't^ː': 331, 'ẽː': 332, 'yɛ2': 333, 'cː': 334, 'i.1': 335, 'ɛʊ': 336, 'dˤdˤ': 337, 'dʒː': 338, 'i4': 339, 'ɡː': 340, 'yi': 341, 'ɕʲ': 342, 'ɟʰ': 343, 'pʰ': 344, 'dʑʲ': 345, 'yuɜ': 346, 'ua1': 347, 'ua4': 348, 'æiː': 349, 'ɐɐ': 350, 'ui': 351, 'iou1': 352, 'ʊː': 353, 'a1': 354, 'iou4': 355, 'cʰ': 356, 'iɛ1': 357, 'yə2': 358, 'ɖʰ': 359, 'ẽ': 360, 'ʒʲ': 361, 'ää': 362, 'ər4': 363, 'iːː': 364, 'ɪː': 365, 'iɑ1': 366, 'ər1': 367, 'œː': 368, 'øi': 369, 'ɪuː': 370, 'cʰcʰ': 371, 'əː1': 372, 'iː1': 373, 'ũ': 374, 'kʰː': 375, 'o̞o̞': 376, 'xʲ': 377, 'ou1': 378, 'iɛ4': 379, 'e̞e̞': 380, 'y1': 381, 'dzː': 382, 'dʲʲ': 383, 'dʰː': 384, 'ɯᵝɯᵝ': 385, 'lː': 386, 'uo1': 387, 'i.4': 388, 'i:': 389, 'yɛ5ʲ': 390, 'a4': 391}\n"
     ]
    }
   ],
   "source": [
    "tokenizer = AutoTokenizer.from_pretrained(PRE_TRAINED_ID)\n",
    "vocab = tokenizer.get_vocab()\n",
    "print(vocab)"
   ]
  },
  {
   "cell_type": "code",
   "execution_count": 105,
   "metadata": {},
   "outputs": [
    {
     "name": "stdout",
     "output_type": "stream",
     "text": [
      "Missing symbols: {'͡'}\n"
     ]
    }
   ],
   "source": [
    "# check if the current models vocab doesnt contain the timit vocab\n",
    "missing_symbols = timit_vocab - set(vocab.keys())\n",
    "print(f\"Missing symbols: {missing_symbols}\")"
   ]
  },
  {
   "cell_type": "code",
   "execution_count": 33,
   "metadata": {},
   "outputs": [
    {
     "name": "stdout",
     "output_type": "stream",
     "text": [
      "Unique tokens added to the tokenizer: {'̩', 'ɾ̃', '̍', '̥', 'm̩', 'ɝ', '̃', 'ŋ̍', 'ɦ', 'ə̥'}\n"
     ]
    }
   ],
   "source": [
    "# Get current tokenizer vocabulary\n",
    "current_vocab = set(tokenizer.get_vocab().keys())\n",
    "\n",
    "# Define TIMIT phoneme vocabulary and manually added phonemes\n",
    "additional_vocab = timit_vocab.difference(current_vocab | {' '})  # Remove phonemes already in the tokenizer\n",
    "# Update: unfortunately this function fails to parse diphones so we will manually add them to the vocab: \n",
    "phonemes_to_add = {\"aɪ\", \"aʊ\", \"dʒ\", \"eɪ\", \"l̩\", \"m̩\", \"n̩\", \"oʊ\", \"tʃ\", \"ŋ̍\", \"ɔɪ\", \"ə̥\", \"ɾ̃\"}\n",
    "\n",
    "# Combine the new phonemes, ensuring uniqueness\n",
    "unique_additional_tokens = additional_vocab.union(phonemes_to_add).difference(current_vocab)\n",
    "\n",
    "# Add the unique tokens to the tokenizer\n",
    "if unique_additional_tokens:\n",
    "    tokenizer.add_tokens(list(unique_additional_tokens))\n",
    "\n",
    "# Print the tokens added for confirmation\n",
    "print(\"Unique tokens added to the tokenizer:\", unique_additional_tokens)\n"
   ]
  },
  {
   "cell_type": "markdown",
   "metadata": {},
   "source": [
    "# Save Updated Tokenizer"
   ]
  },
  {
   "cell_type": "code",
   "execution_count": 34,
   "metadata": {},
   "outputs": [],
   "source": [
    "# processor = AutoProcessor.from_pretrained(PRE_TRAINED_ID)\n",
    "# tokenizer = processor.tokenizer\n",
    "# tokenizer.add_tokens(list(unique_additional_tokens))\n",
    "# print(tokenizer.get_vocab()) \n",
    "# tokenizer.save_pretrained(PRE_TRAINED_ID)"
   ]
  },
  {
   "cell_type": "code",
   "execution_count": 35,
   "metadata": {},
   "outputs": [],
   "source": [
    "# replace ' ' in ipa with tokenizer.pad_token\n",
    "# test_ds = test_ds.map(lambda x: {'audio': x['audio'], 'ipa': x['ipa'].replace(' ', tokenizer.pad_token)})"
   ]
  },
  {
   "cell_type": "markdown",
   "metadata": {},
   "source": [
    "# Update Feature Extraction"
   ]
  },
  {
   "cell_type": "code",
   "execution_count": 82,
   "metadata": {},
   "outputs": [],
   "source": [
    "feature_extractor = AutoFeatureExtractor.from_pretrained(PRE_TRAINED_ID)"
   ]
  },
  {
   "cell_type": "markdown",
   "metadata": {},
   "source": [
    "We don't need to update the feature extractor since it has been pretrained on 16kHz audio which matches the TIMIT dataset.\n",
    "\n",
    "For datasets with different sampling rates, the feature extractor should be updated or the audio resampled (easier).\n",
    "\n",
    "This is also where code to add extra features (such as conditioning on speaker's native language etc.) would be added."
   ]
  },
  {
   "cell_type": "markdown",
   "metadata": {},
   "source": [
    "# Preprocess Data"
   ]
  },
  {
   "cell_type": "code",
   "execution_count": 93,
   "metadata": {},
   "outputs": [
    {
     "data": {
      "text/html": [
       "<div>\n",
       "<style scoped>\n",
       "    .dataframe tbody tr th:only-of-type {\n",
       "        vertical-align: middle;\n",
       "    }\n",
       "\n",
       "    .dataframe tbody tr th {\n",
       "        vertical-align: top;\n",
       "    }\n",
       "\n",
       "    .dataframe thead th {\n",
       "        text-align: right;\n",
       "    }\n",
       "</style>\n",
       "<table border=\"1\" class=\"dataframe\">\n",
       "  <thead>\n",
       "    <tr style=\"text-align: right;\">\n",
       "      <th></th>\n",
       "      <th>ipa</th>\n",
       "      <th>audio</th>\n",
       "    </tr>\n",
       "  </thead>\n",
       "  <tbody>\n",
       "    <tr>\n",
       "      <th>0</th>\n",
       "      <td>jʌŋstɹzlʌvkɑmɪnkændiiztɹits</td>\n",
       "      <td>[-1, 1, 0, -1, -1, 1, 6, 2, -1, 1, -1, 2, 1, 1...</td>\n",
       "    </tr>\n",
       "    <tr>\n",
       "      <th>1</th>\n",
       "      <td>əmbaɪnʔɔlðiiŋɡɹiɾiinsiɾəlɑɹddʒboʊl</td>\n",
       "      <td>[2, 1, 0, 3, 0, 5, 1, 3, 2, 1, 3, 1, 0, 2, 0, ...</td>\n",
       "    </tr>\n",
       "    <tr>\n",
       "      <th>2</th>\n",
       "      <td>ʃihæddʒɹdɑɹksutiŋɡɹiziwɔʃwɔɾɹʔɔljɪɹ</td>\n",
       "      <td>[0, -2, -1, -2, -1, 0, -3, -3, 0, -2, -1, -1, ...</td>\n",
       "    </tr>\n",
       "    <tr>\n",
       "      <th>3</th>\n",
       "      <td>saɪkəlɑddʒikliðɹɹisɛpʃinʃʊdiðiklaɪmæksfɑləwini...</td>\n",
       "      <td>[0, 2, 4, 3, 6, 2, 1, -1, 1, 2, 0, 0, -2, -1, ...</td>\n",
       "    </tr>\n",
       "    <tr>\n",
       "      <th>4</th>\n",
       "      <td>mɪlɪtɛɹɪpɹsnɛlʔɑɹɪkspɛkiduoʊbeɪɡʌvɹməntʔɔɹɾɹz</td>\n",
       "      <td>[-3, 5, 6, 5, -3, 4, 6, 5, -3, 1, 5, 8, 2, 1, ...</td>\n",
       "    </tr>\n",
       "  </tbody>\n",
       "</table>\n",
       "</div>"
      ],
      "text/plain": [
       "                                                 ipa  \\\n",
       "0                        jʌŋstɹzlʌvkɑmɪnkændiiztɹits   \n",
       "1                 əmbaɪnʔɔlðiiŋɡɹiɾiinsiɾəlɑɹddʒboʊl   \n",
       "2                ʃihæddʒɹdɑɹksutiŋɡɹiziwɔʃwɔɾɹʔɔljɪɹ   \n",
       "3  saɪkəlɑddʒikliðɹɹisɛpʃinʃʊdiðiklaɪmæksfɑləwini...   \n",
       "4      mɪlɪtɛɹɪpɹsnɛlʔɑɹɪkspɛkiduoʊbeɪɡʌvɹməntʔɔɹɾɹz   \n",
       "\n",
       "                                               audio  \n",
       "0  [-1, 1, 0, -1, -1, 1, 6, 2, -1, 1, -1, 2, 1, 1...  \n",
       "1  [2, 1, 0, 3, 0, 5, 1, 3, 2, 1, 3, 1, 0, 2, 0, ...  \n",
       "2  [0, -2, -1, -2, -1, 0, -3, -3, 0, -2, -1, -1, ...  \n",
       "3  [0, 2, 4, 3, 6, 2, 1, -1, 1, 2, 0, 0, -2, -1, ...  \n",
       "4  [-3, 5, 6, 5, -3, 4, 6, 5, -3, 1, 5, 8, 2, 1, ...  "
      ]
     },
     "execution_count": 93,
     "metadata": {},
     "output_type": "execute_result"
    }
   ],
   "source": [
    "test_df.head()"
   ]
  },
  {
   "cell_type": "markdown",
   "metadata": {},
   "source": [
    "# Fine-Tune Model"
   ]
  },
  {
   "cell_type": "code",
   "execution_count": 94,
   "metadata": {},
   "outputs": [
    {
     "name": "stdout",
     "output_type": "stream",
     "text": [
      "{'<s>': 1, '<pad>': 0, '</s>': 2, '<unk>': 3, 'n': 4, 's': 5, 't': 6, 'ə': 7, 'l': 8, 'a': 9, 'i': 10, 'k': 11, 'd': 12, 'm': 13, 'ɛ': 14, 'ɾ': 15, 'e': 16, 'ɪ': 17, 'p': 18, 'o': 19, 'ɐ': 20, 'z': 21, 'ð': 22, 'f': 23, 'j': 24, 'v': 25, 'b': 26, 'ɹ': 27, 'ʁ': 28, 'ʊ': 29, 'iː': 30, 'r': 31, 'w': 32, 'ʌ': 33, 'u': 34, 'ɡ': 35, 'æ': 36, 'aɪ': 37, 'ʃ': 38, 'h': 39, 'ɔ': 40, 'ɑː': 41, 'ŋ': 42, 'ɚ': 43, 'eɪ': 44, 'β': 45, 'uː': 46, 'y': 47, 'ɑ̃': 48, 'oʊ': 49, 'ᵻ': 50, 'eː': 51, 'θ': 52, 'aʊ': 53, 'ts': 54, 'oː': 55, 'ɔ̃': 56, 'ɣ': 57, 'ɜ': 58, 'ɑ': 59, 'dʒ': 60, 'əl': 61, 'x': 62, 'ɜː': 63, 'ç': 64, 'ʒ': 65, 'tʃ': 66, 'ɔː': 67, 'ɑːɹ': 68, 'ɛ̃': 69, 'ʎ': 70, 'ɔːɹ': 71, 'ʋ': 72, 'aː': 73, 'ɕ': 74, 'œ': 75, 'ø': 76, 'oːɹ': 77, 'ɲ': 78, 'yː': 79, 'ʔ': 80, 'iə': 81, 'i5': 82, 's.': 83, 'tɕ': 84, '??': 85, 'nʲ': 86, 'ɛː': 87, 'œ̃': 88, 'ɭ': 89, 'ɔø': 90, 'ʑ': 91, 'tʲ': 92, 'ɨ': 93, 'ɛɹ': 94, 'ts.': 95, 'rʲ': 96, 'ɪɹ': 97, 'ɭʲ': 98, 'i.5': 99, 'ɔɪ': 100, 'q': 101, 'sʲ': 102, 'u5': 103, 'ʊɹ': 104, 'iɜ': 105, 'a5': 106, 'iɛ5': 107, 'øː': 108, 'ʕ': 109, 'ja': 110, 'əɜ': 111, 'th': 112, 'ɑ5': 113, 'oɪ': 114, 'dʲ': 115, 'ə5': 116, 'tɕh': 117, 'ts.h': 118, 'mʲ': 119, 'ɯ': 120, 'dʑ': 121, 'vʲ': 122, 'e̞': 123, 'tʃʲ': 124, 'ei5': 125, 'o5': 126, 'onɡ5': 127, 'ɑu5': 128, 'iɑ5': 129, 'ai5': 130, 'aɪɚ': 131, 'kh': 132, 'ə1': 133, 'ʐ': 134, 'i2': 135, 'ʉ': 136, 'ħ': 137, 't[': 138, 'aɪə': 139, 'ʲ': 140, 'ju': 141, 'ə2': 142, 'u2': 143, 'oɜ': 144, 'pː': 145, 'iɛɜ': 146, 'ou5': 147, 'y5': 148, 'uɜ': 149, 'tː': 150, 'uo5': 151, 'd[': 152, 'uoɜ': 153, 'tsh': 154, 'ɑɜ': 155, 'ɵ': 156, 'i̪5': 157, 'uei5': 158, 'ɟ': 159, 'aɜ': 160, 'ɑɨ': 161, 'i.ɜ': 162, 'eʊ': 163, 'o2': 164, 'ɐ̃': 165, 'ä': 166, 'pʲ': 167, 'kʲ': 168, 'n̩': 169, 'ɒ': 170, 'ph': 171, 'ɑu2': 172, 'uɨ': 173, 'əɪ': 174, 'ɫ': 175, 'ɬ': 176, 'yɜ': 177, 'bʲ': 178, 'ɑ2': 179, 's̪': 180, 'aiɜ': 181, 'χ': 182, 'ɐ̃ʊ̃': 183, '1': 184, 'ə4': 185, 'yæɜ': 186, 'a2': 187, 'ɨː': 188, 't̪': 189, 'iouɜ': 190, 'ũ': 191, 'onɡɜ': 192, 'aɨ': 193, 'iɛ2': 194, 'ɔɨ': 195, 'ɑuɜ': 196, 'o̞': 197, 'ei2': 198, 'iou2': 199, 'c': 200, 'kː': 201, 'y2': 202, 'ɖ': 203, 'oe': 204, 'dˤ': 205, 'yɛɜ': 206, 'əʊ': 207, 'S': 208, 'ɡʲ': 209, 'onɡ2': 210, 'u\"': 211, 'eiɜ': 212, 'ʈ': 213, 'ɯᵝ': 214, 'iou5': 215, 'dZ': 216, 'r̝̊': 217, 'i.2': 218, 'tS': 219, 's^': 220, 'ʝ': 221, 'yə5': 222, 'iɑɜ': 223, 'uə5': 224, 'pf': 225, 'ɨu': 226, 'iɑ2': 227, 'ou2': 228, 'ər2': 229, 'fʲ': 230, 'ai2': 231, 'r̝': 232, 'uəɜ': 233, 'ɳ': 234, 'əɨ': 235, 'ua5': 236, 'uɪ': 237, 'ɽ': 238, 'bː': 239, 'yu5': 240, 'uo2': 241, 'yɛ5': 242, 'l̩': 243, 'ɻ': 244, 'ərɜ': 245, 'ʂ': 246, 'i̪2': 247, 'ouɜ': 248, 'uaɜ': 249, 'a.': 250, 'a.ː': 251, 'yæ5': 252, 'dː': 253, 'r̩': 254, 'ee': 255, 'ɪu': 256, 'ər5': 257, 'i̪ɜ': 258, 'æi': 259, 'u:': 260, 'i.ː': 261, 't^': 262, 'o1': 263, 'ɪ^': 264, 'ai': 265, 'ueiɜ': 266, 'æː': 267, 'ɛɪ': 268, 'eə': 269, 'i.': 270, 'ɴ': 271, 'ie': 272, 'ua2': 273, 'ɑ1': 274, 'o4': 275, 'tʃː': 276, 'o:': 277, 'ɑ:': 278, 'u1': 279, 'N': 280, 'i̪1': 281, 'au': 282, 'yæ2': 283, 'u.': 284, 'qː': 285, 'yəɜ': 286, 'y:': 287, 'kʰ': 288, 'tʃʰ': 289, 'iʊ': 290, 'sx': 291, 'õ': 292, 'uo': 293, 'tʰ': 294, 'uai5': 295, 'bʰ': 296, 'u.ː': 297, 'uə2': 298, 'ʊə': 299, 'd^': 300, 's̪ː': 301, 'yiɜ': 302, 'dʰ': 303, 'r.': 304, 'oe:': 305, 'i1': 306, 'ɟː': 307, 'yu2': 308, 'nʲʲ': 309, 'i̪4': 310, 'uei2': 311, 'tsʲ': 312, 'ɸ': 313, 'ĩ': 314, 'ɑ4': 315, 't̪ː': 316, 'eɑ': 317, 'u4': 318, 'e:': 319, 'tsː': 320, 'ʈʰ': 321, 'ɡʰ': 322, 'ɯɯ': 323, 'dʒʲ': 324, 'ʂʲ': 325, 'X': 326, 'ɵː': 327, 'uaiɜ': 328, 'tɕʲ': 329, 'ã': 330, 't^ː': 331, 'ẽː': 332, 'yɛ2': 333, 'cː': 334, 'i.1': 335, 'ɛʊ': 336, 'dˤdˤ': 337, 'dʒː': 338, 'i4': 339, 'ɡː': 340, 'yi': 341, 'ɕʲ': 342, 'ɟʰ': 343, 'pʰ': 344, 'dʑʲ': 345, 'yuɜ': 346, 'ua1': 347, 'ua4': 348, 'æiː': 349, 'ɐɐ': 350, 'ui': 351, 'iou1': 352, 'ʊː': 353, 'a1': 354, 'iou4': 355, 'cʰ': 356, 'iɛ1': 357, 'yə2': 358, 'ɖʰ': 359, 'ẽ': 360, 'ʒʲ': 361, 'ää': 362, 'ər4': 363, 'iːː': 364, 'ɪː': 365, 'iɑ1': 366, 'ər1': 367, 'œː': 368, 'øi': 369, 'ɪuː': 370, 'cʰcʰ': 371, 'əː1': 372, 'iː1': 373, 'ũ': 374, 'kʰː': 375, 'o̞o̞': 376, 'xʲ': 377, 'ou1': 378, 'iɛ4': 379, 'e̞e̞': 380, 'y1': 381, 'dzː': 382, 'dʲʲ': 383, 'dʰː': 384, 'ɯᵝɯᵝ': 385, 'lː': 386, 'uo1': 387, 'i.4': 388, 'i:': 389, 'yɛ5ʲ': 390, 'a4': 391}\n"
     ]
    }
   ],
   "source": [
    "print(tokenizer.get_vocab())  # This will print the vocabulary, including the newly added token\n"
   ]
  },
  {
   "cell_type": "code",
   "execution_count": 95,
   "metadata": {},
   "outputs": [
    {
     "name": "stdout",
     "output_type": "stream",
     "text": [
      "Tokenizer Vocabulary: {'<s>': 1, '<pad>': 0, '</s>': 2, '<unk>': 3, 'n': 4, 's': 5, 't': 6, 'ə': 7, 'l': 8, 'a': 9, 'i': 10, 'k': 11, 'd': 12, 'm': 13, 'ɛ': 14, 'ɾ': 15, 'e': 16, 'ɪ': 17, 'p': 18, 'o': 19, 'ɐ': 20, 'z': 21, 'ð': 22, 'f': 23, 'j': 24, 'v': 25, 'b': 26, 'ɹ': 27, 'ʁ': 28, 'ʊ': 29, 'iː': 30, 'r': 31, 'w': 32, 'ʌ': 33, 'u': 34, 'ɡ': 35, 'æ': 36, 'aɪ': 37, 'ʃ': 38, 'h': 39, 'ɔ': 40, 'ɑː': 41, 'ŋ': 42, 'ɚ': 43, 'eɪ': 44, 'β': 45, 'uː': 46, 'y': 47, 'ɑ̃': 48, 'oʊ': 49, 'ᵻ': 50, 'eː': 51, 'θ': 52, 'aʊ': 53, 'ts': 54, 'oː': 55, 'ɔ̃': 56, 'ɣ': 57, 'ɜ': 58, 'ɑ': 59, 'dʒ': 60, 'əl': 61, 'x': 62, 'ɜː': 63, 'ç': 64, 'ʒ': 65, 'tʃ': 66, 'ɔː': 67, 'ɑːɹ': 68, 'ɛ̃': 69, 'ʎ': 70, 'ɔːɹ': 71, 'ʋ': 72, 'aː': 73, 'ɕ': 74, 'œ': 75, 'ø': 76, 'oːɹ': 77, 'ɲ': 78, 'yː': 79, 'ʔ': 80, 'iə': 81, 'i5': 82, 's.': 83, 'tɕ': 84, '??': 85, 'nʲ': 86, 'ɛː': 87, 'œ̃': 88, 'ɭ': 89, 'ɔø': 90, 'ʑ': 91, 'tʲ': 92, 'ɨ': 93, 'ɛɹ': 94, 'ts.': 95, 'rʲ': 96, 'ɪɹ': 97, 'ɭʲ': 98, 'i.5': 99, 'ɔɪ': 100, 'q': 101, 'sʲ': 102, 'u5': 103, 'ʊɹ': 104, 'iɜ': 105, 'a5': 106, 'iɛ5': 107, 'øː': 108, 'ʕ': 109, 'ja': 110, 'əɜ': 111, 'th': 112, 'ɑ5': 113, 'oɪ': 114, 'dʲ': 115, 'ə5': 116, 'tɕh': 117, 'ts.h': 118, 'mʲ': 119, 'ɯ': 120, 'dʑ': 121, 'vʲ': 122, 'e̞': 123, 'tʃʲ': 124, 'ei5': 125, 'o5': 126, 'onɡ5': 127, 'ɑu5': 128, 'iɑ5': 129, 'ai5': 130, 'aɪɚ': 131, 'kh': 132, 'ə1': 133, 'ʐ': 134, 'i2': 135, 'ʉ': 136, 'ħ': 137, 't[': 138, 'aɪə': 139, 'ʲ': 140, 'ju': 141, 'ə2': 142, 'u2': 143, 'oɜ': 144, 'pː': 145, 'iɛɜ': 146, 'ou5': 147, 'y5': 148, 'uɜ': 149, 'tː': 150, 'uo5': 151, 'd[': 152, 'uoɜ': 153, 'tsh': 154, 'ɑɜ': 155, 'ɵ': 156, 'i̪5': 157, 'uei5': 158, 'ɟ': 159, 'aɜ': 160, 'ɑɨ': 161, 'i.ɜ': 162, 'eʊ': 163, 'o2': 164, 'ɐ̃': 165, 'ä': 166, 'pʲ': 167, 'kʲ': 168, 'n̩': 169, 'ɒ': 170, 'ph': 171, 'ɑu2': 172, 'uɨ': 173, 'əɪ': 174, 'ɫ': 175, 'ɬ': 176, 'yɜ': 177, 'bʲ': 178, 'ɑ2': 179, 's̪': 180, 'aiɜ': 181, 'χ': 182, 'ɐ̃ʊ̃': 183, '1': 184, 'ə4': 185, 'yæɜ': 186, 'a2': 187, 'ɨː': 188, 't̪': 189, 'iouɜ': 190, 'ũ': 191, 'onɡɜ': 192, 'aɨ': 193, 'iɛ2': 194, 'ɔɨ': 195, 'ɑuɜ': 196, 'o̞': 197, 'ei2': 198, 'iou2': 199, 'c': 200, 'kː': 201, 'y2': 202, 'ɖ': 203, 'oe': 204, 'dˤ': 205, 'yɛɜ': 206, 'əʊ': 207, 'S': 208, 'ɡʲ': 209, 'onɡ2': 210, 'u\"': 211, 'eiɜ': 212, 'ʈ': 213, 'ɯᵝ': 214, 'iou5': 215, 'dZ': 216, 'r̝̊': 217, 'i.2': 218, 'tS': 219, 's^': 220, 'ʝ': 221, 'yə5': 222, 'iɑɜ': 223, 'uə5': 224, 'pf': 225, 'ɨu': 226, 'iɑ2': 227, 'ou2': 228, 'ər2': 229, 'fʲ': 230, 'ai2': 231, 'r̝': 232, 'uəɜ': 233, 'ɳ': 234, 'əɨ': 235, 'ua5': 236, 'uɪ': 237, 'ɽ': 238, 'bː': 239, 'yu5': 240, 'uo2': 241, 'yɛ5': 242, 'l̩': 243, 'ɻ': 244, 'ərɜ': 245, 'ʂ': 246, 'i̪2': 247, 'ouɜ': 248, 'uaɜ': 249, 'a.': 250, 'a.ː': 251, 'yæ5': 252, 'dː': 253, 'r̩': 254, 'ee': 255, 'ɪu': 256, 'ər5': 257, 'i̪ɜ': 258, 'æi': 259, 'u:': 260, 'i.ː': 261, 't^': 262, 'o1': 263, 'ɪ^': 264, 'ai': 265, 'ueiɜ': 266, 'æː': 267, 'ɛɪ': 268, 'eə': 269, 'i.': 270, 'ɴ': 271, 'ie': 272, 'ua2': 273, 'ɑ1': 274, 'o4': 275, 'tʃː': 276, 'o:': 277, 'ɑ:': 278, 'u1': 279, 'N': 280, 'i̪1': 281, 'au': 282, 'yæ2': 283, 'u.': 284, 'qː': 285, 'yəɜ': 286, 'y:': 287, 'kʰ': 288, 'tʃʰ': 289, 'iʊ': 290, 'sx': 291, 'õ': 292, 'uo': 293, 'tʰ': 294, 'uai5': 295, 'bʰ': 296, 'u.ː': 297, 'uə2': 298, 'ʊə': 299, 'd^': 300, 's̪ː': 301, 'yiɜ': 302, 'dʰ': 303, 'r.': 304, 'oe:': 305, 'i1': 306, 'ɟː': 307, 'yu2': 308, 'nʲʲ': 309, 'i̪4': 310, 'uei2': 311, 'tsʲ': 312, 'ɸ': 313, 'ĩ': 314, 'ɑ4': 315, 't̪ː': 316, 'eɑ': 317, 'u4': 318, 'e:': 319, 'tsː': 320, 'ʈʰ': 321, 'ɡʰ': 322, 'ɯɯ': 323, 'dʒʲ': 324, 'ʂʲ': 325, 'X': 326, 'ɵː': 327, 'uaiɜ': 328, 'tɕʲ': 329, 'ã': 330, 't^ː': 331, 'ẽː': 332, 'yɛ2': 333, 'cː': 334, 'i.1': 335, 'ɛʊ': 336, 'dˤdˤ': 337, 'dʒː': 338, 'i4': 339, 'ɡː': 340, 'yi': 341, 'ɕʲ': 342, 'ɟʰ': 343, 'pʰ': 344, 'dʑʲ': 345, 'yuɜ': 346, 'ua1': 347, 'ua4': 348, 'æiː': 349, 'ɐɐ': 350, 'ui': 351, 'iou1': 352, 'ʊː': 353, 'a1': 354, 'iou4': 355, 'cʰ': 356, 'iɛ1': 357, 'yə2': 358, 'ɖʰ': 359, 'ẽ': 360, 'ʒʲ': 361, 'ää': 362, 'ər4': 363, 'iːː': 364, 'ɪː': 365, 'iɑ1': 366, 'ər1': 367, 'œː': 368, 'øi': 369, 'ɪuː': 370, 'cʰcʰ': 371, 'əː1': 372, 'iː1': 373, 'ũ': 374, 'kʰː': 375, 'o̞o̞': 376, 'xʲ': 377, 'ou1': 378, 'iɛ4': 379, 'e̞e̞': 380, 'y1': 381, 'dzː': 382, 'dʲʲ': 383, 'dʰː': 384, 'ɯᵝɯᵝ': 385, 'lː': 386, 'uo1': 387, 'i.4': 388, 'i:': 389, 'yɛ5ʲ': 390, 'a4': 391}\n"
     ]
    }
   ],
   "source": [
    "print(\"Tokenizer Vocabulary:\", tokenizer.get_vocab())\n"
   ]
  },
  {
   "cell_type": "code",
   "execution_count": 96,
   "metadata": {},
   "outputs": [],
   "source": [
    "PRE_TRAINED_ID = \"facebook/wav2vec2-lv-60-espeak-cv-ft\"\n",
    "processor = AutoProcessor.from_pretrained(PRE_TRAINED_ID)\n",
    "model = AutoModelForCTC.from_pretrained(PRE_TRAINED_ID)\n",
    "BATCH_SIZE = 1"
   ]
  },
  {
   "cell_type": "code",
   "execution_count": null,
   "metadata": {},
   "outputs": [],
   "source": [
    "import numpy as np\n",
    "from transformers import Wav2Vec2Processor, Wav2Vec2ForCTC\n",
    "import torch\n",
    "from torch.utils.data import DataLoader\n",
    "from torch.nn.utils.rnn import pad_sequence\n",
    "def evaluate_model(test_df, processor, model):\n",
    "    \"\"\"\n",
    "    Evaluate the model on test data and calculate statistics.\n",
    "\n",
    "    Args:\n",
    "        test_df: DataFrame with 'audio' (input values) and 'ipa' (labels).\n",
    "        processor: Wav2Vec2Processor for processing input and labels.\n",
    "        model: Pre-trained Wav2Vec2 model.\n",
    "    Returns:\n",
    "        avg_weighted_dist: Average weighted feature edit distance.\n",
    "        std_weighted_dist: Standard deviation of weighted feature distances.\n",
    "    \"\"\"\n",
    "    assert \"audio\" in test_df.columns, \"Missing 'audio' column in test_df!\"\n",
    "    assert \"ipa\" in test_df.columns, \"Missing 'ipa' column in test_df!\"\n",
    "\n",
    "    def collate_fn(batch):\n",
    "        \"\"\"\n",
    "        Collate function to batch inputs and process them.\n",
    "        \"\"\"\n",
    "        audios = [torch.tensor(item['audio'], dtype=torch.float32) for item in batch]\n",
    "        labels = [item['ipa'] for item in batch]  # Collect ground truth IPA labels\n",
    "\n",
    "        # Pad audio sequences\n",
    "        padded_audios = pad_sequence(audios, batch_first=True, padding_value=-100)\n",
    "\n",
    "        # Perform feature extraction\n",
    "        inputs = processor.feature_extractor(\n",
    "            padded_audios.numpy(),\n",
    "            sampling_rate=16000,\n",
    "            return_tensors=\"pt\",\n",
    "            padding=False\n",
    "        )\n",
    "\n",
    "        return {\n",
    "            \"input_values\": inputs[\"input_values\"],\n",
    "            \"attention_mask\": inputs.get(\"attention_mask\"),\n",
    "            \"labels\": labels,  # Include ground truth labels in the batch\n",
    "        }\n",
    "\n",
    "    # Prepare DataLoader\n",
    "    dataset = test_df.to_dict(orient=\"records\")\n",
    "    data_loader = DataLoader(dataset, batch_size=BATCH_SIZE, collate_fn=collate_fn)\n",
    "\n",
    "    # Evaluate model\n",
    "    model.eval()\n",
    "    weighted_distances = []  # Store weighted feature distances for statistics\n",
    "    total_cer = []\n",
    "    for batch in data_loader:\n",
    "        input_values = batch[\"input_values\"]\n",
    "        ground_truth_labels = batch[\"labels\"]  # Get the ground truth IPA labels\n",
    "\n",
    "        # Move input values to the appropriate device\n",
    "        input_values = input_values.to(model.device)\n",
    "\n",
    "        with torch.no_grad():\n",
    "            outputs = model(input_values=input_values)\n",
    "            logits = outputs.logits\n",
    "\n",
    "            # Decode predictions\n",
    "            predicted_ids = torch.argmax(logits, dim=-1)\n",
    "            predictions = processor.batch_decode(predicted_ids, skip_special_tokens=True)\n",
    "            predictions = [pred.replace(' ', '') for pred in predictions]  # Strip spaces\n",
    "        # Call panphon_model_eval with label and predicted IPA\n",
    "        results = panphon_model_eval(ground_truth_labels, predictions)\n",
    "\n",
    "        # Append weighted feature edit distances\n",
    "        weighted_distances.append(results['weighted_feature_dist'])\n",
    "        total_cer.append(results['cer_score'])\n",
    "\n",
    "        # Output intermediate results\n",
    "        # print(\"predictions and ground truth\", predictions, ground_truth_labels)\n",
    "        print(f\"Weighted feature edit distance: {results['weighted_feature_dist']}\")\n",
    "        print(f\"CER: {results['cer_score']}\")\n",
    "\n",
    "    # Calculate statistics\n",
    "    weighted_distances = np.array(weighted_distances)\n",
    "    avg_weighted_dist = np.mean(weighted_distances)\n",
    "    std_weighted_dist = np.std(weighted_distances)\n",
    "\n",
    "    avg_cer = np.mean(total_cer)\n",
    "    std_cer = np.std(total_cer)\n",
    "\n",
    "\n",
    "    return avg_weighted_dist, std_weighted_dist, avg_cer, std_cer\n",
    "\n",
    "\n",
    "# Evaluate the model\n",
    "small_test_df = test_df.head(1)  # Use a subset for debugging\n",
    "avg_distance, std_distance, avg_cer, std_cer = evaluate_model(test_df, processor, model)\n",
    "print(f\"Final Results - Average Weighted Distance: {avg_distance}, Standard Deviation: {std_distance}\")\n",
    "print(f\"Final Results - Average CER: {avg_cer}, Standard Deviation: {std_cer}\")\n"
   ]
  },
  {
   "cell_type": "code",
   "execution_count": 33,
   "metadata": {},
   "outputs": [],
   "source": [
    "def cer(pred, label):\n",
    "    distances = np.zeros((len(pred) + 1, len(label) + 1))\n",
    "\n",
    "    for t1 in range(len(pred) + 1):\n",
    "        distances[t1][0] = t1\n",
    "\n",
    "    for t2 in range(len(label) + 1):\n",
    "        distances[0][t2] = t2\n",
    "        \n",
    "    a = 0\n",
    "    b = 0\n",
    "    c = 0\n",
    "    \n",
    "    for t1 in range(1, len(pred) + 1):\n",
    "        for t2 in range(1, len(label) + 1):\n",
    "            if (pred[t1-1] == label[t2-1]):\n",
    "                distances[t1][t2] = distances[t1 - 1][t2 - 1]\n",
    "            else:\n",
    "                a = distances[t1][t2 - 1]\n",
    "                b = distances[t1 - 1][t2]\n",
    "                c = distances[t1 - 1][t2 - 1]\n",
    "                \n",
    "                if (a <= b and a <= c):\n",
    "                    distances[t1][t2] = a + 1\n",
    "                elif (b <= a and b <= c):\n",
    "                    distances[t1][t2] = b + 1\n",
    "                else:\n",
    "                    distances[t1][t2] = c + 1\n",
    "\n",
    "    return distances[len(pred)][len(label)] / len(label)"
   ]
  },
  {
   "cell_type": "code",
   "execution_count": null,
   "metadata": {},
   "outputs": [],
   "source": [
    "from transformers import Trainer\n",
    "model = AutoModelForCTC.from_pretrained(PRE_TRAINED_ID)\n",
    "\n",
    "trainer = Trainer(\n",
    "    model=model,\n",
    "    data_collator=data_collator,\n",
    "    compute_metrics=compute_metrics,\n",
    "    eval_dataset=test_ds_prepared,\n",
    "    tokenizer=tokenizer\n",
    ")"
   ]
  },
  {
   "cell_type": "markdown",
   "metadata": {},
   "source": [
    "# Evaluate"
   ]
  },
  {
   "cell_type": "code",
   "execution_count": null,
   "metadata": {},
   "outputs": [],
   "source": [
    "import wandb\n",
    "eval_results = trainer.evaluate()\n",
    "print(eval_results)\n",
    "wandb.log(eval_results)"
   ]
  },
  {
   "cell_type": "code",
   "execution_count": 48,
   "metadata": {},
   "outputs": [],
   "source": [
    "def predict(model, wav_file):\n",
    "    speech = audio_file_to_array(wav_file)\n",
    "    input_values = processor(speech, sampling_rate=16000, return_tensors=\"pt\").input_values.type(torch.float32).to(model.device)\n",
    "\n",
    "    with torch.no_grad():\n",
    "        logits = model(input_values).logits\n",
    "\n",
    "    predicted_ids = torch.argmax(logits, dim=-1)\n",
    "    return processor.decode(predicted_ids[0])\n",
    "    "
   ]
  }
 ],
 "metadata": {
  "kernelspec": {
   "display_name": "venv",
   "language": "python",
   "name": "python3"
  },
  "language_info": {
   "codemirror_mode": {
    "name": "ipython",
    "version": 3
   },
   "file_extension": ".py",
   "mimetype": "text/x-python",
   "name": "python",
   "nbconvert_exporter": "python",
   "pygments_lexer": "ipython3",
   "version": "3.8.10"
  }
 },
 "nbformat": 4,
 "nbformat_minor": 2
}
