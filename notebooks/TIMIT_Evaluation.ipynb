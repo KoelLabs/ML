{
 "cells": [
  {
   "cell_type": "code",
   "execution_count": 1,
   "metadata": {},
   "outputs": [
    {
     "name": "stderr",
     "output_type": "stream",
     "text": [
      "/home/arunasrivastava/ML/venv/lib/python3.8/site-packages/tqdm/auto.py:21: TqdmWarning: IProgress not found. Please update jupyter and ipywidgets. See https://ipywidgets.readthedocs.io/en/stable/user_install.html\n",
      "  from .autonotebook import tqdm as notebook_tqdm\n"
     ]
    }
   ],
   "source": [
    "import numpy as np\n",
    "import zipfile\n",
    "from datasets import Dataset\n",
    "import pandas as pd\n",
    "\n",
    "import os\n",
    "# run as much as possible accelerated by apple silicon, fall back to cpu if not possible\n",
    "os.environ[\"PYTORCH_ENABLE_MPS_FALLBACK\"] = \"1\"\n",
    "import torch\n",
    "\n",
    "import sys\n",
    "sys.path.append('..')\n",
    "from scripts.audio import audio_file_to_array\n",
    "from scripts.ipa import timit2ipa\n",
    "from scripts.ipa import filter_chars"
   ]
  },
  {
   "cell_type": "code",
   "execution_count": 2,
   "metadata": {},
   "outputs": [],
   "source": [
    "import sys, os\n",
    "sys.path.append('..')\n",
    "from scripts.eval_tests.panphon_model_eval import panphon_model_eval "
   ]
  },
  {
   "cell_type": "code",
   "execution_count": 3,
   "metadata": {},
   "outputs": [],
   "source": [
    "# set espeak library path for macOS\n",
    "if sys.platform == \"darwin\":\n",
    "    from phonemizer.backend.espeak.wrapper import EspeakWrapper\n",
    "\n",
    "    _ESPEAK_LIBRARY = \"/opt/homebrew/Cellar/espeak/1.48.04_1/lib/libespeak.1.1.48.dylib\"\n",
    "    EspeakWrapper.set_library(_ESPEAK_LIBRARY)"
   ]
  },
  {
   "cell_type": "code",
   "execution_count": 4,
   "metadata": {},
   "outputs": [],
   "source": [
    "from transformers import AutoProcessor, AutoModelForCTC, AutoTokenizer, AutoFeatureExtractor"
   ]
  },
  {
   "cell_type": "code",
   "execution_count": 5,
   "metadata": {},
   "outputs": [],
   "source": [
    "PRE_TRAINED_ID = \"ginic/data_seed_4_wav2vec2-large-xlsr-buckeye-ipa\""
   ]
  },
  {
   "cell_type": "markdown",
   "metadata": {},
   "source": [
    "# Load Data"
   ]
  },
  {
   "cell_type": "code",
   "execution_count": 6,
   "metadata": {},
   "outputs": [],
   "source": [
    "timit = zipfile.ZipFile('../.data/TIMIT.zip', 'r')\n",
    "timit_files = timit.namelist()"
   ]
  },
  {
   "cell_type": "code",
   "execution_count": 7,
   "metadata": {},
   "outputs": [],
   "source": [
    "\n",
    "test_files = list(set(map(lambda x: x.split('.')[0], filter(lambda x: x.startswith('data/TEST'), timit_files))))"
   ]
  },
  {
   "cell_type": "code",
   "execution_count": 8,
   "metadata": {},
   "outputs": [],
   "source": [
    "WAV_HEADER_SIZE = 44\n",
    "def zipped_wav_to_array(filename):\n",
    "    with timit.open(filename) as wav_file:\n",
    "        return np.frombuffer(wav_file.read(), dtype=np.int16)[WAV_HEADER_SIZE//2:]"
   ]
  },
  {
   "cell_type": "code",
   "execution_count": 9,
   "metadata": {},
   "outputs": [
    {
     "data": {
      "text/html": [
       "<div>\n",
       "<style scoped>\n",
       "    .dataframe tbody tr th:only-of-type {\n",
       "        vertical-align: middle;\n",
       "    }\n",
       "\n",
       "    .dataframe tbody tr th {\n",
       "        vertical-align: top;\n",
       "    }\n",
       "\n",
       "    .dataframe thead th {\n",
       "        text-align: right;\n",
       "    }\n",
       "</style>\n",
       "<table border=\"1\" class=\"dataframe\">\n",
       "  <thead>\n",
       "    <tr style=\"text-align: right;\">\n",
       "      <th></th>\n",
       "      <th>audio</th>\n",
       "      <th>ipa</th>\n",
       "      <th>phoneme_starts</th>\n",
       "      <th>phoneme_ends</th>\n",
       "    </tr>\n",
       "  </thead>\n",
       "  <tbody>\n",
       "    <tr>\n",
       "      <th>0</th>\n",
       "      <td>[25971, 30303, 29285, 26995, 28271, 11552, 131...</td>\n",
       "      <td>ʃihæddʒɹdɑɹksutʔɪnɡɹɪziwɔʃwɑɾɹʔɑljɪɹ</td>\n",
       "      <td>[0, 2240, 4590, 6120, 7519, 10078, 10750, 1134...</td>\n",
       "      <td>[2240, 4590, 6120, 7519, 10078, 10750, 11340, ...</td>\n",
       "    </tr>\n",
       "    <tr>\n",
       "      <th>1</th>\n",
       "      <td>[25971, 30303, 29285, 26995, 28271, 11552, 131...</td>\n",
       "      <td>ðɛmnutuðikʌntɹiwɹɪfɹduizpɪlɡɹəmz</td>\n",
       "      <td>[0, 2084, 2424, 3751, 5013, 6140, 9400, 10720,...</td>\n",
       "      <td>[2084, 2424, 3751, 5013, 6140, 9400, 10720, 11...</td>\n",
       "    </tr>\n",
       "    <tr>\n",
       "      <th>2</th>\n",
       "      <td>[25971, 30303, 29285, 26995, 28271, 11552, 131...</td>\n",
       "      <td>ɹælfkntɹoʊldðəstɑpwɑttʃfɹmðəblittʃɹs</td>\n",
       "      <td>[0, 2246, 3174, 4720, 5320, 6440, 6976, 7812, ...</td>\n",
       "      <td>[2246, 3174, 4720, 5320, 6440, 6976, 7812, 885...</td>\n",
       "    </tr>\n",
       "    <tr>\n",
       "      <th>3</th>\n",
       "      <td>[25971, 30303, 29285, 26995, 28271, 11552, 131...</td>\n",
       "      <td>æmɡɪvzdɹaɪviŋlɛsnzɔnθɹzdeɪz</td>\n",
       "      <td>[0, 2196, 3070, 6400, 7680, 8149, 8580, 9440, ...</td>\n",
       "      <td>[2196, 3070, 6400, 7680, 8149, 8580, 9440, 101...</td>\n",
       "    </tr>\n",
       "    <tr>\n",
       "      <th>4</th>\n",
       "      <td>[25971, 30303, 29285, 26995, 28271, 11552, 131...</td>\n",
       "      <td>ittʃʌntaɪmliʔɪnkʌmlɔskoʊinsaɪɾidwɪθəbɹeɪkaʊnʔʌ...</td>\n",
       "      <td>[0, 2360, 4520, 5400, 6360, 8360, 9080, 9880, ...</td>\n",
       "      <td>[2360, 4520, 5400, 6360, 8360, 9080, 9880, 114...</td>\n",
       "    </tr>\n",
       "  </tbody>\n",
       "</table>\n",
       "</div>"
      ],
      "text/plain": [
       "                                               audio  \\\n",
       "0  [25971, 30303, 29285, 26995, 28271, 11552, 131...   \n",
       "1  [25971, 30303, 29285, 26995, 28271, 11552, 131...   \n",
       "2  [25971, 30303, 29285, 26995, 28271, 11552, 131...   \n",
       "3  [25971, 30303, 29285, 26995, 28271, 11552, 131...   \n",
       "4  [25971, 30303, 29285, 26995, 28271, 11552, 131...   \n",
       "\n",
       "                                                 ipa  \\\n",
       "0               ʃihæddʒɹdɑɹksutʔɪnɡɹɪziwɔʃwɑɾɹʔɑljɪɹ   \n",
       "1                   ðɛmnutuðikʌntɹiwɹɪfɹduizpɪlɡɹəmz   \n",
       "2               ɹælfkntɹoʊldðəstɑpwɑttʃfɹmðəblittʃɹs   \n",
       "3                        æmɡɪvzdɹaɪviŋlɛsnzɔnθɹzdeɪz   \n",
       "4  ittʃʌntaɪmliʔɪnkʌmlɔskoʊinsaɪɾidwɪθəbɹeɪkaʊnʔʌ...   \n",
       "\n",
       "                                      phoneme_starts  \\\n",
       "0  [0, 2240, 4590, 6120, 7519, 10078, 10750, 1134...   \n",
       "1  [0, 2084, 2424, 3751, 5013, 6140, 9400, 10720,...   \n",
       "2  [0, 2246, 3174, 4720, 5320, 6440, 6976, 7812, ...   \n",
       "3  [0, 2196, 3070, 6400, 7680, 8149, 8580, 9440, ...   \n",
       "4  [0, 2360, 4520, 5400, 6360, 8360, 9080, 9880, ...   \n",
       "\n",
       "                                        phoneme_ends  \n",
       "0  [2240, 4590, 6120, 7519, 10078, 10750, 11340, ...  \n",
       "1  [2084, 2424, 3751, 5013, 6140, 9400, 10720, 11...  \n",
       "2  [2246, 3174, 4720, 5320, 6440, 6976, 7812, 885...  \n",
       "3  [2196, 3070, 6400, 7680, 8149, 8580, 9440, 101...  \n",
       "4  [2360, 4520, 5400, 6360, 8360, 9080, 9880, 114...  "
      ]
     },
     "execution_count": 9,
     "metadata": {},
     "output_type": "execute_result"
    }
   ],
   "source": [
    "# First, ensure that the simplify_timit function is available and works\n",
    "def simplify_timit(phoneme):\n",
    "    # Substitute the phoneme based on the dictionary\n",
    "    substitution_dict = {\n",
    "        'ɾ̃': 'ɾ',  # Replace nasalized flap with plain flap\n",
    "        'ŋ̍': 'ŋ',  # Remove syllabic marker from 'ŋ̍'\n",
    "        'ə̥': 'ə',  # Remove voiceless marker from 'ə̥'\n",
    "        'ɝ': 'ɹ',   # Simplify rhotacized schwa to 'ɹ'\n",
    "        'ɚ': 'ɹ',   # Simplify rhotacized schwa to 'ɹ'\n",
    "        'l̩': 'l',   # Remove syllabic marker from 'l̩'\n",
    "        'm̩': 'm',   # Remove syllabic marker from 'm̩'\n",
    "        'n̩': 'n',   # Remove syllabic marker from 'n̩'\n",
    "        '̩': '',     # Remove syllabic marker\n",
    "        'ʉ': 'u',    # Replace high central rounded vowel with high back rounded vowel\n",
    "        'ɨ': 'i',    # Replace high central unrounded vowel with high front unrounded vowel\n",
    "        ' ': '',     # Remove nasalization marker\n",
    "        'ɦ': 'h',    # Replace voiceless glottal fricative with voiceless glottal fricative\n",
    "        '͡': '', # Simplify affricate to single character\n",
    "        # Add other necessary substitutions if needed\n",
    "    }\n",
    "    phoneme.replace('͡', '') \n",
    "    # Apply the substitution for the phoneme\n",
    "    return substitution_dict.get(phoneme, phoneme)  # Return simplified phoneme or the original if no replacement\n",
    "\n",
    "def remove_stress_mark(text):\n",
    "    \"\"\"\n",
    "    Removes the combining double inverted breve (͡) from text.\n",
    "    \n",
    "    Args:\n",
    "        text: String or iterable containing IPA symbols\n",
    "        \n",
    "    Returns:\n",
    "        Text with stress marks removed\n",
    "    \"\"\"\n",
    "    if isinstance(text, str):\n",
    "        return text.replace('͡', '')\n",
    "    else:\n",
    "        raise TypeError(\"Input must be string, set, or list\")\n",
    "    \n",
    "# Updated timit_file_to_dict to use the simplified IPA phonemes\n",
    "def timit_file_to_dict(filename):\n",
    "    with timit.open(filename + '.PHN') as phn_file:\n",
    "        timestamped_phonemes = []\n",
    "        for line in phn_file.read().decode('utf-8').split('\\n'):\n",
    "            if line == '':\n",
    "                continue\n",
    "            start, end, phoneme = line.split()\n",
    "            \n",
    "            # Convert to IPA first and then simplify the phoneme\n",
    "            ipa_phonemes = timit2ipa(phoneme, \"eng\")\n",
    "            \n",
    "            # Now filter only the necessary characters (this simplifies the phoneme to the basic form)\n",
    "            cleaned_ipa = filter_chars(simplify_timit(ipa_phonemes), filter_type=\"letters\")\n",
    "            cleaned_ipa = remove_stress_mark(cleaned_ipa)\n",
    "            timestamped_phonemes.append((cleaned_ipa, int(start), int(end)))\n",
    "\n",
    "    return {'timestamped_phonemes': timestamped_phonemes, 'wav_filename': filename + '.WAV'}\n",
    "\n",
    "# Updated files_to_df to create DataFrame with cleaned-up phonemes\n",
    "def files_to_df(files):\n",
    "    records = []\n",
    "    for filename in files:\n",
    "        parsed = timit_file_to_dict(filename)\n",
    "        parsed['audio'] = zipped_wav_to_array(parsed['wav_filename'])\n",
    "        del parsed['wav_filename']\n",
    "        parsed['ipa'] = \"\".join(phoneme for phoneme, _, _ in parsed['timestamped_phonemes'])\n",
    "        parsed['phoneme_starts'] = [start for _, start, _ in parsed['timestamped_phonemes']]\n",
    "        parsed['phoneme_ends'] = [end for _, _, end in parsed['timestamped_phonemes']]\n",
    "        del parsed['timestamped_phonemes']\n",
    "        records.append(parsed)\n",
    "    return pd.DataFrame(records)\n",
    "\n",
    "# Call files_to_df for your test files\n",
    "test_df = files_to_df(test_files)\n",
    "test_df.head()\n"
   ]
  },
  {
   "cell_type": "code",
   "execution_count": 10,
   "metadata": {},
   "outputs": [
    {
     "name": "stdout",
     "output_type": "stream",
     "text": [
      "Number of unique IPA symbols in TIMIT: {'h', 'ʒ', 'i', 't', 'j', 'ɡ', 'ə', 'ɹ', 's', 'v', 'ɔ', 'ɛ', 'æ', 'ð', 'ɑ', 'θ', 'ʌ', 'p', 'ŋ', 'u', 'w', 'f', 'd', 'o', 'ʔ', 'b', 'ʃ', 'ʊ', 'a', 'm', 'z', 'l', 'k', 'ɾ', 'n', 'ɪ', 'e'}\n"
     ]
    }
   ],
   "source": [
    "timit_vocab = set(\"\".join(test_df['ipa']))\n",
    "print(f\"Number of unique IPA symbols in TIMIT: {(timit_vocab)}\")"
   ]
  },
  {
   "cell_type": "markdown",
   "metadata": {},
   "source": [
    "### Cleaning Up Audio"
   ]
  },
  {
   "cell_type": "code",
   "execution_count": 11,
   "metadata": {},
   "outputs": [],
   "source": [
    "def crop_audio(row):\n",
    "    # Access the phoneme_starts column and get the last value of the list\n",
    "    end = row['phoneme_starts'][-1]\n",
    "    # Access the phoneme_ends column and get the first value of the list\n",
    "    start = row['phoneme_ends'][0]\n",
    "    # Crop the audio from start to end\n",
    "    # note that start and end are in samples, not seconds\n",
    "    cropped_audio = row['audio'][start:end]\n",
    "    \n",
    "    return cropped_audio"
   ]
  },
  {
   "cell_type": "code",
   "execution_count": 12,
   "metadata": {},
   "outputs": [
    {
     "data": {
      "image/png": "[encoded data removed]",
      "text/plain": [
       "<Figure size 640x480 with 1 Axes>"
      ]
     },
     "metadata": {},
     "output_type": "display_data"
    }
   ],
   "source": [
    "# graph one audio to see start signal that we will remove\n",
    "import matplotlib.pyplot as plt\n",
    "plt.plot(test_df['audio'][0])\n",
    "plt.show()"
   ]
  },
  {
   "cell_type": "code",
   "execution_count": 13,
   "metadata": {},
   "outputs": [
    {
     "data": {
      "text/html": [
       "<div>\n",
       "<style scoped>\n",
       "    .dataframe tbody tr th:only-of-type {\n",
       "        vertical-align: middle;\n",
       "    }\n",
       "\n",
       "    .dataframe tbody tr th {\n",
       "        vertical-align: top;\n",
       "    }\n",
       "\n",
       "    .dataframe thead th {\n",
       "        text-align: right;\n",
       "    }\n",
       "</style>\n",
       "<table border=\"1\" class=\"dataframe\">\n",
       "  <thead>\n",
       "    <tr style=\"text-align: right;\">\n",
       "      <th></th>\n",
       "      <th>audio</th>\n",
       "      <th>ipa</th>\n",
       "      <th>phoneme_starts</th>\n",
       "      <th>phoneme_ends</th>\n",
       "      <th>cropped_audio</th>\n",
       "    </tr>\n",
       "  </thead>\n",
       "  <tbody>\n",
       "    <tr>\n",
       "      <th>0</th>\n",
       "      <td>[25971, 30303, 29285, 26995, 28271, 11552, 131...</td>\n",
       "      <td>ʃihæddʒɹdɑɹksutʔɪnɡɹɪziwɔʃwɑɾɹʔɑljɪɹ</td>\n",
       "      <td>[0, 2240, 4590, 6120, 7519, 10078, 10750, 1134...</td>\n",
       "      <td>[2240, 4590, 6120, 7519, 10078, 10750, 11340, ...</td>\n",
       "      <td>[2, 4, 2, 3, 2, 6, 2, 6, 2, 4, 5, 2, 6, 5, 3, ...</td>\n",
       "    </tr>\n",
       "    <tr>\n",
       "      <th>1</th>\n",
       "      <td>[25971, 30303, 29285, 26995, 28271, 11552, 131...</td>\n",
       "      <td>ðɛmnutuðikʌntɹiwɹɪfɹduizpɪlɡɹəmz</td>\n",
       "      <td>[0, 2084, 2424, 3751, 5013, 6140, 9400, 10720,...</td>\n",
       "      <td>[2084, 2424, 3751, 5013, 6140, 9400, 10720, 11...</td>\n",
       "      <td>[-1, 1, 2, -3, 3, 2, -2, -1, -2, 2, 2, 2, -1, ...</td>\n",
       "    </tr>\n",
       "    <tr>\n",
       "      <th>2</th>\n",
       "      <td>[25971, 30303, 29285, 26995, 28271, 11552, 131...</td>\n",
       "      <td>ɹælfkntɹoʊldðəstɑpwɑttʃfɹmðəblittʃɹs</td>\n",
       "      <td>[0, 2246, 3174, 4720, 5320, 6440, 6976, 7812, ...</td>\n",
       "      <td>[2246, 3174, 4720, 5320, 6440, 6976, 7812, 885...</td>\n",
       "      <td>[-1, -1, -2, -1, 0, 0, -2, -1, 4, -1, 0, 0, 3,...</td>\n",
       "    </tr>\n",
       "    <tr>\n",
       "      <th>3</th>\n",
       "      <td>[25971, 30303, 29285, 26995, 28271, 11552, 131...</td>\n",
       "      <td>æmɡɪvzdɹaɪviŋlɛsnzɔnθɹzdeɪz</td>\n",
       "      <td>[0, 2196, 3070, 6400, 7680, 8149, 8580, 9440, ...</td>\n",
       "      <td>[2196, 3070, 6400, 7680, 8149, 8580, 9440, 101...</td>\n",
       "      <td>[2, 1, 0, 2, -1, 2, 1, 2, 1, 4, 2, 3, 2, -2, 4...</td>\n",
       "    </tr>\n",
       "    <tr>\n",
       "      <th>4</th>\n",
       "      <td>[25971, 30303, 29285, 26995, 28271, 11552, 131...</td>\n",
       "      <td>ittʃʌntaɪmliʔɪnkʌmlɔskoʊinsaɪɾidwɪθəbɹeɪkaʊnʔʌ...</td>\n",
       "      <td>[0, 2360, 4520, 5400, 6360, 8360, 9080, 9880, ...</td>\n",
       "      <td>[2360, 4520, 5400, 6360, 8360, 9080, 9880, 114...</td>\n",
       "      <td>[-1, 1, -1, 2, 2, -2, 3, 1, 1, 0, 2, 2, 1, 0, ...</td>\n",
       "    </tr>\n",
       "  </tbody>\n",
       "</table>\n",
       "</div>"
      ],
      "text/plain": [
       "                                               audio  \\\n",
       "0  [25971, 30303, 29285, 26995, 28271, 11552, 131...   \n",
       "1  [25971, 30303, 29285, 26995, 28271, 11552, 131...   \n",
       "2  [25971, 30303, 29285, 26995, 28271, 11552, 131...   \n",
       "3  [25971, 30303, 29285, 26995, 28271, 11552, 131...   \n",
       "4  [25971, 30303, 29285, 26995, 28271, 11552, 131...   \n",
       "\n",
       "                                                 ipa  \\\n",
       "0               ʃihæddʒɹdɑɹksutʔɪnɡɹɪziwɔʃwɑɾɹʔɑljɪɹ   \n",
       "1                   ðɛmnutuðikʌntɹiwɹɪfɹduizpɪlɡɹəmz   \n",
       "2               ɹælfkntɹoʊldðəstɑpwɑttʃfɹmðəblittʃɹs   \n",
       "3                        æmɡɪvzdɹaɪviŋlɛsnzɔnθɹzdeɪz   \n",
       "4  ittʃʌntaɪmliʔɪnkʌmlɔskoʊinsaɪɾidwɪθəbɹeɪkaʊnʔʌ...   \n",
       "\n",
       "                                      phoneme_starts  \\\n",
       "0  [0, 2240, 4590, 6120, 7519, 10078, 10750, 1134...   \n",
       "1  [0, 2084, 2424, 3751, 5013, 6140, 9400, 10720,...   \n",
       "2  [0, 2246, 3174, 4720, 5320, 6440, 6976, 7812, ...   \n",
       "3  [0, 2196, 3070, 6400, 7680, 8149, 8580, 9440, ...   \n",
       "4  [0, 2360, 4520, 5400, 6360, 8360, 9080, 9880, ...   \n",
       "\n",
       "                                        phoneme_ends  \\\n",
       "0  [2240, 4590, 6120, 7519, 10078, 10750, 11340, ...   \n",
       "1  [2084, 2424, 3751, 5013, 6140, 9400, 10720, 11...   \n",
       "2  [2246, 3174, 4720, 5320, 6440, 6976, 7812, 885...   \n",
       "3  [2196, 3070, 6400, 7680, 8149, 8580, 9440, 101...   \n",
       "4  [2360, 4520, 5400, 6360, 8360, 9080, 9880, 114...   \n",
       "\n",
       "                                       cropped_audio  \n",
       "0  [2, 4, 2, 3, 2, 6, 2, 6, 2, 4, 5, 2, 6, 5, 3, ...  \n",
       "1  [-1, 1, 2, -3, 3, 2, -2, -1, -2, 2, 2, 2, -1, ...  \n",
       "2  [-1, -1, -2, -1, 0, 0, -2, -1, 4, -1, 0, 0, 3,...  \n",
       "3  [2, 1, 0, 2, -1, 2, 1, 2, 1, 4, 2, 3, 2, -2, 4...  \n",
       "4  [-1, 1, -1, 2, 2, -2, 3, 1, 1, 0, 2, 2, 1, 0, ...  "
      ]
     },
     "execution_count": 13,
     "metadata": {},
     "output_type": "execute_result"
    }
   ],
   "source": [
    "test_df['cropped_audio'] = test_df.apply(crop_audio, axis=1)\n",
    "test_df.head()"
   ]
  },
  {
   "cell_type": "code",
   "execution_count": 14,
   "metadata": {},
   "outputs": [
    {
     "data": {
      "text/plain": [
       "[<matplotlib.lines.Line2D at 0x7fb75dfa6250>]"
      ]
     },
     "execution_count": 14,
     "metadata": {},
     "output_type": "execute_result"
    },
    {
     "data": {
      "image/png": "[encoded data removed]",
      "text/plain": [
       "<Figure size 640x480 with 1 Axes>"
      ]
     },
     "metadata": {},
     "output_type": "display_data"
    }
   ],
   "source": [
    "# visualize again, much better!\n",
    "plt.plot(test_df['cropped_audio'][0])\n"
   ]
  },
  {
   "cell_type": "code",
   "execution_count": 15,
   "metadata": {},
   "outputs": [
    {
     "data": {
      "text/html": [
       "<div>\n",
       "<style scoped>\n",
       "    .dataframe tbody tr th:only-of-type {\n",
       "        vertical-align: middle;\n",
       "    }\n",
       "\n",
       "    .dataframe tbody tr th {\n",
       "        vertical-align: top;\n",
       "    }\n",
       "\n",
       "    .dataframe thead th {\n",
       "        text-align: right;\n",
       "    }\n",
       "</style>\n",
       "<table border=\"1\" class=\"dataframe\">\n",
       "  <thead>\n",
       "    <tr style=\"text-align: right;\">\n",
       "      <th></th>\n",
       "      <th>ipa</th>\n",
       "      <th>audio</th>\n",
       "    </tr>\n",
       "  </thead>\n",
       "  <tbody>\n",
       "    <tr>\n",
       "      <th>0</th>\n",
       "      <td>ʃihæddʒɹdɑɹksutʔɪnɡɹɪziwɔʃwɑɾɹʔɑljɪɹ</td>\n",
       "      <td>[2, 4, 2, 3, 2, 6, 2, 6, 2, 4, 5, 2, 6, 5, 3, ...</td>\n",
       "    </tr>\n",
       "    <tr>\n",
       "      <th>1</th>\n",
       "      <td>ðɛmnutuðikʌntɹiwɹɪfɹduizpɪlɡɹəmz</td>\n",
       "      <td>[-1, 1, 2, -3, 3, 2, -2, -1, -2, 2, 2, 2, -1, ...</td>\n",
       "    </tr>\n",
       "    <tr>\n",
       "      <th>2</th>\n",
       "      <td>ɹælfkntɹoʊldðəstɑpwɑttʃfɹmðəblittʃɹs</td>\n",
       "      <td>[-1, -1, -2, -1, 0, 0, -2, -1, 4, -1, 0, 0, 3,...</td>\n",
       "    </tr>\n",
       "    <tr>\n",
       "      <th>3</th>\n",
       "      <td>æmɡɪvzdɹaɪviŋlɛsnzɔnθɹzdeɪz</td>\n",
       "      <td>[2, 1, 0, 2, -1, 2, 1, 2, 1, 4, 2, 3, 2, -2, 4...</td>\n",
       "    </tr>\n",
       "    <tr>\n",
       "      <th>4</th>\n",
       "      <td>ittʃʌntaɪmliʔɪnkʌmlɔskoʊinsaɪɾidwɪθəbɹeɪkaʊnʔʌ...</td>\n",
       "      <td>[-1, 1, -1, 2, 2, -2, 3, 1, 1, 0, 2, 2, 1, 0, ...</td>\n",
       "    </tr>\n",
       "  </tbody>\n",
       "</table>\n",
       "</div>"
      ],
      "text/plain": [
       "                                                 ipa  \\\n",
       "0               ʃihæddʒɹdɑɹksutʔɪnɡɹɪziwɔʃwɑɾɹʔɑljɪɹ   \n",
       "1                   ðɛmnutuðikʌntɹiwɹɪfɹduizpɪlɡɹəmz   \n",
       "2               ɹælfkntɹoʊldðəstɑpwɑttʃfɹmðəblittʃɹs   \n",
       "3                        æmɡɪvzdɹaɪviŋlɛsnzɔnθɹzdeɪz   \n",
       "4  ittʃʌntaɪmliʔɪnkʌmlɔskoʊinsaɪɾidwɪθəbɹeɪkaʊnʔʌ...   \n",
       "\n",
       "                                               audio  \n",
       "0  [2, 4, 2, 3, 2, 6, 2, 6, 2, 4, 5, 2, 6, 5, 3, ...  \n",
       "1  [-1, 1, 2, -3, 3, 2, -2, -1, -2, 2, 2, 2, -1, ...  \n",
       "2  [-1, -1, -2, -1, 0, 0, -2, -1, 4, -1, 0, 0, 3,...  \n",
       "3  [2, 1, 0, 2, -1, 2, 1, 2, 1, 4, 2, 3, 2, -2, 4...  \n",
       "4  [-1, 1, -1, 2, 2, -2, 3, 1, 1, 0, 2, 2, 1, 0, ...  "
      ]
     },
     "execution_count": 15,
     "metadata": {},
     "output_type": "execute_result"
    }
   ],
   "source": [
    "# Same for test_df\n",
    "test_df = test_df.drop(columns=['phoneme_starts', 'phoneme_ends', 'audio'])\n",
    "test_df = test_df.rename(columns={'cropped_audio': 'audio'})\n",
    "test_df.head()"
   ]
  },
  {
   "cell_type": "code",
   "execution_count": 16,
   "metadata": {},
   "outputs": [],
   "source": [
    "\n",
    "test_ds = Dataset.from_pandas(test_df)"
   ]
  },
  {
   "cell_type": "markdown",
   "metadata": {},
   "source": [
    "## retrieve the Total TIMIT Vocab \n",
    "we will grab the set of unique timit phonemes and map them to IPA. this will be the vocab all models will be adjusted to fit"
   ]
  },
  {
   "cell_type": "markdown",
   "metadata": {},
   "source": [
    "# Tokenize!"
   ]
  },
  {
   "cell_type": "code",
   "execution_count": 30,
   "metadata": {},
   "outputs": [
    {
     "name": "stdout",
     "output_type": "stream",
     "text": [
      "{'</s>': 2, '<pad>': 0, '<s>': 1, '<unk>': 3, 'a': 4, 'b': 5, 'd': 6, 'e': 7, 'f': 8, 'h': 9, 'i': 10, 'j': 11, 'k': 12, 'l': 13, 'm': 14, 'n': 15, 'o': 16, 'p': 17, 's': 18, 't': 19, 'u': 20, 'v': 21, 'w': 22, 'z': 23, 'æ': 24, 'ð': 25, 'ŋ': 26, 'ɑ': 27, 'ɔ': 28, 'ə': 29, 'ɛ': 30, 'ɡ': 31, 'ɪ': 32, 'ɹ': 33, 'ɾ': 34, 'ʃ': 35, 'ʊ': 36, 'ʌ': 37, 'ʒ': 38, 'ʔ': 39, 'θ': 40}\n"
     ]
    }
   ],
   "source": [
    "tokenizer = AutoTokenizer.from_pretrained(PRE_TRAINED_ID)\n",
    "vocab = tokenizer.get_vocab()\n",
    "print(vocab)"
   ]
  },
  {
   "cell_type": "code",
   "execution_count": 31,
   "metadata": {},
   "outputs": [
    {
     "name": "stdout",
     "output_type": "stream",
     "text": [
      "{'</s>': 2, '<pad>': 0, '<s>': 1, '<unk>': 3, 'a': 4, 'b': 5, 'd': 6, 'e': 7, 'f': 8, 'h': 9, 'i': 10, 'j': 11, 'k': 12, 'l': 13, 'm': 14, 'n': 15, 'o': 16, 'p': 17, 's': 18, 't': 19, 'u': 20, 'v': 21, 'w': 22, 'z': 23, 'æ': 24, 'ð': 25, 'ŋ': 26, 'ɑ': 27, 'ɔ': 28, 'ə': 29, 'ɛ': 30, 'ɡ': 31, 'ɪ': 32, 'ɹ': 33, 'ɾ': 34, 'ʃ': 35, 'ʊ': 36, 'ʌ': 37, 'ʒ': 38, 'ʔ': 39, 'θ': 40}\n"
     ]
    }
   ],
   "source": [
    "# add missing symbols to the vocab\n",
    "missing_symbols = timit_vocab - set(vocab.keys())\n",
    "tokenizer.add_tokens(list(missing_symbols))\n",
    "vocab = tokenizer.get_vocab()\n",
    "# assert missing is empty\n",
    "assert len(missing_symbols) == 0\n",
    "print(vocab)\n"
   ]
  },
  {
   "cell_type": "markdown",
   "metadata": {},
   "source": [
    "# Update Feature Extraction"
   ]
  },
  {
   "cell_type": "code",
   "execution_count": 32,
   "metadata": {},
   "outputs": [],
   "source": [
    "feature_extractor = AutoFeatureExtractor.from_pretrained(PRE_TRAINED_ID)"
   ]
  },
  {
   "cell_type": "markdown",
   "metadata": {},
   "source": [
    "We don't need to update the feature extractor since it has been pretrained on 16kHz audio which matches the TIMIT dataset.\n",
    "\n",
    "For datasets with different sampling rates, the feature extractor should be updated or the audio resampled (easier).\n",
    "\n",
    "This is also where code to add extra features (such as conditioning on speaker's native language etc.) would be added."
   ]
  },
  {
   "cell_type": "markdown",
   "metadata": {},
   "source": [
    "# Preprocess Data"
   ]
  },
  {
   "cell_type": "code",
   "execution_count": 33,
   "metadata": {},
   "outputs": [
    {
     "data": {
      "text/html": [
       "<div>\n",
       "<style scoped>\n",
       "    .dataframe tbody tr th:only-of-type {\n",
       "        vertical-align: middle;\n",
       "    }\n",
       "\n",
       "    .dataframe tbody tr th {\n",
       "        vertical-align: top;\n",
       "    }\n",
       "\n",
       "    .dataframe thead th {\n",
       "        text-align: right;\n",
       "    }\n",
       "</style>\n",
       "<table border=\"1\" class=\"dataframe\">\n",
       "  <thead>\n",
       "    <tr style=\"text-align: right;\">\n",
       "      <th></th>\n",
       "      <th>ipa</th>\n",
       "      <th>audio</th>\n",
       "    </tr>\n",
       "  </thead>\n",
       "  <tbody>\n",
       "    <tr>\n",
       "      <th>0</th>\n",
       "      <td>ʃihæddʒɹdɑɹksutʔɪnɡɹɪziwɔʃwɑɾɹʔɑljɪɹ</td>\n",
       "      <td>[2, 4, 2, 3, 2, 6, 2, 6, 2, 4, 5, 2, 6, 5, 3, ...</td>\n",
       "    </tr>\n",
       "    <tr>\n",
       "      <th>1</th>\n",
       "      <td>ðɛmnutuðikʌntɹiwɹɪfɹduizpɪlɡɹəmz</td>\n",
       "      <td>[-1, 1, 2, -3, 3, 2, -2, -1, -2, 2, 2, 2, -1, ...</td>\n",
       "    </tr>\n",
       "    <tr>\n",
       "      <th>2</th>\n",
       "      <td>ɹælfkntɹoʊldðəstɑpwɑttʃfɹmðəblittʃɹs</td>\n",
       "      <td>[-1, -1, -2, -1, 0, 0, -2, -1, 4, -1, 0, 0, 3,...</td>\n",
       "    </tr>\n",
       "    <tr>\n",
       "      <th>3</th>\n",
       "      <td>æmɡɪvzdɹaɪviŋlɛsnzɔnθɹzdeɪz</td>\n",
       "      <td>[2, 1, 0, 2, -1, 2, 1, 2, 1, 4, 2, 3, 2, -2, 4...</td>\n",
       "    </tr>\n",
       "    <tr>\n",
       "      <th>4</th>\n",
       "      <td>ittʃʌntaɪmliʔɪnkʌmlɔskoʊinsaɪɾidwɪθəbɹeɪkaʊnʔʌ...</td>\n",
       "      <td>[-1, 1, -1, 2, 2, -2, 3, 1, 1, 0, 2, 2, 1, 0, ...</td>\n",
       "    </tr>\n",
       "  </tbody>\n",
       "</table>\n",
       "</div>"
      ],
      "text/plain": [
       "                                                 ipa  \\\n",
       "0               ʃihæddʒɹdɑɹksutʔɪnɡɹɪziwɔʃwɑɾɹʔɑljɪɹ   \n",
       "1                   ðɛmnutuðikʌntɹiwɹɪfɹduizpɪlɡɹəmz   \n",
       "2               ɹælfkntɹoʊldðəstɑpwɑttʃfɹmðəblittʃɹs   \n",
       "3                        æmɡɪvzdɹaɪviŋlɛsnzɔnθɹzdeɪz   \n",
       "4  ittʃʌntaɪmliʔɪnkʌmlɔskoʊinsaɪɾidwɪθəbɹeɪkaʊnʔʌ...   \n",
       "\n",
       "                                               audio  \n",
       "0  [2, 4, 2, 3, 2, 6, 2, 6, 2, 4, 5, 2, 6, 5, 3, ...  \n",
       "1  [-1, 1, 2, -3, 3, 2, -2, -1, -2, 2, 2, 2, -1, ...  \n",
       "2  [-1, -1, -2, -1, 0, 0, -2, -1, 4, -1, 0, 0, 3,...  \n",
       "3  [2, 1, 0, 2, -1, 2, 1, 2, 1, 4, 2, 3, 2, -2, 4...  \n",
       "4  [-1, 1, -1, 2, 2, -2, 3, 1, 1, 0, 2, 2, 1, 0, ...  "
      ]
     },
     "execution_count": 33,
     "metadata": {},
     "output_type": "execute_result"
    }
   ],
   "source": [
    "test_df.head()"
   ]
  },
  {
   "cell_type": "markdown",
   "metadata": {},
   "source": [
    "# Fine-Tune Model"
   ]
  },
  {
   "cell_type": "code",
   "execution_count": 34,
   "metadata": {},
   "outputs": [
    {
     "name": "stdout",
     "output_type": "stream",
     "text": [
      "{'</s>': 2, '<pad>': 0, '<s>': 1, '<unk>': 3, 'a': 4, 'b': 5, 'd': 6, 'e': 7, 'f': 8, 'h': 9, 'i': 10, 'j': 11, 'k': 12, 'l': 13, 'm': 14, 'n': 15, 'o': 16, 'p': 17, 's': 18, 't': 19, 'u': 20, 'v': 21, 'w': 22, 'z': 23, 'æ': 24, 'ð': 25, 'ŋ': 26, 'ɑ': 27, 'ɔ': 28, 'ə': 29, 'ɛ': 30, 'ɡ': 31, 'ɪ': 32, 'ɹ': 33, 'ɾ': 34, 'ʃ': 35, 'ʊ': 36, 'ʌ': 37, 'ʒ': 38, 'ʔ': 39, 'θ': 40}\n"
     ]
    }
   ],
   "source": [
    "print(tokenizer.get_vocab())  # This will print the vocabulary, including the newly added token\n"
   ]
  },
  {
   "cell_type": "code",
   "execution_count": 35,
   "metadata": {},
   "outputs": [
    {
     "name": "stdout",
     "output_type": "stream",
     "text": [
      "Tokenizer Vocabulary: {'</s>': 2, '<pad>': 0, '<s>': 1, '<unk>': 3, 'a': 4, 'b': 5, 'd': 6, 'e': 7, 'f': 8, 'h': 9, 'i': 10, 'j': 11, 'k': 12, 'l': 13, 'm': 14, 'n': 15, 'o': 16, 'p': 17, 's': 18, 't': 19, 'u': 20, 'v': 21, 'w': 22, 'z': 23, 'æ': 24, 'ð': 25, 'ŋ': 26, 'ɑ': 27, 'ɔ': 28, 'ə': 29, 'ɛ': 30, 'ɡ': 31, 'ɪ': 32, 'ɹ': 33, 'ɾ': 34, 'ʃ': 35, 'ʊ': 36, 'ʌ': 37, 'ʒ': 38, 'ʔ': 39, 'θ': 40}\n"
     ]
    }
   ],
   "source": [
    "print(\"Tokenizer Vocabulary:\", tokenizer.get_vocab())\n"
   ]
  },
  {
   "cell_type": "code",
   "execution_count": 27,
   "metadata": {},
   "outputs": [],
   "source": [
    "PRE_TRAINED_ID = \"/home/arunasrivastava/ML/notebooks/results-b1\"\n",
    "processor = AutoProcessor.from_pretrained(PRE_TRAINED_ID)\n",
    "model = AutoModelForCTC.from_pretrained(PRE_TRAINED_ID)\n",
    "BATCH_SIZE = 1"
   ]
  },
  {
   "cell_type": "code",
   "execution_count": 36,
   "metadata": {},
   "outputs": [
    {
     "name": "stdout",
     "output_type": "stream",
     "text": [
      "{'</s>': 2, '<pad>': 0, '<s>': 1, '<unk>': 3, 'a': 4, 'b': 5, 'd': 6, 'e': 7, 'f': 8, 'h': 9, 'i': 10, 'j': 11, 'k': 12, 'l': 13, 'm': 14, 'n': 15, 'o': 16, 'p': 17, 's': 18, 't': 19, 'u': 20, 'v': 21, 'w': 22, 'z': 23, 'æ': 24, 'ð': 25, 'ŋ': 26, 'ɑ': 27, 'ɔ': 28, 'ə': 29, 'ɛ': 30, 'ɡ': 31, 'ɪ': 32, 'ɹ': 33, 'ɾ': 34, 'ʃ': 35, 'ʊ': 36, 'ʌ': 37, 'ʒ': 38, 'ʔ': 39, 'θ': 40}\n"
     ]
    }
   ],
   "source": [
    "# add missing symbols to the vocab\n",
    "missing_symbols = timit_vocab - set(vocab.keys())\n",
    "tokenizer.add_tokens(list(missing_symbols))\n",
    "vocab = tokenizer.get_vocab()\n",
    "# assert missing is empty\n",
    "assert len(missing_symbols) == 0\n",
    "print(vocab)"
   ]
  },
  {
   "cell_type": "code",
   "execution_count": 37,
   "metadata": {},
   "outputs": [
    {
     "name": "stderr",
     "output_type": "stream",
     "text": [
      "/home/arunasrivastava/ML/venv/lib/python3.8/site-packages/panphon/distance.py:73: YAMLLoadWarning: calling yaml.load() without Loader=... is deprecated, as the default Loader is unsafe. Please read https://msg.pyyaml.org/load for full details.\n",
      "  dogol_prime = yaml.load(f.read())\n"
     ]
    },
    {
     "name": "stdout",
     "output_type": "stream",
     "text": [
      "prediction: ɪʃiɪhæɪdʒjɹɪdɪʌɑɹkɪksɪuɪtɪnɪɡɹiɪziɪwɔɪʃɪwɔɾɹɪɔlɪjɪɹɪ\n",
      "ground_truth: ʃihæddʒɹdɑɹksutʔɪnɡɹɪziwɔʃwɑɾɹʔɑljɪɹ\n",
      "Weighted feature edit distance: 130.1875\n",
      "CER: 0.6111111111111112\n",
      "prediction: ɪðɪɛmɪnɪuɪtɪtɪuɪðɪkɪkɪʌntʃɹiɪhwɹɪfɹɪdɪtɪuɪzɪpɪlɪɡɹɪmɪzɪ\n",
      "ground_truth: ðɛmnutuðikʌntɹiwɹɪfɹduizpɪlɡɹəmz\n",
      "Weighted feature edit distance: 167.5\n",
      "CER: 0.8125\n",
      "prediction: ɪɹɪælfkɪntʃɹoʊldɪsɪtɪɑpɪpwɔɑtʃfɹʌmnʌɪbleiɪtɪtʃɹɪszɪ\n",
      "ground_truth: ɹælfkntɹoʊldðəstɑpwɑttʃfɹmðəblittʃɹs\n",
      "Weighted feature edit distance: 119.0625\n",
      "CER: 0.6111111111111112\n",
      "prediction: ɪpɪæɪnmɪɡɪvzɪdɹaɪvɪŋɪlɪɛɪsɪsɪnɪdzɪʌɔɑnɪtɪθɪɹɪzdeɪs\n",
      "ground_truth: æmɡɪvzdɹaɪviŋlɛsnzɔnθɹzdeɪz\n",
      "Weighted feature edit distance: 167.0\n",
      "CER: 0.9259259259259259\n",
      "prediction: ɪiɪtɪtʃɪʌɪntɪæɪmɹɪliɪŋɪkɪʌmɪlɪɔɪsɪkɪoʊɪnɪsɪaɪɾɪtɪwɪðɪðɪðɪbɹeɪkɪdɪaʊɪnʔɪʌveɪhiɪɾɪŋɪkɪsɪsɪstɪtɪʌmɪplɔɪt\n",
      "ground_truth: ittʃʌntaɪmliʔɪnkʌmlɔskoʊinsaɪɾidwɪθəbɹeɪkaʊnʔʌveɪhiɾiŋsɪstimpɔɹt\n",
      "Weighted feature edit distance: 276.875\n",
      "CER: 0.765625\n",
      "prediction: ɪðɪvɪjuɪpɔɪnʔɪoʊɪvɹɪlʊkɪktɪðiɪoʊɪʃɪn\n",
      "ground_truth: ðɪvjupɔɪnʔoʊvɹlʊktðiʔoʊʃin\n",
      "Weighted feature edit distance: 74.8125\n",
      "CER: 0.46153846153846156\n",
      "prediction: ɪhaɪweɪnɪfɹɪiɪweɪdminɪðɪsɪeɪmɪθɪŋ\n",
      "ground_truth: haɪweɪɛnfɹiweɪminiseɪmθɪŋ\n",
      "Weighted feature edit distance: 64.875\n",
      "CER: 0.44\n",
      "prediction: ɪhiɪhæɪdɪplʌndʒʃtɪtɪntɪðɪdɪdɪʌɑɹɪkɪkɪwʊɪdɪzɪbiɪʌɑɪnd\n",
      "ground_truth: hihædlʌndʒdɪntiðidɑɹkwʊdzbiɑnd\n",
      "Weighted feature edit distance: 159.875\n",
      "CER: 0.8333333333333334\n",
      "prediction: ɪmaɪkɪoʊɪkɪkɪʌlɹɪdðɪbɪɛɪdɪdʒɹumɪwɔlɪwɪθɪkɪɹeɪʌɑɪndzsɪ\n",
      "ground_truth: maɪklkʌlɹdðibɛdɹumwɔlwiθkɹeɪɑns\n",
      "Weighted feature edit distance: 162.6875\n",
      "CER: 0.8064516129032258\n",
      "prediction: ɪplɪændɪpɪɛɹɪɛntʃhʊɪɾɪʌɔɹɪɡɪɾnaɪzɪeɪʃɪnɪdzɪpɹɪmʌoʊʔɪbɹɪθɪkɪkɪnɪtʃɹoʊlɪ\n",
      "ground_truth: lændpɛɹɪnthʊdɔɹɡiɾaɪzeɪʃinzpɹmoʊtɹθkntɹoʊl\n",
      "Weighted feature edit distance: 205.9375\n",
      "CER: 0.7619047619047619\n",
      "prediction: ɪɡɹɪɛɪɡdɪbʌɪaɪzɪfɪfɹɛɪʃɪmɪlɪkɪkɪiɪtʃɪwiɪkɪdɪeɪmɪɔɹɾnɪŋ\n",
      "ground_truth: ɹɛɡaɪzfɹɛʃmɪlkittʃwikeɪmɔɹniŋ\n",
      "Weighted feature edit distance: 182.5625\n",
      "CER: 0.9310344827586207\n",
      "prediction: hɪzʒʃɪoʊlɾɹɪfɪɛltʔɪɛɪzɪfɪʔɪwɹɪbɹoʊɪkɪn\n",
      "ground_truth: hɪʃoʊlɾɹfɛltʔɛzɪfɪʔwɹbɹoʊkin\n",
      "Weighted feature edit distance: 72.625\n",
      "CER: 0.39285714285714285\n",
      "prediction: ɪðɪfɪʃɪbiɪɡɪæntɪliɪpɪfɹɪæntɪtɪkɪliɪʌɑnʌɪsɪsʌɹɪfɪsɪʌvðɪsmʌɔlɪlaeaɪkɪ\n",
      "ground_truth: ðifɪʃbiɡæntilipfɹæntikliənðəsɹfəsəvðismɔleɪk\n",
      "Weighted feature edit distance: 168.75\n",
      "CER: 0.7272727272727273\n",
      "prediction: ɪɛldɹɪlivfɪpɪiɪplɹlʌɹɪɔfɪfɪnɪksɪkɪluɪdɪd\n",
      "ground_truth: ʔɛldɹlipiplɹʔɔfinikskluɾid\n",
      "Weighted feature edit distance: 108.125\n",
      "CER: 0.7692307692307693\n",
      "prediction: ɪʌaʌɪtɪtʃɪlɪzɪnɪfʃjuɪwɪlɪbiɪkɪʌmɪdʒɪɛɾnɹɪʌlɪsz\n",
      "ground_truth: ʔʌttʃoʊzənfjuwlbikʌmddʒɛnɹls\n",
      "Weighted feature edit distance: 138.8125\n",
      "CER: 0.8214285714285714\n",
      "prediction: hiɪzstɪlʌvdɪdɪaɪmɪfɹʌmʌɪbɪɛɪɡɹ\n",
      "ground_truth: histoʊlədaɪmfɹəməbɛɡɹ\n",
      "Weighted feature edit distance: 69.25\n",
      "CER: 0.7142857142857143\n",
      "prediction: ɪʌaɪdɪɹɪaɪdɪðɪsɪɛɪdɪbweɪbʌɪɾaɪhæɪvɪndɪnɪʌɪftɪtʃɪeɪndʒɪ\n",
      "ground_truth: ʔaɪdɹaɪdðisʌbweɪbiɾaɪhævndʌnʌfttʃeɪnddʒ\n",
      "Weighted feature edit distance: 116.8125\n",
      "CER: 0.5641025641025641\n",
      "prediction: ɪdɪoʊnɪæskmiɪɾɪkɪkɪɛɹɪiɪɛɪnɪʌoɔɪliɪɹɪæɪɡlaɪkɪðɪæɪʔɪ\n",
      "ground_truth: oʊnæskmiɾɪkɛɹiɛnoʊliɹæɡlaɪkðæt\n",
      "Weighted feature edit distance: 155.1875\n",
      "CER: 0.7666666666666667\n",
      "prediction: ɹaɪʔnɪaʊmeɪnɪæɑtɪbiɪðɪbɪɛɪstɪaɪmɪfɹɪbɪznɪsɪmɹɪdʒɹɪzs\n",
      "ground_truth: ɹaɪtnaʊmeɪnɑpiðibɛstaɪmfɹbɪznismɹddʒɹz\n",
      "Weighted feature edit distance: 108.8125\n",
      "CER: 0.5\n",
      "prediction: ɪeiɪɾɪŋɪɡɪsɪpɪnɪtʃtnɪaɪʔliɪnɪkɹiɪsɪzstʃɹɪŋkɪθɪmɪɹɪæɪkɪkjɪlɪstli\n",
      "ground_truth: ʔiɾiŋspɪnɪttʃnaɪtliʔɪnkɹisɪstɹɪŋθmɹækiləsli\n",
      "Weighted feature edit distance: 161.3125\n",
      "CER: 0.6744186046511628\n",
      "prediction: kɪoɔɹɪiɪɛntʃɹɪʃtɪpleɪdɪtɪɡɪwɪθɪbiɪtʃɪbɪɔlɪzɪfɹɪaʊɹɪzs\n",
      "ground_truth: ɔɹiɪntɹɪʃpleɪdæɡwiθbittʃbɔlzfɹaʊɹz\n",
      "Weighted feature edit distance: 142.875\n",
      "CER: 0.6470588235294118\n"
     ]
    },
    {
     "ename": "KeyboardInterrupt",
     "evalue": "",
     "output_type": "error",
     "traceback": [
      "\u001b[0;31m---------------------------------------------------------------------------\u001b[0m",
      "\u001b[0;31mKeyboardInterrupt\u001b[0m                         Traceback (most recent call last)",
      "Cell \u001b[0;32mIn[37], line 94\u001b[0m\n\u001b[1;32m     92\u001b[0m \u001b[38;5;66;03m# Evaluate the model\u001b[39;00m\n\u001b[1;32m     93\u001b[0m small_test_df \u001b[38;5;241m=\u001b[39m test_df\u001b[38;5;241m.\u001b[39mhead(\u001b[38;5;241m1\u001b[39m)  \u001b[38;5;66;03m# Use a subset for debugging\u001b[39;00m\n\u001b[0;32m---> 94\u001b[0m avg_distance, std_distance, avg_cer, std_cer \u001b[38;5;241m=\u001b[39m \u001b[43mevaluate_model\u001b[49m\u001b[43m(\u001b[49m\u001b[43mtest_df\u001b[49m\u001b[43m,\u001b[49m\u001b[43m \u001b[49m\u001b[43mprocessor\u001b[49m\u001b[43m,\u001b[49m\u001b[43m \u001b[49m\u001b[43mmodel\u001b[49m\u001b[43m)\u001b[49m\n\u001b[1;32m     95\u001b[0m \u001b[38;5;28mprint\u001b[39m(\u001b[38;5;124mf\u001b[39m\u001b[38;5;124m\"\u001b[39m\u001b[38;5;124mFinal Results - Average Weighted Distance: \u001b[39m\u001b[38;5;132;01m{\u001b[39;00mavg_distance\u001b[38;5;132;01m}\u001b[39;00m\u001b[38;5;124m, Standard Deviation: \u001b[39m\u001b[38;5;132;01m{\u001b[39;00mstd_distance\u001b[38;5;132;01m}\u001b[39;00m\u001b[38;5;124m\"\u001b[39m)\n\u001b[1;32m     96\u001b[0m \u001b[38;5;28mprint\u001b[39m(\u001b[38;5;124mf\u001b[39m\u001b[38;5;124m\"\u001b[39m\u001b[38;5;124mFinal Results - Average CER: \u001b[39m\u001b[38;5;132;01m{\u001b[39;00mavg_cer\u001b[38;5;132;01m}\u001b[39;00m\u001b[38;5;124m, Standard Deviation: \u001b[39m\u001b[38;5;132;01m{\u001b[39;00mstd_cer\u001b[38;5;132;01m}\u001b[39;00m\u001b[38;5;124m\"\u001b[39m)\n",
      "Cell \u001b[0;32mIn[37], line 69\u001b[0m, in \u001b[0;36mevaluate_model\u001b[0;34m(test_df, processor, model)\u001b[0m\n\u001b[1;32m     67\u001b[0m     predictions \u001b[38;5;241m=\u001b[39m [pred\u001b[38;5;241m.\u001b[39mreplace(\u001b[38;5;124m'\u001b[39m\u001b[38;5;124m \u001b[39m\u001b[38;5;124m'\u001b[39m, \u001b[38;5;124m'\u001b[39m\u001b[38;5;124m'\u001b[39m) \u001b[38;5;28;01mfor\u001b[39;00m pred \u001b[38;5;129;01min\u001b[39;00m predictions]  \u001b[38;5;66;03m# Strip spaces\u001b[39;00m\n\u001b[1;32m     68\u001b[0m \u001b[38;5;66;03m# Call panphon_model_eval with label and predicted IPA\u001b[39;00m\n\u001b[0;32m---> 69\u001b[0m results \u001b[38;5;241m=\u001b[39m \u001b[43mpanphon_model_eval\u001b[49m\u001b[43m(\u001b[49m\u001b[43mground_truth_labels\u001b[49m\u001b[43m,\u001b[49m\u001b[43m \u001b[49m\u001b[43mpredictions\u001b[49m\u001b[43m)\u001b[49m\n\u001b[1;32m     71\u001b[0m \u001b[38;5;66;03m# Append weighted feature edit distances\u001b[39;00m\n\u001b[1;32m     72\u001b[0m weighted_distances\u001b[38;5;241m.\u001b[39mappend(results[\u001b[38;5;124m'\u001b[39m\u001b[38;5;124mweighted_feature_dist\u001b[39m\u001b[38;5;124m'\u001b[39m])\n",
      "File \u001b[0;32m~/ML/notebooks/../scripts/eval_tests/panphon_model_eval.py:116\u001b[0m, in \u001b[0;36mpanphon_model_eval\u001b[0;34m(label, predicted)\u001b[0m\n\u001b[1;32m    114\u001b[0m feature_dist \u001b[38;5;241m=\u001b[39m panphon\u001b[38;5;241m.\u001b[39mdistance\u001b[38;5;241m.\u001b[39mDistance()\u001b[38;5;241m.\u001b[39mfeature_edit_distance(label_sequence, pred_sequence)\n\u001b[1;32m    115\u001b[0m weighted_feature_dist \u001b[38;5;241m=\u001b[39m  panphon\u001b[38;5;241m.\u001b[39mdistance\u001b[38;5;241m.\u001b[39mDistance()\u001b[38;5;241m.\u001b[39mweighted_feature_edit_distance(label_sequence, pred_sequence)\n\u001b[0;32m--> 116\u001b[0m hamming_feature_dist \u001b[38;5;241m=\u001b[39m \u001b[43mpanphon\u001b[49m\u001b[38;5;241;43m.\u001b[39;49m\u001b[43mdistance\u001b[49m\u001b[38;5;241;43m.\u001b[39;49m\u001b[43mDistance\u001b[49m\u001b[43m(\u001b[49m\u001b[43m)\u001b[49m\u001b[38;5;241m.\u001b[39mhamming_feature_edit_distance(label_sequence, pred_sequence)\n\u001b[1;32m    117\u001b[0m \u001b[38;5;66;03m# calculate hamming distance with fastdtw\u001b[39;00m\n\u001b[1;32m    118\u001b[0m \u001b[38;5;66;03m# dist, path = fastdtw(feature_array, second_feature_array, dist=hamming_distance)\u001b[39;00m\n\u001b[1;32m    119\u001b[0m \n\u001b[1;32m    120\u001b[0m \u001b[38;5;66;03m# CER calculation\u001b[39;00m\n\u001b[1;32m    121\u001b[0m cer_score \u001b[38;5;241m=\u001b[39m cer(predicted, label)\n",
      "File \u001b[0;32m~/ML/venv/lib/python3.8/site-packages/panphon/distance.py:58\u001b[0m, in \u001b[0;36mDistance.__init__\u001b[0;34m(self, feature_set, feature_model)\u001b[0m\n\u001b[1;32m     48\u001b[0m \u001b[38;5;250m\u001b[39m\u001b[38;5;124;03m\"\"\"Construct a `Distance` object\u001b[39;00m\n\u001b[1;32m     49\u001b[0m \n\u001b[1;32m     50\u001b[0m \u001b[38;5;124;03mArgs:\u001b[39;00m\n\u001b[0;32m   (...)\u001b[0m\n\u001b[1;32m     53\u001b[0m \u001b[38;5;124;03m                         `Distance` object\u001b[39;00m\n\u001b[1;32m     54\u001b[0m \u001b[38;5;124;03m\"\"\"\u001b[39;00m\n\u001b[1;32m     55\u001b[0m fm \u001b[38;5;241m=\u001b[39m {\u001b[38;5;124m'\u001b[39m\u001b[38;5;124mstrict\u001b[39m\u001b[38;5;124m'\u001b[39m: _panphon\u001b[38;5;241m.\u001b[39mFeatureTable,\n\u001b[1;32m     56\u001b[0m       \u001b[38;5;124m'\u001b[39m\u001b[38;5;124mpermissive\u001b[39m\u001b[38;5;124m'\u001b[39m: permissive\u001b[38;5;241m.\u001b[39mPermissiveFeatureTable,\n\u001b[1;32m     57\u001b[0m       \u001b[38;5;124m'\u001b[39m\u001b[38;5;124msegment\u001b[39m\u001b[38;5;124m'\u001b[39m: featuretable\u001b[38;5;241m.\u001b[39mFeatureTable}\n\u001b[0;32m---> 58\u001b[0m \u001b[38;5;28mself\u001b[39m\u001b[38;5;241m.\u001b[39mfm \u001b[38;5;241m=\u001b[39m \u001b[43mfm\u001b[49m\u001b[43m[\u001b[49m\u001b[43mfeature_model\u001b[49m\u001b[43m]\u001b[49m\u001b[43m(\u001b[49m\u001b[43mfeature_set\u001b[49m\u001b[38;5;241;43m=\u001b[39;49m\u001b[43mfeature_set\u001b[49m\u001b[43m)\u001b[49m\n\u001b[1;32m     59\u001b[0m \u001b[38;5;28mself\u001b[39m\u001b[38;5;241m.\u001b[39mxs \u001b[38;5;241m=\u001b[39m xsampa\u001b[38;5;241m.\u001b[39mXSampa()\n\u001b[1;32m     60\u001b[0m \u001b[38;5;28mself\u001b[39m\u001b[38;5;241m.\u001b[39mdogol_prime \u001b[38;5;241m=\u001b[39m \u001b[38;5;28mself\u001b[39m\u001b[38;5;241m.\u001b[39m_dogolpolsky_prime()\n",
      "File \u001b[0;32m~/ML/venv/lib/python3.8/site-packages/panphon/featuretable.py:28\u001b[0m, in \u001b[0;36mFeatureTable.__init__\u001b[0;34m(self, feature_set)\u001b[0m\n\u001b[1;32m     26\u001b[0m bases_fn, weights_fn \u001b[38;5;241m=\u001b[39m feature_sets[feature_set]\n\u001b[1;32m     27\u001b[0m \u001b[38;5;28mself\u001b[39m\u001b[38;5;241m.\u001b[39mweights \u001b[38;5;241m=\u001b[39m \u001b[38;5;28mself\u001b[39m\u001b[38;5;241m.\u001b[39m_read_weights(weights_fn)\n\u001b[0;32m---> 28\u001b[0m \u001b[38;5;28mself\u001b[39m\u001b[38;5;241m.\u001b[39msegments, \u001b[38;5;28mself\u001b[39m\u001b[38;5;241m.\u001b[39mseg_dict, \u001b[38;5;28mself\u001b[39m\u001b[38;5;241m.\u001b[39mnames \u001b[38;5;241m=\u001b[39m \u001b[38;5;28;43mself\u001b[39;49m\u001b[38;5;241;43m.\u001b[39;49m\u001b[43m_read_bases\u001b[49m\u001b[43m(\u001b[49m\u001b[43mbases_fn\u001b[49m\u001b[43m,\u001b[49m\u001b[43m \u001b[49m\u001b[38;5;28;43mself\u001b[39;49m\u001b[38;5;241;43m.\u001b[39;49m\u001b[43mweights\u001b[49m\u001b[43m)\u001b[49m\n\u001b[1;32m     29\u001b[0m \u001b[38;5;28mself\u001b[39m\u001b[38;5;241m.\u001b[39mseg_regex \u001b[38;5;241m=\u001b[39m \u001b[38;5;28mself\u001b[39m\u001b[38;5;241m.\u001b[39m_build_seg_regex()\n\u001b[1;32m     30\u001b[0m \u001b[38;5;28mself\u001b[39m\u001b[38;5;241m.\u001b[39mlongest_seg \u001b[38;5;241m=\u001b[39m \u001b[38;5;28mmax\u001b[39m([\u001b[38;5;28mlen\u001b[39m(x) \u001b[38;5;28;01mfor\u001b[39;00m x \u001b[38;5;129;01min\u001b[39;00m \u001b[38;5;28mself\u001b[39m\u001b[38;5;241m.\u001b[39mseg_dict\u001b[38;5;241m.\u001b[39mkeys()])\n",
      "File \u001b[0;32m~/ML/venv/lib/python3.8/site-packages/panphon/featuretable.py:42\u001b[0m, in \u001b[0;36mFeatureTable._read_bases\u001b[0;34m(self, fn, weights)\u001b[0m\n\u001b[1;32m     40\u001b[0m \u001b[38;5;28;01mfor\u001b[39;00m row \u001b[38;5;129;01min\u001b[39;00m reader:\n\u001b[1;32m     41\u001b[0m     ipa \u001b[38;5;241m=\u001b[39m unicodedata\u001b[38;5;241m.\u001b[39mnormalize(\u001b[38;5;124m'\u001b[39m\u001b[38;5;124mNFD\u001b[39m\u001b[38;5;124m'\u001b[39m, row[\u001b[38;5;241m0\u001b[39m])\n\u001b[0;32m---> 42\u001b[0m     vals \u001b[38;5;241m=\u001b[39m [{\u001b[38;5;124m'\u001b[39m\u001b[38;5;124m-\u001b[39m\u001b[38;5;124m'\u001b[39m: \u001b[38;5;241m-\u001b[39m\u001b[38;5;241m1\u001b[39m, \u001b[38;5;124m'\u001b[39m\u001b[38;5;124m0\u001b[39m\u001b[38;5;124m'\u001b[39m: \u001b[38;5;241m0\u001b[39m, \u001b[38;5;124m'\u001b[39m\u001b[38;5;124m+\u001b[39m\u001b[38;5;124m'\u001b[39m: \u001b[38;5;241m1\u001b[39m}[x] \u001b[38;5;28;01mfor\u001b[39;00m x \u001b[38;5;129;01min\u001b[39;00m row[\u001b[38;5;241m1\u001b[39m:]]\n\u001b[1;32m     43\u001b[0m     vec \u001b[38;5;241m=\u001b[39m Segment(names,\n\u001b[1;32m     44\u001b[0m                   {n: v \u001b[38;5;28;01mfor\u001b[39;00m (n, v) \u001b[38;5;129;01min\u001b[39;00m \u001b[38;5;28mzip\u001b[39m(names, vals)},\n\u001b[1;32m     45\u001b[0m                   weights\u001b[38;5;241m=\u001b[39mweights)\n\u001b[1;32m     46\u001b[0m     segments\u001b[38;5;241m.\u001b[39mappend((ipa, vec))\n",
      "File \u001b[0;32m~/ML/venv/lib/python3.8/site-packages/panphon/featuretable.py:42\u001b[0m, in \u001b[0;36m<listcomp>\u001b[0;34m(.0)\u001b[0m\n\u001b[1;32m     40\u001b[0m \u001b[38;5;28;01mfor\u001b[39;00m row \u001b[38;5;129;01min\u001b[39;00m reader:\n\u001b[1;32m     41\u001b[0m     ipa \u001b[38;5;241m=\u001b[39m unicodedata\u001b[38;5;241m.\u001b[39mnormalize(\u001b[38;5;124m'\u001b[39m\u001b[38;5;124mNFD\u001b[39m\u001b[38;5;124m'\u001b[39m, row[\u001b[38;5;241m0\u001b[39m])\n\u001b[0;32m---> 42\u001b[0m     vals \u001b[38;5;241m=\u001b[39m [{\u001b[38;5;124m'\u001b[39m\u001b[38;5;124m-\u001b[39m\u001b[38;5;124m'\u001b[39m: \u001b[38;5;241m-\u001b[39m\u001b[38;5;241m1\u001b[39m, \u001b[38;5;124m'\u001b[39m\u001b[38;5;124m0\u001b[39m\u001b[38;5;124m'\u001b[39m: \u001b[38;5;241m0\u001b[39m, \u001b[38;5;124m'\u001b[39m\u001b[38;5;124m+\u001b[39m\u001b[38;5;124m'\u001b[39m: \u001b[38;5;241m1\u001b[39m}[x] \u001b[38;5;28;01mfor\u001b[39;00m x \u001b[38;5;129;01min\u001b[39;00m row[\u001b[38;5;241m1\u001b[39m:]]\n\u001b[1;32m     43\u001b[0m     vec \u001b[38;5;241m=\u001b[39m Segment(names,\n\u001b[1;32m     44\u001b[0m                   {n: v \u001b[38;5;28;01mfor\u001b[39;00m (n, v) \u001b[38;5;129;01min\u001b[39;00m \u001b[38;5;28mzip\u001b[39m(names, vals)},\n\u001b[1;32m     45\u001b[0m                   weights\u001b[38;5;241m=\u001b[39mweights)\n\u001b[1;32m     46\u001b[0m     segments\u001b[38;5;241m.\u001b[39mappend((ipa, vec))\n",
      "\u001b[0;31mKeyboardInterrupt\u001b[0m: "
     ]
    }
   ],
   "source": [
    "import numpy as np\n",
    "from transformers import Wav2Vec2Processor, Wav2Vec2ForCTC\n",
    "import torch\n",
    "from torch.utils.data import DataLoader\n",
    "from torch.nn.utils.rnn import pad_sequence\n",
    "def evaluate_model(test_df, processor, model):\n",
    "    \"\"\"\n",
    "    Evaluate the model on test data and calculate statistics.\n",
    "\n",
    "    Args:\n",
    "        test_df: DataFrame with 'audio' (input values) and 'ipa' (labels).\n",
    "        processor: Wav2Vec2Processor for processing input and labels.\n",
    "        model: Pre-trained Wav2Vec2 model.\n",
    "    Returns:\n",
    "        avg_weighted_dist: Average weighted feature edit distance.\n",
    "        std_weighted_dist: Standard deviation of weighted feature distances.\n",
    "    \"\"\"\n",
    "    assert \"audio\" in test_df.columns, \"Missing 'audio' column in test_df!\"\n",
    "    assert \"ipa\" in test_df.columns, \"Missing 'ipa' column in test_df!\"\n",
    "\n",
    "    def collate_fn(batch):\n",
    "        \"\"\"\n",
    "        Collate function to batch inputs and process them.\n",
    "        \"\"\"\n",
    "        audios = [torch.tensor(item['audio'], dtype=torch.float32) for item in batch]\n",
    "        labels = [item['ipa'] for item in batch]  # Collect ground truth IPA labels\n",
    "\n",
    "        # Pad audio sequences\n",
    "        padded_audios = pad_sequence(audios, batch_first=True, padding_value=-100)\n",
    "\n",
    "        # Perform feature extraction\n",
    "        inputs = processor.feature_extractor(\n",
    "            padded_audios.numpy(),\n",
    "            sampling_rate=16000,\n",
    "            return_tensors=\"pt\",\n",
    "            padding=False\n",
    "        )\n",
    "\n",
    "        return {\n",
    "            \"input_values\": inputs[\"input_values\"],\n",
    "            \"attention_mask\": inputs.get(\"attention_mask\"),\n",
    "            \"labels\": labels,  # Include ground truth labels in the batch\n",
    "        }\n",
    "\n",
    "    # Prepare DataLoader\n",
    "    dataset = test_df.to_dict(orient=\"records\")\n",
    "    data_loader = DataLoader(dataset, batch_size=BATCH_SIZE, collate_fn=collate_fn)\n",
    "\n",
    "    # Evaluate model\n",
    "    model.eval()\n",
    "    weighted_distances = []  # Store weighted feature distances for statistics\n",
    "    total_cer = []\n",
    "    for batch in data_loader:\n",
    "        input_values = batch[\"input_values\"]\n",
    "        ground_truth_labels = batch[\"labels\"]  # Get the ground truth IPA labels\n",
    "\n",
    "        # Move input values to the appropriate device\n",
    "        input_values = input_values.to(model.device)\n",
    "\n",
    "        with torch.no_grad():\n",
    "            outputs = model(input_values=input_values)\n",
    "            logits = outputs.logits\n",
    "\n",
    "            # Decode predictions\n",
    "            predicted_ids = torch.argmax(logits, dim=-1)\n",
    "            predictions = processor.batch_decode(predicted_ids, skip_special_tokens=True)\n",
    "            predictions = [pred.replace(' ', '') for pred in predictions]  # Strip spaces\n",
    "        # Call panphon_model_eval with label and predicted IPA\n",
    "        results = panphon_model_eval(ground_truth_labels, predictions)\n",
    "\n",
    "        # Append weighted feature edit distances\n",
    "        weighted_distances.append(results['weighted_feature_dist'])\n",
    "        total_cer.append(results['cer_score'])\n",
    "\n",
    "        # Output intermediate results\n",
    "        # print(\"predictions and ground truth\", predictions, ground_truth_labels)\n",
    "        print(f\"Weighted feature edit distance: {results['weighted_feature_dist']}\")\n",
    "        print(f\"CER: {results['cer_score']}\")\n",
    "\n",
    "    # Calculate statistics\n",
    "    weighted_distances = np.array(weighted_distances)\n",
    "    avg_weighted_dist = np.mean(weighted_distances)\n",
    "    std_weighted_dist = np.std(weighted_distances)\n",
    "\n",
    "    avg_cer = np.mean(total_cer)\n",
    "    std_cer = np.std(total_cer)\n",
    "\n",
    "\n",
    "    return avg_weighted_dist, std_weighted_dist, avg_cer, std_cer\n",
    "\n",
    "\n",
    "# Evaluate the model\n",
    "small_test_df = test_df.head(1)  # Use a subset for debugging\n",
    "avg_distance, std_distance, avg_cer, std_cer = evaluate_model(test_df, processor, model)\n",
    "print(f\"Final Results - Average Weighted Distance: {avg_distance}, Standard Deviation: {std_distance}\")\n",
    "print(f\"Final Results - Average CER: {avg_cer}, Standard Deviation: {std_cer}\")\n"
   ]
  },
  {
   "cell_type": "code",
   "execution_count": 26,
   "metadata": {},
   "outputs": [],
   "source": [
    "def cer(pred, label):\n",
    "    distances = np.zeros((len(pred) + 1, len(label) + 1))\n",
    "\n",
    "    for t1 in range(len(pred) + 1):\n",
    "        distances[t1][0] = t1\n",
    "\n",
    "    for t2 in range(len(label) + 1):\n",
    "        distances[0][t2] = t2\n",
    "        \n",
    "    a = 0\n",
    "    b = 0\n",
    "    c = 0\n",
    "    \n",
    "    for t1 in range(1, len(pred) + 1):\n",
    "        for t2 in range(1, len(label) + 1):\n",
    "            if (pred[t1-1] == label[t2-1]):\n",
    "                distances[t1][t2] = distances[t1 - 1][t2 - 1]\n",
    "            else:\n",
    "                a = distances[t1][t2 - 1]\n",
    "                b = distances[t1 - 1][t2]\n",
    "                c = distances[t1 - 1][t2 - 1]\n",
    "                \n",
    "                if (a <= b and a <= c):\n",
    "                    distances[t1][t2] = a + 1\n",
    "                elif (b <= a and b <= c):\n",
    "                    distances[t1][t2] = b + 1\n",
    "                else:\n",
    "                    distances[t1][t2] = c + 1\n",
    "\n",
    "    return distances[len(pred)][len(label)] / len(label)"
   ]
  },
  {
   "cell_type": "code",
   "execution_count": 27,
   "metadata": {},
   "outputs": [
    {
     "ename": "NameError",
     "evalue": "name 'data_collator' is not defined",
     "output_type": "error",
     "traceback": [
      "\u001b[0;31m---------------------------------------------------------------------------\u001b[0m",
      "\u001b[0;31mNameError\u001b[0m                                 Traceback (most recent call last)",
      "Cell \u001b[0;32mIn[27], line 6\u001b[0m\n\u001b[1;32m      1\u001b[0m \u001b[38;5;28;01mfrom\u001b[39;00m \u001b[38;5;21;01mtransformers\u001b[39;00m \u001b[38;5;28;01mimport\u001b[39;00m Trainer\n\u001b[1;32m      2\u001b[0m model \u001b[38;5;241m=\u001b[39m AutoModelForCTC\u001b[38;5;241m.\u001b[39mfrom_pretrained(PRE_TRAINED_ID)\n\u001b[1;32m      4\u001b[0m trainer \u001b[38;5;241m=\u001b[39m Trainer(\n\u001b[1;32m      5\u001b[0m     model\u001b[38;5;241m=\u001b[39mmodel,\n\u001b[0;32m----> 6\u001b[0m     data_collator\u001b[38;5;241m=\u001b[39m\u001b[43mdata_collator\u001b[49m,\n\u001b[1;32m      7\u001b[0m     compute_metrics\u001b[38;5;241m=\u001b[39mcompute_metrics,\n\u001b[1;32m      8\u001b[0m     eval_dataset\u001b[38;5;241m=\u001b[39mtest_ds_prepared,\n\u001b[1;32m      9\u001b[0m     tokenizer\u001b[38;5;241m=\u001b[39mtokenizer\n\u001b[1;32m     10\u001b[0m )\n",
      "\u001b[0;31mNameError\u001b[0m: name 'data_collator' is not defined"
     ]
    }
   ],
   "source": [
    "from transformers import Trainer\n",
    "model = AutoModelForCTC.from_pretrained(PRE_TRAINED_ID)\n",
    "\n",
    "trainer = Trainer(\n",
    "    model=model,\n",
    "    data_collator=data_collator,\n",
    "    compute_metrics=compute_metrics,\n",
    "    eval_dataset=test_ds_prepared,\n",
    "    tokenizer=tokenizer\n",
    ")"
   ]
  },
  {
   "cell_type": "markdown",
   "metadata": {},
   "source": [
    "# Evaluate"
   ]
  },
  {
   "cell_type": "code",
   "execution_count": null,
   "metadata": {},
   "outputs": [],
   "source": [
    "import wandb\n",
    "eval_results = trainer.evaluate()\n",
    "print(eval_results)\n",
    "wandb.log(eval_results)"
   ]
  },
  {
   "cell_type": "code",
   "execution_count": 48,
   "metadata": {},
   "outputs": [],
   "source": [
    "def predict(model, wav_file):\n",
    "    speech = audio_file_to_array(wav_file)\n",
    "    input_values = processor(speech, sampling_rate=16000, return_tensors=\"pt\").input_values.type(torch.float32).to(model.device)\n",
    "\n",
    "    with torch.no_grad():\n",
    "        logits = model(input_values).logits\n",
    "\n",
    "    predicted_ids = torch.argmax(logits, dim=-1)\n",
    "    return processor.decode(predicted_ids[0])\n",
    "    "
   ]
  }
 ],
 "metadata": {
  "kernelspec": {
   "display_name": "venv",
   "language": "python",
   "name": "python3"
  },
  "language_info": {
   "codemirror_mode": {
    "name": "ipython",
    "version": 3
   },
   "file_extension": ".py",
   "mimetype": "text/x-python",
   "name": "python",
   "nbconvert_exporter": "python",
   "pygments_lexer": "ipython3",
   "version": "3.8.10"
  }
 },
 "nbformat": 4,
 "nbformat_minor": 2
}
