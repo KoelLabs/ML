{
 "cells": [
  {
   "cell_type": "code",
   "execution_count": 2,
   "metadata": {},
   "outputs": [],
   "source": [
    "# download from https://buckeyecorpus.osu.edu/\n",
    "import numpy as np\n",
    "\n",
    "import zipfile\n",
    "from torch.utils.data import Dataset\n",
    "\n",
    "from IPython.display import clear_output"
   ]
  },
  {
   "cell_type": "code",
   "execution_count": 21,
   "metadata": {},
   "outputs": [],
   "source": [
    "BUCKEYE2IPA = {\n",
    "    'aa':'ɑ',\n",
    "    'ae':'æ',\n",
    "    'ay':'aɪ',\n",
    "    'aw':'aʊ',\n",
    "    'ao':'ɔ',\n",
    "    'oy':'ɔɪ',\n",
    "    'ow':'oʊ',\n",
    "    'eh':'ɛ',\n",
    "    'ey':'eɪ',\n",
    "    'er':'ɝ',\n",
    "    'ah':'ʌ',\n",
    "    'uw':'u',\n",
    "    'uh':'ʊ',\n",
    "    'ih':'ɪ',\n",
    "    'iy':'i',\n",
    "    'm':'m',\n",
    "    'n':'n',\n",
    "    'en':'n̩',\n",
    "    'ng':'ŋ',\n",
    "    'l':'l',\n",
    "    'el':'l̩',\n",
    "    't':'t',\n",
    "    'd':'d',\n",
    "    'ch':'tʃ',\n",
    "    'jh':'dʒ',\n",
    "    'th':'θ',\n",
    "    'dh':'ð',\n",
    "    'sh':'ʃ',\n",
    "    'zh':'ʒ',\n",
    "    's':'s',\n",
    "    'z':'z',\n",
    "    'k':'k',\n",
    "    'g':'ɡ',\n",
    "    'p':'p',\n",
    "    'b':'b',\n",
    "    'f':'f',\n",
    "    'v':'v',\n",
    "    'w':'w',\n",
    "    'hh':'h',\n",
    "    'y':'j',\n",
    "    'r':'ɹ',\n",
    "    'dx':'ɾ',\n",
    "    'nx':'ɾ̃',\n",
    "    'tq':'ʔ',\n",
    "    'er':'ɚ',\n",
    "    'em':'m̩',\n",
    "    # 'Vn':'◌̃',\n",
    "}"
   ]
  },
  {
   "cell_type": "code",
   "execution_count": 53,
   "metadata": {},
   "outputs": [],
   "source": [
    "SAMPLE_RATE = 16000\n",
    "WAV_HEADER_SIZE = 44\n",
    "SPLIT_CONVOS_AT_SILENCE_SECONDS = 2\n",
    "MIN_SPEECH_SECONDS = 1\n",
    "def get_utterances(speaker_zip, conversation):\n",
    "    with zipfile.ZipFile(speaker_zip.open(conversation)) as utterance_zip:\n",
    "        all_sections = []\n",
    "        utterances = [x.split('.')[0] for x in utterance_zip.namelist() if not x.startswith('__') and x.endswith('.wav')]\n",
    "        for utterance in utterances:\n",
    "            with utterance_zip.open(f'{utterance}.wav') as wav_file:\n",
    "                audio = np.frombuffer(wav_file.read(), dtype=np.int16)[WAV_HEADER_SIZE//2:]\n",
    "\n",
    "            with utterance_zip.open(f'{utterance}.phones') as phn_file:\n",
    "                start = 0\n",
    "                timestamped_phonemes = []\n",
    "                for line in phn_file.read().decode('utf-8').split('\\n')[9:]:\n",
    "                    if line == '':\n",
    "                        continue\n",
    "                    line = line.split(\";\")[0].strip()\n",
    "                    fields = line.split()\n",
    "                    stop = float(fields[0])\n",
    "                    phone = BUCKEYE2IPA.get(fields[2], '') if len(fields) >= 3 else ''\n",
    "                    timestamped_phonemes.append((phone, int(start * SAMPLE_RATE), int(stop * SAMPLE_RATE)))\n",
    "                    start = stop\n",
    "            \n",
    "            # go through timestamped phonemes and identify silence and speech sections\n",
    "            sections = []\n",
    "            prev = 'nothing'\n",
    "            sil_start, sil_end = 0, 0\n",
    "            speech_start, speech_end = 0, 0\n",
    "            speech_phones = []\n",
    "            for phone, start, stop in timestamped_phonemes:\n",
    "                if phone == '':\n",
    "                    if prev != '':\n",
    "                        sil_start = start\n",
    "                    sil_end = stop\n",
    "                significant_silence = False\n",
    "                if prev == '' and phone != '':\n",
    "                    silence = (sil_end - sil_start) / SAMPLE_RATE\n",
    "                    if silence > SPLIT_CONVOS_AT_SILENCE_SECONDS:\n",
    "                        significant_silence = True\n",
    "                        speech = (speech_end - speech_start) / SAMPLE_RATE\n",
    "                        # print('speech', speech)\n",
    "                        # print('silence', silence)\n",
    "                        if MIN_SPEECH_SECONDS < speech:\n",
    "                            sections.append((\"\".join([x[0] for x in speech_phones]), audio[speech_start:speech_end], [(p, s - speech_start, e - speech_start) for p, s, e in speech_phones]))\n",
    "\n",
    "                if phone != '':\n",
    "                    if significant_silence:\n",
    "                        speech_start = start\n",
    "                        speech_phones = []\n",
    "                    speech_end = stop\n",
    "                    speech_phones.append((phone, start, stop))\n",
    "\n",
    "                prev = phone\n",
    "\n",
    "            all_sections.extend(sections)\n",
    "\n",
    "        return all_sections\n",
    "\n",
    "class BuckeyeDataset(Dataset):\n",
    "    def __init__(self, split=\"s40\", include_timestamps=False):\n",
    "        self.datazip = zipfile.ZipFile('../.data/buckeye.zip', 'r')\n",
    "        speakers = [x for x in self.datazip.namelist() if not x.startswith('__') and x.endswith('.zip')]\n",
    "        speaker = f\"buckeye/{split}.zip\"\n",
    "        assert speaker in speakers, f\"Speaker {split} not found in {speakers}\"\n",
    "        self.speaker_zip = zipfile.ZipFile(self.datazip.open(speaker), 'r')\n",
    "        self.conversations = self.speaker_zip.namelist()\n",
    "        self.utterances_per_conversation = [len(get_utterances(self.speaker_zip, conversation)) for conversation in self.conversations]\n",
    "        self.include_timestamps = include_timestamps\n",
    "\n",
    "    def __del__(self):\n",
    "        self.speaker_zip.close()\n",
    "        self.datazip.close()\n",
    "\n",
    "    def __len__(self):\n",
    "        return sum(self.utterances_per_conversation)\n",
    "\n",
    "    def _get_file(self, index):\n",
    "        for conversation, utterances in zip(self.conversations, self.utterances_per_conversation):\n",
    "            if index < utterances:\n",
    "                break\n",
    "            index -= utterances\n",
    "\n",
    "        sections = get_utterances(self.speaker_zip, conversation)\n",
    "        ipa, audio, timestamped_phonemes = sections[index]\n",
    "        \n",
    "        if self.include_timestamps:\n",
    "            return ipa, audio, timestamped_phonemes\n",
    "        else:\n",
    "            return ipa, audio\n",
    "\n",
    "    def __getitem__(self, index):\n",
    "        if isinstance(index, int):\n",
    "            return self._get_file(index)\n",
    "        elif isinstance(index, slice):\n",
    "            return [self._get_file(ix) for ix in range(*index.indices(len(self)))]\n",
    "        else:\n",
    "            return [self._get_file(ix) for ix in index]"
   ]
  },
  {
   "cell_type": "code",
   "execution_count": 54,
   "metadata": {},
   "outputs": [
    {
     "name": "stdout",
     "output_type": "stream",
     "text": [
      "91\n"
     ]
    }
   ],
   "source": [
    "speaker1 = BuckeyeDataset(\"s01\")\n",
    "print(len(speaker1))"
   ]
  },
  {
   "cell_type": "code",
   "execution_count": null,
   "metadata": {},
   "outputs": [
    {
     "name": "stdout",
     "output_type": "stream",
     "text": [
      "('ʌmaɪmaɪvlʌvdɪnklʌbʌsmaɪɛntɛɹlaɪfθɚɾifoʊjɛɹsʌmboʊɹnɹeɪzdʌnnʌwɛssaɪʌfklʌmbɛsʌm', array([-29, -30, -23, ...,  69,  66,  40], dtype=int16))\n"
     ]
    },
    {
     "data": {
      "image/png": "[encoded data removed]",
      "text/plain": [
       "<Figure size 640x480 with 1 Axes>"
      ]
     },
     "metadata": {},
     "output_type": "display_data"
    }
   ],
   "source": [
    "import matplotlib.pyplot as plt\n",
    "print(speaker1[0])\n",
    "plt.plot(speaker1[0][1])\n",
    "plt.show()"
   ]
  },
  {
   "cell_type": "markdown",
   "metadata": {},
   "source": [
    "# Eval"
   ]
  },
  {
   "cell_type": "code",
   "execution_count": 46,
   "metadata": {},
   "outputs": [],
   "source": [
    "import torch\n",
    "from transformers import AutoProcessor, AutoModelForCTC\n",
    "clear_output()"
   ]
  },
  {
   "cell_type": "code",
   "execution_count": 47,
   "metadata": {},
   "outputs": [],
   "source": [
    "# set espeak library path for macOS\n",
    "import sys\n",
    "if sys.platform == \"darwin\":\n",
    "    from phonemizer.backend.espeak.wrapper import EspeakWrapper\n",
    "\n",
    "    _ESPEAK_LIBRARY = \"/opt/homebrew/Cellar/espeak/1.48.04_1/lib/libespeak.1.1.48.dylib\"\n",
    "    EspeakWrapper.set_library(_ESPEAK_LIBRARY)"
   ]
  },
  {
   "cell_type": "code",
   "execution_count": 68,
   "metadata": {},
   "outputs": [],
   "source": [
    "# MODEL_ID = \"KoelLabs/xlsr-timit-b0\"\n",
    "MODEL_ID = \"KoelLabs/xlsr-timit-c0\"\n",
    "# MODEL_ID = \"KoelLabs/xlsr-timit-d0\"\n",
    "# MODEL_ID = \"KoelLabs/xlsr-timit-e0\"\n",
    "# MODEL_ID = \"KoelLabs/xlsr-timit-b1\"\n",
    "# MODEL_ID = \"KoelLabs/xlsr-timit-c1\"\n",
    "# MODEL_ID = \"KoelLabs/xlsr-timit-d1\"\n",
    "# MODEL_ID = \"KoelLabs/xlsr-timit-e1\"\n",
    "# MODEL_ID = \"ginic/gender_split_70_female_4_wav2vec2-large-xlsr-53-buckeye-ipa\"\n",
    "# MODEL_ID = \"mrrubino/wav2vec2-large-xlsr-53-l2-arctic-phoneme\"\n",
    "# MODEL_ID = \"facebook/wav2vec2-lv-60-espeak-cv-ft\"\n",
    "# MODEL_ID = \"speech31/XLS-R-300m-english-ipa\"\n",
    "# DEVICE = 'cuda' if torch.cuda.is_available() else 'mps' if torch.backends.mps.is_available() else 'cpu'\n",
    "DEVICE = 'cpu' # because I don't have enough memory on my mac\n",
    "torch.mps.empty_cache()\n",
    "processor = AutoProcessor.from_pretrained(MODEL_ID)\n",
    "model = AutoModelForCTC.from_pretrained(MODEL_ID).to(DEVICE)"
   ]
  },
  {
   "cell_type": "code",
   "execution_count": 49,
   "metadata": {},
   "outputs": [],
   "source": [
    "def transcribe_batch(batch):\n",
    "    input_values = processor([x[1] for x in batch], sampling_rate=SAMPLE_RATE, return_tensors=\"pt\", padding=True).input_values.type(torch.float32).to(DEVICE)\n",
    "    with torch.no_grad():\n",
    "        logits = model(input_values).logits\n",
    "\n",
    "    predicted_ids = torch.argmax(logits, dim=-1)\n",
    "    return [processor.decode(ids) for ids in predicted_ids]"
   ]
  },
  {
   "cell_type": "code",
   "execution_count": 50,
   "metadata": {},
   "outputs": [
    {
     "data": {
      "text/plain": [
       "['ʌmaɪmaɪvlɪvdʒiŋkləmbismaɪintaɪɹlaɪfθɹɾifɔɹjɪɹzʔɔmbɔɹɾiŋɹeizənðəwɛsaɪɾivklʌmbisʔʌm']"
      ]
     },
     "execution_count": 50,
     "metadata": {},
     "output_type": "execute_result"
    }
   ],
   "source": [
    "transcribe_batch([speaker1[0]])"
   ]
  },
  {
   "cell_type": "code",
   "execution_count": 51,
   "metadata": {},
   "outputs": [],
   "source": [
    "import panphon.distance\n",
    "\n",
    "def cer(prediction, ground_truth):\n",
    "    # Convert input lists to strings if they're lists\n",
    "    if isinstance(prediction, list):\n",
    "        prediction = \"\".join(prediction)\n",
    "    if isinstance(ground_truth, list):\n",
    "        ground_truth = \"\".join(ground_truth)\n",
    "\n",
    "    # Handle empty strings\n",
    "    if len(ground_truth) == 0:\n",
    "        return 1.0 if len(prediction) > 0 else 0.0\n",
    "\n",
    "    # Initialize the matrix\n",
    "    matrix = np.zeros((len(prediction) + 1, len(ground_truth) + 1))\n",
    "\n",
    "    # Fill first row and column\n",
    "    for i in range(len(prediction) + 1):\n",
    "        matrix[i, 0] = i\n",
    "    for j in range(len(ground_truth) + 1):\n",
    "        matrix[0, j] = j\n",
    "\n",
    "    # Fill in the rest of the matrix\n",
    "    for i in range(1, len(prediction) + 1):\n",
    "        for j in range(1, len(ground_truth) + 1):\n",
    "            if prediction[i - 1] == ground_truth[j - 1]:\n",
    "                matrix[i, j] = matrix[i - 1, j - 1]\n",
    "            else:\n",
    "                substitution = matrix[i - 1, j - 1] + 1\n",
    "                insertion = matrix[i, j - 1] + 1\n",
    "                deletion = matrix[i - 1, j] + 1\n",
    "                matrix[i, j] = min(substitution, insertion, deletion)\n",
    "\n",
    "    # Calculate CER\n",
    "    distance = matrix[len(prediction), len(ground_truth)]\n",
    "    return distance / len(ground_truth)\n",
    "\n",
    "\n",
    "def preprocess_ipa(ipa_string):\n",
    "    \"\"\"Preprocess an IPA string by removing unsupported symbols. Suggestions by David Mortensen, creator of panphon.\"\"\"\n",
    "    replacement_map = {\n",
    "        \"ɚ\": \"ɹ̩\",  # Convert /ɚ/ to /ɹ/ (non-syllabic r)\n",
    "        \"ɝ\": \"ɹ\",  # Convert /ɝ/ to /ɹ/ (non-syllabic r)\n",
    "        \"ː\": \"\",  # Remove length mark (or duplicate previous vowel if length is important)\n",
    "        \"͡\": \"\",  # Remove tie bar (or split into components if part of an affricate)\n",
    "        \"g\": \"ɡ\",  # replace two versions of g, TIMIT uses ascii g and STANDARD IPA uses unicode g\n",
    "    }\n",
    "    processed_string = \"\".join(replacement_map.get(char, char) for char in ipa_string)\n",
    "\n",
    "    return processed_string\n",
    "\n",
    "\n",
    "def panphon_model_eval(label, predicted):\n",
    "    label_sequence = preprocess_ipa(label)\n",
    "    pred_sequence = preprocess_ipa(predicted)\n",
    "\n",
    "    weighted_feature_dist = panphon.distance.Distance().weighted_feature_edit_distance(\n",
    "        label_sequence, pred_sequence\n",
    "    )\n",
    "    cer_score = cer(predicted, label)\n",
    "\n",
    "    return cer_score, weighted_feature_dist"
   ]
  },
  {
   "cell_type": "code",
   "execution_count": 69,
   "metadata": {},
   "outputs": [
    {
     "name": "stdout",
     "output_type": "stream",
     "text": [
      "Average CER: 0.36325151904815167\n",
      "Average feature distance: 157.21085164835165\n"
     ]
    }
   ],
   "source": [
    "# BATCH_SIZE = 4\n",
    "BATCH_SIZE = 1 \n",
    "average_cer = 0\n",
    "average_feature_distance = 0\n",
    "amount = len(speaker1)\n",
    "for i in range(0, amount, BATCH_SIZE):\n",
    "    torch.mps.empty_cache()\n",
    "    size = min(BATCH_SIZE, amount - i)\n",
    "    transcriptions = transcribe_batch(speaker1[i:i+size])\n",
    "    for j in range(size):\n",
    "        cer_score, feature_distance = panphon_model_eval(speaker1[i+j][0], transcriptions[j])\n",
    "        average_cer += cer_score\n",
    "        average_feature_distance += feature_distance\n",
    "\n",
    "print(f\"Average CER: {average_cer / amount}\")\n",
    "print(f\"Average feature distance: {average_feature_distance / amount}\")"
   ]
  },
  {
   "cell_type": "markdown",
   "metadata": {},
   "source": [
    "SPEAKER 1:\n",
    "B0 CER: 0.33509908901476476\n",
    "B0 WFED: 154.88942307692307\n",
    "\n",
    "B1 CER: 0.3526904191725863\n",
    "B1 WFED: 161.6414835164835\n",
    "\n",
    "C0 CER: 0.36325151904815167\n",
    "C0 WFED: 157.21085164835165\n",
    "\n",
    "Ginic CER: 0.2503032326953035\n",
    "Ginic WFED: 123.88461538461539\n",
    "\n",
    "Facebook 60 CER: 1.3267747708912827\n",
    "Facebook 60 WFED: 151.83035714285714\n",
    "\n",
    "Arctic Finetune CER: 0.7028620455056792\n",
    "Arctic Finetune WFED: 177.6195054945055\n",
    "\n",
    "Speech 31 CER: 1.3429352203450171\n",
    "Speech 31 WFED: 218.2129120879121"
   ]
  }
 ],
 "metadata": {
  "kernelspec": {
   "display_name": "venv",
   "language": "python",
   "name": "python3"
  },
  "language_info": {
   "codemirror_mode": {
    "name": "ipython",
    "version": 3
   },
   "file_extension": ".py",
   "mimetype": "text/x-python",
   "name": "python",
   "nbconvert_exporter": "python",
   "pygments_lexer": "ipython3",
   "version": "3.8.10"
  }
 },
 "nbformat": 4,
 "nbformat_minor": 2
}
