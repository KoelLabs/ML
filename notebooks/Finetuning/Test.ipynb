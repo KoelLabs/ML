{
 "cells": [
  {
   "cell_type": "code",
   "execution_count": 1,
   "id": "1ad93429",
   "metadata": {},
   "outputs": [],
   "source": [
    "import os\n",
    "import sys\n",
    "sys.path.append(os.path.join(\"..\", \"..\"))\n",
    "from scripts.core.audio import TARGET_SAMPLE_RATE, audio_file_to_array\n",
    "from transformers import (\n",
    "    AutoModelForCTC,\n",
    "    AutoProcessor,\n",
    ")\n",
    "from scripts.ipa_transcription.wav2vec2 import transcribe_batch"
   ]
  },
  {
   "cell_type": "code",
   "execution_count": null,
   "id": "70fa6ac2",
   "metadata": {},
   "outputs": [
    {
     "name": "stdout",
     "output_type": "stream",
     "text": [
      "aɪɹeɪtʔæktɚstɑmptəweɪʔɨɾiɑɾɨkli\n"
     ]
    }
   ],
   "source": [
    "model = AutoModelForCTC.from_pretrained('./runs/vfcfld2v/checkpoint-8050')\n",
    "processor = AutoProcessor.from_pretrained('../../models/facebook53_condensed')\n",
    "\n",
    "wav = audio_file_to_array(os.path.join(\"..\", \"..\", \"data\", \"ExamplesWithComments\", \"TIMIT_sample_0.wav\"))\n",
    "    \n",
    "print(transcribe_batch([(None, wav)], model, processor)[0]) # type: ignore\n",
    "# true = \"ðɨaɪɹeɪtʔækɚstɑmpəweɪʔɨɾiɑɾɨkli\" (annotated)\n",
    "# prev = \"aɪɻaɪtæktəstʌmptəweɪɪdɪɒtɪklɪ\" (facebook)\n",
    "# curr = \"aɪraɪtæktəstʌmptəweɪɪdɪɒtɪklɪ\" (vocab)"
   ]
  }
 ],
 "metadata": {
  "kernelspec": {
   "display_name": "Python 3",
   "language": "python",
   "name": "python3"
  },
  "language_info": {
   "codemirror_mode": {
    "name": "ipython",
    "version": 3
   },
   "file_extension": ".py",
   "mimetype": "text/x-python",
   "name": "python",
   "nbconvert_exporter": "python",
   "pygments_lexer": "ipython3",
   "version": "3.9.13"
  }
 },
 "nbformat": 4,
 "nbformat_minor": 5
}
