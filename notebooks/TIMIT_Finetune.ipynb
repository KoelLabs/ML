{
 "cells": [
  {
   "cell_type": "code",
   "execution_count": 1,
   "metadata": {},
   "outputs": [
    {
     "name": "stderr",
     "output_type": "stream",
     "text": [
      "/home/arunasrivastava/ML/venv/lib/python3.8/site-packages/tqdm/auto.py:21: TqdmWarning: IProgress not found. Please update jupyter and ipywidgets. See https://ipywidgets.readthedocs.io/en/stable/user_install.html\n",
      "  from .autonotebook import tqdm as notebook_tqdm\n"
     ]
    }
   ],
   "source": [
    "import numpy as np\n",
    "import zipfile\n",
    "from datasets import Dataset\n",
    "import pandas as pd\n",
    "\n",
    "import os\n",
    "# run as much as possible accelerated by apple silicon, fall back to cpu if not possible\n",
    "os.environ[\"PYTORCH_ENABLE_MPS_FALLBACK\"] = \"1\"\n",
    "import torch\n",
    "\n",
    "import sys\n",
    "sys.path.append('..')\n",
    "from scripts.audio import audio_file_to_array\n",
    "from scripts.ipa import timit2ipa\n"
   ]
  },
  {
   "cell_type": "code",
   "execution_count": 2,
   "metadata": {},
   "outputs": [],
   "source": [
    "# set espeak library path for macOS\n",
    "if sys.platform == \"darwin\":\n",
    "    from phonemizer.backend.espeak.wrapper import EspeakWrapper\n",
    "\n",
    "    _ESPEAK_LIBRARY = \"/opt/homebrew/Cellar/espeak/1.48.04_1/lib/libespeak.1.1.48.dylib\"\n",
    "    EspeakWrapper.set_library(_ESPEAK_LIBRARY)"
   ]
  },
  {
   "cell_type": "code",
   "execution_count": 3,
   "metadata": {},
   "outputs": [],
   "source": [
    "from transformers import AutoProcessor, AutoModelForCTC, AutoTokenizer, AutoFeatureExtractor"
   ]
  },
  {
   "cell_type": "code",
   "execution_count": 4,
   "metadata": {},
   "outputs": [],
   "source": [
    "OUTPUT_DIR = os.path.join('..', 'models', 'timit-xlsr-finetune')\n",
    "PRE_TRAINED_ID = \"facebook/wav2vec2-lv-60-espeak-cv-ft\""
   ]
  },
  {
   "cell_type": "markdown",
   "metadata": {},
   "source": [
    "# Load Data"
   ]
  },
  {
   "cell_type": "code",
   "execution_count": 5,
   "metadata": {},
   "outputs": [],
   "source": [
    "timit = zipfile.ZipFile('../.data/TIMIT.zip', 'r')\n",
    "timit_files = timit.namelist()"
   ]
  },
  {
   "cell_type": "code",
   "execution_count": 6,
   "metadata": {},
   "outputs": [],
   "source": [
    "training_files = list(set(map(lambda x: x.split('.')[0], filter(lambda x: x.startswith('data/TRAIN'), timit_files))))\n",
    "test_files = list(set(map(lambda x: x.split('.')[0], filter(lambda x: x.startswith('data/TEST'), timit_files))))"
   ]
  },
  {
   "cell_type": "code",
   "execution_count": 7,
   "metadata": {},
   "outputs": [],
   "source": [
    "def timit_file_to_dict(filename):\n",
    "    with timit.open(filename + '.PHN') as phn_file:\n",
    "        phonemes = []\n",
    "        for line in phn_file.read().decode('utf-8').split('\\n'):\n",
    "            if line == '':\n",
    "                continue\n",
    "            _, _, phoneme = line.split()\n",
    "            phonemes.append(timit2ipa(phoneme))\n",
    "    return {'phonemes': phonemes, 'wav_filename': filename + '.WAV'}"
   ]
  },
  {
   "cell_type": "code",
   "execution_count": 19,
   "metadata": {},
   "outputs": [],
   "source": [
    "\n",
    "def timit_file_to_dict(filename):\n",
    "    with timit.open(filename + '.PHN') as phn_file:\n",
    "        timestamped_phonemes = []\n",
    "        for line in phn_file.read().decode('utf-8').split('\\n'):\n",
    "            if line == '':\n",
    "                continue\n",
    "            start, end, phoneme = line.split()\n",
    "            timestamped_phonemes.append((timit2ipa(phoneme, \"eng\"), int(start), int(end)))\n",
    "    return {'timestamped_phonemes': timestamped_phonemes, 'wav_filename': filename + '.WAV'}\n",
    "    "
   ]
  },
  {
   "cell_type": "code",
   "execution_count": 20,
   "metadata": {},
   "outputs": [],
   "source": [
    "WAV_HEADER_SIZE = 44\n",
    "def zipped_wav_to_array(filename):\n",
    "    with timit.open(filename) as wav_file:\n",
    "        return np.frombuffer(wav_file.read(), dtype=np.int16)[WAV_HEADER_SIZE//2:]"
   ]
  },
  {
   "cell_type": "code",
   "execution_count": 21,
   "metadata": {},
   "outputs": [
    {
     "name": "stdout",
     "output_type": "stream",
     "text": [
      "{'timestamped_phonemes': [('', 0, 2879), ('h', 2879, 3910), ('aʊ', 3910, 4995), ('p', 4995, 6080), ('', 6080, 6690), ('ɝ', 6690, 7960), ('m', 7960, 8772), ('ɨ', 8772, 9315), ('ɾ̃', 9315, 9608), ('ɛ', 9608, 10840), ('n', 10840, 11640), ('ɑ', 11640, 13785), ('ð', 13785, 14590), ('ɛ', 14590, 16041), ('ɹ', 16041, 17545), ('ɛ', 17545, 18972), ('k', 18972, 20260), ('', 20260, 20820), ('ɨ', 20820, 21960), ('d', 21960, 23225), ('', 23225, 23520), ('z', 23520, 25650), ('', 25650, 27680)], 'wav_filename': 'data/TRAIN/DR1/FCJF0/SX217.WAV'}\n"
     ]
    }
   ],
   "source": [
    "\n",
    "parsed_0 = timit_file_to_dict(training_files[0])\n",
    "print(parsed_0)"
   ]
  },
  {
   "cell_type": "code",
   "execution_count": 22,
   "metadata": {},
   "outputs": [],
   "source": [
    "def files_to_df(files):\n",
    "    records = []\n",
    "    for filename in files:\n",
    "        parsed = timit_file_to_dict(filename)\n",
    "        parsed['audio'] = zipped_wav_to_array(parsed['wav_filename'])\n",
    "        del parsed['wav_filename']\n",
    "        parsed['phonemes'] = [phoneme for phoneme, _, _ in parsed['timestamped_phonemes']]\n",
    "        parsed['phoneme_starts'] = [start for _, start, _ in parsed['timestamped_phonemes']]\n",
    "        parsed['phoneme_ends'] = [end for _, _, end in parsed['timestamped_phonemes']]\n",
    "        del parsed['timestamped_phonemes']\n",
    "        records.append(parsed)\n",
    "    return pd.DataFrame(records)"
   ]
  },
  {
   "cell_type": "code",
   "execution_count": 23,
   "metadata": {},
   "outputs": [
    {
     "data": {
      "text/html": [
       "<div>\n",
       "<style scoped>\n",
       "    .dataframe tbody tr th:only-of-type {\n",
       "        vertical-align: middle;\n",
       "    }\n",
       "\n",
       "    .dataframe tbody tr th {\n",
       "        vertical-align: top;\n",
       "    }\n",
       "\n",
       "    .dataframe thead th {\n",
       "        text-align: right;\n",
       "    }\n",
       "</style>\n",
       "<table border=\"1\" class=\"dataframe\">\n",
       "  <thead>\n",
       "    <tr style=\"text-align: right;\">\n",
       "      <th></th>\n",
       "      <th>audio</th>\n",
       "      <th>phonemes</th>\n",
       "      <th>phoneme_starts</th>\n",
       "      <th>phoneme_ends</th>\n",
       "    </tr>\n",
       "  </thead>\n",
       "  <tbody>\n",
       "    <tr>\n",
       "      <th>0</th>\n",
       "      <td>[25971, 30303, 29285, 26995, 28271, 11552, 131...</td>\n",
       "      <td>[, h, aʊ, p, , ɝ, m, ɨ, ɾ̃, ɛ, n, ɑ, ð, ɛ, ɹ, ...</td>\n",
       "      <td>[0, 2879, 3910, 4995, 6080, 6690, 7960, 8772, ...</td>\n",
       "      <td>[2879, 3910, 4995, 6080, 6690, 7960, 8772, 931...</td>\n",
       "    </tr>\n",
       "    <tr>\n",
       "      <th>1</th>\n",
       "      <td>[25971, 30303, 29285, 26995, 28271, 11552, 131...</td>\n",
       "      <td>[, h, ɨ, s, ʌ, d, n̩, d, , ɨ, p, , ɑ, ɹ, t, tʃ...</td>\n",
       "      <td>[0, 2280, 3300, 4320, 7080, 8640, 9190, 10120,...</td>\n",
       "      <td>[2280, 3300, 4320, 7080, 8640, 9190, 10120, 11...</td>\n",
       "    </tr>\n",
       "    <tr>\n",
       "      <th>2</th>\n",
       "      <td>[25971, 30303, 29285, 26995, 28271, 11552, 131...</td>\n",
       "      <td>[, j, ɛ, s, ɪ, n, d, , i, d, , ɨ, w, i, t, , ʉ...</td>\n",
       "      <td>[0, 2826, 3383, 4678, 6475, 7227, 8218, 8663, ...</td>\n",
       "      <td>[2826, 3383, 4678, 6475, 7227, 8218, 8663, 885...</td>\n",
       "    </tr>\n",
       "    <tr>\n",
       "      <th>3</th>\n",
       "      <td>[25971, 30303, 29285, 26995, 28271, 11552, 131...</td>\n",
       "      <td>[, s, oʊ, ɨ, ŋ, b, , ɹ, ɪ, ŋ, z, n, ʌ, m, n, ɨ...</td>\n",
       "      <td>[0, 3000, 5240, 7018, 8020, 9240, 10120, 10240...</td>\n",
       "      <td>[3000, 5240, 7018, 8020, 9240, 10120, 10240, 1...</td>\n",
       "    </tr>\n",
       "    <tr>\n",
       "      <th>4</th>\n",
       "      <td>[25971, 30303, 29285, 26995, 28271, 11552, 131...</td>\n",
       "      <td>[, w, aɪ, ɾ, ɝ, d, , ɨ, s, k, , ɹ, ɛ, ʃ, ɨ, ɾ̃...</td>\n",
       "      <td>[0, 2240, 3053, 4680, 5080, 6600, 7289, 7494, ...</td>\n",
       "      <td>[2240, 3053, 4680, 5080, 6600, 7289, 7494, 783...</td>\n",
       "    </tr>\n",
       "  </tbody>\n",
       "</table>\n",
       "</div>"
      ],
      "text/plain": [
       "                                               audio  \\\n",
       "0  [25971, 30303, 29285, 26995, 28271, 11552, 131...   \n",
       "1  [25971, 30303, 29285, 26995, 28271, 11552, 131...   \n",
       "2  [25971, 30303, 29285, 26995, 28271, 11552, 131...   \n",
       "3  [25971, 30303, 29285, 26995, 28271, 11552, 131...   \n",
       "4  [25971, 30303, 29285, 26995, 28271, 11552, 131...   \n",
       "\n",
       "                                            phonemes  \\\n",
       "0  [, h, aʊ, p, , ɝ, m, ɨ, ɾ̃, ɛ, n, ɑ, ð, ɛ, ɹ, ...   \n",
       "1  [, h, ɨ, s, ʌ, d, n̩, d, , ɨ, p, , ɑ, ɹ, t, tʃ...   \n",
       "2  [, j, ɛ, s, ɪ, n, d, , i, d, , ɨ, w, i, t, , ʉ...   \n",
       "3  [, s, oʊ, ɨ, ŋ, b, , ɹ, ɪ, ŋ, z, n, ʌ, m, n, ɨ...   \n",
       "4  [, w, aɪ, ɾ, ɝ, d, , ɨ, s, k, , ɹ, ɛ, ʃ, ɨ, ɾ̃...   \n",
       "\n",
       "                                      phoneme_starts  \\\n",
       "0  [0, 2879, 3910, 4995, 6080, 6690, 7960, 8772, ...   \n",
       "1  [0, 2280, 3300, 4320, 7080, 8640, 9190, 10120,...   \n",
       "2  [0, 2826, 3383, 4678, 6475, 7227, 8218, 8663, ...   \n",
       "3  [0, 3000, 5240, 7018, 8020, 9240, 10120, 10240...   \n",
       "4  [0, 2240, 3053, 4680, 5080, 6600, 7289, 7494, ...   \n",
       "\n",
       "                                        phoneme_ends  \n",
       "0  [2879, 3910, 4995, 6080, 6690, 7960, 8772, 931...  \n",
       "1  [2280, 3300, 4320, 7080, 8640, 9190, 10120, 11...  \n",
       "2  [2826, 3383, 4678, 6475, 7227, 8218, 8663, 885...  \n",
       "3  [3000, 5240, 7018, 8020, 9240, 10120, 10240, 1...  \n",
       "4  [2240, 3053, 4680, 5080, 6600, 7289, 7494, 783...  "
      ]
     },
     "execution_count": 23,
     "metadata": {},
     "output_type": "execute_result"
    }
   ],
   "source": [
    "train_df = files_to_df(training_files)\n",
    "train_df.head()"
   ]
  },
  {
   "cell_type": "code",
   "execution_count": 24,
   "metadata": {},
   "outputs": [
    {
     "data": {
      "text/html": [
       "<div>\n",
       "<style scoped>\n",
       "    .dataframe tbody tr th:only-of-type {\n",
       "        vertical-align: middle;\n",
       "    }\n",
       "\n",
       "    .dataframe tbody tr th {\n",
       "        vertical-align: top;\n",
       "    }\n",
       "\n",
       "    .dataframe thead th {\n",
       "        text-align: right;\n",
       "    }\n",
       "</style>\n",
       "<table border=\"1\" class=\"dataframe\">\n",
       "  <thead>\n",
       "    <tr style=\"text-align: right;\">\n",
       "      <th></th>\n",
       "      <th>audio</th>\n",
       "      <th>phonemes</th>\n",
       "      <th>phoneme_starts</th>\n",
       "      <th>phoneme_ends</th>\n",
       "    </tr>\n",
       "  </thead>\n",
       "  <tbody>\n",
       "    <tr>\n",
       "      <th>0</th>\n",
       "      <td>[25971, 30303, 29285, 26995, 28271, 11552, 131...</td>\n",
       "      <td>[, w, ɨ, n, i, s, ɑ, m, i, k, , ʌ, m, ɨ, ŋ, ɦ,...</td>\n",
       "      <td>[0, 2263, 2840, 3312, 3880, 4910, 6952, 9080, ...</td>\n",
       "      <td>[2263, 2840, 3312, 3880, 4910, 6952, 9080, 101...</td>\n",
       "    </tr>\n",
       "    <tr>\n",
       "      <th>1</th>\n",
       "      <td>[25971, 30303, 29285, 26995, 28271, 11552, 131...</td>\n",
       "      <td>[, ʃ, i, h, æ, d, , j, ɚ, d, , ɑ, ɹ, k, , s, ʉ...</td>\n",
       "      <td>[0, 2206, 4296, 5640, 7445, 9138, 10060, 10520...</td>\n",
       "      <td>[2206, 4296, 5640, 7445, 9138, 10060, 10520, 1...</td>\n",
       "    </tr>\n",
       "    <tr>\n",
       "      <th>2</th>\n",
       "      <td>[25971, 30303, 29285, 26995, 28271, 11552, 131...</td>\n",
       "      <td>[, ʔ, aɪ, d, ɹ, aɪ, d, ð, ɨ, s, ʌ, b, w, eɪ, ,...</td>\n",
       "      <td>[0, 2840, 3358, 5080, 5848, 6600, 9393, 10022,...</td>\n",
       "      <td>[2840, 3358, 5080, 5848, 6600, 9393, 10022, 10...</td>\n",
       "    </tr>\n",
       "    <tr>\n",
       "      <th>3</th>\n",
       "      <td>[25971, 30303, 29285, 26995, 28271, 11552, 131...</td>\n",
       "      <td>[, j, ʉ, t, , ʉ, w, ɝ, ɨ, s, t, , ʉ, p, , ɨ, d...</td>\n",
       "      <td>[0, 3571, 4600, 5880, 6760, 8040, 8920, 10569,...</td>\n",
       "      <td>[3571, 4600, 5880, 6760, 8040, 8920, 10569, 12...</td>\n",
       "    </tr>\n",
       "    <tr>\n",
       "      <th>4</th>\n",
       "      <td>[25971, 30303, 29285, 26995, 28271, 11552, 131...</td>\n",
       "      <td>[, oʊ, n, l, i, ð, oʊ, s, t, , ɔ, ɹ, i, t, , ɛ...</td>\n",
       "      <td>[0, 4120, 5849, 6600, 7240, 8520, 9400, 12520,...</td>\n",
       "      <td>[4120, 5849, 6600, 7240, 8520, 9400, 12520, 14...</td>\n",
       "    </tr>\n",
       "  </tbody>\n",
       "</table>\n",
       "</div>"
      ],
      "text/plain": [
       "                                               audio  \\\n",
       "0  [25971, 30303, 29285, 26995, 28271, 11552, 131...   \n",
       "1  [25971, 30303, 29285, 26995, 28271, 11552, 131...   \n",
       "2  [25971, 30303, 29285, 26995, 28271, 11552, 131...   \n",
       "3  [25971, 30303, 29285, 26995, 28271, 11552, 131...   \n",
       "4  [25971, 30303, 29285, 26995, 28271, 11552, 131...   \n",
       "\n",
       "                                            phonemes  \\\n",
       "0  [, w, ɨ, n, i, s, ɑ, m, i, k, , ʌ, m, ɨ, ŋ, ɦ,...   \n",
       "1  [, ʃ, i, h, æ, d, , j, ɚ, d, , ɑ, ɹ, k, , s, ʉ...   \n",
       "2  [, ʔ, aɪ, d, ɹ, aɪ, d, ð, ɨ, s, ʌ, b, w, eɪ, ,...   \n",
       "3  [, j, ʉ, t, , ʉ, w, ɝ, ɨ, s, t, , ʉ, p, , ɨ, d...   \n",
       "4  [, oʊ, n, l, i, ð, oʊ, s, t, , ɔ, ɹ, i, t, , ɛ...   \n",
       "\n",
       "                                      phoneme_starts  \\\n",
       "0  [0, 2263, 2840, 3312, 3880, 4910, 6952, 9080, ...   \n",
       "1  [0, 2206, 4296, 5640, 7445, 9138, 10060, 10520...   \n",
       "2  [0, 2840, 3358, 5080, 5848, 6600, 9393, 10022,...   \n",
       "3  [0, 3571, 4600, 5880, 6760, 8040, 8920, 10569,...   \n",
       "4  [0, 4120, 5849, 6600, 7240, 8520, 9400, 12520,...   \n",
       "\n",
       "                                        phoneme_ends  \n",
       "0  [2263, 2840, 3312, 3880, 4910, 6952, 9080, 101...  \n",
       "1  [2206, 4296, 5640, 7445, 9138, 10060, 10520, 1...  \n",
       "2  [2840, 3358, 5080, 5848, 6600, 9393, 10022, 10...  \n",
       "3  [3571, 4600, 5880, 6760, 8040, 8920, 10569, 12...  \n",
       "4  [4120, 5849, 6600, 7240, 8520, 9400, 12520, 14...  "
      ]
     },
     "execution_count": 24,
     "metadata": {},
     "output_type": "execute_result"
    }
   ],
   "source": [
    "test_df = files_to_df(test_files)\n",
    "test_df.head()"
   ]
  },
  {
   "cell_type": "markdown",
   "metadata": {},
   "source": [
    "### Cleaning Up Audio"
   ]
  },
  {
   "cell_type": "code",
   "execution_count": 13,
   "metadata": {},
   "outputs": [
    {
     "data": {
      "image/png": "[encoded data removed]",
      "text/plain": [
       "<Figure size 640x480 with 1 Axes>"
      ]
     },
     "metadata": {},
     "output_type": "display_data"
    }
   ],
   "source": [
    "# graph one audio to see start signal that we will remove\n",
    "import matplotlib.pyplot as plt\n",
    "plt.plot(train_df['audio'][0])\n",
    "plt.show()"
   ]
  },
  {
   "cell_type": "code",
   "execution_count": null,
   "metadata": {},
   "outputs": [],
   "source": [
    "# function to crop audio to remove start signal at first silence end timestamp\n",
    "def crop_audio(df, sr=16000):\n",
    "    "
   ]
  },
  {
   "cell_type": "code",
   "execution_count": 12,
   "metadata": {},
   "outputs": [],
   "source": [
    "train_ds = Dataset.from_pandas(train_df)\n",
    "test_ds = Dataset.from_pandas(test_df)"
   ]
  },
  {
   "cell_type": "markdown",
   "metadata": {},
   "source": [
    "# Extend Phoneme Vocab"
   ]
  },
  {
   "cell_type": "code",
   "execution_count": 13,
   "metadata": {},
   "outputs": [],
   "source": [
    "timit_vocab = set(\"\".join(train_df['ipa'])) | set(\"\".join(test_df['ipa']))"
   ]
  },
  {
   "cell_type": "code",
   "execution_count": 14,
   "metadata": {},
   "outputs": [],
   "source": [
    "tokenizer = AutoTokenizer.from_pretrained(PRE_TRAINED_ID)\n",
    "vocab = tokenizer.get_vocab()"
   ]
  },
  {
   "cell_type": "code",
   "execution_count": 15,
   "metadata": {},
   "outputs": [
    {
     "name": "stdout",
     "output_type": "stream",
     "text": [
      "{'̥', 'ɝ', '̃', '̩', 'g', 'ɦ', '̍'}\n"
     ]
    }
   ],
   "source": [
    "additional_vocab = timit_vocab.difference(set(vocab.keys()) | {' '})\n",
    "tokenizer.add_tokens(list(additional_vocab))\n",
    "print(additional_vocab)"
   ]
  },
  {
   "cell_type": "code",
   "execution_count": 16,
   "metadata": {},
   "outputs": [
    {
     "name": "stderr",
     "output_type": "stream",
     "text": [
      "Map: 100%|██████████| 4620/4620 [01:06<00:00, 69.88 examples/s]\n",
      "Map: 100%|██████████| 1680/1680 [00:24<00:00, 69.78 examples/s]\n"
     ]
    }
   ],
   "source": [
    "# replace ' ' in ipa with tokenizer.pad_token\n",
    "train_ds = train_ds.map(lambda x: {'audio': x['audio'], 'ipa': x['ipa'].replace(' ', tokenizer.pad_token)})\n",
    "test_ds = test_ds.map(lambda x: {'audio': x['audio'], 'ipa': x['ipa'].replace(' ', tokenizer.pad_token)})"
   ]
  },
  {
   "cell_type": "markdown",
   "metadata": {},
   "source": [
    "# Update Feature Extraction"
   ]
  },
  {
   "cell_type": "code",
   "execution_count": 17,
   "metadata": {},
   "outputs": [],
   "source": [
    "feature_extractor = AutoFeatureExtractor.from_pretrained(PRE_TRAINED_ID)"
   ]
  },
  {
   "cell_type": "markdown",
   "metadata": {},
   "source": [
    "We don't need to update the feature extractor since it has been pretrained on 16kHz audio which matches the TIMIT dataset.\n",
    "\n",
    "For datasets with different sampling rates, the feature extractor should be updated or the audio resampled (easier).\n",
    "\n",
    "This is also where code to add extra features (such as conditioning on speaker's native language etc.) would be added."
   ]
  },
  {
   "cell_type": "markdown",
   "metadata": {},
   "source": [
    "# Save Updated Tokenizer and Feature Extractor"
   ]
  },
  {
   "cell_type": "code",
   "execution_count": 18,
   "metadata": {},
   "outputs": [
    {
     "data": {
      "text/plain": [
       "[]"
      ]
     },
     "execution_count": 18,
     "metadata": {},
     "output_type": "execute_result"
    }
   ],
   "source": [
    "processor = AutoProcessor.from_pretrained(PRE_TRAINED_ID)\n",
    "processor.tokenizer = tokenizer\n",
    "processor.feature_extractor = feature_extractor\n",
    "processor.save_pretrained(OUTPUT_DIR)"
   ]
  },
  {
   "cell_type": "markdown",
   "metadata": {},
   "source": [
    "# Preprocess Data"
   ]
  },
  {
   "cell_type": "code",
   "execution_count": 19,
   "metadata": {},
   "outputs": [],
   "source": [
    "def prepare_dataset(batch):\n",
    "    batch[\"input_values\"] = processor(batch[\"audio\"], sampling_rate=feature_extractor.sampling_rate).input_values\n",
    "    batch[\"labels\"] = processor(text=batch[\"ipa\"]).input_ids\n",
    "    return batch"
   ]
  },
  {
   "cell_type": "code",
   "execution_count": 20,
   "metadata": {},
   "outputs": [
    {
     "name": "stderr",
     "output_type": "stream",
     "text": [
      "Map (num_proc=4): 100%|██████████| 4620/4620 [01:06<00:00, 69.69 examples/s] \n"
     ]
    }
   ],
   "source": [
    "train_ds_prepared = train_ds.map(prepare_dataset, batch_size=8, num_proc=4, batched=True)"
   ]
  },
  {
   "cell_type": "code",
   "execution_count": 21,
   "metadata": {},
   "outputs": [
    {
     "name": "stderr",
     "output_type": "stream",
     "text": [
      "Map (num_proc=4): 100%|██████████| 1680/1680 [00:27<00:00, 60.24 examples/s] \n"
     ]
    }
   ],
   "source": [
    "test_ds_prepared = test_ds.map(prepare_dataset, batch_size=8, num_proc=4, batched=True)"
   ]
  },
  {
   "cell_type": "code",
   "execution_count": 22,
   "metadata": {},
   "outputs": [
    {
     "data": {
      "text/html": [
       "<div>\n",
       "<style scoped>\n",
       "    .dataframe tbody tr th:only-of-type {\n",
       "        vertical-align: middle;\n",
       "    }\n",
       "\n",
       "    .dataframe tbody tr th {\n",
       "        vertical-align: top;\n",
       "    }\n",
       "\n",
       "    .dataframe thead th {\n",
       "        text-align: right;\n",
       "    }\n",
       "</style>\n",
       "<table border=\"1\" class=\"dataframe\">\n",
       "  <thead>\n",
       "    <tr style=\"text-align: right;\">\n",
       "      <th></th>\n",
       "      <th>audio</th>\n",
       "      <th>ipa</th>\n",
       "      <th>input_values</th>\n",
       "      <th>labels</th>\n",
       "    </tr>\n",
       "  </thead>\n",
       "  <tbody>\n",
       "    <tr>\n",
       "      <th>0</th>\n",
       "      <td>[25971, 30303, 29285, 26995, 28271, 11552, 131...</td>\n",
       "      <td>oʊnʔæsmitɨkɛɹiʔɨnʔɔɪliɹæglaɪkðæt</td>\n",
       "      <td>[18.135152024062002, 21.17466781012437, 20.460...</td>\n",
       "      <td>[49, 29, 18, 5, 17, 8, 41, 4, 14, 4, 35, 8, 41...</td>\n",
       "    </tr>\n",
       "    <tr>\n",
       "      <th>1</th>\n",
       "      <td>[25971, 30303, 29285, 26995, 28271, 11552, 131...</td>\n",
       "      <td>ɹiɾiŋʔɨnpɔɹlaɪtɪvʒʉʔaɪstɹeɪn</td>\n",
       "      <td>[18.094273809159557, 21.125626761823945, 20.41...</td>\n",
       "      <td>[6, 63, 4, 12, 41, 27, 37, 68, 15, 36, 18, 37,...</td>\n",
       "    </tr>\n",
       "    <tr>\n",
       "      <th>2</th>\n",
       "      <td>[25971, 30303, 29285, 26995, 28271, 11552, 131...</td>\n",
       "      <td>ɨmplɔɪɨʔleɪɔfskoʊɨntsaɪdɪdwɨθɨkʌmpn̩izɹɨɔɹgɨnɨ...</td>\n",
       "      <td>[16.754583715965623, 19.561161243340255, 18.90...</td>\n",
       "      <td>[37, 26, 68, 14, 13, 18, 30, 14, 8, 49, 18, 7,...</td>\n",
       "    </tr>\n",
       "    <tr>\n",
       "      <th>3</th>\n",
       "      <td>[25971, 30303, 29285, 26995, 28271, 11552, 131...</td>\n",
       "      <td>ægaɪpsɨnbɑŋgoʊzɚmjʉzɨkl̩&lt;pad&gt;ɨntstə̥mɨnts</td>\n",
       "      <td>[15.056215957312128, 17.58146924092826, 16.988...</td>\n",
       "      <td>[8, 17, 35, 20, 66, 7, 44, 30, 396, 20, 5, 13,...</td>\n",
       "    </tr>\n",
       "    <tr>\n",
       "      <th>4</th>\n",
       "      <td>[25971, 30303, 29285, 26995, 28271, 11552, 131...</td>\n",
       "      <td>ʃiɦæddʒɚdɑɹksʉɾɨngɹisiwɔɹʃwɔɾɚɔljɪɚ</td>\n",
       "      <td>[19.301096442287164, 22.5337553816438, 21.7740...</td>\n",
       "      <td>[14, 38, 37, 397, 8, 17, 35, 20, 66, 7, 44, 30...</td>\n",
       "    </tr>\n",
       "  </tbody>\n",
       "</table>\n",
       "</div>"
      ],
      "text/plain": [
       "                                               audio  \\\n",
       "0  [25971, 30303, 29285, 26995, 28271, 11552, 131...   \n",
       "1  [25971, 30303, 29285, 26995, 28271, 11552, 131...   \n",
       "2  [25971, 30303, 29285, 26995, 28271, 11552, 131...   \n",
       "3  [25971, 30303, 29285, 26995, 28271, 11552, 131...   \n",
       "4  [25971, 30303, 29285, 26995, 28271, 11552, 131...   \n",
       "\n",
       "                                                 ipa  \\\n",
       "0                   oʊnʔæsmitɨkɛɹiʔɨnʔɔɪliɹæglaɪkðæt   \n",
       "1                       ɹiɾiŋʔɨnpɔɹlaɪtɪvʒʉʔaɪstɹeɪn   \n",
       "2  ɨmplɔɪɨʔleɪɔfskoʊɨntsaɪdɪdwɨθɨkʌmpn̩izɹɨɔɹgɨnɨ...   \n",
       "3          ægaɪpsɨnbɑŋgoʊzɚmjʉzɨkl̩<pad>ɨntstə̥mɨnts   \n",
       "4                ʃiɦæddʒɚdɑɹksʉɾɨngɹisiwɔɹʃwɔɾɚɔljɪɚ   \n",
       "\n",
       "                                        input_values  \\\n",
       "0  [18.135152024062002, 21.17466781012437, 20.460...   \n",
       "1  [18.094273809159557, 21.125626761823945, 20.41...   \n",
       "2  [16.754583715965623, 19.561161243340255, 18.90...   \n",
       "3  [15.056215957312128, 17.58146924092826, 16.988...   \n",
       "4  [19.301096442287164, 22.5337553816438, 21.7740...   \n",
       "\n",
       "                                              labels  \n",
       "0  [49, 29, 18, 5, 17, 8, 41, 4, 14, 4, 35, 8, 41...  \n",
       "1  [6, 63, 4, 12, 41, 27, 37, 68, 15, 36, 18, 37,...  \n",
       "2  [37, 26, 68, 14, 13, 18, 30, 14, 8, 49, 18, 7,...  \n",
       "3  [8, 17, 35, 20, 66, 7, 44, 30, 396, 20, 5, 13,...  \n",
       "4  [14, 38, 37, 397, 8, 17, 35, 20, 66, 7, 44, 30...  "
      ]
     },
     "execution_count": 22,
     "metadata": {},
     "output_type": "execute_result"
    }
   ],
   "source": [
    "train_ds_prepared.to_pandas().head()"
   ]
  },
  {
   "cell_type": "markdown",
   "metadata": {},
   "source": [
    "# Fine-Tune Model"
   ]
  },
  {
   "cell_type": "code",
   "execution_count": 23,
   "metadata": {},
   "outputs": [],
   "source": [
    "class DataCollatorCTCWithPadding:\n",
    "    \"\"\"\n",
    "    Data collator that will dynamically pad the inputs received.\n",
    "    Args:\n",
    "        processor (:class:`~transformers.Wav2Vec2Processor`)\n",
    "            The processor used for proccessing the data.\n",
    "        padding (:obj:`bool`, :obj:`str` or :class:`~transformers.tokenization_utils_base.PaddingStrategy`, `optional`, defaults to :obj:`True`):\n",
    "            Select a strategy to pad the returned sequences (according to the model's padding side and padding index)\n",
    "            among:\n",
    "            * :obj:`True` or :obj:`'longest'`: Pad to the longest sequence in the batch (or no padding if only a single\n",
    "              sequence if provided).\n",
    "            * :obj:`'max_length'`: Pad to a maximum length specified with the argument :obj:`max_length` or to the\n",
    "              maximum acceptable input length for the model if that argument is not provided.\n",
    "            * :obj:`False` or :obj:`'do_not_pad'` (default): No padding (i.e., can output a batch with sequences of\n",
    "              different lengths).\n",
    "        max_length (:obj:`int`, `optional`):\n",
    "            Maximum length of the ``input_values`` of the returned list and optionally padding length (see above).\n",
    "        max_length_labels (:obj:`int`, `optional`):\n",
    "            Maximum length of the ``labels`` returned list and optionally padding length (see above).\n",
    "        pad_to_multiple_of (:obj:`int`, `optional`):\n",
    "            If set will pad the sequence to a multiple of the provided value.\n",
    "            This is especially useful to enable the use of Tensor Cores on NVIDIA hardware with compute capability >=\n",
    "            7.5 (Volta).\n",
    "    \"\"\"\n",
    "\n",
    "    def __init__(self, processor: AutoProcessor, padding=True, max_length=None, max_length_labels=None, pad_to_multiple_of=None, pad_to_multiple_of_labels=None):\n",
    "        self.processor = processor\n",
    "        self.padding = padding\n",
    "        self.max_length = max_length\n",
    "        self.max_length_labels = max_length_labels\n",
    "        self.pad_to_multiple_of = pad_to_multiple_of\n",
    "        self.pad_to_multiple_of_labels = pad_to_multiple_of_labels\n",
    "\n",
    "    def __call__(self, features: \"list[dict[str, list[int] | torch.Tensor]]\") -> \"dict[str, torch.Tensor]\":\n",
    "        # split inputs and labels since they have to be of different lenghts and need\n",
    "        # different padding methods\n",
    "        input_features = [{\"input_values\": feature[\"input_values\"]} for feature in features]\n",
    "        label_features = [{\"input_ids\": feature[\"labels\"]} for feature in features]\n",
    "\n",
    "        batch = self.processor.pad(\n",
    "            input_features,\n",
    "            padding=self.padding,\n",
    "            max_length=self.max_length,\n",
    "            pad_to_multiple_of=self.pad_to_multiple_of,\n",
    "            return_tensors=\"pt\",\n",
    "        )\n",
    "        with self.processor.as_target_processor():\n",
    "            labels_batch = self.processor.pad(\n",
    "                label_features,\n",
    "                padding=self.padding,\n",
    "                max_length=self.max_length_labels,\n",
    "                pad_to_multiple_of=self.pad_to_multiple_of_labels,\n",
    "                return_tensors=\"pt\",\n",
    "            )\n",
    "\n",
    "        # replace padding with -100 to ignore loss correctly\n",
    "        labels = labels_batch[\"input_ids\"].masked_fill(labels_batch.attention_mask.ne(1), -100)\n",
    "\n",
    "        batch[\"labels\"] = labels\n",
    "\n",
    "        return batch"
   ]
  },
  {
   "cell_type": "code",
   "execution_count": 24,
   "metadata": {},
   "outputs": [],
   "source": [
    "data_collator = DataCollatorCTCWithPadding(processor=processor, padding=True)"
   ]
  },
  {
   "cell_type": "code",
   "execution_count": 25,
   "metadata": {},
   "outputs": [],
   "source": [
    "def cer(pred, label):\n",
    "    distances = np.zeros((len(pred) + 1, len(label) + 1))\n",
    "\n",
    "    for t1 in range(len(pred) + 1):\n",
    "        distances[t1][0] = t1\n",
    "\n",
    "    for t2 in range(len(label) + 1):\n",
    "        distances[0][t2] = t2\n",
    "        \n",
    "    a = 0\n",
    "    b = 0\n",
    "    c = 0\n",
    "    \n",
    "    for t1 in range(1, len(pred) + 1):\n",
    "        for t2 in range(1, len(label) + 1):\n",
    "            if (pred[t1-1] == label[t2-1]):\n",
    "                distances[t1][t2] = distances[t1 - 1][t2 - 1]\n",
    "            else:\n",
    "                a = distances[t1][t2 - 1]\n",
    "                b = distances[t1 - 1][t2]\n",
    "                c = distances[t1 - 1][t2 - 1]\n",
    "                \n",
    "                if (a <= b and a <= c):\n",
    "                    distances[t1][t2] = a + 1\n",
    "                elif (b <= a and b <= c):\n",
    "                    distances[t1][t2] = b + 1\n",
    "                else:\n",
    "                    distances[t1][t2] = c + 1\n",
    "\n",
    "    return distances[len(pred)][len(label)] / len(label)"
   ]
  },
  {
   "cell_type": "code",
   "execution_count": 26,
   "metadata": {},
   "outputs": [],
   "source": [
    "def compute_metrics(pred):\n",
    "    pred_logits = pred.predictions\n",
    "    pred_ids = np.argmax(pred_logits, axis=-1)\n",
    "\n",
    "    pred.label_ids[pred.label_ids == -100] = processor.tokenizer.pad_token_id\n",
    "\n",
    "    pred_str = processor.batch_decode(pred_ids)\n",
    "    label_str = processor.batch_decode(pred.label_ids, group_tokens=False) # labels are already grouped as they should be\n",
    "\n",
    "    err = cer(pred_str, label_str)\n",
    "\n",
    "    return {\"cer\": err}"
   ]
  },
  {
   "cell_type": "code",
   "execution_count": 27,
   "metadata": {},
   "outputs": [
    {
     "name": "stdout",
     "output_type": "stream",
     "text": [
      "0.6666666666666666\n"
     ]
    }
   ],
   "source": [
    "# testing\n",
    "label_str = 'aab'\n",
    "pred_str = 'aaac'\n",
    "print(cer(pred_str, label_str))"
   ]
  },
  {
   "cell_type": "code",
   "execution_count": 28,
   "metadata": {},
   "outputs": [],
   "source": [
    "model = AutoModelForCTC.from_pretrained(\n",
    "    PRE_TRAINED_ID, \n",
    "    pad_token_id=processor.tokenizer.pad_token_id, \n",
    "    gradient_checkpointing=True,\n",
    "    ctc_zero_infinity = True\n",
    ")"
   ]
  },
  {
   "cell_type": "code",
   "execution_count": 29,
   "metadata": {},
   "outputs": [],
   "source": [
    "# model.resize_token_embeddings(len(tokenizer))\n",
    "old_weights = model.lm_head.weight.t().detach()\n",
    "old_bias = model.lm_head.bias.detach()\n",
    "new_layer = torch.nn.Linear(model.lm_head.in_features, len(processor.tokenizer))\n",
    "new_layer.weight.data[:model.lm_head.out_features, :] = old_weights.t()\n",
    "new_layer.bias.data[:model.lm_head.out_features] = old_bias\n",
    "model.lm_head = new_layer\n",
    "model.config.vocab_size = len(processor.tokenizer)"
   ]
  },
  {
   "cell_type": "code",
   "execution_count": 30,
   "metadata": {},
   "outputs": [],
   "source": [
    "model.freeze_feature_encoder()"
   ]
  },
  {
   "cell_type": "code",
   "execution_count": 31,
   "metadata": {},
   "outputs": [],
   "source": [
    "# sanity checks\n",
    "max_class_id = 0\n",
    "for label_sequence in train_ds_prepared['labels']:\n",
    "    for class_id in label_sequence:\n",
    "        max_class_id = max(max_class_id, class_id)\n",
    "assert max_class_id == model.config.vocab_size - 1\n",
    "\n",
    "for label_sequence in train_ds_prepared['labels']:\n",
    "    for class_id in label_sequence:\n",
    "        assert class_id >= 0 and class_id <  model.config.vocab_size\n",
    "\n",
    "for label_sequence in train_ds_prepared['labels']:\n",
    "    assert  len(label_sequence) < 1024\n",
    "    assert len(label_sequence) >= 5"
   ]
  },
  {
   "cell_type": "code",
   "execution_count": 36,
   "metadata": {},
   "outputs": [],
   "source": [
    "from transformers import TrainingArguments\n",
    "\n",
    "# training_args = TrainingArguments(\n",
    "#     output_dir=OUTPUT_DIR,\n",
    "#     group_by_length=True,\n",
    "#     per_device_train_batch_size=16,\n",
    "#     gradient_accumulation_steps=2,\n",
    "#     eval_strategy=\"steps\",\n",
    "#     num_train_epochs=50,\n",
    "#     fp16=False, # set to true when training with CUDA?\n",
    "#     save_steps=500,\n",
    "#     eval_steps=500,\n",
    "#     logging_steps=500,\n",
    "#     learning_rate=3e-4,\n",
    "#     gradient_checkpointing=True,\n",
    "#     warmup_steps=1000,\n",
    "#     save_total_limit=2,\n",
    "#     load_best_model_at_end=True,\n",
    "# )\n",
    "\n",
    "training_args = TrainingArguments(\n",
    "    output_dir=OUTPUT_DIR,\n",
    "    group_by_length=True,\n",
    "    per_device_train_batch_size=16,\n",
    "    gradient_accumulation_steps=1,\n",
    "    eval_strategy=\"steps\",\n",
    "    num_train_epochs=1,\n",
    "    fp16=False,\n",
    "    save_steps=100,\n",
    "    eval_steps=100,\n",
    "    logging_steps=100,\n",
    "    learning_rate=3e-4,\n",
    "    warmup_steps=0,\n",
    "    save_total_limit=3,\n",
    "    gradient_checkpointing=True,\n",
    "    load_best_model_at_end=True,\n",
    "    max_grad_norm=1.0,\n",
    ")"
   ]
  },
  {
   "cell_type": "code",
   "execution_count": 37,
   "metadata": {},
   "outputs": [],
   "source": [
    "from transformers import Trainer\n",
    "\n",
    "trainer = Trainer(\n",
    "    model=model,\n",
    "    data_collator=data_collator,\n",
    "    args=training_args,\n",
    "    compute_metrics=compute_metrics,\n",
    "    train_dataset=train_ds_prepared.select(range(100)),\n",
    "    # train_dataset=train_ds_prepared,\n",
    "    eval_dataset=test_ds_prepared.select(range(100)),\n",
    "    # eval_dataset=test_ds_prepared,\n",
    "    processing_class=processor.feature_extractor,\n",
    ")"
   ]
  },
  {
   "cell_type": "code",
   "execution_count": 38,
   "metadata": {},
   "outputs": [
    {
     "name": "stderr",
     "output_type": "stream",
     "text": [
      "  0%|          | 0/7 [00:00<?, ?it/s]/Users/alex/Desktop/CS/Startups/Koel/ML/venv/lib/python3.8/site-packages/torch/nn/functional.py:2705: UserWarning: The operator 'aten::_ctc_loss' is not currently supported on the MPS backend and will fall back to run on the CPU. This may have performance implications. (Triggered internally at /Users/runner/work/pytorch/pytorch/pytorch/aten/src/ATen/mps/MPSFallback.mm:13.)\n",
      "  return torch.ctc_loss(\n",
      "/Users/alex/Desktop/CS/Startups/Koel/ML/venv/lib/python3.8/site-packages/torch/utils/checkpoint.py:295: FutureWarning: `torch.cpu.amp.autocast(args...)` is deprecated. Please use `torch.amp.autocast('cpu', args...)` instead.\n",
      "  with torch.enable_grad(), device_autocast_ctx, torch.cpu.amp.autocast(**ctx.cpu_autocast_kwargs):  # type: ignore[attr-defined]\n",
      "                                             \n",
      "100%|██████████| 7/7 [01:08<00:00,  9.82s/it]"
     ]
    },
    {
     "name": "stdout",
     "output_type": "stream",
     "text": [
      "{'train_runtime': 68.7438, 'train_samples_per_second': 1.455, 'train_steps_per_second': 0.102, 'train_loss': 7413.9765625, 'epoch': 1.0}\n"
     ]
    },
    {
     "name": "stderr",
     "output_type": "stream",
     "text": [
      "\n"
     ]
    },
    {
     "data": {
      "text/plain": [
       "TrainOutput(global_step=7, training_loss=7413.9765625, metrics={'train_runtime': 68.7438, 'train_samples_per_second': 1.455, 'train_steps_per_second': 0.102, 'total_flos': 1.5305473943388e+16, 'train_loss': 7413.9765625, 'epoch': 1.0})"
      ]
     },
     "execution_count": 38,
     "metadata": {},
     "output_type": "execute_result"
    }
   ],
   "source": [
    "torch.autograd.set_detect_anomaly(True) # debug NaNs, disable for real training to improve performance\n",
    "trainer.train() # resume_from_checkpoint=True to resume training if training was interrupted"
   ]
  },
  {
   "cell_type": "markdown",
   "metadata": {},
   "source": [
    "# Evaluate"
   ]
  },
  {
   "cell_type": "code",
   "execution_count": 41,
   "metadata": {},
   "outputs": [
    {
     "name": "stderr",
     "output_type": "stream",
     "text": [
      "Trainer.tokenizer is now deprecated. You should use Trainer.processing_class instead.\n",
      "Trainer.tokenizer is now deprecated. You should use Trainer.processing_class instead.\n",
      "/Users/alex/Desktop/CS/Startups/Koel/ML/venv/lib/python3.8/site-packages/transformers/models/wav2vec2/processing_wav2vec2.py:174: UserWarning: `as_target_processor` is deprecated and will be removed in v5 of Transformers. You can process your labels by using the argument `text` of the regular `__call__` method (either in the same call as your audio inputs, or in a separate call.\n",
      "  warnings.warn(\n",
      "100%|██████████| 13/13 [00:17<00:00,  1.34s/it]\n"
     ]
    },
    {
     "data": {
      "text/plain": [
       "{'eval_loss': 3396.741943359375,\n",
       " 'eval_cer': 1.0,\n",
       " 'eval_runtime': 26.6438,\n",
       " 'eval_samples_per_second': 3.753,\n",
       " 'eval_steps_per_second': 0.488,\n",
       " 'epoch': 1.0}"
      ]
     },
     "execution_count": 41,
     "metadata": {},
     "output_type": "execute_result"
    }
   ],
   "source": [
    "trainer.evaluate()"
   ]
  },
  {
   "cell_type": "code",
   "execution_count": 42,
   "metadata": {},
   "outputs": [],
   "source": [
    "old_model = AutoModelForCTC.from_pretrained(PRE_TRAINED_ID).to(model.device)"
   ]
  },
  {
   "cell_type": "code",
   "execution_count": 43,
   "metadata": {},
   "outputs": [],
   "source": [
    "finetuned_model = AutoModelForCTC.from_pretrained(os.path.join(OUTPUT_DIR, 'checkpoint-7'))"
   ]
  },
  {
   "cell_type": "code",
   "execution_count": 44,
   "metadata": {},
   "outputs": [],
   "source": [
    "# check for nan weights and replace with old values if any\n",
    "for name, param in finetuned_model.named_parameters():\n",
    "    if torch.isnan(param).any():\n",
    "        print(name)\n",
    "        param.data = old_model.state_dict()[name].data"
   ]
  },
  {
   "cell_type": "code",
   "execution_count": 46,
   "metadata": {},
   "outputs": [
    {
     "name": "stdout",
     "output_type": "stream",
     "text": [
      "Weights are different, training did something\n"
     ]
    }
   ],
   "source": [
    "# compare weights\n",
    "is_diff = False\n",
    "for name, param in finetuned_model.named_parameters():\n",
    "    if not torch.equal(param, old_model.state_dict()[name].to(finetuned_model.device)):\n",
    "        is_diff = True\n",
    "        break\n",
    "print(\"Weights are different, training did something\" if is_diff else \"Weights are the same, training did nothing\")"
   ]
  },
  {
   "cell_type": "code",
   "execution_count": 47,
   "metadata": {},
   "outputs": [],
   "source": [
    "def predict(model, wav_file):\n",
    "    speech = audio_file_to_array(wav_file)\n",
    "    input_values = processor(speech, sampling_rate=16000, return_tensors=\"pt\").input_values.type(torch.float32).to(model.device)\n",
    "\n",
    "    with torch.no_grad():\n",
    "        logits = model(input_values).logits\n",
    "\n",
    "    predicted_ids = torch.argmax(logits, dim=-1)\n",
    "    return processor.decode(predicted_ids[0])\n",
    "    "
   ]
  },
  {
   "cell_type": "code",
   "execution_count": 48,
   "metadata": {},
   "outputs": [
    {
     "name": "stdout",
     "output_type": "stream",
     "text": [
      "Checkpoint Transcription: h ɛ l ɛ l ɛ s ɛ z ɛ k t ɹ k ɛ n f iː\n"
     ]
    }
   ],
   "source": [
    "print('Checkpoint Transcription:', predict(finetuned_model, os.path.join('..', 'data', 'alexIsConfused.wav')))"
   ]
  },
  {
   "cell_type": "code",
   "execution_count": 49,
   "metadata": {},
   "outputs": [
    {
     "name": "stdout",
     "output_type": "stream",
     "text": [
      "Best Fine-Tune Transcription: h ɛ l ɛ l ɛ s ɛ z ɛ k t ɹ k ɛ n f iː\n"
     ]
    }
   ],
   "source": [
    "print('Best Fine-Tune Transcription:', predict(trainer.model, os.path.join('..', 'data', 'alexIsConfused.wav')))"
   ]
  },
  {
   "cell_type": "code",
   "execution_count": 50,
   "metadata": {},
   "outputs": [
    {
     "name": "stdout",
     "output_type": "stream",
     "text": [
      "Old Transcription: h ɛ l oʊ æ l ɪ k s ɪ z ɛ k s t ɾ ɹ ə k ə n f iː l ʊ s t\n"
     ]
    }
   ],
   "source": [
    "print('Old Transcription:', predict(old_model, os.path.join('..', 'data', 'alexIsConfused.wav')))"
   ]
  }
 ],
 "metadata": {
  "kernelspec": {
   "display_name": "venv",
   "language": "python",
   "name": "python3"
  },
  "language_info": {
   "codemirror_mode": {
    "name": "ipython",
    "version": 3
   },
   "file_extension": ".py",
   "mimetype": "text/x-python",
   "name": "python",
   "nbconvert_exporter": "python",
   "pygments_lexer": "ipython3",
   "version": "3.8.10"
  }
 },
 "nbformat": 4,
 "nbformat_minor": 2
}
