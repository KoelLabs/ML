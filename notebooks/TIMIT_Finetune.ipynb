{
 "cells": [
  {
   "cell_type": "code",
   "execution_count": 21,
   "metadata": {},
   "outputs": [],
   "source": [
    "import numpy as np\n",
    "import zipfile\n",
    "from datasets import Dataset\n",
    "import pandas as pd\n",
    "\n",
    "import os\n",
    "# run as much as possible accelerated by apple silicon, fall back to cpu if not possible\n",
    "os.environ[\"PYTORCH_ENABLE_MPS_FALLBACK\"] = \"1\"\n",
    "import torch\n",
    "\n",
    "import sys\n",
    "sys.path.append('..')\n",
    "from scripts.audio import audio_file_to_array\n",
    "from scripts.ipa import timit2ipa\n",
    "from scripts.ipa import filter_chars"
   ]
  },
  {
   "cell_type": "code",
   "execution_count": 22,
   "metadata": {},
   "outputs": [],
   "source": [
    "import sys, os\n",
    "sys.path.append('..')\n",
    "from scripts.eval_tests.panphon_model_eval import panphon_model_eval "
   ]
  },
  {
   "cell_type": "code",
   "execution_count": 23,
   "metadata": {},
   "outputs": [],
   "source": [
    "# set espeak library path for macOS\n",
    "if sys.platform == \"darwin\":\n",
    "    from phonemizer.backend.espeak.wrapper import EspeakWrapper\n",
    "\n",
    "    _ESPEAK_LIBRARY = \"/opt/homebrew/Cellar/espeak/1.48.04_1/lib/libespeak.1.1.48.dylib\"\n",
    "    EspeakWrapper.set_library(_ESPEAK_LIBRARY)"
   ]
  },
  {
   "cell_type": "code",
   "execution_count": 24,
   "metadata": {},
   "outputs": [],
   "source": [
    "from transformers import AutoProcessor, AutoModelForCTC, AutoTokenizer, AutoFeatureExtractor"
   ]
  },
  {
   "cell_type": "code",
   "execution_count": 25,
   "metadata": {},
   "outputs": [],
   "source": [
    "OUTPUT_DIR = os.path.join('..', 'models', 'timit-xlsr-finetune-B')\n",
    "PRE_TRAINED_ID = \"facebook/wav2vec2-lv-60-espeak-cv-ft\""
   ]
  },
  {
   "cell_type": "markdown",
   "metadata": {},
   "source": [
    "# Load Data"
   ]
  },
  {
   "cell_type": "code",
   "execution_count": 26,
   "metadata": {},
   "outputs": [],
   "source": [
    "timit = zipfile.ZipFile('../.data/TIMIT.zip', 'r')\n",
    "timit_files = timit.namelist()"
   ]
  },
  {
   "cell_type": "code",
   "execution_count": 27,
   "metadata": {},
   "outputs": [],
   "source": [
    "training_files = list(set(map(lambda x: x.split('.')[0], filter(lambda x: x.startswith('data/TRAIN'), timit_files))))"
   ]
  },
  {
   "cell_type": "code",
   "execution_count": 28,
   "metadata": {},
   "outputs": [],
   "source": [
    "WAV_HEADER_SIZE = 44\n",
    "def zipped_wav_to_array(filename):\n",
    "    with timit.open(filename) as wav_file:\n",
    "        return np.frombuffer(wav_file.read(), dtype=np.int16)[WAV_HEADER_SIZE//2:]"
   ]
  },
  {
   "cell_type": "code",
   "execution_count": 29,
   "metadata": {},
   "outputs": [
    {
     "data": {
      "text/html": [
       "<div>\n",
       "<style scoped>\n",
       "    .dataframe tbody tr th:only-of-type {\n",
       "        vertical-align: middle;\n",
       "    }\n",
       "\n",
       "    .dataframe tbody tr th {\n",
       "        vertical-align: top;\n",
       "    }\n",
       "\n",
       "    .dataframe thead th {\n",
       "        text-align: right;\n",
       "    }\n",
       "</style>\n",
       "<table border=\"1\" class=\"dataframe\">\n",
       "  <thead>\n",
       "    <tr style=\"text-align: right;\">\n",
       "      <th></th>\n",
       "      <th>audio</th>\n",
       "      <th>ipa</th>\n",
       "      <th>phoneme_starts</th>\n",
       "      <th>phoneme_ends</th>\n",
       "    </tr>\n",
       "  </thead>\n",
       "  <tbody>\n",
       "    <tr>\n",
       "      <th>0</th>\n",
       "      <td>[25971, 30303, 29285, 26995, 28271, 11552, 131...</td>\n",
       "      <td>fɔɹɾisɛvinsteɪtsisaɪnɔɹpɹvaɪdvihɪklzfɹʔimplɔɪi...</td>\n",
       "      <td>[0, 2120, 3800, 5013, 5519, 5759, 7240, 9410, ...</td>\n",
       "      <td>[2120, 3800, 5013, 5519, 5759, 7240, 9410, 108...</td>\n",
       "    </tr>\n",
       "    <tr>\n",
       "      <th>1</th>\n",
       "      <td>[25971, 30303, 29285, 26995, 28271, 11552, 131...</td>\n",
       "      <td>umʌttʃkjɹiɑsiɾikiŋɡɛttʃjuintitɹʌbl</td>\n",
       "      <td>[0, 2150, 3210, 4120, 5120, 6400, 6890, 7853, ...</td>\n",
       "      <td>[2150, 3210, 4120, 5120, 6400, 6890, 7853, 855...</td>\n",
       "    </tr>\n",
       "    <tr>\n",
       "      <th>2</th>\n",
       "      <td>[25971, 30303, 29285, 26995, 28271, 11552, 131...</td>\n",
       "      <td>sunsɛdðəhæfmæn</td>\n",
       "      <td>[0, 2040, 4520, 7101, 8563, 10280, 11880, 1260...</td>\n",
       "      <td>[2040, 4520, 7101, 8563, 10280, 11880, 12600, ...</td>\n",
       "    </tr>\n",
       "    <tr>\n",
       "      <th>3</th>\n",
       "      <td>[25971, 30303, 29285, 26995, 28271, 11552, 131...</td>\n",
       "      <td>ðəwɪloʊwiwʊminwɔɹəmʌskɹætkoʊt</td>\n",
       "      <td>[0, 2173, 2571, 3385, 4450, 5765, 6851, 8313, ...</td>\n",
       "      <td>[2173, 2571, 3385, 4450, 5765, 6851, 8313, 910...</td>\n",
       "    </tr>\n",
       "    <tr>\n",
       "      <th>4</th>\n",
       "      <td>[25971, 30303, 29285, 26995, 28271, 11552, 131...</td>\n",
       "      <td>oʊɾæskmiɾikɛɹiiniʔɔɪliɹæɡlaɪkðæt</td>\n",
       "      <td>[0, 2475, 2900, 4840, 5221, 7330, 8560, 8811, ...</td>\n",
       "      <td>[2475, 2900, 4840, 5221, 7330, 8560, 8811, 924...</td>\n",
       "    </tr>\n",
       "  </tbody>\n",
       "</table>\n",
       "</div>"
      ],
      "text/plain": [
       "                                               audio  \\\n",
       "0  [25971, 30303, 29285, 26995, 28271, 11552, 131...   \n",
       "1  [25971, 30303, 29285, 26995, 28271, 11552, 131...   \n",
       "2  [25971, 30303, 29285, 26995, 28271, 11552, 131...   \n",
       "3  [25971, 30303, 29285, 26995, 28271, 11552, 131...   \n",
       "4  [25971, 30303, 29285, 26995, 28271, 11552, 131...   \n",
       "\n",
       "                                                 ipa  \\\n",
       "0  fɔɹɾisɛvinsteɪtsisaɪnɔɹpɹvaɪdvihɪklzfɹʔimplɔɪi...   \n",
       "1                 umʌttʃkjɹiɑsiɾikiŋɡɛttʃjuintitɹʌbl   \n",
       "2                                     sunsɛdðəhæfmæn   \n",
       "3                      ðəwɪloʊwiwʊminwɔɹəmʌskɹætkoʊt   \n",
       "4                   oʊɾæskmiɾikɛɹiiniʔɔɪliɹæɡlaɪkðæt   \n",
       "\n",
       "                                      phoneme_starts  \\\n",
       "0  [0, 2120, 3800, 5013, 5519, 5759, 7240, 9410, ...   \n",
       "1  [0, 2150, 3210, 4120, 5120, 6400, 6890, 7853, ...   \n",
       "2  [0, 2040, 4520, 7101, 8563, 10280, 11880, 1260...   \n",
       "3  [0, 2173, 2571, 3385, 4450, 5765, 6851, 8313, ...   \n",
       "4  [0, 2475, 2900, 4840, 5221, 7330, 8560, 8811, ...   \n",
       "\n",
       "                                        phoneme_ends  \n",
       "0  [2120, 3800, 5013, 5519, 5759, 7240, 9410, 108...  \n",
       "1  [2150, 3210, 4120, 5120, 6400, 6890, 7853, 855...  \n",
       "2  [2040, 4520, 7101, 8563, 10280, 11880, 12600, ...  \n",
       "3  [2173, 2571, 3385, 4450, 5765, 6851, 8313, 910...  \n",
       "4  [2475, 2900, 4840, 5221, 7330, 8560, 8811, 924...  "
      ]
     },
     "execution_count": 29,
     "metadata": {},
     "output_type": "execute_result"
    }
   ],
   "source": [
    "# First, ensure that the simplify_timit function is available and works\n",
    "def simplify_timit(phoneme):\n",
    "    # Substitute the phoneme based on the dictionary\n",
    "    substitution_dict = {\n",
    "        'ɾ̃': 'ɾ',  # Replace nasalized flap with plain flap\n",
    "        'ŋ̍': 'ŋ',  # Remove syllabic marker from 'ŋ̍'\n",
    "        'ə̥': 'ə',  # Remove voiceless marker from 'ə̥'\n",
    "        'ɝ': 'ɹ',   # Simplify rhotacized schwa to 'ɹ'\n",
    "        'ɚ': 'ɹ',   # Simplify rhotacized schwa to 'ɹ'\n",
    "        'l̩': 'l',   # Remove syllabic marker from 'l̩'\n",
    "        'm̩': 'm',   # Remove syllabic marker from 'm̩'\n",
    "        'n̩': 'n',   # Remove syllabic marker from 'n̩'\n",
    "        '̩': '',     # Remove syllabic marker\n",
    "        'ʉ': 'u',    # Replace high central rounded vowel with high back rounded vowel\n",
    "        'ɨ': 'i',    # Replace high central unrounded vowel with high front unrounded vowel\n",
    "        ' ': '',     # Remove nasalization marker\n",
    "        'ɦ': 'h',    # Replace voiceless glottal fricative with voiceless glottal fricative\n",
    "        '͡': '', # Simplify affricate to single character\n",
    "        # Add other necessary substitutions if needed\n",
    "    }\n",
    "    # Apply the substitution for the phoneme\n",
    "    return substitution_dict.get(phoneme, phoneme)  # Return simplified phoneme or the original if no replacement\n",
    "\n",
    "def remove_stress_mark(text):\n",
    "    \"\"\"\n",
    "    Removes the combining double inverted breve (͡) from text.\n",
    "    \n",
    "    Args:\n",
    "        text: String or iterable containing IPA symbols\n",
    "        \n",
    "    Returns:\n",
    "        Text with stress marks removed\n",
    "    \"\"\"\n",
    "    if isinstance(text, str):\n",
    "        return text.replace('͡', '')\n",
    "    else:\n",
    "        raise TypeError(\"Input must be string, set, or list\")\n",
    "    \n",
    "# Updated timit_file_to_dict to use the simplified IPA phonemes\n",
    "def timit_file_to_dict(filename):\n",
    "    with timit.open(filename + '.PHN') as phn_file:\n",
    "        timestamped_phonemes = []\n",
    "        for line in phn_file.read().decode('utf-8').split('\\n'):\n",
    "            if line == '':\n",
    "                continue\n",
    "            start, end, phoneme = line.split()\n",
    "            \n",
    "            # Convert to IPA first and then simplify the phoneme\n",
    "            ipa_phonemes = timit2ipa(phoneme, \"eng\")\n",
    "            \n",
    "            # Now filter only the necessary characters (this simplifies the phoneme to the basic form)\n",
    "            cleaned_ipa = filter_chars(simplify_timit(ipa_phonemes), filter_type=\"letters\")\n",
    "            cleaned_ipa = remove_stress_mark(cleaned_ipa)\n",
    "            timestamped_phonemes.append((cleaned_ipa, int(start), int(end)))\n",
    "\n",
    "    return {'timestamped_phonemes': timestamped_phonemes, 'wav_filename': filename + '.WAV'}\n",
    "\n",
    "# Updated files_to_df to create DataFrame with cleaned-up phonemes\n",
    "def files_to_df(files):\n",
    "    records = []\n",
    "    for filename in files:\n",
    "        parsed = timit_file_to_dict(filename)\n",
    "        parsed['audio'] = zipped_wav_to_array(parsed['wav_filename'])\n",
    "        del parsed['wav_filename']\n",
    "        parsed['ipa'] = \"\".join(phoneme for phoneme, _, _ in parsed['timestamped_phonemes'])\n",
    "        parsed['phoneme_starts'] = [start for _, start, _ in parsed['timestamped_phonemes']]\n",
    "        parsed['phoneme_ends'] = [end for _, _, end in parsed['timestamped_phonemes']]\n",
    "        del parsed['timestamped_phonemes']\n",
    "        records.append(parsed)\n",
    "    return pd.DataFrame(records)\n",
    "\n",
    "# Call files_to_df for your test files\n",
    "train_df = files_to_df(training_files)\n",
    "train_df.head()\n"
   ]
  },
  {
   "cell_type": "markdown",
   "metadata": {},
   "source": [
    "### Cleaning Up Audio"
   ]
  },
  {
   "cell_type": "code",
   "execution_count": 30,
   "metadata": {},
   "outputs": [],
   "source": [
    "def crop_audio(row):\n",
    "    # Access the phoneme_starts column and get the last value of the list\n",
    "    end = row['phoneme_starts'][-1]\n",
    "    # Access the phoneme_ends column and get the first value of the list\n",
    "    start = row['phoneme_ends'][0]\n",
    "    # Crop the audio from start to end\n",
    "    # note that start and end are in samples, not seconds\n",
    "    cropped_audio = row['audio'][start:end]\n",
    "    \n",
    "    return cropped_audio"
   ]
  },
  {
   "cell_type": "code",
   "execution_count": 31,
   "metadata": {},
   "outputs": [
    {
     "data": {
      "image/png": "[encoded data removed]",
      "text/plain": [
       "<Figure size 640x480 with 1 Axes>"
      ]
     },
     "metadata": {},
     "output_type": "display_data"
    }
   ],
   "source": [
    "# graph one audio to see start signal that we will remove\n",
    "import matplotlib.pyplot as plt\n",
    "plt.plot(train_df['audio'][0])\n",
    "plt.show()"
   ]
  },
  {
   "cell_type": "code",
   "execution_count": 32,
   "metadata": {},
   "outputs": [
    {
     "data": {
      "text/html": [
       "<div>\n",
       "<style scoped>\n",
       "    .dataframe tbody tr th:only-of-type {\n",
       "        vertical-align: middle;\n",
       "    }\n",
       "\n",
       "    .dataframe tbody tr th {\n",
       "        vertical-align: top;\n",
       "    }\n",
       "\n",
       "    .dataframe thead th {\n",
       "        text-align: right;\n",
       "    }\n",
       "</style>\n",
       "<table border=\"1\" class=\"dataframe\">\n",
       "  <thead>\n",
       "    <tr style=\"text-align: right;\">\n",
       "      <th></th>\n",
       "      <th>audio</th>\n",
       "      <th>ipa</th>\n",
       "      <th>phoneme_starts</th>\n",
       "      <th>phoneme_ends</th>\n",
       "      <th>cropped_audio</th>\n",
       "    </tr>\n",
       "  </thead>\n",
       "  <tbody>\n",
       "    <tr>\n",
       "      <th>0</th>\n",
       "      <td>[25971, 30303, 29285, 26995, 28271, 11552, 131...</td>\n",
       "      <td>fɔɹɾisɛvinsteɪtsisaɪnɔɹpɹvaɪdvihɪklzfɹʔimplɔɪi...</td>\n",
       "      <td>[0, 2120, 3800, 5013, 5519, 5759, 7240, 9410, ...</td>\n",
       "      <td>[2120, 3800, 5013, 5519, 5759, 7240, 9410, 108...</td>\n",
       "      <td>[2, -3, -1, -3, -6, -5, -3, -4, -4, -4, -1, -1...</td>\n",
       "    </tr>\n",
       "    <tr>\n",
       "      <th>1</th>\n",
       "      <td>[25971, 30303, 29285, 26995, 28271, 11552, 131...</td>\n",
       "      <td>umʌttʃkjɹiɑsiɾikiŋɡɛttʃjuintitɹʌbl</td>\n",
       "      <td>[0, 2150, 3210, 4120, 5120, 6400, 6890, 7853, ...</td>\n",
       "      <td>[2150, 3210, 4120, 5120, 6400, 6890, 7853, 855...</td>\n",
       "      <td>[3, -1, -3, 0, -1, -1, 0, 2, 0, 0, 0, -1, 1, -...</td>\n",
       "    </tr>\n",
       "    <tr>\n",
       "      <th>2</th>\n",
       "      <td>[25971, 30303, 29285, 26995, 28271, 11552, 131...</td>\n",
       "      <td>sunsɛdðəhæfmæn</td>\n",
       "      <td>[0, 2040, 4520, 7101, 8563, 10280, 11880, 1260...</td>\n",
       "      <td>[2040, 4520, 7101, 8563, 10280, 11880, 12600, ...</td>\n",
       "      <td>[1, -3, 1, -1, 0, -3, 0, 2, -1, 0, 1, -2, -3, ...</td>\n",
       "    </tr>\n",
       "    <tr>\n",
       "      <th>3</th>\n",
       "      <td>[25971, 30303, 29285, 26995, 28271, 11552, 131...</td>\n",
       "      <td>ðəwɪloʊwiwʊminwɔɹəmʌskɹætkoʊt</td>\n",
       "      <td>[0, 2173, 2571, 3385, 4450, 5765, 6851, 8313, ...</td>\n",
       "      <td>[2173, 2571, 3385, 4450, 5765, 6851, 8313, 910...</td>\n",
       "      <td>[0, 3, 2, 1, 1, 2, 4, 6, 1, 3, 4, 3, 4, 5, 5, ...</td>\n",
       "    </tr>\n",
       "    <tr>\n",
       "      <th>4</th>\n",
       "      <td>[25971, 30303, 29285, 26995, 28271, 11552, 131...</td>\n",
       "      <td>oʊɾæskmiɾikɛɹiiniʔɔɪliɹæɡlaɪkðæt</td>\n",
       "      <td>[0, 2475, 2900, 4840, 5221, 7330, 8560, 8811, ...</td>\n",
       "      <td>[2475, 2900, 4840, 5221, 7330, 8560, 8811, 924...</td>\n",
       "      <td>[-2, -4, -2, -1, 0, 0, 1, 3, 1, 0, 3, 3, 2, -1...</td>\n",
       "    </tr>\n",
       "  </tbody>\n",
       "</table>\n",
       "</div>"
      ],
      "text/plain": [
       "                                               audio  \\\n",
       "0  [25971, 30303, 29285, 26995, 28271, 11552, 131...   \n",
       "1  [25971, 30303, 29285, 26995, 28271, 11552, 131...   \n",
       "2  [25971, 30303, 29285, 26995, 28271, 11552, 131...   \n",
       "3  [25971, 30303, 29285, 26995, 28271, 11552, 131...   \n",
       "4  [25971, 30303, 29285, 26995, 28271, 11552, 131...   \n",
       "\n",
       "                                                 ipa  \\\n",
       "0  fɔɹɾisɛvinsteɪtsisaɪnɔɹpɹvaɪdvihɪklzfɹʔimplɔɪi...   \n",
       "1                 umʌttʃkjɹiɑsiɾikiŋɡɛttʃjuintitɹʌbl   \n",
       "2                                     sunsɛdðəhæfmæn   \n",
       "3                      ðəwɪloʊwiwʊminwɔɹəmʌskɹætkoʊt   \n",
       "4                   oʊɾæskmiɾikɛɹiiniʔɔɪliɹæɡlaɪkðæt   \n",
       "\n",
       "                                      phoneme_starts  \\\n",
       "0  [0, 2120, 3800, 5013, 5519, 5759, 7240, 9410, ...   \n",
       "1  [0, 2150, 3210, 4120, 5120, 6400, 6890, 7853, ...   \n",
       "2  [0, 2040, 4520, 7101, 8563, 10280, 11880, 1260...   \n",
       "3  [0, 2173, 2571, 3385, 4450, 5765, 6851, 8313, ...   \n",
       "4  [0, 2475, 2900, 4840, 5221, 7330, 8560, 8811, ...   \n",
       "\n",
       "                                        phoneme_ends  \\\n",
       "0  [2120, 3800, 5013, 5519, 5759, 7240, 9410, 108...   \n",
       "1  [2150, 3210, 4120, 5120, 6400, 6890, 7853, 855...   \n",
       "2  [2040, 4520, 7101, 8563, 10280, 11880, 12600, ...   \n",
       "3  [2173, 2571, 3385, 4450, 5765, 6851, 8313, 910...   \n",
       "4  [2475, 2900, 4840, 5221, 7330, 8560, 8811, 924...   \n",
       "\n",
       "                                       cropped_audio  \n",
       "0  [2, -3, -1, -3, -6, -5, -3, -4, -4, -4, -1, -1...  \n",
       "1  [3, -1, -3, 0, -1, -1, 0, 2, 0, 0, 0, -1, 1, -...  \n",
       "2  [1, -3, 1, -1, 0, -3, 0, 2, -1, 0, 1, -2, -3, ...  \n",
       "3  [0, 3, 2, 1, 1, 2, 4, 6, 1, 3, 4, 3, 4, 5, 5, ...  \n",
       "4  [-2, -4, -2, -1, 0, 0, 1, 3, 1, 0, 3, 3, 2, -1...  "
      ]
     },
     "execution_count": 32,
     "metadata": {},
     "output_type": "execute_result"
    }
   ],
   "source": [
    "# Apply the process_row function to each row in the DataFrame\n",
    "train_df['cropped_audio'] = train_df.apply(crop_audio, axis=1) \n",
    "train_df.head()\n",
    "    "
   ]
  },
  {
   "cell_type": "code",
   "execution_count": 33,
   "metadata": {},
   "outputs": [
    {
     "data": {
      "text/plain": [
       "[<matplotlib.lines.Line2D at 0x7fcdb8eff1c0>]"
      ]
     },
     "execution_count": 33,
     "metadata": {},
     "output_type": "execute_result"
    },
    {
     "data": {
      "image/png": "[encoded data removed]",
      "text/plain": [
       "<Figure size 640x480 with 1 Axes>"
      ]
     },
     "metadata": {},
     "output_type": "display_data"
    }
   ],
   "source": [
    "# visualize again, much better!\n",
    "plt.plot(train_df['cropped_audio'][0])\n"
   ]
  },
  {
   "cell_type": "code",
   "execution_count": 34,
   "metadata": {},
   "outputs": [
    {
     "data": {
      "text/html": [
       "<div>\n",
       "<style scoped>\n",
       "    .dataframe tbody tr th:only-of-type {\n",
       "        vertical-align: middle;\n",
       "    }\n",
       "\n",
       "    .dataframe tbody tr th {\n",
       "        vertical-align: top;\n",
       "    }\n",
       "\n",
       "    .dataframe thead th {\n",
       "        text-align: right;\n",
       "    }\n",
       "</style>\n",
       "<table border=\"1\" class=\"dataframe\">\n",
       "  <thead>\n",
       "    <tr style=\"text-align: right;\">\n",
       "      <th></th>\n",
       "      <th>ipa</th>\n",
       "      <th>audio</th>\n",
       "    </tr>\n",
       "  </thead>\n",
       "  <tbody>\n",
       "    <tr>\n",
       "      <th>0</th>\n",
       "      <td>fɔɹɾisɛvinsteɪtsisaɪnɔɹpɹvaɪdvihɪklzfɹʔimplɔɪi...</td>\n",
       "      <td>[2, -3, -1, -3, -6, -5, -3, -4, -4, -4, -1, -1...</td>\n",
       "    </tr>\n",
       "    <tr>\n",
       "      <th>1</th>\n",
       "      <td>umʌttʃkjɹiɑsiɾikiŋɡɛttʃjuintitɹʌbl</td>\n",
       "      <td>[3, -1, -3, 0, -1, -1, 0, 2, 0, 0, 0, -1, 1, -...</td>\n",
       "    </tr>\n",
       "    <tr>\n",
       "      <th>2</th>\n",
       "      <td>sunsɛdðəhæfmæn</td>\n",
       "      <td>[1, -3, 1, -1, 0, -3, 0, 2, -1, 0, 1, -2, -3, ...</td>\n",
       "    </tr>\n",
       "    <tr>\n",
       "      <th>3</th>\n",
       "      <td>ðəwɪloʊwiwʊminwɔɹəmʌskɹætkoʊt</td>\n",
       "      <td>[0, 3, 2, 1, 1, 2, 4, 6, 1, 3, 4, 3, 4, 5, 5, ...</td>\n",
       "    </tr>\n",
       "    <tr>\n",
       "      <th>4</th>\n",
       "      <td>oʊɾæskmiɾikɛɹiiniʔɔɪliɹæɡlaɪkðæt</td>\n",
       "      <td>[-2, -4, -2, -1, 0, 0, 1, 3, 1, 0, 3, 3, 2, -1...</td>\n",
       "    </tr>\n",
       "  </tbody>\n",
       "</table>\n",
       "</div>"
      ],
      "text/plain": [
       "                                                 ipa  \\\n",
       "0  fɔɹɾisɛvinsteɪtsisaɪnɔɹpɹvaɪdvihɪklzfɹʔimplɔɪi...   \n",
       "1                 umʌttʃkjɹiɑsiɾikiŋɡɛttʃjuintitɹʌbl   \n",
       "2                                     sunsɛdðəhæfmæn   \n",
       "3                      ðəwɪloʊwiwʊminwɔɹəmʌskɹætkoʊt   \n",
       "4                   oʊɾæskmiɾikɛɹiiniʔɔɪliɹæɡlaɪkðæt   \n",
       "\n",
       "                                               audio  \n",
       "0  [2, -3, -1, -3, -6, -5, -3, -4, -4, -4, -1, -1...  \n",
       "1  [3, -1, -3, 0, -1, -1, 0, 2, 0, 0, 0, -1, 1, -...  \n",
       "2  [1, -3, 1, -1, 0, -3, 0, 2, -1, 0, 1, -2, -3, ...  \n",
       "3  [0, 3, 2, 1, 1, 2, 4, 6, 1, 3, 4, 3, 4, 5, 5, ...  \n",
       "4  [-2, -4, -2, -1, 0, 0, 1, 3, 1, 0, 3, 3, 2, -1...  "
      ]
     },
     "execution_count": 34,
     "metadata": {},
     "output_type": "execute_result"
    }
   ],
   "source": [
    "# train_df comprised of just cropped_audio and phonemes\n",
    "train_df = train_df.drop(columns=['phoneme_starts', 'phoneme_ends', 'audio'])\n",
    "# rename cropped audio to audio\n",
    "train_df = train_df.rename(columns={'cropped_audio': 'audio'})\n",
    "train_df.head()"
   ]
  },
  {
   "cell_type": "code",
   "execution_count": 35,
   "metadata": {},
   "outputs": [],
   "source": [
    "train_ds = Dataset.from_pandas(train_df)"
   ]
  },
  {
   "cell_type": "markdown",
   "metadata": {},
   "source": [
    "# Extend Phoneme Vocab"
   ]
  },
  {
   "cell_type": "code",
   "execution_count": 36,
   "metadata": {},
   "outputs": [],
   "source": [
    "timit_vocab = set(\"\".join(train_df['ipa']))"
   ]
  },
  {
   "cell_type": "code",
   "execution_count": 37,
   "metadata": {},
   "outputs": [
    {
     "name": "stdout",
     "output_type": "stream",
     "text": [
      "{'ɛ', 'm', 'w', 'k', 'j', 's', 'ɡ', 'l', 'ʌ', 'ɹ', 'ɔ', 'ɪ', 'n', 'ə', 'e', 'a', 'ʃ', 'ɾ', 'u', 'd', 'ʒ', 'ŋ', 'ð', 'z', 'f', 'b', 'v', 'æ', 'ɑ', 'i', 'o', 'p', 'ʊ', 'h', 'θ', 'ʔ', 't'}\n"
     ]
    }
   ],
   "source": [
    "print(timit_vocab)"
   ]
  },
  {
   "cell_type": "code",
   "execution_count": 38,
   "metadata": {},
   "outputs": [
    {
     "name": "stdout",
     "output_type": "stream",
     "text": [
      "{'<s>': 1, '<pad>': 0, '</s>': 2, '<unk>': 3, 'n': 4, 's': 5, 't': 6, 'ə': 7, 'l': 8, 'a': 9, 'i': 10, 'k': 11, 'd': 12, 'm': 13, 'ɛ': 14, 'ɾ': 15, 'e': 16, 'ɪ': 17, 'p': 18, 'o': 19, 'ɐ': 20, 'z': 21, 'ð': 22, 'f': 23, 'j': 24, 'v': 25, 'b': 26, 'ɹ': 27, 'ʁ': 28, 'ʊ': 29, 'iː': 30, 'r': 31, 'w': 32, 'ʌ': 33, 'u': 34, 'ɡ': 35, 'æ': 36, 'aɪ': 37, 'ʃ': 38, 'h': 39, 'ɔ': 40, 'ɑː': 41, 'ŋ': 42, 'ɚ': 43, 'eɪ': 44, 'β': 45, 'uː': 46, 'y': 47, 'ɑ̃': 48, 'oʊ': 49, 'ᵻ': 50, 'eː': 51, 'θ': 52, 'aʊ': 53, 'ts': 54, 'oː': 55, 'ɔ̃': 56, 'ɣ': 57, 'ɜ': 58, 'ɑ': 59, 'dʒ': 60, 'əl': 61, 'x': 62, 'ɜː': 63, 'ç': 64, 'ʒ': 65, 'tʃ': 66, 'ɔː': 67, 'ɑːɹ': 68, 'ɛ̃': 69, 'ʎ': 70, 'ɔːɹ': 71, 'ʋ': 72, 'aː': 73, 'ɕ': 74, 'œ': 75, 'ø': 76, 'oːɹ': 77, 'ɲ': 78, 'yː': 79, 'ʔ': 80, 'iə': 81, 'i5': 82, 's.': 83, 'tɕ': 84, '??': 85, 'nʲ': 86, 'ɛː': 87, 'œ̃': 88, 'ɭ': 89, 'ɔø': 90, 'ʑ': 91, 'tʲ': 92, 'ɨ': 93, 'ɛɹ': 94, 'ts.': 95, 'rʲ': 96, 'ɪɹ': 97, 'ɭʲ': 98, 'i.5': 99, 'ɔɪ': 100, 'q': 101, 'sʲ': 102, 'u5': 103, 'ʊɹ': 104, 'iɜ': 105, 'a5': 106, 'iɛ5': 107, 'øː': 108, 'ʕ': 109, 'ja': 110, 'əɜ': 111, 'th': 112, 'ɑ5': 113, 'oɪ': 114, 'dʲ': 115, 'ə5': 116, 'tɕh': 117, 'ts.h': 118, 'mʲ': 119, 'ɯ': 120, 'dʑ': 121, 'vʲ': 122, 'e̞': 123, 'tʃʲ': 124, 'ei5': 125, 'o5': 126, 'onɡ5': 127, 'ɑu5': 128, 'iɑ5': 129, 'ai5': 130, 'aɪɚ': 131, 'kh': 132, 'ə1': 133, 'ʐ': 134, 'i2': 135, 'ʉ': 136, 'ħ': 137, 't[': 138, 'aɪə': 139, 'ʲ': 140, 'ju': 141, 'ə2': 142, 'u2': 143, 'oɜ': 144, 'pː': 145, 'iɛɜ': 146, 'ou5': 147, 'y5': 148, 'uɜ': 149, 'tː': 150, 'uo5': 151, 'd[': 152, 'uoɜ': 153, 'tsh': 154, 'ɑɜ': 155, 'ɵ': 156, 'i̪5': 157, 'uei5': 158, 'ɟ': 159, 'aɜ': 160, 'ɑɨ': 161, 'i.ɜ': 162, 'eʊ': 163, 'o2': 164, 'ɐ̃': 165, 'ä': 166, 'pʲ': 167, 'kʲ': 168, 'n̩': 169, 'ɒ': 170, 'ph': 171, 'ɑu2': 172, 'uɨ': 173, 'əɪ': 174, 'ɫ': 175, 'ɬ': 176, 'yɜ': 177, 'bʲ': 178, 'ɑ2': 179, 's̪': 180, 'aiɜ': 181, 'χ': 182, 'ɐ̃ʊ̃': 183, '1': 184, 'ə4': 185, 'yæɜ': 186, 'a2': 187, 'ɨː': 188, 't̪': 189, 'iouɜ': 190, 'ũ': 191, 'onɡɜ': 192, 'aɨ': 193, 'iɛ2': 194, 'ɔɨ': 195, 'ɑuɜ': 196, 'o̞': 197, 'ei2': 198, 'iou2': 199, 'c': 200, 'kː': 201, 'y2': 202, 'ɖ': 203, 'oe': 204, 'dˤ': 205, 'yɛɜ': 206, 'əʊ': 207, 'S': 208, 'ɡʲ': 209, 'onɡ2': 210, 'u\"': 211, 'eiɜ': 212, 'ʈ': 213, 'ɯᵝ': 214, 'iou5': 215, 'dZ': 216, 'r̝̊': 217, 'i.2': 218, 'tS': 219, 's^': 220, 'ʝ': 221, 'yə5': 222, 'iɑɜ': 223, 'uə5': 224, 'pf': 225, 'ɨu': 226, 'iɑ2': 227, 'ou2': 228, 'ər2': 229, 'fʲ': 230, 'ai2': 231, 'r̝': 232, 'uəɜ': 233, 'ɳ': 234, 'əɨ': 235, 'ua5': 236, 'uɪ': 237, 'ɽ': 238, 'bː': 239, 'yu5': 240, 'uo2': 241, 'yɛ5': 242, 'l̩': 243, 'ɻ': 244, 'ərɜ': 245, 'ʂ': 246, 'i̪2': 247, 'ouɜ': 248, 'uaɜ': 249, 'a.': 250, 'a.ː': 251, 'yæ5': 252, 'dː': 253, 'r̩': 254, 'ee': 255, 'ɪu': 256, 'ər5': 257, 'i̪ɜ': 258, 'æi': 259, 'u:': 260, 'i.ː': 261, 't^': 262, 'o1': 263, 'ɪ^': 264, 'ai': 265, 'ueiɜ': 266, 'æː': 267, 'ɛɪ': 268, 'eə': 269, 'i.': 270, 'ɴ': 271, 'ie': 272, 'ua2': 273, 'ɑ1': 274, 'o4': 275, 'tʃː': 276, 'o:': 277, 'ɑ:': 278, 'u1': 279, 'N': 280, 'i̪1': 281, 'au': 282, 'yæ2': 283, 'u.': 284, 'qː': 285, 'yəɜ': 286, 'y:': 287, 'kʰ': 288, 'tʃʰ': 289, 'iʊ': 290, 'sx': 291, 'õ': 292, 'uo': 293, 'tʰ': 294, 'uai5': 295, 'bʰ': 296, 'u.ː': 297, 'uə2': 298, 'ʊə': 299, 'd^': 300, 's̪ː': 301, 'yiɜ': 302, 'dʰ': 303, 'r.': 304, 'oe:': 305, 'i1': 306, 'ɟː': 307, 'yu2': 308, 'nʲʲ': 309, 'i̪4': 310, 'uei2': 311, 'tsʲ': 312, 'ɸ': 313, 'ĩ': 314, 'ɑ4': 315, 't̪ː': 316, 'eɑ': 317, 'u4': 318, 'e:': 319, 'tsː': 320, 'ʈʰ': 321, 'ɡʰ': 322, 'ɯɯ': 323, 'dʒʲ': 324, 'ʂʲ': 325, 'X': 326, 'ɵː': 327, 'uaiɜ': 328, 'tɕʲ': 329, 'ã': 330, 't^ː': 331, 'ẽː': 332, 'yɛ2': 333, 'cː': 334, 'i.1': 335, 'ɛʊ': 336, 'dˤdˤ': 337, 'dʒː': 338, 'i4': 339, 'ɡː': 340, 'yi': 341, 'ɕʲ': 342, 'ɟʰ': 343, 'pʰ': 344, 'dʑʲ': 345, 'yuɜ': 346, 'ua1': 347, 'ua4': 348, 'æiː': 349, 'ɐɐ': 350, 'ui': 351, 'iou1': 352, 'ʊː': 353, 'a1': 354, 'iou4': 355, 'cʰ': 356, 'iɛ1': 357, 'yə2': 358, 'ɖʰ': 359, 'ẽ': 360, 'ʒʲ': 361, 'ää': 362, 'ər4': 363, 'iːː': 364, 'ɪː': 365, 'iɑ1': 366, 'ər1': 367, 'œː': 368, 'øi': 369, 'ɪuː': 370, 'cʰcʰ': 371, 'əː1': 372, 'iː1': 373, 'ũ': 374, 'kʰː': 375, 'o̞o̞': 376, 'xʲ': 377, 'ou1': 378, 'iɛ4': 379, 'e̞e̞': 380, 'y1': 381, 'dzː': 382, 'dʲʲ': 383, 'dʰː': 384, 'ɯᵝɯᵝ': 385, 'lː': 386, 'uo1': 387, 'i.4': 388, 'i:': 389, 'yɛ5ʲ': 390, 'a4': 391}\n"
     ]
    }
   ],
   "source": [
    "tokenizer = AutoTokenizer.from_pretrained(PRE_TRAINED_ID)\n",
    "vocab = tokenizer.get_vocab()\n",
    "print(vocab)"
   ]
  },
  {
   "cell_type": "code",
   "execution_count": 39,
   "metadata": {},
   "outputs": [
    {
     "name": "stdout",
     "output_type": "stream",
     "text": [
      "set()\n"
     ]
    }
   ],
   "source": [
    "additional_vocab = timit_vocab.difference(set(vocab.keys()) | {' '})\n",
    "tokenizer.add_tokens(list(additional_vocab))\n",
    "print(additional_vocab)\n"
   ]
  },
  {
   "cell_type": "markdown",
   "metadata": {},
   "source": [
    "# Update Feature Extraction"
   ]
  },
  {
   "cell_type": "code",
   "execution_count": 40,
   "metadata": {},
   "outputs": [],
   "source": [
    "feature_extractor = AutoFeatureExtractor.from_pretrained(PRE_TRAINED_ID)"
   ]
  },
  {
   "cell_type": "markdown",
   "metadata": {},
   "source": [
    "We don't need to update the feature extractor since it has been pretrained on 16kHz audio which matches the TIMIT dataset.\n",
    "\n",
    "For datasets with different sampling rates, the feature extractor should be updated or the audio resampled (easier).\n",
    "\n",
    "This is also where code to add extra features (such as conditioning on speaker's native language etc.) would be added."
   ]
  },
  {
   "cell_type": "markdown",
   "metadata": {},
   "source": [
    "### NEW FINE-TUNE CODE\n"
   ]
  },
  {
   "cell_type": "code",
   "execution_count": 43,
   "metadata": {},
   "outputs": [
    {
     "data": {
      "text/html": [
       "Finishing last run (ID:t6tzzb7y) before initializing another..."
      ],
      "text/plain": [
       "<IPython.core.display.HTML object>"
      ]
     },
     "metadata": {},
     "output_type": "display_data"
    },
    {
     "data": {
      "text/html": [
       "\n",
       "    <style>\n",
       "        .wandb-row {\n",
       "            display: flex;\n",
       "            flex-direction: row;\n",
       "            flex-wrap: wrap;\n",
       "            justify-content: flex-start;\n",
       "            width: 100%;\n",
       "        }\n",
       "        .wandb-col {\n",
       "            display: flex;\n",
       "            flex-direction: column;\n",
       "            flex-basis: 100%;\n",
       "            flex: 1;\n",
       "            padding: 10px;\n",
       "        }\n",
       "    </style>\n",
       "<div class=\"wandb-row\"><div class=\"wandb-col\"><h3>Run history:</h3><br/><table class=\"wandb\"><tr><td>eval/loss</td><td>█▅▅▄▂▁</td></tr><tr><td>eval/runtime</td><td>▃▄█▆▁▅</td></tr><tr><td>eval/samples_per_second</td><td>▆▅▁▃█▄</td></tr><tr><td>eval/steps_per_second</td><td>▆▅▁▃█▄</td></tr><tr><td>train/epoch</td><td>▁▁▁▁▂▂▂▂▂▃▃▃▃▃▃▃▄▄▄▄▅▅▅▅▅▆▆▆▆▆▇▇▇▇▇▇████</td></tr><tr><td>train/global_step</td><td>▁▁▁▁▂▂▂▂▂▂▃▃▃▃▃▄▄▄▄▅▅▅▅▅▅▆▆▆▆▆▆▇▇▇▇▇████</td></tr><tr><td>train/grad_norm</td><td>▂▃▁▃▁▃▂▁▄▃█▁▅▃▁▄▂▄▂▄▃▃▁▂▂▁▇▂▂▃▃▁▂▂▂▂▃▄▄▂</td></tr><tr><td>train/learning_rate</td><td>█████▇▇▇▇▆▆▆▆▆▆▅▅▅▅▅▄▄▄▄▄▃▃▃▃▃▂▂▂▂▂▂▁▁▁▁</td></tr><tr><td>train/loss</td><td>▄▅▅█▇▂▅▄▆▄▆▂▅▇▄▅▃▁▂▄▅▄▂▄▁▆▃▁▄▃▂▃▅▃▅▃▄▂▂▅</td></tr></table><br/></div><div class=\"wandb-col\"><h3>Run summary:</h3><br/><table class=\"wandb\"><tr><td>eval/loss</td><td>80.48348</td></tr><tr><td>eval/runtime</td><td>108.1858</td></tr><tr><td>eval/samples_per_second</td><td>8.541</td></tr><tr><td>eval/steps_per_second</td><td>1.072</td></tr><tr><td>train/epoch</td><td>2.70563</td></tr><tr><td>train/global_step</td><td>2500</td></tr><tr><td>train/grad_norm</td><td>263.74786</td></tr><tr><td>train/learning_rate</td><td>1e-05</td></tr><tr><td>train/loss</td><td>69.3879</td></tr></table><br/></div></div>"
      ],
      "text/plain": [
       "<IPython.core.display.HTML object>"
      ]
     },
     "metadata": {},
     "output_type": "display_data"
    },
    {
     "data": {
      "text/html": [
       " View run <strong style=\"color:#cdcd00\">quiet-elevator-59</strong> at: <a href='https://wandb.ai/aruna-team/xlsr-phoneme-prediction/runs/t6tzzb7y' target=\"_blank\">https://wandb.ai/aruna-team/xlsr-phoneme-prediction/runs/t6tzzb7y</a><br/> View project at: <a href='https://wandb.ai/aruna-team/xlsr-phoneme-prediction' target=\"_blank\">https://wandb.ai/aruna-team/xlsr-phoneme-prediction</a><br/>Synced 5 W&B file(s), 0 media file(s), 0 artifact file(s) and 0 other file(s)"
      ],
      "text/plain": [
       "<IPython.core.display.HTML object>"
      ]
     },
     "metadata": {},
     "output_type": "display_data"
    },
    {
     "data": {
      "text/html": [
       "Find logs at: <code>./wandb/run-20241129_004536-t6tzzb7y/logs</code>"
      ],
      "text/plain": [
       "<IPython.core.display.HTML object>"
      ]
     },
     "metadata": {},
     "output_type": "display_data"
    },
    {
     "data": {
      "text/html": [
       "Successfully finished last run (ID:t6tzzb7y). Initializing new run:<br/>"
      ],
      "text/plain": [
       "<IPython.core.display.HTML object>"
      ]
     },
     "metadata": {},
     "output_type": "display_data"
    },
    {
     "data": {
      "text/html": [
       "Tracking run with wandb version 0.18.6"
      ],
      "text/plain": [
       "<IPython.core.display.HTML object>"
      ]
     },
     "metadata": {},
     "output_type": "display_data"
    },
    {
     "data": {
      "text/html": [
       "Run data is saved locally in <code>/home/arunasrivastava/ML/notebooks/wandb/run-20241129_010821-7yczw4og</code>"
      ],
      "text/plain": [
       "<IPython.core.display.HTML object>"
      ]
     },
     "metadata": {},
     "output_type": "display_data"
    },
    {
     "data": {
      "text/html": [
       "Syncing run <strong><a href='https://wandb.ai/aruna-team/xlsr-phoneme-prediction/runs/7yczw4og' target=\"_blank\">sweet-moon-60</a></strong> to <a href='https://wandb.ai/aruna-team/xlsr-phoneme-prediction' target=\"_blank\">Weights & Biases</a> (<a href='https://wandb.me/developer-guide' target=\"_blank\">docs</a>)<br/>"
      ],
      "text/plain": [
       "<IPython.core.display.HTML object>"
      ]
     },
     "metadata": {},
     "output_type": "display_data"
    },
    {
     "data": {
      "text/html": [
       " View project at <a href='https://wandb.ai/aruna-team/xlsr-phoneme-prediction' target=\"_blank\">https://wandb.ai/aruna-team/xlsr-phoneme-prediction</a>"
      ],
      "text/plain": [
       "<IPython.core.display.HTML object>"
      ]
     },
     "metadata": {},
     "output_type": "display_data"
    },
    {
     "data": {
      "text/html": [
       " View run at <a href='https://wandb.ai/aruna-team/xlsr-phoneme-prediction/runs/7yczw4og' target=\"_blank\">https://wandb.ai/aruna-team/xlsr-phoneme-prediction/runs/7yczw4og</a>"
      ],
      "text/plain": [
       "<IPython.core.display.HTML object>"
      ]
     },
     "metadata": {},
     "output_type": "display_data"
    },
    {
     "name": "stderr",
     "output_type": "stream",
     "text": [
      "INFO:__main__:Loading pretrained model and processor...\n",
      "INFO:__main__:Initial vocabulary size: 392\n",
      "INFO:__main__:Reduced vocabulary size: 41\n",
      "INFO:__main__:Old weights shape: torch.Size([392, 1024])\n",
      "INFO:__main__:New layer weight shape: torch.Size([41, 1024])\n",
      "INFO:__main__:Special token <unk> verified with id 0\n",
      "INFO:__main__:Special token <pad> verified with id 1\n",
      "INFO:__main__:Special token </s> verified with id 2\n",
      "INFO:__main__:Special token <s> verified with id 3\n",
      "INFO:__main__:Splitting dataset into train and evaluation...\n",
      "Map:   0%|          | 0/3696 [00:00<?, ? examples/s]/home/arunasrivastava/ML/venv/lib/python3.8/site-packages/transformers/models/wav2vec2/processing_wav2vec2.py:174: UserWarning: `as_target_processor` is deprecated and will be removed in v5 of Transformers. You can process your labels by using the argument `text` of the regular `__call__` method (either in the same call as your audio inputs, or in a separate call.\n",
      "  warnings.warn(\n",
      "Map: 100%|██████████| 3696/3696 [01:24<00:00, 43.58 examples/s]\n",
      "Map: 100%|██████████| 924/924 [00:21<00:00, 43.94 examples/s]\n",
      "INFO:__main__:Sample input_values shape: (160000,)\n",
      "INFO:__main__:Sample labels shape: (31,)\n",
      "INFO:__main__:Starting training...\n",
      "/home/arunasrivastava/ML/venv/lib/python3.8/site-packages/transformers/trainer.py:3347: FutureWarning: You are using `torch.load` with `weights_only=False` (the current default value), which uses the default pickle module implicitly. It is possible to construct malicious pickle data which will execute arbitrary code during unpickling (See https://github.com/pytorch/pytorch/blob/main/SECURITY.md#untrusted-models for more details). In a future release, the default value for `weights_only` will be flipped to `True`. This limits the functions that could be executed during unpickling. Arbitrary objects will no longer be allowed to be loaded via this mode unless they are explicitly allowlisted by the user via `torch.serialization.add_safe_globals`. We recommend you start setting `weights_only=True` for any use case where you don't have full control of the loaded file. Please open an issue on GitHub for any issues related to this experimental feature.\n",
      "  torch.load(os.path.join(checkpoint, OPTIMIZER_NAME), map_location=map_location)\n",
      "/home/arunasrivastava/ML/venv/lib/python3.8/site-packages/transformers/models/wav2vec2/processing_wav2vec2.py:174: UserWarning: `as_target_processor` is deprecated and will be removed in v5 of Transformers. You can process your labels by using the argument `text` of the regular `__call__` method (either in the same call as your audio inputs, or in a separate call.\n",
      "  warnings.warn(\n",
      "/home/arunasrivastava/ML/venv/lib/python3.8/site-packages/transformers/trainer.py:3026: FutureWarning: You are using `torch.load` with `weights_only=False` (the current default value), which uses the default pickle module implicitly. It is possible to construct malicious pickle data which will execute arbitrary code during unpickling (See https://github.com/pytorch/pytorch/blob/main/SECURITY.md#untrusted-models for more details). In a future release, the default value for `weights_only` will be flipped to `True`. This limits the functions that could be executed during unpickling. Arbitrary objects will no longer be allowed to be loaded via this mode unless they are explicitly allowlisted by the user via `torch.serialization.add_safe_globals`. We recommend you start setting `weights_only=True` for any use case where you don't have full control of the loaded file. Please open an issue on GitHub for any issues related to this experimental feature.\n",
      "  checkpoint_rng_state = torch.load(rng_file)\n"
     ]
    },
    {
     "data": {
      "text/html": [
       "\n",
       "    <div>\n",
       "      \n",
       "      <progress value='2654' max='2772' style='width:300px; height:20px; vertical-align: middle;'></progress>\n",
       "      [2654/2772 07:24 < 03:28, 0.57 it/s, Epoch 2.87/3]\n",
       "    </div>\n",
       "    <table border=\"1\" class=\"dataframe\">\n",
       "  <thead>\n",
       " <tr style=\"text-align: left;\">\n",
       "      <th>Step</th>\n",
       "      <th>Training Loss</th>\n",
       "      <th>Validation Loss</th>\n",
       "    </tr>\n",
       "  </thead>\n",
       "  <tbody>\n",
       "    <tr>\n",
       "      <td>2500</td>\n",
       "      <td>69.390000</td>\n",
       "      <td>80.480408</td>\n",
       "    </tr>\n",
       "    <tr>\n",
       "      <td>2600</td>\n",
       "      <td>56.666000</td>\n",
       "      <td>80.239471</td>\n",
       "    </tr>\n",
       "  </tbody>\n",
       "</table><p>"
      ],
      "text/plain": [
       "<IPython.core.display.HTML object>"
      ]
     },
     "metadata": {},
     "output_type": "display_data"
    },
    {
     "name": "stderr",
     "output_type": "stream",
     "text": [
      "/home/arunasrivastava/ML/venv/lib/python3.8/site-packages/transformers/models/wav2vec2/processing_wav2vec2.py:174: UserWarning: `as_target_processor` is deprecated and will be removed in v5 of Transformers. You can process your labels by using the argument `text` of the regular `__call__` method (either in the same call as your audio inputs, or in a separate call.\n",
      "  warnings.warn(\n",
      "/home/arunasrivastava/ML/venv/lib/python3.8/site-packages/transformers/models/wav2vec2/processing_wav2vec2.py:174: UserWarning: `as_target_processor` is deprecated and will be removed in v5 of Transformers. You can process your labels by using the argument `text` of the regular `__call__` method (either in the same call as your audio inputs, or in a separate call.\n",
      "  warnings.warn(\n"
     ]
    }
   ],
   "source": [
    "import torch\n",
    "from transformers import AutoProcessor, AutoModelForCTC, Trainer, TrainingArguments\n",
    "from datasets import Dataset\n",
    "import numpy as np\n",
    "from dataclasses import dataclass\n",
    "from typing import Dict, List, Optional, Union\n",
    "import logging\n",
    "from torch.utils.data import DataLoader\n",
    "import wandb\n",
    "import os\n",
    "from sklearn.model_selection import train_test_split\n",
    "import torchaudio\n",
    "import numpy as np\n",
    "\n",
    "# Set up logging\n",
    "logging.basicConfig(level=logging.INFO)\n",
    "logger = logging.getLogger(__name__)\n",
    "\n",
    "# Constants\n",
    "SAMPLING_RATE = 16000\n",
    "MAX_AUDIO_LENGTH = 160000  # 10 seconds at 16kHz\n",
    "MAX_LABEL_LENGTH = 100\n",
    "\n",
    "@dataclass\n",
    "class DataCollatorCTCWithPadding:\n",
    "    \"\"\"\n",
    "    Data collator that will dynamically pad the inputs received.\n",
    "    \"\"\"\n",
    "    processor: AutoProcessor\n",
    "    padding: Union[bool, str] = \"longest\"\n",
    "\n",
    "    def __call__(self, features: List[Dict[str, Union[List[int], torch.Tensor]]]) -> Dict[str, torch.Tensor]:\n",
    "        # Get max length of all input_values in batch\n",
    "        max_length = max(len(feature[\"input_values\"]) for feature in features)\n",
    "        \n",
    "        # Pad input_values\n",
    "        padded_inputs = []\n",
    "        attention_mask = []\n",
    "        for feature in features:\n",
    "            input_length = len(feature[\"input_values\"])\n",
    "            padding_length = max_length - input_length\n",
    "            \n",
    "            # Convert to tensor and ensure correct shape\n",
    "            if isinstance(feature[\"input_values\"], list):\n",
    "                input_values = torch.tensor(feature[\"input_values\"])\n",
    "            else:\n",
    "                input_values = feature[\"input_values\"]\n",
    "            \n",
    "            # Remove any extra dimensions and ensure it's 1D\n",
    "            input_values = input_values.squeeze()\n",
    "            \n",
    "            # Pad with zeros\n",
    "            if padding_length > 0:\n",
    "                padded_input = torch.nn.functional.pad(input_values, (0, padding_length))\n",
    "                attention_mask.append(torch.cat([torch.ones(input_length), torch.zeros(padding_length)]))\n",
    "            else:\n",
    "                padded_input = input_values\n",
    "                attention_mask.append(torch.ones(input_length))\n",
    "            \n",
    "            padded_inputs.append(padded_input)\n",
    "\n",
    "        # Stack all padded inputs ensuring correct dimensions [batch_size, sequence_length]\n",
    "        batch = {\n",
    "            \"input_values\": torch.stack(padded_inputs),\n",
    "            \"attention_mask\": torch.stack(attention_mask)\n",
    "        }\n",
    "\n",
    "        # Process labels\n",
    "        with self.processor.as_target_processor():\n",
    "            label_features = [{\"input_ids\": feature[\"labels\"]} for feature in features]\n",
    "            labels_batch = self.processor.pad(\n",
    "                label_features,\n",
    "                padding=self.padding,\n",
    "                return_tensors=\"pt\",\n",
    "            )\n",
    "\n",
    "        # Replace padding with -100 to ignore loss correctly\n",
    "        labels = labels_batch[\"input_ids\"].masked_fill(labels_batch.attention_mask.ne(1), -100)\n",
    "        batch[\"labels\"] = labels\n",
    "\n",
    "        return batch\n",
    "def prepare_model_and_processor(timit_vocab):\n",
    "    \"\"\"\n",
    "    Prepare the model and processor with reduced vocabulary.\n",
    "    \"\"\"\n",
    "    logger.info(\"Loading pretrained model and processor...\")\n",
    "    \n",
    "    # Load processor and model\n",
    "    processor = AutoProcessor.from_pretrained(PRE_TRAINED_ID)\n",
    "    model = AutoModelForCTC.from_pretrained(PRE_TRAINED_ID)\n",
    "    \n",
    "    # Store the old vocabulary before we modify anything\n",
    "    old_vocab = processor.tokenizer.get_vocab()\n",
    "    \n",
    "    # Verify initial setup\n",
    "    initial_vocab_size = len(old_vocab)\n",
    "    logger.info(f\"Initial vocabulary size: {initial_vocab_size}\")\n",
    "    \n",
    "    # Create reduced vocabulary with special tokens preserved\n",
    "    special_tokens = processor.tokenizer.special_tokens_map\n",
    "    special_token_values = set(special_tokens.values())\n",
    "    \n",
    "    # Ensure we keep special tokens\n",
    "    timit_vocab_with_special = timit_vocab | special_token_values\n",
    "    \n",
    "    # Create new vocab with special tokens first, then regular tokens\n",
    "    special_token_dict = {token: idx for idx, token in enumerate(special_token_values)}\n",
    "    next_idx = len(special_token_dict)\n",
    "    \n",
    "    regular_token_dict = {token: idx + next_idx \n",
    "                         for idx, token in enumerate(timit_vocab - special_token_values)}\n",
    "    \n",
    "    reduced_vocab = {**special_token_dict, **regular_token_dict}\n",
    "    \n",
    "    # Create new tokenizer config\n",
    "    tokenizer_config = {\n",
    "        \"vocab\": reduced_vocab,\n",
    "        \"pad_token\": processor.tokenizer.pad_token,\n",
    "        \"word_delimiter_token\": processor.tokenizer.word_delimiter_token,\n",
    "        \"bos_token\": processor.tokenizer.bos_token,\n",
    "        \"eos_token\": processor.tokenizer.eos_token,\n",
    "        \"unk_token\": processor.tokenizer.unk_token,\n",
    "        \"word_delimiter_token\": processor.tokenizer.word_delimiter_token,\n",
    "    }\n",
    "    \n",
    "    # Create new tokenizer with reduced vocabulary\n",
    "    from transformers import Wav2Vec2CTCTokenizer\n",
    "    import json\n",
    "    import tempfile\n",
    "    \n",
    "    # Save vocab to temporary file\n",
    "    with tempfile.NamedTemporaryFile(mode='w', delete=False) as f:\n",
    "        json.dump(reduced_vocab, f)\n",
    "        vocab_path = f.name\n",
    "    \n",
    "    # Create new tokenizer\n",
    "    new_tokenizer = Wav2Vec2CTCTokenizer(\n",
    "        vocab_path,\n",
    "        **{k: v for k, v in tokenizer_config.items() if k != \"vocab\"}\n",
    "    )\n",
    "    \n",
    "    # Update processor with new tokenizer\n",
    "    processor.tokenizer = new_tokenizer\n",
    "    \n",
    "    # Clean up temporary file\n",
    "    os.remove(vocab_path)\n",
    "    \n",
    "    # Verify vocabulary size\n",
    "    assert len(processor.tokenizer.get_vocab()) == len(reduced_vocab), \"Vocabulary size mismatch\"\n",
    "    logger.info(f\"Reduced vocabulary size: {len(reduced_vocab)}\")\n",
    "    \n",
    "    # Get the weights from the original model\n",
    "    old_weights = model.lm_head.weight.data\n",
    "    old_bias = model.lm_head.bias.data\n",
    "    \n",
    "    # Create new layer with correct dimensions\n",
    "    new_layer = torch.nn.Linear(model.lm_head.in_features, len(processor.tokenizer))\n",
    "    \n",
    "    # Verify dimensions before transfer\n",
    "    logger.info(f\"Old weights shape: {old_weights.shape}\")\n",
    "    logger.info(f\"New layer weight shape: {new_layer.weight.shape}\")\n",
    "    \n",
    "    # Initialize new weights to zero\n",
    "    new_layer.weight.data.zero_()\n",
    "    new_layer.bias.data.zero_()\n",
    "    \n",
    "    # Get new vocabulary\n",
    "    new_vocab = processor.tokenizer.get_vocab()\n",
    "    \n",
    "    # Transfer weights and bias for tokens that exist in both vocabularies\n",
    "    for token, new_idx in new_vocab.items():\n",
    "        if token in old_vocab:\n",
    "            old_idx = old_vocab[token]\n",
    "            new_layer.weight.data[new_idx, :] = old_weights[old_idx, :]\n",
    "            new_layer.bias.data[new_idx] = old_bias[old_idx]\n",
    "    \n",
    "    model.lm_head = new_layer\n",
    "    model.config.vocab_size = len(processor.tokenizer)\n",
    "    \n",
    "    # Verify the setup with special handling for special tokens\n",
    "    special_tokens_set = set(special_tokens.values())\n",
    "    sample_regular_tokens = list(reduced_vocab.keys() - special_tokens_set)[:5]\n",
    "    \n",
    "    # First verify regular tokens\n",
    "    for token in sample_regular_tokens:\n",
    "        encoded = processor.tokenizer(token)\n",
    "        decoded = processor.tokenizer.decode(encoded.input_ids)\n",
    "        assert token in decoded, f\"Token verification failed for {token}\"\n",
    "    \n",
    "    # Then verify special tokens separately\n",
    "    for token in special_tokens_set:\n",
    "        # Get the ID for this special token\n",
    "        token_id = processor.tokenizer.convert_tokens_to_ids(token)\n",
    "        # Verify the ID exists and is within range\n",
    "        assert 0 <= token_id < len(processor.tokenizer), f\"Invalid ID for special token {token}\"\n",
    "        # Verify we can encode and decode without error\n",
    "        encoded = processor.tokenizer(token, return_tensors='pt')\n",
    "        _ = processor.tokenizer.decode(encoded.input_ids[0].tolist())\n",
    "        logger.info(f\"Special token {token} verified with id {token_id}\")\n",
    "    \n",
    "    return model, processor\n",
    "\n",
    "\n",
    "def preprocess_audio(audio_input):\n",
    "    \"\"\"\n",
    "    Load and preprocess audio to match expected format.\n",
    "    \n",
    "    Args:\n",
    "        audio_input: Can be a file path (str), numpy array, list, or tensor\n",
    "        \n",
    "    Returns:\n",
    "        np.ndarray: Processed audio as float32 numpy array\n",
    "    \"\"\"\n",
    "    # Handle different input types\n",
    "    if isinstance(audio_input, str):  # File path\n",
    "        waveform, sample_rate = torchaudio.load(audio_input)\n",
    "        audio_numpy = waveform.squeeze().numpy()\n",
    "        \n",
    "    elif isinstance(audio_input, list):  # List input\n",
    "        audio_numpy = np.array(audio_input, dtype=np.float32)\n",
    "        \n",
    "    elif isinstance(audio_input, np.ndarray):  # Already numpy array\n",
    "        audio_numpy = audio_input\n",
    "        \n",
    "    elif isinstance(audio_input, torch.Tensor):  # Torch tensor\n",
    "        audio_numpy = audio_input.numpy()\n",
    "        \n",
    "    else:\n",
    "        raise ValueError(f\"Unsupported audio type: {type(audio_input)}\")\n",
    "    \n",
    "    # Ensure float32 dtype\n",
    "    audio_numpy = audio_numpy.astype(np.float32)\n",
    "    \n",
    "    # Ensure 1D array\n",
    "    if len(audio_numpy.shape) > 1:\n",
    "        audio_numpy = np.mean(audio_numpy, axis=0)\n",
    "    \n",
    "    # Normalize audio\n",
    "    if np.abs(audio_numpy).max() > 1:\n",
    "        audio_numpy = audio_numpy / np.abs(audio_numpy).max()\n",
    "    \n",
    "    # Trim or pad to max length\n",
    "    if len(audio_numpy) > MAX_AUDIO_LENGTH:\n",
    "        audio_numpy = audio_numpy[:MAX_AUDIO_LENGTH]\n",
    "    elif len(audio_numpy) < MAX_AUDIO_LENGTH:\n",
    "        padding = np.zeros(MAX_AUDIO_LENGTH - len(audio_numpy), dtype=np.float32)\n",
    "        audio_numpy = np.concatenate([audio_numpy, padding])\n",
    "    \n",
    "    return audio_numpy\n",
    "\n",
    "def prepare_datasets(train_df, processor):\n",
    "    \"\"\"\n",
    "    Split and prepare datasets for training and evaluation.\n",
    "    \"\"\"\n",
    "    logger.info(\"Splitting dataset into train and evaluation...\")\n",
    "    \n",
    "    train_data, eval_data = train_test_split(train_df, test_size=0.2, random_state=42)\n",
    "    \n",
    "    def process_data(batch):\n",
    "        # Preprocess audio\n",
    "        audio = preprocess_audio(batch[\"audio\"])\n",
    "        \n",
    "        # Ensure audio is 1D\n",
    "        audio = audio.squeeze()\n",
    "        \n",
    "        # Process audio with the processor\n",
    "        inputs = processor(\n",
    "            audio, \n",
    "            sampling_rate=SAMPLING_RATE, \n",
    "            return_tensors=None,  # Important: don't return tensors here\n",
    "            padding=False  # Don't pad here, let the collator handle it\n",
    "        )\n",
    "        \n",
    "        # Ensure input_values is 1D\n",
    "        input_values = np.squeeze(inputs[\"input_values\"])\n",
    "        \n",
    "        # Tokenize IPA\n",
    "        with processor.as_target_processor():\n",
    "            labels = processor(batch[\"ipa\"]).input_ids\n",
    "        \n",
    "        return {\n",
    "            \"input_values\": input_values,\n",
    "            \"labels\": labels\n",
    "        }\n",
    "    \n",
    "    # Convert DataFrames to Datasets\n",
    "    train_dataset = Dataset.from_pandas(train_data)\n",
    "    eval_dataset = Dataset.from_pandas(eval_data)\n",
    "    \n",
    "    # Apply processing\n",
    "    train_dataset = train_dataset.map(process_data, remove_columns=train_dataset.column_names)\n",
    "    eval_dataset = eval_dataset.map(process_data, remove_columns=eval_dataset.column_names)\n",
    "    \n",
    "    # Debug: Check shapes\n",
    "    sample_item = train_dataset[0]\n",
    "    logger.info(f\"Sample input_values shape: {np.array(sample_item['input_values']).shape}\")\n",
    "    logger.info(f\"Sample labels shape: {np.array(sample_item['labels']).shape}\")\n",
    "    \n",
    "    return train_dataset, eval_dataset\n",
    "\n",
    "def verify_dimensions(batch, logger):\n",
    "    \"\"\"\n",
    "    Debug helper to verify tensor dimensions\n",
    "    \"\"\"\n",
    "    logger.info(\"Batch dimensions:\")\n",
    "    for key, value in batch.items():\n",
    "        if isinstance(value, torch.Tensor):\n",
    "            logger.info(f\"{key}: {value.shape}\")\n",
    "\n",
    "def train_model(model, train_dataset, eval_dataset, processor, output_dir=\"./results\"):\n",
    "    \"\"\"\n",
    "    Train the model using CTC loss.\n",
    "    \"\"\"\n",
    "    logger.info(\"Starting training...\")\n",
    "    \n",
    "    training_args = TrainingArguments(\n",
    "        output_dir=output_dir,\n",
    "        per_device_train_batch_size=1,\n",
    "        gradient_accumulation_steps=4,\n",
    "        learning_rate=1e-4,\n",
    "        num_train_epochs=3,\n",
    "        logging_dir='./logs',\n",
    "        logging_steps=10,\n",
    "        # Increase save_steps to reduce disk usage\n",
    "        save_steps=500,  # Changed from 100\n",
    "        eval_steps=100,\n",
    "        eval_strategy=\"steps\",\n",
    "        load_best_model_at_end=True,\n",
    "        # Add save_safetensors=True for more reliable saving\n",
    "        save_safetensors=True,\n",
    "    )\n",
    "    data_collator = DataCollatorCTCWithPadding(processor=processor)\n",
    "    \n",
    "    trainer = Trainer(\n",
    "        model=model,\n",
    "        args=training_args,\n",
    "        train_dataset=train_dataset,\n",
    "        eval_dataset=eval_dataset,  # Include the eval dataset here\n",
    "        data_collator=data_collator,\n",
    "    )\n",
    "    \n",
    "    # Train the model\n",
    "    trainer.train(resume_from_checkpoint=\"./results/checkpoint-2400\")\n",
    "\n",
    "    # Save the final model and processor\n",
    "    model.save_pretrained(output_dir)\n",
    "    processor.save_pretrained(output_dir)\n",
    "    \n",
    "    return model, processor\n",
    "\n",
    "def main(train_df, timit_vocab):\n",
    "    \"\"\"\n",
    "    Main training pipeline.\n",
    "    \"\"\"\n",
    "    # Initialize wandb for tracking\n",
    "    wandb.init(project=\"xlsr-phoneme-prediction\")\n",
    "    \n",
    "    # Prepare model and processor\n",
    "    model, processor = prepare_model_and_processor(timit_vocab)\n",
    "    \n",
    "    # Prepare train and eval datasets\n",
    "    train_dataset, eval_dataset = prepare_datasets(train_df, processor)\n",
    "    \n",
    "    # Train model\n",
    "    model, processor = train_model(model, train_dataset, eval_dataset, processor)\n",
    "    \n",
    "    # Final verification\n",
    "    logger.info(\"Running inference on sample...\")\n",
    "    sample_audio = train_dataset[0][\"audio\"]\n",
    "    inputs = processor(sample_audio, return_tensors=\"pt\", padding=True)\n",
    "    with torch.no_grad():\n",
    "        logits = model(**inputs).logits\n",
    "    predicted_ids = torch.argmax(logits, dim=-1)\n",
    "    predicted_tokens = processor.batch_decode(predicted_ids)\n",
    "    logger.info(f\"Sample prediction: {predicted_tokens}\")\n",
    "    \n",
    "    wandb.finish()\n",
    "\n",
    "if __name__ == \"__main__\":\n",
    "    main(train_df, timit_vocab)"
   ]
  },
  {
   "cell_type": "markdown",
   "metadata": {},
   "source": [
    "# Preprocess Data"
   ]
  },
  {
   "cell_type": "code",
   "execution_count": 158,
   "metadata": {},
   "outputs": [
    {
     "name": "stdout",
     "output_type": "stream",
     "text": [
      "{'<s>': 1, '<pad>': 0, '</s>': 2, '<unk>': 3, 'n': 4, 's': 5, 't': 6, 'ə': 7, 'l': 8, 'a': 9, 'i': 10, 'k': 11, 'd': 12, 'm': 13, 'ɛ': 14, 'ɾ': 15, 'e': 16, 'ɪ': 17, 'p': 18, 'o': 19, 'ɐ': 20, 'z': 21, 'ð': 22, 'f': 23, 'j': 24, 'v': 25, 'b': 26, 'ɹ': 27, 'ʁ': 28, 'ʊ': 29, 'iː': 30, 'r': 31, 'w': 32, 'ʌ': 33, 'u': 34, 'ɡ': 35, 'æ': 36, 'aɪ': 37, 'ʃ': 38, 'h': 39, 'ɔ': 40, 'ɑː': 41, 'ŋ': 42, 'ɚ': 43, 'eɪ': 44, 'β': 45, 'uː': 46, 'y': 47, 'ɑ̃': 48, 'oʊ': 49, 'ᵻ': 50, 'eː': 51, 'θ': 52, 'aʊ': 53, 'ts': 54, 'oː': 55, 'ɔ̃': 56, 'ɣ': 57, 'ɜ': 58, 'ɑ': 59, 'dʒ': 60, 'əl': 61, 'x': 62, 'ɜː': 63, 'ç': 64, 'ʒ': 65, 'tʃ': 66, 'ɔː': 67, 'ɑːɹ': 68, 'ɛ̃': 69, 'ʎ': 70, 'ɔːɹ': 71, 'ʋ': 72, 'aː': 73, 'ɕ': 74, 'œ': 75, 'ø': 76, 'oːɹ': 77, 'ɲ': 78, 'yː': 79, 'ʔ': 80, 'iə': 81, 'i5': 82, 's.': 83, 'tɕ': 84, '??': 85, 'nʲ': 86, 'ɛː': 87, 'œ̃': 88, 'ɭ': 89, 'ɔø': 90, 'ʑ': 91, 'tʲ': 92, 'ɨ': 93, 'ɛɹ': 94, 'ts.': 95, 'rʲ': 96, 'ɪɹ': 97, 'ɭʲ': 98, 'i.5': 99, 'ɔɪ': 100, 'q': 101, 'sʲ': 102, 'u5': 103, 'ʊɹ': 104, 'iɜ': 105, 'a5': 106, 'iɛ5': 107, 'øː': 108, 'ʕ': 109, 'ja': 110, 'əɜ': 111, 'th': 112, 'ɑ5': 113, 'oɪ': 114, 'dʲ': 115, 'ə5': 116, 'tɕh': 117, 'ts.h': 118, 'mʲ': 119, 'ɯ': 120, 'dʑ': 121, 'vʲ': 122, 'e̞': 123, 'tʃʲ': 124, 'ei5': 125, 'o5': 126, 'onɡ5': 127, 'ɑu5': 128, 'iɑ5': 129, 'ai5': 130, 'aɪɚ': 131, 'kh': 132, 'ə1': 133, 'ʐ': 134, 'i2': 135, 'ʉ': 136, 'ħ': 137, 't[': 138, 'aɪə': 139, 'ʲ': 140, 'ju': 141, 'ə2': 142, 'u2': 143, 'oɜ': 144, 'pː': 145, 'iɛɜ': 146, 'ou5': 147, 'y5': 148, 'uɜ': 149, 'tː': 150, 'uo5': 151, 'd[': 152, 'uoɜ': 153, 'tsh': 154, 'ɑɜ': 155, 'ɵ': 156, 'i̪5': 157, 'uei5': 158, 'ɟ': 159, 'aɜ': 160, 'ɑɨ': 161, 'i.ɜ': 162, 'eʊ': 163, 'o2': 164, 'ɐ̃': 165, 'ä': 166, 'pʲ': 167, 'kʲ': 168, 'n̩': 169, 'ɒ': 170, 'ph': 171, 'ɑu2': 172, 'uɨ': 173, 'əɪ': 174, 'ɫ': 175, 'ɬ': 176, 'yɜ': 177, 'bʲ': 178, 'ɑ2': 179, 's̪': 180, 'aiɜ': 181, 'χ': 182, 'ɐ̃ʊ̃': 183, '1': 184, 'ə4': 185, 'yæɜ': 186, 'a2': 187, 'ɨː': 188, 't̪': 189, 'iouɜ': 190, 'ũ': 191, 'onɡɜ': 192, 'aɨ': 193, 'iɛ2': 194, 'ɔɨ': 195, 'ɑuɜ': 196, 'o̞': 197, 'ei2': 198, 'iou2': 199, 'c': 200, 'kː': 201, 'y2': 202, 'ɖ': 203, 'oe': 204, 'dˤ': 205, 'yɛɜ': 206, 'əʊ': 207, 'S': 208, 'ɡʲ': 209, 'onɡ2': 210, 'u\"': 211, 'eiɜ': 212, 'ʈ': 213, 'ɯᵝ': 214, 'iou5': 215, 'dZ': 216, 'r̝̊': 217, 'i.2': 218, 'tS': 219, 's^': 220, 'ʝ': 221, 'yə5': 222, 'iɑɜ': 223, 'uə5': 224, 'pf': 225, 'ɨu': 226, 'iɑ2': 227, 'ou2': 228, 'ər2': 229, 'fʲ': 230, 'ai2': 231, 'r̝': 232, 'uəɜ': 233, 'ɳ': 234, 'əɨ': 235, 'ua5': 236, 'uɪ': 237, 'ɽ': 238, 'bː': 239, 'yu5': 240, 'uo2': 241, 'yɛ5': 242, 'l̩': 243, 'ɻ': 244, 'ərɜ': 245, 'ʂ': 246, 'i̪2': 247, 'ouɜ': 248, 'uaɜ': 249, 'a.': 250, 'a.ː': 251, 'yæ5': 252, 'dː': 253, 'r̩': 254, 'ee': 255, 'ɪu': 256, 'ər5': 257, 'i̪ɜ': 258, 'æi': 259, 'u:': 260, 'i.ː': 261, 't^': 262, 'o1': 263, 'ɪ^': 264, 'ai': 265, 'ueiɜ': 266, 'æː': 267, 'ɛɪ': 268, 'eə': 269, 'i.': 270, 'ɴ': 271, 'ie': 272, 'ua2': 273, 'ɑ1': 274, 'o4': 275, 'tʃː': 276, 'o:': 277, 'ɑ:': 278, 'u1': 279, 'N': 280, 'i̪1': 281, 'au': 282, 'yæ2': 283, 'u.': 284, 'qː': 285, 'yəɜ': 286, 'y:': 287, 'kʰ': 288, 'tʃʰ': 289, 'iʊ': 290, 'sx': 291, 'õ': 292, 'uo': 293, 'tʰ': 294, 'uai5': 295, 'bʰ': 296, 'u.ː': 297, 'uə2': 298, 'ʊə': 299, 'd^': 300, 's̪ː': 301, 'yiɜ': 302, 'dʰ': 303, 'r.': 304, 'oe:': 305, 'i1': 306, 'ɟː': 307, 'yu2': 308, 'nʲʲ': 309, 'i̪4': 310, 'uei2': 311, 'tsʲ': 312, 'ɸ': 313, 'ĩ': 314, 'ɑ4': 315, 't̪ː': 316, 'eɑ': 317, 'u4': 318, 'e:': 319, 'tsː': 320, 'ʈʰ': 321, 'ɡʰ': 322, 'ɯɯ': 323, 'dʒʲ': 324, 'ʂʲ': 325, 'X': 326, 'ɵː': 327, 'uaiɜ': 328, 'tɕʲ': 329, 'ã': 330, 't^ː': 331, 'ẽː': 332, 'yɛ2': 333, 'cː': 334, 'i.1': 335, 'ɛʊ': 336, 'dˤdˤ': 337, 'dʒː': 338, 'i4': 339, 'ɡː': 340, 'yi': 341, 'ɕʲ': 342, 'ɟʰ': 343, 'pʰ': 344, 'dʑʲ': 345, 'yuɜ': 346, 'ua1': 347, 'ua4': 348, 'æiː': 349, 'ɐɐ': 350, 'ui': 351, 'iou1': 352, 'ʊː': 353, 'a1': 354, 'iou4': 355, 'cʰ': 356, 'iɛ1': 357, 'yə2': 358, 'ɖʰ': 359, 'ẽ': 360, 'ʒʲ': 361, 'ää': 362, 'ər4': 363, 'iːː': 364, 'ɪː': 365, 'iɑ1': 366, 'ər1': 367, 'œː': 368, 'øi': 369, 'ɪuː': 370, 'cʰcʰ': 371, 'əː1': 372, 'iː1': 373, 'ũ': 374, 'kʰː': 375, 'o̞o̞': 376, 'xʲ': 377, 'ou1': 378, 'iɛ4': 379, 'e̞e̞': 380, 'y1': 381, 'dzː': 382, 'dʲʲ': 383, 'dʰː': 384, 'ɯᵝɯᵝ': 385, 'lː': 386, 'uo1': 387, 'i.4': 388, 'i:': 389, 'yɛ5ʲ': 390, 'a4': 391}\n"
     ]
    }
   ],
   "source": [
    "vocab = processor.tokenizer.get_vocab()\n",
    "print(vocab)"
   ]
  },
  {
   "cell_type": "code",
   "execution_count": 167,
   "metadata": {},
   "outputs": [],
   "source": [
    "def prepare_dataset(batch):\n",
    "    batch[\"input_values\"] = processor(batch[\"audio\"], sampling_rate=feature_extractor.sampling_rate).input_values\n",
    "    with processor.as_target_processor():\n",
    "        batch[\"labels\"] = processor(batch[\"ipa\"]).input_ids\n",
    "    print(\"Tokenized IPA:\", batch['labels'])\n",
    "    # convert the batch['labels'] back to IPA\n",
    "    decoded_ipa = [processor.tokenizer.decode(label, skip_special_tokens=True) for label in batch['labels']]\n",
    "    print(\"Decoded IPA (skipping special tokens):\", decoded_ipa)\n",
    "    print(\"Length of tokenized IPA:\", len(batch['labels']))\n",
    "    return batch"
   ]
  },
  {
   "cell_type": "code",
   "execution_count": 168,
   "metadata": {},
   "outputs": [
    {
     "name": "stdout",
     "output_type": "stream",
     "text": [
      "Tokenized IPA: [14, 4, 5, 17, 13, 26, 61, 52, 27, 30, 6, 46, 4, 37, 4, 14, 23, 20, 30, 26, 30, 60, 44, 37, 26, 68, 14, 8, 30, 5, 13, 67, 8, 11, 36, 18, 37, 14, 38, 37, 26, 68, 14, 4, 44, 66, 39, 29, 11, 49, 18, 7, 4, 87, 21, 30, 11, 44, 6, 63, 4, 12, 25, 30, 14, 13, 6, 30, 38, 32, 41, 12, 30, 37, 26, 68, 6, 30, 27, 17, 25, 63, 5, 12, 49, 18, 7, 4, 87, 39, 29, 11, 14, 13, 37, 26, 68, 14, 4, 14, 5, 6, 30, 6, 63, 4, 12, 68, 6, 63, 4, 12, 25, 30, 11, 44, 6, 30, 14, 38, 38, 32, 41, 39, 29, 11]\n",
      "Decoded IPA (skipping special tokens): ['ɛ', 'n', 's', 'ɪ', 'm', 'b', 'ə l', 'θ', 'ɹ', 'i ː', 't', 'u ː', 'n', 'a ɪ', 'n', 'ɛ', 'f', 'ɐ', 'i ː', 'b', 'i ː', 'd ʒ', 'e ɪ', 'a ɪ', 'b', 'ɑ ː ɹ', 'ɛ', 'l', 'i ː', 's', 'm', 'ɔ ː', 'l', 'k', 'æ', 'p', 'a ɪ', 'ɛ', 'ʃ', 'a ɪ', 'b', 'ɑ ː ɹ', 'ɛ', 'n', 'e ɪ', 't ʃ', 'h', 'ʊ', 'k', 'o ʊ', 'p', 'ə', 'n', 'ɛ ː', 'z', 'i ː', 'k', 'e ɪ', 't', 'ɜ ː', 'n', 'd', 'v', 'i ː', 'ɛ', 'm', 't', 'i ː', 'ʃ', 'w', 'ɑ ː', 'd', 'i ː', 'a ɪ', 'b', 'ɑ ː ɹ', 't', 'i ː', 'ɹ', 'ɪ', 'v', 'ɜ ː', 's', 'd', 'o ʊ', 'p', 'ə', 'n', 'ɛ ː', 'h', 'ʊ', 'k', 'ɛ', 'm', 'a ɪ', 'b', 'ɑ ː ɹ', 'ɛ', 'n', 'ɛ', 's', 't', 'i ː', 't', 'ɜ ː', 'n', 'd', 'ɑ ː ɹ', 't', 'ɜ ː', 'n', 'd', 'v', 'i ː', 'k', 'e ɪ', 't', 'i ː', 'ɛ', 'ʃ', 'ʃ', 'w', 'ɑ ː', 'h', 'ʊ', 'k']\n",
      "Length of tokenized IPA: 126\n",
      "{'ipa': 'n̩fæbjɨleɪʃɨnɦɛzkʌmtədɨtɝmɨnstɹʌktʃɚ', 'audio': [2, 2, 1, 0, -1, 0, 0, 2, 0, 0, -1, 2, 2, 0, 3, 2, 2, -1, 1, 2, 1, -2, 0, 0, 1, 2, -1, 1, 0, 2, 0, 1, 3, 0, 0, 1, 2, 0, 4, 0, 0, -2, 2, 0, 1, 0, 3, 2, 4, 3, 4, 2, 0, 0, 3, 2, 1, 2, 3, 3, 5, 0, -2, 1, -1, -1, -1, 1, 3, 1, 4, 1, -1, 0, 3, 0, -2, 1, 0, 4, 1, 2, 2, 0, 3, -2, -2, 0, 0, 0, -1, 2, 1, 0, 2, 0, 2, -1, -2, 1, 2, 1, 1, 2, 0, 1, 3, 2, 3, 1, 2, 0, 2, 0, 3, -1, 2, 1, 0, 0, 0, 1, 0, 1, -1, 2, 3, 2, 2, -1, -1, 0, 0, -1, 1, 2, -1, 3, 0, 0, 2, -1, 2, -1, -2, 2, 1, 2, -2, 2, 1, -2, 2, 1, 0, 0, -2, 1, 0, 1, -1, 2, 0, 1, 2, 0, 1, 3, 3, 1, 0, 4, 3, 2, -1, 0, 4, 2, -1, 2, 3, -1, 1, 1, 2, 2, 1, 3, 1, 4, -1, 2, 2, 3, 1, 3, 2, 3, 2, 1, 1, -2, 0, 0, -1, 2, -1, 0, 1, 2, 1, 2, 1, -1, -2, 4, 1, -2, -2, 1, 0, 0, -1, 4, 3, 4, 1, 0, 0, -1, 3, -1, 0, 1, -1, 0, 0, 0, 2, 3, 0, 2, 1, 2, 2, -2, 0, 2, 1, 2, 2, 4, 0, 1, 1, -2, 1, 0, 3, 2, 1, 0, 0, 1, 1, 0, 3, 3, 2, 1, 1, 0, -1, -1, 2, 2, 3, -1, -1, 3, -2, 2, -1, 2, 1, 2, 1, 3, 1, -1, 2, 2, -1, 0, 3, 2, 2, 2, -1, 2, 1, 0, -2, -1, 0, 2, 2, 3, -1, -1, 2, 1, 3, 1, 5, 4, 1, 3, 2, 2, 4, 2, 1, 2, 2, 5, -1, 0, 2, 3, 0, 1, 2, -1, -1, -1, 0, 2, 3, 1, 1, 1, 2, 2, -1, 3, 0, -1, -2, 1, 1, 1, 1, 2, 1, 3, 3, -1, -2, -1, -1, -1, -4, -4, 0, 0, 1, 3, 5, 2, 1, 2, -1, 1, -1, 1, -1, 2, 1, 3, 2, 2, 0, 4, 1, 0, 2, 0, 0, 1, 2, 1, 2, 1, 0, -1, -1, -1, 0, 2, 0, 1, 1, 2, 0, -1, 3, 3, 3, 2, 0, 3, 2, 2, -2, 1, 2, -1, -2, 0, 2, -1, 2, 0, 3, -3, 1, -2, 0, -6, 4, -2, 4, -7, 8, -16, 1, -80, -40, 47, 14, 15, 65, 30, -32, -20, 4, -21, 14, 43, 19, 9, 14, -12, -26, -7, 3, 4, 24, 15, -5, -7, -13, -17, -5, 11, 11, 10, 13, 0, -11, -5, -1, 2, 9, 15, 5, 8, 12, -3, -12, -2, -2, -4, 6, 11, 0, -1, -2, -6, -4, 2, 3, 1, 12, 6, -15, -1, -7, -9, 1, 13, 4, 10, 17, 4, -9, 4, -8, -6, 5, 13, 55, 56, -40, -6, -42, -52, -32, 37, 22, 30, 28, 3, -47, -14, -23, 1, 14, 40, 9, 1, -9, -19, -15, 12, 13, 23, 22, 30, -22, -27, -15, -12, -1, 31, 27, 8, -4, -3, -15, -12, 13, 15, 14, 17, 8, -12, -8, -6, -4, 2, 13, 9, 7, 4, 1, 1, 5, 15, 5, 19, 8, 37, 53, 576, 970, 284, 141, 26, -552, -592, -147, -41, 4, 137, 47, -308, -370, -281, -194, -77, 175, 263, 47, 0, -49, -117, -72, 195, 190, 186, 157, 14, -171, -134, -82, 23, 78, 94, 28, -43, -116, -166, -124, -47, 2, 49, 0, -39, -71, -34, 59, 91, 115, 124, 115, 5, 12, 5, -11, 19, 72, -6, -36, -45, -68, -32, -4, 43, 40, 29, -54, -74, -121, -126, -54, -39, -50, -6, -5, -51, -56, -12, 20, 40, 28, -17, -35, -74, -17, 77, 95, 62, 73, -44, -39, -44, -5, 41, -2, 9, -20, -99, -39, -40, -41, 66, 36, 38, 10, -7, -16, 140, 495, 530, 316, 195, -103, -274, -84, 78, 90, 178, 24, -218, -337, -331, -214, -75, 16, 102, 8, -79, -91, -35, -15, 173, 226, 128, 126, 38, -40, 14, 67, 80, 88, 52, -97, -65, -80, -129, -82, -71, -121, -131, -129, -155, -124, -68, -46, -55, -5, 23, 103, 87, 44, 83, 59, -29, -49, 83, 19, -34, -34, -25, 137, 778, 383, 23, 333, -240, -410, -106, 26, -71, 36, 101, -73, -267, -272, -50, -108, 31, 272, 74, -111, 4, -94, -127, 203, 238, 83, 143, 69, -105, -63, 20, -14, 13, 29, -58, -70, -43, -75, -99, -38, -12, -11, 14, -30, -59, -67, -58, 45, 51, 39, 60, 71, 44, 14, 60, 111, 66, 62, 20, -59, -66, -81, -93, -92, -13, -26, -82, -64, -103, -89, -41, 38, 40, 1, -43, -83, -100, 4, 176, 221, 169, -14, -59, -14, 86, 75, 175, -18, -55, -140, -227, -31, 97, 88, 67, -83, -233, -128, -96, 88, 73, -99, 96, -125, -225, -51, 19, 35, 5, -101, 39, 65, -106, -30, -13, -247, -252, -180, -310, -294, -302, -330, -270, -267, -284, -382, -341, -330, -232, -98, -28, -40, -68, 42, 22, 63, 106, 156, 28, -16, 72, -55, -31, 141, 158, 57, 52, -108, -186, 15, 33, 40, 145, 114, -6, -43, -107, -83, 69, 38, -16, -89, -157, -225, -277, -121, -58, 54, 18, 26, 24, 23, 31, 42, 148, 276, 344, 684, 1009, 383, 144, 357, -20, 53, 401, 268, 50, -104, -110, -99, -1, 305, 396, 102, 138, 211, 23, 219, 242, 64, 125, 98, -169, -109, -84, -64, 90, 87, -99, -200, -188, -166, -17, 125, 179, -30, -137, -134, -163, -13, 126, 64, -93, -46, -34, -128, -100, 83, 111, 5, -55, -220, -162, 7, 15, -80, -134, -265, -270, -115, -3, 171, 237, 141, 134, 26, -65, 180, 287, 283, 167, 85, 46, -38, -72, -29, -6, -53, -6, -142, -233, -268, -202, -175, -183, -211, -206, -178, -171, -77, 22, 87, 18, -18, -78, -21, 25, 56, 80, 33, 129, 86, 39, 40, 75, 141, 236, 254, 78, -25, 10, 113, 88, 127, 114, 82, 57, 78, -21, -88, 33, 68, 55, -46, -93, -96, -38, -86, -85, -139, -47, -30, -156, -165, -123, -114, -39, -23, -34, 106, -10, -167, -185, -148, -40, -22, -186, -31, 18, -195, -272, -176, -53, 28, 34, -144, -173, -134, -143, -129, -14, -11, 13, 33, 18, -67, 10, -49, -228, -108, -13, -46, -112, -128, -149, -87, -37, 62, 65, -91, -65, 148, 103, 6, -16, -22, -58, -120, -7, 4, -109, -43, 159, 135, 81, 88, 82, -88, -129, -58, 2, -98, -151, 7, 38, 57, 36, -8, -120, 71, 221, 238, 178, -7, -18, -36, 95, 144, 87, -31, -207, -206, -110, -32, -26, 65, -44, -92, -41, -35, 149, 177, -9, -78, -115, -249, -130, -34, -138, -37, 46, -60, -21, 189, 195, -31, -113, -124, -187, -104, 65, -2, -61, 110, 50, 137, 206, 187, 186, 124, 98, 8, -58, -110, 30, -88, -30, 52, 52, 84, 112, 172, 157, 198, 173, 145, 8, -2, 187, 256, 288, 371, 301, 106, 147, 194, 47, 74, 149, -16, -184, -154, 11, 171, 147, 9, 24, 117, 87, 69, 195, 197, 94, -74, -217, -257, -121, 121, 212, 41, -148, -65, 72, -113, -282, -204, -79, -164, -351, -449, -295, -6, 239, 220, -1, -91, -54, 203, 271, 71, -31, 49, 57, 20, -48, 109, 4, 199, 252, 309, 220, 203, 248, 147, 208, 192, 139, 27, 113, 245, 234, 163, 51, 67, 285, 318, 268, 172, 43, -15, -1, 7, -30, 20, 67, 16, -85, -73, 76, 159, 124, 64, -11, -75, -58, 15, 3, -80, -147, -140, -141, -174, -200, -200, -159, -95, -139, -263, -307, -206, -132, -128, -106, -115, -209, -250, -188, -173, -242, -256, -155, -61, -72, -210, -286, -215, -72, 56, 91, 75, 76, 221, 235, 75, 12, 306, 583, 507, 275, 196, 231, 278, 424, 427, 210, 28, 122, 226, 190, 43, 79, 161, 111, -45, 16, 107, 127, 161, 147, 7, -78, 7, 26, -5, -11, 17, 19, 18, -82, -200, -138, -16, -36, -155, -203, -231, -214, -192, -197, -235, -179, -129, -152, -253, -264, -167, -111, -157, -261, -316, -320, -271, -220, -235, -323, -340, -261, -227, -298, -344, -241, -75, -38, -80, -131, -144, -35, 204, 400, 373, 271, 320, 466, 522, 472, 454, 456, 441, 414, 332, 195, 93, 142, 207, 192, 85, 28, 13, 4, -28, -11, 10, 18, -26, -80, -107, -74, -17, -35, -55, -102, -84, -78, -76, -100, -106, -64, -69, -59, -71, -44, -36, -41, -37, -32, -31, -25, -30, -14, -43, -71, -80, -28, -33, -55, -55, -51, -63, -51, -68, -78, -93, -61, -80, -77, -82, -89, -78, -70, -60, -46, -20, 1, 8, 28, 57, 99, 124, 146, 161, 177, 183, 196, 198, 207, 196, 209, 207, 206, 194, 192, 192, 185, 173, 160, 143, 124, 115, 106, 93, 60, 47, 14, -6, -34, -46, -77, -103, -122, -135, -154, -160, -159, -162, -169, -168, -173, -176, -174, -162, -155, -153, -149, -151, -145, -139, -120, -123, -122, -114, -107, -101, -96, -87, -98, -96, -95, -97, -95, -94, -85, -89, -90, -77, -62, -52, -29, 0, 16, 29, 66, 99, 124, 167, 211, 235, 250, 285, 303, 305, 328, 342, 339, 314, 311, 282, 264, 235, 217, 185, 137, 109, 67, 35, -14, -37, -72, -109, -155, -180, -213, -240, -253, -258, -270, -278, -269, -252, -247, -230, -209, -190, -177, -159, -145, -143, -129, -118, -115, -123, -111, -110, -103, -97, -101, -107, -114, -107, -109, -109, -114, -123, -128, -124, -107, -93, -66, -41, -13, 30, 78, 127, 180, 227, 275, 305, 328, 356, 381, 394, 387, 396, 356, 331, 309, 298, 255, 221, 184, 135, 94, 67, 48, -6, -45, -73, -109, -150, -179, -185, -202, -220, -212, -204, -201, -189, -153, -140, -140, -120, -98, -94, -92, -69, -62, -69, -61, -44, -46, -52, -39, -39, -49, -56, -52, -63, -85, -92, -102, -121, -148, -156, -174, -192, -206, -208, -220, -230, -223, -203, -178, -146, -96, -53, -9, 47, 101, 139, 180, 232, 268, 296, 314, 344, 345, 354, 368, 373, 342, 324, 304, 266, 236, 212, 180, 138, 108, 78, 45, 3, -28, -57, -86, -115, -137, -154, -182, -176, -163, -155, -158, -132, -119, -116, -100, -78, -76, -74, -50, -46, -46, -35, -19, -21, -23, -16, -22, -35, -44, -46, -61, -76, -84, -95, -121, -138, -142, -150, -167, -174, -180, -193, -202, -195, -193, -198, -188, -166, -138, -115, -79, -46, -10, 37, 94, 142, 173, 208, 256, 290, 311, 339, 354, 350, 356, 362, 338, 301, 295, 277, 246, 214, 190, 144, 108, 83, 65, 20, -24, -46, -77, -115, -138, -145, -163, -176, -165, -158, -159, -144, -115, -113, -114, -97, -77, -69, -57, -42, -40, -49, -38, -32, -34, -46, -36, -46, -67, -75, -79, -96, -110, -113, -127, -150, -165, -167, -180, -194, -199, -200, -209, -212, -206, -187, -177, -137, -93, -63, -43, 16, 78, 123, 159, 204, 239, 264, 315, 344, 351, 334, 366, 363, 357, 332, 324, 282, 248, 237, 208, 160, 122, 115, 74, 36, -1, -25, -74, -98, -112, -137, -173, -181, -179, -177, -179, -157, -143, -139, -127, -103, -93, -90, -61, -44, -46, -51, -26, -26, -23, -19, -8, -19, -32, -33, -42, -63, -69, -66, -79, -105, -118, -134, -148, -155, -153, -163, -185, -194, -201, -203, -203, -181, -159, -134, -102, -81, -43, -15, 56, 95, 133, 155, 196, 228, 257, 299, 312, 317, 316, 335, 326, 313, 303, 286, 261, 235, 218, 177, 151, 128, 109, 59, 31, -2, -30, -67, -86, -107, -142, -159, -156, -159, -168, -160, -149, -154, -146, -120, -102, -101, -80, -71, -68, -62, -37, -29, -30, -25, -23, -25, -38, -29, -40, -55, -68, -65, -85, -100, -108, -117, -131, -134, -133, -144, -159, -165, -164, -177, -177, -166, -153, -133, -102, -59, -41, -17, 23, 75, 87, 137, 179, 205, 226, 258, 284, 268, 286, 297, 300, 284, 299, 267, 242, 226, 216, 189, 168, 159, 133, 91, 68, 41, 3, -26, -39, -64, -87, -121, -121, -136, -142, -149, -132, -140, -138, -126, -116, -117, -114, -87, -85, -81, -71, -60, -61, -60, -45, -48, -54, -54, -60, -78, -85, -86, -87, -96, -101, -102, -114, -118, -116, -115, -116, -117, -113, -120, -131, -129, -118, -111, -98, -64, -32, -16, 2, 46, 71, 90, 124, 162, 180, 206, 242, 236, 237, 241, 255, 242, 255, 257, 243, 211, 224, 204, 174, 164, 155, 125, 99, 80, 50, 11, -21, -36, -64, -94, -106, -117, -137, -150, -145, -149, -156, -149, -135, -135, -127, -112, -103, -102, -89, -70, -67, -56, -49, -37, -43, -37, -37, -33, -46, -42, -49, -54, -62, -61, -56, -66, -60, -60, -56, -73, -62, -61, -77, -77, -66, -89, -94, -96, -111, -90, -83, -57, -20, -16, 5, 46, 65, 71, 94, 111, 117, 147, 160, 176, 171, 190, 190, 191, 189, 200, 194, 191, 201, 188, 174, 158, 155, 128, 107, 81, 69, 37, 14, -7, -36, -55, -74, -87, -107, -118, -129, -128, -132, -130, -133, -136, -135, -121, -118, -110, -101, -88, -82, -76, -66, -60, -51, -53, -40, -43, -41, -37, -35, -39, -45, -36, -37, -36, -35, -31, -29, -18, -28, -26, -10, -20, -35, -13, -32, -46, -35, -54, -63, -40, -49, -46, -25, -21, -9, 11, 35, 46, 49, 67, 82, 86, 103, 118, 124, 125, 135, 139, 147, 148, 150, 157, 153, 150, 152, 147, 135, 138, 112, 99, 78, 68, 37, 19, -9, -35, -59, -74, -90, -104, -114, -114, -117, -115, -118, -113, -105, -98, -98, -96, -84, -89, -86, -79, -80, -74, -63, -61, -53, -46, -38, -33, -21, -17, -11, 1, -2, 3, -5, -5, 6, 14, 9, 16, 22, 11, 22, 24, 5, 10, 14, -2, -2, -9, -23, -43, -43, -40, -52, -49, -34, -33, -35, -13, -4, -1, 15, 32, 41, 32, 50, 56, 69, 70, 79, 81, 87, 96, 110, 121, 114, 126, 125, 115, 103, 109, 90, 78, 67, 60, 35, 20, 16, 2, -15, -23, -27, -44, -44, -48, -56, -65, -69, -73, -90, -92, -89, -87, -90, -91, -80, -81, -83, -66, -53, -65, -51, -30, -34, -42, -26, -11, -31, -17, 4, -6, -19, 3, 15, 3, -1, 29, 14, 8, 32, 32, 35, 26, 38, 28, 30, 21, 23, 24, 11, -12, -5, -3, -11, -18, 8, -7, -29, -20, -18, -23, -20, -5, -2, -7, -9, 9, 14, 9, 26, 36, 25, 34, 53, 64, 64, 70, 72, 64, 59, 63, 65, 61, 58, 56, 51, 45, 47, 35, 29, 16, 11, 11, 12, -3, -14, -21, -38, -36, -33, -37, -39, -49, -67, -61, -61, -69, -62, -56, -65, -81, -61, -42, -58, -42, -22, -54, -39, -33, -18, -17, 7, 1, 5, 11, 22, 79, 155, 170, 145, 89, 13, -39, -43, -57, -109, -100, -56, -52, -32, 42, 18, 12, 74, 147, 146, 121, 100, 36, -43, -65, -126, -155, -132, -118, -95, -56, -20, -9, -7, -51, -42, -11, -3, 3, 14, 25, -4, 31, 44, -3, 36, 73, 63, 30, 30, 33, 30, 34, 19, -5, -9, 12, 24, 13, 0, 28, 49, 3, 27, 49, 28, 18, 3, 56, 0, -33, -12, 9, -24, -38, -23, -43, -42, -19, -48, -32, -55, -30, -15, -48, -28, -41, -52, -18, -14, -62, -13, -4, 5, -12, 11, -18, -43, 52, 25, 9, 30, 17, -1, 34, 42, -6, 31, -30, 72, 14, 5, 73, -12, -13, 0, 22, 7, 45, 36, 41, -30, -71, 82, 0, -7, 12, 44, -47, -30, -67, 15, -27, 32, 28, -5, -1, -43, 23, -84, 56, -24, -23, 20, 28, -2, -42, -50, 22, 37, 104, -55, -52, 49, 8, -45, 91, -23, 72, 28, 2, 17, 38, 42, 71, -76, 133, -30, -37, -12, 53, -51, 29, 135, 69, -114, 30, 59, -65, -30, -81, 105, -77, -31, -27, 42, -49, 54, -124, 44, 15, -100, 81, -4, -114, -124, 60, -50, -123, 22, 165, 55, -29, 21, 99, 174, -185, 6, 109, 36, -9, -16, 95, -121, -124, 44, -198, 86, -45, -50, -22, 7, 3, 0, -7, -39, 89, -23, -20, 31, -10, 66, 8, 39, -110, 0, 12, 44, -22, 60, 28, -1, -34, 0, 111, -51, 32, -35, 23, 14, -186, -58, -68, -75, -20, 12, 4, 58, 46, -2, 148, -19, -41, 169, 14, -64, 190, -19, 1, 13, -94, 41, 43, 53, 99, -31, 138, -215, 40, 0, 43, -66, 116, -32, -28, 44, -181, -30, 81, 80, -26, -56, 52, -25, 1, -14, -20, 30, -8, 24, -149, -53, -147, 47, 181, -80, 9, 100, -153, -35, 119, -96, 95, -7, -23, 135, -116, 9, -45, 173, -73, -57, 90, -9, -123, 112, -51, -109, 99, 74, 98, 103, 85, 17, -113, 87, -176, 137, -9, 34, 57, -174, 127, -100, -77, 1, 4, 79, -92, 157, -113, 33, 39, 16, -176, 63, -142, 37, 70, 35, -60, -6, 112, -44, 119, -127, -109, 149, -147, -54, 42, -51, 161, -49, -71, -10, 122, -192, 156, 146, -94, -98, 30, -1, 69, -103, -77, 121, 4, -28, -229, 6, 50, 67, -165, 66, 167, -7, 151, -63, 23, -241, 41, 84, -60, -38, -33, 75, 126, -124, 27, 58, -47, 51, -4, -3, -29, 90, -5, -30, 35, 46, -98, -150, 164, -64, -89, 80, -190, -24, 131, -44, 15, 31, 215, -133, -80, 69, -6, 178, -55, -200, -62, 50, -92, 126, -97, 15, -255, 175, 156, 23, -6, 134, -24, -103, -112, 161, -113, -19, 28, -45, 23, -34, 60, -22, -97, -80, 63, 48, 26, -101, -7, -42, -37, -61, 95, 235, 30, -99, 18, -165, 54, 23, 5, 187, -102, -29, 137, -12, -134, 155, -72, -36, -7, 72, 70, -123, -67, -12, -132, 85, -166, 181, 161, -32, -50, 64, 2, 74, -177, 49, -13, -161, -103, -31, 87, 24, 57, 34, -96, 66, -29, -82, -134, 12, 6, 88, 52, -9, -141, 3, 154, -81, 49, -1, 43, 18, 56, -125, 108, 58, -149, 36, 7, -42, 65, 62, -76, 61, -114, 105, -46, -109, -25, 106, -59, -7, 97, 43, -175, 65, -54, -28, -70, -4, 72, -86, 147, -184, 132, -11, 222, -181, 87, 22, -56, -171, 134, -49, -7, 118, 22, -123, 64, -32, -165, 45, -12, -4, -102, 114, -217, -7, 150, -223, 323, -75, -85, -41, 94, -6, -94, 40, 208, -190, -19, -80, 101, 90, 2, 62, 48, 35, -73, -15, -6, -108, 88, 6, 24, 41, -53, 132, -178, -54, -14, -52, 23, -54, 105, -40, -42, -152, 132, 208, 33, 11, 41, -3, -31, -56, -57, -33, 53, 82, -83, 50, -67, -44, -3, -35, -190, 134, -58, -124, 45, 47, 163, 111, 119, -110, 25, -46, -47, -26, -25, 30, 123, -102, 29, -4, 5, 125, 38, -75, 36, -39, 1, -10, -148, 92, -88, -19, 49, 29, -93, 110, 14, -38, -76, -54, -5, 110, -36, -6, -39, -9, -273, 126, 96, 46, 79, -18, -48, -36, 71, -126, 46, 30, 61, -104, -36, -132, 186, -76, 93, -59, 75, 75, 103, -109, 9, -116, 37, 58, 128, 135, -26, 96, -32, -126, 9, -132, -35, -91, 164, -57, 24, -28, -42, -13, -41, 218, -22, 113, -154, -173, -119, 157, -131, 81, 174, -50, -149, -96, 70, 13, -105, 185, 73, -64, 168, -107, -137, 59, 132, -87, 27, 11, -98, -10, -12, -28, 107, 105, -119, 232, -206, -74, 71, 82, -136, 40, 134, 23, 21, -72, -51, 76, -166, -37, 44, -5, 60, -35, -87, -115, 16, -40, -52, 129, 134, 47, 98, 24, -184, 8, 74, -171, 150, 131, 53, 32, -33, -306, -76, 217, 69, 209, 92, -168, -87, -115, -151, 25, -52, -14, 231, -101, 27, -55, -19, -96, 83, 89, 204, -13, 58, -227, 111, 163, -248, -6, -9, -77, -92, 99, 25, -21, -140, 88, 268, -67, 286, -12, -86, -95, -133, 7, 176, 57, 28, 10, -14, -207, 24, 20, 1, -12, 140, 324, -26, -145, -233, -116, -49, -68, -7, 268, 122, 38, -47, -261, -213, 254, 17, 182, -56, -252, 7, 227, -1, 71, 47, -24, 6, -146, -43, 179, 63, -72, 66, 41, -258, 8, 71, -111, -42, 107, 215, -37, -27, -9, -204, -81, 61, 36, -39, 72, 255, 36, -251, -190, 96, -268, 133, 217, -73, 72, 270, -222, -194, 18, -75, -29, -23, -57, 171, 68, -138, -140, 134, 87, -11, -42, 117, -11, 392, -107, -97, -131, 48, -104, -78, -33, 4, -62, 221, 188, 4, 47, -155, -174, -191, -39, -216, 89, 136, 127, 124, -13, -12, 22, -255, 103, -139, 82, 142, 77, -120, 76, -73, -240, 92, 256, 137, -25, 57, 113, -255, 90, -205, -12, -210, -105, 24, -7, -73, 89, 39, -73, -135, 121, 243, 64, -240, -37, 162, -13, 110, -141, 55, -33, -290, -103, -26, 140, -115, -26, 319, 140, 36, -55, 141, -381, -28, 59, 220, 181, 39, 150, -189, -60, -41, -48, 90, -116, 51, -59, 306, -32, 110, 26, -168, -332, 150, 104, -227, -71, -26, 34, -58, 95, 186, -322, 183, -128, 77, -193, 123, 300, 133, 118, 67, 53, -385, -115, 53, 89, 271, -246, -89, 120, -162, -330, -24, 197, -180, 70, 197, 55, 120, -339, -41, 106, 49, 118, 64, -154, 20, -31, -253, 48, -110, 140, 47, -15, 131, -35, 185, -213, -297, 273, -82, -240, 38, -11, -30, 81, 140, -112, 32, -7, -14, 102, 15, -43, 88, 60, 443, -10, 276, -109, -61, -158, -279, -19, 52, 84, -200, -171, 201, 82, 72, -159, -51, -100, 231, -275, 98, 4, 7, -215, 83, 344, -203, 44, 224, -86, -163, -244, 533, -103, 159, 13, 132, -559, 108, 209, -591, -78, 90, -92, 58, -221, 85, 222, 260, 514, 84, 437, -83, -172, -165, 203, -355, -24, -183, -360, 144, 159, -109, 566, -70, 154, 136, 228, -237, -230, -120, -176, -46, 122, 150, -123, 232, 107, -161, 41, -208, -181, 49, -126, -302, -45, 108, -322, -213, 109, -231, 361, 178, -247, -243, 143, 102, 95, 169, 39, -164, -40, 213, -271, -140, 277, -81, 56, 330, -255, -166, 151, -194, 256, 20, -265, 158, 4, 84, -85, -12, -206, 45, 205, -122, -222, -128, -61, 64, 1, -49, -105, -214, 271, 114, -126, 224, -36, 162, 225, -225, 110, -14, 157, 45, -246, 37, 81, -95, 19, 31, -146, -104, -153, 86, 234, -64, 154, 187, -38, -31, 279, 254, 41, 87, 123, -64, -209, 225, 76, -189, 20, -93, -315, -156, -78, 106, 68, -227, 180, 166, -130, 76, 449, 82, 181, 174, 78, -94, -339, -146, -34, -70, -218, -118, 44, -395, -232, 150, 148, 46, 198, 68, -38, 63, 25, 290, 211, 43, 56, -16, -127, -143, 97, 188, 94, -115, -36, -166, -223, -41, -17, 80, -47, -102, -103, -184, -63, -48, 191, 83, -174, 10, 32, -27, 53, 217, 138, 140, -52, 42, 62, 48, 206, 260, 247, 160, 25, -40, -180, -2, -21, -68, -103, -76, -193, -320, -225, -162, -43, -36, 40, -109, -227, -71, 6, -37, -93, -147, -233, -62, -85, -161, 62, 83, -19, 63, 23, -230, -112, -27, -55, 32, 91, 75, 8, -25, 3, 4, 81, 55, 30, 12, -12, 39, 49, 13, -7, 102, 90, 145, 242, 300, 326, 342, 413, 349, 293, 279, 301, 246, 208, 202, 119, 48, 51, 31, 22, 22, 30, 74, 50, -12, -27, -59, -80, -52, -43, -60, -76, -129, -145, -180, -282, -297, -305, -366, -351, -319, -359, -451, -500, -452, -448, -428, -426, -452, -486, -514, -601, -714, -721, -746, -763, -749, -679, -317, -24, 221, 556, 1233, 1840, 2169, 2174, 2148, 1943, 1706, 1588, 1557, 1303, 851, 313, -165, -525, -824, -983, -1000, -947, -859, -721, -642, -550, -320, -36, 150, 378, 590, 708, 681, 648, 607, 607, 554, 501, 378, 209, -13, -140, -219, -221, -297, -395, -517, -589, -676, -706, -715, -739, -799, -833, -867, -859, -844, -798, -742, -723, -675, -637, -653, -840, -998, -1063, -1114, -1095, -940, -499, 65, 645, 1257, 2150, 3073, 3345, 2966, 2459, 2140, 1839, 1711, 1437, 937, 79, -656, -1265, -1522, -1746, -1801, -1700, -1369, -1101, -910, -826, -723, -461, 5, 619, 1066, 1209, 1158, 1310, 1422, 1293, 1183, 1131, 1062, 773, 416, -63, -398, -627, -669, -695, -723, -823, -883, -875, -776, -565, -369, -185, -29, 23, -90, -234, -388, -453, -457, -445, -511, -689, -899, -1081, -1268, -1521, -1836, -2130, -2140, -1759, -1176, -467, 388, 1348, 2251, 3085, 3789, 3958, 3561, 2830, 2412, 2095, 1790, 1043, 78, -1046, -1875, -2412, -2586, -2556, -2391, -2122, -1763, -1324, -968, -625, -262, 360, 1207, 1959, 2394, 2222, 1780, 1453, 1448, 1248, 964, 531, 89, -310, -590, -855, -1115, -1126, -951, -590, -441, -396, -451, -334, -94, 262, 419, 373, 231, 116, 24, -76, -246, -434, -602, -740, -924, -1114, -1334, -1497, -1704, -1970, -2327, -2446, -2309, -1810, -1029, -37, 1164, 2328, 3168, 3882, 4445, 4308, 3620, 3080, 2757, 2114, 1318, 238, -1023, -2242, -2924, -3326, -3344, -3112, -2717, -2297, -1720, -1104, -529, 37, 714, 1471, 2109, 2584, 2893, 2841, 2433, 1842, 1267, 803, 389, -247, -848, -1363, -1656, -1782, -1619, -1474, -1177, -787, -300, 157, 528, 794, 950, 1078, 1069, 985, 702, 340, 21, -281, -620, -928, -1194, -1418, -1594, -1771, -1869, -1943, -2024, -2141, -2261, -2413, -2273, -1575, -379, 832, 1913, 2782, 3656, 4598, 5128, 4742, 3731, 2888, 2129, 1359, 504, -556, -2031, -3259, -3872, -3925, -3659, -3195, -2724, -2074, -1183, -252, 477, 1098, 1705, 2362, 2900, 3202, 3093, 2699, 2169, 1552, 816, 119, -436, -1140, -1821, -2239, -2357, -2211, -1810, -1254, -774, -244, 296, 791, 1193, 1571, 1828, 1810, 1572, 1178, 711, 182, -272, -631, -994, -1385, -1730, -1973, -2107, -2144, -2144, -2128, -2124, -2055, -1924, -1920, -1872, -1389, -399, 902, 2102, 3199, 4045, 5061, 5432, 4753, 3512, 2580, 1737, 780, 92, -972, -2439, -3792, -4268, -4411, -4008, -3279, -2392, -1581, -520, 508, 1246, 1764, 2336, 2914, 3397, 3600, 3317, 2525, 1677, 861, 76, -713, -1451, -2179, -2701, -2806, -2666, -2338, -1824, -1049, -251, 539, 1291, 1947, 2252, 2421, 2480, 2309, 1858, 1242, 502, -335, -1053, -1597, -1908, -2078, -2121, -2058, -1941, -1713, -1458, -1155, -982, -982, -1088, -1179, -1117, -1256, -1255, -689, 203, 1172, 1954, 2796, 3465, 4411, 4500, 3720, 2430, 1616, 793, 67, -582, -1577, -2745, -3584, -3678, -3532, -2922, -2219, -1332, -492, 566, 1373, 1902, 2159, 2461, 2714, 2902, 2740, 2120, 1141, 145, -693, -1279, -1416, -1506, -1965, -2225, -2218, -1827, -1379, -509, 241, 962, 1467, 1894, 2055, 2087, 2026, 1789, 1492, 1010, 448, -347, -1041, -1713, -2026, -2100, -1856, -1627, -1412, -1199, -942, -661, -326, -9, 82, -148, -581, -1084, -1506, -1970, -2203, -1520, -455, 749, 1374, 2222, 3363, 4522, 4402, 3594, 2642, 1984, 1116, 527, -317, -1623, -3019, -3631, -3665, -3423, -2830, -2114, -1259, -367, 647, 1347, 1897, 2173, 2502, 2775, 3001, 2634, 1785, 687, -230, -1053, -1563, -1683, -1680, -1993, -2132, -1913, -1305, -719, 82, 808, 1448, 1855, 2087, 2023, 1891, 1700, 1392, 965, 344, -411, -1155, -1538, -1827, -1905, -1887, -1563, -1209, -839, -540, -259, -32, 141, 272, 154, -283, -981, -1690, -2222, -2657, -2843, -1919, -477, 857, 1462, 2715, 4599, 5460, 4792, 3684, 2909, 1814, 849, 192, -886, -2615, -3966, -4264, -4129, -3647, -2985, -1928, -718, 493, 1396, 2170, 2730, 2905, 2990, 3233, 3231, 2380, 1069, -143, -1133, -2082, -2664, -2787, -2712, -2300, -1715, -1111, -474, 141, 934, 1740, 2508, 2729, 2557, 2098, 1659, 1178, 612, -14, -646, -1280, -1697, -1939, -1905, -1788, -1557, -1137, -490, 83, 393, 461, 443, 439, 272, 250, -168, -943, -1761, -2526, -2956, -3561, -3602, -2470, -761, 891, 2048, 4402, 6742, 6784, 5151, 3687, 2951, 1296, 308, -443, -1722, -4021, -5113, -5091, -4809, -4270, -3030, -1093, 515, 1847, 2647, 3390, 3567, 3525, 3432, 3543, 3066, 1639, -87, -1473, -2542, -3510, -3900, -3569, -2914, -2077, -1232, -174, 723, 1415, 2194, 3010, 3572, 3382, 2766, 1942, 1143, 256, -571, -1291, -1834, -2292, -2505, -2369, -1893, -1347, -794, -139, 563, 1070, 1224, 1160, 1029, 718, 245, -273, -875, -1632, -2498, -3202, -3804, -4362, -4452, -3108, -1040, 1051, 2861, 6145, 8821, 8159, 5714, 3858, 2966, 725, -323, -1152, -2548, -5295, -6166, -5994, -5646, -4758, -2764, -173, 1665, 3249, 4005, 4486, 4332, 4081, 3627, 3306, 2586, 907, -1187, -2862, -3910, -4696, -4814, -3958, -2738, -1642, -580, 942, 2134, 2911, 3355, 3854, 3995, 3417, 2494, 1237, 25, -1273, -1978, -2471, -2492, -2517, -2284, -1856, -1152, -286, 370, 974, 1383, 1673, 1506, 1144, 583, 9, -597, -1058, -1405, -1806, -2305, -2833, -3287, -3693, -4248, -4021, -2343, -4, 2359, 4749, 8605, 9946, 7897, 4542, 2806, 1189, -1081, -1726, -2388, -3949, -6284, -6223, -5951, -5180, -3738, -952, 1645, 3560, 5007, 5289, 5014, 4195, 3541, 2541, 1855, 856, -821, -2866, -4291, -4887, -5014, -4477, -3174, -1391, 120, 1377, 2611, 3498, 3743, 3686, 3588, 3378, 2549, 1277, -217, -1527, -2531, -2928, -2854, -2474, -1955, -1459, -786, -48, 688, 1122, 1446, 1612, 1636, 1203, 519, -236, -799, -1275, -1609, -1884, -2081, -2539, -3086, -3787, -4394, -4744, -3188, -559, 2591, 5491, 9475, 10922, 8351, 4653, 2414, 952, -1663, -2091, -2726, -4046, -6558, -6526, -6264, -5490, -3759, -632, 2382, 4369, 5991, 6118, 5424, 4079, 3239, 2127, 1207, 140, -1415, -3398, -4923, -5399, -5231, -4485, -2947, -838, 1052, 2376, 3363, 4028, 4112, 3798, 3440, 2908, 1849, 415, -944, -2177, -3101, -3473, -3069, -2325, -1429, -590, 137, 768, 1354, 1790, 1877, 1737, 1322, 778, -62, -792, -1407, -1668, -1809, -1733, -1671, -1694, -1986, -2522, -3291, -3989, -4360, -2851, -235, 2879, 5486, 9010, 10521, 8162, 4372, 1826, 497, -2036, -2613, -2991, -3892, -6247, -6318, -5717, -4848, -3230, -291, 2792, 4644, 6139, 6260, 5462, 3736, 2588, 1401, 399, -666, -1949, -3507, -4835, -5202, -4827, -3882, -2412, -374, 1557, 2899, 3940, 4426, 4225, 3531, 2813, 2193, 1201, -51, -1572, -2740, -3475, -3259, -2696, -1779, -736, 167, 757, 1159, 1536, 1644, 1530, 1174, 853, 196, -621, -1386, -1745, -1908, -1741, -1537, -1333, -1554, -2139, -3078, -3992, -4623, -3460, -1003, 2091, 4934, 8477, 10870, 9034, 5262, 1960, 558, -1947, -2685, -2951, -3533, -5857, -6479, -5797, -4998, -3532, -890, 2496, 4558, 6241, 6577, 5905, 3963, 2479, 1265, 288, -769, -1966, -3366, -4703, -5220, -4913, -3952, -2544, -554, 1531, 3051, 3869, 4345, 4352, 3907, 3096, 2256, 1077, -347, -1763, -2773, -3360, -3430, -2872, -1867, -728, 229, 829, 1274, 1579, 1808, 1709, 1416, 845, 176, -595, -1252, -1668, -1771, -1696, -1486, -1273, -1221, -1572, -2323, -3346, -4291, -4855, -3303, -259, 3216, 6339, 9741, 10745, 7820, 3973, 1550, 32, -2374, -2805, -3045, -4180, -6331, -6338, -5783, -4878, -2971, 345, 3455, 5338, 6561, 6489, 5275, 3386, 2108, 978, -21, -1162, -2428, -3861, -4992, -5309, -4773, -3607, -1889, 239, 2174, 3431, 4149, 4615, 4378, 3521, 2530, 1623, 544, -772, -1901, -2859, -3429, -3420, -2576, -1499, -384, 414, 1114, 1534, 1812, 1797, 1501, 1022, 416, -204, -879, -1431, -1763, -1799, -1679, -1402, -1147, -1270, -1801, -2695, -3689, -4645, -4257, -1728, 1483, 4561, 7456, 10384, 9416, 6078, 2584, 1071, -1118, -2607, -2777, -3243, -5062, -6540, -6019, -5415, -3968, -1647, 1795, 4187, 5853, 6429, 5949, 4389, 2771, 1611, 597, -343, -1577, -2943, -4337, -5123, -5101, -4300, -2899, -991, 1078, 2712, 3783, 4349, 4238, 3767, 2953, 2334, 1388, 277, -1085, -2162, -2983, -3182, -2808, -2075, -1152, -370, 369, 876, 1248, 1306, 1326, 1093, 862, 418, -156, -855, -1407, -1750, -1768, -1711, -1682, -1916, -2594, -3614, -4571, -4751, -2991, -18, 3236, 6203, 9724, 10731, 8184, 4248, 1811, -15, -2182, -2769, -3031, -4267, -6395, -6520, -6010, -4913, -3065, 129, 3078, 5132, 6394, 6451, 5395, 3721, 2477, 1357, 411, -776, -2204, -3813, -5035, -5410, -4992, -3915, -2264, -176, 1780, 3120, 3977, 4487, 4542, 3848, 3093, 2313, 1170, -393, -1932, -2941, -3570, -3441, -2788, -1642, -931, -207, 422, 1192, 1648, 1818, 1677, 1339, 835, 122, -576, -1325, -1732, -1938, -1851, -1814, -1879, -2354, -3121, -3910, -4609, -3945, -1630, 1362, 4229, 7476, 10686, 9862, 6307, 2871, 1477, -739, -2226, -2486, -3099, -5306, -6775, -6298, -5737, -4530, -2209, 1210, 3665, 5475, 6237, 5926, 4594, 3362, 2457, 1571, 604, -758, -2494, -4233, -5198, -5351, -4876, -3691, -1784, 409, 1981, 2948, 3753, 4172, 3974, 3542, 3209, 2417, 1049, -518, -1678, -2637, -3131, -3064, -2331, -1660, -1072, -523, 133, 684, 1059, 1358, 1543, 1398, 867, 152, -597, -1208, -1586, -1727, -1836, -2048, -2532, -3261, -3939, -4517, -3886, -2074, 616, 3361, 6284, 9564, 9857, 7268, 3766, 2157, 343, -1132, -1966, -2687, -4678, -6474, -6537, -6078, -4980, -3145, -178, 2330, 4427, 5420, 5522, 4779, 3988, 3310, 2628, 1856, 482, -1449, -3443, -4665, -5225, -5189, -4411, -2854, -1038, 526, 1771, 2819, 3537, 4105, 4156, 4072, 3394, 2276, 715, -737, -1852, -2660, -3045, -2926, -2387, -2018, -1485, -901, -7, 662, 1265, 1647, 1805, 1400, 698, -14, -620, -1168, -1604, -1935, -2282, -2835, -3580, -4207, -4557, -3656, -1958, 479, 2769, 5855, 9035, 9437, 6976, 4202, 2911, 1169, -264, -1135, -2151, -4593, -6296, -6508, -6216, -5446, -3666, -998, 1364, 3343, 4366, 4721, 4492, 4256, 3975, 3717, 3137, 1623, -545, -2539, -3868, -4837, -5184, -4605, -3388, -1982, -762, 627, 2060, 2790, 3230, 3814, 4154, 3628, 2608, 1515, 439, -716, -1629, -2089, -2409, -2543, -2405, -1992, -1423, -826, -213, 445, 967, 1198, 1092, 734, 320, -144, -624, -1035, -1479, -2072, -2792, -3377, -3873, -4025, -3152, -1553, 626, 2566, 5346, 7792, 7882, 5712, 3920, 3147, 1794, 569, -387, -1673, -4074, -5454, -5853, -5717, -5134, -3467, -1343, 545, 1977, 2760, 3256, 3536, 3867, 4047, 4189, 3716, 2331, 411, -1273, -2623, -3697, -4081, -3774, -3115, -2550, -1983, -768, 549, 1207, 2132, 3278, 3740, 3309, 2862, 2354, 1489, 471, -182, -815, -1639, -2208, -2404, -2332, -2224, -1805, -1131, -405, 34, 381, 510, 479, 270, 58, -170, -631, -1274, -2012, -2618, -3241, -3383, -2786, -1626, -56, 1532, 3438, 5517, 6425, 5380, 3884, 3288, 2693, 1669, 607, -533, -2394, -3998, -4696, -4891, -4705, -3808, -2324, -910, 283, 1046, 1627, 2164, 2878, 3514, 3930, 3861, 3115, 1871, 538, -670, -1731, -2408, -2662, -2604, -2425, -2290, -1883, -1273, -620, 327, 1438, 2279, 2486, 2595, 2441, 2146, 1684, 1278, 664, -70, -739, -1274, -1760, -2225, -2255, -1989, -1527, -1173, -802, -593, -430, -362, -227, -227, -513, -998, -1535, -2053, -2516, -2408, -1693, -356, 1144, 2432, 3665, 4710, 4747, 3767, 3092, 2895, 2298, 1396, 514, -715, -2350, -3458, -3980, -4090, -3718, -2837, -1922, -1066, -283, 241, 748, 1509, 2425, 3073, 3435, 3377, 2798, 1833, 883, 60, -668, -1237, -1629, -1868, -1973, -1772, -1810, -1796, -1311, -328, 545, 1285, 1908, 2036, 1884, 1729, 1728, 1443, 1024, 526, 72, -580, -1219, -1691, -1927, -1917, -1642, -1348, -1275, -1240, -1167, -1037, -992, -1034, -1186, -1473, -1805, -2072, -1996, -1447, -166, 1549, 2948, 3991, 4488, 4332, 3555, 3110, 2881, 2455, 1741, 845, -332, -1765, -2895, -3725, -3970, -3632, -2834, -2186, -1602, -1084, -689, -219, 581, 1596, 2376, 2949, 3172, 3006, 2408, 1711, 1088, 577, 159, -254, -626, -1095, -1511, -1918, -2103, -1905, -1332, -655, -90, 325, 521, 699, 901, 1175, 1328, 1387, 1293, 1035, 562, -2, -483, -786, -917, -975, -1053, -1223, -1418, -1570, -1599, -1605, -1609, -1666, -1767, -1904, -2028, -1960, -1481, -335, 1166, 2451, 3326, 3819, 3775, 3357, 3077, 2930, 2663, 2251, 1667, 790, -295, -1366, -2330, -2907, -2946, -2655, -2341, -2053, -1837, -1712, -1501, -1018, -334, 387, 1091, 1658, 2015, 2090, 1954, 1721, 1532, 1471, 1603, 1581, 1079, 328, -322, -789, -1068, -1108, -1089, -1027, -922, -859, -844, -778, -648, -411, -19, 358, 580, 525, 314, 142, 78, 31, 2, -18, -145, -330, -565, -854, -1158, -1379, -1513, -1602, -1740, -1865, -1744, -1214, -354, 581, 1363, 1868, 2061, 2021, 1956, 2011, 2064, 2014, 1875, 1709, 1407, 910, 253, -346, -759, -957, -993, -974, -1003, -1140, -1304, -1388, -1324, -1164, -933, -628, -298, 7, 228, 416, 517, 534, 601, 771, 921, 954, 934, 864, 788, 674, 517, 343, 217, 68, -134, -291, -427, -559, -681, -733, -739, -706, -693, -611, -477, -351, -259, -171, -122, -82, -68, -97, -108, -73, -115, -182, -227, -285, -386, -451, -487, -397, -200, 8, 174, 347, 506, 593, 549, 475, 471, 477, 473, 483, 539, 564, 528, 446, 358, 283, 188, 91, 42, 35, 7, -54, -112, -174, -240, -310, -345, -334, -285, -233, -181, -134, -82, -50, 11, 67, 84, 79, 83, 109, 120, 120, 89, 75, 63, 45, 29, 27, 21, -2, -14, -18, -18, -33, -47, -52, -39, -39, -45, -55, -61, -70, -80, -91, -96, -108, -118, -126, -135, -144, -166, -190, -204, -198, -181, -162, -142, -115, -75, -16, 36, 70, 81, 94, 112, 141, 171, 195, 208, 215, 218, 213, 202, 183, 155, 132, 129, 130, 123, 112, 91, 75, 55, 42, 31, 27, 16, 16, 25, 30, 34, 42, 38, 25, 12, -10, -23, -35, -41, -41, -31, -30, -37, -44, -52, -63, -72, -78, -80, -77, -75, -71, -68, -71, -81, -86, -91, -90, -88, -89, -88, -88, -94, -101, -103, -119, -130, -142, -163, -178, -160, -125, -86, -61, -24, 20, 55, 69, 65, 71, 84, 105, 127, 162, 195, 205, 199, 191, 184, 172, 155, 135, 125, 123, 120, 111, 103, 92, 77, 67, 52, 40, 32, 15, 12, 4, -2, -5, -14, -21, -24, -28, -38, -51, -53, -53, -57, -65, -63, -56, -53, -56, -57, -59, -66, -68, -65, -57, -49, -48, -45, -40, -36, -41, -48, -53, -53, -55, -59, -63, -66, -74, -89, -100, -109, -123, -140, -141, -120, -90, -65, -47, -18, 16, 41, 43, 47, 58, 72, 79, 95, 117, 141, 153, 150, 145, 142, 136, 121, 108, 105, 105, 106, 99, 95, 90, 79, 70, 59, 49, 39, 29, 22, 14, 8, 1, -1, -3, -10, -20, -25, -30, -38, -43, -44, -49, -49, -47, -50, -54, -57, -60, -59, -60, -57, -50, -52, -47, -46, -48, -47, -49, -52, -52, -56, -59, -60, -63, -69, -68, -77, -83, -92, -100, -109, -117, -109, -90, -65, -43, -24, 6, 22, 28, 39, 47, 66, 75, 87, 100, 116, 135, 140, 135, 131, 126, 124, 117, 111, 101, 103, 98, 91, 85, 80, 71, 59, 49, 38, 24, 13, 4, -1, -5, -3, 0, -6, -14, -24, -35, -42, -49, -50, -48, -49, -43, -40, -41, -42, -51, -57, -58, -60, -61, -59, -53, -52, -47, -44, -45, -46, -50, -53, -52, -53, -52, -54, -55, -60, -64, -70, -79, -87, -98, -101, -98, -78, -56, -38, -23, -2, 18, 32, 41, 45, 56, 66, 74, 80, 94, 111, 119, 118, 120, 113, 112, 107, 98, 90, 90, 88, 85, 77, 75, 72, 59, 49, 38, 27, 17, 11, 8, 10, 12, 8, 1, -12, -21, -26, -35, -37, -39, -42, -41, -42, -41, -41, -48, -53, -57, -56, -58, -58, -61, -54, -55, -54, -55, -52, -52, -53, -53, -55, -57, -56, -58, -62, -66, -68, -74, -79, -85, -93, -98, -86, -69, -49, -35, -19, -3, 18, 32, 42, 46, 59, 70, 74, 81, 96, 108, 114, 115, 113, 111, 109, 105, 99, 89, 85, 81, 75, 75, 74, 65, 54, 42, 34, 26, 15, 9, 2, 10, 5, 3, -5, -12, -17, -23, -32, -39, -42, -43, -42, -48, -47, -45, -49, -52, -53, -55, -56, -53, -57, -56, -55, -53, -55, -52, -53, -52, -52, -52, -53, -52, -56, -59, -66, -68, -69, -74, -81, -88, -87, -77, -61, -46, -32, -20, 2, 20, 33, 44, 51, 61, 74, 74, 79, 90, 103, 108, 107, 107, 108, 110, 106, 96, 85, 81, 78, 74, 74, 67, 62, 51, 42, 35, 27, 18, 12, 11, 11, 8, 0, -5, -11, -19, -24, -33, -36, -36, -37, -39, -45, -40, -43, -44, -46, -51, -53, -51, -56, -57, -58, -55, -57, -56, -54, -53, -51, -51, -53, -50, -53, -57, -60, -62, -67, -69, -73, -82, -86, -85, -72, -55, -40, -28, -14, 3, 21, 37, 47, 55, 64, 74, 74, 81, 92, 101, 106, 105, 105, 108, 107, 102, 93, 86, 81, 76, 74, 69, 61, 58, 47, 38, 31, 24, 19, 14, 13, 8, -2, -4, -10, -17, -22, -29, -33, -34, -34, -39, -40, -43, -41, -44, -45, -49, -52, -53, -53, -56, -52, -55, -54, -55, -52, -51, -48, -46, -45, -49, -47, -51, -53, -56, -60, -67, -68, -74, -80, -82, -76, -61, -48, -35, -27, -11, 11, 30, 39, 47, 53, 66, 74, 74, 77, 89, 94, 97, 98, 97, 100, 99, 92, 83, 80, 77, 73, 70, 64, 61, 49, 42, 31, 24, 26, 22, 18, 12, 7, 1, -1, -10, -20, -23, -31, -30, -35, -36, -37, -36, -38, -44, -43, -39, -44, -50, -51, -54, -53, -53, -54, -55, -51, -51, -52, -46, -47, -46, -46, -52, -52, -54, -57, -63, -62, -68, -70, -77, -77, -68, -55, -39, -32, -26, -6, 13, 31, 39, 48, 58, 67, 75, 74, 77, 88, 91, 91, 92, 92, 99, 95, 90, 79, 76, 75, 75, 67, 58, 52, 44, 38, 30, 27, 26, 15, 9, 4, 4, -5, -13, -24, -26, -25, -27, -37, -36, -37, -36, -38, -43, -44, -40, -46, -52, -53, -53, -52, -52, -52, -51, -45, -40, -42, -43, -39, -33, -34, -42, -46, -44, -51, -54, -57, -57, -58, -58, -66, -69, -57, -41, -29, -22, -15, 6, 22, 34, 43, 54, 60, 66, 74, 75, 75, 82, 81, 78, 82, 89, 91, 89, 82, 78, 76, 75, 72, 61, 55, 46, 36, 32, 26, 18, 16, 5, 1, -5, -5, -15, -22, -28, -30, -35, -37, -46, -46, -44, -44, -47, -48, -46, -48, -49, -48, -48, -48, -47, -42, -42, -38, -36, -37, -33, -33, -35, -34, -37, -37, -40, -37, -42, -48, -51, -53, -52, -53, -57, -57, -44, -27, -20, -22, -8, 11, 30, 34, 41, 51, 57, 66, 69, 73, 75, 78, 76, 75, 81, 86, 86, 81, 77, 74, 75, 73, 60, 55, 53, 43, 37, 29, 27, 23, 6, -6, -3, -9, -15, -26, -31, -30, -25, -23, -36, -33, -40, -51, -49, -52, -54, -51, -51, -57, -55, -54, -54, -48, -41, -41, -39, -40, -43, -39, -33, -36, -37, -37, -36, -37, -38, -45, -49, -46, -48, -57, -54, -52, -39, -20, -13, -15, -4, 20, 38, 46, 49, 57, 57, 65, 67, 70, 76, 79, 82, 90, 93, 95, 89, 79, 73, 73, 74, 71, 56, 39, 36, 41, 33, 29, 25, 18, 8, -6, -20, -16, -12, -16, -22, -50, -41, -37, -41, -61, -36, -19, -43, -81, -61, -31, -32, -53, -53, -44, -58, -13, -52, -74, -38, -16, -49, -42, -24, -19, 13, -24, -49, -60, -62, -24, -38, -78, -86, -68, -45, -44, -17, -4, -20, -34, -28, 12, 45, 69, 75, 84, 79, 72, 74, 87, 113, 128, 100, 73, 115, 159, 155, 125, 98, 41, 18, 51, 80, 84, 61, 51, 54, 29, 18, -37, -55, 9, 46, -30, -125, -90, -64, -79, -53, -47, -105, -149, -130, -79, -40, 19, 4, -97, -161, -145, -59, -18, 0, 56, 71, -45, -182, -152, -43, -14, 13, -116, -138, -183, -240, -244, -211, -80, -25, -79, -166, -73, -100, -60, 63, 248, 268, 154, 119, 118, 164, 290, 328, 346, 371, 274, 116, 151, 249, 312, 312, 267, 184, 141, 116, 44, 3, 41, 76, 68, 43, -6, -107, -215, -225, -136, -74, -95, -138, -181, -210, -176, -135, -131, -77, -52, -53, -64, -81, -77, -78, -21, 50, 23, -61, -165, -130, -30, -20, -81, -119, -157, -278, -283, -169, -129, -133, -235, -400, -457, -226, 54, 106, -126, -195, -38, 93, 216, 265, 208, 162, 226, 329, 354, 368, 343, 335, 334, 409, 421, 316, 212, 236, 265, 257, 230, 164, 93, 37, -38, -88, -20, 113, 16, -301, -436, -159, 32, -106, -297, -323, -191, -60, -32, -143, -106, -5, -13, -20, 54, 69, -64, -93, 17, 35, -65, -101, -68, 20, -69, -211, -260, -216, -204, -331, -370, -417, -442, -588, -507, -179, 53, -194, -434, -201, 267, 386, 261, 103, 147, 298, 485, 521, 460, 431, 394, 364, 442, 538, 443, 274, 292, 399, 314, 149, 70, 89, 90, 24, -93, -81, 24, -13, -303, -463, -244, -50, -168, -341, -339, -275, -179, -77, -72, -123, -119, -47, 41, 128, 71, -49, -89, 86, 83, -5, -66, -79, -147, -93, -107, -205, -197, -266, -436, -492, -474, -552, -593, -260, 32, -70, -520, -437, 135, 459, 292, 81, 121, 230, 464, 612, 570, 427, 431, 522, 556, 595, 524, 339, 322, 515, 460, 187, 77, 136, 133, 21, -25, 14, 8, -210, -455, -389, -170, -219, -410, -390, -275, -323, -319, -215, -130, -153, -157, -62, 38, 60, -18, -30, 75, 139, 30, -65, -43, -26, -103, -179, -155, -179, -338, -489, -523, -469, -564, -776, -517, -19, 33, -527, -654, 86, 522, 223, 81, 419, 441, 380, 592, 764, 601, 491, 632, 676, 705, 598, 409, 356, 528, 470, 212, 114, 186, 74, -105, -79, 48, -64, -329, -478, -369, -293, -377, -451, -382, -319, -387, -339, -195, -116, -172, -115, 46, 94, 42, 18, 110, 130, 95, 16, 10, -10, -79, -156, -172, -181, -325, -503, -554, -535, -637, -873, -777, -195, 54, -370, -746, -114, 471, 274, 48, 419, 554, 293, 581, 962, 802, 375, 584, 879, 845, 644, 535, 512, 526, 485, 277, 194, 210, 73, -121, -75, -9, -212, -404, -402, -399, -483, -506, -425, -404, -434, -424, -300, -156, -123, -120, -56, 94, 117, 113, 143, 189, 134, 86, 97, 44, -58, -118, -123, -212, -333, -462, -559, -604, -724, -882, -1029, -754, -134, 23, -489, -709, 48, 465, 212, 218, 685, 559, 236, 808, 1214, 749, 345, 829, 1025, 723, 611, 723, 581, 400, 414, 299, 118, 51, -22, -112, -94, -147, -382, -504, -444, -463, -528, -498, -446, -491, -433, -286, -219, -179, -72, 43, 66, 137, 190, 214, 232, 275, 212, 107, 65, 12, -66, -151, -206, -360, -473, -579, -677, -822, -946, -1108, -1010, -394, -58, -386, -743, -151, 353, 247, 283, 722, 684, 311, 806, 1317, 949, 479, 878, 1142, 801, 675, 843, 674, 392, 447, 408, 79, -100, -54, -97, -133, -248, -527, -695, -544, -489, -678, -668, -562, -566, -503, -271, -216, -258, -56, 133, 128, 154, 275, 314, 316, 372, 300, 155, 126, 100, 8, -144, -204, -336, -450, -589, -767, -884, -961, -1129, -1164, -541, -83, -394, -753, -122, 383, 147, 251, 845, 759, 279, 854, 1442, 981, 544, 1050, 1212, 725, 685, 946, 668, 327, 486, 436, -15, -224, -108, -173, -251, -274, -473, -730, -681, -573, -650, -681, -591, -559, -462, -273, -192, -151, 40, 213, 187, 237, 346, 374, 379, 447, 376, 197, 127, 83, -20, -163, -204, -312, -510, -752, -871, -920, -1064, -1290, -1232, -587, -257, -438, -606, -70, 272, 187, 430, 850, 757, 431, 1000, 1448, 1051, 712, 1133, 1223, 751, 724, 937, 615, 287, 485, 439, -96, -354, -194, -299, -432, -374, -488, -774, -746, -627, -750, -765, -559, -482, -454, -276, -146, -82, 129, 333, 293, 293, 422, 474, 445, 494, 462, 294, 181, 98, -84, -245, -289, -350, -530, -791, -966, -1060, -1129, -1355, -1338, -715, -339, -492, -603, -7, 293, 179, 493, 949, 810, 523, 1106, 1487, 1043, 856, 1317, 1293, 784, 796, 935, 499, 254, 505, 407, -161, -355, -239, -456, -655, -478, -518, -830, -807, -658, -752, -855, -572, -419, -370, -273, -85, 37, 143, 352, 465, 473, 467, 535, 522, 476, 410, 372, 269, 134, -82, -235, -360, -446, -563, -776, -926, -1053, -1161, -1352, -1419, -970, -556, -470, -461, -80, 254, 236, 487, 843, 898, 763, 1051, 1393, 1167, 999, 1243, 1327, 982, 831, 877, 559, 240, 339, 316, -66, -336, -292, -467, -745, -688, -529, -741, -898, -716, -649, -803, -712, -432, -340, -268, -66, 138, 188, 292, 482, 611, 535, 527, 611, 563, 384, 357, 322, 98, -80, -163, -329, -543, -603, -755, -915, -1043, -1155, -1297, -1433, -1309, -853, -538, -477, -288, 198, 423, 471, 715, 925, 944, 979, 1269, 1369, 1176, 1130, 1310, 1267, 987, 806, 704, 437, 230, 151, 19, -250, -446, -461, -582, -802, -792, -698, -817, -875, -758, -691, -714, -550, -374, -226, -87, 51, 242, 388, 432, 531, 663, 638, 583, 611, 540, 369, 299, 210, 39, -132, -286, -421, -524, -645, -847, -938, -1029, -1147, -1247, -1347, -1332, -945, -597, -467, -240, 227, 481, 560, 811, 951, 959, 1024, 1217, 1276, 1210, 1148, 1197, 1195, 1044, 806, 648, 470, 203, 27, -92, -279, -510, -542, -566, -745, -903, -790, -695, -813, -795, -670, -581, -527, -338, -190, -63, 109, 285, 421, 503, 516, 591, 707, 626, 532, 545, 480, 285, 212, 92, -140, -288, -380, -525, -653, -774, -909, -930, -1016, -1158, -1183, -1218, -1146, -797, -533, -434, -143, 344, 565, 698, 897, 976, 1009, 1089, 1152, 1156, 1087, 1020, 1077, 1068, 885, 667, 573, 405, 163, -8, -153, -361, -517, -527, -565, -705, -750, -645, -617, -629, -598, -524, -467, -381, -279, -176, -73, 58, 207, 357, 413, 445, 540, 576, 501, 449, 412, 296, 196, 123, 7, -128, -214, -300, -411, -508, -593, -655, -721, -821, -881, -889, -918, -941, -807, -556, -430, -303, 2, 369, 537, 656, 815, 889, 860, 852, 858, 810, 707, 684, 760, 728, 619, 565, 540, 390, 224, 97, -35, -215, -310, -340, -374, -434, -449, -396, -368, -373, -352, -334, -346, -322, -264, -199, -158, -61, 65, 152, 208, 263, 310, 315, 292, 272, 247, 194, 145, 108, 66, -14, -95, -159, -232, -333, -409, -432, -466, -542, -579, -586, -614, -664, -686, -650, -504, -397, -304, -117, 147, 311, 448, 608, 714, 714, 699, 696, 630, 545, 485, 514, 507, 474, 463, 473, 429, 351, 264, 162, 13, -119, -182, -255, -338, -375, -349, -336, -337, -337, -310, -301, -289, -232, -180, -163, -148, -1, 60, 69, 186, 257, 240, 310, 293, 212, 228, 179, 119, 117, 54, -27, -22, -90, -154, -190, -257, -292, -331, -385, -419, -458, -496, -508, -528, -572, -591, -577, -475, -379, -316, -143, 91, 241, 372, 528, 610, 620, 631, 635, 572, 498, 444, 440, 443, 409, 393, 417, 404, 339, 295, 214, 81, -26, -95, -195, -284, -327, -344, -328, -324, -317, -287, -254, -242, -208, -182, -175, -139, -77, -27, 32, 92, 149, 205, 240, 254, 264, 239, 192, 155, 100, 37, 2, -48, -109, -159, -190, -160, -106, -324, -251, -219, -532, -444, -392, -579, -516, -495, -624, -538, -386, -394, -258, -7, 183, 281, 430, 568, 570, 555, 617, 580, 500, 465, 441, 427, 428, 406, 436, 454, 405, 347, 289, 180, 52, -39, -122, -235, -320, -341, -348, -358, -348, -322, -287, -270, -238, -183, -176, -174, -96, -37, -17, 57, 136, 177, 232, 277, 268, 258, 230, 164, 142, 94, 1, -21, -31, -134, -171, -171, -231, -270, -279, -334, -395, -436, -459, -506, -550, -605, -614, -556, -458, -386, -266, -11, 157, 270, 464, 564, 602, 613, 614, 573, 513, 434, 410, 427, 391, 370, 414, 446, 381, 345, 321, 193, 65, -9, -117, -241, -316, -340, -355, -348, -338, -302, -246, -223, -222, -183, -148, -162, -132, -68, -39, 10, 98, 158, 193, 245, 270, 268, 245, 198, 150, 109, 41, -21, -43, -102, -156, -182, -217, -263, -282, -311, -362, -411, -469, -505, -563, -663, -680, -601, -505, -426, -280, -17, 192, 309, 476, 640, 636, 605, 629, 571, 469, 408, 387, 400, 384, 378, 441, 481, 415, 384, 365, 229, 78, 3, -112, -251, -316, -341, -361, -354, -331, -304, -247, -226, -227, -191, -169, -181, -161, -103, -62, -16, 70, 147, 194, 239, 277, 285, 249, 217, 173, 106, 50, -5, -63, -109, -144, -185, -208, -249, -304, -330, -366, -453, -498, -544, -629, -723, -713, -612, -542, -453, -204, 62, 215, 374, 581, 675, 658, 643, 642, 554, 455, 397, 404, 407, 393, 424, 507, 507, 439, 428, 368, 194, 53, -29, -175, -306, -349, -374, -385, -355, -328, -301, -252, -236, -229, -211, -193, -199, -166, -99, -53, -4, 109, 189, 219, 282, 333, 296, 261, 262, 166, 94, 76, 12, -60, -53, -120, -191, -180, -248, -355, -351, -411, -540, -565, -598, -742, -775, -727, -675, -577, -412, -225, 79, 275, 385, 588, 729, 668, 646, 687, 583, 455, 445, 456, 434, 444, 482, 540, 544, 476, 436, 368, 195, 31, -58, -201, -342, -386, -391, -409, -387, -355, -327, -289, -270, -257, -245, -226, -232, -190, -113, -57, 9, 131, 231, 268, 323, 383, 350, 309, 301, 224, 137, 99, 49, -21, -41, -93, -156, -173, -244, -355, -398, -452, -579, -646, -679, -813, -878, -846, -754, -655, -511, -293, 36, 251, 396, 610, 765, 749, 711, 733, 663, 537, 477, 510, 525, 492, 531, 610, 610, 516, 482, 392, 200, 18, -89, -249, -388, -443, -457, -447, -414, -404, -370, -312, -310, -331, -265, -254, -302, -208, -71, -39, 36, 198, 281, 329, 398, 418, 392, 352, 305, 251, 194, 97, 57, 39, -18, -104, -133, -190, -286, -382, -439, -538, -659, -739, -799, -896, -981, -967, -828, -717, -590, -323, 70, 289, 449, 710, 882, 852, 824, 842, 754, 635, 581, 606, 625, 583, 584, 674, 662, 517, 452, 359, 140, -76, -184, -336, -479, -533, -519, -502, -479, -439, -425, -374, -403, -437, -382, -335, -315, -243, -84, 29, 130, 296, 422, 479, 517, 552, 509, 440, 379, 304, 223, 174, 112, 55, 21, -43, -139, -195, -276, -412, -504, -568, -697, -795, -829, -919, -1012, -1032, -1013, -893, -764, -607, -342, 99, 342, 523, 812, 1030, 1013, 985, 1010, 898, 766, 711, 736, 705, 654, 641, 696, 665, 501, 387, 265, 42, -187, -305, -459, -603, -644, -613, -589, -562, -532, -500, -458, -461, -461, -397, -344, -311, -164, 28, 153, 278, 458, 582, 625, 657, 649, 590, 508, 442, 360, 256, 173, 116, 60, -32, -129, -227, -322, -429, -547, -647, -711, -807, -885, -937, -994, -1094, -1154, -1113, -972, -868, -674, -333, 158, 458, 682, 996, 1273, 1305, 1222, 1218, 1104, 912, 806, 849, 806, 698, 690, 759, 680, 457, 301, 122, -139, -402, -541, -690, -803, -834, -761, -691, -651, -633, -580, -521, -559, -589, -502, -419, -345, -21, 229, 316, 561, 845, 912, 899, 913, 805, 742, 630, 477, 404, 314, 149, 169, 120, -143, -248, -302, -533, -723, -798, -932, -960, -951, -994, -990, -986, -1067, -1115, -1136, -1139, -1032, -842, -600, -201, 426, 798, 1043, 1396, 1761, 1704, 1538, 1496, 1266, 1007, 907, 899, 766, 717, 683, 685, 597, 307, -3, -218, -506, -839, -946, -1079, -1170, -1110, -925, -818, -743, -683, -598, -550, -556, -580, -499, -255, -21, 210, 552, 930, 1123, 1284, 1421, 1310, 1139, 1048, 861, 596, 452, 293, 160, 85, -96, -275, -362, -568, -796, -898, -1016, -1168, -1147, -1055, -1052, -1021, -924, -915, -985, -1062, -1137, -1264, -1154, -895, -651, -263, 327, 1112, 1611, 1806, 1973, 2192, 2048, 1709, 1476, 1260, 1006, 837, 909, 832, 624, 401, 349, 84, -451, -871, -1094, -1366, -1565, -1501, -1408, -1300, -1120, -831, -665, -586, -589, -490, -319, -193, -100, 178, 563, 858, 1125, 1419, 1608, 1697, 1585, 1603, 1413, 1130, 873, 675, 393, 93, -124, -484, -645, -928, -1194, -1324, -1294, -1438, -1256, -1002, -939, -807, -570, -547, -651, -641, -744, -887, -1049, -1133, -1259, -1305, -989, -559, -71, 432, 1372, 2095, 2298, 2370, 2538, 2528, 1988, 1592, 1399, 1213, 792, 668, 613, 252, -318, -594, -802, -1401, -1863, -1923, -1867, -1934, -1668, -1348, -1079, -853, -565, -339, -121, 26, 144, 525, 917, 1075, 1251, 1627, 1667, 1533, 1575, 1516, 1092, 901, 851, 574, 264, 99, -109, -272, -472, -861, -1033, -1151, -1309, -1365, -1183, -1144, -915, -533, -258, -128, 60, 225, 305, 271, 159, 123, -10, -244, -547, -889, -1356, -1807, -2259, -2123, -1367, -769, -64, 1014, 2013, 2104, 2256, 2381, 2099, 1538, 1386, 1497, 1455, 1292, 1152, 1129, 605, -180, -775, -1123, -1778, -2115, -1865, -1629, -1618, -1326, -955, -921, -892, -786, -593, -308, 94, 447, 1009, 1439, 1518, 1563, 1686, 1415, 1021, 996, 914, 665, 717, 1029, 780, 217, -17, -238, -697, -1075, -1181, -1219, -1083, -1015, -914, -741, -742, -761, -364, -64, -141, 221, 711, 698, 501, 491, 213, -199, -569, -982, -1440, -1898, -2225, -2613, -2339, -1434, -687, -3, 1065, 1998, 2078, 2244, 2472, 2375, 2087, 2102, 2166, 2125, 1684, 1118, 736, 37, -970, -1496, -1593, -2052, -2228, -1848, -1681, -1872, -1682, -1405, -1360, -1068, -542, -57, 560, 1147, 1406, 1710, 1889, 1655, 1492, 1606, 1372, 1065, 1162, 1088, 601, 280, 128, -282, -734, -958, -1118, -1120, -1072, -1002, -917, -817, -826, -736, -449, -313, -122, 312, 730, 783, 849, 926, 741, 434, 252, 7, -339, -648, -959, -1514, -2026, -2561, -3018, -3346, -2730, -1407, -484, 541, 1633, 2515, 2369, 2559, 2738, 2760, 2596, 2768, 3002, 2656, 1817, 919, 319, -819, -1718, -1977, -1975, -2412, -2331, -2052, -2224, -2479, -2235, -1854, -1488, -737, 21, 777, 1393, 1756, 1812, 2021, 1963, 1798, 1922, 2070, 1725, 1408, 1222, 559, -170, -503, -570, -759, -1063, -1184, -1215, -1118, -1303, -1401, -1225, -869, -536, -160, 150, 243, 462, 805, 951, 824, 917, 1036, 930, 595, 281, -149, -604, -1024, -1461, -2005, -2481, -2876, -3209, -3506, -2893, -1390, -324, 477, 1504, 2517, 2472, 2658, 3192, 3441, 3227, 3226, 3427, 2834, 1655, 637, 124, -915, -1759, -1904, -1965, -2576, -2763, -2601, -2814, -2989, -2522, -1795, -1198, -433, 290, 928, 1390, 1660, 1868, 2237, 2355, 2320, 2470, 2403, 1808, 1289, 1020, 367, -287, -542, -765, -1060, -1172, -1384, -1626, -1703, -1557, -1439, -1169, -884, -321, 143, 357, 420, 660, 940, 1088, 1254, 1221, 1144, 900, 708, 226, -322, -804, -1038, -1544, -2095, -2599, -3051, -3372, -3695, -3033, -1589, -376, 290, 1353, 2349, 2314, 2485, 3288, 3829, 3626, 3597, 3641, 2936, 1652, 767, 297, -622, -1458, -1623, -1833, -2654, -3096, -2985, -3096, -3190, -2593, -1786, -1254, -660, 36, 582, 1011, 1450, 1934, 2428, 2628, 2603, 2605, 2408, 1845, 1377, 1102, 647, 206, -128, -621, -1177, -1322, -1427, -1716, -1706, -1404, -1228, -1216, -1057, -720, -357, -92, 223, 592, 823, 1018, 1237, 1196, 992, 898, 803, 434, -78, -523, -920, -1451, -2110, -2719, -3112, -3387, -3482, -2269, -919, -181, 167, 1229, 1777, 1772, 2488, 3456, 3812, 3418, 3477, 3153, 2259, 1210, 993, 598, -386, -987, -1231, -1904, -2805, -2806, -2756, -2895, -2750, -2115, -1780, -1462, -910, -298, 249, 824, 1309, 1817, 2196, 2244, 2299, 2366, 2195, 1820, 1689, 1419, 947, 409, -9, -504, -865, -978, -1261, -1572, -1572, -1394, -1419, -1469, -1286, -881, -478, -186, 200, 542, 669, 855, 1113, 1187, 1128, 1115, 970, 646, 241, -231, -647, -1159, -1622, -2078, -2601, -3015, -3356, -3317, -2177, -880, -349, 82, 1135, 1540, 1564, 2446, 3573, 3670, 3301, 3403, 3096, 2111, 1468, 1474, 922, -117, -633, -1033, -1893, -2563, -2478, -2553, -2818, -2694, -2297, -2164, -1840, -1209, -618, -102, 442, 916, 1368, 1788, 2028, 2220, 2374, 2275, 2091, 1960, 1672, 1184, 825, 506, 331, -171, -676, -1060, -1097, -1106, -1357, -1548, -1626, -1407, -1282, -1014, -836, -573, -183, 241, 470, 567, 823, 991, 1051, 813, 527, 196, -27, -470, -1097, -1759, -2251, -2570, -2850, -2047, -1053, -725, -730, 228, 954, 761, 1245, 2535, 3120, 2545, 2494, 2594, 2040, 1564, 1838, 1641, 463, -71, -243, -815, -1557, -1496, -1641, -2017, -2162, -2037, -2125, -1949, -1397, -965, -702, -425, -96, 306, 806, 1193, 1438, 1626, 1679, 1710, 1737, 1680, 1489, 1359, 1118, 886, 477, 78, -89, -257, -485, -713, -968, -1316, -1374, -1260, -1118, -1014, -952, -766, -501, -172, 85, 381, 507, 680, 802, 736, 605, 507, 257, -120, -517, -1003, -1439, -1916, -2153, -2562, -2362, -1453, -863, -868, -367, 821, 805, 819, 1711, 2844, 2591, 2342, 2555, 2265, 1780, 1865, 2059, 1048, 312, 80, -231, -960, -1150, -1273, -1738, -1997, -2021, -2089, -2135, -1690, -1327, -1124, -963, -683, -273, 252, 730, 974, 1209, 1356, 1526, 1693, 1822, 1735, 1627, 1483, 1183, 986, 981, 573, 320, 186, -62, -721, -972, -969, -1018, -1276, -1430, -1363, -1383, -1105, -791, -552, -437, -69, 139, 222, 320, 343, 326, 129, -98, -544, -923, -1363, -1469, -1783, -1530, -812, -541, -820, -259, 1170, 975, 538, 1203, 2504, 2128, 1871, 2074, 1683, 1261, 1663, 1845, 550, 53, 150, 27, -721, -862, -1076, -1426, -1468, -1484, -1646, -1729, -1359, -1126, -917, -869, -736, -367, 167, 475, 543, 738, 924, 1167, 1367, 1485, 1341, 1354, 1371, 1238, 961, 853, 677, 426, 219, 109, -131, -360, -670, -897, -1039, -957, -950, -1026, -1013, -869, -668, -483, -250, -140, 24, 176, 272, 225, 86, -89, -247, -461, -895, -1287, -1483, -1610, -1786, -1184, -694, -716, -726, 715, 1248, 508, 524, 2057, 2622, 1908, 1914, 1900, 1566, 1539, 2043, 1320, 362, 234, 242, -152, -611, -817, -1265, -1292, -1435, -1632, -1836, -1516, -1324, -1223, -1161, -1069, -792, -302, 176, 267, 351, 567, 954, 1243, 1414, 1396, 1351, 1358, 1380, 1246, 1054, 925, 1011, 878, 458, 311, 242, -193, -708, -729, -665, -947, -1255, -1295, -1211, -1084, -852, -711, -646, -478, -232, -50, -42, -173, -281, -304, -511, -803, -1080, -1256, -1577, -1437, -799, -370, -507, -334, 919, 1185, 693, 819, 2160, 2404, 1912, 1838, 1706, 1436, 1551, 1932, 1045, 298, 76, 143, -187, -476, -893, -1285, -1285, -1423, -1547, -1614, -1390, -1372, -1185, -1131, -1035, -736, -231, 63, 117, 250, 476, 881, 1177, 1310, 1260, 1223, 1267, 1366, 1338, 1161, 1254, 1147, 773, 439, 400, 283, 85, -203, -777, -1096, -995, -822, -1051, -1222, -1269, -1112, -791, -583, -508, -416, -242, -325, -376, -416, -314, -401, -691, -1181, -1389, -1477, -1156, -574, -308, -574, -450, 778, 1296, 976, 819, 1798, 2198, 2013, 1846, 1715, 1495, 1540, 1802, 1137, 417, 136, 267, 12, -364, -886, -1208, -1177, -1243, -1409, -1547, -1473, -1466, -1246, -1110, -1049, -869, -467, -157, -48, 133, 379, 729, 992, 1162, 1212, 1268, 1401, 1537, 1557, 1459, 1260, 1102, 1005, 923, 612, 159, -183, -331, -513, -792, -1080, -1230, -1230, -1198, -1179, -1128, -1003, -863, -714, -612, -556, -536, -493, -500, -601, -729, -861, -968, -1224, -1322, -736, -118, -106, -404, 430, 1303, 1184, 878, 1536, 2197, 1951, 1856, 1801, 1572, 1325, 1608, 1355, 651, 200, 101, 37, -231, -615, -1092, -1131, -1214, -1360, -1447, -1356, -1432, -1382, -1146, -1052, -923, -616, -266, -153, -16, 202, 599, 959, 1068, 1074, 1206, 1446, 1693, 1652, 1289, 1083, 1361, 1356, 849, 410, 259, 76, -155, -426, -806, -1033, -1075, -1099, -1200, -1250, -1249, -1076, -936, -952, -909, -741, -717, -738, -642, -648, -800, -976, -1130, -1187, -815, -435, -215, -174, 98, 770, 1330, 1232, 1043, 1744, 2263, 1997, 1696, 1785, 1583, 1426, 1533, 1145, 497, 214, 180, -48, -303, -732, -1108, -1117, -1181, -1387, -1441, -1356, -1466, -1367, -1181, -1048, -861, -524, -424, -312, 10, 392, 672, 858, 929, 1105, 1467, 1563, 1451, 1399, 1557, 1531, 1405, 1027, 697, 623, 487, 105, -361, -613, -835, -878, -1015, -1249, -1384, -1289, -1233, -1218, -1139, -1123, -1061, -995, -936, -952, -876, -932, -992, -1129, -1069, -823, -392, -201, -118, 212, 919, 1390, 1240, 1193, 1750, 2354, 2124, 1844, 1734, 1686, 1574, 1567, 1187, 590, 335, 180, 32, -296, -650, -1065, -1062, -1180, -1397, -1497, -1391, -1417, -1403, -1249, -1147, -994, -725, -421, -263, -147, 79, 433, 768, 924, 1052, 1206, 1392, 1520, 1590, 1620, 1531, 1365, 1182, 1029, 780, 466, 189, -110, -434, -717, -876, -1010, -1121, -1270, -1369, -1355, -1273, -1217, -1227, -1222, -1201, -1086, -995, -959, -1041, -1101, -1091, -972, -779, -470, -234, -29, 264, 915, 1359, 1160, 1145, 1762, 2422, 2159, 1796, 1673, 1718, 1753, 1663, 1230, 635, 454, 291, 159, -170, -545, -944, -981, -1094, -1333, -1368, -1292, -1330, -1484, -1404, -1200, -868, -752, -749, -598, -270, 27, 267, 547, 647, 801, 1115, 1435, 1538, 1477, 1467, 1496, 1576, 1344, 1045, 806, 692, 376, -3, -298, -508, -658, -899, -1087, -1255, -1238, -1270, -1276, -1356, -1352, -1309, -1205, -1107, -1094, -1102, -1101, -1041, -1016, -950, -761, -495, -358, -234, 114, 722, 1212, 1306, 1060, 1253, 1915, 2367, 2072, 1669, 1545, 1625, 1704, 1497, 1002, 579, 438, 251, 30, -241, -532, -788, -887, -1048, -1214, -1259, -1215, -1219, -1302, -1317, -1154, -859, -712, -666, -534, -272, 45, 304, 472, 586, 959, 1263, 1209, 1154, 1392, 1665, 1353, 1070, 944, 1073, 810, 425, 26, -95, -240, -527, -755, -933, -1030, -1227, -1212, -1273, -1299, -1401, -1322, -1259, -1197, -1172, -1146, -1133, -1101, -997, -874, -695, -481, -373, -210, 210, 814, 1097, 1145, 1155, 1360, 1719, 2120, 2112, 1715, 1484, 1563, 1628, 1378, 1082, 724, 470, 211, 80, -65, -243, -592, -907, -1006, -1009, -988, -1082, -1181, -1295, -1205, -1052, -861, -726, -671, -607, -402, -42, 348, 599, 537, 560, 875, 1339, 1349, 1089, 980, 1123, 1207, 947, 655, 448, 356, 90, -158, -386, -525, -714, -937, -1109, -1211, -1209, -1262, -1333, -1384, -1297, -1214, -1218, -1227, -1167, -1032, -905, -776, -656, -616, -352, 162, 624, 695, 735, 1028, 1407, 1682, 1712, 1715, 1700, 1794, 1659, 1521, 1384, 1259, 998, 710, 479, 299, 186, -104, -386, -607, -653, -777, -873, -998, -1052, -1076, -1059, -995, -938, -836, -804, -607, -302, -109, -114, 24, 385, 684, 789, 709, 765, 941, 1113, 963, 782, 700, 648, 520, 305, 110, -82, -240, -528, -702, -803, -872, -1065, -1153, -1210, -1216, -1211, -1167, -1173, -1163, -1104, -1028, -947, -761, -597, -519, -393, -168, 224, 680, 883, 704, 869, 1426, 1740, 1580, 1432, 1485, 1541, 1597, 1422, 1105, 950, 873, 689, 500, 361, 98, -91, -200, -344, -567, -693, -739, -807, -871, -999, -962, -826, -692, -786, -746, -540, -248, -134, -68, 83, 265, 440, 517, 655, 705, 683, 604, 666, 697, 590, 354, 174, 142, 49, -159, -435, -527, -584, -695, -880, -981, -922, -915, -975, -1001, -941, -897, -806, -814, -889, -765, -532, -279, -278, -271, -133, 318, 718, 761, 666, 809, 1132, 1295, 1519, 1708, 1924, 1367, 526, 580, 1634, 1775, 451, -520, -257, 635, 607, -166, -901, -638, -361, -376, -554, -658, -895, -985, -792, -632, -541, -597, -583, -476, -214, 14, 211, 337, 230, 225, 444, 737, 738, 593, 418, 400, 532, 567, 336, 72, -92, -176, -201, -311, -447, -499, -554, -731, -782, -706, -612, -650, -734, -769, -694, -296, -374, -411, -307, -262, 86, 16, 52, -16, 91, 313, 290, -46, 41, 320, 504, 307, 231, 287, 423, 544, 507, 593, 508, 548, 458, 317, 364, 311, 200, 185, 254, 156, 29, 58, 115, 24, -79, -156, -86, -134, -150, -229, -221, -234, -259, -294, -174, -73, -85, -173, -137, 83, 220, 238, 123, 160, 146, 227, 207, 81, 80, 72, 188, 217, -212, -466, 62, 138, -118, -168, -410, -555, -484, -227, -22, -350, -498, -309, -667, -558, 213, 289, -506, -550, 77, 235, -173, -524, -214, 405, 195, 15, -308, -549, 79, 614, 70, -416, -263, 476, 469, -46, -23, -28, 290, 418, 391, -17, 199, 549, 450, -9, -211, 245, 724, 539, 11, -184, 83, 301, 238, -14, -276, -65, 229, 207, -41, -206, -72, -17, -120, -199, 81, 301, 97, -298, -254, 237, 403, -86, -167, 44, -143, -88, 99, 176, -106, -252, -158, -7, 236, -187, -413, -80, 93, -236, -359, -170, -312, -25, -418, -269, 207, -83, -357, -487, 13, 470, 118, -277, -336, -132, -166, 512, 813, 2, -874, -627, 321, 779, 453, -543, -523, 344, 295, 234, -52, -184, -111, 158, 212, 127, -63, 50, 301, 183, 89, 44, 387, -107, -278, 314, 549, 309, -74, -142, 315, 215, 78, 151, 74, 62, -301, 50, 173, -153, -226, -44, -218, -443, 35, 274, 37, -67, 288, 190, -476, -267, 417, 404, -312, -359, 560, 22, -904, -248, 799, 398, -473, -516, -267, 136, 246, -71, 29, -279, -211, 108, 483, 251, -136, -159, 441, 298, -273, -369, 692, 433, -412, -672, -163, 52, -25, 72, -1, -314, 5, 93, -13, -544, -524, 24, 753, 272, -667, -471, -90, 285, 132, 477, -157, 108, 180, -273, -37, 533, -95, -218, 84, -23, -387, -177, 500, 426, -329, -620, -312, 633, 878, -93, -908, -500, 507, 609, -203, -747, 109, 1065, -117, -567, -289, 20, 455, 101, -586, -373, 129, 511, -28, -550, -566, 597, 749, -64, -457, -167, 327, 32, -515, 76, 683, 286, -371, -669, -243, 200, 778, 160, -714, -136, 324, 259, -157, -580, -95, 379, 306, 110, -509, -709, -308, 403, 605, 301, -463, -620, -285, 499, 153, 95, 326, -412, -867, 167, 1020, 136, -890, -584, 823, 1046, -747, -1142, 97, 763, 148, -163, -340, 3, -176, -80, 830, 42, -465, -368, 164, 8, -228, 166, 866, 364, -543, -908, 281, 609, 95, -245, -368, 369, 382, -26, -312, 259, 512, 106, -168, -123, -92, -499, -129, 542, 462, -480, -928, -116, 858, 493, -205, -306, 21, -227, 213, -6, -138, -127, 360, 164, -315, -792, 112, 694, 324, -719, -508, 457, 701, 29, -209, -162, 153, 88, -170, 677, 178, -111, -54, 95, 4, -21, -294, -702, 40, 828, 60, -342, -479, -303, 193, 933, 380, -750, -38, 192, -305, -91, 567, 653, -271, -1188, -384, 1243, 813, -353, -639, -11, -9, 196, 619, -39, -345, -444, 97, 508, 139, -1045, -463, 1167, 694, -654, -652, 196, 385, 450, -79, -44, 438, 149, -781, -200, 918, 572, -224, -575, -966, 264, 1090, 474, -292, -947, -767, 881, 921, 110, -442, -982, -93, 846, 496, -518, -748, 34, 470, 108, -474, -254, 441, -48, -475, -307, 66, 68, 87, -53, 80, -157, -110, -169, -217, 35, -49, 610, 169, -379, -632, 569, 554, 163, -547, -20, 247, 186, 298, 86, -187, -575, -193, 548, 276, -183, -574, -147, 647, 561, -282, -670, 556, -23, -476, -134, 667, 1080, -246, -1071, 118, 929, 605, -470, -128, 22, -143, 156, 153, -415, -57, 392, 163, -34, -831, -145, 398, 293, -145, -247, 494, -134, -577, -265, 608, 1086, -1, -440, -304, 63, 696, 80, 176, -335, 88, 192, -167, 34, 186, -208, -72, 186, 83, -357, 36, 248, 120, -411, -138, 457, 6, -375, -408, 648, 554, -401, -541, 119, 397, -93, 88, -813, -257, 212, 216, 27, -85, -240, 504, -369, 73, 7, 229, -434, 33, 191, -407, -1, 431, 169, -217, -454, 53, 168, 469, 615, -317, -455, 8, 277, 456, -503, -258, 704, -409, -744, 362, 686, -596, -36, 510, -281, -245, -41, 456, 53, -122, 193, -406, -271, 423, 409, -162, 18, -193, -795, -6, 417, 258, -122, 69, -275, -222, 2, 10, 498, 328, -274, -606, -84, 1014, 516, -735, -409, 320, 314, -166, 437, 165, -752, -249, 121, 79, -126, 658, -307, -921, 359, 1013, 183, -592, -174, 172, -132, 829, 68, -487, -695, 298, 265, -197, -186, 675, 370, -646, -883, 350, 790, 145, -833, -178, 277, 19, -8, -31, -66, -57, 273, -1, -71, -41, -476, 746, 626, -682, 351, 114, -256, -837, 34, 1437, 480, -1114, -850, 339, 809, 327, 46, -1306, -418, 620, 753, -114, -1640, 93, 1051, 481, -941, -673, 744, 1019, -501, -771, 362, 382, 132, -263, -660, 140, 575, 252, -472, -582, 84, 525, -557, -232, 59, 116, 216, -257, -300, 159, 125, -327, -615, -9, 599, 292, 15, -433, -489, 313, 478, -397, -121, 139, 427, -172, 48, -502, -234, 336, 438, -142, -340, -562, -346, 562, 269, 43, -343, -51, 432, 239, -139, -337, 102, 434, -546, -493, 678, 260, -556, -805, -144, 579, 130, 334, -277, -384, -265, 836, 291, -525, -203, -464, 208, 668, 320, -904, -487, 779, 328, -98, 83, 166, -119, -383, 2, 625, 544, -451, -618, -198, -93, 123, 657, -107, -108, 47, 165, -77, -190, 735, -14, 0, 323, -339, -349, 52, 289, 32, -392, -222, 394, -126, -411, -245, -337, 561, 711, -381, -604, 274, 532, 190, -658, -675, 711, 1031, -68, -1020, -203, 483, 311, 407, -472, -320, 544, 457, -388, -747, -62, 969, 349, -817, -648, 771, 653, -197, -788, -392, 288, 269, 462, -524, -173, 478, -382, -849, 557, 643, -62, -618, -141, -211, 410, 864, -751, -603, 262, 394, 266, -729, -1002, 270, 769, 222, -1070, -52, 416, 476, -101, -204, -31, 229, 302, -102, -249, 227, 239, 28, 183, -552, -319, 325, 364, 48, -352, -488, 435, 434, -768, 487, 477, 329, -723, -1029, 705, 1176, 99, -568, -720, 285, 752, 215, -861, -156, 745, 321, -360, -582, -67, 310, -156, 54, -179, 288, -105, -359, 272, 45, -127, -36, 201, -45, 144, -82, 391, 30, -417, 73, -128, 139, -85, 247, 228, 183, -878, -108, 446, 669, -321, -1216, 459, 1247, -269, -914, -552, 860, 113, -57, -469, -128, 210, -442, -371, 637, 563, -30, -462, 386, -422, -138, 641, 475, -751, -183, 295, 366, -181, -54, 3, -70, 45, -64, 170, -10, 273, -211, 79, -88, 379, 307, -110, -240, -79, 10, 804, -388, -688, 183, 502, -158, 101, -217, -585, 574, 428, -264, -555, 42, 93, 603, -199, -813, -41, 992, -564, -390, 3, 378, 555, -564, -807, -9, 742, 332, -282, -528, -569, 207, 542, 68, -943, -314, 369, 904, -718, -339, -223, 159, 625, 125, -371, -243, -28, 521, 389, -305, -450, 221, 532, -333, -664, 409, 549, -419, 316, -407, 136, 286, -338, 189, 414, -135, -977, 178, 985, -263, -303, -579, 371, 315, -590, 249, 803, -66, -898, 179, 861, -174, -329, 213, 615, -285, -318, 108, 19, -162, 53, 543, -326, -857, 308, 465, 135, -342, -69, 753, -55, -222, 108, 126, -206, 217, 647, -575, -1028, 144, 1183, 139, -764, -665, 308, 539, 59, -65, 474, 174, -199, -265, -50, -31, 526, 549, -379, -359, -1040, 612, 1387, -428, -1204, 36, 685, 282, -545, -128, -38, -6, 215, 65, -146, -255, 133, 250, -98, -85, -190, -206, 195, 21, -16, -215, 224, -62, -182, 115, -204, -18, 270, -369, -332, -248, 162, 758, 117, -991, 402, 504, -45, -128, -176, -168, 82, 245, 97, 1, -613, 90, 201, -297, -666, -70, 358, -7, -70, 108, -252, -341, -18, 442, 849, -458, -554, -78, 381, 213, -228, -419, 181, 317, 60, -753, 465, 176, -828, -309, 687, 581, -642, -490, 46, 262, -58, 27, 281, -43, -361, -400, 39, 227, 607, 192, -812, -12, 592, 352, 66, -276, -394, 493, 558, -406, -1047, 494, 1453, -31, -1366, -284, 731, 196, 72, -279, -35, 0, 431, -236, -265, -424, 475, 882, -869, -457, 261, 774, 258, -743, -644, 446, 823, -195, -827, -239, 481, 638, -54, -526, -150, 595, 558, -208, -254, -301, 207, 513, -807, -371, 225, 298, -398, 220, -490, -231, 1005, 275, -732, -399, 184, 345, 454, 178, -829, -303, 752, 108, -253, -206, -107, 449, -545, -451, 355, 592, 303, -159, -820, -337, 758, 782, -325, -529, -270, 398, 470, -92, -513, -355, 398, 342, -183, -112, -93, 323, -160, -92, 214, 254, -20, 29, -64, -94, -7, -90, 13, -149, -506, 375, 946, -780, -1003, 325, 1151, 481, -1296, -603, 1065, 575, -354, -599, 552, -124, -71, -529, -201, 344, 69, -320, -418, 571, 93, -991, -74, 916, 767, -720, -689, 479, 194, -39, 260, 471, -422, -309, 721, 322, -412, -487, 113, 574, 204, -822, -572, 930, 651, -236, -125, -10, -616, 157, 517, -171, -523, -376, 891, 394, -827, -723, 188, 796, 499, -406, -304, -194, -30, 182, 63, -329, -449, -124, 909, -303, -1072, -56, 1128, 273, -609, -1148, 583, 1090, 411, -647, -1377, 285, 1453, 126, -1471, -651, 1048, 710, -701, -644, 372, 609, 83, 11, -649, -409, 636, 711, -152, -923, -736, 795, 954, -255, -609, 406, 679, 183, -709, -310, 982, 1113, -671, -798, 238, 974, 187, -1048, -131, 443, -401, -294, 502, -234, -729, -279, 1562, -345, -991, 269, 362, 354, -38, -417, 444, -300, -360, -57, 341, -9, 777, 240, -1565, -136, 1309, 558, -1515, -877, 1023, 728, -819, -815, 192, 406, -699, 532, 454, -462, -495, 390, 919, -914, -492, 1080, 69, -707, -577, 550, 497, -471, -601, 379, 653, -44, -491, -168, 261, 10, 367, -414, -36, 261, 213, -213, -660, -599, 1048, 614, -170, -577, -232, 798, 472, -823, -32, 502, 379, -179, -121, 109, 113, 94, 13, -72, 1, 406, 51, 17, -282, -121, 447, 44, -377, 738, 145, -1018, 225, 953, -90, -869, -354, 585, 291, -855, -111, 862, -31, -898, 318, 392, -233, -494, 257, 617, -22, -891, 165, 740, 380, -658, -243, 398, 392, -384, -302, 328, 105, -134, -188, 119, 104, -391, 44, 472, -139, -581, 385, 559, -355, 21, 277, 123, 147, -164, 42, 265, 42, -219, -82, -110, -26, 50, -158, -129, -100, -424, 18, 495, -21, -326, 125, 287, 53, -188, 241, 344, 53, -398, -26, 496, 308, -451, -171, 228, -2, -427, 187, -31, -152, 195, -101, -155, 260, 315, -513, -159, 596, 162, -567, -242, 454, 193, -525, -64, 515, -123, -618, 22, 429, -417, -244, 188, 150, -577, -108, 217, -59, -355, -387, 222, 381, -53, -242, 55, 187, 171, 113, 82, -121, 140, 179, 15, -33, -164, 57, 153, -101, -126, 130, 52, -289, 91, 225, -238, -46, 378, 194, -445, -297, 175, 437, 197, -304, -315, 244, 67, -230, 0, 141, 23, -285, -150, 133, -72, 189, 190, -197, -170, 353, 460, -31, -273, -27, 246, 258, -207, -321, 285, 409, -219, -344, 10, 104, -79, 8, -211, -215, 183, 197, -272, -37, -65, 110, 150, -129, -92, 148, 119, 41, -116, 37, 121, 36, -29, -116, 36, 7, -58, 25, -101, -123, 213, 253, -257, -94, 150, 114, 168, -103, -255, 214, 9, -347, -63, 92, -246, -34, 74, -161, -181, 25, 65, -148, -26, 20, -37, -135, -8, 30, 180, 79, -72, -50, 117, -31, -82, 40, 83, -67, -42, -45, 33, -42, 145, 151, -66, -11, 136, 12, 38, -10, 102, 304, 227, -46, 73, 340, 271, -18, 72, 182, 130, 15, -51, -56, -67, -19, 60, 33, -85, -5, 138, 112, -34, 6, 142, 5, -201, -66, -18, -191, -335, -115, -32, -164, -307, -203, -3, -176, -355, -250, -96, -157, -283, -202, -273, -275, -252, -121, -148, -201, -138, -34, -83, -234, -141, 55, 62, -112, -34, 238, 333, 234, 189, 285, 409, 463, 338, 345, 435, 494, 464, 314, 238, 216, 280, 235, 129, 138, 207, 174, 99, 116, 130, 98, 28, 44, -12, -53, -30, -37, -112, -163, -150, -169, -208, -198, -202, -222, -219, -202, -266, -311, -303, -298, -310, -376, -364, -298, -258, -308, -346, -295, -333, -395, -400, -364, -378, -420, -444, -457, -337, -208, -88, -5, 115, 276, 524, 577, 658, 761, 870, 790, 668, 700, 701, 570, 441, 444, 427, 363, 373, 399, 408, 372, 292, 206, 249, 315, 187, 50, 4, -13, -100, -172, -202, -240, -261, -259, -282, -333, -303, -234, -235, -289, -340, -362, -352, -300, -288, -312, -300, -312, -386, -397, -353, -337, -373, -428, -487, -530, -546, -520, -534, -647, -693, -517, -297, -333, -320, 168, 755, 745, 370, 485, 1052, 1272, 1007, 807, 802, 721, 570, 528, 454, 273, 243, 381, 358, 145, 111, 358, 534, 403, 161, 101, 219, 212, 30, -105, -81, -152, -319, -415, -404, -375, -352, -308, -315, -317, -257, -155, -109, -141, -168, -195, -208, -275, -340, -309, -213, -258, -399, -481, -429, -428, -467, -530, -571, -628, -716, -746, -736, -618, -440, -224, -122, 41, 377, 710, 914, 915, 960, 1030, 1107, 975, 752, 688, 683, 589, 338, 216, 155, 141, 127, 164, 167, 130, 143, 146, 157, 154, 143, 87, 78, 45, -59, -138, -150, -148, -215, -254, -318, -318, -272, -201, -182, -161, -114, -69, -55, -43, -29, -25, -57, -124, -241, -295, -312, -391, -480, -454, -397, -489, -627, -653, -641, -672, -735, -761, -772, -644, -425, -246, -163, 33, 498, 923, 1018, 870, 869, 1095, 1190, 1001, 728, 658, 639, 477, 258, 141, 140, 149, 131, 80, 21, 15, 75, 131, 106, 51, 36, 66, 64, -44, -170, -163, -42, -51, -192, -311, -263, -142, -86, -85, -93, -73, -50, -14, 35, 47, 45, 13, -24, -106, -169, -206, -228, -301, -411, -485, -490, -471, -515, -568, -570, -585, -699, -836, -833, -710, -565, -441, -283, -108, 62, 306, 688, 998, 1016, 842, 859, 1056, 1101, 841, 612, 595, 597, 398, 148, 50, 89, 169, 149, 16, -116, -82, 30, 72, 26, 7, 29, 20, -37, -127, -161, -130, -79, -125, -192, -191, -138, -109, -85, -41, -4, 25, 28, 6, -15, 35, 85, 47, -63, -131, -135, -158, -226, -286, -330, -363, -409, -475, -541, -539, -477, -492, -650, -771, -693, -546, -474, -429, -272, -73, 68, 210, 470, 753, 881, 799, 713, 777, 890, 808, 596, 525, 552, 444, 198, 84, 109, 115, 57, 48, 21, -48, -116, -44, 9, 6, -34, -16, -23, -82, -148, -156, -114, -78, -113, -167, -163, -68, -20, -45, -71, 4, 65, 26, -28, -16, 45, 33, -8, -85, -115, -140, -140, -154, -202, -234, -247, -259, -300, -319, -329, -326, -325, -334, -382, -431, -403, -332, -279, -234, -157, -66, 28, 184, 377, 437, 408, 409, 542, 603, 513, 377, 357, 398, 354, 226, 140, 142, 159, 131, 93, 60, 24, 38, 57, 54, 19, 24, 40, 23, -23, -54, -54, -58, -62, -76, -102, -116, -97, -59, -47, -56, -57, -47, -43, -43, -44, -32, -28, -13, -30, -60, -82, -65, -36, -48, -66, -91, -99, -124, -137, -153, -168, -182, -214, -245, -278, -306, -298, -287, -265, -262, -237, -188, -143, -78, -24, 44, 66, 119, 197, 267, 290, 289, 358, 403, 387, 332, 347, 364, 336, 309, 292, 240, 169, 151, 156, 107, 71, 78, 74, 11, -36, -46, -54, -81, -90, -85, -102, -98, -98, -86, -100, -82, -37, -42, -65, -95, -64, -65, -58, -50, -30, -50, -75, -76, -72, -78, -82, -67, -93, -129, -153, -148, -160, -174, -172, -188, -225, -258, -264, -274, -282, -261, -244, -239, -210, -146, -77, -7, 81, 154, 217, 255, 303, 345, 405, 435, 416, 393, 382, 379, 339, 325, 282, 233, 178, 156, 117, 85, 72, 64, 30, -15, -54, -72, -104, -114, -118, -118, -146, -136, -103, -92, -101, -89, -41, -59, -65, -63, -48, -60, -55, -36, -42, -48, -45, -28, -53, -69, -54, -42, -56, -82, -81, -99, -125, -140, -131, -154, -177, -192, -207, -254, -280, -271, -265, -249, -239, -190, -156, -91, -9, 57, 139, 188, 258, 274, 314, 369, 401, 391, 363, 366, 351, 321, 309, 267, 216, 160, 158, 116, 82, 64, 62, 30, -21, -50, -65, -97, -114, -101, -109, -139, -138, -81, -78, -90, -67, -40, -53, -74, -40, -49, -61, -55, -22, -40, -61, -34, -22, -43, -66, -43, -48, -70, -79, -74, -98, -124, -117, -117, -141, -167, -163, -174, -219, -245, -243, -264, -272, -237, -211, -184, -139, -46, 13, 46, 130, 207, 273, 269, 349, 383, 379, 354, 360, 374, 327, 332, 301, 246, 158, 155, 154, 112, 77, 76, 57, -11, -39, -45, -64, -100, -97, -87, -128, -156, -118, -71, -80, -79, -45, -40, -70, -59, -32, -52, -62, -27, -17, -50, -60, -22, -29, -49, -53, -31, -59, -80, -76, -80, -108, -123, -103, -111, -145, -158, -150, -173, -211, -215, -231, -259, -272, -223, -214, -191, -132, -45, 0, 28, 141, 196, 261, 261, 348, 372, 353, 354, 352, 370, 309, 343, 305, 243, 158, 170, 165, 112, 87, 78, 54, -17, -28, -39, -75, -98, -92, -85, -140, -148, -121, -69, -68, -61, -36, -45, -62, -54, -17, -40, -57, -31, -23, -56, -66, -24, -17, -47, -47, -40, -64, -87, -69, -74, -105, -124, -104, -117, -149, -156, -143, -159, -199, -209, -226, -258, -270, -233, -210, -209, -153, -80, -15, 2, 91, 172, 228, 260, 308, 376, 358, 364, 357, 367, 333, 333, 337, 279, 205, 162, 175, 130, 99, 88, 78, 16, -28, -34, -69, -96, -109, -82, -126, -152, -129, -92, -82, -77, -27, -48, -48, -49, -19, -50, -58, -37, -20, -28, -45, -25, -33, -42, -48, -35, -55, -62, -59, -68, -106, -116, -99, -97, -115, -136, -138, -157, -181, -173, -189, -209, -230, -239, -239, -243, -201, -152, -87, -46, -3, 55, 125, 192, 243, 294, 340, 363, 366, 351, 336, 337, 343, 343, 297, 233, 182, 164, 151, 120, 102, 77, 48, 5, -25, -55, -85, -93, -87, -103, -132, -138, -96, -89, -75, -60, -37, -44, -44, -34, -53, -62, -55, -10, -20, -28, -36, -25, -48, -56, -38, -45, -52, -69, -68, -107, -116, -100, -81, -101, -124, -127, -138, -159, -171, -162, -184, -215, -237, -241, -247, -234, -183, -126, -89, -53, 10, 74, 135, 202, 260, 299, 330, 373, 364, 350, 341, 357, 347, 335, 295, 245, 202, 175, 158, 123, 107, 79, 64, 10, -34, -63, -86, -94, -99, -112, -124, -137, -112, -95, -75, -68, -46, -24, -46, -56, -69, -58, -47, -16, -14, -38, -45, -50, -44, -63, -50, -49, -52, -75, -98, -104, -107, -93, -86, -97, -124, -132, -130, -135, -146, -146, -150, -178, -215, -231, -242, -232, -192, -144, -106, -89, -29, 32, 95, 143, 216, 272, 303, 346, 353, 357, 323, 349, 362, 352, 331, 289, 250, 192, 183, 161, 148, 114, 97, 59, 3, -34, -51, -63, -85, -87, -120, -145, -155, -124, -107, -88, -53, -53, -72, -92, -77, -73, -51, -39, -35, -59, -71, -55, -52, -55, -55, -52, -69, -97, -95, -94, -87, -82, -73, -86, -109, -110, -107, -113, -118, -116, -123, -147, -175, -182, -194, -205, -200, -176, -167, -142, -86, -39, 7, 47, 101, 146, 217, 277, 327, 336, 335, 330, 332, 352, 358, 353, 315, 274, 223, 192, 171, 167, 159, 130, 93, 38, -5, -32, -33, -57, -65, -83, -137, -156, -160, -132, -116, -76, -62, -102, -101, -116, -68, -77, -37, -50, -48, -77, -85, -77, -89, -67, -59, -57, -103, -109, -96, -85, -81, -65, -68, -81, -93, -105, -101, -102, -88, -82, -93, -124, -142, -142, -161, -167, -159, -148, -151, -124, -87, -53, -20, 37, 90, 116, 168, 221, 285, 294, 322, 337, 328, 309, 330, 356, 324, 289, 271, 244, 205, 188, 187, 158, 112, 91, 67, 12, -33, -35, -55, -106, -128, -127, -151, -172, -156, -135, -126, -120, -90, -90, -105, -109, -87, -84, -93, -91, -74, -95, -104, -88, -69, -78, -66, -55, -61, -79, -72, -69, -68, -70, -66, -70, -80, -87, -69, -61, -71, -77, -133, -268, -268, -117, -51, -120, -179, -199, -230, -98, 94, 95, 66, 103, 256, 309, 317, 329, 368, 435, 374, 301, 263, 370, 379, 332, 272, 254, 260, 186, 149, 115, 164, 154, 80, -75, -192, -160, -44, -36, -141, -178, -111, -91, -138, -143, -109, -32, 6, -30, -145, -190, -107, -16, -54, -141, -166, -118, -116, -195, -224, -123, -43, -72, -168, -201, -82, -9, -80, -115, -71, -17, -69, -176, -190, -105, -74, -142, -227, -301, -318, -316, -317, -327, -312, -274, -218, -146, -26, 188, 407, 577, 604, 536, 440, 483, 589, 626, 521, 430, 370, 288, 145, 37, 71, 138, 216, 143, 39, -48, 31, 148, 155, 77, 51, 117, 116, 24, -55, -14, 81, 64, -49, -162, -163, -98, -72, -109, -153, -162, -189, -261, -306, -268, -183, -124, -144, -178, -195, -124, -51, -8, -11, -36, -49, -91, -157, -126, -9, -34, -187, -188, -193, -123, -218, -363, -191, -39, -192, -418, -384, -289, -394, -426, -313, -180, -210, -299, -194, 44, 227, 229, 311, 512, 644, 544, 435, 475, 573, 561, 434, 313, 225, 199, 170, 111, 84, 160, 273, 297, 235, 214, 273, 339, 348, 336, 289, 259, 186, 90, 6, 46, 82, -18, -201, -242, -175, -170, -249, -257, -199, -188, -260, -300, -308, -259, -212, -193, -256, -292, -231, -103, -187, -362, -221, -66, -112, -139, -110, -48, 29, 29, -100, -215, -261, -225, -360, -533, -500, -344, -412, -549, -432, -169, 119, 334, 402, 130, -153, 51, 690, 1067, 772, 208, 46, 320, 421, 181, -14, 0, 89, 59, -10, -79, -34, 178, 433, 468, 217, 173, 356, 456, 315, 243, 300, 255, 118, -48, -157, -108, 127, 263, 58, -225, -222, 15, 84, -6, -27, 56, 4, -117, -158, -87, 1, 46, -44, -209, -256, -194, -149, -199, -296, -361, -387, -382, -398, -440, -450, -378, -297, -254, -216, -191, -305, -443, -378, -235, -263, -462, -588, -642, -669, -579, -284, -6, -31, -181, -92, 309, 792, 888, 738, 696, 944, 1001, 763, 495, 505, 564, 401, 127, -44, -70, 36, 154, 201, 106, 138, 345, 470, 414, 341, 387, 382, 255, 39, -66, -59, -21, -106, -244, -355, -315, -232, -174, -188, -152, -98, -76, -63, -83, -84, -44, 13, -39, -151, -201, -224, -237, -268, -291, -327, -340, -329, -340, -372, -346, -269, -213, -254, -267, -301, -463, -629, -579, -474, -634, -856, -820, -575, -385, -353, -309, -95, 296, 683, 910, 932, 1018, 1264, 1312, 994, 689, 653, 621, 436, 128, -97, -163, -124, -98, -45, 59, 229, 390, 417, 349, 430, 535, 556, 382, 162, -57, -76, -75, -204, -292, -218, -174, -250, -302, -236, -72, 21, 40, 25, 34, 15, 37, 83, 28, -18, -22, -42, -191, -249, -272, -299, -345, -405, -449, -494, -490, -489, -429, -358, -334, -332, -391, -470, -499, -517, -657, -820, -825, -669, -525, -504, -513, -189, 273, 520, 612, 917, 1301, 1518, 1512, 1164, 815, 741, 630, 376, 97, -86, -231, -184, -266, -280, -31, 259, 376, 494, 447, 374, 470, 603, 424, 260, 117, -11, -126, -230, -358, -298, -193, -156, -124, -118, -190, -140, 72, 121, 103, 63, 51, 44, 32, 6, 8, 42, -64, -200, -298, -367, -391, -373, -440, -510, -559, -523, -478, -389, -367, -328, -337, -423, -499, -549, -684, -801, -797, -754, -732, -518, -262, -271, -263, 160, 850, 1191, 1366, 1582, 1663, 1382, 1114, 875, 709, 448, 190, -124, -371, -569, -548, -302, -143, -32, 176, 354, 443, 626, 724, 598, 556, 518, 295, 2, -173, -305, -291, -181, -246, -406, -450, -314, -79, 134, 168, 126, 162, 216, 241, 227, 182, 155, 109, 19, -174, -257, -267, -255, -313, -435, -573, -609, -547, -474, -442, -412, -367, -339, -325, -423, -523, -572, -429, -417, -663, -1045, -1108, -875, -588, -400, -206, -38, 162, 606, 1376, 1877, 1854, 1688, 1531, 1248, 889, 588, 291, 44, -197, -490, -688, -797, -697, -290, 145, 275, 351, 508, 536, 561, 602, 573, 507, 549, 301, -115, -394, -456, -416, -330, -249, -340, -313, -251, -81, 114, 291, 382, 502, 492, 289, 150, 189, 171, 105, -62, -230, -373, -384, -414, -418, -433, -436, -441, -488, -547, -491, -325, -220, -213, -302, -365, -354, -459, -641, -774, -811, -818, -942, -1005, -974, -655, -414, -203, 124, 574, 1276, 1738, 2096, 2016, 1792, 1480, 1109, 759, 359, 101, -326, -663, -863, -991, -913, -657, -301, 27, 388, 515, 610, 730, 762, 714, 714, 611, 319, 78, -204, -417, -493, -506, -371, -120, -350, -550, -339, 285, 385, 354, 302, 439, 595, 547, 330, 237, 152, 99, -21, -181, -480, -508, -369, -316, -450, -517, -453, -347, -313, -353, -335, -257, -157, -154, -238, -427, -474, -436, -477, -680, -875, -950, -1040, -1181, -1281, -1045, -563, -182, 20, 338, 1095, 1878, 2502, 2575, 2205, 1515, 1190, 968, 602, 54, -486, -812, -1053, -1199, -1408, -1154, -603, -28, 345, 543, 577, 653, 859, 959, 867, 725, 500, 317, 23, -310, -579, -635, -575, -549, -609, -556, -504, -191, 106, 293, 519, 1275, 1385, 744, 285, 234, 631, 460, 109, -468, -506, -557, -677, -703, -605, -477, -169, 36, -82, -285, -129, 141, 208, -72, -236, -350, -271, -295, -448, -645, -651, -711, -788, -1099, -1298, -1379, -1174, -1052, -1030, -770, -475, 146, 653, 1335, 1985, 2632, 2896, 2411, 1763, 1183, 982, 539, 94, -534, -1069, -1360, -1492, -1506, -1321, -848, -350, 203, 533, 580, 686, 928, 1146, 1147, 1096, 817, 509, 166, -145, -464, -671, -726, -722, -747, -813, -804, -662, -330, 1, 240, 428, 798, 1007, 1023, 1149, 1042, 784, 449, 345, 143, -146, -512, -823, -878, -845, -782, -679, -459, -236, -9, 186, 315, 359, 378, 406, 253, 11, -180, -255, -347, -469, -731, -885, -898, -995, -1156, -1364, -1367, -1344, -1300, -1302, -1019, -282, 207, 673, 1044, 1500, 1926, 2616, 2740, 2146, 1663, 1220, 812, 307, -141, -852, -1161, -1240, -1442, -1461, -1264, -967, -486, 167, 430, 513, 765, 1020, 1153, 1206, 1164, 934, 731, 436, 63, -332, -585, -739, -782, -837, -921, -937, -788, -550, -294, -40, 173, 405, 560, 658, 712, 1051, 1464, 1382, 1057, 476, 137, -149, -318, -599, -797, -874, -940, -942, -862, -679, -280, 190, 518, 562, 511, 491, 488, 347, 191, -50, -304, -503, -622, -878, -1073, -1059, -1020, -1089, -1335, -1564, -1659, -1521, -1176, -799, -338, 182, 727, 1205, 1681, 2367, 2839, 2575, 2208, 1896, 1427, 765, 332, -235, -820, -1085, -1379, -1630, -1635, -1506, -1219, -620, -188, -26, 351, 731, 921, 1135, 1386, 1346, 1223, 1115, 840, 387, 13, -264, -504, -692, -896, -1047, -1100, -1042, -895, -629, -394, -165, 94, 388, 576, 706, 847, 1138, 1553, 1518, 1035, 433, 111, -74, -228, -474, -752, -870, -884, -907, -888, -716, -339, 132, 452, 471, 341, 301, 359, 335, 188, -27, -241, -411, -546, -766, -918, -943, -873, -944, -1178, -1439, -1605, -1512, -1270, -872, -466, -71, 438, 951, 1515, 2131, 2590, 2499, 2260, 1978, 1627, 1200, 824, 191, -325, -704, -1099, -1477, -1595, -1635, -1456, -1022, -719, -549, -251, 82, 369, 744, 1066, 1185, 1269, 1289, 1146, 883, 629, 347, 131, -79, -352, -662, -859, -980, -992, -928, -813, -634, -426, -227, -19, 128, 391, 657, 1059, 1305, 1314, 1042, 732, 571, 391, 208, -65, -272, -476, -629, -768, -803, -699, -461, -175, -7, 2, 4, 72, 134, 117, 56, -53, -186, -285, -384, -492, -607, -605, -623, -758, -942, -1152, -1262, -1332, -1266, -1229, -890, -520, -122, 260, 772, 1202, 1904, 2314, 2236, 1974, 1899, 1681, 1359, 1078, 565, 116, -247, -628, -1003, -1227, -1383, -1332, -1054, -953, -929, -746, -481, -257, 75, 381, 600, 764, 951, 990, 914, 789, 703, 635, 523, 318, 73, -140, -312, -469, -548, -603, -582, -517, -455, -399, -384, -80, 150, 396, 583, 686, 665, 642, 588, 503, 445, 382, 255, 132, -37, -207, -223, -212, -194, -181, -165, -201, -266, -323, -367, -425, -444, -455, -514, -542, -524, -537, -540, -488, -400, -437, -513, -556, -702, -768, -896, -901, -737, -530, -305, -88, 169, 375, 789, 1302, 1606, 1610, 1573, 1497, 1406, 1197, 1026, 741, 526, 330, 54, -272, -585, -796, -836, -739, -767, -815, -765, -708, -650, -497, -336, -189, 13, 233, 329, 362, 396, 434, 496, 565, 555, 512, 469, 393, 309, 257, 187, 91, 72, 63, -49, -11, -21, 36, -79, -91, -129, -116, -94, -110, -83, -72, -20, 16, 48, 73, 98, 159, 220, 188, 157, 113, 64, -34, -135, -254, -371, -455, -528, -566, -582, -555, -541, -503, -481, -437, -517, -535, -564, -618, -624, -707, -712, -502, -382, -276, -202, -30, 117, 410, 692, 910, 1151, 1209, 1185, 1253, 1135, 985, 890, 808, 630, 518, 309, -4, -198, -346, -474, -514, -553, -612, -596, -591, -630, -600, -519, -437, -309, -163, -76, -13, 66, 156, 236, 334, 415, 488, 562, 598, 565, 518, 475, 428, 441, 380, 286, 244, 133, -17, -153, -235, -286, -294, -290, -361, -352, -360, -320, -245, -181, -79, 28, 89, 106, 95, 108, 104, 127, 111, 127, 52, -34, -75, -156, -208, -197, -235, -259, -305, -380, -377, -346, -496, -511, -358, -526, -491, -381, -626, -420, -452, -379, -260, -256, -205, -98, 20, 201, 302, 507, 565, 672, 801, 764, 715, 702, 682, 659, 602, 571, 362, 318, 130, -9, -55, -145, -189, -197, -217, -315, -387, -336, -407, -364, -264, -231, -178, -129, -82, -49, -1, 70, 123, 203, 266, 293, 323, 337, 338, 345, 384, 361, 299, 213, 149, 70, 3, -41, -97, -127, -169, -225, -238, -198, -271, -260, -137, -194, -53, 7, -30, 69, -198, 33, 169, -190, 371, -174, -80, -48, -201, 51, -100, -136, 177, -510, -5, -162, -396, -3, -312, -108, -213, -195, -109, -283, -51, -33, -271, 48, -142, -125, -90, -142, -66, -121, -74, -11, -87, 91, 146, -2, 101, 237, 96, 341, 227, 287, 218, 325, 204, 193, 236, 222, 100, 266, 206, 27, 169, 114, 40, 83, 42, 38, -57, 47, -55, -93, -6, -80, -51, -22, -34, 0, -47, 24, -75, -17, 23, -47, 133, -3, 14, 1, 120, -211, 110, -53, -22, -28, 16, -3, -85, -216, 22, -175, -116, 136, -100, -128, 8, -137, -60, -59, 15, -300, 201, -136, -82, -47, 170, -412, 272, -66, 157, -178, 226, 17, -123, 226, 66, -268, 96, -15, -130, 77, -378, 79, -148, -171, 483, -542, 410, 72, -516, 501, -246, -23, 165, -12, -109, 130, -253, 143, -268, -18, 186, -144, 44, 155, -90, -262, 360, -429, 307, -150, 85, -108, 176, -216, 83, -101, -67, 163, -154, 314, -418, 271, -210, 20, 7, -131, 52, -163, 168, 164, -302, 205, -41, 45, 127, 129, -318, 413, -249, -56, 329, -516, 324, -60, -366, 615, -703, 507, -224, -19, 217, -117, -129, 444, -429, 216, 122, -285, 293, -7, -92, 326, -325, 280, -16, -249, 449, -520, 543, -231, 69, 300, -535, 843, -881, 715, -456, 133, 253, -452, 313, -107, -13, 58, -128, -158, 284, -334, 283, 30, -117, 259, -195, 90, 34, -76, 279, -84, -40, 65, -80, 95, -73, 220, -191, 12, 167, -244, 390, -531, 523, -431, 223, -152, 47, 212, -256, 247, 166, -318, 353, -330, 123, -26, 9, -68, 44, -48, -21, -33, -43, 220, -446, 510, -455, 351, -154, 134, -170, 268, -432, 756, -959, 841, -490, 77, 93, -152, -107, 241, -418, 207, -67, -74, 112, -240, 290, -212, 120, 90, -255, 346, -263, -74, 266, -317, 230, -101, 79, -79, -77, 224, -357, 271, -13, -266, 432, -470, 416, -445, 269, -272, 411, -391, 613, -676, 521, -328, 28, 5, 13, -59, 159, 10, -133, 239, -136, 48, -21, 7, -99, 57, 119, -73, -38, 50, 223, -430, 387, -50, -445, 719, -872, 696, -481, 333, -278, 231, -103, -6, -28, 27, -107, 97, -58, -130, 224, -190, 152, -55, -31, 14, 41, -129, 334, -489, 387, -312, 108, -55, 258, -392, 424, -342, 382, -148, -161, 455, -508, 339, -156, -46, 76, 115, -402, 519, -410, 115, 104, -180, 505, -661, 722, -397, -32, 308, -285, 44, 231, -478, 624, -608, 286, 191, -688, 680, -286, -392, 881, -1078, 894, -407, -294, 891, -1230, 1177, -830, 246, 450, -720, 725, -410, -158, 559, -724, 536, -212, -237, 576, -677, 306, 292, -773, 1093, -1071, 706, -76, -509, 799, -799, 438, 114, -616, 674, -424, -109, 540, -681, 717, -553, 257, 22, -87, 17, 151, -402, 552, -515, 354, -107, -278, 629, -755, 537, -307, -77, 219, -188, -98, 443, -742, 990, -1097, 832, -398, 7, 250, -258, 17, 348, -333, 112, 14, -146, 125, -109, 44, 113, -211, 148, 194, -508, 442, -208, -127, 433, -586, 682, -571, 230, 190, -309, 16, 395, -550, 535, -445, 467, -166, -101, 345, -359, 115, 99, -175, -85, 458, -741, 903, -922, 811, -322, -288, 657, -605, 82, 543, -869, 829, -304, -215, 556, -710, 524, -230, -214, 633, -726, 539, -41, -348, 575, -436, -20, 317, -375, 302, 2, -198, 341, -365, 226, 66, -374, 427, -220, 209, -34, -100, 8, 100, -235, 257, -228, 140, 100, -296, 345, -350, 286, -192, 174, -240, 248, -224, 259, -419, 261, -36, -291, 401, -297, 56, 325, -427, 351, -339, 146, -22, -115, 71, 188, -324, 317, -231, 64, 199, -185, 290, -359, 303, -129, -190, 58, 67, -281, 340, -303, 431, -199, -5, 279, -485, 488, -225, -150, 306, -198, -272, 702, -1008, 812, -585, 290, 113, -357, 303, -145, 68, 186, -330, 306, 81, -248, 248, -56, 60, -113, 196, -70, -366, 584, -332, 68, 130, -42, -85, 7, -97, 110, -104, 123, -258, 270, -175, 380, -391, 352, -35, -349, 575, -774, 363, -17, -57, 75, 158, -94, -2, 60, -139, 92, -55, -3, -52, 232, -195, 74, -45, 77, -152, 68, -15, 10, -64, 45, -58, 139, -296, 246, 141, -439, 572, -428, 43, 246, -575, 452, -257, 24, -14, 161, 11, -74, 476, -535, 318, 33, -239, 49, 2, -49, 27, 173, -5, -207, 431, -354, 203, -437, 205, -376, 498, -247, 136, 216, -390, 164, 339, -616, 217, -251, -77, 272, -235, -113, 352, 39, -126, 223, -54, -227, -62, 156, -239, -51, 142, -102, 172, -18, 119, -209, 35, -138, -1, 142, -400, 356, -109, -72, 475, -265, -126, 85, -210, 112, 38, -156, 162, -193, 135, 24, 30, 265, -85, 34, 183, -317, 166, -38, -2, 161, -91, -10, 51, -167, 32, 70, -180, -1, 41, 33, 24, -58, -129, 19, -76, 46, 52, -52, 33, 52, -66, 53, -70, 85, -8, -24, -61, -29, -47, 36, 85, -6, 121, -31, -40, 42, -57, -24, 94, -147, 134, 62, 16, -6, -16, 26, -50, 122, -126, 190, -104, 51, 50, -149, 121, -139, 9, -16, -37, 47, 32, 70, 66, 48, 8, 13, -18, -48, -47, -53, -14, 10, 36, 59, 57, 46, 35, 18, -8, 17, -26, -4, 19, -15, 30, 6, 22, 24, 25, 12, 2, -14, -22, -24, -14, -2, 10, 13, 32, 27, 37, 16, 20, -9, 7, -38, 13, -29, 36, -21, 74, -85, 109, -90, 53, -13, -16, -29, 34, -79, 69, -65, 54, -30, 44, -22, 37, -2, 6, 22, -14, 20, -5, 11, 0, 23, -6, 20, 8, 4, 11, -6, -2, -13, -4, -9, 4, -7, 5, 8, 13, -1, 15, 4, -16, -34, 8, -10, 6, 19, 54, 5, 57, 5, 3, -13, -31, -29, -24, -21, -10, 34, 4, 36, 20, 17, -5, 2, -29, -13, -21, -13, 0, 12, 13, 23, 17, 6, 6, -13, -11, -14, -16, 0, -5, 12, 14, 10, 13, 2, 1, -5, -12, -6, -3, -5, 5, 12, 9, 9, 7, -3, 2, -7, -3, -5, -2, -1, 8, 5, 8, 4, 2, -1, -5, -2, -4, 4, -3, 3, 7, 5, 6, 4, 2, -1, -1, -1, 8, -6, -7, 19, -19, 8, -4, 3, -8, 18, -15, 14, -3, 1, -5, 4, -9, 4, -3, -3, 0, 1, -3, 5, 0, 4, 0, 0, -1, -3, -2, -1, 1, -1, -1, -3, -1, -4, -4, 3, 0, -1, 2, -4, 2, 0, -1, 3, -3, 0, 1, -3, 1, -1, -2, 3, -2, -1, 0, -2, -2, 0, -3, 1, 2, -2, 1, 0, -4, 1, -5, 0, 1, -4, -3, -1, -3, 1, -1, 0, -4, -2, -2, -3, 0, -4, -1, -1, 2, -3, -2, 0, 1, -2, -2, -4, 0, -1, -2, -2, -1, -5, -1, -2, 0, -4, 0, -2, -2, -1, -1, -2, -1, -2, -3, -5, -3, -2, -1, -1, -1, -1, -2, -1, -3, -4, 0, -2, -2, -2, 0, 3, -2, 2, 0, 0, -2, -2, 1, 1, -4, 1, 5, 1, 0, 3, -5, -1, 2, -2, -1, -4, 0, -1, 0, 4, 3, 2, 3, 0, 3, -1, -3, -3, -2, -1, -1, 2, -2, -1, 2, 2, 0, -5, -3, -2, -3, -1, 0, 2, 0, 3, 5, 3, 2, 2, -3, 0, -3, -1, -2, 1, -2, 2, -2, 3, -6, 1, 0, 14, -29, 22, -5, 0, 3, -4, 15, -17, 21, -11, 2, -3, -1, -2, -3, 3, -3, 1, 4, 3, 1, -1, 0, 0, 4, 0, 1, 0, 0, 0, 1, -1, 1, 2, 1, 0, 0, -1, 0, -2, 2, 1, 2, 0, 3, 1, 0, 2, 0, -2, 1, 2, 1, 2, 3, 2, 2, 0, 2, 3, 3, 4, 0, 0, 0, -3, -3, -3, -1, -2, -1, 0, 2, 4, 1, 3, 6, 5, 4, 4, 1, -2, 1, 2, -6, -1, 1, 1, 4, 3, 9, 3, 6, 3, 0, 0, 0, 3, 3, 0, 2, 1, 5, 1, 2, 3, 2, -2, -1, -1, -4, -3, 0, 4, 8, 8, 7, 9, 2, 3, 0, -4, 0, -3, 1, 3, 1, 0, 4, 4, 3, 1, 0, 3, 0, 0, 4, 2, 0, 4, 3, 4, 1, 3, 3, 0, 3, -1, 3, 2, 1, 6, -1, -2, -1, 2, 3, -1, -2, -5, 3, 1, 4, 10, 1, 10, 1, -1, 0, 0, 2, 1, 3, 3, 1, 2, 2, 2, 2, 4, 4, 2, 4, 2, 1, 1, 2, 4, 1, -1, 0, 3, 4, 3, 3, 1, 1, 3, 2, 1, -1, 2, 4, 1, 4, 3, 1, 2, -1, -1, 0, -1, -2, 1, -2, 0, -1, 3, 1, 2, 1, 3, 3, 0, 5, 0, -1, -3, -2, 1, 0, 1, -1, -1, -1, -2, 1, 3, 3, -1, 0, 4, -1, 0, 1, 4, 7, 4, 3, 0, 2, 3, -2, -1, 0, 3, -1, 3, 4, 4, 5, 4, 2, 1, -1, 1, 3, 2, 2, 2, 2, 3, 2, 1, -1, 1, -3, -6, -6, 16, 7, -8, -2, 6, 0, 0, 5, 11, 1, 0, 4, -4, 3, 0, 4, 2, 2, 5, 1, 8, -8, 7, -4, 3, 1, 1, 4, 1, 0, 1, -4, 5, 1, 11, 0, 1, 0, -1, 2, 0, -1, 4, 1, 2, 1, 2, 1, 5, -1, 2, 1, 3, -11, 8, -5, 2, 2, 2, -1, 2, -3, -2, -4, 2, -5, 0, 3, 3, 1, 2, 3, -1, -1, 0, -1, 1, -4, -1, -2, 2, 3, 2, 5, 2, 3, -1, -4, 0, -4, -3, 1, 2, 3, 1, 3, 2, -1, -8, 2, -3, -7, 0, 4, 9, -4, 10, 10, -2, 0, 0, 2, -5, -3, -4, -5, 0, 0, 3, 3, 5, 6, -2, 1, -3, -4, -2, 1, -3, 2, 1, 2, 0, -1, -2, 2, 2, -5, -5, -1, -2, -6, -1, 4, 2, 1, 10, 3, -2, -1, -4, -2, 1, 2, -2, -3, 3, -1, -1, -4, 1, -3, 1, -5, -3, -5, 5, 1, 5, -3, 9, -2, 4, -9, -3, -23, 56, -42, 32, -22, 14, 14, -30, 41, -56, 55, -26, 16, -23, 20, -9, -10, 10, -5, 2, 0, 10, -7, -1, 4, 0, 26, 54, -6, -1, -29, -15, -45, -3, -4, 19, 11, 15, -4, -17, -20, -17, -6, 11, 26, 20, 16, -1, -3, -16, -7, 2, 32, 29, 33, -6, -5, 25, 41, 12, 166, 291, 1099, 902, 219, -128, -506, -1019, -873, -446, -16, 222, 437, 407, 19, -308, -376, -474, -223, 287, 415, 373, 313, 8, -276, -248, -163, 26, 145, 293, 237, -6, -168, -251, -304, -207, 7, 162, 234, 95, -53, -178, -316, -222, 11, 53, 153, 218, 122, 21, -82, -114, -63, 23, 106, 186, 134, 43, 2, -140, -77, -41, 77, 56, 59, 49, -6, -177, -187, -129, -99, -81, -58, -66, -108, -262, 71, -160, -116, 46, 113, -153, 122, 178, 54, 106, 158, 78, 105, 167, 82, 155, 104, 143, 194, 403, 565, 203, 52, -231, -391, -658, -338, 263, 982, 615, 797, 173, -381, -911, -701, -840, -29, 317, 400, 446, -123, -310, -405, -471, -163, 449, 437, 449, 400, -92, -223, -335, -291, -69, 63, 115, 183, -202, -310, -509, -437, -411, -168, -229, 43, 91, -259, -62, -82, -104, 40, 163, 109, 44, -200, 0, -135, 81, 346, 366, 41, 217, -136, -377, -28, -6, 293, 723, 511, 177, 176, -53, -313, -377, -240, -150, -321, -258, -296, -303, -230, -34, 43, 232, 462, 386, 201, 165, 140, 16, -42, 184, 125, 152, 130, -35, -192, -310, -195, -393, -290, -156, 10, -33, -4, 153, 2, -53, 57, 27, 109, 127, 144, 171, 140, 11, -47, -109, -82, -98, -203, 25, 18, -53, 5, 1, -110, -74, 71, 12, 154, 451, 577, 367, 368, 6, -257, -384, -310, -227, 115, 2, 62, 58, -323, -376, -424, -370, -36, 150, 295, 408, 270, 106, -54, -163, 20, 139, 156, 307, 230, -13, -79, -227, -228, -257, -89, 37, 66, -109, -80, -282, -277, -200, -59, -24, 212, 106, 41, 120, -88, -151, -57, -41, -44, 86, -11, -54, -218, -261, -69, -57, -72, 203, 94, -74, 19, -31, -226, 57, -46, 34, 194, 97, 134, 60, 0, -161, -156, -227, -112, -113, -106, 2, -52, 10, -48, 4, -51, -121, -161, -97, 2, -55, 125, 7, -4, 79, 75, 94, 135, 187, 211, 367, 333, 208, 55, 53, 41, -215, -37, 88, -9, -94, 77, 31, -118, 8, -58, -113, -160, 50, 25, -55, -3, 66, 79, 42, 32, 5, -39, -102, -62, 32, -8, 55, 110, -15, -145, -103, -41, 18, 100, 201, 256, 243, 191, 126, 34, 95, -66, -30, 56, 65, 123, 163, -64, -223, -229, -313, -176, -98, -29, 159, 52, -155, -8, -186, -237, 26, -8, -34, 93, 66, -45, 5, -70, 50, -17, -161, 6, -25, -152, 22, 44, -109, 7, 57, 132, 226, 139, 100, 198, 59, -15, 35, 45, 105, 216, 140, 113, 156, 3, -38, 43, 22, -97, -46, -41, -104, -70, -19, 0, -146, -270, -135, -110, -197, 52, 97, -56, -112, -67, -52, -46, 61, 37, -125, -200, -178, -107, -248, -231, -101, 31, -87, -171, -72, -41, -127, -232, -217, -231, -224, -71, 11, 124, 224, 238, 172, 65, -81, -92, -41, -21, 110, 30, 36, 88, 46, -1, 31, 26, 15, -10, -108, -37, 18, -58, -185, 25, 123, 211, 285, 237, 261, 230, 112, -88, -97, 111, 151, 63, 182, 314, 205, 55, 68, 165, 97, 39, 53, 91, 19, -110, -175, -216, -110, -51, 55, 251, 300, 232, 51, 9, -159, -367, -246, -30, -23, 27, 187, 142, 120, 81, -50, -34, 48, 168, 243, 50, 50, 214, 143, -128, -23, 73, 108, 150, 159, 71, -14, -132, -208, -131, -70, -55, 102, 207, 220, 194, 147, 127, 145, 23, -84, -143, -143, -89, -61, -140, -107, 78, 84, 44, 30, 41, -77, -96, -77, -154, -44, 73, 46, 43, 151, 106, 47, -40, -88, -122, -103, -45, -79, -76, 4, 125, 198, 140, 106, 57, -94, -133, -171, -236, -50, 8, 28, 120, 125, 54, 49, -69, -97, -7, -89, -179, -100, -120, -243, -220, -203, -224, -179, 17, 199, 168, 47, -24, -77, -196, -297, -306, -198, -59, 115, 223, 122, 69, 46, -114, -189, -96, -6, 90, 85, 51, -47, -99, -136, -159, -227, -166, 76, 208, 304, 398, 347, 304, 206, 92, -185, -214, -78, -41, -58, 52, 199, 88, -56, -105, -96, -172, -182, 27, 264, 357, 262, 197, 92, 60, -154, -379, -318, -91, -15, -43, -51, -34, -36, -190, -288, -204, -77, 20, 111, 160, 38, -38, -143, -291, -261, -192, -180, -15, 195, 100, -155, -255, -311, -381, -445, -322, -9, 202, 204, 250, 228, 36, -53, -123, -294, -318, -179, -105, 60, 168, 197, 269, 389, 316, 154, 152, 173, 218, 167, 187, 246, 185, 82, 65, 95, 114, 150, 201, 249, 253, 231, 164, 50, -10, 70, 119, 35, 101, 162, 93, -18, -54, -124, -117, -113, -170, -151, -83, -91, -168, -223, -206, -137, -117, -49, 39, 33, -59, -128, -189, -262, -289, -282, -251, -232, -184, -187, -246, -247, -156, -130, -117, -68, -20, -31, -126, -247, -353, -367, -349, -308, -266, -131, 64, 111, 70, 81, 123, 199, 321, 389, 504, 699, 751, 637, 492, 292, 143, 102, 53, 38, 94, 239, 325, 344, 344, 269, 304, 349, 283, 183, 164, 87, 7, -35, -159, -212, -118, -50, -86, -110, -121, -101, -95, -201, -251, -162, -96, -139, -119, -86, -73, -71, -52, -57, -92, -167, -238, -279, -291, -400, -486, -433, -324, -289, -280, -218, -165, -143, -166, -249, -315, -360, -363, -296, -208, -224, -278, -199, -25, 182, 427, 643, 990, 1303, 1355, 1031, 747, 489, 299, 41, -190, -252, -128, -6, 31, 187, 382, 513, 607, 654, 595, 412, 228, -5, -152, -283, -400, -428, -270, -178, -207, -162, -88, -109, -221, -245, -226, -161, -130, -134, -139, -103, -62, -59, -28, -2, 24, 16, -61, -221, -456, -644, -725, -729, -713, -632, -528, -345, -204, -170, -204, -232, -263, -283, -151, -23, -1, 53, 221, 446, 700, 865, 900, 1019, 1087, 855, 511, 282, 99, -31, -95, -41, 173, 355, 381, 466, 544, 521, 484, 431, 361, 314, 172, -70, -192, -282, -441, -492, -436, -329, -219, -141, -100, -56, -85, -116, -86, -36, 3, 52, 71, 111, 96, -48, -201, -254, -265, -305, -364, -397, -374, -386, -483, -575, -590, -579, -495, -461, -478, -521, -545, -573, -582, -519, -350, -42, 346, 691, 1056, 1392, 1559, 1507, 1295, 923, 521, 122, -211, -424, -422, -356, -158, 124, 329, 450, 570, 617, 595, 533, 384, 220, 141, 33, -105, -196, -235, -265, -245, -206, -211, -235, -281, -276, -258, -263, -219, -103, 72, 230, 361, 418, 448, 451, 363, 232, 66, -113, -282, -441, -614, -768, -832, -778, -599, -401, -247, -135, -45, -43, -191, -426, -615, -683, -720, -729, -682, -541, -321, -71, 184, 473, 736, 980, 1278, 1570, 1648, 1401, 1036, 633, 220, -267, -689, -874, -785, -514, -211, 85, 330, 511, 614, 647, 568, 382, 215, 83, 33, -40, -148, -247, -281, -293, -340, -373, -353, -268, -140, -8, 79, 154, 265, 342, 391, 380, 342, 293, 240, 179, 96, -1, -111, -194, -281, -381, -470, -529, -564, -603, -613, -605, -524, -395, -263, -184, -150, -152, -208, -314, -451, -573, -654, -717, -676, -487, -177, 152, 493, 896, 1425, 1928, 1988, 1662, 1255, 868, 350, -263, -821, -1065, -951, -728, -520, -261, -3, 174, 315, 421, 410, 333, 252, 274, 342, 348, 208, 75, 1, -111, -304, -495, -576, -539, -422, -252, -98, 48, 205, 344, 415, 438, 420, 364, 332, 320, 260, 158, 36, -68, -173, -286, -392, -453, -452, -421, -343, -274, -192, -103, -30, -7, -26, -89, -163, -231, -321, -436, -544, -647, -703, -733, -772, -749, -577, -349, -99, 150, 417, 704, 1093, 1561, 1811, 1661, 1278, 907, 519, -57, -669, -1120, -1156, -940, -727, -547, -262, 38, 233, 393, 488, 461, 379, 331, 404, 519, 517, 350, 231, 145, -15, -266, -477, -594, -607, -518, -403, -281, -122, 73, 233, 331, 377, 352, 300, 277, 284, 238, 120, 33, -15, -69, -182, -285, -357, -395, -383, -336, -259, -157, -18, 105, 195, 246, 232, 173, 91, 26, -55, -161, -256, -327, -365, -394, -439, -506, -589, -634, -646, -664, -703, -764, -666, -288, 211, 771, 1347, 1751, 1822, 1644, 1301, 714, 78, -489, -834, -865, -738, -662, -528, -231, 19, 115, 122, 70, 24, 14, 96, 259, 473, 595, 627, 640, 597, 411, 111, -162, -387, -539, -592, -570, -504, -338, -128, 3, 76, 122, 121, 75, 91, 133, 140, 120, 142, 205, 228, 174, 71, -29, -157, -254, -301, -311, -271, -187, -81, 3, 64, 80, 71, 60, 31, -6, -67, -97, -90, -85, -112, -156, -229, -318, -409, -486, -568, -640, -706, -769, -744, -502, -140, 321, 800, 1167, 1324, 1292, 1126, 768, 381, 28, -227, -284, -269, -269, -261, -105, 4, 14, -46, -133, -214, -261, -196, -54, 139, 268, 360, 461, 510, 470, 332, 189, 15, -136, -232, -299, -316, -256, -137, -78, -48, -18, -23, -59, -60, -40, -51, -60, -14, 73, 131, 154, 165, 142, 76, 15, -45, -100, -124, -96, -70, -45, -19, 9, 3, -24, -48, -74, -108, -126, -109, -84, -83, -99, -124, -157, -200, -260, -314, -352, -382, -426, -487, -547, -528, -342, -85, 263, 525, 731, 814, 805, 659, 381, 191, 29, -8, -14, -16, -7, 31, 137, 141, 133, 38, -48, -156, -176, -113, -32, 45, 89, 178, 234, 251, 231, 167, 106, 0, -48, -115, -137, -127, -64, -8, -4, 18, -6, -28, -54, -56, -78, -113, -108, -85, -31, -2, 45, 50, 28, 6, -20, -44, -69, -50, -42, -23, 6, 24, 32, 16, 7, -22, -52, -85, -89, -82, -80, -78, -92, -114, -152, -184, -222, -256, -293, -343, -394, -422, -354, -226, -37, 184, 375, 507, 524, 440, 268, 158, 74, -6, -10, 49, 78, 77, 130, 217, 214, 142, 63, 25, -41, -63, -30, 36, 63, 86, 134, 143, 121, 101, 82, 12, -49, -54, -70, -83, -41, 37, 51, 34, 34, 27, -24, -65, -67, -81, -115, -105, -52, -15, 5, 25, 12, -29, -52, -56, -65, -69, -39, -17, -10, -10, 8, 4, -20, -40, -48, -72, -94, -92, -77, -81, -99, -132, -173, -212, -243, -277, -312, -305, -251, -153, -20, 111, 182, 218, 210, 129, 55, 36, 33, 6, 55, 153, 175, 162, 207, 300, 292, 230, 180, 159, 89, 50, 82, 107, 81, 70, 78, 63, 33, 45, 24, -27, -71, -54, -81, -98, -59, 8, 11, -10, 9, -2, -54, -75, -57, -57, -84, -62, -24, -1, 16, 31, 11, -36, -56, -69, -79, -77, -52, -34, -42, -31, -12, -18, -48, -57, -64, -87, -101, -93, -84, -93, -109, -139, -179, -217, -257, -274, -255, -197, -108, -4, 68, 124, 189, 155, 77, 46, 61, 47, 55, 144, 207, 207, 196, 262, 309, 260, 201, 171, 141, 69, 75, 99, 95, 72, 77, 70, 32, 19, 13, -33, -81, -85, -71, -96, -87, -32, 15, -11, -23, -5, -34, -79, -67, -34, -57, -57, -15, 11, 13, 19, 19, -22, -54, -59, -55, -70, -66, -39, -35, -40, -34, -23, -49, -71, -78, -89, -108, -109, -100, -103, -121, -142, -172, -214, -254, -253, -231, -178, -89, 5, 67, 122, 174, 134, 65, 68, 75, 74, 83, 188, 236, 235, 227, 287, 306, 239, 186, 167, 127, 68, 85, 113, 93, 72, 78, 60, 15, 9, -7, -55, -92, -80, -62, -78, -63, -22, -3, -37, -43, -28, -46, -67, -48, -38, -49, -36, -1, 0, -4, 0, -11, -49, -63, -53, -58, -72, -59, -33, -39, -48, -42, -43, -71, -89, -92, -103, -116, -111, -115, -131, -154, -181, -212, -254, -251, -214, -160, -78, -3, 71, 115, 159, 147, 90, 86, 98, 102, 91, 175, 253, 266, 252, 272, 315, 256, 198, 166, 153, 83, 76, 106, 95, 78, 75, 64, 6, -14, -12, -48, -83, -80, -47, -69, -72, -41, -11, -45, -61, -29, -42, -62, -65, -26, -35, -31, -18, -14, -29, -27, -17, -46, -67, -60, -54, -67, -67, -33, -41, -50, -57, -52, -76, -102, -112, -116, -125, -144, -145, -167, -188, -209, -239, -280, -268, -185, -90, -4, 58, 126, 173, 176, 151, 121, 125, 131, 140, 141, 209, 269, 295, 272, 289, 296, 241, 180, 148, 134, 90, 74, 85, 76, 74, 63, 35, -11, -19, -20, -40, -76, -79, -54, -68, -86, -61, -36, -44, -54, -36, -48, -46, -54, -40, -52, -37, -32, -33, -49, -46, -36, -59, -82, -73, -61, -70, -67, -49, -45, -54, -68, -74, -94, -111, -128, -141, -154, -167, -178, -200, -228, -253, -288, -299, -249, -121, 26, 102, 154, 212, 250, 209, 165, 157, 153, 181, 168, 204, 249, 295, 299, 285, 291, 251, 218, 150, 124, 83, 89, 73, 63, 44, 39, 35, 13, -15, -28, -43, -70, -86, -84, -88, -84, -63, -42, -33, -29, -31, -39, -58, -59, -51, -48, -62, -45, -39, -40, -64, -58, -74, -85, -87, -77, -69, -66, -54, -53, -53, -66, -74, -95, -120, -132, -134, -153, -174, -177, -190, -216, -246, -288, -319, -301, -222, -80, 64, 190, 257, 305, 305, 266, 222, 195, 198, 203, 218, 241, 259, 286, 283, 277, 245, 228, 186, 149, 109, 89, 77, 64, 44, 22, 27, 24, 13, -27, -61, -72, -92, -104, -109, -85, -72, -44, -37, -32, -19, -28, -43, -58, -57, -63, -52, -67, -78, -70, -69, -82, -93, -103, -99, -89, -72, -74, -57, -53, -51, -58, -61, -77, -89, -98, -124, -123, -129, -135, -144, -157, -179, -205, -236, -288, -316, -295, -221, -87, 51, 198, 316, 381, 366, 336, 289, 249, 238, 234, 251, 262, 281, 282, 283, 252, 210, 174, 141, 105, 85, 77, 74, 83, 87, 60, 21, -21, -49, -80, -96, -109, -110, -103, -94, -84, -65, -50, -37, -29, -29, -32, -29, -36, -54, -68, -88, -101, -108, -113, -117, -113, -111, -108, -106, -97, -86, -73, -66, -59, -49, -51, -53, -57, -65, -75, -81, -85, -87, -86, -80, -73, -68, -74, -79, -87, -101, -107, -107, -95, -70, -19, 30, 87, 143, 197, 233, 256, 264, 255, 244, 214, 179, 145, 97, 68, 54, 56, 58, 76, 99, 124, 152, 172, 179, 171, 160, 134, 105, 76, 44, 14, -10, -33, -55, -72, -84, -89, -104, -105, -113, -118, -116, -114, -117, -114, -113, -112, -112, -105, -104, -100, -95, -89, -85, -84, -76, -69, -64, -60, -51, -45, -44, -37, -36, -34, -36, -33, -34, -29, -32, -25, -13, -6, -4, -6, -2, -9, -22, -25, -35, -48, -43, -47, -57, -31, -6, -6, 27, 64, 69, 75, 107, 124, 122, 135, 147, 139, 142, 150, 148, 149, 153, 159, 154, 162, 161, 164, 145, 139, 120, 97, 70, 60, 34, 4, -27, -47, -70, -91, -110, -117, -132, -140, -139, -141, -137, -139, -130, -132, -125, -117, -117, -112, -109, -98, -91, -81, -68, -57, -45, -36, -26, -25, -21, -17, -16, -17, -15, -12, -6, -5, -2, 10, 6, 22, 23, 17, 36, 39, 12, 31, 27, 0, -4, -8, -19, -25, -32, -13, -11, -7, 11, 34, 34, 45, 61, 58, 65, 74, 75, 74, 76, 76, 85, 90, 96, 102, 104, 107, 115, 116, 123, 113, 117, 104, 93, 77, 73, 51, 31, 8, -10, -36, -50, -66, -74, -86, -89, -90, -101, -103, -107, -115, -117, -110, -111, -106, -101, -99, -93, -87, -80, -70, -52, -55, -44, -37, -33, -21, -21, -18, -10, -5, -11, -6, 12, 16, 13, 25, 37, 35, 25, 48, 48, 33, 49, 61, 39, 39, 48, 31, 22, 11, 9, -4, -10, 0, 12, -1, 0, 2, -9, -13, -15, -9, -10, -15, -1, 7, 7, 15, 32, 25, 31, 44, 54, 60, 71, 84, 85, 91, 92, 97, 79, 82, 76, 71, 54, 53, 40, 28, 12, 6, -8, -21, -30, -43, -48, -57, -66, -75, -71, -75, -81, -84, -91, -99, -94, -87, -79, -73, -63, -63, -57, -48, -44, -29, -29, -17, -13, -6, -2, 5, 13, 24, 22, 11, 33, 28, 21, 45, 47, 33, 43, 46, 43, 43, 47, 49, 41, 34, 27, 27, 18, 28, 16, 14, 7, -3, -19, -8, -19, -22, -22, -33, -40, -34, -35, -45, -35, -29, -35, -31, -14, -16, -12, 3, 12, 10, 27, 36, 42, 46, 52, 52, 52, 55, 58, 58, 58, 55, 49, 48, 41, 40, 36, 27, 18, 16, 7, -6, -2, -14, -18, -28, -36, -41, -47, -58, -55, -49, -63, -54, -50, -56, -53, -42, -44, -40, -31, -28, -27, -21, -18, -17, -6, 0, 7, 2, 8, 12, 18, 21, 29, 27, 30, 26, 34, 36, 22, 31, 32, 20, 19, 21, 17, 20, 22, 13, 11, 11, 3, -5, 12, 6, -13, -3, -10, -30, -28, -16, -30, -31, -21, -31, -29, -20, -23, -19, -10, -10, -19, -9, -8, -14, -4, 2, -7, 2, 10, 2, 12, 25, 11, 16, 28, 23, 22, 27, 27, 24, 24, 25, 27, 25, 21, 16, 13, 11, 11, 12, 6, -2, 5, -2, -6, -6, -7, -11, -11, -19, -22, -17, -26, -25, -21, -17, -21, -22, -20, -10, -16, -18, -8, -17, -15, -13, -5, -1, -1, -4, 10, 5, 6, 12, 10, 11, 11, 11, 12, 14, 13, 17, 15, 11, 11, 15, 4, 5, 13, 0, -6, 1, -2, -5, -3, -4, 1, -3, -8, -5, -7, -12, -10, -9, -11, -10, -5, -6, -8, -6, -4, -6, -7, -1, -5, -10, 1, 0, -5, 2, 3, 2, 11, 5, 0, 11, 6, 1, 14, 12, 5, 12, 14, 10, 12, 11, 13, 5, 10, 12, 8, 2, 10, 2, 1, 3, 2, 3, -2, -5, -5, -5, -9, -6, -8, -7, -14, -12, -12, -17, -8, -6, -10, -9, -4, -10, -9, -3, -7, -6, -3, 2, -4, -5, -1, 0, -6, 2, 0, 2, 0, 9, 11, 11, 11, 11, 11, 12, 10, 15, 12, 11, 11, 12, 11, 11, 11, 11, 5, 11, 11, 11, 3, 0, 1, -1, -5, -4, -3, -8, -10, -8, -12, -10, -8, -11, -19, -17, -12, -16, -10, -8, -8, -6, -8, -5, -3, 1, 1, 10, 10, 6, 11, 14, 18, 19, 21, 20, 21, 18, 15, 12, 11, 10, 12, 6, 6, 12, 11, 11, 10, 6, 2, 0, -3, -6, -5, -11, -14, -13, -14, -13, -12, -9, -11, -16, -18, -18, -14, -11, -12, -12, -12, -9, -5, 1, 11, 6, 2, 0, 1, 4, 10, 12, 10, 18, 15, 12, 15, 11, 7, 11, 11, 11, 11, 22, 21, 13, 23, 22, 16, 11, 13, 6, -6, -7, -11, -13, -14, -12, -12, -12, -13, -13, -16, -14, -14, -13, -17, -18, -16, -13, -9, -5, -6, -6, -3, 0, 1, 6, 11, 12, 9, 10, 16, 13, 13, 11, 11, 11, 13, 20, 24, 21, 20, 18, 14, 16, 17, 12, 11, 2, -7, -12, -11, -8, -11, -14, -17, -18, -17, -13, -5, -6, -7, -7, -8, -10, -12, -5, -8, -12, -11, -7, -5, 0, 3, 3, 4, 6, 13, 12, 12, 12, 13, 11, 12, 14, 18, 20, 18, 18, 12, 12, 11, 11, 11, 6, -1, -4, -5, 0, 0, -1, -5, -5, -9, -10, -10, -9, -5, -10, -6, -7, -7, -5, -4, -7, -9, -10, -6, -5, -6, -3, -2, -3, 2, 5, 10, 11, 11, 12, 11, 11, 12, 12, 15, 15, 12, 13, 11, 11, 7, 5, 1, 0, 1, 4, 1, 0, 4, 3, 5, 4, 4, 0, -2, -3, -8, -5, -6, -5, -8, -5, -5, -8, -6, -4, -6, -4, -2, 0, -2, 1, 4, 2, 4, 6, 6, 10, 1, 10, 5, 9, 8, 8, 12, 11, 12, 10, 12, 12, 11, 11, 11, 12, 8, 2, 5, 1, 2, 2, -2, 1, -2, -1, 0, -3, -4, -5, -5, -6, -4, -6, -3, -2, 3, 1, 4, 6, 13, 10, 12, -2, 9, 15, 31, 34, 55, 216, 779, 668, -135, -516, -215, 221, 182, -183, -293, -36, 201, 590, 427, 108, 11, 2, 34, -322, -472, -135, 46, -310, -678, -264, 153, 56, -135, 95, 382, 169, -147, -84, 360, 181, 143, 156, 107, -74, -113, 212, 260, -3, -3, -13, -101, -79, 26, -17, 191, -141, -226, -29, -133, -39, -71, -23, 69, -275, -116, 41, -74, -152, 215, 92, -252, -128, 87, -71, 22, 11, -25, -22, 30, -167, -61, 221, 179, -147, -259, -24, 51, -143, -66, 195, -1, -317, -12, 67, -282, -82, 163, 36, -140, -147, 83, 58, 25, 94, 22, 26, -70, -88, 65, 148, -14, -102, 8, -20, -144, -6, 176, 126, -75, -204, -10, 73, -114, -57, 138, 92, -113, -233, -43, 145, 83, -61, -46, 5, -73, -23, 76, 103, -69, -102, -25, -39, -64, 50, 86, -8, -22, 30, -108, -119, -7, 90, 0, -28, -39, 2, 10, 3, -12, -2, 43, -97, -64, -12, -61, 12, 43, 17, 27, -54, -112, 27, 42, -8, -87, -37, 1, 67, -61, -112, 83, 105, -79, -91, 1, 54, -44, -47, 75, 32, -118, -111, 85, 46, -28, 7, 64, 59, -84, -47, 120, 50, -59, -88, 33, 96, 45, -13, -5, -27, -31, 62, 88, 17, -26, -21, -102, -52, 26, -90, -9, 55, 8, -78, -40, 80, 115, 24, -39, 58, 46, -55, -15, 46, 51, -21, -21, -15, 58, 26, -25, 37, 57, 25, -6, -30, -5, 79, 93, 33, -14, 18, 45, 60, 18, 37, 20, 41, 59, 80, 5, -43, 67, 117, 29, -8, 16, 30, -20, -61, 11, 111, 41, -92, -113, -44, -22, -50, -135, -106, -72, -104, -36, 6, -65, -121, -126, -125, -214, -194, -118, 3, -30, -192, -238, -173, -68, -68, -82, -84, -107, -209, -149, 25, 12, -70, -6, 70, 50, 21, 114, 293, 247, 86, 85, 247, 354, 343, 290, 274, 301, 312, 304, 324, 351, 306, 186, 124, 154, 148, 97, 66, 29, -21, -74, -80, -60, -71, -92, -85, -102, -110, -114, -122, -62, -12, -28, -46, -44, -28, -24, -25, -37, -49, -71, -105, -111, -71, -34, -100, -199, -215, -200, -217, -230, -236, -301, -333, -355, -380, -355, -322, -342, -403, -384, -314, -340, -413, -393, -271, -192, -177, -84, 120, 387, 534, 508, 529, 719, 827, 793, 853, 943, 820, 716, 790, 699, 449, 412, 528, 454, 318, 169, 22, 2, 80, -28, -312, -413, -410, -441, -461, -457, -516, -505, -381, -350, -346, -182, 16, 85, 124, 187, 194, 249, 358, 355, 237, 193, 187, 103, 7, -55, -117, -178, -230, -361, -472, -476, -479, -587, -653, -639, -663, -723, -741, -734, -721, -686, -680, -706, -715, -636, -395, -134, 4, 181, 533, 810, 873, 955, 1106, 1295, 1462, 1463, 1286, 1154, 1081, 959, 889, 794, 531, 266, 184, 117, -23, -184, -311, -420, -512, -617, -714, -712, -672, -690, -731, -697, -590, -476, -353, -211, -70, 84, 243, 362, 441, 545, 651, 684, 656, 601, 522, 455, 388, 273, 112, -36, -182, -338, -461, -549, -652, -773, -868, -918, -937, -927, -883, -821, -803, -840, -857, -786, -663, -585, -612, -630, -500, -221, 28, 256, 610, 925, 1019, 1050, 1243, 1461, 1530, 1553, 1525, 1381, 1198, 1073, 939, 734, 577, 423, 176, -48, -173, -282, -428, -529, -642, -777, -859, -876, -885, -840, -765, -733, -694, -584, -449, -318, -102, 108, 225, 326, 485, 652, 762, 810, 787, 740, 726, 675, 538, 397, 283, 140, -37, -211, -368, -497, -592, -709, -838, -893, -915, -987, -1033, -986, -943, -907, -814, -782, -832, -788, -620, -536, -577, -525, -289, 35, 290, 504, 770, 1074, 1278, 1311, 1244, 1355, 1653, 1766, 1494, 1173, 1052, 950, 823, 663, 435, 200, 47, -155, -402, -485, -499, -644, -801, -856, -935, -999, -904, -769, -739, -738, -688, -571, -353, -116, 0, 108, 341, 521, 566, 647, 811, 905, 885, 824, 721, 607, 548, 466, 293, 105, -64, -259, -406, -483, -591, -731, -812, -866, -947, -987, -974, -984, -962, -867, -827, -838, -785, -673, -613, -582, -531, -442, -274, -89, 115, 432, 818, 1072, 1159, 1185, 1170, 1304, 1629, 1778, 1516, 1154, 984, 910, 846, 736, 462, 164, 29, -122, -408, -565, -561, -604, -717, -737, -773, -946, -1050, -877, -576, -492, -604, -677, -532, -208, 60, 139, 182, 369, 557, 623, 685, 782, 864, 886, 817, 641, 505, 486, 435, 259, 66, -117, -292, -408, -471, -565, -678, -755, -838, -894, -869, -845, -882, -901, -806, -721, -735, -759, -694, -568, -512, -531, -532, -406, -206, -9, 238, 589, 904, 1034, 993, 926, 1110, 1504, 1687, 1427, 1095, 1016, 1003, 925, 800, 599, 366, 225, 67, -200, -374, -396, -460, -613, -741, -805, -785, -730, -776, -839, -734, -567, -552, -545, -406, -221, -65, 86, 217, 286, 406, 569, 675, 717, 752, 741, 679, 659, 607, 487, 374, 292, 130, -71, -174, -226, -337, -472, -602, -712, -744, -713, -754, -828, -826, -777, -771, -741, -666, -608, -563, -540, -562, -563, -463, -349, -270, -150, -15, 137, 443, 858, 1007, 782, 608, 845, 1302, 1476, 1225, 889, 806, 914, 906, 738, 536, 454, 389, 207, -56, -215, -230, -231, -327, -518, -680, -684, -606, -566, -614, -644, -628, -562, -491, -453, -355, -199, -46, 28, 90, 177, 302, 435, 532, 567, 538, 514, 506, 505, 480, 412, 326, 221, 115, -15, -124, -176, -204, -288, -446, -585, -628, -587, -555, -580, -603, -609, -582, -543, -461, -384, -337, -371, -359, -338, -355, -305, -263, -255, -201, -106, 54, 240, 457, 604, 527, 374, 476, 838, 1020, 874, 654, 592, 675, 736, 652, 488, 440, 473, 380, 143, -2, 10, 42, -20, -177, -348, -441, -412, -316, -261, -360, -547, -607, -455, -294, -271, -325, -316, -197, -52, -7, -21, 55, 228, 316, 249, 166, 192, 298, 330, 243, 95, 31, 44, 38, -40, -128, -156, -158, -181, -226, -258, -240, -173, -146, -144, -202, -180, -27, -6, -170, -251, -62, 51, -62, -177, -98, -86, -80, -148, -105, -71, -69, -90, -22, 38, 94, 143, 96, 45, 70, 191, 286, 268, 224, 208, 240, 286, 288, 240, 191, 193, 198, 135, 52, 19, 38, 59, 44, -13, -64, -69, -42, -37, -58, -57, -30, -49, -120, -154, -100, -29, -11, -54, -101, -72, 4, 44, 9, -15, 8, 31, 21, -13, -23, -1, 32, 14, -35, -57, -28, 2, -4, -35, -38, -15, -5, -15, -32, -28, -4, 10, -10, -33, -30, -12, -4, -14, -24, -22, -17, -13, -21, -24, -25, -19, -23, -28, -35, -33, -23, -19, -12, -13, -18, -9, 6, 15, 13, 4, 14, 27, 37, 32, 27, 32, 40, 43, 44, 42, 47, 49, 46, 39, 34, 39, 43, 43, 41, 35, 32, 30, 34, 33, 28, 24, 18, 17, 16, 22, 20, 14, 8, 9, 11, 12, 8, -2, -4, -6, -6, -12, -18, -19, -20, -19, -26, -30, -31, -27, -24, -28, -33, -30, -27, -28, -30, -33, -31, -23, -23, -26, -32, -26, -21, -18, -19, -20, -16, -10, -7, -8, -5, -6, -1, -3, -3, -2, -4, -4, -4, -6, -14, -19, -14, -8, -10, -13, -11, -3, -1, 3, 2, 9, 13, 21, 27, 22, 19, 28, 37, 39, 33, 31, 30, 34, 34, 31, 28, 26, 26, 27, 23, 21, 19, 20, 18, 15, 15, 11, 11, 11, 11, 5, 4, 3, 3, 3, 0, 3, -4, -5, -4, -4, -5, -7, -9, -6, -7, -9, -14, -16, -13, -11, -13, -15, -13, -14, -12, -11, -16, -14, -12, -10, -10, -12, -11, -11, -8, -9, -9, -6, -5, -5, -5, -5, -5, -1, 2, -2, -3, -4, -5, -5, -5, -5, -11, -13, -14, -17, -20, -20, -21, -20, -18, -17, -16, -15, -6, -5, -4, -4, 6, 11, 12, 11, 11, 13, 21, 24, 23, 20, 22, 26, 25, 26, 24, 23, 25, 26, 22, 23, 21, 23, 22, 24, 19, 20, 19, 19, 14, 13, 11, 12, 8, 7, 13, 9, 4, -2, -2, -1, -2, -4, -5, -8, -10, -8, -11, -13, -13, -12, -15, -15, -16, -14, -11, -12, -13, -15, -16, -12, -11, -8, -10, -7, -6, -6, -7, -6, -5, -5, -3, -5, -3, -4, -3, -4, -1, 0, -1, -2, -4, -5, -3, -5, -5, -5, -5, -8, -9, -14, -13, -12, -15, -14, -15, -17, -11, -15, -13, -12, -8, -4, -4, -2, 2, 4, 9, 12, 10, 12, 16, 19, 18, 19, 20, 22, 26, 25, 26, 27, 28, 27, 24, 23, 25, 25, 25, 24, 19, 15, 15, 15, 15, 13, 11, 5, 3, 4, 1, -3, -4, -7, -6, -5, -8, -11, -12, -13, -12, -15, -17, -15, -16, -17, -16, -18, -15, -13, -13, -15, -13, -12, -11, -11, -11, -11, -6, -5, -7, -4, -6, -3, -3, 2, 1, 3, 2, 8, 7, 3, 4, 7, 9, 2, 2, 1, 2, 1, -1, -1, -6, -4, -5, -5, -6, -5, -8, -8, -9, -8, -11, -7, -8, -7, -6, -7, -5, -4, 0, 1, 4, 4, 12, 11, 11, 12, 16, 15, 19, 18, 21, 22, 21, 23, 22, 24, 24, 22, 25, 22, 21, 19, 17, 14, 11, 11, 12, 8, 9, 2, 2, -3, -5, -5, -7, -9, -9, -11, -17, -17, -17, -16, -17, -18, -17, -20, -19, -21, -18, -18, -17, -13, -12, -14, -11, -10, -9, -8, -5, -5, -4, -4, -1, 0, 3, 3, 4, 9, 11, 11, 11, 11, 11, 11, 11, 11, 11, 7, 10, 4, 6, 4, 4, 3, 4, 0, -2, -2, -2, -4, -5, -4, -5, -5, -5, -6, -5, -5, -5, -5, -4, -4, -5, -3, 0, 2, 5, 4, 10, 10, 7, 12, 11, 11, 11, 12, 16, 14, 15, 13, 14, 13, 12, 17, 13, 11, 11, 11, 11, 10, 6, 13, 5, 2, 2, 0, -1, -4, -4, -5, -5, -6, -9, -9, -12, -12, -12, -9, -11, -13, -12, -11, -12, -9, -10, -8, -8, -9, -6, -5, -5, -5, -5, -2, 0, 1, -1, 0, 1, 3, 3, 8, 8, 9, 6, 9, 12, 10, 11, 11, 12, 10, 9, 10, 5, 5, 6, 2, 4, 2, 0, 1, -1, -2, -3, -5, -2, -4, -4, -5, -3, -3, -3, -4, -4, -4, -4, -3, -4, -4, -1, -1, 0, 2, 1, 4, 3, 4, 4, 5, 5, 7, 11, 9, 9, 12, 10, 12, 10, 12, 10, 12, 6, 11, 5, 8, 6, 3, 4, 3, 1, -3, -1, -4, -5, -4, -5, -5, -4, -5, -2, -5, -5, -6, -5, -5, -5, -5, -6, -5, -5, -5, -5, -5, -4, -4, -4, -1, -2, 0, 3, 0, 0, 3, 4, 2, 9, 5, 3, 5, 7, 9, 8, 8, 7, 9, 8, 7, 9, 4, 9, 8, 2, 2, 4, 3, 2, 2, 0, 0, 1, 0, -1, -2, 0, -1, -4, -4, 1, 2, 2, -2, -1, 2, 1, 2, -1, 1, 1, 2, 1, 2, 3, 2, 3, 4, 5, 3, 4, 7, 4, 6, 5, 7, 6, 5, 11, 5, 6, 3, 4, 3, 2, 0, 4, 2, 3, 2, 3, 4, 3, 1, 2, 0, -3, 0, -1, -1, -2, -2, -1, 0, 0, -1, -2, 2, 0, -1, -1, -1, 1, 0, 2, 0, 7, 7, -3, 1, 2, 3, 2, 3, 1, 8, 7, 2, 4, 4, 4, 5, 10, 4, 4, 4, 6, 3, 4, 4, 6, 5, 3, 3, 4, 3, 3, 2, 3, 1, 2, 0, 1, 1, 2, 1, -1, 1, -1, 0, 4, 4, -1, -5, 2, 2, 3, -1, 6, 5, 12, 8, 7, 10, 13, 8, 16, 16, 31, 25, 46, 55, 111, 315, 1024, 720, -389, -643, -71, 303, 106, 94, -269, -539, -170, 253, 51, -85, -194, -218, 187, 55, -178, 63, 753, 608, -288, -415, 347, 547, -56, -297, -146, -59, -211, -451, -225, -10, 303, 112, -422, -283, 78, 74, -102, 207, 350, -135, -331, -46, 134, 190, 138, -213, -243, 101, 13, -384, -180, 433, 154, -351, -371, 11, 180, 38, -147, -15, 63, -96, -256, -40, 184, 159, -138, -160, 25, -40, -145, 46, 225, 28, -87, -35, -80, 51, 215, 67, -172, -2, 146, -86, -121, 122, 116, -75, 19, 54, -101, -36, 164, 93, -49, -53, -119, -38, 67, 141, 79, -42, -19, -78, -90, 43, -46, -132, 33, 132, -80, -176, -37, -12, -66, -64, -25, -94, -145, -154, -102, -174, -212, -198, -223, -182, -167, -212, -206, -200, -213, -304, -308, -280, -301, -235, -245, -377, -213, 23, 86, 74, 244, 559, 584, 343, 392, 737, 848, 719, 650, 593, 478, 436, 468, 428, 344, 189, 17, -67, -80, -171, -315, -341, -325, -422, -561, -604, -532, -434, -378, -347, -273, -219, -252, -231, 1, 298, 391, 281, 215, 321, 519, 605, 545, 495, 466, 426, 378, 291, 211, 170, 139, 37, -114, -268, -309, -281, -262, -329, -407, -503, -534, -492, -409, -387, -483, -494, -414, -363, -408, -385, -256, -216, -323, -409, -339, -315, -396, -375, -230, -141, -231, -229, 64, 515, 962, 1022, 475, 129, 707, 1453, 1399, 904, 651, 616, 637, 719, 583, 312, 258, 269, 10, -292, -413, -494, -508, -369, -401, -792, -1080, -956, -669, -495, -489, -587, -625, -461, -216, -107, -26, 168, 389, 444, 448, 545, 684, 773, 847, 912, 861, 747, 681, 668, 608, 473, 270, 80, -7, -79, -258, -437, -463, -471, -556, -644, -690, -657, -523, -413, -417, -423, -342, -275, -236, -186, -144, -141, -121, -110, -156, -192, -190, -194, -229, -325, -459, -593, -611, -521, -426, -416, -419, -284, -7, 416, 878, 889, 300, 99, 884, 1610, 1419, 872, 674, 729, 897, 965, 677, 379, 458, 480, 101, -226, -309, -378, -411, -332, -475, -874, -1081, -955, -744, -596, -597, -774, -858, -597, -300, -243, -206, 17, 200, 259, 329, 422, 590, 837, 936, 763, 695, 869, 986, 899, 752, 599, 445, 365, 260, 57, -127, -185, -270, -425, -528, -604, -681, -629, -523, -565, -672, -637, -534, -461, -410, -400, -451, -392, -250, -211, -237, -180, -101, -104, -142, -206, -296, -331, -302, -305, -425, -526, -469, -260, -56, 120, 499, 899, 674, 42, 204, 1155, 1617, 1229, 738, 563, 662, 921, 893, 558, 448, 549, 298, -120, -236, -211, -278, -290, -333, -624, -930, -948, -803, -624, -504, -581, -829, -822, -490, -262, -221, -107, 54, 109, 171, 282, 367, 605, 930, 904, 574, 532, 765, 860, 914, 975, 721, 286, 161, 249, 248, 166, -43, -347, -470, -401, -507, -660, -532, -373, -491, -685, -713, -616, -406, -246, -354, -554, -526, -369, -289, -205, -122, -155, -232, -230, -224, -260, -236, -221, -299, -415, -493, -466, -323, -84, 96, 295, 688, 833, 319, -26, 679, 1549, 1483, 877, 523, 535, 820, 1036, 758, 406, 471, 492, 82, -219, -188, -175, -234, -261, -473, -832, -948, -792, -631, -526, -540, -756, -900, -651, -311, -235, -224, -74, 58, 95, 176, 253, 364, 641, 886, 764, 494, 461, 639, 842, 961, 812, 484, 362, 393, 272, 127, 120, 44, -160, -337, -481, -570, -469, -336, -419, -600, -655, -620, -535, -368, -301, -418, -498, -450, -398, -312, -176, -126, -169, -185, -195, -240, -213, -157, -206, -292, -386, -489, -534, -383, -159, -76, -29, 298, 762, 725, 191, 101, 842, 1494, 1327, 722, 387, 565, 962, 1012, 621, 365, 434, 418, 128, -110, -178, -166, -155, -250, -513, -766, -820, -692, -541, -486, -598, -791, -823, -566, -300, -251, -260, -156, -17, 74, 124, 176, 315, 550, 682, 607, 497, 474, 542, 671, 778, 730, 589, 434, 300, 267, 330, 295, 73, -148, -228, -255, -316, -381, -428, -446, -459, -529, -631, -590, -410, -310, -379, -467, -471, -378, -230, -138, -149, -182, -187, -201, -132, -45, -162, -311, -267, -195, -298, -464, -464, -289, -92, -23, -24, 128, 504, 698, 391, 115, 501, 1086, 1106, 696, 438, 528, 733, 780, 569, 372, 403, 432, 209, -39, -78, -48, -87, -176, -316, -496, -591, -559, -499, -459, -463, -572, -664, -559, -350, -269, -282, -215, -84, 14, 53, 66, 129, 297, 432, 425, 376, 394, 428, 442, 481, 489, 469, 457, 408, 268, 173, 230, 272, 154, -53, -204, -235, -183, -191, -329, -446, -425, -358, -378, -400, -351, -262, -217, -247, -327, -349, -235, -74, -75, -120, -165, -68, -22, -166, -182, -103, -106, -97, -173, -222, -266, -216, -156, -202, -87, -57, -28, 158, 283, 300, 225, 139, 255, 505, 596, 491, 325, 298, 388, 465, 432, 306, 244, 302, 288, 155, 18, -2, 65, 68, -42, -213, -314, -281, -218, -236, -303, -341, -326, -297, -254, -213, -175, -103, -25, -13, -35, -12, 48, 95, 135, 128, 94, 97, 164, 199, 151, 98, 114, 136, 112, 64, 29, 21, 32, -4, -74, -115, -89, -55, -59, -94, -87, -107, -20, -18, -55, -45, -59, -64, -62, -36, -76, -33, -8, -26, -60, -81, -37, 29, -5, -51, -66, 3, 64, -79, -128, -16, -18, -42, -16, -95, -109, -21, -6, -68, -81, -29, -4, 6, -3, 27, 58, 57, 36, 29, 71, 122, 114, 69, 70, 101, 134, 118, 89, 81, 109, 123, 94, 53, 45, 61, 65, 38, -3, -21, -11, -3, -6, -18, -29, -24, -17, -19, -31, -27, -21, -20, -26, -32, -33, -25, -20, -28, -43, -36, -16, -11, -25, -38, -31, -12, -4, -15, -27, -21, -5, 3, 1, -6, -3, 8, 16, 12, 11, 11, 19, 21, 14, 11, 14, 18, 17, 11, 8, 4, 12, 11, 11, 11, 13, 11, 11, 10, 5, 0, -2, -5, -6, -13, -18, -17, -17, -16, -22, -28, -31, -24, -25, -28, -35, -38, -33, -30, -21, -26, -26, -20, -14, -11, -6, -5, 6, 11, 13, 12, 18, 26, 33, 33, 36, 36, 39, 43, 43, 40, 42, 41, 44, 40, 35, 33, 30, 29, 28, 22, 15, 11, 11, 10, 4, -2, -6, -5, -9, -11, -19, -22, -22, -21, -24, -28, -28, -28, -28, -27, -30, -29, -29, -24, -21, -22, -21, -20, -18, -14, -9, -10, -5, -5, -3, -5, 3, 12, 11, 11, 11, 11, 12, 14, 11, 13, 17, 15, 16, 15, 12, 13, 11, 11, 11, 10, 8, 10, 4, 3, 0, -2, -6, -7, -6, -9, -12, -14, -15, -16, -16, -17, -18, -16, -16, -15, -13, -15, -10, -9, -9, -4, -6, -2, -1, -1, 1, 4, 11, 11, 11, 11, 11, 13, 16, 19, 16, 17, 19, 16, 16, 16, 12, 14, 11, 11, 11, 12, 9, 9, 7, 2, 2, -2, -3, -5, -4, -7, -7, -10, -12, -11, -13, -13, -14, -12, -10, -9, -11, -12, -10, -10, -8, -7, -8, -5, -5, -4, -4, -2, 1, 3, 0, 2, 3, 4, 8, 12, 9, 9, 11, 11, 11, 11, 11, 11, 11, 11, 11, 11, 3, 9, 7, 5, 4, 2, 1, -3, -1, -2, -5, -5, -4, -4, -5, -5, -5, -6, -5, -8, -5, -5, -5, -5, -5, -5, -4, -5, -4, -5, -2, -2, -1, 2, 3, 4, 8, 4, 9, 7, 8, 7, 9, 8, 9, 8, 9, 7, 11, 11, 11, 11, 12, 7, 3, 4, 4, 4, 1, 2, 3, 0, 2, 0, -4, -4, -5, -4, -4, -5, -4, -5, -3, -2, -5, -5, -5, -5, -5, -5, -5, -6, -1, -3, -2, -4, 3, 0, 2, 1, 1, -4, 1, 2, 2, 3, 2, 4, 4, 4, 5, 6, 2, 5, 3, 4, 3, 5, 3, 5, 5, 3, 3, -1, 2, 1, -1, 0, -3, -2, -1, -1, -3, -2, -1, -3, -3, -4, -3, -2, -4, -3, -4, -4, -4, 0, -1, -1, -2, -1, -2, 2, 1, 3, 2, -1, -1, 1, 2, 1, 4, 3, -1, 2, 0, 2, 1, -1, 2, 2, 2, 1, 3, 1, 3, 4, 1, -1, 0, 2, -4, -3, 2, 0, 0, -2, -2, -1, -4, -1, -4, -2, -1, -1, 0, -4, -2, -1, -2, 0, -1, -2, -1, -2, -1, -3, -3, -1, 0, -1, 1, 1, 2, 1, -1, -1, 0, 0, -2, -1, -1, -3, 1, 2, 1, 5, -1, 2, 0, -1, 0, 3, 0, -2, -1, -1, -2, -3, 0, -1, -3, -2, -1, -1, -1, 0, -3, -2, -1, 0, -2, -2, 1, -2, 0, -2, -1, -4, 0, -1, -5, -2, -1, -2, 0, 3, 1, 0, 0, 0, 1, -1, 0, -1, 0, -3, 1, 1, -1, -1, -2, 0, -2, -1, 0, -2, -1, -4, -1, -1, -2, 0, -3, -3, -2, 0, -2, -3, -2, -2, 0, -1, -1, -1, 0, -2, 1, -1, -1, 0, 2, 2, 0, 1, 2, 4, 0, 0, 0, -1, -1, 2, 1, -1, 3, 0, 2, 2, -1, 2, 3, 1, 2, 1, 1, 1, -1, -2, 0, -1, -1, -3, -1, -1, 0, 0, 0, 0, 2, 1, 0, -4, -2, 0, -2, -5, 0, 0, 0, 1, 2, 0, 1, -1, -3, -1, 0, 1, -1, 1, -1, 0, 2, -1, 1, 1, -2, -3, -1, 0, 0, -1, -2, -1, 0, 0, -1, 0, 1, -1, -1, 0, 1, 0, 2, -1, 2, 0, 0, 3, 1, -2, 2, 1, 2, -1, -1, -2, -1, -2, 0, -1, 3, -1, -2, -2, -1, -2, 1, 2, -2, -1, 0, 2, -1, 1, 1, 2, -2, 0, -2, -1, 0, 1, -1, 1, 0, 3, 1, 3, 4, 2, 3, 2, 0, 0, 0, 3, 3, 2, 1, 2, 0, 0, 1, 4, 1, -2, 1, 2, 0, 2, 2, 2, 0, -1, 3, 2, -1, -1, 0, 1, 1, -1, 1, 2, 0, 1, 3, 4, 0, -2, -1, -2, -1, -2, -1, 0, 3, 0, 0, 4, 1, 2, 1, 3, 2, 3, -1, 2, 0, 2, 1, 3, 0, 3, 3, -2, 1, 3, 1, -1, -1, 2, 3, -1, 2, 2, 0, 1, -1, 1, 2, 0, 0, 1, 2, 2, 4, 0, 4, 2, 0, 3, 3, 3, 4, 0, 3, 1, 4, 0, 6, 2, 0, 3, 0, 2, 3, 0, 1, 4, 2, 2, 2, 2, 2, 3, 3, 1, 1, 1, 3, 1, 1, 1, 4, -1, 3, 3, 0, 1, 0, 3, 3, 2, 3, 4, 3, 4, 1, 2, 3, 0, 0, 0, -1, 1, 1, 2, 0, -1, 2, 1, 0, 1, 3, 2, 0, 0, 1, 2, 4, 3, -1, 3, 3, 2, 1, 3, 2, 3, 2, 3, 4, 3, 1, 2, 0, 1, 0, 3, 0, 2, 1, 2, 2, 1, 3, 3, 4, 0, 2, 2, 1, -2, 4, 1, 0, 4, 3, 3, 3, 3, 4, 1, 1, 2, 2, 4, 2, 4, 3, 5, 3, 1, 3, 0, 3, 4, 2, 0, 4, 2, 4, 4, 3, 0, 1, 2, 1, 0, 2, 0, 0, 4, 1, 3, 3, 3, 5, 2, 2, 2, 2, 3, 3, 1, 2, 3, 3, 0, 2, 0, 1, 2, -1, 3, 1, 2, -1, 4, 4, 3, 1, 3, 4, 4, 3, 0, 3, 3, 3, 3, 2, 2, 2, 0, 4, 0, 1, 4, 1, 1, 2, 1, 1, 3, 1, 2, 3, 3, 4, 3, 2, -1, 1, 3, 5, 1, 2, 3, 3, 5, 4, 1, 0, 1, 4, -1, 1, 6, 27, 5, -5, 70, 250, 103, -245, -249, 55, 245, 71, -166, -183, 34, 178, 76, -111, -138, -3, 112, 81, -34, -130, -54, 142, 185, 42, -67, -2, 105, 159, 114, 84, 158, 258, 136, -182, -350, -199, 29, 50, -143, -232, -124, 92, 143, 36, -53, -86, -47, 105, 121, 22, -145, 29, 36, -20, -64, 29, 12, 18, 9, 170, 19, -225, -6, 113, 53, -39, -168, 306, 126, -262, -177, 218, 230, -102, -200, 72, -10, -168, -218, 256, 71, -181, 140, -34, -249, 89, 505, -48, -134, -292, -15, 269, -7, -267, 59, 555, 675, -304, -173, 422, 258, -170, -121, 336, 357, -95, 88, -158, -168, 203, 307, -348, -387, -11, 119, 241, 371, 7, -215, 20, 48, 97, 35, 76, 161, 77, 101, 295, -381, -418, 251, 538, -388, -726, -410, 39, 110, 11, -196, -419, -416, 218, 589, 11, -208, -446, 287, 489, -194, -404, 195, 346, -237, 61, 179, -260, -42, -156, -176, 172, -241, -484, -93, 627, 417, -648, -428, 308, -35, -333, -564, -137, -144, -418, -277, -159, 281, 279, 67, -355, 402, 393, -246, 224, 502, 190, -362, -301, 249, 868, -190, -711, -195, 455, 281, -55, -434, -247, 190, -311, -199, -46, 30, -280, -393, 368, 680, -652, -692, 623, 627, -321, -534, 131, 546, -68, -77, 175, 34, -228, -63, -48, 91, -182, -177, -335, -105, -219, -143, -625, -377, 71, 259, -251, -167, -307, -123, 506, 213, -209, -42, 323, -5, -224, -136, 326, 490, -115, -40, 60, 14, 65, 342, 268, -106, -112, -199, 0, 112, 199, -440, -425, 149, 816, 74, -642, -373, 690, 586, -477, -568, 43, 197, -236, -218, 64, 80, -125, -100, -4, 92, 37, 252, 292, 180, -220, -244, 251, 459, 51, -334, -174, 191, 376, 377, 44, 139, 279, 72, 9, 215, 213, -290, -373, -107, -22, -107, -98, 341, 242, -160, -182, 4, 246, 489, 177, -251, -322, 116, -170, -354, -376, -327, -239, -339, -403, -259, -312, -451, -77, -124, -280, 135, 74, -132, -379, -278, 50, 289, 74, -372, -364, 28, 109, -27, -154, -72, 250, 36, -96, 26, 166, 344, 333, -138, -231, 124, 202, 310, -134, -110, -77, -112, -136, -255, -32, 70, -193, -389, -111, 342, 241, -140, -236, 111, 395, -61, 38, 105, 257, -20, -152, 114, 244, 187, 240, -22, -381, -190, 182, 292, 250, -137, -115, 15, 32, 75, 149, -90, -112, 53, -186, -152, -172, -352, -132, -97, -211, -48, 103, -93, -141, 64, 243, 225, 191, 236, 65, -71, -74, 274, 636, 418, -7, -102, 99, 324, 336, 121, -103, -82, 99, 39, -117, -244, -24, -55, -75, -116, -82, 89, 234, 277, -6, -137, -72, 69, 256, 125, -139, -37, 72, 161, -51, -167, -41, -31, 7, 11, 108, 8, -212, -71, 283, 388, 48, -234, 1, 204, 163, 110, 106, 16, -49, -116, -19, 8, -55, 48, 135, 153, -122, -292, -118, 86, 249, 232, -148, -527, -227, 220, 225, 87, -4, -109, -133, -11, 36, -40, -70, -80, -53, 89, -81, -115, -1, 221, 144, 82, 182, 112, 186, 198, 120, 30, 74, -34, -63, 111, 217, 340, 98, -87, -3, 54, -43, 58, 45, 154, 222, 23, -176, -151, 220, 449, 253, 8, -128, -196, -84, 85, 246, 120, -72, -163, -53, 87, 137, 147, 197, 133, -47, -243, -249, -93, 107, 261, 135, 16, -181, -103, 220, 345, 248, -127, -368, -230, -21, 65, 58, 48, 70, 97, 190, 184, 129, 53, 133, 257, 158, -123, -297, -205, -15, 45, 150, 167, 159, 64, 29, 101, 228, 335, 309, 268, -21, -217, -169, 108, 334, 327, 84, -128, -160, 18, 218, 247, 69, -117, -132, -20, -42, -165, -135, -144, -120, 1, 23, 2, -16, -10, 210, 225, 210, 152, -34, -154, -112, -73, 9, -35, -171, -303, -282, -46, 64, 108, 62, -51, -75, -10, 105, 111, -119, -184, -189, -218, -218, -153, -79, -127, -270, -160, 12, 152, 205, 81, -12, -69, -57, -29, 35, 44, -87, -48, 83, 211, 163, -29, -28, 129, 250, 149, -62, -69, 122, 105, 72, -113, -297, -252, -80, -6, -44, -192, -318, -305, -143, -118, -143, -52, 45, 43, 53, 162, 129, 43, 78, 59, 41, 6, 45, 10, -99, -70, -3, -79, -87, -46, -137, -168, -167, -123, -33, 29, 39, 54, 81, -6, 18, 156, 136, 85, 54, 106, 78, 2, -128, -108, -142, -252, -217, -139, -50, 6, -45, -142, -137, -2, 70, 31, -13, -147, -194, -67, -24, -2, 53, -15, -49, -84, -74, -1, 94, 92, 154, 62, -28, -111, -90, 23, 35, 83, 63, 21, 106, 82, 88, 129, 92, 50, 11, 31, 44, -12, -116, -71, 55, 56, 67, 72, 73, 72, 74, 59, 137, 103, 8, -36, -71, 4, 54, 131, 102, 34, -3, -97, -86, -15, -17, -123, -153, -120, -155, -27, 45, 125, 149, 80, -7, 55, 207, 206, 312, 313, 163, 15, -74, -96, -31, -12, -25, -17, -62, -176, -240, -119, 67, 153, 51, -10, 13, 93, 63, 77, 66, -18, -80, -43, 22, -25, -99, -126, -125, -83, -1, 41, 13, -27, -89, -131, -28, -14, -75, -82, -175, -171, -71, -3, -1, -46, -98, -30, 82, 105, 75, 77, 40, 45, 141, 218, 212, 110, -67, -150, -134, -103, -72, -77, -68, -47, -50, -76, 23, 138, 189, 102, 9, -64, -43, -19, -24, -50, -109, -125, -99, -37, 13, 70, 100, 70, 49, 70, 91, 60, 31, 26, -15, -33, -51, -58, -39, 41, 21, -63, -89, -124, -119, -103, -40, -19, -39, -29, 5, 32, 69, 98, 119, 91, 42, 2, -50, -138, -129, -31, -18, -5, -29, -12, -116, -160, 12, 99, 142, 77, -72, -80, 57, 136, 143, 190, 177, 59, -38, 49, 146, 147, 82, 71, 53, 40, -16, -103, -150, -203, -219, -217, -210, -188, -190, -230, -159, -30, 80, 96, 20, -61, -1, 39, 106, 194, 146, 14, -119, -156, -108, -19, 38, 48, 69, 97, 34, 20, 85, 157, 168, 114, 41, -60, -123, -106, -26, 14, -14, -95, -131, -112, -60, 22, 66, 77, 38, -40, -120, -182, -155, -108, -54, 31, 68, 38, -35, -54, -2, 58, 91, 90, 23, -63, -114, -101, -20, 42, 44, 24, 13, 30, 56, 91, 127, 105, 27, -49, -19, 68, 153, 212, 209, 159, 72, 14, -30, -14, 52, 58, 2, -39, -79, -146, -161, -129, -73, -68, -93, -94, -63, -45, -83, -115, -90, -81, -118, -173, -176, -139, -117, -153, -220, -279, -256, -202, -107, 6, 43, 3, -45, -62, -60, -3, 67, 65, -10, -81, -71, 31, 139, 183, 164, 112, 73, 91, 165, 265, 298, 265, 162, 86, 78, 110, 152, 175, 154, 110, 87, 80, 66, 57, 46, 36, 45, 46, 46, 51, 40, 4, -27, -1, 38, 69, 50, 26, 0, 12, 28, 35, 8, -20, -74, -128, -156, -141, -128, -123, -101, -80, -79, -108, -168, -219, -163, -58, -18, -80, -165, -219, -222, -212, -179, -144, -124, -159, -246, -282, -225, -159, -188, -232, -256, -243, -244, -242, -186, -29, 142, 248, 314, 404, 482, 498, 511, 578, 660, 629, 472, 285, 173, 107, 80, 97, 163, 199, 142, 54, 21, 73, 139, 211, 244, 235, 139, 9, -103, -118, -64, -24, -45, -99, -152, -195, -214, -187, -137, -79, -77, -128, -176, -194, -209, -231, -211, -141, -65, -54, -111, -157, -174, -165, -149, -120, -120, -181, -292, -387, -400, -369, -351, -350, -330, -306, -317, -349, -395, -418, -394, -306, -164, 12, 183, 387, 618, 819, 925, 917, 837, 732, 662, 567, 443, 296, 164, 2, -120, -168, -126, -12, 114, 215, 270, 324, 353, 354, 316, 258, 161, 64, -28, -105, -180, -251, -286, -298, -287, -260, -200, -153, -100, -54, -19, 2, 27, 34, 14, -15, -44, -105, -173, -217, -238, -244, -241, -218, -202, -206, -234, -264, -288, -300, -339, -390, -423, -435, -444, -448, -442, -435, -447, -471, -454, -336, -140, 53, 264, 582, 945, 1163, 1153, 1035, 922, 805, 647, 488, 368, 238, 25, -222, -366, -333, -235, -136, -25, 118, 199, 219, 209, 249, 281, 289, 259, 227, 201, 113, -37, -207, -283, -302, -301, -294, -254, -199, -177, -155, -81, 55, 170, 222, 207, 169, 126, 64, 17, -4, -12, -89, -230, -373, -459, -474, -451, -394, -313, -259, -291, -388, -463, -493, -486, -477, -479, -476, -479, -498, -515, -488, -404, -238, 15, 329, 654, 956, 1216, 1381, 1383, 1200, 905, 597, 340, 143, 33, -48, -143, -292, -445, -514, -435, -234, -4, 201, 337, 360, 307, 236, 205, 196, 200, 171, 105, 21, -53, -141, -224, -285, -268, -202, -122, -80, -50, -12, 40, 87, 152, 207, 239, 225, 173, 113, 60, 15, -60, -114, -154, -190, -243, -304, -365, -413, -440, -441, -415, -367, -318, -299, -309, -356, -397, -441, -467, -474, -453, -432, -444, -488, -489, -358, -90, 233, 621, 1026, 1418, 1620, 1539, 1204, 789, 443, 183, 59, 14, -67, -222, -456, -648, -706, -539, -294, 8, 241, 404, 425, 375, 327, 318, 308, 246, 182, 106, 48, -37, -117, -205, -243, -272, -261, -237, -152, -43, 61, 126, 148, 156, 173, 227, 260, 267, 201, 109, -6, -104, -164, -182, -191, -227, -265, -299, -311, -296, -271, -259, -267, -282, -296, -291, -263, -254, -295, -389, -467, -520, -546, -569, -581, -575, -544, -455, -253, 54, 454, 890, 1342, 1685, 1782, 1526, 1035, 520, 121, -113, -201, -189, -201, -352, -592, -791, -774, -546, -196, 137, 418, 564, 555, 453, 370, 343, 345, 329, 296, 244, 128, -60, -284, -425, -438, -354, -255, -182, -112, -81, -58, 1, 152, 308, 398, 398, 315, 210, 102, 40, -3, -18, -81, -186, -302, -367, -364, -310, -241, -160, -93, -76, -118, -158, -195, -231, -264, -310, -366, -417, -462, -493, -506, -542, -596, -653, -689, -654, -489, -196, 192, 657, 1185, 1686, 1958, 1807, 1285, 660, 150, -161, -252, -172, -84, -168, -468, -818, -965, -811, -458, -24, 373, 634, 665, 534, 396, 352, 369, 379, 360, 312, 207, 41, -170, -363, -482, -511, -430, -209, 21, 101, 41, -54, -63, 37, 231, 406, 501, 427, 205, -35, -159, -155, -83, -6, -28, -129, -291, -417, -436, -299, -113, 29, 71, 31, -76, -183, -266, -283, -247, -245, -325, -445, -565, -658, -700, -702, -709, -709, -675, -548, -290, 98, 535, 1016, 1563, 1980, 1979, 1514, 841, 280, -125, -316, -307, -158, -134, -341, -710, -957, -894, -596, -196, 214, 594, 742, 657, 489, 419, 415, 422, 371, 310, 228, 92, -116, -347, -502, -580, -574, -447, -182, 59, 172, 174, 145, 124, 146, 228, 369, 448, 388, 187, -32, -197, -275, -254, -191, -139, -135, -183, -269, -297, -216, -77, 48, 118, 136, 82, -39, -182, -272, -311, -348, -388, -423, -493, -586, -677, -739, -786, -836, -841, -735, -468, -73, 396, 928, 1513, 2017, 2107, 1683, 983, 359, -90, -323, -283, -113, -25, -250, -648, -999, -998, -747, -306, 171, 608, 791, 715, 516, 397, 395, 413, 406, 362, 301, 156, -57, -299, -469, -562, -585, -516, -326, -69, 98, 166, 172, 170, 143, 165, 263, 375, 400, 301, 123, -73, -221, -284, -271, -227, -175, -163, -200, -235, -201, -109, -7, 76, 144, 156, 87, -24, -141, -230, -301, -353, -385, -437, -518, -630, -727, -774, -797, -838, -850, -743, -450, -57, 407, 937, 1572, 2075, 2111, 1607, 888, 270, -169, -385, -295, -66, 29, -220, -650, -993, -981, -727, -289, 212, 668, 841, 730, 504, 377, 368, 378, 365, 330, 283, 147, -65, -294, -437, -536, -642, -679, -495, -141, 159, 327, 399, 383, 250, 120, 130, 275, 409, 396, 214, -41, -267, -413, -452, -374, -207, -82, -66, -122, -108, -49, 15, 64, 144, 192, 145, 19, -130, -249, -342, -419, -450, -442, -456, -538, -639, -710, -751, -818, -880, -844, -618, -264, 160, 641, 1259, 1864, 2154, 1871, 1201, 516, -10, -336, -374, -148, 73, 7, -361, -802, -982, -861, -519, -33, 486, 821, 813, 611, 399, 331, 323, 330, 302, 288, 213, 54, -153, -326, -442, -558, -666, -648, -400, -45, 283, 470, 471, 288, 70, -27, 63, 280, 448, 427, 220, -100, -364, -488, -437, -290, -92, 5, -21, -98, -111, -77, 9, 94, 187, 212, 143, 26, -103, -214, -314, -374, -408, -420, -443, -488, -564, -632, -697, -777, -874, -888, -757, -474, -89, 365, 928, 1554, 2008, 1992, 1481, 802, 178, -237, -406, -244, 12, 146, -62, -481, -840, -896, -697, -296, 221, 684, 857, 742, 509, 343, 270, 258, 265, 269, 260, 173, -1, -199, -356, -484, -619, -692, -586, -355, -98, 169, 458, 613, 503, 249, 87, 96, 193, 264, 263, 155, -50, -326, -521, -539, -386, -192, -58, 29, 96, 126, 89, 69, 93, 137, 118, 60, -1, -65, -176, -315, -419, -446, -460, -495, -526, -528, -543, -617, -729, -835, -868, -794, -565, -167, 338, 949, 1571, 1974, 1918, 1405, 719, 89, -288, -382, -171, 92, 221, 24, -364, -740, -842, -668, -270, 216, 631, 813, 728, 516, 327, 238, 206, 208, 217, 211, 145, 19, -137, -287, -423, -576, -653, -582, -339, -32, 281, 473, 464, 252, 15, -96, -16, 180, 358, 396, 252, -33, -307, -489, -468, -323, -100, 23, 80, 49, 24, -30, -11, 58, 137, 175, 157, 103, 14, -109, -249, -350, -405, -422, -418, -412, -417, -452, -518, -627, -744, -831, -852, -760, -535, -182, 280, 836, 1385, 1757, 1728, 1301, 686, 147, -202, -290, -143, 121, 250, 120, -218, -515, -643, -548, -275, 130, 484, 653, 628, 495, 356, 258, 215, 169, 145, 126, 92, 9, -99, -195, -312, -471, -578, -508, -279, -18, 186, 288, 255, 118, -9, -42, 47, 188, 298, 262, 118, -59, -207, -314, -317, -224, -103, -41, -21, 1, 30, 33, 31, 52, 72, 79, 76, 50, -1, -72, -181, -301, -382, -406, -398, -387, -375, -376, -420, -527, -665, -773, -806, -727, -516, -174, 255, 756, 1248, 1545, 1508, 1153, 649, 162, -161, -251, -130, 110, 254, 198, -46, -296, -453, -459, -292, 9, 310, 483, 525, 470, 384, 293, 225, 155, 85, 45, 23, -23, -72, -104, -172, -311, -448, -467, -373, -178, 48, 212, 262, 187, 78, 0, -7, 41, 111, 154, 103, 18, -75, -153, -212, -190, -144, -98, -69, -15, 37, 67, 76, 70, 56, 20, 6, 6, 8, -19, -71, -155, -265, -348, -387, -382, -364, -338, -339, -397, -509, -633, -721, -732, -632, -389, -49, 367, 816, 1185, 1321, 1157, 795, 387, 61, -127, -129, 34, 229, 299, 196, 25, -144, -264, -287, -172, 18, 187, 300, 340, 351, 324, 289, 223, 125, 35, -10, -57, -92, -84, -56, -100, -212, -297, -333, -303, -193, -19, 118, 166, 133, 70, 13, -28, -20, 29, 51, 39, 6, -22, -79, -106, -109, -88, -93, -58, -8, 34, 46, 60, 54, 21, -20, -33, -20, -18, -27, -45, -95, -171, -236, -269, -279, -277, -257, -249, -298, -386, -483, -557, -578, -503, -311, -57, 234, 542, 795, 860, 726, 498, 269, 92, -18, 5, 127, 261, 293, 252, 171, 64, -35, -85, -63, 1, 74, 137, 183, 212, 230, 229, 170, 95, 32, -11, -68, -97, -69, -37, -61, -103, -120, -147, -149, -126, -70, -37, -5, 9, -10, -29, -29, -20, -32, -50, -56, -50, -58, -67, -46, -19, -19, -31, -5, 14, 24, 30, 37, 30, 18, 11, 1, 0, 9, 6, -15, -41, -68, -94, -116, -134, -143, -146, -164, -210, -263, -316, -356, -362, -302, -183, -42, 104, 229, 300, 277, 183, 96, 38, 6, -2, 73, 169, 237, 256, 254, 224, 167, 128, 100, 93, 93, 113, 124, 120, 118, 119, 108, 66, 37, 13, -12, -48, -44, -23, -15, -19, -15, -13, -30, -30, -24, -25, -35, -24, -24, -34, -36, -30, -22, -35, -43, -47, -49, -67, -72, -55, -53, -56, -49, -37, -40, -35, -31, -25, -30, -22, -14, -10, 6, 10, 14, -3, -25, -48, -62, -91, -117, -125, -145, -187, -229, -270, -313, -318, -252, -182, -91, 20, 124, 129, 77, 60, 54, 67, 85, 195, 297, 356, 346, 335, 295, 236, 190, 161, 142, 111, 120, 103, 84, 72, 84, 68, 11, -23, -33, -66, -98, -73, -41, -37, -43, -35, -42, -49, -37, -42, -46, -57, -51, -51, -44, -23, -4, 10, -24, -37, -51, -63, -90, -73, -43, -42, -43, -29, -17, -21, -10, -11, -12, -12, -9, 2, 19, 34, 34, 31, 3, -28, -56, -71, -100, -119, -118, -148, -193, -245, -292, -323, -286, -214, -140, -41, 73, 130, 81, 41, 34, 59, 62, 135, 258, 344, 352, 325, 298, 243, 193, 157, 140, 117, 110, 115, 100, 73, 77, 79, 32, -28, -35, -40, -75, -74, -31, -17, -29, -33, -28, -38, -40, -25, -26, -37, -49, -33, -31, -25, -8, 12, -10, -49, -59, -58, -77, -85, -52, -39, -52, -50, -31, -24, -30, -13, -13, -16, -17, 6, 13, 21, 29, 36, 11, -27, -43, -58, -78, -111, -115, -135, -182, -236, -275, -310, -319, -245, -166, -74, 33, 132, 107, 46, 36, 51, 71, 104, 249, 333, 374, 329, 310, 253, 205, 155, 144, 133, 107, 111, 104, 88, 71, 85, 52, -20, -48, -44, -66, -78, -31, -5, -20, -37, -36, -40, -48, -34, -31, -37, -46, -45, -29, -27, -12, 6, -5, -46, -65, -58, -71, -74, -57, -34, -49, -47, -36, -19, -24, -16, -11, -17, -18, -3, 23, 25, 37, 43, 22, -17, -37, -48, -76, -102, -114, -130, -175, -223, -270, -305, -317, -274, -194, -108, -9, 98, 125, 50, 27, 47, 67, 91, 209, 328, 366, 350, 306, 263, 210, 171, 138, 133, 117, 108, 111, 104, 84, 79, 71, -7, -62, -50, -54, -70, -39, 8, -10, -33, -36, -42, -53, -41, -29, -29, -32, -38, -31, -19, -12, -12, -11, -33, -68, -65, -62, -70, -65, -37, -49, -56, -38, -24, -27, -23, -11, -22, -18, -8, 13, 25, 29, 29, 17, -5, -38, -57, -75, -105, -125, -141, -175, -226, -272, -309, -325, -268, -190, -99, 6, 118, 123, 50, 29, 49, 85, 110, 242, 343, 390, 345, 307, 259, 215, 169, 138, 136, 115, 109, 106, 109, 86, 77, 58, -21, -72, -63, -54, -64, -29, 4, -14, -44, -51, -45, -43, -31, -29, -37, -43, -43, -31, -19, -3, -5, -15, -47, -68, -69, -60, -57, -56, -38, -46, -54, -44, -24, -25, -21, -12, -21, -15, 6, 24, 28, 35, 30, 5, -23, -41, -60, -79, -101, -130, -156, -194, -247, -293, -325, -324, -264, -177, -83, 21, 131, 114, 40, 21, 60, 86, 139, 276, 364, 397, 337, 298, 242, 221, 163, 138, 136, 120, 106, 112, 120, 90, 79, 46, -38, -79, -63, -48, -49, -13, -1, -22, -51, -62, -55, -32, -10, -28, -41, -39, -45, -37, -18, 1, -10, -22, -59, -77, -71, -60, -61, -60, -37, -53, -48, -40, -21, -23, -17, -25, -31, -13, 8, 23, 32, 35, 16, -12, -35, -54, -66, -83, -115, -142, -170, -212, -267, -309, -336, -316, -246, -160, -63, 60, 143, 95, 38, 35, 78, 96, 191, 317, 383, 392, 329, 283, 233, 213, 147, 139, 130, 115, 104, 122, 115, 83, 78, 22, -64, -81, -55, -47, -39, -5, -14, -35, -60, -68, -58, -34, -25, -42, -31, -17, -30, -28, -7, -11, -36, -42, -55, -67, -49, -41, -65, -60, -54, -65, -54, -25, -21, -19, -15, -27, -31, -4, 11, 12, 27, 28, -2, -16, -30, -61, -80, -102, -137, -158, -188, -230, -286, -321, -348, -306, -223, -121, -10, 105, 136, 68, 41, 55, 97, 133, 260, 352, 404, 373, 326, 277, 239, 195, 139, 133, 120, 110, 118, 141, 119, 83, 57, -20, -74, -72, -43, -36, -19, -3, -23, -46, -63, -68, -39, -28, -38, -36, -17, -23, -36, -9, -11, -22, -41, -46, -65, -59, -47, -62, -56, -64, -58, -62, -38, -36, -17, -20, -32, -29, -8, 0, 7, 24, 24, 2, -13, -34, -56, -77, -96, -127, -147, -174, -217, -270, -316, -350, -328, -256, -161, -51, 62, 134, 102, 56, 49, 92, 134, 223, 328, 402, 401, 342, 301, 257, 223, 162, 138, 127, 127, 122, 136, 134, 97, 61, 5, -58, -84, -57, -34, -31, -12, -12, -30, -59, -51, -47, -38, -32, -47, -50, -42, -20, -13, -5, -16, -42, -55, -73, -82, -75, -47, -62, -70, -54, -52, -52, -40, -28, -30, -29, -29, -24, 0, 15, 15, 12, 8, -16, -35, -44, -68, -88, -106, -136, -182, -217, -256, -313, -347, -348, -278, -193, -72, 31, 136, 136, 64, 50, 79, 132, 181, 315, 387, 413, 368, 322, 268, 229, 187, 130, 135, 121, 120, 130, 143, 104, 68, 33, -49, -90, -72, -37, -41, -20, -11, -40, -59, -70, -62, -40, -19, -41, -54, -35, -31, -19, -4, -9, -32, -51, -66, -89, -67, -52, -55, -68, -55, -59, -55, -40, -31, -26, -27, -33, -40, -16, 2, 6, 13, 2, -21, -46, -60, -87, -101, -119, -148, -191, -236, -276, -334, -349, -330, -260, -175, -64, 54, 133, 126, 73, 65, 99, 155, 212, 332, 405, 417, 368, 324, 270, 225, 176, 135, 129, 126, 125, 131, 136, 99, 60, 19, -47, -87, -72, -40, -39, -28, -20, -37, -59, -50, -44, -47, -34, -47, -52, -40, -13, -16, -9, -13, -51, -60, -68, -77, -73, -35, -53, -69, -55, -54, -62, -54, -32, -38, -28, -25, -25, -12, 10, 4, -7, -7, -32, -48, -58, -81, -112, -130, -164, -220, -258, -300, -341, -351, -303, -226, -123, -11, 90, 144, 109, 77, 78, 139, 188, 276, 372, 415, 396, 345, 304, 250, 207, 159, 138, 126, 124, 122, 138, 117, 78, 46, -13, -72, -90, -60, -49, -46, -26, -33, -54, -63, -47, -30, -28, -39, -59, -44, -26, -31, -8, -5, -20, -59, -54, -76, -77, -70, -59, -62, -65, -53, -59, -43, -41, -36, -38, -38, -42, -29, -6, -8, -6, -7, -24, -51, -68, -84, -111, -127, -163, -205, -252, -300, -342, -354, -315, -248, -144, -31, 75, 141, 140, 102, 88, 142, 180, 253, 339, 404, 408, 371, 325, 274, 229, 169, 137, 122, 122, 118, 124, 130, 87, 57, 10, -46, -87, -73, -56, -55, -46, -37, -44, -54, -44, -54, -45, -24, -34, -51, -25, -14, -20, -14, -35, -55, -53, -52, -97, -67, -47, -66, -79, -48, -58, -60, -35, -37, -47, -29, -27, -39, -21, -7, -29, -22, -28, -58, -68, -70, -118, -147, -155, -198, -260, -298, -339, -362, -324, -242, -155, -35, 76, 148, 147, 114, 103, 147, 200, 241, 329, 395, 408, 372, 331, 291, 238, 185, 125, 122, 112, 110, 113, 127, 87, 59, 27, -34, -79, -72, -61, -76, -64, -47, -47, -39, -27, -21, -28, -33, -61, -49, -29, -23, -24, -6, -21, -57, -41, -55, -71, -82, -64, -82, -77, -58, -49, -44, -41, -43, -44, -22, -27, -32, -14, -11, -18, -60, -55, -96, -134, -185, -232, -240, -232, -269, -339, -424, -470, -343, -185, -62, 102, 283, 385, 371, 252, 117, 65, 98, 170, 271, 392, 441, 401, 296, 217, 153, 97, 28, 1, 40, 107, 176, 235, 236, 174, 94, 33, -17, 29, 125, 172, 122, 36, -60, -101, -89, -54, -31, 6, 2, -25, -63, -104, -131, -141, -159, -166, -131, -52, -45, -98, -174, -191, -188, -122, -42, 48, 56, 8, -56, -70, -37, 3, 10, -51, -131, -212, -295, -360, -413, -443, -465, -480, -518, -572, -663, -772, -795, -576, -157, 327, 739, 1062, 1178, 1048, 689, 423, 475, 771, 927, 754, 345, -61, -374, -499, -456, -221, 15, 108, 6, -110, -165, -124, -49, 84, 275, 466, 498, 299, 8, -162, -153, -45, 38, 47, -65, -176, -262, -205, -58, 41, 0, -37, 55, 170, 176, 76, -16, 25, 112, 177, 99, -2, -132, -196, -164, -56, 29, -23, -120, -186, -111, -14, 24, -29, -84, -77, -83, -141, -240, -303, -324, -299, -270, -295, -367, -486, -602, -654, -632, -591, -517, -331, -53, 261, 584, 842, 832, 573, 346, 420, 706, 826, 633, 278, 45, -38, -76, -93, -68, 45, 126, 147, 59, -19, -45, 39, 177, 336, 408, 324, 109, -76, -81, 31, 66, -15, -108, -126, -150, -177, -209, -190, -135, -42, 40, 52, -9, -92, -72, 34, 114, 109, 23, -55, -89, -54, -54, -57, -66, -57, -52, -53, -65, -68, -30, -10, -8, -28, -84, -171, -218, -212, -203, -212, -260, -324, -362, -381, -438, -506, -545, -531, -411, -224, -31, 126, 352, 577, 652, 509, 329, 358, 601, 704, 535, 246, 133, 97, 84, -19, -47, 30, 154, 149, 21, -74, -56, 73, 180, 243, 228, 174, 91, -9, -35, 14, 58, 19, -35, -36, -46, -113, -201, -181, -32, 98, 63, -79, -152, -98, -4, 28, -14, -37, -25, -28, -87, -104, -91, -57, -34, -33, -46, -63, -73, -87, -54, -1, 8, -43, -87, -98, -83, -66, -73, -97, -90, -96, -150, -211, -240, -265, -302, -347, -365, -301, -200, -106, 2, 141, 280, 279, 220, 183, 258, 379, 422, 341, 195, 180, 153, 134, 81, 93, 128, 185, 170, 63, 5, 38, 115, 153, 169, 131, 80, 64, 19, -15, -10, 21, -6, -46, -55, -27, -3, -23, -100, -95, 56, 76, -50, -156, -92, -30, -9, -55, -164, -108, -11, -10, -121, -77, -46, -12, 17, -10, -61, -21, 10, -70, -79, -9, -25, -65, -83, -101, -101, -48, -86, -140, -106, -104, -198, -261, -271, -286, -250, -191, -175, -117, -6, 40, 32, 46, 57, 78, 194, 260, 227, 218, 253, 264, 235, 209, 172, 214, 275, 270, 151, 103, 98, 122, 146, 159, 118, 96, 88, 44, -28, -34, -14, -13, -27, -58, -101, -99, -79, -58, -42, -7, -15, -48, -69, -59, -51, -52, -57, -67, -58, -51, -66, -92, -75, -41, -29, -31, -35, -43, -41, -43, -57, -57, -31, -19, -37, -54, -60, -58, -35, -20, -37, -50, -65, -102, -144, -161, -173, -194, -203, -216, -214, -178, -137, -106, -76, -31, -1, 44, 109, 151, 207, 268, 287, 273, 252, 249, 234, 283, 292, 270, 208, 176, 134, 128, 140, 126, 119, 98, 68, 10, -21, -23, -27, -19, -41, -72, -108, -88, -77, -63, -40, -21, -23, -39, -48, -80, -72, -49, -39, -48, -46, -67, -85, -76, -66, -50, -33, -28, -53, -67, -69, -68, -52, -29, -26, -37, -38, -48, -46, -20, 2, 2, -3, -23, -56, -75, -90, -100, -119, -140, -184, -230, -243, -239, -206, -181, -122, -107, -66, -24, 30, 96, 160, 256, 252, 280, 260, 275, 266, 303, 320, 286, 278, 220, 178, 146, 159, 135, 120, 120, 61, 23, -8, -20, -43, -40, -44, -81, -71, -77, -104, -89, -43, -43, -40, 1, -25, -71, -74, -82, -73, -14, -5, -72, -85, -77, -90, -67, -23, -36, -42, -38, -87, -121, -68, -25, -34, -22, -44, -77, -55, -20, -22, 11, 36, 0, -42, -59, -80, -78, -63, -102, -165, -195, -235, -256, -221, -189, -159, -117, -88, -71, -19, 67, 119, 195, 237, 244, 255, 275, 274, 280, 313, 305, 291, 265, 209, 178, 181, 174, 135, 124, 93, 51, 30, 0, -17, -21, -19, -52, -85, -105, -107, -94, -73, -55, -56, -58, -67, -78, -78, -57, -43, -41, -61, -70, -85, -74, -58, -49, -49, -57, -70, -85, -83, -67, -50, -37, -35, -45, -50, -37, -28, -10, 6, 13, 0, -11, -22, -31, -27, -30, -55, -78, -108, -141, -169, -180, -187, -183, -184, -180, -140, -115, -62, -20, 36, 75, 130, 184, 197, 251, 254, 267, 264, 300, 291, 288, 287, 239, 215, 201, 188, 153, 153, 142, 83, 71, 28, 10, -1, -6, -53, -86, -93, -126, -126, -111, -111, -100, -85, -91, -103, -82, -71, -67, -60, -69, -86, -79, -68, -76, -71, -62, -66, -70, -63, -62, -47, -28, -23, -29, -22, -21, -20, -16, -10, -9, -3, -2, -8, -14, -12, -17, -21, -31, -50, -66, -91, -116, -136, -152, -160, -167, -173, -151, -126, -100, -58, -17, 23, 58, 113, 144, 180, 207, 213, 222, 228, 256, 236, 267, 240, 233, 214, 212, 191, 186, 179, 141, 128, 86, 62, 34, 26, -5, -38, -49, -91, -105, -116, -109, -116, -93, -94, -100, -94, -87, -85, -80, -71, -86, -91, -92, -101, -99, -83, -78, -79, -65, -69, -66, -54, -44, -39, -34, -32, -37, -33, -28, -22, -16, -6, -7, -12, -12, -12, -7, -4, -10, -24, -33, -56, -74, -84, -99, -109, -118, -125, -120, -101, -65, -53, -12, 22, 47, 64, 104, 146, 152, 179, 176, 171, 186, 210, 207, 204, 225, 195, 190, 188, 192, 165, 178, 153, 99, 72, 66, 33, 11, -2, -46, -73, -80, -97, -111, -100, -91, -106, -98, -102, -105, -94, -75, -90, -94, -91, -103, -103, -93, -84, -87, -76, -73, -78, -64, -52, -47, -44, -35, -44, -42, -36, -30, -26, -14, -8, -10, -1, 11, 13, 26, 31, 23, 18, 15, 0, -14, -14, -33, -53, -65, -81, -88, -85, -76, -83, -59, -47, -36, -14, 27, 30, 54, 77, 83, 96, 131, 155, 143, 179, 167, 171, 178, 219, 188, 187, 181, 147, 137, 138, 121, 78, 78, 36, 2, -15, -22, -42, -53, -62, -108, -114, -110, -110, -110, -93, -99, -114, -102, -110, -98, -77, -68, -84, -82, -83, -81, -70, -48, -47, -48, -43, -52, -50, -36, -20, -20, -11, -13, -17, -5, 8, 18, 30, 41, 36, 31, 32, 36, 39, 44, 40, 20, 17, 11, -2, -5, -7, -22, -36, -47, -59, -54, -52, -62, -64, -62, -62, -60, -36, -37, -36, -18, 4, 9, 24, 56, 63, 75, 76, 101, 109, 107, 139, 148, 125, 129, 142, 117, 123, 117, 108, 88, 76, 61, 58, 38, 28, 17, -4, -29, -38, -42, -55, -57, -63, -69, -79, -85, -83, -84, -87, -86, -90, -88, -92, -91, -85, -79, -78, -73, -67, -65, -54, -41, -34, -24, -16, -19, -5, 3, 5, 14, 26, 33, 31, 27, 41, 50, 40, 54, 61, 52, 51, 27, 24, 21, 30, 45, 8, -16, 3, -18, -12, -4, -30, -31, -14, -28, -23, -32, -42, -35, -49, -37, -29, -53, -29, -16, -4, 71, 133, 116, 57, 10, 44, 108, 59, -18, -36, -8, 54, 35, -1, 20, 41, 53, 49, 43, 41, 52, 57, 60, 55, 24, 22, 44, 25, -10, -19, -36, -6, -2, -26, -53, -59, -18, -12, -60, -89, -36, 11, -49, -108, -60, -22, -30, -112, -63, 35, -46, -114, -40, 68, -40, -31, -6, 30, 11, 10, 15, 8, 25, 52, -47, 10, 84, 52, -20, -53, 48, 83, 55, 23, -101, 25, 109, 33, -81, -2, 54, -32, 6, 2, -76, 31, 15, -33, -65, -15, 28, 41, -99, -72, 28, 39, -31, -123, -49, 82, -4, -56, 0, 49, 13, 9, -12, 43, 160, -74, -132, 103, 245, -71, -244, 42, 295, 90, -156, -174, 93, 278, 59, -160, -172, 67, 166, 143, -150, -182, -49, 186, 146, -218, -164, 149, 146, -53, -223, 22, 87, -30, 26, -146, -80, 96, 36, -42, -166, -59, 64, 108, -30, -108, -15, 83, 38, 53, -1, -126, 34, 106, -99, -18, 43, -145, 29, 177, -260, -255, 41, 340, -28, -433, -77, 563, -69, -464, 67, 342, 126, -213, -269, 154, 256, 136, -547, 16, 503, 72, -520, -157, 357, 319, -215, -346, 231, 274, -29, -497, 128, 407, 34, -499, -8, 399, -46, -478, 61, 549, 4, -714, -91, 727, -1, -513, -228, 654, 185, -466, -276, 560, 390, -454, -389, 450, 391, -488, -410, 274, 246, 30, -174, -192, 123, 32, 147, -262, 245, 111, -401, -76, 752, -141, -654, -183, 793, 519, -721, -828, 479, 620, -312, -237, -80, 355, -175, -401, 812, 305, -787, -531, 466, 823, 82, -773, -551, 616, 531, 162, -146, -587, -389, 567, 963, -697, -1166, 104, 1143, 300, -691, -563, 332, 623, -2, -776, -130, 545, 167, -82, -512, -278, 730, 213, -458, -94, -20, 235, -287, -166, 613, -58, -667, 62, 548, 18, -221, 85, 50, -360, 299, 619, -622, -839, 806, 954, -722, -1106, 685, 990, -477, -598, 59, 517, 290, -103, -543, -176, 389, 731, -215, -976, -264, 694, 843, -660, -851, 176, 882, -24, -651, -84, 248, 44, -436, -123, -279, 416, 439, 126, -136, 115, 26, 116, -30, 97, -139, 128, -65, -296, -40, 414, 158, -229, -291, -99, 306, 383, -135, -372, -125, 52, 142, 167, 81, -611, -584, 724, 941, -487, -1254, 377, 1072, -119, -806, -321, 335, 911, -42, -1209, -400, 1598, 559, -1414, -914, 1343, 1027, -846, -842, 622, 267, -179, 193, 95, -179, -512, -35, 244, 605, -641, -646, 418, 484, -76, -409, -420, 819, 319, -540, -440, 499, 205, -337, -18, 318, -96, -16, -135, -170, 87, 371, -283, -5, 751, 164, -515, 189, 316, -3, -176, 7, -369, -608, 192, 476, -18, -552, -402, 378, 556, -131, -537, -91, 592, 269, -265, -256, 150, 365, -164, 33, 270, -60, 58, 46, -37, -8, 149, 188, -351, -196, 343, 284, -339, -155, 33, 222, 107, -267, -442, 363, 609, -150, -343, -224, 64, 349, 357, -480, -375, 451, 703, -298, -778, 173, 814, 41, -616, -574, 803, 407, -534, -113, 282, -324, -385, 673, 167, -1089, -359, 1105, 662, -1073, -1114, 694, 1356, -225, -956, -249, 799, 417, -532, -215, 489, 48, -362, -38, 73, -15, 51, 317, 45, -305, -15, 123, 87, 245, -22, -351, 245, 389, -390, -240, 376, 389, -245, -519, 1, 271, 258, -120, -145, 124, 429, -19, -375, 73, -15, 57, -22, 96, -175, -101, -27, 100, 130, -211, -277, 174, 428, -108, -530, -230, 361, 432, -310, -493, 131, 196, 101, 128, -250, -238, 123, 75, 105, 31, -72, -162, 195, 332, 267, -116, -267, -459, 446, 477, -308, -824, 300, 87, -381, -33, 133, -146, 39, -182, -188, 312, 391, -296, -27, 202, 81, -276, -266, 236, 702, -526, -696, 416, 677, -329, -545, 398, 383, -132, -124, 46, 96, -117, -232, -166, 352, 30, -394, -235, 454, 129, -471, -357, 146, 401, -96, -305, -85, 157, 75, -303, -109, 368, -60, -233, -131, 206, 79, -26, -43, -147, 113, 77, -214, -58, 134, 23, -12, -32, -164, 59, 250, -12, -21, 184, 18, 66, 261, 50, -125, -10, 297, 257, -78, -179, -130, 177, 465, -159, -261, -24, 108, 319, 163, -34, -142, 272, 273, 2, -112, -122, 184, -52, -347, 74, 243, 42, -391, -215, 368, 146, -485, -376, 246, 25, -531, -213, 297, 334, -271, -445, 319, 316, -151, -603, 322, 358, -299, -451, -51, 135, 161, -102, -180, 32, 520, -165, -338, 46, 563, -194, -426, 295, 418, -323, -106, 163, 76, 72, -52, -86, -72, -16, 247, -483, -39, 527, -22, -677, -289, 279, 218, -585, -205, 433, 65, -243, -144, 328, 240, -406, -266, 454, -11, -250, 210, 315, 79, -120, 61, 97, 138, -10, 95, 24, -196, -376, -73, 460, -76, -604, -370, 304, 335, -246, -448, -231, 202, 269, 70, -253, -142, 89, -313, 12, 224, -59, -196, -73, 173, -139, 1, 228, 130, -94, -63, -181, 9, 245, -3, -92, -141, 284, 241, -206, -173, 48, -54, 71, -178, -75, -178, -39, 54, -58, -128, 128, 196, -312, -121, 269, 131, -121, -107, 202, 40, 164, 40, -47, 145, 241, 205, -48, -133, 152, 416, 66, -143, -118, 254, 34, -530, -181, 259, 42, -434, -235, 479, 43, -427, -227, 170, 311, -25, 76, 241, 140, -140, 111, 501, -92, -395, 39, 269, -149, -180, 297, 307, -319, -76, 326, 248, -120, -95, 345, 397, -298, -168, 191, 205, 39, -166, -303, -43, 78, -229, -248, -123, 103, 43, -26, 66, -23, 187, 348, 141, -321, 111, -65, 237, -32, -262, 1, 357, -29, -379, 110, 210, -333, -63, -26, -39, -65, -290, -96, 238, -26, -218, -187, 3, 392, 63, -466, -8, 302, -75, -520, -159, 368, 65, -438, -296, -54, 254, 337, -180, -246, 10, 452, 322, -109, -289, 136, 463, 378, -406, -450, 352, 269, -52, -450, -343, 208, 107, -231, -92, -36, 158, 497, -23, -253, 52, 196, 22, 176, -106, -188, -271, 413, 272, -61, -255, 354, 164, -130, -212, 138, -16, 89, 95, -94, -68, 267, 152, -142, -66, 197, -411, -134, 192, -51, -555, -2, 223, -152, -92, 126, -297, 158, 515, -3, -86, 102, 382, 180, -39, -130, 75, 140, 116, -460, -361, 359, 283, -322, -174, 138, -101, -128, 416, -47, -501, 154, 101, -310, -229, 184, 264, -47, -308, -25, 231, 162, -92, 30, -37, 65, -9, -55, -75, 213, 191, -243, -233, 142, 174, -98, 106, -157, -300, 147, 374, -168, -609, -44, 376, -56, -163, 4, 79, -270, -201, 172, 381, -445, -218, 544, 133, -288, 47, 294, -16, 138, 265, -117, -193, -41, 8, -64, -3, -23, -207, -90, -195, 359, 245, -208, -393, 19, 564, 350, -352, -185, 434, 382, 159, -31, -200, 162, 103, -7, -148, -161, -18, -25, -78, -238, -39, 121, 20, 59, 122, 143, 1, -156, 60, 340, 203, -137, -302, 79, 264, -125, -142, -308, 303, 78, -402, 84, 213, -117, -163, 69, 220, -32, -87, -207, 712, 24, -473, -171, 842, 179, -704, -380, 631, 437, -453, -374, 274, 53, 18, 319, 60, -489, -236, 314, 77, 265, -337, -230, 19, 167, 333, -216, -270, -198, 384, 581, -365, -766, 1, 842, 259, -455, -269, -48, 232, 419, 71, -257, -481, 202, 920, -395, -852, 393, 810, -279, -591, 320, 254, -58, -186, 511, 280, -244, -389, 283, 378, -30, -401, -315, 409, 143, -110, -291, -70, 343, -13, 179, -17, -14, 66, 18, -51, 328, -217, -277, -275, 334, 207, -189, -356, -32, 139, 256, 68, -52, -278, -121, 360, 99, -278, -50, -100, -196, 223, 696, -197, -814, -315, 678, 666, -478, -556, -77, 431, 114, 2, 143, -295, -69, 49, 427, 89, -552, -419, 491, 732, -341, -533, 130, 109, 108, 307, -29, -544, -293, 357, 466, 103, -483, -399, 203, 493, 106, -306, -428, 272, 759, 27, -529, -169, 83, 15, 287, 205, -233, -436, -329, 580, 653, -325, -658, -146, 493, 672, -526, -610, -181, 479, 429, 163, -412, -727, -310, 818, 565, -263, -728, -498, 335, 651, -19, -571, -478, 131, 627, 424, -466, -565, -62, 461, 771, 102, -763, -633, 174, 809, 832, -607, -1245, -146, 889, 700, -221, -881, -253, 373, 871, 98, -845, -536, -19, 765, 1071, -269, -1405, -742, 858, 1288, 361, -1284, -973, 296, 792, 341, -318, -630, -81, 318, 346, 236, -549, -282, 118, 300, 409, -253, -418, -364, -32, 620, 421, -31, -885, -598, 623, 892, -347, -465, -227, 1, 311, 464, -200, -905, -252, 937, 486, -434, -295, -468, 39, 871, 565, -324, -592, -499, 780, 990, -264, -530, -251, -4, 551, 147, -102, -435, -33, -72, 493, 255, -242, -800, -28, 763, 304, -188, -466, -278, 145, 357, 147, 61, -48, -523, -90, 539, 468, -229, -711, -162, 485, 646, -436, -889, -223, 769, 474, -265, -328, -296, -302, 304, 848, 103, -776, -266, 283, 414, 64, -272, -130, -165, 285, 602, -58, -692, -549, 452, 848, 189, -270, -725, -718, 444, 1334, 151, -932, -671, -1, 585, 787, -82, -1086, -581, 675, 1185, -137, -967, -465, -34, 390, 820, 21, -871, -845, 401, 1020, 533, -709, -1172, -64, 1035, 815, -208, -1274, -641, 811, 1095, 398, -1118, -1236, 228, 1265, 746, -461, -979, -574, 464, 860, 414, -741, -939, -10, 907, 498, -177, -751, -612, 340, 990, 413, -455, -1015, -326, 797, 1132, 124, -1010, -1091, 191, 1249, 488, -572, -895, -527, 476, 950, 363, -709, -846, -174, 724, 717, 45, -699, -768, 365, 930, 203, -338, -640, -496, 404, 966, 215, -693, -734, 45, 713, 492, -205, -520, -299, -25, 616, 387, -118, -738, -341, 369, 753, 143, -703, -766, 180, 701, 634, -206, -985, -592, 621, 969, 165, -887, -738, 241, 564, 550, -272, -529, -460, 282, 507, 292, -285, -491, -354, 443, 634, 84, -455, -474, -138, 509, 414, 179, -548, -392, -77, 550, 260, -76, -257, -394, -25, 295, 218, -5, -99, -152, -14, 111, 184, -80, -180, -308, 209, 395, 19, -192, -295, -249, 171, 544, 201, -361, -431, -69, 348, 371, 43, -343, -412, -11, 433, 338, -207, -250, -275, 107, 280, 76, -157, -35, -74, -55, 62, 290, -193, -229, -83, 185, 224, -121, -230, -47, 162, 71, -38, -19, -29, 61, 18, -123, 76, 15, -8, -28, 64, 48, -99, -21, -53, 16, 128, 106, -18, -94, -52, -9, -17, 116, 125, 28, -142, 28, 41, -144, -61, 137, 16, 56, -86, -1, -41, 44, 83, -38, -150, -31, 76, 96, 51, -44, -115, -83, 9, 173, -4, -63, -48, -5, -43, 84, 47, -41, 11, 42, -86, 11, 77, -16, -65, -21, -7, -55, 91, 63, 49, -81, -65, -6, 34, -28, 28, 77, 13, 22, -7, -169, -89, -24, 183, 227, 12, -185, -157, -108, -14, 103, 130, 82, -73, -160, -106, 85, 66, 33, -57, -82, -46, 59, 132, 71, -82, -137, -61, -4, 67, 187, 95, -130, -188, -72, 117, 154, 58, -80, -154, -113, 11, 155, 162, 2, -64, -160, -107, 61, 104, 153, 52, -179, -245, -69, 134, 193, 126, -12, -95, -130, -21, 39, 67, 75, -12, -34, -17, -33, -41, 42, 71, 34, 11, -63, -72, 1, 59, 60, -45, -63, -1, -5, 22, 7, 33, -9, -10, -55, -2, 24, 77, -14, 36, -21, -95, -95, 18, 160, 103, -75, -128, -55, 18, 64, 35, 67, -25, -101, -44, 22, 91, 20, -12, -65, -18, 39, 20, -9, -5, -27, 13, 42, 28, -36, -81, -31, 23, 66, 20, -15, -34, -4, 37, 36, -14, -79, -65, 6, 64, 86, 37, -37, -55, -74, -38, 39, 43, 68, 16, -19, -65, -8, 31, 41, 0, -61, -7, 36, 32, 20, -5, -5, -27, -52, -5, 24, 18, 10, 12, -6, -7, -18, 6, 15, 16, -6, -17, -9, 4, -16, -2, 8, -2, 14, 9, 15, -19, -53, -27, 9, 33, 48, 28, -11, -30, -16, 3, 30, 3, -5, 7, -24, -19, 8, 26, 22, -5, -13, -19, -1, 17, 8, -12, -9, 5, 12, 11, -9, -10, -2, -4, -2, 13, 2, -1, -5, 15, 16, 21, 14, -23, -43, -48, 3, 50, 47, 13, -17, -26, -31, -19, 18, 38, 40, 12, -29, -47, -23, 2, 22, 27, 14, 10, -10, -20, -14, 3, 6, 3, 20, 16, -2, -13, -30, -26, -3, 24, 31, 25, 5, -18, -24, -15, 0, 15, 12, 11, 0, -11, -10, 2, 13, 6, -4, -4, 5, 2, -1, -4, -14, -15, -3, 20, 25, 7, 0, -9, -14, -13, -3, 10, 16, 18, -5, -24, -15, -3, 14, 21, 7, -3, -19, -17, -1, 8, 15, 13, -8, -9, -4, -11, -5, 1, 1, 6, 9, 5, 1, -3, 2, 0, 4, 6, 10, 2, 1, -7, -10, 6, 8, -3, 2, -2, -2, -4, 3, 9, 3, 2, 4, 4, -3, -4, -6, -1, -2, -4, 6, 15, 13, 1, -13, -14, -3, 10, 11, 11, 4, -6, -5, 7, 13, 4, -5, -11, -16, -16, 0, 14, 14, 10, 10, 5, -8, -11, -4, 9, 6, -4, -2, 4, 13, 9, -5, -13, -2, 3, 12, 9, -2, -5, 4, -7, 7, 11, -5, -5, -1, -1, 2, 14, -1, -3, -5, 0, 6, 9, 7, -1, -7, -6, -7, -8, 8, 11, 7, 13, 13, -8, -8, -9, -8, 4, 16, 5, 0, -9, 1, 7, -3, 4, 5, 6, 1, -3, -10, 0, -4, 1, 15, 8, -6, -12, 0, 5, 13, 9, -1, -5, -5, -3, -1, 7, 13, 9, 0, -6, -1, -3, -3, -3, 9, 4, 4, 9, 3, 5, -2, -5, -2, 2, 1, 10, 11, 4, -2, -6, 1, 2, -4, 4, 12, 10, -2, -3, 1, 3, 7, 2, 4, 0, -2, 3, 7, 2, 7, 8, 0, -4, 0, -4, -2, -2, 6, 11, 13, 11, -8, -12, -4, -2, 3, 12, 11, 10, 0, -9, -16, -3, 12, 11, 11, 3, -2, -6, -4, -5, 3, 12, 15, 12, 2, -7, -7, -3, -5, -6, 6, 14, 9, 13, 2, -1, -5, -3, -2, 4, 2, 1, 1, -1, 3, 0, 9, 13, 9, 0, -14, -19, -11, 2, 19, 23, 21, 2, -5, -10, -11, -5, -1, 2, 12, 10, 12, -3, -5, -4, -2, -2, 14, 19, 12, 0, -3, -6, -10, 0, 12, 20, 16, 1, -13, -22, -16, 0, 15, 22, 19, 10, 2, 2, -9, -10, -6, -5, 1, 11, 11, 3, -4, 2, -3, -6, -4, 4, 12, 10, 12, 2, -8, -19, -13, -6, 1, 16, 26, 21, 7, -14, -21, -19, -5, 18, 20, 19, 8, -2, -8, -8, -11, -4, 7, 14, 5, -5, -1, 10, 15, 11, 2, -18, -14, -1, -5, -2, 9, 6, 13, 13, -2, -12, -15, -13, 19, 32, 23, 5, -5, -28, -36, -18, 16, 37, 31, 11, -7, -29, -17, 0, -3, 5, 19, 30, 20, -9, -22, -26, -20, 2, 26, 43, 25, -21, -42, -39, 2, 30, 50, 40, 6, -20, -29, -22, -3, -14, 17, 58, 33, -27, -32, -32, -11, 28, 27, -2, 0, -2, -30, -6, 22, 47, 21, -24, -48, -42, 22, 54, 41, 9, -27, -24, -4, 7, 19, 11, -19, -33, 5, 11, 30, 32, -13, -19, 14, 30, -12, -13, 17, 16, -5, -26, -25, -20, 7, 7, 42, 25, 12, -5, -19, -33, -20, 13, 35, 8, -6, -7, -17, -10, 8, 8, 14, 28, 25, 0, -27, -62, -18, 22, 41, 38, 9, -9, -14, -22, -11, -4, 25, 25, 4, 6, -23, -6, 1, -29, -3, 23, 26, 22, 2, -48, -22, 22, 9, 10, -14, 15, 22, 6, -5, -6, -7, 9, 32, 20, -12, -29, -59, -8, 33, 45, 21, -29, -16, -7, 14, 22, 34, 36, -10, -19, -21, -12, 21, 75, 150, 154, 91, -31, -117, -189, -180, -149, -34, 40, 58, 41, 45, 17, 14, -21, 13, 57, 25, 31, 40, -12, -18, -20, -5, -61, -33, 8, 47, 48, 12, 12, 50, 0, -110, -108, -51, 3, 92, 31, 10, 23, -6, -44, -42, -18, -21, 20, 50, 13, 18, -6, -9, -21, 0, 33, -82, -34, 94, 60, 7, 33, 24, -35, -85, -13, 48, 92, 82, -30, -137, -97, 11, 51, 42, -14, -91, 0, -22, -8, 48, 68, -24, -15, -1, 10, -16, 38, 3, 38, -33, -32, 15, 4, -114, -97, 55, 97, 20, 50, -41, -101, -20, 45, 44, 39, 33, -60, -52, 29, 49, -74, 2, 78, -23, -32, 5, -42, -38, 16, 84, -6, 10, -18, -16, -45, -27, 77, 54, -22, -94, -37, 15, 23, 5, -8, -46, -60, -13, -28, 25, 52, 91, -14, -90, -53, 28, 61, 67, 45, -59, -37, -58, -9, 34, 9, 24, 19, 90, 40, -39, -139, -137, -52, -2, 13, 111, 62, 52, -37, -30, 5, 56, 11, -4, -47, -2, 89, 24, -86, -55, -91, -82, 109, 50, 39, 84, -22, -102, -35, -149, -60, 86, 122, 53, -27, -169, -58, 38, 129, 45, 77, 8, -69, 9, 42, -17, 0, 89, -84, -109, -15, 49, 88, 46, -146, -89, 56, 25, -30, -75, 163, 91, -52, -8, -65, -108, -16, 127, 161, 104, 27, -144, -250, -82, 97, 175, 83, 21, -115, -163, -107, -101, 137, 239, 86, -111, -40, -19, 2, 11, 24, -5, 26, -59, 24, -115, -56, 54, 163, -9, -154, -219, -25, 142, 249, 100, -113, -122, -65, -27, -8, -9, 70, 172, 103, -63, -85, -58, -81, -63, 49, 4, 97, 129, 77, -82, -97, -102, 72, 83, 40, 7, 20, -69, -67, -8, 39, 28, 66, -27, -75, -107, -86, -20, 40, 74, 105, 68, -31, -127, -15, 95, 10, -38, 7, 83, 135, 52, -84, -100, -27, -77, 10, 99, 52, -19, 36, -88, -125, -148, 20, 58, 134, 137, 76, -56, -119, -116, -45, 108, 157, 152, 67, -124, -118, -141, -79, 43, 127, 145, 120, 10, -106, -117, -52, -5, 38, 49, 33, -1, 42, 2, -118, -128, 2, 55, 35, 95, 52, -58, -95, -89, 46, 102, 121, 106, 172, 104, -87, -166, -155, -29, 18, 47, 89, 64, -69, -90, -71, -52, -39, 2, 101, 115, 86, 49, -53, -85, -44, 8, 30, 65, 86, 72, 31, -27, -78, -87, -54, 58, 79, 80, 79, 15, -88, -141, -71, -37, 11, 76, 120, 90, -4, -119, -133, -83, -33, 58, 156, 182, 134, -7, -164, -135, -92, -38, 94, 137, 126, 31, -93, -125, -125, -64, 14, 95, 137, 116, 16, -76, -102, -68, -8, 52, 81, 90, 77, 29, -50, -98, -94, -54, -22, 48, 54, 34, -14, -67, -66, -36, -39, -31, 25, 72, 89, 45, -19, -39, -66, -46, 49, 91, 85, 16, -27, -49, -11, 7, 2, 5, -39, -27, 10, 31, 10, -7, -41, -25, 30, 34, 59, 73, 81, 66, 31, 14, 0, 3, 37, 53, 78, 63, 19, -6, -24, -58, -61, -12, 38, 74, 43, 26, 1, -20, -46, -44, -25, -14, 9, 34, 15, -31, -75, -87, -70, -82, -63, -43, -53, -54, -77, -115, -137, -139, -108, -71, -76, -131, -170, -171, -184, -185, -193, -206, -232, -250, -231, -174, -105, -55, -27, 26, 98, 187, 322, 473, 636, 779, 869, 890, 858, 754, 603, 430, 266, 128, 5, -109, -201, -286, -348, -394, -405, -384, -322, -248, -178, -110, -74, -54, -57, -67, -79, -74, -44, -3, 35, 56, 66, 56, 49, 57, 63, 66, 57, 26, -43, -137, -248, -354, -425, -472, -495, -515, -538, -550, -554, -529, -496, -471, -467, -498, -561, -599, -551, -338, 41, 549, 1128, 1651, 1967, 1988, 1723, 1268, 813, 503, 374, 372, 423, 387, 187, -188, -650, -1048, -1268, -1253, -1069, -809, -563, -414, -362, -362, -350, -274, -114, 103, 315, 492, 607, 675, 703, 692, 653, 572, 469, 351, 249, 210, 215, 237, 250, 202, 60, -162, -384, -553, -618, -551, -418, -295, -226, -209, -228, -226, -149, 0, 191, 373, 469, 456, 371, 228, 89, -23, -114, -217, -323, -427, -523, -611, -663, -691, -702, -701, -711, -730, -757, -799, -825, -811, -698, -429, 23, 701, 1524, 2249, 2622, 2551, 2094, 1413, 727, 270, 96, 144, 249, 240, -46, -568, -1143, -1581, -1761, -1635, -1281, -871, -521, -297, -197, -150, -51, 93, 294, 530, 716, 838, 905, 943, 936, 878, 756, 573, 316, 53, -166, -312, -366, -290, -193, -108, -112, -170, -311, -383, -408, -322, -211, -51, 46, 96, 95, 90, 83, 131, 210, 285, 325, 320, 247, 134, 9, -143, -296, -453, -592, -713, -748, -759, -718, -684, -652, -658, -667, -679, -677, -681, -665, -634, -548, -350, 31, 644, 1507, 2406, 2981, 3025, 2542, 1699, 757, 7, -370, -451, -354, -295, -453, -875, -1370, -1736, -1846, -1639, -1208, -711, -300, -4, 169, 314, 501, 716, 895, 1003, 1001, 901, 765, 672, 607, 543, 415, 168, -159, -490, -727, -823, -760, -615, -467, -357, -276, -147, 105, 452, 730, 837, 744, 508, 207, -2, -93, -47, 37, 79, -20, -189, -356, -411, -340, -159, 12, 97, 57, -105, -342, -545, -662, -678, -612, -512, -437, -415, -425, -460, -482, -492, -519, -589, -678, -724, -708, -517, -57, 753, 1801, 2759, 3197, 3023, 2296, 1297, 283, -396, -677, -658, -516, -478, -674, -1075, -1421, -1625, -1572, -1282, -821, -390, -29, 220, 422, 632, 864, 1007, 1036, 966, 798, 583, 412, 326, 275, 216, 75, -189, -502, -727, -833, -791, -619, -409, -156, 88, 282, 407, 557, 642, 636, 521, 412, 237, 116, 19, -42, -133, -190, -271, -334, -352, -287, -178, -44, 53, 71, 38, -30, -137, -268, -375, -476, -546, -573, -528, -463, -378, -328, -326, -379, -463, -604, -747, -854, -904, -859, -672, -282, 393, 1432, 2565, 3320, 3395, 2864, 1869, 700, -282, -813, -960, -850, -738, -814, -1109, -1412, -1584, -1571, -1306, -869, -388, 7, 317, 565, 795, 1083, 1299, 1255, 1097, 821, 501, 207, 63, 10, -32, -148, -372, -647, -845, -906, -811, -596, -330, -67, 168, 381, 647, 914, 1079, 1009, 775, 420, 86, -179, -295, -347, -336, -337, -394, -470, -474, -354, -170, 46, 175, 256, 228, 159, 14, -108, -252, -386, -565, -655, -676, -565, -429, -289, -242, -257, -372, -550, -771, -947, -1063, -1063, -938, -618, -71, 832, 2050, 3168, 3710, 3502, 2698, 1480, 223, -690, -1093, -1145, -1015, -953, -1108, -1385, -1566, -1572, -1409, -1030, -565, -113, 250, 579, 863, 1186, 1463, 1512, 1297, 956, 555, 164, -92, -201, -254, -335, -485, -703, -881, -903, -790, -576, -294, 18, 249, 454, 621, 893, 1105, 1184, 963, 642, 187, -147, -424, -482, -532, -469, -464, -464, -488, -363, -165, 42, 178, 251, 273, 232, 147, 5, -121, -285, -466, -657, -706, -651, -480, -324, -207, -209, -297, -486, -718, -947, -1122, -1170, -1117, -920, -543, 184, 1266, 2607, 3647, 4016, 3536, 2500, 1121, -134, -999, -1334, -1383, -1305, -1323, -1474, -1613, -1583, -1371, -1068, -651, -241, 140, 464, 826, 1181, 1547, 1729, 1597, 1182, 683, 196, -193, -415, -504, -563, -665, -788, -905, -883, -728, -483, -255, -30, 138, 304, 464, 771, 1102, 1377, 1390, 1141, 635, 88, -361, -666, -780, -791, -665, -624, -501, -429, -208, -59, 152, 219, 337, 360, 406, 307, 206, -20, -272, -566, -744, -788, -676, -466, -280, -162, -175, -270, -448, -614, -805, -988, -1180, -1274, -1216, -932, -374, 475, 1650, 2937, 3849, 3964, 3347, 2286, 992, -215, -1068, -1474, -1639, -1641, -1653, -1692, -1668, -1415, -1106, -799, -440, -27, 340, 703, 1080, 1418, 1673, 1718, 1458, 957, 470, 6, -382, -653, -768, -850, -890, -891, -842, -706, -470, -238, -61, 119, 367, 680, 965, 1153, 1185, 1072, 799, 398, -9, -304, -482, -592, -617, -592, -505, -404, -256, -139, 1, 105, 189, 204, 210, 200, 161, 70, -77, -227, -350, -422, -462, -439, -381, -309, -282, -273, -303, -367, -502, -703, -961, -1191, -1314, -1283, -1070, -699, -127, 657, 1697, 2857, 3742, 3948, 3372, 2320, 993, -256, -1219, -1676, -1883, -1882, -1851, -1775, -1628, -1270, -815, -433, -81, 227, 514, 752, 1071, 1351, 1587, 1592, 1328, 807, 279, -179, -547, -795, -910, -947, -948, -869, -719, -484, -220, 16, 150, 246, 353, 537, 739, 949, 1078, 1089, 911, 601, 180, -290, -464, -713, -837, -795, -640, -406, -194, 26, 126, 177, 156, 184, 219, 192, 205, 133, -1, -157, -281, -414, -485, -465, -436, -353, -258, -182, -208, -275, -470, -682, -850, -1022, -1161, -1156, -1088, -853, -524, 52, 837, 1845, 2842, 3531, 3559, 2986, 2025, 844, -273, -1095, -1601, -1887, -1973, -1915, -1750, -1422, -984, -538, -204, 90, 343, 545, 796, 1075, 1281, 1378, 1293, 1003, 578, 167, -231, -581, -819, -933, -941, -865, -684, -450, -217, -19, 109, 186, 247, 369, 575, 908, 1168, 1181, 922, 543, 73, -359, -653, -764, -764, -622, -396, -191, -12, 147, 222, 154, 76, 41, 45, 49, 56, 17, -63, -176, -270, -326, -305, -252, -205, -183, -180, -182, -205, -274, -403, -558, -708, -888, -1062, -891, -928, -964, -762, -424, 43, 596, 1355, 2243, 2905, 3097, 2875, 2205, 1227, 239, -626, -1326, -1734, -1905, -1831, -1677, -1273, -860, -421, -127, 173, 308, 454, 576, 764, 859, 939, 921, 790, 548, 262, -27, -333, -542, -696, -731, -694, -521, -346, -150, -8, 95, 130, 178, 216, 340, 570, 848, 977, 913, 683, 314, -115, -467, -675, -745, -661, -476, -248, -54, 171, 263, 256, 135, 65, -25, -70, -98, -85, -121, -157, -211, -238, -243, -205, -169, -142, -116, -101, -114, -178, -280, -425, -573, -711, -799, -828, -817, -781, -728, -632, -407, -45, 427, 964, 1607, 2160, 2438, 2351, 2019, 1435, 663, -76, -714, -1181, -1467, -1473, -1389, -1163, -835, -467, -210, 4, 202, 331, 405, 473, 561, 590, 603, 562, 464, 289, 115, -82, -265, -408, -464, -458, -399, -302, -174, -62, 34, 82, 115, 137, 171, 325, 659, 920, 929, 665, 321, -101, -435, -668, -692, -658, -450, -200, 63, 287, 449, 417, 202, -14, -141, -206, -261, -263, -252, -239, -226, -162, -104, -51, -26, -4, -6, 8, 12, -60, -199, -344, -461, -556, -645, -654, -605, -544, -540, -547, -509, -366, -161, 75, 372, 769, 1149, 1452, 1616, 1651, 1456, 1102, 627, 131, -307, -597, -793, -910, -898, -760, -584, -403, -199, -16, 102, 158, 211, 234, 264, 280, 292, 249, 223, 185, 121, 26, -46, -103, -169, -216, -200, -147, -98, 4, 127, 225, 237, 262, 291, 315, 275, 178, 40, -100, -171, -196, -183, -158, -64, -5, 68, 119, 194, 161, 90, -13, -92, -172, -215, -242, -249, -240, -186, -117, -44, 4, 38, 21, -6, -30, -35, -66, -98, -138, -179, -221, -255, -274, -280, -277, -259, -243, -250, -289, -329, -322, -284, -236, -172, -29, 144, 327, 485, 607, 691, 735, 716, 600, 482, 329, 194, 26, -62, -137, -169, -204, -185, -167, -119, -79, -40, -10, 6, 34, 40, 57, 65, 85, 74, 73, 71, 74, 57, 48, 41, 41, 28, 38, 58, 68, 41, 7, -15, -29, -40, -11, 19, 18, 9, 13, -5, -26, -51, -47, -59, -43, -13, 19, 28, 25, 20, -7, -38, -56, -74, -92, -85, -61, -54, -45, -10, -26, -67, -62, -36, -77, -88, -80, -62, -76, -53, -21, -15, -57, -70, -68, -84, -101, -67, -36, -9, 9, 19, -15, -67, -101, -118, -128, -109, -73, -9, 52, 103, 118, 117, 82, 57, 35, 59, 74, 86, 100, 117, 99, 87, 92, 87, 69, 47, 21, 10, 15, 40, 40, 41, 52, 42, 29, 15, 15, -2, 0, 12, 14, 10, 3, 26, 19, 10, 15, 18, 1, -20, -29, -35, -39, -40, -33, -34, -40, -25, -7, -22, -32, -25, -9, -34, -32, -23, -12, -42, -20, -13, -7, -15, 8, -7, -12, -21, -4, -15, -14, -18, -14, -17, -2, -11, -1, -6, 10, 7, 17, 8, 7, 22, 18, -7, -24, -10, -26, -28, -5, 50, 51, 19, 23, 41, -3, -58, -37, -42, -6, -24, 53, 64, 79, 52, 37, -9, -42, -61, -38, -39, -6, -15, 27, 26, 45, -5, 8, 11, 14, -5, 18, 49, 50, 52, 40, 28, -17, -45, -37, -33, -20, 1, 33, 21, 23, 27, 9, -6, 3, 15, -18, -14, 17, 38, 4, 6, 18, -2, -22, -17, 3, 3, 7, 18, 14, -4, -10, 2, -8, 11, 12, 21, 17, 13, 16, -3, -12, -34, -25, -14, 10, 16, 27, 40, 27, 6, -7, -13, -29, -29, -7, 9, 12, 12, 33, 27, 8, -20, -8, -13, -19, -10, 15, 24, 14, 13, 15, -5, -16, -12, 5, 8, 7, 17, 16, 12, 0, -7, -4, -11, -5, 2, 8, 8, 3, 3, -3, -5, -7, -9, -4, -4, 3, -1, 6, 11, 11, 5, 0, -1, 3, -2, -4, -2, 4, -2, 2, 7, 8, 5, 3, 13, 8, 0, -3, -1, -1, 1, 0, 10, 2, 5, 7, 13, 6, -2, 3, -3, -2, 0, 0, 5, 3, 4, 2, 3, 4, 10, 5, 6, 2, 3, 2, 1, 3, 2, 3, 6, 5, 4, 0, -2, -4, -5, -5, -6, -5, -5, 0, 3, 6, 3, 4, -1, 0, -4, -1, -2, 3, 3, 9, 7, 7, 12, 3, 0, 0, 0, 4, 3, 4, 3, 1, 3, 0, 0, 0, 6, 4, 7, 3, 3, 1, -1, -5, -3, 0, 3, 0, 1, 3, 3, 2, 1, 0, -2, 0, -2, 3, 0, 2, 3, 3, -2, 0, -1, 14, -1, -16, -11, 6, -6, -4, 4, 17, 0, -2, -1, 0, -7, -8, 1, 1, 1, 4, 13, 3, -5, -12, 0, -12, 4, -4, 14, 0, 7, -2, 3, -7, -5, -5, -4, -1, 5, 13, 7, 2, -1, 1, -7, -2, -8, 3, -6, 15, 10, 13, -32, 9, 1, 5, -13, 10, 9, -7, -6, 0, 6, -18, -2, 6, 15, -8, 3, 8, 3, -13, -8, -2, -3, -6, 1, 9, 5, -4, 1, -4, -5, -12, 1, -3, -1, -5, 10, 1, 0, -3, 0, -4, -7, 3, 0, 2, -2, 1, -1, -6, -4, -2, 2, 0, 3, 6, 2, -2, -4, -4, -4, -5, -3, 0, -1, 3, 4, 2, -2, -4, -2, -3, -4, 1, 1, 3, -2, -1, 0, -4, -2, -2, -1, -1, 1, 3, 0, -1, -1, 0, -1, 0, -2, -1, 0, -4, -4, -2, -2, -4, 1, -2, 0, 2, 1, 2, 1, 0, -1, 0, -1, -2, 1, 0, 0, 1, 2, -4, -2, -3, 1, -4, -1, -1, -2, -2, -1, 0, -4, -2, -1, 1, 2, -3, -1, -4, -3, -4, 0, 0, 3, 3, 3, 1, 2, -3, -4, -3, -4, -4, -5, 0, 3, 2, 1, 0, 1, 0, -2, -1, -2, -1, -1, 0, 1, 4, 0, -1, 4, 1, 0, -2, -1, -1, 0, -1, -1, 1, 3, 0, 1, 0, 2, 0, -1, -2, 0, 1, 2, -3, 0, 1, 0, -1, -4, 0, -1, -2, -3, 1, 4, 2, 2, 0, 1, 2, -1, 1, 2, 0, -3, 1, 2, -3, -1, 1, 4, 1, 2, 4, 1, 1, 0, -2, 0, -1, 1, 1, 2, 3, 0, 2, 1, 0, 0, -1, 1, 2, 0, 0, 5, 0, 3, -1, 1, 0, 0, -1, 0, -2, 2, 0, 0, -1, 2, 1, 3, 0, 1, 3, 2, 0, -1, -1, 4, 0, 1, 2, 1, 1, -1, 0, -1, 0, 3, 2, -1, 2, 1, -3, -3, -1, -4, -1, -1, 3, 0, 4, 1, -3, 3, -1, -4, -2, 3, 3, -2, -1, 2, 1, -1, -2, 1, 2, -1, -5, 1, 3, -1, 1, 0, 0, 0, -1, 1, 1, 2, -1, 1, -2, 2, -1, 0, 2, 3, 0, 0, 0, 2, 0, 0, 4, 3, 1, -1, 0, 0, 1, -1, 2, 1, 0, 0, -1, 3, 1, 3, 3, -1, 1, 0, 1, 3, 0, 2, 2, -1, 2, 1, 1, 0, 3, 0, 0, 0, 0, 0, 2, 4, 3, 4, 3, 2, 3, 2, 3, 2, 0, -1, 0, 1, 3, 2, 3, 1, 0, 0, -1, 2, -1, -2, -4, 0, 1, 2, 1, 2, 1, 3, 3, 2, 1, 2, -1, 1, 4, 2, 3, -3, 2, 4, 3, 2, 2, -4, -2, -1, 0, -1, 1, 2, 1, 4, 4, 5, 3, 3, 0, 0, -2, -1, -2, 1, 2, 3, 3, 4, 4, 3, 0, 0, 2, 0, 0, -1, -2, 3, 0, 4, 0, 6, 9, 2, -1, -1, -1, -1, -1, -1, 2, 3, 3, 3, 2, 2, 0, -1, -2, -1, 2, 1, 2, 3, 1, 2, 2, -1, 0, -1, -1, 0, -1, 0, 2, 2, 3, 3, 1, 3, 3, 1, 0, -3, -2, 0, 2, 1, 3, 2, 5, 6, 2, 3, 3, 2, -2, -2, 0, -2, 1, 2, 3, 1, -1, 2, 1, 1, -2, -1, -2, 1, 2, 2, 4, 2, 1, 4, 0, 1, -2, 0, -3, -1, -1, 2, 2, 1, 3, 3, -1, 2, 2, 3, 1, -4, -2, -1, -1, 2, 0, 3, 3, 4, 1, 2, -1, -2, 0, 0, 0, 2, 2, 4, 3, 5, 2, -4, 0, 0, -1, -2, 2, 2, 0, 3, 2, 2, -1, -1, -1, -1, -2, -4, -1, 1, 4, 2, 0, -2, 1, -5, 1, 1, -1, -2, -4, 0, 2, 2, 1, 1, -1, -1, 0, 0, -2, -1, 2, -4, 0, 0, 3, -1, 4, -1, 2, 1, 1, 5, -1, -2, 0, -4, 1, 0, 2, 0, 3, 6, 3, 5, 3, 0, 3, 0, 3, 0, -1, 0, 3, 3, 2, 4, 6, 4, 3, -1, 1, 1, 1, 3, 2, 0, 1, -1, 1, 5, 5, 7, 2, 2, -2, 12, 15, 32, 23, 2, -27, -31, -25, 0, 39, 85, 77, 26, -32, -72, -61, -48, -25, -6, 10, 47, 42, 33, -14, -36, -44, -25, -7, 13, 17, 25, 22, 24, 6, -4, -5, 4, 16, 23, 18, 11, 4, -8, -12, -23, -15, -14, 12, 14, 130, 441, 686, 571, 101, -434, -734, -626, -376, -90, 33, 235, 493, 774, 661, 209, -377, -688, -594, -243, 90, 206, 220, 153, 113, -10, -180, -357, -344, -151, 117, 262, 220, 46, -99, -148, -118, -76, -54, -18, 46, 106, 106, 27, -100, -185, -179, -93, 1, 61, 72, 55, 35, 19, -11, -37, -50, -43, -16, 13, 29, 25, 9, -17, -23, -17, 2, 6, 13, 20, 29, 18, -15, -50, -76, -72, -51, -16, -6, -4, -6, 6, 16, 30, 34, 13, -5, -37, -32, -22, 15, 18, 39, 35, 136, 257, 369, 342, 223, -4, -155, -261, -224, -188, -97, -73, -19, -38, -23, -85, -100, -157, -126, -75, 45, 103, 142, 97, 46, -32, -46, -27, 65, 54, 37, -7, -57, -95, -122, -104, -93, -68, -52, -32, 5, 14, 26, 68, 31, -11, -17, 39, 38, 50, 71, 66, 32, 51, 56, 113, 47, -43, -84, -111, -47, 73, 227, 205, 116, 3, -58, -179, -148, -38, -55, 93, 48, 9, -104, -92, -9, 102, -3, -158, -114, 47, 60, 19, -82, -177, -60, 105, 149, 167, 154, -18, -117, -137, -90, 119, 58, 18, -75, -73, -56, -40, 66, 124, 67, -140, -224, -98, 58, 66, 6, 69, -7, 52, 273, 236, -64, -210, -224, -178, -12, 239, 321, 177, -63, -116, -216, -87, -100, 31, 200, 2, 71, 93, -145, -93, -4, 34, 92, 16, 44, 69, -57, -261, -56, 83, 310, 188, -67, -136, -116, -56, 60, -12, 94, 56, 10, -95, -80, -49, 159, 66, -35, -68, -101, 149, 235, -7, -262, -194, -89, 109, 153, 260, 222, -228, -319, -241, -143, 174, 586, 44, -469, -455, 276, 357, -143, 1, -140, -183, 292, 320, -86, -15, -485, -513, -13, 881, 751, 121, -433, -683, -358, 239, 242, 313, -176, -182, 75, 233, -98, -523, -284, 331, 374, 279, -65, -123, -169, -84, -266, -97, 236, 148, 211, 200, -180, -238, -492, -38, 174, 232, 176, -121, -130, -118, 231, 53, -202, -105, 242, 351, 164, -267, -413, -228, 258, 472, 112, -4, -333, -318, -212, 257, 539, -11, -306, -57, 178, 212, 75, -331, -234, -71, 246, 370, 459, 17, -690, -645, 67, 573, 392, -8, -398, -430, 44, 344, 510, -172, -477, -637, 188, 887, 326, -121, -365, -726, -344, 921, 795, -103, -865, -711, 410, 743, 499, -199, -703, -627, 282, 884, 17, -225, -318, -250, 386, 132, -133, 55, -549, -635, 733, 1067, 310, -737, -726, -110, 185, 462, 471, -222, -601, -179, 401, 654, 275, -589, -1053, -71, 907, 899, -36, -753, -753, -308, 610, 888, -74, -379, -718, -396, 562, 784, 169, -496, -708, -250, 495, 1056, -73, -993, -852, 257, 634, 853, -33, -607, -798, -160, 720, 813, -231, -844, -135, 241, 310, 412, -1, -413, -405, -231, 261, 846, 261, -499, -657, -363, 394, 1011, 54, -602, -664, -159, 450, 789, 74, -551, -951, -282, 783, 835, 78, -454, -725, -426, 70, 832, 461, -354, -692, -369, 642, 716, 215, -688, -842, -186, 760, 1097, 240, -859, -923, -160, 786, 720, 439, -393, -742, -538, 320, 1210, 349, -1042, -1009, 215, 1122, 472, -464, -806, -659, 97, 683, 826, -41, -439, -775, -344, 456, 718, 360, -255, -1030, -318, 1017, 993, -122, -702, -719, -407, 1016, 1170, -409, -978, -813, 162, 902, 839, -86, -1036, -931, 128, 1074, 806, -397, -1117, -395, 593, 461, 429, -170, -634, -641, 296, 951, 619, -191, -856, -699, 68, 1203, 718, -321, -975, -734, 144, 1133, 1004, -349, -1154, -795, 326, 1414, 356, -730, -968, -619, 444, 1455, 706, -885, -1562, -544, 995, 1447, 468, -669, -1394, -640, 729, 1455, 299, -680, -974, -307, 673, 1071, 312, -985, -1254, 2, 1205, 1008, 97, -897, -892, -636, 489, 1281, 716, -674, -902, -378, 267, 972, 510, -803, -1173, -134, 1127, 1314, 125, -1214, -1674, -95, 1580, 1162, -76, -737, -939, -577, 615, 1536, 230, -1034, -967, -188, 1033, 1332, -168, -1185, -1139, 99, 1295, 1111, -24, -1060, -1400, -405, 1362, 1660, 65, -1441, -1251, 91, 984, 1218, 62, -1082, -1356, -91, 1225, 1117, 115, -1160, -1371, -9, 1037, 1243, 348, -885, -1297, -566, 1104, 1480, 348, -1091, -1383, -280, 1146, 1413, 97, -843, -946, -546, 714, 1024, 524, -526, -1029, -705, 373, 1334, 520, -812, -1133, -504, 877, 1018, 278, -742, -898, -432, 310, 1205, 290, -426, -689, -510, 230, 589, 658, -217, -1005, -185, 536, 644, 356, -378, -626, -528, 386, 975, 125, -108, -602, -767, 181, 1103, 694, -342, -1115, -738, 704, 1002, 310, -294, -949, -806, 713, 1318, 77, -715, -1056, -579, 932, 1074, 535, -378, -1081, -897, 615, 1198, 460, -272, -1020, -616, 292, 793, 842, -399, -1340, -1039, 729, 1533, 619, -567, -1087, -871, 355, 1429, 709, -461, -1267, -967, 542, 1684, 764, -642, -1601, -853, 763, 1241, 849, -482, -1474, -913, 573, 1468, 1016, -470, -1574, -1171, 372, 1983, 903, -630, -1284, -1131, 588, 1706, 729, -683, -1387, -647, 432, 1390, 1052, -478, -1544, -1104, 505, 1399, 823, -60, -1315, -1357, 404, 1700, 705, -478, -1179, -531, 120, 1062, 795, -152, -1224, -1255, 570, 1434, 963, -185, -1386, -1553, -140, 1951, 1504, -214, -1586, -1462, 218, 1841, 1146, -588, -1237, -1051, 86, 1568, 1210, -648, -1563, -1123, 412, 1593, 1382, -251, -1848, -1655, 623, 1825, 1175, -438, -1280, -1247, 23, 1386, 1141, -265, -1263, -1225, 372, 1550, 1034, -316, -1707, -1128, 708, 1594, 1021, -429, -1247, -1322, 351, 1244, 1144, 98, -806, -1743, -89, 1797, 1110, -285, -1320, -1223, 278, 1418, 1039, -120, -1230, -1527, -238, 1756, 1533, -159, -1468, -1852, 226, 1824, 980, -195, -1035, -1113, -148, 1336, 1203, -10, -1162, -1396, 4, 1532, 1442, -251, -1554, -1510, 76, 1708, 1415, -64, -1567, -1661, -69, 1776, 1499, -274, -1820, -1397, 468, 1584, 1479, -230, -1742, -1509, 428, 1708, 1256, -242, -1472, -1348, -78, 1741, 1209, -125, -1155, -1379, 7, 1386, 1337, -156, -1139, -1311, 99, 1283, 1353, -6, -1296, -1535, -2, 1552, 1462, -127, -1283, -1313, -384, 1233, 1381, 113, -1080, -1220, -423, 1188, 1483, 195, -1110, -1486, -456, 1358, 1548, 315, -1200, -1552, -638, 1240, 1665, 425, -988, -1454, -858, 1152, 1573, 460, -868, -1376, -713, 806, 1467, 622, -628, -1361, -902, 565, 1660, 922, -790, -1417, -1027, 503, 1457, 1032, -342, -1417, -1059, 354, 1364, 904, -217, -1109, -1250, 113, 1607, 1432, -372, -1826, -1120, 327, 1593, 1198, -217, -1403, -1396, -77, 1596, 1762, -348, -1737, -1605, 369, 2035, 1158, -509, -1659, -1296, 266, 1871, 1207, -562, -1522, -1040, 115, 1298, 1119, 158, -1378, -1432, -272, 1564, 1464, 47, -1258, -1521, -324, 1155, 1878, 137, -1230, -1456, -266, 1056, 1783, 212, -1055, -1578, -384, 1087, 1791, 572, -1039, -1720, -993, 1184, 1869, 543, -708, -1481, -1138, 602, 1922, 1026, -882, -1657, -762, 642, 1422, 812, -423, -1505, -1020, 381, 1727, 1043, -430, -1535, -1166, 251, 1560, 1329, -532, -1397, -1090, 114, 1187, 1465, -204, -1489, -1359, 231, 1783, 1203, -513, -1515, -1249, 364, 1503, 1029, -454, -1332, -972, 157, 1310, 1156, -343, -1033, -762, -28, 868, 1380, 28, -1410, -883, 118, 1173, 1107, -213, -1141, -1003, 234, 895, 1043, 111, -999, -819, -411, 839, 885, 226, -555, -1163, -491, 745, 1345, 426, -1075, -1130, -427, 854, 1425, 393, -978, -1412, -221, 860, 1389, 188, -779, -973, -259, 492, 803, 505, -303, -790, -654, 292, 1045, 558, -431, -727, -566, 38, 673, 734, 216, -966, -866, -62, 689, 928, 333, -750, -1169, -252, 700, 957, 400, -693, -1063, -431, 390, 1164, 579, -641, -1215, -839, 655, 1311, 706, -616, -1169, -1037, 327, 1502, 1150, -539, -1490, -896, 507, 1316, 865, -101, -1156, -1184, 236, 1163, 1117, 41, -1167, -1414, 31, 1257, 1139, 284, -1189, -1333, -100, 903, 1284, 454, -949, -1386, -459, 1038, 1289, 553, -1128, -1125, -194, 581, 981, 347, -372, -933, -881, 302, 1367, 637, -259, -1027, -861, -192, 1150, 1214, 59, -1180, -1134, 22, 927, 1112, 33, -890, -982, -318, 862, 871, 61, -333, -872, -478, 401, 1059, 550, -435, -945, -669, 249, 963, 867, -230, -913, -651, 69, 731, 701, 19, -592, -709, -55, 705, 678, 161, -573, -731, -186, 652, 713, 245, -738, -921, -297, 617, 714, 243, -544, -762, -569, 475, 699, 545, -321, -744, -626, 45, 846, 753, -249, -708, -585, 55, 711, 791, 1, -747, -847, -91, 680, 1094, 256, -730, -1123, -195, 685, 991, 182, -561, -762, -374, 346, 776, 339, -331, -750, -319, 306, 821, 550, -232, -782, -623, 93, 940, 827, -274, -748, -798, -9, 650, 758, 249, -690, -734, -10, 717, 497, -22, -326, -586, -294, 607, 672, 53, -487, -709, -312, 606, 561, -1, 28, -318, -768, -110, 624, 559, 208, -476, -580, -235, 419, 724, 271, -572, -688, -88, 703, 663, -105, -521, -396, -110, 131, 439, 334, -108, -503, -405, 27, 473, 334, -56, -210, -318, -90, 115, 334, -80, -249, -215, -7, -8, 171, 300, 77, -410, -265, 62, 418, 401, 94, -47, -488, -397, 176, 691, 457, -472, -722, -201, 355, 453, 119, -250, -425, -276, 83, 437, 329, -142, -552, -248, 308, 217, 200, 63, -307, -287, -20, 95, 224, 97, -33, -161, -186, -136, 154, 389, 223, -243, -314, -258, 209, 391, 229, -73, -180, -335, -101, 417, 317, -49, -286, -384, -116, 343, 318, -95, -236, -187, -32, 16, 225, 295, 36, -153, -298, -243, 253, 512, 234, -421, -475, -140, 101, 343, 29, -265, -387, 46, 367, 184, -283, -56, 242, -36, -5, -27, -29, 384, 38, -226, -249, -169, 277, 444, -35, -393, -202, -37, 50, 213, 135, 30, -151, -142, -88, 52, 388, 159, -127, -244, -151, 198, 292, -68, -85, -148, -171, 29, 187, 60, 126, 37, -119, -258, -93, 337, 458, 116, -472, -434, -80, 298, 415, 79, -427, -383, 285, 204, 3, -11, 42, 34, -8, -248, -53, 221, 284, -31, -204, -176, -19, 275, 395, 109, -334, -341, -99, 326, 280, 131, -217, -361, -246, 35, 132, 327, 67, -302, -256, -47, 153, 184, 35, -154, -280, -165, 152, 247, 25, -137, -149, 36, -2, -28, 63, 74, -34, -97, -24, -34, 152, 287, 1, -82, -186, -92, 85, 272, 103, 45, -211, -108, 117, 44, 55, 40, 17, -6, 52, 144, -34, -99, 28, 38, -3, 42, -30, -4, -2, 59, -53, -49, -77, 51, 181, 0, -197, -114, 31, 234, 141, -83, -82, 72, 149, -5, -82, -161, -151, 214, 291, 29, -91, -296, -51, 276, 204, -55, -188, 41, 214, 86, -134, -70, 46, 55, 131, 65, -202, -193, -171, 59, 145, -66, -138, -48, 13, 39, -183, -198, -32, 346, 196, -137, -225, -19, 53, 151, 149, -4, -260, -223, 161, 421, 88, -304, -308, -29, 247, 315, 47, -239, -171, 93, 129, 97, -6, -47, 30, -76, -126, -4, 132, 125, -42, -224, -69, 60, 22, -93, -14, -30, 84, 54, -242, -82, 177, 183, -38, -199, -134, 26, 63, 89, 60, -52, -122, 97, 163, 94, -1, -74, -135, -30, 178, 191, -41, -244, -73, 73, -18, 17, 78, 0, -154, -40, 143, 25, -92, -81, 56, 8, -6, 92, -8, -5, 9, 16, 112, 102, -72, -82, -24, 97, 166, 7, -183, -160, 17, 106, 51, -86, -50, -30, -112, 93, 189, -48, -102, -33, 39, 175, 191, -111, -231, -176, 242, 204, -133, -186, -159, -23, 128, 5, -71, -30, -34, -11, 158, 160, -17, -163, -79, 95, 71, 67, 63, 8, -143, -208, 4, 164, 125, -24, -202, -222, 65, 238, 89, -117, -149, -75, 28, 55, 36, 81, 1, -125, -26, 44, 105, 57, -56, -195, -52, 196, 175, 79, -50, -149, -102, 98, 134, 59, 9, -139, -61, 72, 128, 16, -166, -150, 44, 159, 82, 14, -57, -213, -106, 100, 171, 88, -23, -155, -158, 128, 280, 95, -81, -137, -18, 115, 176, 71, -162, -224, -121, 113, 262, 168, -102, -297, -246, 132, 307, 99, -112, -197, -146, 22, 95, 116, -25, -132, -101, 29, 132, 160, 46, -92, -151, -40, 70, 150, 84, -82, -229, -130, 50, 172, 118, -51, -164, -135, 15, 128, 138, 97, -32, -96, -27, 28, 87, 55, -58, -83, -49, 76, 102, 50, -7, -84, -64, -22, 57, 75, 75, -9, -98, -161, -81, 76, 100, 4, -106, -160, -42, 77, 127, 16, -19, 25, -1, -3, 39, 38, 27, 8, -42, -30, -3, 33, 28, 11, -88, -76, -24, 50, 113, 74, -36, -77, -33, -2, 27, 104, 62, -50, -93, -121, -55, 82, 118, -17, -142, -129, 23, 130, 157, -16, -195, -133, 62, 166, 123, -27, -132, -122, 16, 118, 94, 22, -118, -107, 25, 89, 36, -43, -37, 29, 18, 2, -5, -35, -85, -74, 40, 72, 13, -28, -41, 29, 75, 39, -38, -44, -8, 61, 63, 68, -38, -127, -135, -12, 43, 34, 8, -13, -59, -52, 16, 70, 71, 26, -22, -39, 9, 52, 72, -3, -92, -80, 6, 65, 87, 19, -76, -90, 18, 102, 71, -18, -66, -54, -4, 62, 64, 11, -31, -60, -26, 35, 73, 27, -23, -73, -56, 38, 74, 25, -58, -76, -43, 23, 43, 30, -11, -34, -12, 36, 57, 18, -26, -34, 15, 44, 35, 22, 3, -28, -22, 0, -18, 13, 5, -14, 1, -16, -37, 23, 35, 17, -43, -78, -21, 33, 47, 26, -11, -57, -51, -15, 28, 25, 40, 10, -33, -52, -69, -21, 26, 42, -33, -89, -39, 41, 59, 40, -33, -52, -44, 3, 77, 76, 16, -74, -101, -53, 59, 103, 59, -28, -69, -33, 23, 66, 80, 36, -30, -64, 4, 72, 71, 12, -58, -67, 2, 68, 75, 51, 4, -37, -52, -39, 2, 56, 78, 40, -15, -27, 15, 61, 75, 44, -6, -28, -10, 19, 27, 24, 0, -17, -14, 2, 8, 8, -10, -24, -13, 7, 21, 36, 21, -22, -43, -23, 18, 32, 4, -34, -42, -14, 3, -7, -37, -64, -44, -17, -8, -3, -29, -74, -86, -64, -34, -28, -15, -18, -50, -82, -80, -47, -32, -21, -27, -44, -44, -54, -40, -26, -37, -55, -53, -28, 10, 33, 15, 8, 24, 49, 85, 103, 121, 134, 137, 135, 153, 157, 148, 139, 139, 121, 112, 95, 74, 45, 16, 4, 14, 14, 13, 0, -26, -48, -44, -27, -11, -4, -2, -2, 3, 11, 14, 16, 12, 11, 13, 16, 14, 3, -9, -20, -27, -24, -20, -15, -25, -46, -68, -83, -88, -91, -91, -94, -109, -124, -135, -138, -134, -125, -107, -88, -78, -86, -99, -106, -101, -95, -96, -127, -175, -209, -215, -210, -187, -183, -190, -141, -51, 46, 110, 162, 266, 434, 621, 728, 692, 556, 399, 303, 285, 287, 243, 135, -20, -179, -291, -330, -336, -337, -337, -325, -294, -244, -185, -135, -113, -95, -57, 17, 108, 202, 242, 226, 187, 159, 162, 184, 194, 169, 118, 78, 36, -6, -42, -77, -118, -152, -159, -156, -143, -127, -119, -117, -108, -73, -24, 29, 74, 90, 101, 106, 109, 118, 131, 129, 117, 90, 66, 38, 12, 1, 54, 128, 173, 127, 44, -48, -101, -66, -1, 22, 1, -39, -95, -143, -148, -106, -50, 2, 37, 48, 39, 25, -7, -36, -42, -38, -36, -42, -56, -92, -139, -174, -186, -173, -128, -75, -53, -64, -72, -78, -73, -61, -49, -54, -59, -74, -91, -112, -116, -123, -133, -130, -99, -62, -18, 17, 52, 80, 124, 204, 312, 424, 499, 487, 408, 291, 192, 141, 128, 105, 45, -38, -130, -203, -241, -246, -237, -219, -194, -155, -103, -49, -11, 7, 23, 52, 87, 143, 192, 218, 208, 177, 140, 103, 88, 84, 78, 52, 4, -35, -62, -73, -81, -95, -111, -123, -118, -102, -80, -59, -47, -45, -43, -32, -12, 16, 32, 31, 11, -8, -29, -49, -69, -92, -116, -134, -150, -166, -180, -199, -223, -252, -278, -290, -304, -332, -378, -424, -419, -341, -229, -134, -66, 19, 261, 707, 1127, 1272, 1099, 780, 456, 317, 397, 527, 499, 301, -4, -360, -612, -667, -614, -548, -500, -461, -413, -330, -259, -230, -199, -121, -16, 95, 242, 392, 458, 433, 340, 225, 154, 187, 258, 273, 212, 101, -24, -140, -206, -232, -236, -230, -235, -249, -243, -203, -170, -147, -116, -71, -8, 72, 149, 196, 208, 207, 184, 160, 161, 179, 179, 149, 84, 11, -50, -77, -92, -107, -125, -141, -159, -163, -143, -118, -85, -48, -22, 6, 46, 84, 114, 158, 249, 327, 351, 309, 233, 134, 63, 42, 22, -20, -73, -138, -225, -300, -317, -286, -225, -155, -98, -57, -18, 17, 28, 43, 68, 83, 94, 105, 98, 69, 42, 5, -29, -52, -41, -31, -43, -70, -97, -124, -134, -134, -132, -122, -111, -108, -99, -92, -81, -71, -62, -35, 4, 47, 72, 72, 44, 7, -4, 7, 26, 38, 33, 13, -3, 3, 41, 70, 93, 88, 73, 66, 69, 78, 88, 93, 90, 83, 79, 83, 89, 86, 78, 63, 41, 32, 32, 40, 42, 33, 17, 2, -6, -9, -8, 1, 11, 8, -6, -20, -29, -30, -29, -22, -8, 5, 12, 9, 3, -8, -10, -9, -14, -20, -25, -41, -57, -80, -95, -108, -108, -99, -89, -89, -96, -108, -116, -115, -108, -103, -106, -114, -118, -123, -140, -161, -183, -202, -219, -251, -295, -344, -396, -440, -443, -357, -99, 390, 943, 1282, 1256, 969, 607, 336, 298, 443, 586, 594, 412, 53, -374, -663, -736, -671, -554, -448, -367, -306, -269, -272, -294, -251, -155, -29, 114, 281, 423, 468, 432, 314, 178, 111, 140, 199, 234, 228, 152, 17, -135, -247, -288, -262, -211, -186, -184, -181, -169, -160, -143, -100, -48, 21, 95, 146, 193, 220, 221, 189, 150, 132, 131, 133, 121, 84, 34, -25, -83, -130, -145, -137, -117, -118, -115, -105, -79, -37, 9, 54, 124, 236, 322, 344, 309, 240, 157, 92, 66, 40, 17, -18, -79, -170, -244, -266, -244, -203, -152, -106, -72, -47, -40, -49, -35, -6, 21, 32, 32, 27, 15, 0, -21, -39, -52, -44, -43, -49, -61, -79, -101, -122, -150, -163, -172, -170, -182, -197, -215, -230, -241, -246, -235, -207, -165, -112, -51, 27, 150, 406, 705, 917, 927, 776, 539, 296, 173, 159, 180, 162, 60, -128, -380, -557, -607, -539, -428, -320, -232, -172, -116, -87, -58, -1, 70, 126, 179, 243, 289, 304, 279, 208, 123, 62, 44, 44, 48, 35, 2, -62, -133, -176, -178, -137, -80, -51, -39, -34, -24, -15, 9, 47, 80, 114, 138, 150, 150, 148, 163, 184, 202, 196, 154, 90, 9, -77, -122, -140, -144, -150, -151, -170, -192, -196, -174, -120, -60, 4, 50, 64, 55, 26, -1, -24, -31, -35, -37, -58, -102, -156, -211, -255, -275, -280, -281, -311, -370, -450, -515, -541, -480, -349, -168, 56, 412, 828, 1124, 1190, 1059, 816, 551, 413, 398, 421, 412, 301, 51, -324, -636, -788, -767, -633, -492, -367, -287, -242, -249, -243, -169, -40, 93, 205, 314, 386, 419, 411, 343, 251, 168, 133, 116, 101, 90, 61, -8, -126, -241, -313, -312, -266, -218, -175, -141, -121, -110, -92, -46, 19, 88, 144, 182, 202, 213, 215, 196, 164, 131, 98, 72, 37, 2, -31, -61, -97, -139, -162, -162, -141, -113, -83, -57, -35, -12, 10, 48, 139, 270, 366, 383, 326, 226, 110, 45, 21, 14, 18, -7, -79, -200, -295, -329, -291, -213, -129, -56, -15, -2, -11, -19, 2], 'input_values': [array([ 0.0028934 ,  0.0028934 ,  0.00163405, ..., -0.01347813,\n",
      "       -0.02355292,  0.0028934 ])], 'labels': [14, 4, 5, 17, 13, 26, 61, 52, 27, 30, 6, 46, 4, 37, 4, 14, 23, 20, 30, 26, 30, 60, 44, 37, 26, 68, 14, 8, 30, 5, 13, 67, 8, 11, 36, 18, 37, 14, 38, 37, 26, 68, 14, 4, 44, 66, 39, 29, 11, 49, 18, 7, 4, 87, 21, 30, 11, 44, 6, 63, 4, 12, 25, 30, 14, 13, 6, 30, 38, 32, 41, 12, 30, 37, 26, 68, 6, 30, 27, 17, 25, 63, 5, 12, 49, 18, 7, 4, 87, 39, 29, 11, 14, 13, 37, 26, 68, 14, 4, 14, 5, 6, 30, 6, 63, 4, 12, 68, 6, 63, 4, 12, 25, 30, 11, 44, 6, 30, 14, 38, 38, 32, 41, 39, 29, 11]}\n"
     ]
    }
   ],
   "source": [
    "# test prepare_dataset on just the furst row of the train_ds\n",
    "\n",
    "ds_test = prepare_dataset(train_ds[0])\n",
    "print(ds_test)"
   ]
  },
  {
   "cell_type": "code",
   "execution_count": 147,
   "metadata": {},
   "outputs": [
    {
     "name": "stderr",
     "output_type": "stream",
     "text": [
      "Map (num_proc=4): 100%|██████████| 4620/4620 [00:51<00:00, 90.27 examples/s] \n"
     ]
    }
   ],
   "source": [
    "train_ds_prepared = train_ds.map(prepare_dataset, batch_size=8, num_proc=4)"
   ]
  },
  {
   "cell_type": "code",
   "execution_count": 148,
   "metadata": {},
   "outputs": [
    {
     "name": "stderr",
     "output_type": "stream",
     "text": [
      "Map (num_proc=4): 100%|██████████| 1680/1680 [00:20<00:00, 80.01 examples/s] \n"
     ]
    }
   ],
   "source": [
    "test_ds_prepared = test_ds.map(prepare_dataset, batch_size=8, num_proc=4)"
   ]
  },
  {
   "cell_type": "code",
   "execution_count": 149,
   "metadata": {},
   "outputs": [
    {
     "data": {
      "text/html": [
       "<div>\n",
       "<style scoped>\n",
       "    .dataframe tbody tr th:only-of-type {\n",
       "        vertical-align: middle;\n",
       "    }\n",
       "\n",
       "    .dataframe tbody tr th {\n",
       "        vertical-align: top;\n",
       "    }\n",
       "\n",
       "    .dataframe thead th {\n",
       "        text-align: right;\n",
       "    }\n",
       "</style>\n",
       "<table border=\"1\" class=\"dataframe\">\n",
       "  <thead>\n",
       "    <tr style=\"text-align: right;\">\n",
       "      <th></th>\n",
       "      <th>ipa</th>\n",
       "      <th>audio</th>\n",
       "      <th>input_values</th>\n",
       "      <th>labels</th>\n",
       "    </tr>\n",
       "  </thead>\n",
       "  <tbody>\n",
       "    <tr>\n",
       "      <th>0</th>\n",
       "      <td>n̩fæbjɨleɪʃɨnɦɛzkʌmtədɨtɝmɨnstɹʌktʃɚ</td>\n",
       "      <td>[2, 2, 1, 0, -1, 0, 0, 2, 0, 0, -1, 2, 2, 0, 3...</td>\n",
       "      <td>[[0.002893403159694382, 0.002893403159694382, ...</td>\n",
       "      <td>[14, 4, 395, 14, 23, 20, 30, 26, 30, 60, 44, 3...</td>\n",
       "    </tr>\n",
       "    <tr>\n",
       "      <th>1</th>\n",
       "      <td>ðəfɹaɪʔn̩tʃaɪldwəzddʒɛʔlisə̥bʉdaɪɨzbɪgɹʌðɚ</td>\n",
       "      <td>[-2, -4, -2, -1, 1, -2, -4, -3, -4, -1, -2, -3...</td>\n",
       "      <td>[[-0.005052671866663577, -0.009617046826402196...</td>\n",
       "      <td>[14, 22, 38, 32, 41, 14, 23, 6, 63, 4, 12, 41,...</td>\n",
       "    </tr>\n",
       "    <tr>\n",
       "      <th>2</th>\n",
       "      <td>ɹɪʃsɔʔaʊɚzn̩aʊɚzəvmuvisæɾɚdeɪ</td>\n",
       "      <td>[1, 2, -1, -1, -2, 0, 3, 2, -1, 1, 2, 0, 0, 2,...</td>\n",
       "      <td>[[0.004129799374717596, 0.007454942823862821, ...</td>\n",
       "      <td>[6, 63, 4, 12, 68, 5, 13, 67, 8, 11, 36, 18, 3...</td>\n",
       "    </tr>\n",
       "    <tr>\n",
       "      <th>3</th>\n",
       "      <td>meɪaɪɔɹɾɚəstɹɑbɝɪsʌndeɪæftɚaɪitɪɾ̃ɚ</td>\n",
       "      <td>[4, 1, 1, -1, 0, -1, -1, 1, 2, 5, 3, 3, 1, 0, ...</td>\n",
       "      <td>[[0.0069319206706473105, 0.001905686320916581,...</td>\n",
       "      <td>[14, 13, 30, 5, 13, 67, 8, 11, 36, 18, 37, 20,...</td>\n",
       "    </tr>\n",
       "    <tr>\n",
       "      <th>4</th>\n",
       "      <td>ðɨkɑɹtʉnfittʃɚzeɪmʌskɹætɛndɨtædoʊl</td>\n",
       "      <td>[3, 5, 7, 2, 2, 2, 3, 1, 2, 1, 2, 1, 2, -1, 0,...</td>\n",
       "      <td>[[0.004498304016173735, 0.007233829660534752, ...</td>\n",
       "      <td>[14, 22, 37, 26, 68, 11, 44, 8, 14, 15, 43, 6,...</td>\n",
       "    </tr>\n",
       "  </tbody>\n",
       "</table>\n",
       "</div>"
      ],
      "text/plain": [
       "                                          ipa  \\\n",
       "0        n̩fæbjɨleɪʃɨnɦɛzkʌmtədɨtɝmɨnstɹʌktʃɚ   \n",
       "1  ðəfɹaɪʔn̩tʃaɪldwəzddʒɛʔlisə̥bʉdaɪɨzbɪgɹʌðɚ   \n",
       "2               ɹɪʃsɔʔaʊɚzn̩aʊɚzəvmuvisæɾɚdeɪ   \n",
       "3         meɪaɪɔɹɾɚəstɹɑbɝɪsʌndeɪæftɚaɪitɪɾ̃ɚ   \n",
       "4          ðɨkɑɹtʉnfittʃɚzeɪmʌskɹætɛndɨtædoʊl   \n",
       "\n",
       "                                               audio  \\\n",
       "0  [2, 2, 1, 0, -1, 0, 0, 2, 0, 0, -1, 2, 2, 0, 3...   \n",
       "1  [-2, -4, -2, -1, 1, -2, -4, -3, -4, -1, -2, -3...   \n",
       "2  [1, 2, -1, -1, -2, 0, 3, 2, -1, 1, 2, 0, 0, 2,...   \n",
       "3  [4, 1, 1, -1, 0, -1, -1, 1, 2, 5, 3, 3, 1, 0, ...   \n",
       "4  [3, 5, 7, 2, 2, 2, 3, 1, 2, 1, 2, 1, 2, -1, 0,...   \n",
       "\n",
       "                                        input_values  \\\n",
       "0  [[0.002893403159694382, 0.002893403159694382, ...   \n",
       "1  [[-0.005052671866663577, -0.009617046826402196...   \n",
       "2  [[0.004129799374717596, 0.007454942823862821, ...   \n",
       "3  [[0.0069319206706473105, 0.001905686320916581,...   \n",
       "4  [[0.004498304016173735, 0.007233829660534752, ...   \n",
       "\n",
       "                                              labels  \n",
       "0  [14, 4, 395, 14, 23, 20, 30, 26, 30, 60, 44, 3...  \n",
       "1  [14, 22, 38, 32, 41, 14, 23, 6, 63, 4, 12, 41,...  \n",
       "2  [6, 63, 4, 12, 68, 5, 13, 67, 8, 11, 36, 18, 3...  \n",
       "3  [14, 13, 30, 5, 13, 67, 8, 11, 36, 18, 37, 20,...  \n",
       "4  [14, 22, 37, 26, 68, 11, 44, 8, 14, 15, 43, 6,...  "
      ]
     },
     "execution_count": 149,
     "metadata": {},
     "output_type": "execute_result"
    }
   ],
   "source": [
    "train_ds_prepared.to_pandas().head()"
   ]
  },
  {
   "cell_type": "markdown",
   "metadata": {},
   "source": [
    "# Fine-Tune Model"
   ]
  },
  {
   "cell_type": "code",
   "execution_count": 133,
   "metadata": {},
   "outputs": [
    {
     "name": "stdout",
     "output_type": "stream",
     "text": [
      "{'<pad>': 0, '<s>': 1, '</s>': 2, '<unk>': 3, '|': 4, 'E': 5, 'T': 6, 'A': 7, 'O': 8, 'N': 9, 'I': 10, 'H': 11, 'S': 12, 'R': 13, 'D': 14, 'L': 15, 'U': 16, 'M': 17, 'W': 18, 'C': 19, 'F': 20, 'G': 21, 'Y': 22, 'P': 23, 'B': 24, 'V': 25, 'K': 26, \"'\": 27, 'X': 28, 'J': 29, 'Q': 30, 'Z': 31}\n"
     ]
    }
   ],
   "source": [
    "vocab = processor.tokenizer.get_vocab()\n",
    "print(vocab)\n"
   ]
  },
  {
   "cell_type": "code",
   "execution_count": 157,
   "metadata": {},
   "outputs": [
    {
     "name": "stdout",
     "output_type": "stream",
     "text": [
      "36\n",
      "n̩fæbjɨleɪʃɨnɦɛzkʌmtədɨtɝmɨnstɹʌktʃɚ\n",
      "[14, 4, 395, 14, 23, 20, 30, 26, 30, 60, 44, 37, 26, 68, 14, 8, 30, 5, 13, 67, 8, 11, 36, 18, 37, 14, 38, 37, 26, 68, 14, 4, 392, 49, 18, 7, 4, 87, 21, 30, 11, 44, 6, 63, 4, 12, 25, 30, 14, 13, 6, 30, 38, 32, 41, 12, 30, 37, 26, 68, 6, 30, 397, 14, 13, 37, 26, 68, 14, 4, 14, 5, 6, 30, 6, 63, 4, 12, 68, 6, 63, 4, 12, 25, 30, 11, 44, 6, 30, 14, 38, 38, 32, 41, 39, 29, 11]\n",
      "97\n"
     ]
    }
   ],
   "source": [
    "# print first row of train ipa\n",
    "print(len(train_ds_prepared[0]['ipa']))\n",
    "print(train_ds_prepared[0]['ipa'])\n",
    "# print ipa mapped to the vocab numbers\n",
    "print(train_ds_prepared[0]['labels'])\n",
    "\n",
    "print(len(train_ds_prepared[0]['labels']))"
   ]
  },
  {
   "cell_type": "code",
   "execution_count": 152,
   "metadata": {},
   "outputs": [],
   "source": [
    "\n",
    "class DataCollatorCTCWithPadding:\n",
    "    \"\"\"\n",
    "    Data collator that will dynamically pad the inputs received.\n",
    "    Args:\n",
    "        processor (:class:`~transformers.Wav2Vec2Processor`)\n",
    "            The processor used for proccessing the data.\n",
    "        padding (:obj:`bool`, :obj:`str` or :class:`~transformers.tokenization_utils_base.PaddingStrategy`, `optional`, defaults to :obj:`True`):\n",
    "            Select a strategy to pad the returned sequences (according to the model's padding side and padding index)\n",
    "            among:\n",
    "            * :obj:`True` or :obj:`'longest'`: Pad to the longest sequence in the batch (or no padding if only a single\n",
    "              sequence if provided).\n",
    "            * :obj:`'max_length'`: Pad to a maximum length specified with the argument :obj:`max_length` or to the\n",
    "              maximum acceptable input length for the model if that argument is not provided.\n",
    "            * :obj:`False` or :obj:`'do_not_pad'` (default): No padding (i.e., can output a batch with sequences of\n",
    "              different lengths).\n",
    "        max_length (:obj:`int`, `optional`):\n",
    "            Maximum length of the ``input_values`` of the returned list and optionally padding length (see above).\n",
    "        max_length_labels (:obj:`int`, `optional`):\n",
    "            Maximum length of the ``labels`` returned list and optionally padding length (see above).\n",
    "        pad_to_multiple_of (:obj:`int`, `optional`):\n",
    "            If set will pad the sequence to a multiple of the provided value.\n",
    "            This is especially useful to enable the use of Tensor Cores on NVIDIA hardware with compute capability >=\n",
    "            7.5 (Volta).\n",
    "    \"\"\"\n",
    "\n",
    "    def __init__(self, processor: AutoProcessor, padding=True, max_length=None, max_length_labels=None, pad_to_multiple_of=None, pad_to_multiple_of_labels=None):\n",
    "        self.processor = processor\n",
    "        self.padding = padding\n",
    "        self.max_length = max_length\n",
    "        self.max_length_labels = max_length_labels\n",
    "        self.pad_to_multiple_of = pad_to_multiple_of\n",
    "        self.pad_to_multiple_of_labels = pad_to_multiple_of_labels\n",
    "\n",
    "    def __call__(self, features: \"list[dict[str, list[int] | torch.Tensor]]\") -> \"dict[str, torch.Tensor]\":\n",
    "        vocab = processor.tokenizer.get_vocab()  # For most processors, this works\n",
    "        print(\"MF VOCAB\", vocab)\n",
    "\n",
    "        # split inputs and labels since they have to be of different lenghts and need\n",
    "        # different padding methods\n",
    "        input_features = [{\"input_values\": feature[\"input_values\"]} for feature in features]\n",
    "        label_features = [{\"input_ids\": feature[\"labels\"]} for feature in features]\n",
    "\n",
    "\n",
    "        batch = self.processor.pad(\n",
    "            input_features,\n",
    "            padding=self.padding,\n",
    "            max_length=self.max_length,\n",
    "            pad_to_multiple_of=self.pad_to_multiple_of,\n",
    "            return_tensors=\"pt\",\n",
    "        )\n",
    "        print(\"input-features pt after processor.pad\", batch[\"input_values\"].shape)\n",
    "        with self.processor.as_target_processor():\n",
    "            labels_batch = self.processor.pad(\n",
    "                label_features,\n",
    "                padding=self.padding,\n",
    "                max_length=self.max_length_labels,\n",
    "                pad_to_multiple_of=self.pad_to_multiple_of_labels,\n",
    "                return_tensors=\"pt\",\n",
    "            )\n",
    "        print(\"labels-features pt after processor.pad\", labels_batch[\"input_ids\"].shape)\n",
    "        # Loop through each sequence in the batch and decode\n",
    "        for i, input_ids in enumerate(labels_batch[\"input_ids\"]):\n",
    "            decoded_text = processor.decode(input_ids.tolist(), skip_special_tokens=False)\n",
    "            print(f\"Decoded text for sample {i}: {decoded_text}\")\n",
    "     \n",
    "\n",
    "        # replace padding with -100 to ignore loss correctly\n",
    "        labels = labels_batch[\"input_ids\"].masked_fill(labels_batch.attention_mask.ne(1), -100)\n",
    "        print(\"labels: \", labels)\n",
    "        print(\"labels-features pt after masked_fill\", labels.shape)\n",
    "\n",
    "        batch[\"labels\"] = labels\n",
    "\n",
    "        return batch"
   ]
  },
  {
   "cell_type": "code",
   "execution_count": 153,
   "metadata": {},
   "outputs": [
    {
     "name": "stdout",
     "output_type": "stream",
     "text": [
      "Phonemes: n̩fæbjɨleɪʃɨnɦɛzkʌmtədɨtɝmɨnstɹʌktʃɚ\n",
      "MF VOCAB {'<s>': 1, '<pad>': 0, '</s>': 2, '<unk>': 3, 'n': 4, 's': 5, 't': 6, 'ə': 7, 'l': 8, 'a': 9, 'i': 10, 'k': 11, 'd': 12, 'm': 13, 'ɛ': 14, 'ɾ': 15, 'e': 16, 'ɪ': 17, 'p': 18, 'o': 19, 'ɐ': 20, 'z': 21, 'ð': 22, 'f': 23, 'j': 24, 'v': 25, 'b': 26, 'ɹ': 27, 'ʁ': 28, 'ʊ': 29, 'iː': 30, 'r': 31, 'w': 32, 'ʌ': 33, 'u': 34, 'ɡ': 35, 'æ': 36, 'aɪ': 37, 'ʃ': 38, 'h': 39, 'ɔ': 40, 'ɑː': 41, 'ŋ': 42, 'ɚ': 43, 'eɪ': 44, 'β': 45, 'uː': 46, 'y': 47, 'ɑ̃': 48, 'oʊ': 49, 'ᵻ': 50, 'eː': 51, 'θ': 52, 'aʊ': 53, 'ts': 54, 'oː': 55, 'ɔ̃': 56, 'ɣ': 57, 'ɜ': 58, 'ɑ': 59, 'dʒ': 60, 'əl': 61, 'x': 62, 'ɜː': 63, 'ç': 64, 'ʒ': 65, 'tʃ': 66, 'ɔː': 67, 'ɑːɹ': 68, 'ɛ̃': 69, 'ʎ': 70, 'ɔːɹ': 71, 'ʋ': 72, 'aː': 73, 'ɕ': 74, 'œ': 75, 'ø': 76, 'oːɹ': 77, 'ɲ': 78, 'yː': 79, 'ʔ': 80, 'iə': 81, 'i5': 82, 's.': 83, 'tɕ': 84, '??': 85, 'nʲ': 86, 'ɛː': 87, 'œ̃': 88, 'ɭ': 89, 'ɔø': 90, 'ʑ': 91, 'tʲ': 92, 'ɨ': 93, 'ɛɹ': 94, 'ts.': 95, 'rʲ': 96, 'ɪɹ': 97, 'ɭʲ': 98, 'i.5': 99, 'ɔɪ': 100, 'q': 101, 'sʲ': 102, 'u5': 103, 'ʊɹ': 104, 'iɜ': 105, 'a5': 106, 'iɛ5': 107, 'øː': 108, 'ʕ': 109, 'ja': 110, 'əɜ': 111, 'th': 112, 'ɑ5': 113, 'oɪ': 114, 'dʲ': 115, 'ə5': 116, 'tɕh': 117, 'ts.h': 118, 'mʲ': 119, 'ɯ': 120, 'dʑ': 121, 'vʲ': 122, 'e̞': 123, 'tʃʲ': 124, 'ei5': 125, 'o5': 126, 'onɡ5': 127, 'ɑu5': 128, 'iɑ5': 129, 'ai5': 130, 'aɪɚ': 131, 'kh': 132, 'ə1': 133, 'ʐ': 134, 'i2': 135, 'ʉ': 136, 'ħ': 137, 't[': 138, 'aɪə': 139, 'ʲ': 140, 'ju': 141, 'ə2': 142, 'u2': 143, 'oɜ': 144, 'pː': 145, 'iɛɜ': 146, 'ou5': 147, 'y5': 148, 'uɜ': 149, 'tː': 150, 'uo5': 151, 'd[': 152, 'uoɜ': 153, 'tsh': 154, 'ɑɜ': 155, 'ɵ': 156, 'i̪5': 157, 'uei5': 158, 'ɟ': 159, 'aɜ': 160, 'ɑɨ': 161, 'i.ɜ': 162, 'eʊ': 163, 'o2': 164, 'ɐ̃': 165, 'ä': 166, 'pʲ': 167, 'kʲ': 168, 'n̩': 169, 'ɒ': 170, 'ph': 171, 'ɑu2': 172, 'uɨ': 173, 'əɪ': 174, 'ɫ': 175, 'ɬ': 176, 'yɜ': 177, 'bʲ': 178, 'ɑ2': 179, 's̪': 180, 'aiɜ': 181, 'χ': 182, 'ɐ̃ʊ̃': 183, '1': 184, 'ə4': 185, 'yæɜ': 186, 'a2': 187, 'ɨː': 188, 't̪': 189, 'iouɜ': 190, 'ũ': 191, 'onɡɜ': 192, 'aɨ': 193, 'iɛ2': 194, 'ɔɨ': 195, 'ɑuɜ': 196, 'o̞': 197, 'ei2': 198, 'iou2': 199, 'c': 200, 'kː': 201, 'y2': 202, 'ɖ': 203, 'oe': 204, 'dˤ': 205, 'yɛɜ': 206, 'əʊ': 207, 'S': 208, 'ɡʲ': 209, 'onɡ2': 210, 'u\"': 211, 'eiɜ': 212, 'ʈ': 213, 'ɯᵝ': 214, 'iou5': 215, 'dZ': 216, 'r̝̊': 217, 'i.2': 218, 'tS': 219, 's^': 220, 'ʝ': 221, 'yə5': 222, 'iɑɜ': 223, 'uə5': 224, 'pf': 225, 'ɨu': 226, 'iɑ2': 227, 'ou2': 228, 'ər2': 229, 'fʲ': 230, 'ai2': 231, 'r̝': 232, 'uəɜ': 233, 'ɳ': 234, 'əɨ': 235, 'ua5': 236, 'uɪ': 237, 'ɽ': 238, 'bː': 239, 'yu5': 240, 'uo2': 241, 'yɛ5': 242, 'l̩': 243, 'ɻ': 244, 'ərɜ': 245, 'ʂ': 246, 'i̪2': 247, 'ouɜ': 248, 'uaɜ': 249, 'a.': 250, 'a.ː': 251, 'yæ5': 252, 'dː': 253, 'r̩': 254, 'ee': 255, 'ɪu': 256, 'ər5': 257, 'i̪ɜ': 258, 'æi': 259, 'u:': 260, 'i.ː': 261, 't^': 262, 'o1': 263, 'ɪ^': 264, 'ai': 265, 'ueiɜ': 266, 'æː': 267, 'ɛɪ': 268, 'eə': 269, 'i.': 270, 'ɴ': 271, 'ie': 272, 'ua2': 273, 'ɑ1': 274, 'o4': 275, 'tʃː': 276, 'o:': 277, 'ɑ:': 278, 'u1': 279, 'N': 280, 'i̪1': 281, 'au': 282, 'yæ2': 283, 'u.': 284, 'qː': 285, 'yəɜ': 286, 'y:': 287, 'kʰ': 288, 'tʃʰ': 289, 'iʊ': 290, 'sx': 291, 'õ': 292, 'uo': 293, 'tʰ': 294, 'uai5': 295, 'bʰ': 296, 'u.ː': 297, 'uə2': 298, 'ʊə': 299, 'd^': 300, 's̪ː': 301, 'yiɜ': 302, 'dʰ': 303, 'r.': 304, 'oe:': 305, 'i1': 306, 'ɟː': 307, 'yu2': 308, 'nʲʲ': 309, 'i̪4': 310, 'uei2': 311, 'tsʲ': 312, 'ɸ': 313, 'ĩ': 314, 'ɑ4': 315, 't̪ː': 316, 'eɑ': 317, 'u4': 318, 'e:': 319, 'tsː': 320, 'ʈʰ': 321, 'ɡʰ': 322, 'ɯɯ': 323, 'dʒʲ': 324, 'ʂʲ': 325, 'X': 326, 'ɵː': 327, 'uaiɜ': 328, 'tɕʲ': 329, 'ã': 330, 't^ː': 331, 'ẽː': 332, 'yɛ2': 333, 'cː': 334, 'i.1': 335, 'ɛʊ': 336, 'dˤdˤ': 337, 'dʒː': 338, 'i4': 339, 'ɡː': 340, 'yi': 341, 'ɕʲ': 342, 'ɟʰ': 343, 'pʰ': 344, 'dʑʲ': 345, 'yuɜ': 346, 'ua1': 347, 'ua4': 348, 'æiː': 349, 'ɐɐ': 350, 'ui': 351, 'iou1': 352, 'ʊː': 353, 'a1': 354, 'iou4': 355, 'cʰ': 356, 'iɛ1': 357, 'yə2': 358, 'ɖʰ': 359, 'ẽ': 360, 'ʒʲ': 361, 'ää': 362, 'ər4': 363, 'iːː': 364, 'ɪː': 365, 'iɑ1': 366, 'ər1': 367, 'œː': 368, 'øi': 369, 'ɪuː': 370, 'cʰcʰ': 371, 'əː1': 372, 'iː1': 373, 'ũ': 374, 'kʰː': 375, 'o̞o̞': 376, 'xʲ': 377, 'ou1': 378, 'iɛ4': 379, 'e̞e̞': 380, 'y1': 381, 'dzː': 382, 'dʲʲ': 383, 'dʰː': 384, 'ɯᵝɯᵝ': 385, 'lː': 386, 'uo1': 387, 'i.4': 388, 'i:': 389, 'yɛ5ʲ': 390, 'a4': 391}\n",
      "input-features pt after processor.pad torch.Size([1, 1, 38600])\n",
      "labels-features pt after processor.pad torch.Size([1, 97])\n",
      "Decoded text for sample 0: ɛ n <unk> ɛ f ɐ iː b iː dʒ eɪ aɪ b ɑːɹ ɛ l iː s m ɔː l k æ p aɪ ɛ ʃ aɪ b ɑːɹ ɛ n <unk> oʊ p ə n ɛː z iː k eɪ t ɜː n d v iː ɛ m t iː ʃ w ɑː d iː aɪ b ɑːɹ t iː <unk> ɛ m aɪ b ɑːɹ ɛ n ɛ s t iː t ɜː n d ɑːɹ t ɜː n d v iː k eɪ t iː ɛ ʃ w ɑː h ʊ k\n",
      "labels:  tensor([[ 14,   4, 395,  14,  23,  20,  30,  26,  30,  60,  44,  37,  26,  68,\n",
      "          14,   8,  30,   5,  13,  67,   8,  11,  36,  18,  37,  14,  38,  37,\n",
      "          26,  68,  14,   4, 392,  49,  18,   7,   4,  87,  21,  30,  11,  44,\n",
      "           6,  63,   4,  12,  25,  30,  14,  13,   6,  30,  38,  32,  41,  12,\n",
      "          30,  37,  26,  68,   6,  30, 397,  14,  13,  37,  26,  68,  14,   4,\n",
      "          14,   5,   6,  30,   6,  63,   4,  12,  68,   6,  63,   4,  12,  25,\n",
      "          30,  11,  44,   6,  30,  14,  38,  38,  32,  41,  39,  29,  11]])\n",
      "labels-features pt after masked_fill torch.Size([1, 97])\n",
      "Batch: {'input_values': tensor([[[ 0.0029,  0.0029,  0.0016,  ..., -0.0135, -0.0236,  0.0029]]]), 'attention_mask': tensor([[1]], dtype=torch.int32), 'labels': tensor([[ 14,   4, 395,  14,  23,  20,  30,  26,  30,  60,  44,  37,  26,  68,\n",
      "          14,   8,  30,   5,  13,  67,   8,  11,  36,  18,  37,  14,  38,  37,\n",
      "          26,  68,  14,   4, 392,  49,  18,   7,   4,  87,  21,  30,  11,  44,\n",
      "           6,  63,   4,  12,  25,  30,  14,  13,   6,  30,  38,  32,  41,  12,\n",
      "          30,  37,  26,  68,   6,  30, 397,  14,  13,  37,  26,  68,  14,   4,\n",
      "          14,   5,   6,  30,   6,  63,   4,  12,  68,   6,  63,   4,  12,  25,\n",
      "          30,  11,  44,   6,  30,  14,  38,  38,  32,  41,  39,  29,  11]])}\n"
     ]
    },
    {
     "name": "stderr",
     "output_type": "stream",
     "text": [
      "/home/arunasrivastava/ML/venv/lib/python3.8/site-packages/transformers/models/wav2vec2/processing_wav2vec2.py:174: UserWarning: `as_target_processor` is deprecated and will be removed in v5 of Transformers. You can process your labels by using the argument `text` of the regular `__call__` method (either in the same call as your audio inputs, or in a separate call.\n",
      "  warnings.warn(\n"
     ]
    }
   ],
   "source": [
    "# Assuming train_ds is your dataset\n",
    "sample = train_ds_prepared[0]  # Grab the first row from the dataset\n",
    "# print the first row's phonemes\n",
    "print(\"Phonemes:\", sample[\"ipa\"])\n",
    "# Create an instance of the DataCollatorCTCWithPadding class\n",
    "processor = AutoProcessor.from_pretrained(PRE_TRAINED_ID)  # Replace with your processor\n",
    "data_collator = DataCollatorCTCWithPadding(processor=processor)\n",
    "\n",
    "# Manually test the data collator with the sample\n",
    "features = [sample]\n",
    "batch = data_collator(features)\n",
    "\n",
    "# Print the batch to inspect the results\n",
    "print(\"Batch:\", batch)"
   ]
  },
  {
   "cell_type": "code",
   "execution_count": 78,
   "metadata": {},
   "outputs": [],
   "source": [
    "data_collator = DataCollatorCTCWithPadding(processor=processor, padding=True)"
   ]
  },
  {
   "cell_type": "code",
   "execution_count": 68,
   "metadata": {},
   "outputs": [],
   "source": [
    "def cer(pred, label):\n",
    "    distances = np.zeros((len(pred) + 1, len(label) + 1))\n",
    "\n",
    "    for t1 in range(len(pred) + 1):\n",
    "        distances[t1][0] = t1\n",
    "\n",
    "    for t2 in range(len(label) + 1):\n",
    "        distances[0][t2] = t2\n",
    "        \n",
    "    a = 0\n",
    "    b = 0\n",
    "    c = 0\n",
    "    \n",
    "    for t1 in range(1, len(pred) + 1):\n",
    "        for t2 in range(1, len(label) + 1):\n",
    "            if (pred[t1-1] == label[t2-1]):\n",
    "                distances[t1][t2] = distances[t1 - 1][t2 - 1]\n",
    "            else:\n",
    "                a = distances[t1][t2 - 1]\n",
    "                b = distances[t1 - 1][t2]\n",
    "                c = distances[t1 - 1][t2 - 1]\n",
    "                \n",
    "                if (a <= b and a <= c):\n",
    "                    distances[t1][t2] = a + 1\n",
    "                elif (b <= a and b <= c):\n",
    "                    distances[t1][t2] = b + 1\n",
    "                else:\n",
    "                    distances[t1][t2] = c + 1\n",
    "\n",
    "    return distances[len(pred)][len(label)] / len(label)"
   ]
  },
  {
   "cell_type": "code",
   "execution_count": 79,
   "metadata": {},
   "outputs": [],
   "source": [
    "\n",
    "def compute_metrics(pred):\n",
    "    pred_logits = pred.predictions\n",
    "    pred_ids = np.argmax(pred_logits, axis=-1)\n",
    "\n",
    "    pred.label_ids[pred.label_ids == -100] = processor.tokenizer.pad_token_id\n",
    "\n",
    "    pred_str = processor.batch_decode(pred_ids)\n",
    "    label_str = processor.batch_decode(pred.label_ids, group_tokens=False) # labels are already grouped as they should be\n",
    "\n",
    "    # Call panphon_model_eval with label and predictedipa\n",
    "    results = panphon_model_eval(label_str, pred_str)\n",
    "\n",
    "    # Output results\n",
    "    print(\"Evaluation Results:\")\n",
    "    print(f\"Feature edit distance: {results['feature_dist']}\")\n",
    "    print(f\"Weighted feature edit distance: {results['weighted_feature_dist']}\")\n",
    "    print(f\"Hamming distance: {results['hamming_feature_dist']}\")\n",
    "    print(f\"CER: {results['cer_score']}\")\n",
    "\n",
    "\n",
    "    return results"
   ]
  },
  {
   "cell_type": "code",
   "execution_count": 80,
   "metadata": {},
   "outputs": [],
   "source": [
    "model = AutoModelForCTC.from_pretrained(\n",
    "    PRE_TRAINED_ID, \n",
    "    pad_token_id=processor.tokenizer.pad_token_id, \n",
    "    # gradient_checkpointing=True,\n",
    "    ctc_zero_infinity = True,\n",
    "    attention_dropout=0.1,\n",
    "    layerdrop=0.0,\n",
    "    feat_proj_dropout=0.0,\n",
    "    ctc_loss_reduction=\"mean\",\n",
    "    pad_token_id=processor.tokenizer.pad_token_id,\n",
    "    vocab_size=len(processor.tokenizer)\n",
    ")"
   ]
  },
  {
   "cell_type": "code",
   "execution_count": 81,
   "metadata": {},
   "outputs": [],
   "source": [
    "# model.resize_token_embeddings(len(tokenizer))\n",
    "old_weights = model.lm_head.weight.t().detach()\n",
    "old_bias = model.lm_head.bias.detach()\n",
    "new_layer = torch.nn.Linear(model.lm_head.in_features, len(processor.tokenizer))\n",
    "new_layer.weight.data[:model.lm_head.out_features, :] = old_weights.t()\n",
    "new_layer.bias.data[:model.lm_head.out_features] = old_bias\n",
    "model.lm_head = new_layer\n",
    "model.config.vocab_size = len(processor.tokenizer)"
   ]
  },
  {
   "cell_type": "code",
   "execution_count": 82,
   "metadata": {},
   "outputs": [],
   "source": [
    "model.freeze_feature_encoder()"
   ]
  },
  {
   "cell_type": "code",
   "execution_count": 73,
   "metadata": {},
   "outputs": [],
   "source": [
    "# sanity checks\n",
    "max_class_id = 0\n",
    "for label_sequence in train_ds_prepared['labels']:\n",
    "    for class_id in label_sequence:\n",
    "        max_class_id = max(max_class_id, class_id)\n",
    "assert max_class_id == model.config.vocab_size - 1\n",
    "\n",
    "for label_sequence in train_ds_prepared['labels']:\n",
    "    for class_id in label_sequence:\n",
    "        assert class_id >= 0 and class_id <  model.config.vocab_size\n",
    "\n",
    "for label_sequence in train_ds_prepared['labels']:\n",
    "    assert  len(label_sequence) < 1024\n",
    "    assert len(label_sequence) >= 5"
   ]
  },
  {
   "cell_type": "code",
   "execution_count": 83,
   "metadata": {},
   "outputs": [
    {
     "data": {
      "text/html": [
       "Finishing last run (ID:fnyid8fy) before initializing another..."
      ],
      "text/plain": [
       "<IPython.core.display.HTML object>"
      ]
     },
     "metadata": {},
     "output_type": "display_data"
    },
    {
     "data": {
      "text/html": [
       " View run <strong style=\"color:#cdcd00\">firm-water-8</strong> at: <a href='https://wandb.ai/aruna-team/timit-finetune-a100/runs/fnyid8fy' target=\"_blank\">https://wandb.ai/aruna-team/timit-finetune-a100/runs/fnyid8fy</a><br/> View project at: <a href='https://wandb.ai/aruna-team/timit-finetune-a100' target=\"_blank\">https://wandb.ai/aruna-team/timit-finetune-a100</a><br/>Synced 5 W&B file(s), 0 media file(s), 0 artifact file(s) and 0 other file(s)"
      ],
      "text/plain": [
       "<IPython.core.display.HTML object>"
      ]
     },
     "metadata": {},
     "output_type": "display_data"
    },
    {
     "data": {
      "text/html": [
       "Find logs at: <code>./wandb/run-20241117_040646-fnyid8fy/logs</code>"
      ],
      "text/plain": [
       "<IPython.core.display.HTML object>"
      ]
     },
     "metadata": {},
     "output_type": "display_data"
    },
    {
     "data": {
      "text/html": [
       "Successfully finished last run (ID:fnyid8fy). Initializing new run:<br/>"
      ],
      "text/plain": [
       "<IPython.core.display.HTML object>"
      ]
     },
     "metadata": {},
     "output_type": "display_data"
    },
    {
     "data": {
      "text/html": [
       "Tracking run with wandb version 0.18.6"
      ],
      "text/plain": [
       "<IPython.core.display.HTML object>"
      ]
     },
     "metadata": {},
     "output_type": "display_data"
    },
    {
     "data": {
      "text/html": [
       "Run data is saved locally in <code>/home/arunasrivastava/ML/notebooks/wandb/run-20241117_041226-ri56dv6j</code>"
      ],
      "text/plain": [
       "<IPython.core.display.HTML object>"
      ]
     },
     "metadata": {},
     "output_type": "display_data"
    },
    {
     "data": {
      "text/html": [
       "Syncing run <strong><a href='https://wandb.ai/aruna-team/timit-finetune-a100/runs/ri56dv6j' target=\"_blank\">balmy-shadow-9</a></strong> to <a href='https://wandb.ai/aruna-team/timit-finetune-a100' target=\"_blank\">Weights & Biases</a> (<a href='https://wandb.me/developer-guide' target=\"_blank\">docs</a>)<br/>"
      ],
      "text/plain": [
       "<IPython.core.display.HTML object>"
      ]
     },
     "metadata": {},
     "output_type": "display_data"
    },
    {
     "data": {
      "text/html": [
       " View project at <a href='https://wandb.ai/aruna-team/timit-finetune-a100' target=\"_blank\">https://wandb.ai/aruna-team/timit-finetune-a100</a>"
      ],
      "text/plain": [
       "<IPython.core.display.HTML object>"
      ]
     },
     "metadata": {},
     "output_type": "display_data"
    },
    {
     "data": {
      "text/html": [
       " View run at <a href='https://wandb.ai/aruna-team/timit-finetune-a100/runs/ri56dv6j' target=\"_blank\">https://wandb.ai/aruna-team/timit-finetune-a100/runs/ri56dv6j</a>"
      ],
      "text/plain": [
       "<IPython.core.display.HTML object>"
      ]
     },
     "metadata": {},
     "output_type": "display_data"
    }
   ],
   "source": [
    "import wandb\n",
    "from transformers import TrainingArguments, Trainer\n",
    "\n",
    "# Initialize wandb\n",
    "wandb.init(project=\"timit-finetune-a100\")\n",
    "\n",
    "training_args = TrainingArguments(\n",
    "    output_dir=OUTPUT_DIR,\n",
    "    group_by_length=True,\n",
    "    per_device_train_batch_size=8,\n",
    "    gradient_accumulation_steps=4,\n",
    "    eval_strategy=\"steps\",\n",
    "    num_train_epochs=5,\n",
    "    fp16=True,\n",
    "    save_steps=50,\n",
    "    eval_steps=50,\n",
    "    logging_steps=10,\n",
    "    learning_rate=1e-5,\n",
    "    warmup_steps=1000,\n",
    "    save_total_limit=3,\n",
    "    gradient_checkpointing=True,\n",
    "    load_best_model_at_end=True,\n",
    "    max_grad_norm=0.5,\n",
    "    report_to=\"wandb\" \n",
    ")"
   ]
  },
  {
   "cell_type": "code",
   "execution_count": 84,
   "metadata": {},
   "outputs": [],
   "source": [
    "from transformers import Trainer\n",
    "\n",
    "trainer = Trainer(\n",
    "    model=model,\n",
    "    data_collator=data_collator,\n",
    "    args=training_args,\n",
    "    compute_metrics=compute_metrics,\n",
    "    train_dataset=train_ds_prepared.select(range(10)),\n",
    "    # train_dataset=train_ds_prepared,\n",
    "    eval_dataset=test_ds_prepared.select(range(10)),\n",
    "    # eval_dataset=test_ds_prepared,\n",
    "    processing_class=processor.feature_extractor,\n",
    ")"
   ]
  },
  {
   "cell_type": "code",
   "execution_count": 85,
   "metadata": {},
   "outputs": [
    {
     "name": "stderr",
     "output_type": "stream",
     "text": [
      "/home/arunasrivastava/ML/venv/lib/python3.8/site-packages/transformers/models/wav2vec2/processing_wav2vec2.py:174: UserWarning: `as_target_processor` is deprecated and will be removed in v5 of Transformers. You can process your labels by using the argument `text` of the regular `__call__` method (either in the same call as your audio inputs, or in a separate call.\n",
      "  warnings.warn(\n",
      "It is strongly recommended to pass the ``sampling_rate`` argument to this function. Failing to do so can result in silent errors that might be hard to debug.\n",
      "It is strongly recommended to pass the ``sampling_rate`` argument to this function. Failing to do so can result in silent errors that might be hard to debug.\n"
     ]
    },
    {
     "name": "stdout",
     "output_type": "stream",
     "text": [
      "Processed audio: {'input_values': tensor([[-0.0003, -0.0337, -0.0101,  ..., -0.0651,  0.2098, -0.1967]]), 'attention_mask': tensor([[1, 1, 1,  ..., 1, 1, 1]], dtype=torch.int32)}\n",
      "Processed labels: {'input_values': tensor([[-6.4428e-01, -1.1296e+00, -8.0606e-01,  9.7346e-01,  6.4991e-01,\n",
      "          3.2636e-01,  8.1169e-01, -6.4428e-01, -9.6783e-01, -3.2074e-01,\n",
      "          2.1851e-01, -6.4428e-01, -1.1296e+00, -1.0757e+00,  2.1851e-01,\n",
      "          5.9599e-01,  2.8135e-03,  2.2677e+00, -8.0606e-01,  9.7346e-01,\n",
      "         -3.2074e-01,  2.1851e-01, -4.2858e-01,  2.1851e-01,  5.9599e-01,\n",
      "          2.8135e-03,  2.2677e+00, -1.0757e+00,  2.1851e-01, -1.0504e-01,\n",
      "          1.0813e+00,  2.8135e-03,  2.2677e+00,  2.2677e+00, -5.9036e-01,\n",
      "          5.4206e-01, -4.2858e-01,  5.9599e-01,  2.8135e-03,  2.2677e+00,\n",
      "         -2.6681e-01,  2.1851e-01, -7.5213e-01,  2.1851e-01, -7.5213e-01,\n",
      "          2.1851e-01, -6.4428e-01,  2.1059e+00, -1.0757e+00,  1.9980e+00,\n",
      "         -1.1835e+00, -7.5213e-01, -5.1111e-02,  2.1851e-01, -7.5213e-01,\n",
      "          2.1851e-01, -7.5213e-01,  2.1851e-01, -6.4428e-01,  2.1059e+00,\n",
      "          2.8135e-03,  2.1851e-01, -3.2074e-01, -1.1296e+00, -6.9821e-01,\n",
      "          2.2137e+00, -9.6783e-01, -8.0606e-01,  5.4206e-01, -4.2858e-01,\n",
      "          5.9599e-01, -6.4428e-01, -1.1296e+00, -1.0757e+00,  2.1851e-01,\n",
      "         -3.2074e-01,  2.1851e-01, -6.4428e-01, -1.1835e+00, -7.5213e-01,\n",
      "          2.1851e-01,  6.4991e-01,  3.2636e-01,  8.1169e-01,  7.0384e-01,\n",
      "          1.6459e-01, -8.0606e-01,  2.2677e+00, -5.9036e-01,  5.4206e-01,\n",
      "         -4.2858e-01, -3.2074e-01, -1.1296e+00, -6.9821e-01,  2.2137e+00,\n",
      "         -9.6783e-01, -8.0606e-01,  5.4206e-01, -4.2858e-01,  5.9599e-01,\n",
      "         -6.4428e-01, -1.1296e+00, -1.0757e+00,  2.1851e-01,  1.2431e+00,\n",
      "         -4.2858e-01, -1.0218e+00, -1.1835e+00,  3.2922e+00, -6.4428e-01,\n",
      "         -1.1296e+00, -1.0757e+00,  2.1851e-01, -6.4428e-01, -1.1296e+00]],\n",
      "       dtype=torch.float64), 'attention_mask': tensor([[1, 1, 1, 1, 1, 1, 1, 1, 1, 1, 1, 1, 1, 1, 1, 1, 1, 1, 1, 1, 1, 1, 1, 1,\n",
      "         1, 1, 1, 1, 1, 1, 1, 1, 1, 1, 1, 1, 1, 1, 1, 1, 1, 1, 1, 1, 1, 1, 1, 1,\n",
      "         1, 1, 1, 1, 1, 1, 1, 1, 1, 1, 1, 1, 1, 1, 1, 1, 1, 1, 1, 1, 1, 1, 1, 1,\n",
      "         1, 1, 1, 1, 1, 1, 1, 1, 1, 1, 1, 1, 1, 1, 1, 1, 1, 1, 1, 1, 1, 1, 1, 1,\n",
      "         1, 1, 1, 1, 1, 1, 1, 1, 1, 1, 1, 1, 1, 1, 1, 1, 1, 1, 1]],\n",
      "       dtype=torch.int32)}\n"
     ]
    },
    {
     "ename": "KeyError",
     "evalue": "'input_ids'",
     "output_type": "error",
     "traceback": [
      "\u001b[0;31m---------------------------------------------------------------------------\u001b[0m",
      "\u001b[0;31mKeyError\u001b[0m                                  Traceback (most recent call last)",
      "Cell \u001b[0;32mIn[85], line 4\u001b[0m\n\u001b[1;32m      1\u001b[0m \u001b[38;5;66;03m# torch.autograd.set_detect_anomaly(False) # debug NaNs, disable for real training to improve performance\u001b[39;00m\n\u001b[1;32m      2\u001b[0m \u001b[38;5;66;03m# model.config.ctc_zero_infinity = True \u001b[39;00m\n\u001b[1;32m      3\u001b[0m \u001b[38;5;66;03m#resume_from_checkpoint=True\u001b[39;00m\n\u001b[0;32m----> 4\u001b[0m \u001b[43mtrainer\u001b[49m\u001b[38;5;241;43m.\u001b[39;49m\u001b[43mtrain\u001b[49m\u001b[43m(\u001b[49m\u001b[43m)\u001b[49m \u001b[38;5;66;03m# resume_from_checkpoint=True to resume training if training was interrupted\u001b[39;00m\n",
      "File \u001b[0;32m~/ML/venv/lib/python3.8/site-packages/transformers/trainer.py:2122\u001b[0m, in \u001b[0;36mTrainer.train\u001b[0;34m(self, resume_from_checkpoint, trial, ignore_keys_for_eval, **kwargs)\u001b[0m\n\u001b[1;32m   2120\u001b[0m         hf_hub_utils\u001b[38;5;241m.\u001b[39menable_progress_bars()\n\u001b[1;32m   2121\u001b[0m \u001b[38;5;28;01melse\u001b[39;00m:\n\u001b[0;32m-> 2122\u001b[0m     \u001b[38;5;28;01mreturn\u001b[39;00m \u001b[43minner_training_loop\u001b[49m\u001b[43m(\u001b[49m\n\u001b[1;32m   2123\u001b[0m \u001b[43m        \u001b[49m\u001b[43margs\u001b[49m\u001b[38;5;241;43m=\u001b[39;49m\u001b[43margs\u001b[49m\u001b[43m,\u001b[49m\n\u001b[1;32m   2124\u001b[0m \u001b[43m        \u001b[49m\u001b[43mresume_from_checkpoint\u001b[49m\u001b[38;5;241;43m=\u001b[39;49m\u001b[43mresume_from_checkpoint\u001b[49m\u001b[43m,\u001b[49m\n\u001b[1;32m   2125\u001b[0m \u001b[43m        \u001b[49m\u001b[43mtrial\u001b[49m\u001b[38;5;241;43m=\u001b[39;49m\u001b[43mtrial\u001b[49m\u001b[43m,\u001b[49m\n\u001b[1;32m   2126\u001b[0m \u001b[43m        \u001b[49m\u001b[43mignore_keys_for_eval\u001b[49m\u001b[38;5;241;43m=\u001b[39;49m\u001b[43mignore_keys_for_eval\u001b[49m\u001b[43m,\u001b[49m\n\u001b[1;32m   2127\u001b[0m \u001b[43m    \u001b[49m\u001b[43m)\u001b[49m\n",
      "File \u001b[0;32m~/ML/venv/lib/python3.8/site-packages/transformers/trainer.py:2426\u001b[0m, in \u001b[0;36mTrainer._inner_training_loop\u001b[0;34m(self, batch_size, args, resume_from_checkpoint, trial, ignore_keys_for_eval)\u001b[0m\n\u001b[1;32m   2424\u001b[0m update_step \u001b[38;5;241m+\u001b[39m\u001b[38;5;241m=\u001b[39m \u001b[38;5;241m1\u001b[39m\n\u001b[1;32m   2425\u001b[0m num_batches \u001b[38;5;241m=\u001b[39m args\u001b[38;5;241m.\u001b[39mgradient_accumulation_steps \u001b[38;5;28;01mif\u001b[39;00m update_step \u001b[38;5;241m!=\u001b[39m (total_updates \u001b[38;5;241m-\u001b[39m \u001b[38;5;241m1\u001b[39m) \u001b[38;5;28;01melse\u001b[39;00m remainder\n\u001b[0;32m-> 2426\u001b[0m batch_samples, num_items_in_batch \u001b[38;5;241m=\u001b[39m \u001b[38;5;28;43mself\u001b[39;49m\u001b[38;5;241;43m.\u001b[39;49m\u001b[43mget_batch_samples\u001b[49m\u001b[43m(\u001b[49m\u001b[43mepoch_iterator\u001b[49m\u001b[43m,\u001b[49m\u001b[43m \u001b[49m\u001b[43mnum_batches\u001b[49m\u001b[43m)\u001b[49m\n\u001b[1;32m   2427\u001b[0m \u001b[38;5;28;01mfor\u001b[39;00m inputs \u001b[38;5;129;01min\u001b[39;00m batch_samples:\n\u001b[1;32m   2428\u001b[0m     step \u001b[38;5;241m+\u001b[39m\u001b[38;5;241m=\u001b[39m \u001b[38;5;241m1\u001b[39m\n",
      "File \u001b[0;32m~/ML/venv/lib/python3.8/site-packages/transformers/trainer.py:5038\u001b[0m, in \u001b[0;36mTrainer.get_batch_samples\u001b[0;34m(self, epoch_iterator, num_batches)\u001b[0m\n\u001b[1;32m   5036\u001b[0m \u001b[38;5;28;01mfor\u001b[39;00m _ \u001b[38;5;129;01min\u001b[39;00m \u001b[38;5;28mrange\u001b[39m(num_batches):\n\u001b[1;32m   5037\u001b[0m     \u001b[38;5;28;01mtry\u001b[39;00m:\n\u001b[0;32m-> 5038\u001b[0m         batch_samples \u001b[38;5;241m+\u001b[39m\u001b[38;5;241m=\u001b[39m [\u001b[38;5;28;43mnext\u001b[39;49m\u001b[43m(\u001b[49m\u001b[43mepoch_iterator\u001b[49m\u001b[43m)\u001b[49m]\n\u001b[1;32m   5039\u001b[0m     \u001b[38;5;28;01mexcept\u001b[39;00m \u001b[38;5;167;01mStopIteration\u001b[39;00m:\n\u001b[1;32m   5040\u001b[0m         \u001b[38;5;28;01mbreak\u001b[39;00m\n",
      "File \u001b[0;32m~/ML/venv/lib/python3.8/site-packages/accelerate/data_loader.py:550\u001b[0m, in \u001b[0;36mDataLoaderShard.__iter__\u001b[0;34m(self)\u001b[0m\n\u001b[1;32m    548\u001b[0m \u001b[38;5;66;03m# We iterate one batch ahead to check when we are at the end\u001b[39;00m\n\u001b[1;32m    549\u001b[0m \u001b[38;5;28;01mtry\u001b[39;00m:\n\u001b[0;32m--> 550\u001b[0m     current_batch \u001b[38;5;241m=\u001b[39m \u001b[38;5;28;43mnext\u001b[39;49m\u001b[43m(\u001b[49m\u001b[43mdataloader_iter\u001b[49m\u001b[43m)\u001b[49m\n\u001b[1;32m    551\u001b[0m \u001b[38;5;28;01mexcept\u001b[39;00m \u001b[38;5;167;01mStopIteration\u001b[39;00m:\n\u001b[1;32m    552\u001b[0m     \u001b[38;5;28;01myield\u001b[39;00m\n",
      "File \u001b[0;32m~/ML/venv/lib/python3.8/site-packages/torch/utils/data/dataloader.py:630\u001b[0m, in \u001b[0;36m_BaseDataLoaderIter.__next__\u001b[0;34m(self)\u001b[0m\n\u001b[1;32m    627\u001b[0m \u001b[38;5;28;01mif\u001b[39;00m \u001b[38;5;28mself\u001b[39m\u001b[38;5;241m.\u001b[39m_sampler_iter \u001b[38;5;129;01mis\u001b[39;00m \u001b[38;5;28;01mNone\u001b[39;00m:\n\u001b[1;32m    628\u001b[0m     \u001b[38;5;66;03m# TODO(https://github.com/pytorch/pytorch/issues/76750)\u001b[39;00m\n\u001b[1;32m    629\u001b[0m     \u001b[38;5;28mself\u001b[39m\u001b[38;5;241m.\u001b[39m_reset()  \u001b[38;5;66;03m# type: ignore[call-arg]\u001b[39;00m\n\u001b[0;32m--> 630\u001b[0m data \u001b[38;5;241m=\u001b[39m \u001b[38;5;28;43mself\u001b[39;49m\u001b[38;5;241;43m.\u001b[39;49m\u001b[43m_next_data\u001b[49m\u001b[43m(\u001b[49m\u001b[43m)\u001b[49m\n\u001b[1;32m    631\u001b[0m \u001b[38;5;28mself\u001b[39m\u001b[38;5;241m.\u001b[39m_num_yielded \u001b[38;5;241m+\u001b[39m\u001b[38;5;241m=\u001b[39m \u001b[38;5;241m1\u001b[39m\n\u001b[1;32m    632\u001b[0m \u001b[38;5;28;01mif\u001b[39;00m \u001b[38;5;28mself\u001b[39m\u001b[38;5;241m.\u001b[39m_dataset_kind \u001b[38;5;241m==\u001b[39m _DatasetKind\u001b[38;5;241m.\u001b[39mIterable \u001b[38;5;129;01mand\u001b[39;00m \\\n\u001b[1;32m    633\u001b[0m         \u001b[38;5;28mself\u001b[39m\u001b[38;5;241m.\u001b[39m_IterableDataset_len_called \u001b[38;5;129;01mis\u001b[39;00m \u001b[38;5;129;01mnot\u001b[39;00m \u001b[38;5;28;01mNone\u001b[39;00m \u001b[38;5;129;01mand\u001b[39;00m \\\n\u001b[1;32m    634\u001b[0m         \u001b[38;5;28mself\u001b[39m\u001b[38;5;241m.\u001b[39m_num_yielded \u001b[38;5;241m>\u001b[39m \u001b[38;5;28mself\u001b[39m\u001b[38;5;241m.\u001b[39m_IterableDataset_len_called:\n",
      "File \u001b[0;32m~/ML/venv/lib/python3.8/site-packages/torch/utils/data/dataloader.py:673\u001b[0m, in \u001b[0;36m_SingleProcessDataLoaderIter._next_data\u001b[0;34m(self)\u001b[0m\n\u001b[1;32m    671\u001b[0m \u001b[38;5;28;01mdef\u001b[39;00m \u001b[38;5;21m_next_data\u001b[39m(\u001b[38;5;28mself\u001b[39m):\n\u001b[1;32m    672\u001b[0m     index \u001b[38;5;241m=\u001b[39m \u001b[38;5;28mself\u001b[39m\u001b[38;5;241m.\u001b[39m_next_index()  \u001b[38;5;66;03m# may raise StopIteration\u001b[39;00m\n\u001b[0;32m--> 673\u001b[0m     data \u001b[38;5;241m=\u001b[39m \u001b[38;5;28;43mself\u001b[39;49m\u001b[38;5;241;43m.\u001b[39;49m\u001b[43m_dataset_fetcher\u001b[49m\u001b[38;5;241;43m.\u001b[39;49m\u001b[43mfetch\u001b[49m\u001b[43m(\u001b[49m\u001b[43mindex\u001b[49m\u001b[43m)\u001b[49m  \u001b[38;5;66;03m# may raise StopIteration\u001b[39;00m\n\u001b[1;32m    674\u001b[0m     \u001b[38;5;28;01mif\u001b[39;00m \u001b[38;5;28mself\u001b[39m\u001b[38;5;241m.\u001b[39m_pin_memory:\n\u001b[1;32m    675\u001b[0m         data \u001b[38;5;241m=\u001b[39m _utils\u001b[38;5;241m.\u001b[39mpin_memory\u001b[38;5;241m.\u001b[39mpin_memory(data, \u001b[38;5;28mself\u001b[39m\u001b[38;5;241m.\u001b[39m_pin_memory_device)\n",
      "File \u001b[0;32m~/ML/venv/lib/python3.8/site-packages/torch/utils/data/_utils/fetch.py:55\u001b[0m, in \u001b[0;36m_MapDatasetFetcher.fetch\u001b[0;34m(self, possibly_batched_index)\u001b[0m\n\u001b[1;32m     53\u001b[0m \u001b[38;5;28;01melse\u001b[39;00m:\n\u001b[1;32m     54\u001b[0m     data \u001b[38;5;241m=\u001b[39m \u001b[38;5;28mself\u001b[39m\u001b[38;5;241m.\u001b[39mdataset[possibly_batched_index]\n\u001b[0;32m---> 55\u001b[0m \u001b[38;5;28;01mreturn\u001b[39;00m \u001b[38;5;28;43mself\u001b[39;49m\u001b[38;5;241;43m.\u001b[39;49m\u001b[43mcollate_fn\u001b[49m\u001b[43m(\u001b[49m\u001b[43mdata\u001b[49m\u001b[43m)\u001b[49m\n",
      "Cell \u001b[0;32mIn[77], line 93\u001b[0m, in \u001b[0;36mDataCollatorCTCWithPadding.__call__\u001b[0;34m(self, features)\u001b[0m\n\u001b[1;32m     90\u001b[0m \u001b[38;5;28mprint\u001b[39m(\u001b[38;5;124m\"\u001b[39m\u001b[38;5;124mProcessed audio:\u001b[39m\u001b[38;5;124m\"\u001b[39m, processed_audio)\n\u001b[1;32m     91\u001b[0m \u001b[38;5;28mprint\u001b[39m(\u001b[38;5;124m\"\u001b[39m\u001b[38;5;124mProcessed labels:\u001b[39m\u001b[38;5;124m\"\u001b[39m, processed_labels)\n\u001b[0;32m---> 93\u001b[0m decoded_labels \u001b[38;5;241m=\u001b[39m \u001b[38;5;28mself\u001b[39m\u001b[38;5;241m.\u001b[39mprocessor\u001b[38;5;241m.\u001b[39mdecode(\u001b[43mprocessed_labels\u001b[49m\u001b[43m[\u001b[49m\u001b[38;5;124;43m\"\u001b[39;49m\u001b[38;5;124;43minput_ids\u001b[39;49m\u001b[38;5;124;43m\"\u001b[39;49m\u001b[43m]\u001b[49m[\u001b[38;5;241m0\u001b[39m])\n\u001b[1;32m     94\u001b[0m \u001b[38;5;28mprint\u001b[39m(\u001b[38;5;124m\"\u001b[39m\u001b[38;5;124mOriginal text:\u001b[39m\u001b[38;5;124m\"\u001b[39m, text_input)\n\u001b[1;32m     95\u001b[0m \u001b[38;5;28mprint\u001b[39m(\u001b[38;5;124m\"\u001b[39m\u001b[38;5;124mDecoded labels:\u001b[39m\u001b[38;5;124m\"\u001b[39m, decoded_labels)\n",
      "File \u001b[0;32m~/ML/venv/lib/python3.8/site-packages/transformers/feature_extraction_utils.py:87\u001b[0m, in \u001b[0;36mBatchFeature.__getitem__\u001b[0;34m(self, item)\u001b[0m\n\u001b[1;32m     82\u001b[0m \u001b[38;5;250m\u001b[39m\u001b[38;5;124;03m\"\"\"\u001b[39;00m\n\u001b[1;32m     83\u001b[0m \u001b[38;5;124;03mIf the key is a string, returns the value of the dict associated to `key` ('input_values', 'attention_mask',\u001b[39;00m\n\u001b[1;32m     84\u001b[0m \u001b[38;5;124;03metc.).\u001b[39;00m\n\u001b[1;32m     85\u001b[0m \u001b[38;5;124;03m\"\"\"\u001b[39;00m\n\u001b[1;32m     86\u001b[0m \u001b[38;5;28;01mif\u001b[39;00m \u001b[38;5;28misinstance\u001b[39m(item, \u001b[38;5;28mstr\u001b[39m):\n\u001b[0;32m---> 87\u001b[0m     \u001b[38;5;28;01mreturn\u001b[39;00m \u001b[38;5;28;43mself\u001b[39;49m\u001b[38;5;241;43m.\u001b[39;49m\u001b[43mdata\u001b[49m\u001b[43m[\u001b[49m\u001b[43mitem\u001b[49m\u001b[43m]\u001b[49m\n\u001b[1;32m     88\u001b[0m \u001b[38;5;28;01melse\u001b[39;00m:\n\u001b[1;32m     89\u001b[0m     \u001b[38;5;28;01mraise\u001b[39;00m \u001b[38;5;167;01mKeyError\u001b[39;00m(\u001b[38;5;124m\"\u001b[39m\u001b[38;5;124mIndexing with integers is not available when using Python based feature extractors\u001b[39m\u001b[38;5;124m\"\u001b[39m)\n",
      "\u001b[0;31mKeyError\u001b[0m: 'input_ids'"
     ]
    }
   ],
   "source": [
    "# torch.autograd.set_detect_anomaly(False) # debug NaNs, disable for real training to improve performance\n",
    "# model.config.ctc_zero_infinity = True \n",
    "#resume_from_checkpoint=True\n",
    "trainer.train() # resume_from_checkpoint=True to resume training if training was interrupted"
   ]
  },
  {
   "cell_type": "markdown",
   "metadata": {},
   "source": [
    "# Evaluate"
   ]
  },
  {
   "cell_type": "code",
   "execution_count": 43,
   "metadata": {},
   "outputs": [
    {
     "name": "stderr",
     "output_type": "stream",
     "text": [
      "Trainer.tokenizer is now deprecated. You should use Trainer.processing_class instead.\n",
      "Trainer.tokenizer is now deprecated. You should use Trainer.processing_class instead.\n",
      "/home/arunasrivastava/ML/venv/lib/python3.8/site-packages/transformers/models/wav2vec2/processing_wav2vec2.py:174: UserWarning: `as_target_processor` is deprecated and will be removed in v5 of Transformers. You can process your labels by using the argument `text` of the regular `__call__` method (either in the same call as your audio inputs, or in a separate call.\n",
      "  warnings.warn(\n"
     ]
    },
    {
     "data": {
      "text/html": [
       "\n",
       "    <div>\n",
       "      \n",
       "      <progress value='2' max='2' style='width:300px; height:20px; vertical-align: middle;'></progress>\n",
       "      [2/2 00:00]\n",
       "    </div>\n",
       "    "
      ],
      "text/plain": [
       "<IPython.core.display.HTML object>"
      ]
     },
     "metadata": {},
     "output_type": "display_data"
    },
    {
     "name": "stderr",
     "output_type": "stream",
     "text": [
      "/home/arunasrivastava/ML/venv/lib/python3.8/site-packages/panphon/distance.py:73: YAMLLoadWarning: calling yaml.load() without Loader=... is deprecated, as the default Loader is unsafe. Please read https://msg.pyyaml.org/load for full details.\n",
      "  dogol_prime = yaml.load(f.read())\n"
     ]
    },
    {
     "name": "stdout",
     "output_type": "stream",
     "text": [
      "Evaluation Results:\n",
      "Feature edit distance: 984.0454545454446\n",
      "Weighted feature edit distance: 7607.25\n",
      "Hamming distance: 1052.5454545454538\n",
      "CER: 1.0\n"
     ]
    }
   ],
   "source": [
    "import wandb\n",
    "eval_results = trainer.evaluate()\n",
    "wandb.log(eval_results)"
   ]
  },
  {
   "cell_type": "code",
   "execution_count": 44,
   "metadata": {},
   "outputs": [],
   "source": [
    "old_model = AutoModelForCTC.from_pretrained(PRE_TRAINED_ID).to(model.device)"
   ]
  },
  {
   "cell_type": "code",
   "execution_count": 45,
   "metadata": {},
   "outputs": [],
   "source": [
    "finetuned_model = AutoModelForCTC.from_pretrained(os.path.join(OUTPUT_DIR, 'checkpoint-100'))"
   ]
  },
  {
   "cell_type": "code",
   "execution_count": 46,
   "metadata": {},
   "outputs": [],
   "source": [
    "# check for nan weights and replace with old values if any\n",
    "for name, param in finetuned_model.named_parameters():\n",
    "    if torch.isnan(param).any():\n",
    "        print(name)\n",
    "        param.data = old_model.state_dict()[name].data"
   ]
  },
  {
   "cell_type": "code",
   "execution_count": 47,
   "metadata": {},
   "outputs": [
    {
     "name": "stdout",
     "output_type": "stream",
     "text": [
      "Weights are different, training did something\n"
     ]
    }
   ],
   "source": [
    "# compare weights\n",
    "is_diff = False\n",
    "for name, param in finetuned_model.named_parameters():\n",
    "    if not torch.equal(param, old_model.state_dict()[name].to(finetuned_model.device)):\n",
    "        is_diff = True\n",
    "        break\n",
    "print(\"Weights are different, training did something\" if is_diff else \"Weights are the same, training did nothing\")"
   ]
  },
  {
   "cell_type": "code",
   "execution_count": 48,
   "metadata": {},
   "outputs": [],
   "source": [
    "def predict(model, wav_file):\n",
    "    speech = audio_file_to_array(wav_file)\n",
    "    input_values = processor(speech, sampling_rate=16000, return_tensors=\"pt\").input_values.type(torch.float32).to(model.device)\n",
    "\n",
    "    with torch.no_grad():\n",
    "        logits = model(input_values).logits\n",
    "\n",
    "    predicted_ids = torch.argmax(logits, dim=-1)\n",
    "    return processor.decode(predicted_ids[0])\n",
    "    "
   ]
  },
  {
   "cell_type": "code",
   "execution_count": 49,
   "metadata": {},
   "outputs": [
    {
     "name": "stdout",
     "output_type": "stream",
     "text": [
      "Checkpoint Transcription: h ɛ l oʊ æ l ɪ k s ɪ z ɛ k s t ɾ ɹ ə k ə n f iː l ʊ s t\n"
     ]
    }
   ],
   "source": [
    "print('Checkpoint Transcription:', predict(finetuned_model, os.path.join('..', 'data', 'alexIsConfused.wav')))"
   ]
  },
  {
   "cell_type": "code",
   "execution_count": 50,
   "metadata": {},
   "outputs": [
    {
     "name": "stdout",
     "output_type": "stream",
     "text": [
      "Best Fine-Tune Transcription: h ɛ l oʊ æ l ɪ k s ɪ z ɛ k s t ɾ ɹ ə k ə n f iː l ʊ s t\n"
     ]
    }
   ],
   "source": [
    "print('Best Fine-Tune Transcription:', predict(trainer.model, os.path.join('..', 'data', 'alexIsConfused.wav')))"
   ]
  },
  {
   "cell_type": "code",
   "execution_count": 51,
   "metadata": {},
   "outputs": [
    {
     "name": "stdout",
     "output_type": "stream",
     "text": [
      "Best Fine-Tune Transcription: h ɛ l oʊ æ l ɪ k s ɪ z ɛ k s t ɾ ɹ ə k ə n f iː l ʊ s t\n"
     ]
    }
   ],
   "source": [
    "print('Best Fine-Tune Transcription:', predict(trainer.model, os.path.join('..', 'data', 'alexIsConfused.wav')))"
   ]
  },
  {
   "cell_type": "code",
   "execution_count": 52,
   "metadata": {},
   "outputs": [
    {
     "name": "stdout",
     "output_type": "stream",
     "text": [
      "Old Transcription: h ɛ l oʊ æ l ɪ k s ɪ z ɛ k s t ɾ ɹ ə k ə n f iː l ʊ s t\n"
     ]
    }
   ],
   "source": [
    "print('Old Transcription:', predict(old_model, os.path.join('..', 'data', 'alexIsConfused.wav')))"
   ]
  },
  {
   "cell_type": "code",
   "execution_count": 53,
   "metadata": {},
   "outputs": [],
   "source": [
    "# import wandb\n",
    "\n",
    "# sweep_config = {\n",
    "#     'method': 'bayes',  # Or 'grid' or 'random'\n",
    "#     'metric': {'name': 'loss', 'goal': 'minimize'},\n",
    "#     'parameters': {\n",
    "#         'learning_rate': {'min': 1e-8, 'max': 5e-6, 'distribution': 'log_uniform_values'},\n",
    "#         'per_device_train_batch_size': {'values': [4, 8, 16]},\n",
    "#         'num_train_epochs': {'values': [3, 5, 10]},\n",
    "#     }\n",
    "# }\n",
    "\n",
    "# sweep_id = wandb.sweep(sweep_config, project=\"timit-finetune-hyperparam\")\n",
    "\n",
    "# from transformers import TrainingArguments, Trainer\n",
    "\n",
    "# def train():\n",
    "#     # Initialize a new wandb run\n",
    "#     wandb.init()\n",
    "\n",
    "#     # Set up training arguments, pulling values from wandb.config\n",
    "#     training_args = TrainingArguments(\n",
    "#         output_dir=OUTPUT_DIR,\n",
    "#         group_by_length=True,\n",
    "#         per_device_train_batch_size=wandb.config.per_device_train_batch_size,\n",
    "#         gradient_accumulation_steps=4,\n",
    "#         eval_strategy=\"steps\",\n",
    "#         num_train_epochs=wandb.config.num_train_epochs,\n",
    "#         fp16=True,\n",
    "#         save_steps=50,\n",
    "#         eval_steps=50,\n",
    "#         logging_steps=10,\n",
    "#         learning_rate=wandb.config.learning_rate,\n",
    "#         warmup_steps=1000,\n",
    "#         save_total_limit=3,\n",
    "#         gradient_checkpointing=True,\n",
    "#         load_best_model_at_end=True,\n",
    "#         max_grad_norm=1.0,\n",
    "#         report_to=\"wandb\"\n",
    "#     )\n",
    "\n",
    "#     trainer = Trainer(\n",
    "#         model=model,\n",
    "#         data_collator=data_collator,\n",
    "#         args=training_args,\n",
    "#         compute_metrics=compute_metrics,\n",
    "#         train_dataset=train_ds_prepared,\n",
    "#         eval_dataset=test_ds_prepared,\n",
    "#         processing_class=processor.feature_extractor,\n",
    "#     )\n",
    "\n",
    "#     # Run training and automatically log results to W&B\n",
    "#     trainer.train()\n",
    "\n",
    "#     # Ensure to log any additional evaluation metrics\n",
    "#     eval_metrics = trainer.evaluate()\n",
    "#     wandb.log(eval_metrics)\n",
    "\n",
    "\n",
    "\n",
    "# wandb.agent(sweep_id, train, count=5)\n"
   ]
  },
  {
   "cell_type": "code",
   "execution_count": 54,
   "metadata": {},
   "outputs": [],
   "source": [
    "# import wandb\n",
    "# import optuna\n",
    "# from transformers import TrainingArguments, Trainer\n",
    "\n",
    "# # Initialize wandb\n",
    "# wandb.init(project=\"hyperparam\")\n",
    "\n",
    "# def model_init():\n",
    "#     return model\n",
    "\n",
    "# def objective(trial):\n",
    "#     # Define the hyperparameters to tune\n",
    "#     learning_rate = trial.suggest_float(\"learning_rate\", 1e-8, 1e-7, log=True)\n",
    "#     per_device_train_batch_size = trial.suggest_categorical(\"per_device_train_batch_size\", [2, 4, 8])\n",
    "#     num_train_epochs = trial.suggest_int(\"num_train_epochs\", 5, 10, 15)\n",
    "\n",
    "#     # Update training arguments with dynamic hyperparameters\n",
    "#     training_args = TrainingArguments(\n",
    "#         output_dir=OUTPUT_DIR,\n",
    "#         run_name=\"hyperparam-searchC\",  # Set a unique run name\n",
    "#         group_by_length=True,\n",
    "#         per_device_train_batch_size=per_device_train_batch_size,\n",
    "#         gradient_accumulation_steps=4,\n",
    "#         evaluation_strategy=\"steps\",\n",
    "#         num_train_epochs=num_train_epochs,\n",
    "#         fp16=True,\n",
    "#         save_steps=100,\n",
    "#         eval_steps=100,\n",
    "#         logging_steps=100,\n",
    "#         learning_rate=learning_rate,\n",
    "#         warmup_steps=1000,\n",
    "#         save_total_limit=3,\n",
    "#         gradient_checkpointing=True,\n",
    "#         load_best_model_at_end=True,\n",
    "#         max_grad_norm=1.0,\n",
    "#         report_to=\"wandb\"  # Report to WandB\n",
    "#     )\n",
    "\n",
    "#     # Set up the trainer with the training arguments and datasets\n",
    "#     trainer = Trainer(\n",
    "#         model_init=model_init,\n",
    "#         args=training_args,\n",
    "#         data_collator=data_collator,\n",
    "#         compute_metrics=compute_metrics,\n",
    "#         train_dataset=train_ds_prepared.select(range(100)),  # Use a subset for faster experimentation\n",
    "#         eval_dataset=test_ds_prepared.select(range(100)),\n",
    "#         processing_class=processor.feature_extractor,\n",
    "#     )\n",
    "\n",
    "#     # Disable anomaly detection for better performance\n",
    "#     torch.autograd.set_detect_anomaly(False)\n",
    "#     # model.config.ctc_zero_infinity = True  # Uncomment if needed for CTC models\n",
    "\n",
    "#     # Train the model for this trial\n",
    "#     result = trainer.train()  # Set resume_from_checkpoint=True if resuming is required\n",
    "\n",
    "#     # Return the final training loss for Optuna to minimize\n",
    "#     return result.training_loss\n",
    "\n",
    "# # Perform hyperparameter search with updated search space\n",
    "# study = optuna.create_study(direction=\"minimize\")\n",
    "# study.optimize(objective, n_trials=10)\n",
    "\n",
    "# # Print the best hyperparameters\n",
    "# print(\"Best hyperparameters: \", study.best_params)\n"
   ]
  },
  {
   "cell_type": "code",
   "execution_count": null,
   "metadata": {},
   "outputs": [],
   "source": []
  }
 ],
 "metadata": {
  "kernelspec": {
   "display_name": "venv",
   "language": "python",
   "name": "python3"
  },
  "language_info": {
   "codemirror_mode": {
    "name": "ipython",
    "version": 3
   },
   "file_extension": ".py",
   "mimetype": "text/x-python",
   "name": "python",
   "nbconvert_exporter": "python",
   "pygments_lexer": "ipython3",
   "version": "3.8.10"
  }
 },
 "nbformat": 4,
 "nbformat_minor": 2
}
