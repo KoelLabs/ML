{
 "cells": [
  {
   "cell_type": "code",
   "execution_count": 2,
   "metadata": {},
   "outputs": [
    {
     "name": "stderr",
     "output_type": "stream",
     "text": [
      "/home/arunasrivastava/ML/venv/lib/python3.8/site-packages/tqdm/auto.py:21: TqdmWarning: IProgress not found. Please update jupyter and ipywidgets. See https://ipywidgets.readthedocs.io/en/stable/user_install.html\n",
      "  from .autonotebook import tqdm as notebook_tqdm\n"
     ]
    }
   ],
   "source": [
    "import numpy as np\n",
    "import zipfile\n",
    "from datasets import Dataset\n",
    "import pandas as pd\n",
    "\n",
    "import os\n",
    "# run as much as possible accelerated by apple silicon, fall back to cpu if not possible\n",
    "os.environ[\"PYTORCH_ENABLE_MPS_FALLBACK\"] = \"1\"\n",
    "import torch\n",
    "\n",
    "import sys\n",
    "sys.path.append('..')\n",
    "from scripts.audio import audio_file_to_array\n",
    "from scripts.ipa import timit2ipa\n"
   ]
  },
  {
   "cell_type": "code",
   "execution_count": 3,
   "metadata": {},
   "outputs": [],
   "source": [
    "# set espeak library path for macOS\n",
    "if sys.platform == \"darwin\":\n",
    "    from phonemizer.backend.espeak.wrapper import EspeakWrapper\n",
    "\n",
    "    _ESPEAK_LIBRARY = \"/opt/homebrew/Cellar/espeak/1.48.04_1/lib/libespeak.1.1.48.dylib\"\n",
    "    EspeakWrapper.set_library(_ESPEAK_LIBRARY)"
   ]
  },
  {
   "cell_type": "code",
   "execution_count": 4,
   "metadata": {},
   "outputs": [],
   "source": [
    "from transformers import AutoProcessor, AutoModelForCTC, AutoTokenizer, AutoFeatureExtractor"
   ]
  },
  {
   "cell_type": "code",
   "execution_count": 5,
   "metadata": {},
   "outputs": [],
   "source": [
    "OUTPUT_DIR = os.path.join('..', 'models', 'timit-xlsr-finetune-nia12')\n",
    "PRE_TRAINED_ID = \"snu-nia-12/wav2vec2-large_nia12_phone-ipa_english\""
   ]
  },
  {
   "cell_type": "markdown",
   "metadata": {},
   "source": [
    "# Load Data"
   ]
  },
  {
   "cell_type": "code",
   "execution_count": 6,
   "metadata": {},
   "outputs": [],
   "source": [
    "timit = zipfile.ZipFile('../.data/TIMIT.zip', 'r')\n",
    "timit_files = timit.namelist()"
   ]
  },
  {
   "cell_type": "code",
   "execution_count": 7,
   "metadata": {},
   "outputs": [],
   "source": [
    "training_files = list(set(map(lambda x: x.split('.')[0], filter(lambda x: x.startswith('data/TRAIN'), timit_files))))\n",
    "test_files = list(set(map(lambda x: x.split('.')[0], filter(lambda x: x.startswith('data/TEST'), timit_files))))"
   ]
  },
  {
   "cell_type": "code",
   "execution_count": 8,
   "metadata": {},
   "outputs": [],
   "source": [
    "\n",
    "def timit_file_to_dict(filename):\n",
    "    with timit.open(filename + '.PHN') as phn_file:\n",
    "        timestamped_phonemes = []\n",
    "        for line in phn_file.read().decode('utf-8').split('\\n'):\n",
    "            if line == '':\n",
    "                continue\n",
    "            start, end, phoneme = line.split()\n",
    "            timestamped_phonemes.append((timit2ipa(phoneme, \"eng\"), int(start), int(end)))\n",
    "    return {'timestamped_phonemes': timestamped_phonemes, 'wav_filename': filename + '.WAV'}\n",
    "    "
   ]
  },
  {
   "cell_type": "code",
   "execution_count": 9,
   "metadata": {},
   "outputs": [],
   "source": [
    "WAV_HEADER_SIZE = 44\n",
    "def zipped_wav_to_array(filename):\n",
    "    with timit.open(filename) as wav_file:\n",
    "        return np.frombuffer(wav_file.read(), dtype=np.int16)[WAV_HEADER_SIZE//2:]"
   ]
  },
  {
   "cell_type": "code",
   "execution_count": 10,
   "metadata": {},
   "outputs": [
    {
     "name": "stdout",
     "output_type": "stream",
     "text": [
      "{'timestamped_phonemes': [('', 0, 1560), ('h', 1560, 3530), ('ɝ', 3530, 6349), ('b', 6349, 8200), ('', 8200, 8561), ('z', 8561, 9870), ('b', 9870, 11770), ('', 11770, 12050), ('ɝ', 12050, 13880), ('θ', 13880, 15320), ('d', 15320, 17169), ('', 17169, 17464), ('eɪ', 17464, 21681), ('', 21681, 24355), ('ʔ', 24355, 24939), ('ə', 24939, 25640), ('k', 25640, 27195), ('', 27195, 28830), ('ɝ', 28830, 31640), ('z', 31640, 33879), ('', 33879, 34740), ('f', 34740, 36060), ('ɹ', 36060, 36373), ('i', 36373, 37000), ('k', 37000, 38330), ('', 38330, 39060), ('w', 39060, 39586), ('ə', 39586, 40313), ('n', 40313, 40563), ('ʔ', 40563, 42151), ('l', 42151, 43431), ('i', 43431, 46040), ('', 46040, 47280), ('ɔ', 47280, 49440), ('n', 49440, 50680), ('θ', 50680, 53260), ('ɪ', 53260, 54711), ('ŋ', 54711, 55640), ('', 55640, 55964), ('s', 55964, 57635), ('g', 57635, 58660), ('', 58660, 59160), ('ɪ', 59160, 60392), ('v', 60392, 61520), ('ɪ', 61520, 62398), ('n', 62398, 64262), ('', 64262, 66320)], 'wav_filename': 'data/TRAIN/DR4/MLJH0/SX244.WAV'}\n"
     ]
    }
   ],
   "source": [
    "\n",
    "parsed_0 = timit_file_to_dict(training_files[0])\n",
    "print(parsed_0)"
   ]
  },
  {
   "cell_type": "code",
   "execution_count": 11,
   "metadata": {},
   "outputs": [],
   "source": [
    "def files_to_df(files):\n",
    "    records = []\n",
    "    for filename in files:\n",
    "        parsed = timit_file_to_dict(filename)\n",
    "        parsed['audio'] = zipped_wav_to_array(parsed['wav_filename'])\n",
    "        del parsed['wav_filename']\n",
    "        parsed['ipa'] = \"\".join(phoneme for phoneme, _, _ in parsed['timestamped_phonemes'])\n",
    "        parsed['phoneme_starts'] = [start for _, start, _ in parsed['timestamped_phonemes']]\n",
    "        parsed['phoneme_ends'] = [end for _, _, end in parsed['timestamped_phonemes']]\n",
    "        del parsed['timestamped_phonemes']\n",
    "        records.append(parsed)\n",
    "    return pd.DataFrame(records)"
   ]
  },
  {
   "cell_type": "code",
   "execution_count": 12,
   "metadata": {},
   "outputs": [
    {
     "data": {
      "text/html": [
       "<div>\n",
       "<style scoped>\n",
       "    .dataframe tbody tr th:only-of-type {\n",
       "        vertical-align: middle;\n",
       "    }\n",
       "\n",
       "    .dataframe tbody tr th {\n",
       "        vertical-align: top;\n",
       "    }\n",
       "\n",
       "    .dataframe thead th {\n",
       "        text-align: right;\n",
       "    }\n",
       "</style>\n",
       "<table border=\"1\" class=\"dataframe\">\n",
       "  <thead>\n",
       "    <tr style=\"text-align: right;\">\n",
       "      <th></th>\n",
       "      <th>audio</th>\n",
       "      <th>ipa</th>\n",
       "      <th>phoneme_starts</th>\n",
       "      <th>phoneme_ends</th>\n",
       "    </tr>\n",
       "  </thead>\n",
       "  <tbody>\n",
       "    <tr>\n",
       "      <th>0</th>\n",
       "      <td>[25971, 30303, 29285, 26995, 28271, 11552, 131...</td>\n",
       "      <td>hɝbzbɝθdeɪʔəkɝzfɹikwənʔliɔnθɪŋsgɪvɪn</td>\n",
       "      <td>[0, 1560, 3530, 6349, 8200, 8561, 9870, 11770,...</td>\n",
       "      <td>[1560, 3530, 6349, 8200, 8561, 9870, 11770, 12...</td>\n",
       "    </tr>\n",
       "    <tr>\n",
       "      <th>1</th>\n",
       "      <td>[25971, 30303, 29285, 26995, 28271, 11552, 131...</td>\n",
       "      <td>ðɨnʉzeɪʒɨnsiɦaɪɚdeɪgɹeɪtdʒɝɾ̃əlɨst</td>\n",
       "      <td>[0, 2270, 2590, 3550, 4520, 7150, 8320, 10903,...</td>\n",
       "      <td>[2270, 2590, 3550, 4520, 7150, 8320, 10903, 11...</td>\n",
       "    </tr>\n",
       "    <tr>\n",
       "      <th>2</th>\n",
       "      <td>[25971, 30303, 29285, 26995, 28271, 11552, 131...</td>\n",
       "      <td>ðeɪɑfɨŋgoʊaʊɾɪnðiʔivnɨŋ</td>\n",
       "      <td>[0, 2360, 2924, 4842, 6760, 8260, 9080, 10026,...</td>\n",
       "      <td>[2360, 2924, 4842, 6760, 8260, 9080, 10026, 10...</td>\n",
       "    </tr>\n",
       "    <tr>\n",
       "      <th>3</th>\n",
       "      <td>[25971, 30303, 29285, 26995, 28271, 11552, 131...</td>\n",
       "      <td>ʔəpɹoʊttʃjɝɪnɝvjʉwɨθstættʃuɛskm̩poʊʒɝ</td>\n",
       "      <td>[0, 2120, 2631, 3400, 4720, 5950, 6600, 8396, ...</td>\n",
       "      <td>[2120, 2631, 3400, 4720, 5950, 6600, 8396, 882...</td>\n",
       "    </tr>\n",
       "    <tr>\n",
       "      <th>4</th>\n",
       "      <td>[25971, 30303, 29285, 26995, 28271, 11552, 131...</td>\n",
       "      <td>tʃɑklɨtɨnɹoʊzɨznɛvɚfeɪlʔɛzəɹoʊmæntɨkɪft</td>\n",
       "      <td>[0, 2040, 3467, 5720, 7080, 7895, 8317, 9160, ...</td>\n",
       "      <td>[2040, 3467, 5720, 7080, 7895, 8317, 9160, 972...</td>\n",
       "    </tr>\n",
       "  </tbody>\n",
       "</table>\n",
       "</div>"
      ],
      "text/plain": [
       "                                               audio  \\\n",
       "0  [25971, 30303, 29285, 26995, 28271, 11552, 131...   \n",
       "1  [25971, 30303, 29285, 26995, 28271, 11552, 131...   \n",
       "2  [25971, 30303, 29285, 26995, 28271, 11552, 131...   \n",
       "3  [25971, 30303, 29285, 26995, 28271, 11552, 131...   \n",
       "4  [25971, 30303, 29285, 26995, 28271, 11552, 131...   \n",
       "\n",
       "                                       ipa  \\\n",
       "0     hɝbzbɝθdeɪʔəkɝzfɹikwənʔliɔnθɪŋsgɪvɪn   \n",
       "1       ðɨnʉzeɪʒɨnsiɦaɪɚdeɪgɹeɪtdʒɝɾ̃əlɨst   \n",
       "2                  ðeɪɑfɨŋgoʊaʊɾɪnðiʔivnɨŋ   \n",
       "3    ʔəpɹoʊttʃjɝɪnɝvjʉwɨθstættʃuɛskm̩poʊʒɝ   \n",
       "4  tʃɑklɨtɨnɹoʊzɨznɛvɚfeɪlʔɛzəɹoʊmæntɨkɪft   \n",
       "\n",
       "                                      phoneme_starts  \\\n",
       "0  [0, 1560, 3530, 6349, 8200, 8561, 9870, 11770,...   \n",
       "1  [0, 2270, 2590, 3550, 4520, 7150, 8320, 10903,...   \n",
       "2  [0, 2360, 2924, 4842, 6760, 8260, 9080, 10026,...   \n",
       "3  [0, 2120, 2631, 3400, 4720, 5950, 6600, 8396, ...   \n",
       "4  [0, 2040, 3467, 5720, 7080, 7895, 8317, 9160, ...   \n",
       "\n",
       "                                        phoneme_ends  \n",
       "0  [1560, 3530, 6349, 8200, 8561, 9870, 11770, 12...  \n",
       "1  [2270, 2590, 3550, 4520, 7150, 8320, 10903, 11...  \n",
       "2  [2360, 2924, 4842, 6760, 8260, 9080, 10026, 10...  \n",
       "3  [2120, 2631, 3400, 4720, 5950, 6600, 8396, 882...  \n",
       "4  [2040, 3467, 5720, 7080, 7895, 8317, 9160, 972...  "
      ]
     },
     "execution_count": 12,
     "metadata": {},
     "output_type": "execute_result"
    }
   ],
   "source": [
    "train_df = files_to_df(training_files)\n",
    "train_df.head()"
   ]
  },
  {
   "cell_type": "code",
   "execution_count": 13,
   "metadata": {},
   "outputs": [
    {
     "data": {
      "text/html": [
       "<div>\n",
       "<style scoped>\n",
       "    .dataframe tbody tr th:only-of-type {\n",
       "        vertical-align: middle;\n",
       "    }\n",
       "\n",
       "    .dataframe tbody tr th {\n",
       "        vertical-align: top;\n",
       "    }\n",
       "\n",
       "    .dataframe thead th {\n",
       "        text-align: right;\n",
       "    }\n",
       "</style>\n",
       "<table border=\"1\" class=\"dataframe\">\n",
       "  <thead>\n",
       "    <tr style=\"text-align: right;\">\n",
       "      <th></th>\n",
       "      <th>audio</th>\n",
       "      <th>ipa</th>\n",
       "      <th>phoneme_starts</th>\n",
       "      <th>phoneme_ends</th>\n",
       "    </tr>\n",
       "  </thead>\n",
       "  <tbody>\n",
       "    <tr>\n",
       "      <th>0</th>\n",
       "      <td>[25971, 30303, 29285, 26995, 28271, 11552, 131...</td>\n",
       "      <td>oʊɾ̃æskmɨɾɨkæɹiɨnʔɔɪliɹæglaɪkðæt</td>\n",
       "      <td>[0, 2190, 2580, 4200, 4680, 6690, 7820, 8600, ...</td>\n",
       "      <td>[2190, 2580, 4200, 4680, 6690, 7820, 8600, 898...</td>\n",
       "    </tr>\n",
       "    <tr>\n",
       "      <th>1</th>\n",
       "      <td>[25971, 30303, 29285, 26995, 28271, 11552, 131...</td>\n",
       "      <td>lɛvɚlaɪtsɔŋzwɚʔoʊvɚlikɔɪɹæddʒɨksɔŋzʔəlɪɾl̩ tʉm...</td>\n",
       "      <td>[6440, 8600, 10200, 10599, 11400, 12040, 13000...</td>\n",
       "      <td>[8600, 10200, 10599, 11400, 12040, 13000, 1388...</td>\n",
       "    </tr>\n",
       "    <tr>\n",
       "      <th>2</th>\n",
       "      <td>[25971, 30303, 29285, 26995, 28271, 11552, 131...</td>\n",
       "      <td>fɑddʒɪkəvɛləpmɛntwʌzpɨsiɾɨŋtʉsloʊli</td>\n",
       "      <td>[0, 2520, 3160, 5320, 5960, 6760, 7640, 9560, ...</td>\n",
       "      <td>[2520, 3160, 5320, 5960, 6760, 7640, 9560, 980...</td>\n",
       "    </tr>\n",
       "    <tr>\n",
       "      <th>3</th>\n",
       "      <td>[25971, 30303, 29285, 26995, 28271, 11552, 131...</td>\n",
       "      <td>ðeɪɨnddʒɔɪɨtwʌɾ̃aɪɔdɪʃn̩</td>\n",
       "      <td>[0, 2088, 2380, 4473, 5520, 6160, 6410, 7050, ...</td>\n",
       "      <td>[2088, 2380, 4473, 5520, 6160, 6410, 7050, 969...</td>\n",
       "    </tr>\n",
       "    <tr>\n",
       "      <th>4</th>\n",
       "      <td>[25971, 30303, 29285, 26995, 28271, 11552, 131...</td>\n",
       "      <td>hitɹɛmbl̩ dlɛsthɪzpiʃɨdfeɪl</td>\n",
       "      <td>[0, 2526, 3668, 4495, 5010, 6840, 7280, 8160, ...</td>\n",
       "      <td>[2526, 3668, 4495, 5010, 6840, 7280, 8160, 822...</td>\n",
       "    </tr>\n",
       "  </tbody>\n",
       "</table>\n",
       "</div>"
      ],
      "text/plain": [
       "                                               audio  \\\n",
       "0  [25971, 30303, 29285, 26995, 28271, 11552, 131...   \n",
       "1  [25971, 30303, 29285, 26995, 28271, 11552, 131...   \n",
       "2  [25971, 30303, 29285, 26995, 28271, 11552, 131...   \n",
       "3  [25971, 30303, 29285, 26995, 28271, 11552, 131...   \n",
       "4  [25971, 30303, 29285, 26995, 28271, 11552, 131...   \n",
       "\n",
       "                                                 ipa  \\\n",
       "0                   oʊɾ̃æskmɨɾɨkæɹiɨnʔɔɪliɹæglaɪkðæt   \n",
       "1  lɛvɚlaɪtsɔŋzwɚʔoʊvɚlikɔɪɹæddʒɨksɔŋzʔəlɪɾl̩ tʉm...   \n",
       "2                fɑddʒɪkəvɛləpmɛntwʌzpɨsiɾɨŋtʉsloʊli   \n",
       "3                           ðeɪɨnddʒɔɪɨtwʌɾ̃aɪɔdɪʃn̩   \n",
       "4                        hitɹɛmbl̩ dlɛsthɪzpiʃɨdfeɪl   \n",
       "\n",
       "                                      phoneme_starts  \\\n",
       "0  [0, 2190, 2580, 4200, 4680, 6690, 7820, 8600, ...   \n",
       "1  [6440, 8600, 10200, 10599, 11400, 12040, 13000...   \n",
       "2  [0, 2520, 3160, 5320, 5960, 6760, 7640, 9560, ...   \n",
       "3  [0, 2088, 2380, 4473, 5520, 6160, 6410, 7050, ...   \n",
       "4  [0, 2526, 3668, 4495, 5010, 6840, 7280, 8160, ...   \n",
       "\n",
       "                                        phoneme_ends  \n",
       "0  [2190, 2580, 4200, 4680, 6690, 7820, 8600, 898...  \n",
       "1  [8600, 10200, 10599, 11400, 12040, 13000, 1388...  \n",
       "2  [2520, 3160, 5320, 5960, 6760, 7640, 9560, 980...  \n",
       "3  [2088, 2380, 4473, 5520, 6160, 6410, 7050, 969...  \n",
       "4  [2526, 3668, 4495, 5010, 6840, 7280, 8160, 822...  "
      ]
     },
     "execution_count": 13,
     "metadata": {},
     "output_type": "execute_result"
    }
   ],
   "source": [
    "test_df = files_to_df(test_files)\n",
    "test_df.head()"
   ]
  },
  {
   "cell_type": "markdown",
   "metadata": {},
   "source": [
    "### Cleaning Up Audio"
   ]
  },
  {
   "cell_type": "code",
   "execution_count": 14,
   "metadata": {},
   "outputs": [],
   "source": [
    "def crop_audio(row):\n",
    "    # Access the phoneme_starts column and get the last value of the list\n",
    "    end = row['phoneme_starts'][-1]\n",
    "    # Access the phoneme_ends column and get the first value of the list\n",
    "    start = row['phoneme_ends'][0]\n",
    "    # Crop the audio from start to end\n",
    "    # note that start and end are in samples, not seconds\n",
    "    cropped_audio = row['audio'][start:end]\n",
    "    \n",
    "    return cropped_audio"
   ]
  },
  {
   "cell_type": "code",
   "execution_count": 15,
   "metadata": {},
   "outputs": [
    {
     "data": {
      "image/png": "[encoded data removed]",
      "text/plain": [
       "<Figure size 640x480 with 1 Axes>"
      ]
     },
     "metadata": {},
     "output_type": "display_data"
    }
   ],
   "source": [
    "# graph one audio to see start signal that we will remove\n",
    "import matplotlib.pyplot as plt\n",
    "plt.plot(train_df['audio'][0])\n",
    "plt.show()"
   ]
  },
  {
   "cell_type": "code",
   "execution_count": 16,
   "metadata": {},
   "outputs": [
    {
     "data": {
      "text/html": [
       "<div>\n",
       "<style scoped>\n",
       "    .dataframe tbody tr th:only-of-type {\n",
       "        vertical-align: middle;\n",
       "    }\n",
       "\n",
       "    .dataframe tbody tr th {\n",
       "        vertical-align: top;\n",
       "    }\n",
       "\n",
       "    .dataframe thead th {\n",
       "        text-align: right;\n",
       "    }\n",
       "</style>\n",
       "<table border=\"1\" class=\"dataframe\">\n",
       "  <thead>\n",
       "    <tr style=\"text-align: right;\">\n",
       "      <th></th>\n",
       "      <th>audio</th>\n",
       "      <th>ipa</th>\n",
       "      <th>phoneme_starts</th>\n",
       "      <th>phoneme_ends</th>\n",
       "      <th>cropped_audio</th>\n",
       "    </tr>\n",
       "  </thead>\n",
       "  <tbody>\n",
       "    <tr>\n",
       "      <th>0</th>\n",
       "      <td>[25971, 30303, 29285, 26995, 28271, 11552, 131...</td>\n",
       "      <td>hɝbzbɝθdeɪʔəkɝzfɹikwənʔliɔnθɪŋsgɪvɪn</td>\n",
       "      <td>[0, 1560, 3530, 6349, 8200, 8561, 9870, 11770,...</td>\n",
       "      <td>[1560, 3530, 6349, 8200, 8561, 9870, 11770, 12...</td>\n",
       "      <td>[-4, -4, -3, -4, 0, 1, 0, -2, 1, 0, -2, -4, -2...</td>\n",
       "    </tr>\n",
       "    <tr>\n",
       "      <th>1</th>\n",
       "      <td>[25971, 30303, 29285, 26995, 28271, 11552, 131...</td>\n",
       "      <td>ðɨnʉzeɪʒɨnsiɦaɪɚdeɪgɹeɪtdʒɝɾ̃əlɨst</td>\n",
       "      <td>[0, 2270, 2590, 3550, 4520, 7150, 8320, 10903,...</td>\n",
       "      <td>[2270, 2590, 3550, 4520, 7150, 8320, 10903, 11...</td>\n",
       "      <td>[2, 0, -1, -2, -1, 1, -1, 0, -2, -1, -1, 1, -1...</td>\n",
       "    </tr>\n",
       "    <tr>\n",
       "      <th>2</th>\n",
       "      <td>[25971, 30303, 29285, 26995, 28271, 11552, 131...</td>\n",
       "      <td>ðeɪɑfɨŋgoʊaʊɾɪnðiʔivnɨŋ</td>\n",
       "      <td>[0, 2360, 2924, 4842, 6760, 8260, 9080, 10026,...</td>\n",
       "      <td>[2360, 2924, 4842, 6760, 8260, 9080, 10026, 10...</td>\n",
       "      <td>[3, 4, 3, -1, 2, 0, 5, 1, 3, 5, 3, 5, 5, 2, 1,...</td>\n",
       "    </tr>\n",
       "    <tr>\n",
       "      <th>3</th>\n",
       "      <td>[25971, 30303, 29285, 26995, 28271, 11552, 131...</td>\n",
       "      <td>ʔəpɹoʊttʃjɝɪnɝvjʉwɨθstættʃuɛskm̩poʊʒɝ</td>\n",
       "      <td>[0, 2120, 2631, 3400, 4720, 5950, 6600, 8396, ...</td>\n",
       "      <td>[2120, 2631, 3400, 4720, 5950, 6600, 8396, 882...</td>\n",
       "      <td>[2, 2, 0, 1, 1, 0, 3, 2, 1, 0, 2, 1, 2, 0, 1, ...</td>\n",
       "    </tr>\n",
       "    <tr>\n",
       "      <th>4</th>\n",
       "      <td>[25971, 30303, 29285, 26995, 28271, 11552, 131...</td>\n",
       "      <td>tʃɑklɨtɨnɹoʊzɨznɛvɚfeɪlʔɛzəɹoʊmæntɨkɪft</td>\n",
       "      <td>[0, 2040, 3467, 5720, 7080, 7895, 8317, 9160, ...</td>\n",
       "      <td>[2040, 3467, 5720, 7080, 7895, 8317, 9160, 972...</td>\n",
       "      <td>[2, -1, 1, 0, 1, -2, 0, 0, 0, 1, -1, 0, -2, -2...</td>\n",
       "    </tr>\n",
       "  </tbody>\n",
       "</table>\n",
       "</div>"
      ],
      "text/plain": [
       "                                               audio  \\\n",
       "0  [25971, 30303, 29285, 26995, 28271, 11552, 131...   \n",
       "1  [25971, 30303, 29285, 26995, 28271, 11552, 131...   \n",
       "2  [25971, 30303, 29285, 26995, 28271, 11552, 131...   \n",
       "3  [25971, 30303, 29285, 26995, 28271, 11552, 131...   \n",
       "4  [25971, 30303, 29285, 26995, 28271, 11552, 131...   \n",
       "\n",
       "                                       ipa  \\\n",
       "0     hɝbzbɝθdeɪʔəkɝzfɹikwənʔliɔnθɪŋsgɪvɪn   \n",
       "1       ðɨnʉzeɪʒɨnsiɦaɪɚdeɪgɹeɪtdʒɝɾ̃əlɨst   \n",
       "2                  ðeɪɑfɨŋgoʊaʊɾɪnðiʔivnɨŋ   \n",
       "3    ʔəpɹoʊttʃjɝɪnɝvjʉwɨθstættʃuɛskm̩poʊʒɝ   \n",
       "4  tʃɑklɨtɨnɹoʊzɨznɛvɚfeɪlʔɛzəɹoʊmæntɨkɪft   \n",
       "\n",
       "                                      phoneme_starts  \\\n",
       "0  [0, 1560, 3530, 6349, 8200, 8561, 9870, 11770,...   \n",
       "1  [0, 2270, 2590, 3550, 4520, 7150, 8320, 10903,...   \n",
       "2  [0, 2360, 2924, 4842, 6760, 8260, 9080, 10026,...   \n",
       "3  [0, 2120, 2631, 3400, 4720, 5950, 6600, 8396, ...   \n",
       "4  [0, 2040, 3467, 5720, 7080, 7895, 8317, 9160, ...   \n",
       "\n",
       "                                        phoneme_ends  \\\n",
       "0  [1560, 3530, 6349, 8200, 8561, 9870, 11770, 12...   \n",
       "1  [2270, 2590, 3550, 4520, 7150, 8320, 10903, 11...   \n",
       "2  [2360, 2924, 4842, 6760, 8260, 9080, 10026, 10...   \n",
       "3  [2120, 2631, 3400, 4720, 5950, 6600, 8396, 882...   \n",
       "4  [2040, 3467, 5720, 7080, 7895, 8317, 9160, 972...   \n",
       "\n",
       "                                       cropped_audio  \n",
       "0  [-4, -4, -3, -4, 0, 1, 0, -2, 1, 0, -2, -4, -2...  \n",
       "1  [2, 0, -1, -2, -1, 1, -1, 0, -2, -1, -1, 1, -1...  \n",
       "2  [3, 4, 3, -1, 2, 0, 5, 1, 3, 5, 3, 5, 5, 2, 1,...  \n",
       "3  [2, 2, 0, 1, 1, 0, 3, 2, 1, 0, 2, 1, 2, 0, 1, ...  \n",
       "4  [2, -1, 1, 0, 1, -2, 0, 0, 0, 1, -1, 0, -2, -2...  "
      ]
     },
     "execution_count": 16,
     "metadata": {},
     "output_type": "execute_result"
    }
   ],
   "source": [
    "# Apply the process_row function to each row in the DataFrame\n",
    "train_df['cropped_audio'] = train_df.apply(crop_audio, axis=1) \n",
    "train_df.head()\n",
    "    "
   ]
  },
  {
   "cell_type": "code",
   "execution_count": 17,
   "metadata": {},
   "outputs": [
    {
     "data": {
      "text/html": [
       "<div>\n",
       "<style scoped>\n",
       "    .dataframe tbody tr th:only-of-type {\n",
       "        vertical-align: middle;\n",
       "    }\n",
       "\n",
       "    .dataframe tbody tr th {\n",
       "        vertical-align: top;\n",
       "    }\n",
       "\n",
       "    .dataframe thead th {\n",
       "        text-align: right;\n",
       "    }\n",
       "</style>\n",
       "<table border=\"1\" class=\"dataframe\">\n",
       "  <thead>\n",
       "    <tr style=\"text-align: right;\">\n",
       "      <th></th>\n",
       "      <th>audio</th>\n",
       "      <th>ipa</th>\n",
       "      <th>phoneme_starts</th>\n",
       "      <th>phoneme_ends</th>\n",
       "      <th>cropped_audio</th>\n",
       "    </tr>\n",
       "  </thead>\n",
       "  <tbody>\n",
       "    <tr>\n",
       "      <th>0</th>\n",
       "      <td>[25971, 30303, 29285, 26995, 28271, 11552, 131...</td>\n",
       "      <td>oʊɾ̃æskmɨɾɨkæɹiɨnʔɔɪliɹæglaɪkðæt</td>\n",
       "      <td>[0, 2190, 2580, 4200, 4680, 6690, 7820, 8600, ...</td>\n",
       "      <td>[2190, 2580, 4200, 4680, 6690, 7820, 8600, 898...</td>\n",
       "      <td>[-1, 0, 0, 0, 0, 0, 2, 3, 1, 2, -1, -2, 0, 3, ...</td>\n",
       "    </tr>\n",
       "    <tr>\n",
       "      <th>1</th>\n",
       "      <td>[25971, 30303, 29285, 26995, 28271, 11552, 131...</td>\n",
       "      <td>lɛvɚlaɪtsɔŋzwɚʔoʊvɚlikɔɪɹæddʒɨksɔŋzʔəlɪɾl̩ tʉm...</td>\n",
       "      <td>[6440, 8600, 10200, 10599, 11400, 12040, 13000...</td>\n",
       "      <td>[8600, 10200, 10599, 11400, 12040, 13000, 1388...</td>\n",
       "      <td>[3, 1, 2, 3, 2, 1, 2, 3, 1, 2, 2, 3, 2, 0, 3, ...</td>\n",
       "    </tr>\n",
       "    <tr>\n",
       "      <th>2</th>\n",
       "      <td>[25971, 30303, 29285, 26995, 28271, 11552, 131...</td>\n",
       "      <td>fɑddʒɪkəvɛləpmɛntwʌzpɨsiɾɨŋtʉsloʊli</td>\n",
       "      <td>[0, 2520, 3160, 5320, 5960, 6760, 7640, 9560, ...</td>\n",
       "      <td>[2520, 3160, 5320, 5960, 6760, 7640, 9560, 980...</td>\n",
       "      <td>[-3, -1, -4, 1, -1, -2, -1, 3, -1, 5, -1, 1, 2...</td>\n",
       "    </tr>\n",
       "    <tr>\n",
       "      <th>3</th>\n",
       "      <td>[25971, 30303, 29285, 26995, 28271, 11552, 131...</td>\n",
       "      <td>ðeɪɨnddʒɔɪɨtwʌɾ̃aɪɔdɪʃn̩</td>\n",
       "      <td>[0, 2088, 2380, 4473, 5520, 6160, 6410, 7050, ...</td>\n",
       "      <td>[2088, 2380, 4473, 5520, 6160, 6410, 7050, 969...</td>\n",
       "      <td>[0, 2, 3, -1, 2, 3, 3, 2, 1, 2, 3, 3, 2, 2, 1,...</td>\n",
       "    </tr>\n",
       "    <tr>\n",
       "      <th>4</th>\n",
       "      <td>[25971, 30303, 29285, 26995, 28271, 11552, 131...</td>\n",
       "      <td>hitɹɛmbl̩ dlɛsthɪzpiʃɨdfeɪl</td>\n",
       "      <td>[0, 2526, 3668, 4495, 5010, 6840, 7280, 8160, ...</td>\n",
       "      <td>[2526, 3668, 4495, 5010, 6840, 7280, 8160, 822...</td>\n",
       "      <td>[-9, -5, -9, -10, -9, -13, -11, 6, 3, -11, -14...</td>\n",
       "    </tr>\n",
       "  </tbody>\n",
       "</table>\n",
       "</div>"
      ],
      "text/plain": [
       "                                               audio  \\\n",
       "0  [25971, 30303, 29285, 26995, 28271, 11552, 131...   \n",
       "1  [25971, 30303, 29285, 26995, 28271, 11552, 131...   \n",
       "2  [25971, 30303, 29285, 26995, 28271, 11552, 131...   \n",
       "3  [25971, 30303, 29285, 26995, 28271, 11552, 131...   \n",
       "4  [25971, 30303, 29285, 26995, 28271, 11552, 131...   \n",
       "\n",
       "                                                 ipa  \\\n",
       "0                   oʊɾ̃æskmɨɾɨkæɹiɨnʔɔɪliɹæglaɪkðæt   \n",
       "1  lɛvɚlaɪtsɔŋzwɚʔoʊvɚlikɔɪɹæddʒɨksɔŋzʔəlɪɾl̩ tʉm...   \n",
       "2                fɑddʒɪkəvɛləpmɛntwʌzpɨsiɾɨŋtʉsloʊli   \n",
       "3                           ðeɪɨnddʒɔɪɨtwʌɾ̃aɪɔdɪʃn̩   \n",
       "4                        hitɹɛmbl̩ dlɛsthɪzpiʃɨdfeɪl   \n",
       "\n",
       "                                      phoneme_starts  \\\n",
       "0  [0, 2190, 2580, 4200, 4680, 6690, 7820, 8600, ...   \n",
       "1  [6440, 8600, 10200, 10599, 11400, 12040, 13000...   \n",
       "2  [0, 2520, 3160, 5320, 5960, 6760, 7640, 9560, ...   \n",
       "3  [0, 2088, 2380, 4473, 5520, 6160, 6410, 7050, ...   \n",
       "4  [0, 2526, 3668, 4495, 5010, 6840, 7280, 8160, ...   \n",
       "\n",
       "                                        phoneme_ends  \\\n",
       "0  [2190, 2580, 4200, 4680, 6690, 7820, 8600, 898...   \n",
       "1  [8600, 10200, 10599, 11400, 12040, 13000, 1388...   \n",
       "2  [2520, 3160, 5320, 5960, 6760, 7640, 9560, 980...   \n",
       "3  [2088, 2380, 4473, 5520, 6160, 6410, 7050, 969...   \n",
       "4  [2526, 3668, 4495, 5010, 6840, 7280, 8160, 822...   \n",
       "\n",
       "                                       cropped_audio  \n",
       "0  [-1, 0, 0, 0, 0, 0, 2, 3, 1, 2, -1, -2, 0, 3, ...  \n",
       "1  [3, 1, 2, 3, 2, 1, 2, 3, 1, 2, 2, 3, 2, 0, 3, ...  \n",
       "2  [-3, -1, -4, 1, -1, -2, -1, 3, -1, 5, -1, 1, 2...  \n",
       "3  [0, 2, 3, -1, 2, 3, 3, 2, 1, 2, 3, 3, 2, 2, 1,...  \n",
       "4  [-9, -5, -9, -10, -9, -13, -11, 6, 3, -11, -14...  "
      ]
     },
     "execution_count": 17,
     "metadata": {},
     "output_type": "execute_result"
    }
   ],
   "source": [
    "test_df['cropped_audio'] = test_df.apply(crop_audio, axis=1)\n",
    "test_df.head()"
   ]
  },
  {
   "cell_type": "code",
   "execution_count": 18,
   "metadata": {},
   "outputs": [
    {
     "data": {
      "text/plain": [
       "[<matplotlib.lines.Line2D at 0x7fb67959bb20>]"
      ]
     },
     "execution_count": 18,
     "metadata": {},
     "output_type": "execute_result"
    },
    {
     "data": {
      "image/png": "[encoded data removed]",
      "text/plain": [
       "<Figure size 640x480 with 1 Axes>"
      ]
     },
     "metadata": {},
     "output_type": "display_data"
    }
   ],
   "source": [
    "# visualize again, much better!\n",
    "plt.plot(train_df['cropped_audio'][0])\n"
   ]
  },
  {
   "cell_type": "code",
   "execution_count": 19,
   "metadata": {},
   "outputs": [
    {
     "data": {
      "text/html": [
       "<div>\n",
       "<style scoped>\n",
       "    .dataframe tbody tr th:only-of-type {\n",
       "        vertical-align: middle;\n",
       "    }\n",
       "\n",
       "    .dataframe tbody tr th {\n",
       "        vertical-align: top;\n",
       "    }\n",
       "\n",
       "    .dataframe thead th {\n",
       "        text-align: right;\n",
       "    }\n",
       "</style>\n",
       "<table border=\"1\" class=\"dataframe\">\n",
       "  <thead>\n",
       "    <tr style=\"text-align: right;\">\n",
       "      <th></th>\n",
       "      <th>ipa</th>\n",
       "      <th>audio</th>\n",
       "    </tr>\n",
       "  </thead>\n",
       "  <tbody>\n",
       "    <tr>\n",
       "      <th>0</th>\n",
       "      <td>hɝbzbɝθdeɪʔəkɝzfɹikwənʔliɔnθɪŋsgɪvɪn</td>\n",
       "      <td>[-4, -4, -3, -4, 0, 1, 0, -2, 1, 0, -2, -4, -2...</td>\n",
       "    </tr>\n",
       "    <tr>\n",
       "      <th>1</th>\n",
       "      <td>ðɨnʉzeɪʒɨnsiɦaɪɚdeɪgɹeɪtdʒɝɾ̃əlɨst</td>\n",
       "      <td>[2, 0, -1, -2, -1, 1, -1, 0, -2, -1, -1, 1, -1...</td>\n",
       "    </tr>\n",
       "    <tr>\n",
       "      <th>2</th>\n",
       "      <td>ðeɪɑfɨŋgoʊaʊɾɪnðiʔivnɨŋ</td>\n",
       "      <td>[3, 4, 3, -1, 2, 0, 5, 1, 3, 5, 3, 5, 5, 2, 1,...</td>\n",
       "    </tr>\n",
       "    <tr>\n",
       "      <th>3</th>\n",
       "      <td>ʔəpɹoʊttʃjɝɪnɝvjʉwɨθstættʃuɛskm̩poʊʒɝ</td>\n",
       "      <td>[2, 2, 0, 1, 1, 0, 3, 2, 1, 0, 2, 1, 2, 0, 1, ...</td>\n",
       "    </tr>\n",
       "    <tr>\n",
       "      <th>4</th>\n",
       "      <td>tʃɑklɨtɨnɹoʊzɨznɛvɚfeɪlʔɛzəɹoʊmæntɨkɪft</td>\n",
       "      <td>[2, -1, 1, 0, 1, -2, 0, 0, 0, 1, -1, 0, -2, -2...</td>\n",
       "    </tr>\n",
       "  </tbody>\n",
       "</table>\n",
       "</div>"
      ],
      "text/plain": [
       "                                       ipa  \\\n",
       "0     hɝbzbɝθdeɪʔəkɝzfɹikwənʔliɔnθɪŋsgɪvɪn   \n",
       "1       ðɨnʉzeɪʒɨnsiɦaɪɚdeɪgɹeɪtdʒɝɾ̃əlɨst   \n",
       "2                  ðeɪɑfɨŋgoʊaʊɾɪnðiʔivnɨŋ   \n",
       "3    ʔəpɹoʊttʃjɝɪnɝvjʉwɨθstættʃuɛskm̩poʊʒɝ   \n",
       "4  tʃɑklɨtɨnɹoʊzɨznɛvɚfeɪlʔɛzəɹoʊmæntɨkɪft   \n",
       "\n",
       "                                               audio  \n",
       "0  [-4, -4, -3, -4, 0, 1, 0, -2, 1, 0, -2, -4, -2...  \n",
       "1  [2, 0, -1, -2, -1, 1, -1, 0, -2, -1, -1, 1, -1...  \n",
       "2  [3, 4, 3, -1, 2, 0, 5, 1, 3, 5, 3, 5, 5, 2, 1,...  \n",
       "3  [2, 2, 0, 1, 1, 0, 3, 2, 1, 0, 2, 1, 2, 0, 1, ...  \n",
       "4  [2, -1, 1, 0, 1, -2, 0, 0, 0, 1, -1, 0, -2, -2...  "
      ]
     },
     "execution_count": 19,
     "metadata": {},
     "output_type": "execute_result"
    }
   ],
   "source": [
    "# train_df comprised of just cropped_audio and phonemes\n",
    "train_df = train_df.drop(columns=['phoneme_starts', 'phoneme_ends', 'audio'])\n",
    "# rename cropped audio to audio\n",
    "train_df = train_df.rename(columns={'cropped_audio': 'audio'})\n",
    "train_df.head()"
   ]
  },
  {
   "cell_type": "code",
   "execution_count": 20,
   "metadata": {},
   "outputs": [
    {
     "data": {
      "text/html": [
       "<div>\n",
       "<style scoped>\n",
       "    .dataframe tbody tr th:only-of-type {\n",
       "        vertical-align: middle;\n",
       "    }\n",
       "\n",
       "    .dataframe tbody tr th {\n",
       "        vertical-align: top;\n",
       "    }\n",
       "\n",
       "    .dataframe thead th {\n",
       "        text-align: right;\n",
       "    }\n",
       "</style>\n",
       "<table border=\"1\" class=\"dataframe\">\n",
       "  <thead>\n",
       "    <tr style=\"text-align: right;\">\n",
       "      <th></th>\n",
       "      <th>ipa</th>\n",
       "      <th>audio</th>\n",
       "    </tr>\n",
       "  </thead>\n",
       "  <tbody>\n",
       "    <tr>\n",
       "      <th>0</th>\n",
       "      <td>oʊɾ̃æskmɨɾɨkæɹiɨnʔɔɪliɹæglaɪkðæt</td>\n",
       "      <td>[-1, 0, 0, 0, 0, 0, 2, 3, 1, 2, -1, -2, 0, 3, ...</td>\n",
       "    </tr>\n",
       "    <tr>\n",
       "      <th>1</th>\n",
       "      <td>lɛvɚlaɪtsɔŋzwɚʔoʊvɚlikɔɪɹæddʒɨksɔŋzʔəlɪɾl̩ tʉm...</td>\n",
       "      <td>[3, 1, 2, 3, 2, 1, 2, 3, 1, 2, 2, 3, 2, 0, 3, ...</td>\n",
       "    </tr>\n",
       "    <tr>\n",
       "      <th>2</th>\n",
       "      <td>fɑddʒɪkəvɛləpmɛntwʌzpɨsiɾɨŋtʉsloʊli</td>\n",
       "      <td>[-3, -1, -4, 1, -1, -2, -1, 3, -1, 5, -1, 1, 2...</td>\n",
       "    </tr>\n",
       "    <tr>\n",
       "      <th>3</th>\n",
       "      <td>ðeɪɨnddʒɔɪɨtwʌɾ̃aɪɔdɪʃn̩</td>\n",
       "      <td>[0, 2, 3, -1, 2, 3, 3, 2, 1, 2, 3, 3, 2, 2, 1,...</td>\n",
       "    </tr>\n",
       "    <tr>\n",
       "      <th>4</th>\n",
       "      <td>hitɹɛmbl̩ dlɛsthɪzpiʃɨdfeɪl</td>\n",
       "      <td>[-9, -5, -9, -10, -9, -13, -11, 6, 3, -11, -14...</td>\n",
       "    </tr>\n",
       "  </tbody>\n",
       "</table>\n",
       "</div>"
      ],
      "text/plain": [
       "                                                 ipa  \\\n",
       "0                   oʊɾ̃æskmɨɾɨkæɹiɨnʔɔɪliɹæglaɪkðæt   \n",
       "1  lɛvɚlaɪtsɔŋzwɚʔoʊvɚlikɔɪɹæddʒɨksɔŋzʔəlɪɾl̩ tʉm...   \n",
       "2                fɑddʒɪkəvɛləpmɛntwʌzpɨsiɾɨŋtʉsloʊli   \n",
       "3                           ðeɪɨnddʒɔɪɨtwʌɾ̃aɪɔdɪʃn̩   \n",
       "4                        hitɹɛmbl̩ dlɛsthɪzpiʃɨdfeɪl   \n",
       "\n",
       "                                               audio  \n",
       "0  [-1, 0, 0, 0, 0, 0, 2, 3, 1, 2, -1, -2, 0, 3, ...  \n",
       "1  [3, 1, 2, 3, 2, 1, 2, 3, 1, 2, 2, 3, 2, 0, 3, ...  \n",
       "2  [-3, -1, -4, 1, -1, -2, -1, 3, -1, 5, -1, 1, 2...  \n",
       "3  [0, 2, 3, -1, 2, 3, 3, 2, 1, 2, 3, 3, 2, 2, 1,...  \n",
       "4  [-9, -5, -9, -10, -9, -13, -11, 6, 3, -11, -14...  "
      ]
     },
     "execution_count": 20,
     "metadata": {},
     "output_type": "execute_result"
    }
   ],
   "source": [
    "# Same for test_df\n",
    "test_df = test_df.drop(columns=['phoneme_starts', 'phoneme_ends', 'audio'])\n",
    "test_df = test_df.rename(columns={'cropped_audio': 'audio'})\n",
    "test_df.head()"
   ]
  },
  {
   "cell_type": "code",
   "execution_count": 21,
   "metadata": {},
   "outputs": [],
   "source": [
    "train_ds = Dataset.from_pandas(train_df)\n",
    "test_ds = Dataset.from_pandas(test_df)"
   ]
  },
  {
   "cell_type": "markdown",
   "metadata": {},
   "source": [
    "# Extend Phoneme Vocab"
   ]
  },
  {
   "cell_type": "code",
   "execution_count": 22,
   "metadata": {},
   "outputs": [],
   "source": [
    "timit_vocab = set(\"\".join(train_df['ipa'])) | set(\"\".join(test_df['ipa']))"
   ]
  },
  {
   "cell_type": "code",
   "execution_count": 23,
   "metadata": {},
   "outputs": [],
   "source": [
    "tokenizer = AutoTokenizer.from_pretrained(PRE_TRAINED_ID)\n",
    "vocab = tokenizer.get_vocab()"
   ]
  },
  {
   "cell_type": "code",
   "execution_count": 24,
   "metadata": {},
   "outputs": [
    {
     "name": "stdout",
     "output_type": "stream",
     "text": [
      "{'ʉ', 'ʔ', 'ɚ', '̃', '̩', 'ɝ', 'ɾ', '̥', 'ɦ', '̍', 'ʌ', 'ɨ', 'ɹ'}\n"
     ]
    }
   ],
   "source": [
    "additional_vocab = timit_vocab.difference(set(vocab.keys()) | {' '})\n",
    "tokenizer.add_tokens(list(additional_vocab))\n",
    "print(additional_vocab)"
   ]
  },
  {
   "cell_type": "code",
   "execution_count": 25,
   "metadata": {},
   "outputs": [
    {
     "name": "stderr",
     "output_type": "stream",
     "text": [
      "Map: 100%|██████████| 4620/4620 [01:37<00:00, 47.45 examples/s]\n",
      "Map: 100%|██████████| 1680/1680 [00:35<00:00, 47.11 examples/s]\n"
     ]
    }
   ],
   "source": [
    "# replace ' ' in ipa with tokenizer.pad_token\n",
    "train_ds = train_ds.map(lambda x: {'audio': x['audio'], 'ipa': x['ipa'].replace(' ', tokenizer.pad_token)})\n",
    "test_ds = test_ds.map(lambda x: {'audio': x['audio'], 'ipa': x['ipa'].replace(' ', tokenizer.pad_token)})"
   ]
  },
  {
   "cell_type": "markdown",
   "metadata": {},
   "source": [
    "# Update Feature Extraction"
   ]
  },
  {
   "cell_type": "code",
   "execution_count": 26,
   "metadata": {},
   "outputs": [],
   "source": [
    "feature_extractor = AutoFeatureExtractor.from_pretrained(PRE_TRAINED_ID)"
   ]
  },
  {
   "cell_type": "markdown",
   "metadata": {},
   "source": [
    "We don't need to update the feature extractor since it has been pretrained on 16kHz audio which matches the TIMIT dataset.\n",
    "\n",
    "For datasets with different sampling rates, the feature extractor should be updated or the audio resampled (easier).\n",
    "\n",
    "This is also where code to add extra features (such as conditioning on speaker's native language etc.) would be added."
   ]
  },
  {
   "cell_type": "markdown",
   "metadata": {},
   "source": [
    "# Save Updated Tokenizer and Feature Extractor"
   ]
  },
  {
   "cell_type": "code",
   "execution_count": 27,
   "metadata": {},
   "outputs": [
    {
     "data": {
      "text/plain": [
       "[]"
      ]
     },
     "execution_count": 27,
     "metadata": {},
     "output_type": "execute_result"
    }
   ],
   "source": [
    "processor = AutoProcessor.from_pretrained(PRE_TRAINED_ID)\n",
    "processor.tokenizer = tokenizer\n",
    "processor.feature_extractor = feature_extractor\n",
    "processor.save_pretrained(OUTPUT_DIR)"
   ]
  },
  {
   "cell_type": "markdown",
   "metadata": {},
   "source": [
    "# Preprocess Data"
   ]
  },
  {
   "cell_type": "code",
   "execution_count": 28,
   "metadata": {},
   "outputs": [],
   "source": [
    "def prepare_dataset(batch):\n",
    "    batch[\"input_values\"] = processor(batch[\"audio\"], sampling_rate=feature_extractor.sampling_rate).input_values\n",
    "    batch[\"labels\"] = processor(text=batch[\"ipa\"]).input_ids\n",
    "    return batch"
   ]
  },
  {
   "cell_type": "code",
   "execution_count": 29,
   "metadata": {},
   "outputs": [
    {
     "name": "stderr",
     "output_type": "stream",
     "text": [
      "Map: 100%|██████████| 4620/4620 [01:47<00:00, 42.92 examples/s]\n"
     ]
    }
   ],
   "source": [
    "train_ds_prepared = train_ds.map(prepare_dataset, batch_size=8, num_proc=1, batched=True)"
   ]
  },
  {
   "cell_type": "code",
   "execution_count": 30,
   "metadata": {},
   "outputs": [
    {
     "name": "stderr",
     "output_type": "stream",
     "text": [
      "Map (num_proc=4):   0%|          | 0/1680 [00:00<?, ? examples/s]"
     ]
    },
    {
     "name": "stderr",
     "output_type": "stream",
     "text": [
      "Map (num_proc=4): 100%|██████████| 1680/1680 [00:29<00:00, 56.12 examples/s]\n"
     ]
    }
   ],
   "source": [
    "test_ds_prepared = test_ds.map(prepare_dataset, batch_size=8, num_proc=4, batched=True)"
   ]
  },
  {
   "cell_type": "code",
   "execution_count": 31,
   "metadata": {},
   "outputs": [
    {
     "data": {
      "text/html": [
       "<div>\n",
       "<style scoped>\n",
       "    .dataframe tbody tr th:only-of-type {\n",
       "        vertical-align: middle;\n",
       "    }\n",
       "\n",
       "    .dataframe tbody tr th {\n",
       "        vertical-align: top;\n",
       "    }\n",
       "\n",
       "    .dataframe thead th {\n",
       "        text-align: right;\n",
       "    }\n",
       "</style>\n",
       "<table border=\"1\" class=\"dataframe\">\n",
       "  <thead>\n",
       "    <tr style=\"text-align: right;\">\n",
       "      <th></th>\n",
       "      <th>ipa</th>\n",
       "      <th>audio</th>\n",
       "      <th>input_values</th>\n",
       "      <th>labels</th>\n",
       "    </tr>\n",
       "  </thead>\n",
       "  <tbody>\n",
       "    <tr>\n",
       "      <th>0</th>\n",
       "      <td>hɝbzbɝθdeɪʔəkɝzfɹikwənʔliɔnθɪŋsgɪvɪn</td>\n",
       "      <td>[-4, -4, -3, -4, 0, 1, 0, -2, 1, 0, -2, -4, -2...</td>\n",
       "      <td>[-0.025940399698961236, -0.025940399698961236,...</td>\n",
       "      <td>[30, 51, 40, 22, 40, 51, 37, 21, 14, 15, 47, 0...</td>\n",
       "    </tr>\n",
       "    <tr>\n",
       "      <th>1</th>\n",
       "      <td>ðɨnʉzeɪʒɨnsiɦaɪɚdeɪgɹeɪtdʒɝɾ̃əlɨst</td>\n",
       "      <td>[2, 0, -1, -2, -1, 1, -1, 0, -2, -1, -1, 1, -1...</td>\n",
       "      <td>[0.007227272842440695, 0.0005726825367790672, ...</td>\n",
       "      <td>[31, 57, 9, 46, 22, 14, 15, 7, 57, 9, 27, 13, ...</td>\n",
       "    </tr>\n",
       "    <tr>\n",
       "      <th>2</th>\n",
       "      <td>ðeɪɑfɨŋgoʊaʊɾɪnðiʔivnɨŋ</td>\n",
       "      <td>[3, 4, 3, -1, 2, 0, 5, 1, 3, 5, 3, 5, 5, 2, 1,...</td>\n",
       "      <td>[0.007458791294120073, 0.009332222535930293, 0...</td>\n",
       "      <td>[31, 14, 15, 28, 36, 57, 33, 3, 2, 10, 32, 10,...</td>\n",
       "    </tr>\n",
       "    <tr>\n",
       "      <th>3</th>\n",
       "      <td>ʔəpɹoʊttʃjɝɪnɝvjʉwɨθstættʃuɛskm̩poʊʒɝ</td>\n",
       "      <td>[2, 2, 0, 1, 1, 0, 3, 2, 1, 0, 2, 1, 2, 0, 1, ...</td>\n",
       "      <td>[0.004041796748454069, 0.004041796748454069, 0...</td>\n",
       "      <td>[47, 0, 5, 58, 2, 10, 6, 6, 12, 4, 51, 15, 9, ...</td>\n",
       "    </tr>\n",
       "    <tr>\n",
       "      <th>4</th>\n",
       "      <td>tʃɑklɨtɨnɹoʊzɨznɛvɚfeɪlʔɛzəɹoʊmæntɨkɪft</td>\n",
       "      <td>[2, -1, 1, 0, 1, -2, 0, 0, 0, 1, -1, 0, -2, -2...</td>\n",
       "      <td>[0.009990449912983762, -0.00323160480235498, 0...</td>\n",
       "      <td>[6, 12, 28, 24, 35, 57, 6, 57, 9, 58, 2, 10, 2...</td>\n",
       "    </tr>\n",
       "  </tbody>\n",
       "</table>\n",
       "</div>"
      ],
      "text/plain": [
       "                                       ipa  \\\n",
       "0     hɝbzbɝθdeɪʔəkɝzfɹikwənʔliɔnθɪŋsgɪvɪn   \n",
       "1       ðɨnʉzeɪʒɨnsiɦaɪɚdeɪgɹeɪtdʒɝɾ̃əlɨst   \n",
       "2                  ðeɪɑfɨŋgoʊaʊɾɪnðiʔivnɨŋ   \n",
       "3    ʔəpɹoʊttʃjɝɪnɝvjʉwɨθstættʃuɛskm̩poʊʒɝ   \n",
       "4  tʃɑklɨtɨnɹoʊzɨznɛvɚfeɪlʔɛzəɹoʊmæntɨkɪft   \n",
       "\n",
       "                                               audio  \\\n",
       "0  [-4, -4, -3, -4, 0, 1, 0, -2, 1, 0, -2, -4, -2...   \n",
       "1  [2, 0, -1, -2, -1, 1, -1, 0, -2, -1, -1, 1, -1...   \n",
       "2  [3, 4, 3, -1, 2, 0, 5, 1, 3, 5, 3, 5, 5, 2, 1,...   \n",
       "3  [2, 2, 0, 1, 1, 0, 3, 2, 1, 0, 2, 1, 2, 0, 1, ...   \n",
       "4  [2, -1, 1, 0, 1, -2, 0, 0, 0, 1, -1, 0, -2, -2...   \n",
       "\n",
       "                                        input_values  \\\n",
       "0  [-0.025940399698961236, -0.025940399698961236,...   \n",
       "1  [0.007227272842440695, 0.0005726825367790672, ...   \n",
       "2  [0.007458791294120073, 0.009332222535930293, 0...   \n",
       "3  [0.004041796748454069, 0.004041796748454069, 0...   \n",
       "4  [0.009990449912983762, -0.00323160480235498, 0...   \n",
       "\n",
       "                                              labels  \n",
       "0  [30, 51, 40, 22, 40, 51, 37, 21, 14, 15, 47, 0...  \n",
       "1  [31, 57, 9, 46, 22, 14, 15, 7, 57, 9, 27, 13, ...  \n",
       "2  [31, 14, 15, 28, 36, 57, 33, 3, 2, 10, 32, 10,...  \n",
       "3  [47, 0, 5, 58, 2, 10, 6, 6, 12, 4, 51, 15, 9, ...  \n",
       "4  [6, 12, 28, 24, 35, 57, 6, 57, 9, 58, 2, 10, 2...  "
      ]
     },
     "execution_count": 31,
     "metadata": {},
     "output_type": "execute_result"
    }
   ],
   "source": [
    "train_ds_prepared.to_pandas().head()"
   ]
  },
  {
   "cell_type": "markdown",
   "metadata": {},
   "source": [
    "# Fine-Tune Model"
   ]
  },
  {
   "cell_type": "code",
   "execution_count": 32,
   "metadata": {},
   "outputs": [],
   "source": [
    "class DataCollatorCTCWithPadding:\n",
    "    \"\"\"\n",
    "    Data collator that will dynamically pad the inputs received.\n",
    "    Args:\n",
    "        processor (:class:`~transformers.Wav2Vec2Processor`)\n",
    "            The processor used for proccessing the data.\n",
    "        padding (:obj:`bool`, :obj:`str` or :class:`~transformers.tokenization_utils_base.PaddingStrategy`, `optional`, defaults to :obj:`True`):\n",
    "            Select a strategy to pad the returned sequences (according to the model's padding side and padding index)\n",
    "            among:\n",
    "            * :obj:`True` or :obj:`'longest'`: Pad to the longest sequence in the batch (or no padding if only a single\n",
    "              sequence if provided).\n",
    "            * :obj:`'max_length'`: Pad to a maximum length specified with the argument :obj:`max_length` or to the\n",
    "              maximum acceptable input length for the model if that argument is not provided.\n",
    "            * :obj:`False` or :obj:`'do_not_pad'` (default): No padding (i.e., can output a batch with sequences of\n",
    "              different lengths).\n",
    "        max_length (:obj:`int`, `optional`):\n",
    "            Maximum length of the ``input_values`` of the returned list and optionally padding length (see above).\n",
    "        max_length_labels (:obj:`int`, `optional`):\n",
    "            Maximum length of the ``labels`` returned list and optionally padding length (see above).\n",
    "        pad_to_multiple_of (:obj:`int`, `optional`):\n",
    "            If set will pad the sequence to a multiple of the provided value.\n",
    "            This is especially useful to enable the use of Tensor Cores on NVIDIA hardware with compute capability >=\n",
    "            7.5 (Volta).\n",
    "    \"\"\"\n",
    "\n",
    "    def __init__(self, processor: AutoProcessor, padding=True, max_length=None, max_length_labels=None, pad_to_multiple_of=None, pad_to_multiple_of_labels=None):\n",
    "        self.processor = processor\n",
    "        self.padding = padding\n",
    "        self.max_length = max_length\n",
    "        self.max_length_labels = max_length_labels\n",
    "        self.pad_to_multiple_of = pad_to_multiple_of\n",
    "        self.pad_to_multiple_of_labels = pad_to_multiple_of_labels\n",
    "\n",
    "    def __call__(self, features: \"list[dict[str, list[int] | torch.Tensor]]\") -> \"dict[str, torch.Tensor]\":\n",
    "        # split inputs and labels since they have to be of different lenghts and need\n",
    "        # different padding methods\n",
    "        input_features = [{\"input_values\": feature[\"input_values\"]} for feature in features]\n",
    "        label_features = [{\"input_ids\": feature[\"labels\"]} for feature in features]\n",
    "\n",
    "        batch = self.processor.pad(\n",
    "            input_features,\n",
    "            padding=self.padding,\n",
    "            max_length=self.max_length,\n",
    "            pad_to_multiple_of=self.pad_to_multiple_of,\n",
    "            return_tensors=\"pt\",\n",
    "        )\n",
    "        with self.processor.as_target_processor():\n",
    "            labels_batch = self.processor.pad(\n",
    "                label_features,\n",
    "                padding=self.padding,\n",
    "                max_length=self.max_length_labels,\n",
    "                pad_to_multiple_of=self.pad_to_multiple_of_labels,\n",
    "                return_tensors=\"pt\",\n",
    "            )\n",
    "\n",
    "        # replace padding with -100 to ignore loss correctly\n",
    "        labels = labels_batch[\"input_ids\"].masked_fill(labels_batch.attention_mask.ne(1), -100)\n",
    "\n",
    "        batch[\"labels\"] = labels\n",
    "\n",
    "        return batch"
   ]
  },
  {
   "cell_type": "code",
   "execution_count": 33,
   "metadata": {},
   "outputs": [],
   "source": [
    "data_collator = DataCollatorCTCWithPadding(processor=processor, padding=True)"
   ]
  },
  {
   "cell_type": "code",
   "execution_count": 34,
   "metadata": {},
   "outputs": [],
   "source": [
    "def cer(pred, label):\n",
    "    distances = np.zeros((len(pred) + 1, len(label) + 1))\n",
    "\n",
    "    for t1 in range(len(pred) + 1):\n",
    "        distances[t1][0] = t1\n",
    "\n",
    "    for t2 in range(len(label) + 1):\n",
    "        distances[0][t2] = t2\n",
    "        \n",
    "    a = 0\n",
    "    b = 0\n",
    "    c = 0\n",
    "    \n",
    "    for t1 in range(1, len(pred) + 1):\n",
    "        for t2 in range(1, len(label) + 1):\n",
    "            if (pred[t1-1] == label[t2-1]):\n",
    "                distances[t1][t2] = distances[t1 - 1][t2 - 1]\n",
    "            else:\n",
    "                a = distances[t1][t2 - 1]\n",
    "                b = distances[t1 - 1][t2]\n",
    "                c = distances[t1 - 1][t2 - 1]\n",
    "                \n",
    "                if (a <= b and a <= c):\n",
    "                    distances[t1][t2] = a + 1\n",
    "                elif (b <= a and b <= c):\n",
    "                    distances[t1][t2] = b + 1\n",
    "                else:\n",
    "                    distances[t1][t2] = c + 1\n",
    "\n",
    "    return distances[len(pred)][len(label)] / len(label)"
   ]
  },
  {
   "cell_type": "code",
   "execution_count": 35,
   "metadata": {},
   "outputs": [],
   "source": [
    "def compute_metrics(pred):\n",
    "    pred_logits = pred.predictions\n",
    "    pred_ids = np.argmax(pred_logits, axis=-1)\n",
    "\n",
    "    pred.label_ids[pred.label_ids == -100] = processor.tokenizer.pad_token_id\n",
    "\n",
    "    pred_str = processor.batch_decode(pred_ids)\n",
    "    label_str = processor.batch_decode(pred.label_ids, group_tokens=False) # labels are already grouped as they should be\n",
    "\n",
    "    err = cer(pred_str, label_str)\n",
    "\n",
    "    return {\"cer\": err}"
   ]
  },
  {
   "cell_type": "code",
   "execution_count": 36,
   "metadata": {},
   "outputs": [],
   "source": [
    "# import numpy as np\n",
    "# from jiwer import cer\n",
    "\n",
    "# def compute_phoneme_error_rate(pred_str, label_str):\n",
    "#     # Calculate the Phoneme Error Rate (PER) using CER\n",
    "#     per = cer(label_str, pred_str)\n",
    "#     return per\n",
    "\n",
    "# def compute_metrics(pred):\n",
    "#     pred_logits = pred.predictions\n",
    "#     pred_ids = np.argmax(pred_logits, axis=-1)\n",
    "\n",
    "#     # Replace -100 with the pad token id\n",
    "#     pred.label_ids[pred.label_ids == -100] = processor.tokenizer.pad_token_id\n",
    "\n",
    "#     # Decode predictions and labels to phoneme strings\n",
    "#     pred_str = processor.batch_decode(pred_ids)\n",
    "#     label_str = processor.batch_decode(pred.label_ids, group_tokens=False) # labels are already grouped as they should be\n",
    "\n",
    "#     # Compute Phoneme Error Rate (PER)\n",
    "#     per = compute_phoneme_error_rate(pred_str, label_str)\n",
    "\n",
    "#     return {\"per\": per}"
   ]
  },
  {
   "cell_type": "code",
   "execution_count": 37,
   "metadata": {},
   "outputs": [],
   "source": [
    "model = AutoModelForCTC.from_pretrained(\n",
    "    PRE_TRAINED_ID, \n",
    "    pad_token_id=processor.tokenizer.pad_token_id, \n",
    "    # gradient_checkpointing=True,\n",
    "    ctc_zero_infinity = True\n",
    ")"
   ]
  },
  {
   "cell_type": "code",
   "execution_count": 38,
   "metadata": {},
   "outputs": [],
   "source": [
    "# model.resize_token_embeddings(len(tokenizer))\n",
    "old_weights = model.lm_head.weight.t().detach()\n",
    "old_bias = model.lm_head.bias.detach()\n",
    "new_layer = torch.nn.Linear(model.lm_head.in_features, len(processor.tokenizer))\n",
    "new_layer.weight.data[:model.lm_head.out_features, :] = old_weights.t()\n",
    "new_layer.bias.data[:model.lm_head.out_features] = old_bias\n",
    "model.lm_head = new_layer\n",
    "model.config.vocab_size = len(processor.tokenizer)"
   ]
  },
  {
   "cell_type": "code",
   "execution_count": 39,
   "metadata": {},
   "outputs": [],
   "source": [
    "model.freeze_feature_encoder()"
   ]
  },
  {
   "cell_type": "code",
   "execution_count": 40,
   "metadata": {},
   "outputs": [],
   "source": [
    "# sanity checks\n",
    "max_class_id = 0\n",
    "for label_sequence in train_ds_prepared['labels']:\n",
    "    for class_id in label_sequence:\n",
    "        max_class_id = max(max_class_id, class_id)\n",
    "assert max_class_id == model.config.vocab_size - 1\n",
    "\n",
    "for label_sequence in train_ds_prepared['labels']:\n",
    "    for class_id in label_sequence:\n",
    "        assert class_id >= 0 and class_id <  model.config.vocab_size\n",
    "\n",
    "for label_sequence in train_ds_prepared['labels']:\n",
    "    assert  len(label_sequence) < 1024\n",
    "    assert len(label_sequence) >= 5"
   ]
  },
  {
   "cell_type": "code",
   "execution_count": 41,
   "metadata": {},
   "outputs": [],
   "source": [
    "from transformers import TrainingArguments\n",
    "\n",
    "# training_args = TrainingArguments(\n",
    "#     output_dir=OUTPUT_DIR,\n",
    "#     group_by_length=True,\n",
    "#     per_device_train_batch_size=16,\n",
    "#     gradient_accumulation_steps=2,\n",
    "#     eval_strategy=\"steps\",\n",
    "#     num_train_epochs=50,\n",
    "#     fp16=False, # set to true when training with CUDA?\n",
    "#     save_steps=500,\n",
    "#     eval_steps=500,\n",
    "#     logging_steps=500,\n",
    "#     learning_rate=3e-4,\n",
    "#     gradient_checkpointing=True,\n",
    "#     warmup_steps=1000,\n",
    "#     save_total_limit=2,\n",
    "#     load_best_model_at_end=True,\n",
    "# )\n",
    "\n",
    "training_args = TrainingArguments(\n",
    "    output_dir=OUTPUT_DIR,\n",
    "    group_by_length=True,\n",
    "    per_device_train_batch_size=16,\n",
    "    gradient_accumulation_steps=4,\n",
    "    eval_strategy=\"steps\",\n",
    "    num_train_epochs=150,\n",
    "    fp16=True,\n",
    "    save_steps=100,\n",
    "    eval_steps=100,\n",
    "    logging_steps=100,\n",
    "    learning_rate=1e-4,\n",
    "    warmup_steps=1000,\n",
    "    save_total_limit=3,\n",
    "    gradient_checkpointing=True,\n",
    "    load_best_model_at_end=True,\n",
    "    max_grad_norm=1.0,\n",
    ")"
   ]
  },
  {
   "cell_type": "code",
   "execution_count": 42,
   "metadata": {},
   "outputs": [],
   "source": [
    "from transformers import Trainer\n",
    "\n",
    "trainer = Trainer(\n",
    "    model=model,\n",
    "    data_collator=data_collator,\n",
    "    args=training_args,\n",
    "    compute_metrics=compute_metrics,\n",
    "    train_dataset=train_ds_prepared.select(range(100)),\n",
    "    # train_dataset=train_ds_prepared,\n",
    "    eval_dataset=test_ds_prepared.select(range(100)),\n",
    "    # eval_dataset=test_ds_prepared,\n",
    "    processing_class=processor.feature_extractor,\n",
    ")"
   ]
  },
  {
   "cell_type": "code",
   "execution_count": 43,
   "metadata": {},
   "outputs": [
    {
     "name": "stderr",
     "output_type": "stream",
     "text": [
      "/home/arunasrivastava/ML/venv/lib/python3.8/site-packages/transformers/models/wav2vec2/processing_wav2vec2.py:174: UserWarning: `as_target_processor` is deprecated and will be removed in v5 of Transformers. You can process your labels by using the argument `text` of the regular `__call__` method (either in the same call as your audio inputs, or in a separate call.\n",
      "  warnings.warn(\n",
      "/home/arunasrivastava/ML/venv/lib/python3.8/site-packages/torch/utils/checkpoint.py:295: FutureWarning: `torch.cpu.amp.autocast(args...)` is deprecated. Please use `torch.amp.autocast('cpu', args...)` instead.\n",
      "  with torch.enable_grad(), device_autocast_ctx, torch.cpu.amp.autocast(**ctx.cpu_autocast_kwargs):  # type: ignore[attr-defined]\n"
     ]
    },
    {
     "data": {
      "text/html": [
       "\n",
       "    <div>\n",
       "      \n",
       "      <progress value='150' max='150' style='width:300px; height:20px; vertical-align: middle;'></progress>\n",
       "      [150/150 09:50, Epoch 85/150]\n",
       "    </div>\n",
       "    <table border=\"1\" class=\"dataframe\">\n",
       "  <thead>\n",
       " <tr style=\"text-align: left;\">\n",
       "      <th>Step</th>\n",
       "      <th>Training Loss</th>\n",
       "      <th>Validation Loss</th>\n",
       "      <th>Cer</th>\n",
       "    </tr>\n",
       "  </thead>\n",
       "  <tbody>\n",
       "    <tr>\n",
       "      <td>100</td>\n",
       "      <td>78.177900</td>\n",
       "      <td>6.258029</td>\n",
       "      <td>1.000000</td>\n",
       "    </tr>\n",
       "  </tbody>\n",
       "</table><p>"
      ],
      "text/plain": [
       "<IPython.core.display.HTML object>"
      ]
     },
     "metadata": {},
     "output_type": "display_data"
    },
    {
     "name": "stderr",
     "output_type": "stream",
     "text": [
      "Trainer.tokenizer is now deprecated. You should use Trainer.processing_class instead.\n",
      "Trainer.tokenizer is now deprecated. You should use Trainer.processing_class instead.\n",
      "/home/arunasrivastava/ML/venv/lib/python3.8/site-packages/torch/utils/checkpoint.py:295: FutureWarning: `torch.cpu.amp.autocast(args...)` is deprecated. Please use `torch.amp.autocast('cpu', args...)` instead.\n",
      "  with torch.enable_grad(), device_autocast_ctx, torch.cpu.amp.autocast(**ctx.cpu_autocast_kwargs):  # type: ignore[attr-defined]\n",
      "/home/arunasrivastava/ML/venv/lib/python3.8/site-packages/transformers/models/wav2vec2/processing_wav2vec2.py:174: UserWarning: `as_target_processor` is deprecated and will be removed in v5 of Transformers. You can process your labels by using the argument `text` of the regular `__call__` method (either in the same call as your audio inputs, or in a separate call.\n",
      "  warnings.warn(\n"
     ]
    },
    {
     "data": {
      "text/plain": [
       "TrainOutput(global_step=150, training_loss=57.20949544270833, metrics={'train_runtime': 595.365, 'train_samples_per_second': 25.195, 'train_steps_per_second': 0.252, 'total_flos': 8.390008286597564e+17, 'train_loss': 57.20949544270833, 'epoch': 85.71428571428571})"
      ]
     },
     "execution_count": 43,
     "metadata": {},
     "output_type": "execute_result"
    }
   ],
   "source": [
    "torch.autograd.set_detect_anomaly(True) # debug NaNs, disable for real training to improve performance\n",
    "# model.config.ctc_zero_infinity = True \n",
    "trainer.train() # resume_from_checkpoint=True to resume training if training was interrupted"
   ]
  },
  {
   "cell_type": "markdown",
   "metadata": {},
   "source": [
    "# Evaluate"
   ]
  },
  {
   "cell_type": "code",
   "execution_count": 44,
   "metadata": {},
   "outputs": [
    {
     "name": "stderr",
     "output_type": "stream",
     "text": [
      "Trainer.tokenizer is now deprecated. You should use Trainer.processing_class instead.\n",
      "Trainer.tokenizer is now deprecated. You should use Trainer.processing_class instead.\n",
      "/home/arunasrivastava/ML/venv/lib/python3.8/site-packages/transformers/models/wav2vec2/processing_wav2vec2.py:174: UserWarning: `as_target_processor` is deprecated and will be removed in v5 of Transformers. You can process your labels by using the argument `text` of the regular `__call__` method (either in the same call as your audio inputs, or in a separate call.\n",
      "  warnings.warn(\n"
     ]
    },
    {
     "data": {
      "text/html": [
       "\n",
       "    <div>\n",
       "      \n",
       "      <progress value='13' max='13' style='width:300px; height:20px; vertical-align: middle;'></progress>\n",
       "      [13/13 00:02]\n",
       "    </div>\n",
       "    "
      ],
      "text/plain": [
       "<IPython.core.display.HTML object>"
      ]
     },
     "metadata": {},
     "output_type": "display_data"
    },
    {
     "data": {
      "text/plain": [
       "{'eval_loss': 6.333186626434326,\n",
       " 'eval_cer': 1.0,\n",
       " 'eval_runtime': 2.7967,\n",
       " 'eval_samples_per_second': 35.756,\n",
       " 'eval_steps_per_second': 4.648,\n",
       " 'epoch': 85.71428571428571}"
      ]
     },
     "execution_count": 44,
     "metadata": {},
     "output_type": "execute_result"
    }
   ],
   "source": [
    "trainer.evaluate()"
   ]
  },
  {
   "cell_type": "code",
   "execution_count": 56,
   "metadata": {},
   "outputs": [],
   "source": [
    "old_model = AutoModelForCTC.from_pretrained(PRE_TRAINED_ID).to(model.device)"
   ]
  },
  {
   "cell_type": "code",
   "execution_count": 77,
   "metadata": {},
   "outputs": [],
   "source": [
    "finetuned_model = AutoModelForCTC.from_pretrained(os.path.join(OUTPUT_DIR, 'checkpoint-50'))"
   ]
  },
  {
   "cell_type": "code",
   "execution_count": 78,
   "metadata": {},
   "outputs": [],
   "source": [
    "# check for nan weights and replace with old values if any\n",
    "for name, param in finetuned_model.named_parameters():\n",
    "    if torch.isnan(param).any():\n",
    "        print(name)\n",
    "        param.data = old_model.state_dict()[name].data"
   ]
  },
  {
   "cell_type": "code",
   "execution_count": 79,
   "metadata": {},
   "outputs": [
    {
     "name": "stdout",
     "output_type": "stream",
     "text": [
      "Weights are different, training did something\n"
     ]
    }
   ],
   "source": [
    "# compare weights\n",
    "is_diff = False\n",
    "for name, param in finetuned_model.named_parameters():\n",
    "    if not torch.equal(param, old_model.state_dict()[name].to(finetuned_model.device)):\n",
    "        is_diff = True\n",
    "        break\n",
    "print(\"Weights are different, training did something\" if is_diff else \"Weights are the same, training did nothing\")"
   ]
  },
  {
   "cell_type": "code",
   "execution_count": 80,
   "metadata": {},
   "outputs": [],
   "source": [
    "def predict(model, wav_file):\n",
    "    speech = audio_file_to_array(wav_file)\n",
    "    input_values = processor(speech, sampling_rate=16000, return_tensors=\"pt\").input_values.type(torch.float32).to(model.device)\n",
    "\n",
    "    with torch.no_grad():\n",
    "        logits = model(input_values).logits\n",
    "\n",
    "    predicted_ids = torch.argmax(logits, dim=-1)\n",
    "    return processor.decode(predicted_ids[0])\n",
    "    "
   ]
  },
  {
   "cell_type": "code",
   "execution_count": 81,
   "metadata": {},
   "outputs": [
    {
     "name": "stdout",
     "output_type": "stream",
     "text": [
      "Checkpoint Transcription: h e e o e e e e e eo eh e l ou e æ leicgezeceiɪ zec eckcs t r ec k e n f j u ze d\n"
     ]
    }
   ],
   "source": [
    "print('Checkpoint Transcription:', predict(finetuned_model, os.path.join('..', 'data', 'alexIsConfused.wav')))"
   ]
  },
  {
   "cell_type": "code",
   "execution_count": 82,
   "metadata": {},
   "outputs": [
    {
     "name": "stdout",
     "output_type": "stream",
     "text": [
      "Best Fine-Tune Transcription: hɪdɪdɪiɪihæloʊliɪiɪiæligziɪziɛkstikinfjuzdɪdɪdɪd\n"
     ]
    }
   ],
   "source": [
    "print('Best Fine-Tune Transcription:', predict(trainer.model, os.path.join('..', 'data', 'alexIsConfused.wav')))"
   ]
  },
  {
   "cell_type": "code",
   "execution_count": 83,
   "metadata": {},
   "outputs": [
    {
     "name": "stdout",
     "output_type": "stream",
     "text": [
      "Old Transcription: h æ l o ʊ æ l i g z ɪ z ɛ k s t r ə k ə n f j u z d\n"
     ]
    }
   ],
   "source": [
    "print('Old Transcription:', predict(old_model, os.path.join('..', 'data', 'alexIsConfused.wav')))"
   ]
  },
  {
   "cell_type": "code",
   "execution_count": 53,
   "metadata": {},
   "outputs": [],
   "source": [
    "# test out per on two strings to see if it works\n",
    "from sklearn.metrics import confusion_matrix\n",
    "import numpy as np\n",
    "\n",
    "def compute_confusion_matrix(predictions, references, phoneme_set):\n",
    "    # Flatten predictions and references to get lists of phonemes\n",
    "\n",
    "    pred_flat = [p for pred in predictions for p in pred]\n",
    "    ref_flat = [r for ref in references for r in ref]\n",
    "    \n",
    "    # Map phonemes to integers for confusion matrix\n",
    "    phoneme_to_id = {p: i for i, p in enumerate(phoneme_set)}\n",
    "    pred_ids = [phoneme_to_id[p] for p in pred_flat]\n",
    "    ref_ids = [phoneme_to_id[r] for r in ref_flat]\n",
    "    \n",
    "    # Compute the confusion matrix\n",
    "    cm = confusion_matrix(ref_ids, pred_ids, labels=range(len(phoneme_set)))\n",
    "    return cm\n",
    "\n"
   ]
  },
  {
   "cell_type": "code",
   "execution_count": 54,
   "metadata": {},
   "outputs": [
    {
     "data": {
      "image/png": "[encoded data removed]",
      "text/plain": [
       "<Figure size 1000x800 with 2 Axes>"
      ]
     },
     "metadata": {},
     "output_type": "display_data"
    }
   ],
   "source": [
    "import numpy as np\n",
    "from sklearn.metrics import confusion_matrix\n",
    "import matplotlib.pyplot as plt\n",
    "import seaborn as sns\n",
    "\n",
    "# Define the TIMIT vocabulary\n",
    "timit_vocab = ['h', 'ɛ', 'l', 'oʊ', 'æ', 'ɪ', 'k', 's', 'z', 't', 'ɾ', 'ɹ', 'ə', 'n', 'f', 'iː', 'ʊ', 'eɪ', 'p', 'aɪ', 'iː', 'ɑː', 'uː']\n",
    "\n",
    "# Create a mapping from phonemes to indices\n",
    "phoneme_to_index = {phoneme: idx for idx, phoneme in enumerate(timit_vocab)}\n",
    "\n",
    "def tokenize_phoneme_string(phoneme_str):\n",
    "    return phoneme_str.split()\n",
    "\n",
    "def map_phonemes_to_indices(phoneme_list, phoneme_to_index):\n",
    "    return [phoneme_to_index[phoneme] for phoneme in phoneme_list if phoneme in phoneme_to_index]\n",
    "\n",
    "def compute_confusion_matrix(pred_phonemes, true_phonemes, phoneme_to_index):\n",
    "    # Tokenize the phoneme strings\n",
    "    pred_tokens = tokenize_phoneme_string(pred_phonemes[0])\n",
    "    true_tokens = tokenize_phoneme_string(true_phonemes[0])\n",
    "    \n",
    "    # Map phonemes to indices\n",
    "    pred_indices = map_phonemes_to_indices(pred_tokens, phoneme_to_index)\n",
    "    true_indices = map_phonemes_to_indices(true_tokens, phoneme_to_index)\n",
    "    \n",
    "    # Compute the confusion matrix\n",
    "    cm = confusion_matrix(true_indices, pred_indices, labels=list(phoneme_to_index.values()))\n",
    "    \n",
    "    return cm\n",
    "\n",
    "# Example usage\n",
    "pred_phonemes = ['h ɛ l oʊ æ l ɪ k s ɪ z ɛ k s t ɾ ɹ ə k ə n f iː l ʊ s t']\n",
    "true_phonemes = ['eɪ l oʊ ɾ t eɪ l k ɛ s l p aɪ z iː s l k ɛ t n ɑː p k p n ɑː']\n",
    "\n",
    "cm = compute_confusion_matrix(pred_phonemes, true_phonemes, phoneme_to_index)\n",
    "\n",
    "# Plot the confusion matrix\n",
    "plt.figure(figsize=(10, 8))\n",
    "sns.heatmap(cm, annot=True, fmt='d', xticklabels=timit_vocab, yticklabels=timit_vocab)\n",
    "plt.xlabel('Predicted')\n",
    "plt.ylabel('True')\n",
    "plt.title('Confusion Matrix for Phoneme Transcription')\n",
    "plt.show()"
   ]
  },
  {
   "cell_type": "code",
   "execution_count": 55,
   "metadata": {},
   "outputs": [
    {
     "name": "stdout",
     "output_type": "stream",
     "text": [
      "96\n",
      "42\n",
      "27\n"
     ]
    }
   ],
   "source": [
    "# get length of this: eɪ l oʊ ɾ t eɪ l k ɛ s l p aɪ z iː s l k ɛ t n ɑː p k p k n ɑː n ɛ f l aɪ ɑːɹ l uː t l aɪ iː s t\n",
    "print(len('eɪ l oʊ ɾ t eɪ l k ɛ s l p aɪ z iː s l k ɛ t n ɑː p k p k n ɑː n ɛ f l aɪ ɑːɹ l uː t l aɪ iː s t'))\n",
    "# how many phonemes?\n",
    "print(len('eɪ l oʊ ɾ t eɪ l k ɛ s l p aɪ z iː s l k ɛ t n ɑː p k p k n ɑː n ɛ f l aɪ ɑːɹ l uː t l aɪ iː s t'.split()))\n",
    "print(len('h ɛ l oʊ æ l ɪ k s ɪ z ɛ k s t ɾ ɹ ə k ə n f iː l ʊ s t'.split()))"
   ]
  },
  {
   "cell_type": "code",
   "execution_count": null,
   "metadata": {},
   "outputs": [],
   "source": []
  }
 ],
 "metadata": {
  "kernelspec": {
   "display_name": "venv",
   "language": "python",
   "name": "python3"
  },
  "language_info": {
   "codemirror_mode": {
    "name": "ipython",
    "version": 3
   },
   "file_extension": ".py",
   "mimetype": "text/x-python",
   "name": "python",
   "nbconvert_exporter": "python",
   "pygments_lexer": "ipython3",
   "version": "3.8.10"
  }
 },
 "nbformat": 4,
 "nbformat_minor": 2
}
