{
 "cells": [
  {
   "cell_type": "code",
   "execution_count": 1,
   "metadata": {},
   "outputs": [
    {
     "name": "stderr",
     "output_type": "stream",
     "text": [
      "/home/arunasrivastava/ML/venv/lib/python3.8/site-packages/tqdm/auto.py:21: TqdmWarning: IProgress not found. Please update jupyter and ipywidgets. See https://ipywidgets.readthedocs.io/en/stable/user_install.html\n",
      "  from .autonotebook import tqdm as notebook_tqdm\n"
     ]
    }
   ],
   "source": [
    "import numpy as np\n",
    "import zipfile\n",
    "from datasets import Dataset\n",
    "import pandas as pd\n",
    "\n",
    "import os\n",
    "# run as much as possible accelerated by apple silicon, fall back to cpu if not possible\n",
    "os.environ[\"PYTORCH_ENABLE_MPS_FALLBACK\"] = \"1\"\n",
    "import torch\n",
    "\n",
    "import sys\n",
    "sys.path.append('..')\n",
    "from scripts.audio import audio_file_to_array\n",
    "from scripts.ipa import timit2ipa"
   ]
  },
  {
   "cell_type": "code",
   "execution_count": 2,
   "metadata": {},
   "outputs": [],
   "source": [
    "import sys, os\n",
    "sys.path.append('..')\n",
    "from scripts.eval_tests.panphon_model_eval import panphon_model_eval "
   ]
  },
  {
   "cell_type": "code",
   "execution_count": 3,
   "metadata": {},
   "outputs": [],
   "source": [
    "# set espeak library path for macOS\n",
    "if sys.platform == \"darwin\":\n",
    "    from phonemizer.backend.espeak.wrapper import EspeakWrapper\n",
    "\n",
    "    _ESPEAK_LIBRARY = \"/opt/homebrew/Cellar/espeak/1.48.04_1/lib/libespeak.1.1.48.dylib\"\n",
    "    EspeakWrapper.set_library(_ESPEAK_LIBRARY)"
   ]
  },
  {
   "cell_type": "code",
   "execution_count": 4,
   "metadata": {},
   "outputs": [],
   "source": [
    "from transformers import AutoProcessor, AutoModelForCTC, AutoTokenizer, AutoFeatureExtractor"
   ]
  },
  {
   "cell_type": "code",
   "execution_count": 5,
   "metadata": {},
   "outputs": [],
   "source": [
    "OUTPUT_DIR = os.path.join('..', 'models', 'timit-xlsr-finetune-B')\n",
    "PRE_TRAINED_ID = \"facebook/wav2vec2-lv-60-espeak-cv-ft\""
   ]
  },
  {
   "cell_type": "markdown",
   "metadata": {},
   "source": [
    "# Load Data"
   ]
  },
  {
   "cell_type": "code",
   "execution_count": 6,
   "metadata": {},
   "outputs": [],
   "source": [
    "timit = zipfile.ZipFile('../.data/TIMIT.zip', 'r')\n",
    "timit_files = timit.namelist()"
   ]
  },
  {
   "cell_type": "code",
   "execution_count": 7,
   "metadata": {},
   "outputs": [],
   "source": [
    "training_files = list(set(map(lambda x: x.split('.')[0], filter(lambda x: x.startswith('data/TRAIN'), timit_files))))\n",
    "test_files = list(set(map(lambda x: x.split('.')[0], filter(lambda x: x.startswith('data/TEST'), timit_files))))"
   ]
  },
  {
   "cell_type": "code",
   "execution_count": 8,
   "metadata": {},
   "outputs": [],
   "source": [
    "\n",
    "def timit_file_to_dict(filename):\n",
    "    with timit.open(filename + '.PHN') as phn_file:\n",
    "        timestamped_phonemes = []\n",
    "        for line in phn_file.read().decode('utf-8').split('\\n'):\n",
    "            if line == '':\n",
    "                continue\n",
    "            start, end, phoneme = line.split()\n",
    "            timestamped_phonemes.append((timit2ipa(phoneme, \"eng\"), int(start), int(end)))\n",
    "    return {'timestamped_phonemes': timestamped_phonemes, 'wav_filename': filename + '.WAV'}\n",
    "    "
   ]
  },
  {
   "cell_type": "code",
   "execution_count": 9,
   "metadata": {},
   "outputs": [],
   "source": [
    "WAV_HEADER_SIZE = 44\n",
    "def zipped_wav_to_array(filename):\n",
    "    with timit.open(filename) as wav_file:\n",
    "        return np.frombuffer(wav_file.read(), dtype=np.int16)[WAV_HEADER_SIZE//2:]"
   ]
  },
  {
   "cell_type": "code",
   "execution_count": 10,
   "metadata": {},
   "outputs": [
    {
     "name": "stdout",
     "output_type": "stream",
     "text": [
      "{'timestamped_phonemes': [('', 0, 2400), ('', 2400, 3225), ('n̩', 3225, 4354), ('f', 4354, 5900), ('æ', 5900, 7937), ('b', 7937, 8939), ('', 8939, 9154), ('j', 9154, 9449), ('ɨ', 9449, 10040), ('l', 10040, 10945), ('eɪ', 10945, 12950), ('ʃ', 12950, 14770), ('ɨ', 14770, 15343), ('n', 15343, 16176), ('ɦ', 16176, 16710), ('ɛ', 16710, 17790), ('z', 17790, 18840), ('k', 18840, 19510), ('', 19510, 20390), ('ʌ', 20390, 21160), ('m', 21160, 22079), ('t', 22079, 22800), ('', 22800, 23190), ('ə', 23190, 23880), ('d', 23880, 24750), ('', 24750, 24900), ('ɨ', 24900, 25640), ('t', 25640, 26660), ('', 26660, 27890), ('ɝ', 27890, 29159), ('m', 29159, 30454), ('ɨ', 30454, 30920), ('n', 30920, 31770), ('s', 31770, 33720), ('t', 33720, 34280), ('', 34280, 34760), ('ɹ', 34760, 35239), ('ʌ', 35239, 36200), ('k', 36200, 37300), ('tʃ', 37300, 39490), ('ɚ', 39490, 41000), ('', 41000, 43120)], 'wav_filename': 'data/TRAIN/DR6/FRJB0/SI1427.WAV'}\n"
     ]
    }
   ],
   "source": [
    "\n",
    "parsed_0 = timit_file_to_dict(training_files[0])\n",
    "print(parsed_0)"
   ]
  },
  {
   "cell_type": "code",
   "execution_count": 11,
   "metadata": {},
   "outputs": [],
   "source": [
    "def files_to_df(files):\n",
    "    records = []\n",
    "    for filename in files:\n",
    "        parsed = timit_file_to_dict(filename)\n",
    "        parsed['audio'] = zipped_wav_to_array(parsed['wav_filename'])\n",
    "        del parsed['wav_filename']\n",
    "        parsed['ipa'] = \"\".join(phoneme for phoneme, _, _ in parsed['timestamped_phonemes'])\n",
    "        parsed['phoneme_starts'] = [start for _, start, _ in parsed['timestamped_phonemes']]\n",
    "        parsed['phoneme_ends'] = [end for _, _, end in parsed['timestamped_phonemes']]\n",
    "        del parsed['timestamped_phonemes']\n",
    "        records.append(parsed)\n",
    "    return pd.DataFrame(records)"
   ]
  },
  {
   "cell_type": "code",
   "execution_count": 12,
   "metadata": {},
   "outputs": [
    {
     "data": {
      "text/html": [
       "<div>\n",
       "<style scoped>\n",
       "    .dataframe tbody tr th:only-of-type {\n",
       "        vertical-align: middle;\n",
       "    }\n",
       "\n",
       "    .dataframe tbody tr th {\n",
       "        vertical-align: top;\n",
       "    }\n",
       "\n",
       "    .dataframe thead th {\n",
       "        text-align: right;\n",
       "    }\n",
       "</style>\n",
       "<table border=\"1\" class=\"dataframe\">\n",
       "  <thead>\n",
       "    <tr style=\"text-align: right;\">\n",
       "      <th></th>\n",
       "      <th>audio</th>\n",
       "      <th>ipa</th>\n",
       "      <th>phoneme_starts</th>\n",
       "      <th>phoneme_ends</th>\n",
       "    </tr>\n",
       "  </thead>\n",
       "  <tbody>\n",
       "    <tr>\n",
       "      <th>0</th>\n",
       "      <td>[25971, 30303, 29285, 26995, 28271, 11552, 131...</td>\n",
       "      <td>n̩fæbjɨleɪʃɨnɦɛzkʌmtədɨtɝmɨnstɹʌktʃɚ</td>\n",
       "      <td>[0, 2400, 3225, 4354, 5900, 7937, 8939, 9154, ...</td>\n",
       "      <td>[2400, 3225, 4354, 5900, 7937, 8939, 9154, 944...</td>\n",
       "    </tr>\n",
       "    <tr>\n",
       "      <th>1</th>\n",
       "      <td>[25971, 30303, 29285, 26995, 28271, 11552, 131...</td>\n",
       "      <td>ðəfɹaɪʔn̩tʃaɪldwəzddʒɛʔlisə̥bʉdaɪɨzbɪgɹʌðɚ</td>\n",
       "      <td>[0, 2205, 2520, 3160, 4762, 5597, 7037, 7436, ...</td>\n",
       "      <td>[2205, 2520, 3160, 4762, 5597, 7037, 7436, 806...</td>\n",
       "    </tr>\n",
       "    <tr>\n",
       "      <th>2</th>\n",
       "      <td>[25971, 30303, 29285, 26995, 28271, 11552, 131...</td>\n",
       "      <td>ɹɪʃsɔʔaʊɚzn̩aʊɚzəvmuvisæɾɚdeɪ</td>\n",
       "      <td>[0, 2200, 3800, 4279, 5240, 6224, 7960, 11028,...</td>\n",
       "      <td>[2200, 3800, 4279, 5240, 6224, 7960, 11028, 12...</td>\n",
       "    </tr>\n",
       "    <tr>\n",
       "      <th>3</th>\n",
       "      <td>[25971, 30303, 29285, 26995, 28271, 11552, 131...</td>\n",
       "      <td>meɪaɪɔɹɾɚəstɹɑbɝɪsʌndeɪæftɚaɪitɪɾ̃ɚ</td>\n",
       "      <td>[0, 1800, 2422, 4762, 7018, 9192, 10280, 10986...</td>\n",
       "      <td>[1800, 2422, 4762, 7018, 9192, 10280, 10986, 1...</td>\n",
       "    </tr>\n",
       "    <tr>\n",
       "      <th>4</th>\n",
       "      <td>[25971, 30303, 29285, 26995, 28271, 11552, 131...</td>\n",
       "      <td>ðɨkɑɹtʉnfittʃɚzeɪmʌskɹætɛndɨtædoʊl</td>\n",
       "      <td>[0, 2350, 2620, 3240, 4310, 5270, 6680, 7480, ...</td>\n",
       "      <td>[2350, 2620, 3240, 4310, 5270, 6680, 7480, 880...</td>\n",
       "    </tr>\n",
       "  </tbody>\n",
       "</table>\n",
       "</div>"
      ],
      "text/plain": [
       "                                               audio  \\\n",
       "0  [25971, 30303, 29285, 26995, 28271, 11552, 131...   \n",
       "1  [25971, 30303, 29285, 26995, 28271, 11552, 131...   \n",
       "2  [25971, 30303, 29285, 26995, 28271, 11552, 131...   \n",
       "3  [25971, 30303, 29285, 26995, 28271, 11552, 131...   \n",
       "4  [25971, 30303, 29285, 26995, 28271, 11552, 131...   \n",
       "\n",
       "                                          ipa  \\\n",
       "0        n̩fæbjɨleɪʃɨnɦɛzkʌmtədɨtɝmɨnstɹʌktʃɚ   \n",
       "1  ðəfɹaɪʔn̩tʃaɪldwəzddʒɛʔlisə̥bʉdaɪɨzbɪgɹʌðɚ   \n",
       "2               ɹɪʃsɔʔaʊɚzn̩aʊɚzəvmuvisæɾɚdeɪ   \n",
       "3         meɪaɪɔɹɾɚəstɹɑbɝɪsʌndeɪæftɚaɪitɪɾ̃ɚ   \n",
       "4          ðɨkɑɹtʉnfittʃɚzeɪmʌskɹætɛndɨtædoʊl   \n",
       "\n",
       "                                      phoneme_starts  \\\n",
       "0  [0, 2400, 3225, 4354, 5900, 7937, 8939, 9154, ...   \n",
       "1  [0, 2205, 2520, 3160, 4762, 5597, 7037, 7436, ...   \n",
       "2  [0, 2200, 3800, 4279, 5240, 6224, 7960, 11028,...   \n",
       "3  [0, 1800, 2422, 4762, 7018, 9192, 10280, 10986...   \n",
       "4  [0, 2350, 2620, 3240, 4310, 5270, 6680, 7480, ...   \n",
       "\n",
       "                                        phoneme_ends  \n",
       "0  [2400, 3225, 4354, 5900, 7937, 8939, 9154, 944...  \n",
       "1  [2205, 2520, 3160, 4762, 5597, 7037, 7436, 806...  \n",
       "2  [2200, 3800, 4279, 5240, 6224, 7960, 11028, 12...  \n",
       "3  [1800, 2422, 4762, 7018, 9192, 10280, 10986, 1...  \n",
       "4  [2350, 2620, 3240, 4310, 5270, 6680, 7480, 880...  "
      ]
     },
     "execution_count": 12,
     "metadata": {},
     "output_type": "execute_result"
    }
   ],
   "source": [
    "train_df = files_to_df(training_files)\n",
    "train_df.head()"
   ]
  },
  {
   "cell_type": "code",
   "execution_count": 13,
   "metadata": {},
   "outputs": [
    {
     "data": {
      "text/html": [
       "<div>\n",
       "<style scoped>\n",
       "    .dataframe tbody tr th:only-of-type {\n",
       "        vertical-align: middle;\n",
       "    }\n",
       "\n",
       "    .dataframe tbody tr th {\n",
       "        vertical-align: top;\n",
       "    }\n",
       "\n",
       "    .dataframe thead th {\n",
       "        text-align: right;\n",
       "    }\n",
       "</style>\n",
       "<table border=\"1\" class=\"dataframe\">\n",
       "  <thead>\n",
       "    <tr style=\"text-align: right;\">\n",
       "      <th></th>\n",
       "      <th>audio</th>\n",
       "      <th>ipa</th>\n",
       "      <th>phoneme_starts</th>\n",
       "      <th>phoneme_ends</th>\n",
       "    </tr>\n",
       "  </thead>\n",
       "  <tbody>\n",
       "    <tr>\n",
       "      <th>0</th>\n",
       "      <td>[25971, 30303, 29285, 26995, 28271, 11552, 131...</td>\n",
       "      <td>ðɨklɪliɨdɪnɨfaɪəbwʔɨɾ̃ɨmikn̩tɪɾ̃ʉdɑnɛzɨfnoʊwən...</td>\n",
       "      <td>[0, 1960, 2680, 3320, 4261, 5681, 6391, 7394, ...</td>\n",
       "      <td>[1960, 2680, 3320, 4261, 5681, 6391, 7394, 864...</td>\n",
       "    </tr>\n",
       "    <tr>\n",
       "      <th>1</th>\n",
       "      <td>[25971, 30303, 29285, 26995, 28271, 11552, 131...</td>\n",
       "      <td>ʃihæddʒɝdɑɹksʉtɨngɹisiwɔʃwɔɾɝʔɔljɪɚ</td>\n",
       "      <td>[0, 3081, 4973, 6015, 7446, 10920, 11560, 1295...</td>\n",
       "      <td>[3081, 4973, 6015, 7446, 10920, 11560, 12950, ...</td>\n",
       "    </tr>\n",
       "    <tr>\n",
       "      <th>2</th>\n",
       "      <td>[25971, 30303, 29285, 26995, 28271, 11552, 131...</td>\n",
       "      <td>juɹɪɾ̃ʌɦɝiwɝntjʉ</td>\n",
       "      <td>[0, 2286, 3467, 4678, 5305, 5720, 6360, 7438, ...</td>\n",
       "      <td>[2286, 3467, 4678, 5305, 5720, 6360, 7438, 867...</td>\n",
       "    </tr>\n",
       "    <tr>\n",
       "      <th>3</th>\n",
       "      <td>[25971, 30303, 29285, 26995, 28271, 11552, 131...</td>\n",
       "      <td>ɨfpipl̩ ʔwɝmɔɹddʒɛnɝʌsðɛɹwʊdinoʊnidfɔɹwɛlfɛɚ</td>\n",
       "      <td>[0, 2135, 2674, 3751, 4354, 4918, 6034, 6558, ...</td>\n",
       "      <td>[2135, 2674, 3751, 4354, 4918, 6034, 6558, 707...</td>\n",
       "    </tr>\n",
       "    <tr>\n",
       "      <th>4</th>\n",
       "      <td>[25971, 30303, 29285, 26995, 28271, 11552, 131...</td>\n",
       "      <td>stɹɔɦætsʔɑɹʔaʊɾəfæʃɨnðɪʃɪɚ</td>\n",
       "      <td>[0, 2460, 5000, 5350, 5980, 6933, 8840, 9800, ...</td>\n",
       "      <td>[2460, 5000, 5350, 5980, 6933, 8840, 9800, 122...</td>\n",
       "    </tr>\n",
       "  </tbody>\n",
       "</table>\n",
       "</div>"
      ],
      "text/plain": [
       "                                               audio  \\\n",
       "0  [25971, 30303, 29285, 26995, 28271, 11552, 131...   \n",
       "1  [25971, 30303, 29285, 26995, 28271, 11552, 131...   \n",
       "2  [25971, 30303, 29285, 26995, 28271, 11552, 131...   \n",
       "3  [25971, 30303, 29285, 26995, 28271, 11552, 131...   \n",
       "4  [25971, 30303, 29285, 26995, 28271, 11552, 131...   \n",
       "\n",
       "                                                 ipa  \\\n",
       "0  ðɨklɪliɨdɪnɨfaɪəbwʔɨɾ̃ɨmikn̩tɪɾ̃ʉdɑnɛzɨfnoʊwən...   \n",
       "1                ʃihæddʒɝdɑɹksʉtɨngɹisiwɔʃwɔɾɝʔɔljɪɚ   \n",
       "2                                   juɹɪɾ̃ʌɦɝiwɝntjʉ   \n",
       "3       ɨfpipl̩ ʔwɝmɔɹddʒɛnɝʌsðɛɹwʊdinoʊnidfɔɹwɛlfɛɚ   \n",
       "4                         stɹɔɦætsʔɑɹʔaʊɾəfæʃɨnðɪʃɪɚ   \n",
       "\n",
       "                                      phoneme_starts  \\\n",
       "0  [0, 1960, 2680, 3320, 4261, 5681, 6391, 7394, ...   \n",
       "1  [0, 3081, 4973, 6015, 7446, 10920, 11560, 1295...   \n",
       "2  [0, 2286, 3467, 4678, 5305, 5720, 6360, 7438, ...   \n",
       "3  [0, 2135, 2674, 3751, 4354, 4918, 6034, 6558, ...   \n",
       "4  [0, 2460, 5000, 5350, 5980, 6933, 8840, 9800, ...   \n",
       "\n",
       "                                        phoneme_ends  \n",
       "0  [1960, 2680, 3320, 4261, 5681, 6391, 7394, 864...  \n",
       "1  [3081, 4973, 6015, 7446, 10920, 11560, 12950, ...  \n",
       "2  [2286, 3467, 4678, 5305, 5720, 6360, 7438, 867...  \n",
       "3  [2135, 2674, 3751, 4354, 4918, 6034, 6558, 707...  \n",
       "4  [2460, 5000, 5350, 5980, 6933, 8840, 9800, 122...  "
      ]
     },
     "execution_count": 13,
     "metadata": {},
     "output_type": "execute_result"
    }
   ],
   "source": [
    "test_df = files_to_df(test_files)\n",
    "test_df.head()"
   ]
  },
  {
   "cell_type": "markdown",
   "metadata": {},
   "source": [
    "### Cleaning Up Audio"
   ]
  },
  {
   "cell_type": "code",
   "execution_count": 14,
   "metadata": {},
   "outputs": [],
   "source": [
    "def crop_audio(row):\n",
    "    # Access the phoneme_starts column and get the last value of the list\n",
    "    end = row['phoneme_starts'][-1]\n",
    "    # Access the phoneme_ends column and get the first value of the list\n",
    "    start = row['phoneme_ends'][0]\n",
    "    # Crop the audio from start to end\n",
    "    # note that start and end are in samples, not seconds\n",
    "    cropped_audio = row['audio'][start:end]\n",
    "    \n",
    "    return cropped_audio"
   ]
  },
  {
   "cell_type": "code",
   "execution_count": 15,
   "metadata": {},
   "outputs": [
    {
     "data": {
      "image/png": "[encoded data removed]",
      "text/plain": [
       "<Figure size 640x480 with 1 Axes>"
      ]
     },
     "metadata": {},
     "output_type": "display_data"
    }
   ],
   "source": [
    "# graph one audio to see start signal that we will remove\n",
    "import matplotlib.pyplot as plt\n",
    "plt.plot(train_df['audio'][0])\n",
    "plt.show()"
   ]
  },
  {
   "cell_type": "code",
   "execution_count": 16,
   "metadata": {},
   "outputs": [
    {
     "data": {
      "text/html": [
       "<div>\n",
       "<style scoped>\n",
       "    .dataframe tbody tr th:only-of-type {\n",
       "        vertical-align: middle;\n",
       "    }\n",
       "\n",
       "    .dataframe tbody tr th {\n",
       "        vertical-align: top;\n",
       "    }\n",
       "\n",
       "    .dataframe thead th {\n",
       "        text-align: right;\n",
       "    }\n",
       "</style>\n",
       "<table border=\"1\" class=\"dataframe\">\n",
       "  <thead>\n",
       "    <tr style=\"text-align: right;\">\n",
       "      <th></th>\n",
       "      <th>audio</th>\n",
       "      <th>ipa</th>\n",
       "      <th>phoneme_starts</th>\n",
       "      <th>phoneme_ends</th>\n",
       "      <th>cropped_audio</th>\n",
       "    </tr>\n",
       "  </thead>\n",
       "  <tbody>\n",
       "    <tr>\n",
       "      <th>0</th>\n",
       "      <td>[25971, 30303, 29285, 26995, 28271, 11552, 131...</td>\n",
       "      <td>n̩fæbjɨleɪʃɨnɦɛzkʌmtədɨtɝmɨnstɹʌktʃɚ</td>\n",
       "      <td>[0, 2400, 3225, 4354, 5900, 7937, 8939, 9154, ...</td>\n",
       "      <td>[2400, 3225, 4354, 5900, 7937, 8939, 9154, 944...</td>\n",
       "      <td>[2, 2, 1, 0, -1, 0, 0, 2, 0, 0, -1, 2, 2, 0, 3...</td>\n",
       "    </tr>\n",
       "    <tr>\n",
       "      <th>1</th>\n",
       "      <td>[25971, 30303, 29285, 26995, 28271, 11552, 131...</td>\n",
       "      <td>ðəfɹaɪʔn̩tʃaɪldwəzddʒɛʔlisə̥bʉdaɪɨzbɪgɹʌðɚ</td>\n",
       "      <td>[0, 2205, 2520, 3160, 4762, 5597, 7037, 7436, ...</td>\n",
       "      <td>[2205, 2520, 3160, 4762, 5597, 7037, 7436, 806...</td>\n",
       "      <td>[-2, -4, -2, -1, 1, -2, -4, -3, -4, -1, -2, -3...</td>\n",
       "    </tr>\n",
       "    <tr>\n",
       "      <th>2</th>\n",
       "      <td>[25971, 30303, 29285, 26995, 28271, 11552, 131...</td>\n",
       "      <td>ɹɪʃsɔʔaʊɚzn̩aʊɚzəvmuvisæɾɚdeɪ</td>\n",
       "      <td>[0, 2200, 3800, 4279, 5240, 6224, 7960, 11028,...</td>\n",
       "      <td>[2200, 3800, 4279, 5240, 6224, 7960, 11028, 12...</td>\n",
       "      <td>[1, 2, -1, -1, -2, 0, 3, 2, -1, 1, 2, 0, 0, 2,...</td>\n",
       "    </tr>\n",
       "    <tr>\n",
       "      <th>3</th>\n",
       "      <td>[25971, 30303, 29285, 26995, 28271, 11552, 131...</td>\n",
       "      <td>meɪaɪɔɹɾɚəstɹɑbɝɪsʌndeɪæftɚaɪitɪɾ̃ɚ</td>\n",
       "      <td>[0, 1800, 2422, 4762, 7018, 9192, 10280, 10986...</td>\n",
       "      <td>[1800, 2422, 4762, 7018, 9192, 10280, 10986, 1...</td>\n",
       "      <td>[4, 1, 1, -1, 0, -1, -1, 1, 2, 5, 3, 3, 1, 0, ...</td>\n",
       "    </tr>\n",
       "    <tr>\n",
       "      <th>4</th>\n",
       "      <td>[25971, 30303, 29285, 26995, 28271, 11552, 131...</td>\n",
       "      <td>ðɨkɑɹtʉnfittʃɚzeɪmʌskɹætɛndɨtædoʊl</td>\n",
       "      <td>[0, 2350, 2620, 3240, 4310, 5270, 6680, 7480, ...</td>\n",
       "      <td>[2350, 2620, 3240, 4310, 5270, 6680, 7480, 880...</td>\n",
       "      <td>[3, 5, 7, 2, 2, 2, 3, 1, 2, 1, 2, 1, 2, -1, 0,...</td>\n",
       "    </tr>\n",
       "  </tbody>\n",
       "</table>\n",
       "</div>"
      ],
      "text/plain": [
       "                                               audio  \\\n",
       "0  [25971, 30303, 29285, 26995, 28271, 11552, 131...   \n",
       "1  [25971, 30303, 29285, 26995, 28271, 11552, 131...   \n",
       "2  [25971, 30303, 29285, 26995, 28271, 11552, 131...   \n",
       "3  [25971, 30303, 29285, 26995, 28271, 11552, 131...   \n",
       "4  [25971, 30303, 29285, 26995, 28271, 11552, 131...   \n",
       "\n",
       "                                          ipa  \\\n",
       "0        n̩fæbjɨleɪʃɨnɦɛzkʌmtədɨtɝmɨnstɹʌktʃɚ   \n",
       "1  ðəfɹaɪʔn̩tʃaɪldwəzddʒɛʔlisə̥bʉdaɪɨzbɪgɹʌðɚ   \n",
       "2               ɹɪʃsɔʔaʊɚzn̩aʊɚzəvmuvisæɾɚdeɪ   \n",
       "3         meɪaɪɔɹɾɚəstɹɑbɝɪsʌndeɪæftɚaɪitɪɾ̃ɚ   \n",
       "4          ðɨkɑɹtʉnfittʃɚzeɪmʌskɹætɛndɨtædoʊl   \n",
       "\n",
       "                                      phoneme_starts  \\\n",
       "0  [0, 2400, 3225, 4354, 5900, 7937, 8939, 9154, ...   \n",
       "1  [0, 2205, 2520, 3160, 4762, 5597, 7037, 7436, ...   \n",
       "2  [0, 2200, 3800, 4279, 5240, 6224, 7960, 11028,...   \n",
       "3  [0, 1800, 2422, 4762, 7018, 9192, 10280, 10986...   \n",
       "4  [0, 2350, 2620, 3240, 4310, 5270, 6680, 7480, ...   \n",
       "\n",
       "                                        phoneme_ends  \\\n",
       "0  [2400, 3225, 4354, 5900, 7937, 8939, 9154, 944...   \n",
       "1  [2205, 2520, 3160, 4762, 5597, 7037, 7436, 806...   \n",
       "2  [2200, 3800, 4279, 5240, 6224, 7960, 11028, 12...   \n",
       "3  [1800, 2422, 4762, 7018, 9192, 10280, 10986, 1...   \n",
       "4  [2350, 2620, 3240, 4310, 5270, 6680, 7480, 880...   \n",
       "\n",
       "                                       cropped_audio  \n",
       "0  [2, 2, 1, 0, -1, 0, 0, 2, 0, 0, -1, 2, 2, 0, 3...  \n",
       "1  [-2, -4, -2, -1, 1, -2, -4, -3, -4, -1, -2, -3...  \n",
       "2  [1, 2, -1, -1, -2, 0, 3, 2, -1, 1, 2, 0, 0, 2,...  \n",
       "3  [4, 1, 1, -1, 0, -1, -1, 1, 2, 5, 3, 3, 1, 0, ...  \n",
       "4  [3, 5, 7, 2, 2, 2, 3, 1, 2, 1, 2, 1, 2, -1, 0,...  "
      ]
     },
     "execution_count": 16,
     "metadata": {},
     "output_type": "execute_result"
    }
   ],
   "source": [
    "# Apply the process_row function to each row in the DataFrame\n",
    "train_df['cropped_audio'] = train_df.apply(crop_audio, axis=1) \n",
    "train_df.head()\n",
    "    "
   ]
  },
  {
   "cell_type": "code",
   "execution_count": 17,
   "metadata": {},
   "outputs": [
    {
     "data": {
      "text/html": [
       "<div>\n",
       "<style scoped>\n",
       "    .dataframe tbody tr th:only-of-type {\n",
       "        vertical-align: middle;\n",
       "    }\n",
       "\n",
       "    .dataframe tbody tr th {\n",
       "        vertical-align: top;\n",
       "    }\n",
       "\n",
       "    .dataframe thead th {\n",
       "        text-align: right;\n",
       "    }\n",
       "</style>\n",
       "<table border=\"1\" class=\"dataframe\">\n",
       "  <thead>\n",
       "    <tr style=\"text-align: right;\">\n",
       "      <th></th>\n",
       "      <th>audio</th>\n",
       "      <th>ipa</th>\n",
       "      <th>phoneme_starts</th>\n",
       "      <th>phoneme_ends</th>\n",
       "      <th>cropped_audio</th>\n",
       "    </tr>\n",
       "  </thead>\n",
       "  <tbody>\n",
       "    <tr>\n",
       "      <th>0</th>\n",
       "      <td>[25971, 30303, 29285, 26995, 28271, 11552, 131...</td>\n",
       "      <td>ðɨklɪliɨdɪnɨfaɪəbwʔɨɾ̃ɨmikn̩tɪɾ̃ʉdɑnɛzɨfnoʊwən...</td>\n",
       "      <td>[0, 1960, 2680, 3320, 4261, 5681, 6391, 7394, ...</td>\n",
       "      <td>[1960, 2680, 3320, 4261, 5681, 6391, 7394, 864...</td>\n",
       "      <td>[-3, -1, -1, -3, -1, -2, -4, 0, -1, -2, -1, -1...</td>\n",
       "    </tr>\n",
       "    <tr>\n",
       "      <th>1</th>\n",
       "      <td>[25971, 30303, 29285, 26995, 28271, 11552, 131...</td>\n",
       "      <td>ʃihæddʒɝdɑɹksʉtɨngɹisiwɔʃwɔɾɝʔɔljɪɚ</td>\n",
       "      <td>[0, 3081, 4973, 6015, 7446, 10920, 11560, 1295...</td>\n",
       "      <td>[3081, 4973, 6015, 7446, 10920, 11560, 12950, ...</td>\n",
       "      <td>[-1, 1, 3, -2, 1, -1, -2, 0, 0, 0, -1, 0, -3, ...</td>\n",
       "    </tr>\n",
       "    <tr>\n",
       "      <th>2</th>\n",
       "      <td>[25971, 30303, 29285, 26995, 28271, 11552, 131...</td>\n",
       "      <td>juɹɪɾ̃ʌɦɝiwɝntjʉ</td>\n",
       "      <td>[0, 2286, 3467, 4678, 5305, 5720, 6360, 7438, ...</td>\n",
       "      <td>[2286, 3467, 4678, 5305, 5720, 6360, 7438, 867...</td>\n",
       "      <td>[6, 3, 7, 6, 6, 3, 7, 3, 1, 2, 5, 4, 2, 2, 2, ...</td>\n",
       "    </tr>\n",
       "    <tr>\n",
       "      <th>3</th>\n",
       "      <td>[25971, 30303, 29285, 26995, 28271, 11552, 131...</td>\n",
       "      <td>ɨfpipl̩ ʔwɝmɔɹddʒɛnɝʌsðɛɹwʊdinoʊnidfɔɹwɛlfɛɚ</td>\n",
       "      <td>[0, 2135, 2674, 3751, 4354, 4918, 6034, 6558, ...</td>\n",
       "      <td>[2135, 2674, 3751, 4354, 4918, 6034, 6558, 707...</td>\n",
       "      <td>[8, 0, -4, -8, 0, 7, 8, 0, 0, 2, 3, 1, 0, 3, 2...</td>\n",
       "    </tr>\n",
       "    <tr>\n",
       "      <th>4</th>\n",
       "      <td>[25971, 30303, 29285, 26995, 28271, 11552, 131...</td>\n",
       "      <td>stɹɔɦætsʔɑɹʔaʊɾəfæʃɨnðɪʃɪɚ</td>\n",
       "      <td>[0, 2460, 5000, 5350, 5980, 6933, 8840, 9800, ...</td>\n",
       "      <td>[2460, 5000, 5350, 5980, 6933, 8840, 9800, 122...</td>\n",
       "      <td>[2, 1, -1, 1, 2, -1, -1, -1, -2, -2, -1, -2, -...</td>\n",
       "    </tr>\n",
       "  </tbody>\n",
       "</table>\n",
       "</div>"
      ],
      "text/plain": [
       "                                               audio  \\\n",
       "0  [25971, 30303, 29285, 26995, 28271, 11552, 131...   \n",
       "1  [25971, 30303, 29285, 26995, 28271, 11552, 131...   \n",
       "2  [25971, 30303, 29285, 26995, 28271, 11552, 131...   \n",
       "3  [25971, 30303, 29285, 26995, 28271, 11552, 131...   \n",
       "4  [25971, 30303, 29285, 26995, 28271, 11552, 131...   \n",
       "\n",
       "                                                 ipa  \\\n",
       "0  ðɨklɪliɨdɪnɨfaɪəbwʔɨɾ̃ɨmikn̩tɪɾ̃ʉdɑnɛzɨfnoʊwən...   \n",
       "1                ʃihæddʒɝdɑɹksʉtɨngɹisiwɔʃwɔɾɝʔɔljɪɚ   \n",
       "2                                   juɹɪɾ̃ʌɦɝiwɝntjʉ   \n",
       "3       ɨfpipl̩ ʔwɝmɔɹddʒɛnɝʌsðɛɹwʊdinoʊnidfɔɹwɛlfɛɚ   \n",
       "4                         stɹɔɦætsʔɑɹʔaʊɾəfæʃɨnðɪʃɪɚ   \n",
       "\n",
       "                                      phoneme_starts  \\\n",
       "0  [0, 1960, 2680, 3320, 4261, 5681, 6391, 7394, ...   \n",
       "1  [0, 3081, 4973, 6015, 7446, 10920, 11560, 1295...   \n",
       "2  [0, 2286, 3467, 4678, 5305, 5720, 6360, 7438, ...   \n",
       "3  [0, 2135, 2674, 3751, 4354, 4918, 6034, 6558, ...   \n",
       "4  [0, 2460, 5000, 5350, 5980, 6933, 8840, 9800, ...   \n",
       "\n",
       "                                        phoneme_ends  \\\n",
       "0  [1960, 2680, 3320, 4261, 5681, 6391, 7394, 864...   \n",
       "1  [3081, 4973, 6015, 7446, 10920, 11560, 12950, ...   \n",
       "2  [2286, 3467, 4678, 5305, 5720, 6360, 7438, 867...   \n",
       "3  [2135, 2674, 3751, 4354, 4918, 6034, 6558, 707...   \n",
       "4  [2460, 5000, 5350, 5980, 6933, 8840, 9800, 122...   \n",
       "\n",
       "                                       cropped_audio  \n",
       "0  [-3, -1, -1, -3, -1, -2, -4, 0, -1, -2, -1, -1...  \n",
       "1  [-1, 1, 3, -2, 1, -1, -2, 0, 0, 0, -1, 0, -3, ...  \n",
       "2  [6, 3, 7, 6, 6, 3, 7, 3, 1, 2, 5, 4, 2, 2, 2, ...  \n",
       "3  [8, 0, -4, -8, 0, 7, 8, 0, 0, 2, 3, 1, 0, 3, 2...  \n",
       "4  [2, 1, -1, 1, 2, -1, -1, -1, -2, -2, -1, -2, -...  "
      ]
     },
     "execution_count": 17,
     "metadata": {},
     "output_type": "execute_result"
    }
   ],
   "source": [
    "test_df['cropped_audio'] = test_df.apply(crop_audio, axis=1)\n",
    "test_df.head()"
   ]
  },
  {
   "cell_type": "code",
   "execution_count": 18,
   "metadata": {},
   "outputs": [
    {
     "data": {
      "text/plain": [
       "[<matplotlib.lines.Line2D at 0x7f0e38abfca0>]"
      ]
     },
     "execution_count": 18,
     "metadata": {},
     "output_type": "execute_result"
    },
    {
     "data": {
      "image/png": "[encoded data removed]",
      "text/plain": [
       "<Figure size 640x480 with 1 Axes>"
      ]
     },
     "metadata": {},
     "output_type": "display_data"
    }
   ],
   "source": [
    "# visualize again, much better!\n",
    "plt.plot(train_df['cropped_audio'][0])\n"
   ]
  },
  {
   "cell_type": "code",
   "execution_count": 19,
   "metadata": {},
   "outputs": [
    {
     "data": {
      "text/html": [
       "<div>\n",
       "<style scoped>\n",
       "    .dataframe tbody tr th:only-of-type {\n",
       "        vertical-align: middle;\n",
       "    }\n",
       "\n",
       "    .dataframe tbody tr th {\n",
       "        vertical-align: top;\n",
       "    }\n",
       "\n",
       "    .dataframe thead th {\n",
       "        text-align: right;\n",
       "    }\n",
       "</style>\n",
       "<table border=\"1\" class=\"dataframe\">\n",
       "  <thead>\n",
       "    <tr style=\"text-align: right;\">\n",
       "      <th></th>\n",
       "      <th>ipa</th>\n",
       "      <th>audio</th>\n",
       "    </tr>\n",
       "  </thead>\n",
       "  <tbody>\n",
       "    <tr>\n",
       "      <th>0</th>\n",
       "      <td>n̩fæbjɨleɪʃɨnɦɛzkʌmtədɨtɝmɨnstɹʌktʃɚ</td>\n",
       "      <td>[2, 2, 1, 0, -1, 0, 0, 2, 0, 0, -1, 2, 2, 0, 3...</td>\n",
       "    </tr>\n",
       "    <tr>\n",
       "      <th>1</th>\n",
       "      <td>ðəfɹaɪʔn̩tʃaɪldwəzddʒɛʔlisə̥bʉdaɪɨzbɪgɹʌðɚ</td>\n",
       "      <td>[-2, -4, -2, -1, 1, -2, -4, -3, -4, -1, -2, -3...</td>\n",
       "    </tr>\n",
       "    <tr>\n",
       "      <th>2</th>\n",
       "      <td>ɹɪʃsɔʔaʊɚzn̩aʊɚzəvmuvisæɾɚdeɪ</td>\n",
       "      <td>[1, 2, -1, -1, -2, 0, 3, 2, -1, 1, 2, 0, 0, 2,...</td>\n",
       "    </tr>\n",
       "    <tr>\n",
       "      <th>3</th>\n",
       "      <td>meɪaɪɔɹɾɚəstɹɑbɝɪsʌndeɪæftɚaɪitɪɾ̃ɚ</td>\n",
       "      <td>[4, 1, 1, -1, 0, -1, -1, 1, 2, 5, 3, 3, 1, 0, ...</td>\n",
       "    </tr>\n",
       "    <tr>\n",
       "      <th>4</th>\n",
       "      <td>ðɨkɑɹtʉnfittʃɚzeɪmʌskɹætɛndɨtædoʊl</td>\n",
       "      <td>[3, 5, 7, 2, 2, 2, 3, 1, 2, 1, 2, 1, 2, -1, 0,...</td>\n",
       "    </tr>\n",
       "  </tbody>\n",
       "</table>\n",
       "</div>"
      ],
      "text/plain": [
       "                                          ipa  \\\n",
       "0        n̩fæbjɨleɪʃɨnɦɛzkʌmtədɨtɝmɨnstɹʌktʃɚ   \n",
       "1  ðəfɹaɪʔn̩tʃaɪldwəzddʒɛʔlisə̥bʉdaɪɨzbɪgɹʌðɚ   \n",
       "2               ɹɪʃsɔʔaʊɚzn̩aʊɚzəvmuvisæɾɚdeɪ   \n",
       "3         meɪaɪɔɹɾɚəstɹɑbɝɪsʌndeɪæftɚaɪitɪɾ̃ɚ   \n",
       "4          ðɨkɑɹtʉnfittʃɚzeɪmʌskɹætɛndɨtædoʊl   \n",
       "\n",
       "                                               audio  \n",
       "0  [2, 2, 1, 0, -1, 0, 0, 2, 0, 0, -1, 2, 2, 0, 3...  \n",
       "1  [-2, -4, -2, -1, 1, -2, -4, -3, -4, -1, -2, -3...  \n",
       "2  [1, 2, -1, -1, -2, 0, 3, 2, -1, 1, 2, 0, 0, 2,...  \n",
       "3  [4, 1, 1, -1, 0, -1, -1, 1, 2, 5, 3, 3, 1, 0, ...  \n",
       "4  [3, 5, 7, 2, 2, 2, 3, 1, 2, 1, 2, 1, 2, -1, 0,...  "
      ]
     },
     "execution_count": 19,
     "metadata": {},
     "output_type": "execute_result"
    }
   ],
   "source": [
    "# train_df comprised of just cropped_audio and phonemes\n",
    "train_df = train_df.drop(columns=['phoneme_starts', 'phoneme_ends', 'audio'])\n",
    "# rename cropped audio to audio\n",
    "train_df = train_df.rename(columns={'cropped_audio': 'audio'})\n",
    "train_df.head()"
   ]
  },
  {
   "cell_type": "code",
   "execution_count": 20,
   "metadata": {},
   "outputs": [
    {
     "data": {
      "text/html": [
       "<div>\n",
       "<style scoped>\n",
       "    .dataframe tbody tr th:only-of-type {\n",
       "        vertical-align: middle;\n",
       "    }\n",
       "\n",
       "    .dataframe tbody tr th {\n",
       "        vertical-align: top;\n",
       "    }\n",
       "\n",
       "    .dataframe thead th {\n",
       "        text-align: right;\n",
       "    }\n",
       "</style>\n",
       "<table border=\"1\" class=\"dataframe\">\n",
       "  <thead>\n",
       "    <tr style=\"text-align: right;\">\n",
       "      <th></th>\n",
       "      <th>ipa</th>\n",
       "      <th>audio</th>\n",
       "    </tr>\n",
       "  </thead>\n",
       "  <tbody>\n",
       "    <tr>\n",
       "      <th>0</th>\n",
       "      <td>ðɨklɪliɨdɪnɨfaɪəbwʔɨɾ̃ɨmikn̩tɪɾ̃ʉdɑnɛzɨfnoʊwən...</td>\n",
       "      <td>[-3, -1, -1, -3, -1, -2, -4, 0, -1, -2, -1, -1...</td>\n",
       "    </tr>\n",
       "    <tr>\n",
       "      <th>1</th>\n",
       "      <td>ʃihæddʒɝdɑɹksʉtɨngɹisiwɔʃwɔɾɝʔɔljɪɚ</td>\n",
       "      <td>[-1, 1, 3, -2, 1, -1, -2, 0, 0, 0, -1, 0, -3, ...</td>\n",
       "    </tr>\n",
       "    <tr>\n",
       "      <th>2</th>\n",
       "      <td>juɹɪɾ̃ʌɦɝiwɝntjʉ</td>\n",
       "      <td>[6, 3, 7, 6, 6, 3, 7, 3, 1, 2, 5, 4, 2, 2, 2, ...</td>\n",
       "    </tr>\n",
       "    <tr>\n",
       "      <th>3</th>\n",
       "      <td>ɨfpipl̩ ʔwɝmɔɹddʒɛnɝʌsðɛɹwʊdinoʊnidfɔɹwɛlfɛɚ</td>\n",
       "      <td>[8, 0, -4, -8, 0, 7, 8, 0, 0, 2, 3, 1, 0, 3, 2...</td>\n",
       "    </tr>\n",
       "    <tr>\n",
       "      <th>4</th>\n",
       "      <td>stɹɔɦætsʔɑɹʔaʊɾəfæʃɨnðɪʃɪɚ</td>\n",
       "      <td>[2, 1, -1, 1, 2, -1, -1, -1, -2, -2, -1, -2, -...</td>\n",
       "    </tr>\n",
       "  </tbody>\n",
       "</table>\n",
       "</div>"
      ],
      "text/plain": [
       "                                                 ipa  \\\n",
       "0  ðɨklɪliɨdɪnɨfaɪəbwʔɨɾ̃ɨmikn̩tɪɾ̃ʉdɑnɛzɨfnoʊwən...   \n",
       "1                ʃihæddʒɝdɑɹksʉtɨngɹisiwɔʃwɔɾɝʔɔljɪɚ   \n",
       "2                                   juɹɪɾ̃ʌɦɝiwɝntjʉ   \n",
       "3       ɨfpipl̩ ʔwɝmɔɹddʒɛnɝʌsðɛɹwʊdinoʊnidfɔɹwɛlfɛɚ   \n",
       "4                         stɹɔɦætsʔɑɹʔaʊɾəfæʃɨnðɪʃɪɚ   \n",
       "\n",
       "                                               audio  \n",
       "0  [-3, -1, -1, -3, -1, -2, -4, 0, -1, -2, -1, -1...  \n",
       "1  [-1, 1, 3, -2, 1, -1, -2, 0, 0, 0, -1, 0, -3, ...  \n",
       "2  [6, 3, 7, 6, 6, 3, 7, 3, 1, 2, 5, 4, 2, 2, 2, ...  \n",
       "3  [8, 0, -4, -8, 0, 7, 8, 0, 0, 2, 3, 1, 0, 3, 2...  \n",
       "4  [2, 1, -1, 1, 2, -1, -1, -1, -2, -2, -1, -2, -...  "
      ]
     },
     "execution_count": 20,
     "metadata": {},
     "output_type": "execute_result"
    }
   ],
   "source": [
    "# Same for test_df\n",
    "test_df = test_df.drop(columns=['phoneme_starts', 'phoneme_ends', 'audio'])\n",
    "test_df = test_df.rename(columns={'cropped_audio': 'audio'})\n",
    "test_df.head()"
   ]
  },
  {
   "cell_type": "code",
   "execution_count": 21,
   "metadata": {},
   "outputs": [],
   "source": [
    "train_ds = Dataset.from_pandas(train_df)\n",
    "test_ds = Dataset.from_pandas(test_df)"
   ]
  },
  {
   "cell_type": "markdown",
   "metadata": {},
   "source": [
    "# Extend Phoneme Vocab"
   ]
  },
  {
   "cell_type": "code",
   "execution_count": 22,
   "metadata": {},
   "outputs": [],
   "source": [
    "timit_vocab = set(\"\".join(train_df['ipa'])) | set(\"\".join(test_df['ipa']))"
   ]
  },
  {
   "cell_type": "code",
   "execution_count": 23,
   "metadata": {},
   "outputs": [],
   "source": [
    "tokenizer = AutoTokenizer.from_pretrained(PRE_TRAINED_ID)\n",
    "vocab = tokenizer.get_vocab()"
   ]
  },
  {
   "cell_type": "code",
   "execution_count": 24,
   "metadata": {},
   "outputs": [
    {
     "name": "stdout",
     "output_type": "stream",
     "text": [
      "{'ɦ', 'g', '̃', '̩', '̍', 'ɝ', '̥'}\n"
     ]
    }
   ],
   "source": [
    "additional_vocab = timit_vocab.difference(set(vocab.keys()) | {' '})\n",
    "tokenizer.add_tokens(list(additional_vocab))\n",
    "print(additional_vocab)"
   ]
  },
  {
   "cell_type": "code",
   "execution_count": 25,
   "metadata": {},
   "outputs": [
    {
     "name": "stderr",
     "output_type": "stream",
     "text": [
      "Map: 100%|██████████| 4620/4620 [01:48<00:00, 42.63 examples/s]\n",
      "Map: 100%|██████████| 1680/1680 [00:39<00:00, 42.39 examples/s]\n"
     ]
    }
   ],
   "source": [
    "# replace ' ' in ipa with tokenizer.pad_token\n",
    "train_ds = train_ds.map(lambda x: {'audio': x['audio'], 'ipa': x['ipa'].replace(' ', tokenizer.pad_token)})\n",
    "test_ds = test_ds.map(lambda x: {'audio': x['audio'], 'ipa': x['ipa'].replace(' ', tokenizer.pad_token)})"
   ]
  },
  {
   "cell_type": "markdown",
   "metadata": {},
   "source": [
    "# Update Feature Extraction"
   ]
  },
  {
   "cell_type": "code",
   "execution_count": 26,
   "metadata": {},
   "outputs": [],
   "source": [
    "feature_extractor = AutoFeatureExtractor.from_pretrained(PRE_TRAINED_ID)"
   ]
  },
  {
   "cell_type": "markdown",
   "metadata": {},
   "source": [
    "We don't need to update the feature extractor since it has been pretrained on 16kHz audio which matches the TIMIT dataset.\n",
    "\n",
    "For datasets with different sampling rates, the feature extractor should be updated or the audio resampled (easier).\n",
    "\n",
    "This is also where code to add extra features (such as conditioning on speaker's native language etc.) would be added."
   ]
  },
  {
   "cell_type": "markdown",
   "metadata": {},
   "source": [
    "# Save Updated Tokenizer and Feature Extractor"
   ]
  },
  {
   "cell_type": "code",
   "execution_count": 27,
   "metadata": {},
   "outputs": [
    {
     "data": {
      "text/plain": [
       "[]"
      ]
     },
     "execution_count": 27,
     "metadata": {},
     "output_type": "execute_result"
    }
   ],
   "source": [
    "processor = AutoProcessor.from_pretrained(PRE_TRAINED_ID)\n",
    "processor.tokenizer = tokenizer\n",
    "processor.feature_extractor = feature_extractor\n",
    "processor.save_pretrained(OUTPUT_DIR)"
   ]
  },
  {
   "cell_type": "markdown",
   "metadata": {},
   "source": [
    "# Preprocess Data"
   ]
  },
  {
   "cell_type": "code",
   "execution_count": 28,
   "metadata": {},
   "outputs": [],
   "source": [
    "def prepare_dataset(batch):\n",
    "    batch[\"input_values\"] = processor(batch[\"audio\"], sampling_rate=feature_extractor.sampling_rate).input_values\n",
    "    batch[\"labels\"] = processor(text=batch[\"ipa\"]).input_ids\n",
    "    return batch"
   ]
  },
  {
   "cell_type": "code",
   "execution_count": 29,
   "metadata": {},
   "outputs": [
    {
     "name": "stderr",
     "output_type": "stream",
     "text": [
      "Map: 100%|██████████| 4620/4620 [02:02<00:00, 37.58 examples/s]\n"
     ]
    }
   ],
   "source": [
    "train_ds_prepared = train_ds.map(prepare_dataset, batch_size=8, num_proc=1, batched=True)"
   ]
  },
  {
   "cell_type": "code",
   "execution_count": 30,
   "metadata": {},
   "outputs": [
    {
     "name": "stderr",
     "output_type": "stream",
     "text": [
      "Map (num_proc=4): 100%|██████████| 1680/1680 [00:19<00:00, 84.71 examples/s] \n"
     ]
    }
   ],
   "source": [
    "test_ds_prepared = test_ds.map(prepare_dataset, batch_size=8, num_proc=4, batched=True)"
   ]
  },
  {
   "cell_type": "code",
   "execution_count": 31,
   "metadata": {},
   "outputs": [
    {
     "data": {
      "text/html": [
       "<div>\n",
       "<style scoped>\n",
       "    .dataframe tbody tr th:only-of-type {\n",
       "        vertical-align: middle;\n",
       "    }\n",
       "\n",
       "    .dataframe tbody tr th {\n",
       "        vertical-align: top;\n",
       "    }\n",
       "\n",
       "    .dataframe thead th {\n",
       "        text-align: right;\n",
       "    }\n",
       "</style>\n",
       "<table border=\"1\" class=\"dataframe\">\n",
       "  <thead>\n",
       "    <tr style=\"text-align: right;\">\n",
       "      <th></th>\n",
       "      <th>ipa</th>\n",
       "      <th>audio</th>\n",
       "      <th>input_values</th>\n",
       "      <th>labels</th>\n",
       "    </tr>\n",
       "  </thead>\n",
       "  <tbody>\n",
       "    <tr>\n",
       "      <th>0</th>\n",
       "      <td>n̩fæbjɨleɪʃɨnɦɛzkʌmtədɨtɝmɨnstɹʌktʃɚ</td>\n",
       "      <td>[2, 2, 1, 0, -1, 0, 0, 2, 0, 0, -1, 2, 2, 0, 3...</td>\n",
       "      <td>[0.002893403159694382, 0.002893403159694382, 0...</td>\n",
       "      <td>[14, 4, 395, 14, 23, 20, 30, 26, 30, 60, 44, 3...</td>\n",
       "    </tr>\n",
       "    <tr>\n",
       "      <th>1</th>\n",
       "      <td>ðəfɹaɪʔn̩tʃaɪldwəzddʒɛʔlisə̥bʉdaɪɨzbɪgɹʌðɚ</td>\n",
       "      <td>[-2, -4, -2, -1, 1, -2, -4, -3, -4, -1, -2, -3...</td>\n",
       "      <td>[-0.005052671866663577, -0.009617046826402196,...</td>\n",
       "      <td>[14, 22, 38, 32, 41, 14, 23, 6, 63, 4, 12, 41,...</td>\n",
       "    </tr>\n",
       "    <tr>\n",
       "      <th>2</th>\n",
       "      <td>ɹɪʃsɔʔaʊɚzn̩aʊɚzəvmuvisæɾɚdeɪ</td>\n",
       "      <td>[1, 2, -1, -1, -2, 0, 3, 2, -1, 1, 2, 0, 0, 2,...</td>\n",
       "      <td>[0.004129799374717596, 0.007454942823862821, -...</td>\n",
       "      <td>[6, 63, 4, 12, 68, 5, 13, 67, 8, 11, 36, 18, 3...</td>\n",
       "    </tr>\n",
       "    <tr>\n",
       "      <th>3</th>\n",
       "      <td>meɪaɪɔɹɾɚəstɹɑbɝɪsʌndeɪæftɚaɪitɪɾ̃ɚ</td>\n",
       "      <td>[4, 1, 1, -1, 0, -1, -1, 1, 2, 5, 3, 3, 1, 0, ...</td>\n",
       "      <td>[0.0069319206706473105, 0.001905686320916581, ...</td>\n",
       "      <td>[14, 13, 30, 5, 13, 67, 8, 11, 36, 18, 37, 20,...</td>\n",
       "    </tr>\n",
       "    <tr>\n",
       "      <th>4</th>\n",
       "      <td>ðɨkɑɹtʉnfittʃɚzeɪmʌskɹætɛndɨtædoʊl</td>\n",
       "      <td>[3, 5, 7, 2, 2, 2, 3, 1, 2, 1, 2, 1, 2, -1, 0,...</td>\n",
       "      <td>[0.004498304016173735, 0.007233829660534752, 0...</td>\n",
       "      <td>[14, 22, 37, 26, 68, 11, 44, 8, 14, 15, 43, 6,...</td>\n",
       "    </tr>\n",
       "  </tbody>\n",
       "</table>\n",
       "</div>"
      ],
      "text/plain": [
       "                                          ipa  \\\n",
       "0        n̩fæbjɨleɪʃɨnɦɛzkʌmtədɨtɝmɨnstɹʌktʃɚ   \n",
       "1  ðəfɹaɪʔn̩tʃaɪldwəzddʒɛʔlisə̥bʉdaɪɨzbɪgɹʌðɚ   \n",
       "2               ɹɪʃsɔʔaʊɚzn̩aʊɚzəvmuvisæɾɚdeɪ   \n",
       "3         meɪaɪɔɹɾɚəstɹɑbɝɪsʌndeɪæftɚaɪitɪɾ̃ɚ   \n",
       "4          ðɨkɑɹtʉnfittʃɚzeɪmʌskɹætɛndɨtædoʊl   \n",
       "\n",
       "                                               audio  \\\n",
       "0  [2, 2, 1, 0, -1, 0, 0, 2, 0, 0, -1, 2, 2, 0, 3...   \n",
       "1  [-2, -4, -2, -1, 1, -2, -4, -3, -4, -1, -2, -3...   \n",
       "2  [1, 2, -1, -1, -2, 0, 3, 2, -1, 1, 2, 0, 0, 2,...   \n",
       "3  [4, 1, 1, -1, 0, -1, -1, 1, 2, 5, 3, 3, 1, 0, ...   \n",
       "4  [3, 5, 7, 2, 2, 2, 3, 1, 2, 1, 2, 1, 2, -1, 0,...   \n",
       "\n",
       "                                        input_values  \\\n",
       "0  [0.002893403159694382, 0.002893403159694382, 0...   \n",
       "1  [-0.005052671866663577, -0.009617046826402196,...   \n",
       "2  [0.004129799374717596, 0.007454942823862821, -...   \n",
       "3  [0.0069319206706473105, 0.001905686320916581, ...   \n",
       "4  [0.004498304016173735, 0.007233829660534752, 0...   \n",
       "\n",
       "                                              labels  \n",
       "0  [14, 4, 395, 14, 23, 20, 30, 26, 30, 60, 44, 3...  \n",
       "1  [14, 22, 38, 32, 41, 14, 23, 6, 63, 4, 12, 41,...  \n",
       "2  [6, 63, 4, 12, 68, 5, 13, 67, 8, 11, 36, 18, 3...  \n",
       "3  [14, 13, 30, 5, 13, 67, 8, 11, 36, 18, 37, 20,...  \n",
       "4  [14, 22, 37, 26, 68, 11, 44, 8, 14, 15, 43, 6,...  "
      ]
     },
     "execution_count": 31,
     "metadata": {},
     "output_type": "execute_result"
    }
   ],
   "source": [
    "train_ds_prepared.to_pandas().head()"
   ]
  },
  {
   "cell_type": "markdown",
   "metadata": {},
   "source": [
    "# Fine-Tune Model"
   ]
  },
  {
   "cell_type": "code",
   "execution_count": 32,
   "metadata": {},
   "outputs": [],
   "source": [
    "class DataCollatorCTCWithPadding:\n",
    "    \"\"\"\n",
    "    Data collator that will dynamically pad the inputs received.\n",
    "    Args:\n",
    "        processor (:class:`~transformers.Wav2Vec2Processor`)\n",
    "            The processor used for proccessing the data.\n",
    "        padding (:obj:`bool`, :obj:`str` or :class:`~transformers.tokenization_utils_base.PaddingStrategy`, `optional`, defaults to :obj:`True`):\n",
    "            Select a strategy to pad the returned sequences (according to the model's padding side and padding index)\n",
    "            among:\n",
    "            * :obj:`True` or :obj:`'longest'`: Pad to the longest sequence in the batch (or no padding if only a single\n",
    "              sequence if provided).\n",
    "            * :obj:`'max_length'`: Pad to a maximum length specified with the argument :obj:`max_length` or to the\n",
    "              maximum acceptable input length for the model if that argument is not provided.\n",
    "            * :obj:`False` or :obj:`'do_not_pad'` (default): No padding (i.e., can output a batch with sequences of\n",
    "              different lengths).\n",
    "        max_length (:obj:`int`, `optional`):\n",
    "            Maximum length of the ``input_values`` of the returned list and optionally padding length (see above).\n",
    "        max_length_labels (:obj:`int`, `optional`):\n",
    "            Maximum length of the ``labels`` returned list and optionally padding length (see above).\n",
    "        pad_to_multiple_of (:obj:`int`, `optional`):\n",
    "            If set will pad the sequence to a multiple of the provided value.\n",
    "            This is especially useful to enable the use of Tensor Cores on NVIDIA hardware with compute capability >=\n",
    "            7.5 (Volta).\n",
    "    \"\"\"\n",
    "\n",
    "    def __init__(self, processor: AutoProcessor, padding=True, max_length=None, max_length_labels=None, pad_to_multiple_of=None, pad_to_multiple_of_labels=None):\n",
    "        self.processor = processor\n",
    "        self.padding = padding\n",
    "        self.max_length = max_length\n",
    "        self.max_length_labels = max_length_labels\n",
    "        self.pad_to_multiple_of = pad_to_multiple_of\n",
    "        self.pad_to_multiple_of_labels = pad_to_multiple_of_labels\n",
    "\n",
    "    def __call__(self, features: \"list[dict[str, list[int] | torch.Tensor]]\") -> \"dict[str, torch.Tensor]\":\n",
    "        # split inputs and labels since they have to be of different lenghts and need\n",
    "        # different padding methods\n",
    "        input_features = [{\"input_values\": feature[\"input_values\"]} for feature in features]\n",
    "        label_features = [{\"input_ids\": feature[\"labels\"]} for feature in features]\n",
    "\n",
    "        # # CHECKING IF AUDIO TOKENIZATION IS CORRECT\n",
    "        # sample = features[0]\n",
    "        # # Tokenize the audio input using the processor\n",
    "        # input_values = self.processor(speech_data=sample[\"input_values\"], return_tensors=\"pt\")\n",
    "        # # Print the tokenized input\n",
    "        # print(\"input-values from simple self processor\", input_values)\n",
    "\n",
    "        batch = self.processor.pad(\n",
    "            input_features,\n",
    "            padding=self.padding,\n",
    "            max_length=self.max_length,\n",
    "            pad_to_multiple_of=self.pad_to_multiple_of,\n",
    "            return_tensors=\"pt\",\n",
    "        )\n",
    "        # print(\"input-features pt after processor.pad\", batch[\"input_values\"][0])\n",
    "        with self.processor.as_target_processor():\n",
    "            labels_batch = self.processor.pad(\n",
    "                label_features,\n",
    "                padding=self.padding,\n",
    "                max_length=self.max_length_labels,\n",
    "                pad_to_multiple_of=self.pad_to_multiple_of_labels,\n",
    "                return_tensors=\"pt\",\n",
    "            )\n",
    "        #  print(\"label batch verifying: \", labels_batch[\"input_ids\"])\n",
    "\n",
    "        # replace padding with -100 to ignore loss correctly\n",
    "        labels = labels_batch[\"input_ids\"].masked_fill(labels_batch.attention_mask.ne(1), -100)\n",
    "        # print(\"labels: \", labels)\n",
    "\n",
    "        batch[\"labels\"] = labels\n",
    "\n",
    "        return batch"
   ]
  },
  {
   "cell_type": "code",
   "execution_count": 33,
   "metadata": {},
   "outputs": [],
   "source": [
    "data_collator = DataCollatorCTCWithPadding(processor=processor, padding=True)"
   ]
  },
  {
   "cell_type": "code",
   "execution_count": 34,
   "metadata": {},
   "outputs": [],
   "source": [
    "def cer(pred, label):\n",
    "    distances = np.zeros((len(pred) + 1, len(label) + 1))\n",
    "\n",
    "    for t1 in range(len(pred) + 1):\n",
    "        distances[t1][0] = t1\n",
    "\n",
    "    for t2 in range(len(label) + 1):\n",
    "        distances[0][t2] = t2\n",
    "        \n",
    "    a = 0\n",
    "    b = 0\n",
    "    c = 0\n",
    "    \n",
    "    for t1 in range(1, len(pred) + 1):\n",
    "        for t2 in range(1, len(label) + 1):\n",
    "            if (pred[t1-1] == label[t2-1]):\n",
    "                distances[t1][t2] = distances[t1 - 1][t2 - 1]\n",
    "            else:\n",
    "                a = distances[t1][t2 - 1]\n",
    "                b = distances[t1 - 1][t2]\n",
    "                c = distances[t1 - 1][t2 - 1]\n",
    "                \n",
    "                if (a <= b and a <= c):\n",
    "                    distances[t1][t2] = a + 1\n",
    "                elif (b <= a and b <= c):\n",
    "                    distances[t1][t2] = b + 1\n",
    "                else:\n",
    "                    distances[t1][t2] = c + 1\n",
    "\n",
    "    return distances[len(pred)][len(label)] / len(label)"
   ]
  },
  {
   "cell_type": "code",
   "execution_count": 35,
   "metadata": {},
   "outputs": [],
   "source": [
    "\n",
    "def compute_metrics(pred):\n",
    "    pred_logits = pred.predictions\n",
    "    pred_ids = np.argmax(pred_logits, axis=-1)\n",
    "\n",
    "    pred.label_ids[pred.label_ids == -100] = processor.tokenizer.pad_token_id\n",
    "\n",
    "    pred_str = processor.batch_decode(pred_ids)\n",
    "    label_str = processor.batch_decode(pred.label_ids, group_tokens=False) # labels are already grouped as they should be\n",
    "\n",
    "    # Call panphon_model_eval with label and predictedipa\n",
    "    results = panphon_model_eval(label_str, pred_str)\n",
    "\n",
    "    # Output results\n",
    "    print(\"Evaluation Results:\")\n",
    "    print(f\"Feature edit distance: {results['feature_dist']}\")\n",
    "    print(f\"Weighted feature edit distance: {results['weighted_feature_dist']}\")\n",
    "    print(f\"Hamming distance: {results['hamming_feature_dist']}\")\n",
    "    print(f\"CER: {results['cer_score']}\")\n",
    "\n",
    "\n",
    "    return results"
   ]
  },
  {
   "cell_type": "code",
   "execution_count": 36,
   "metadata": {},
   "outputs": [],
   "source": [
    "model = AutoModelForCTC.from_pretrained(\n",
    "    PRE_TRAINED_ID, \n",
    "    pad_token_id=processor.tokenizer.pad_token_id, \n",
    "    # gradient_checkpointing=True,\n",
    "    ctc_zero_infinity = True\n",
    ")"
   ]
  },
  {
   "cell_type": "code",
   "execution_count": 37,
   "metadata": {},
   "outputs": [],
   "source": [
    "# model.resize_token_embeddings(len(tokenizer))\n",
    "old_weights = model.lm_head.weight.t().detach()\n",
    "old_bias = model.lm_head.bias.detach()\n",
    "new_layer = torch.nn.Linear(model.lm_head.in_features, len(processor.tokenizer))\n",
    "new_layer.weight.data[:model.lm_head.out_features, :] = old_weights.t()\n",
    "new_layer.bias.data[:model.lm_head.out_features] = old_bias\n",
    "model.lm_head = new_layer\n",
    "model.config.vocab_size = len(processor.tokenizer)"
   ]
  },
  {
   "cell_type": "code",
   "execution_count": 38,
   "metadata": {},
   "outputs": [],
   "source": [
    "model.freeze_feature_encoder()"
   ]
  },
  {
   "cell_type": "code",
   "execution_count": 39,
   "metadata": {},
   "outputs": [],
   "source": [
    "# sanity checks\n",
    "max_class_id = 0\n",
    "for label_sequence in train_ds_prepared['labels']:\n",
    "    for class_id in label_sequence:\n",
    "        max_class_id = max(max_class_id, class_id)\n",
    "assert max_class_id == model.config.vocab_size - 1\n",
    "\n",
    "for label_sequence in train_ds_prepared['labels']:\n",
    "    for class_id in label_sequence:\n",
    "        assert class_id >= 0 and class_id <  model.config.vocab_size\n",
    "\n",
    "for label_sequence in train_ds_prepared['labels']:\n",
    "    assert  len(label_sequence) < 1024\n",
    "    assert len(label_sequence) >= 5"
   ]
  },
  {
   "cell_type": "code",
   "execution_count": 40,
   "metadata": {},
   "outputs": [
    {
     "name": "stderr",
     "output_type": "stream",
     "text": [
      "\u001b[34m\u001b[1mwandb\u001b[0m: Using wandb-core as the SDK backend.  Please refer to https://wandb.me/wandb-core for more information.\n",
      "\u001b[34m\u001b[1mwandb\u001b[0m: Currently logged in as: \u001b[33maruna-sri\u001b[0m (\u001b[33maruna-team\u001b[0m). Use \u001b[1m`wandb login --relogin`\u001b[0m to force relogin\n"
     ]
    },
    {
     "data": {
      "text/html": [
       "Tracking run with wandb version 0.18.6"
      ],
      "text/plain": [
       "<IPython.core.display.HTML object>"
      ]
     },
     "metadata": {},
     "output_type": "display_data"
    },
    {
     "data": {
      "text/html": [
       "Run data is saved locally in <code>/home/arunasrivastava/ML/notebooks/wandb/run-20241117_035519-tx6p3z84</code>"
      ],
      "text/plain": [
       "<IPython.core.display.HTML object>"
      ]
     },
     "metadata": {},
     "output_type": "display_data"
    },
    {
     "data": {
      "text/html": [
       "Syncing run <strong><a href='https://wandb.ai/aruna-team/timit-finetune-a100/runs/tx6p3z84' target=\"_blank\">cerulean-haze-6</a></strong> to <a href='https://wandb.ai/aruna-team/timit-finetune-a100' target=\"_blank\">Weights & Biases</a> (<a href='https://wandb.me/developer-guide' target=\"_blank\">docs</a>)<br/>"
      ],
      "text/plain": [
       "<IPython.core.display.HTML object>"
      ]
     },
     "metadata": {},
     "output_type": "display_data"
    },
    {
     "data": {
      "text/html": [
       " View project at <a href='https://wandb.ai/aruna-team/timit-finetune-a100' target=\"_blank\">https://wandb.ai/aruna-team/timit-finetune-a100</a>"
      ],
      "text/plain": [
       "<IPython.core.display.HTML object>"
      ]
     },
     "metadata": {},
     "output_type": "display_data"
    },
    {
     "data": {
      "text/html": [
       " View run at <a href='https://wandb.ai/aruna-team/timit-finetune-a100/runs/tx6p3z84' target=\"_blank\">https://wandb.ai/aruna-team/timit-finetune-a100/runs/tx6p3z84</a>"
      ],
      "text/plain": [
       "<IPython.core.display.HTML object>"
      ]
     },
     "metadata": {},
     "output_type": "display_data"
    }
   ],
   "source": [
    "import wandb\n",
    "from transformers import TrainingArguments, Trainer\n",
    "\n",
    "# Initialize wandb\n",
    "wandb.init(project=\"timit-finetune-a100\")\n",
    "\n",
    "training_args = TrainingArguments(\n",
    "    output_dir=OUTPUT_DIR,\n",
    "    group_by_length=True,\n",
    "    per_device_train_batch_size=8,\n",
    "    gradient_accumulation_steps=4,\n",
    "    eval_strategy=\"steps\",\n",
    "    num_train_epochs=5,\n",
    "    fp16=True,\n",
    "    save_steps=50,\n",
    "    eval_steps=50,\n",
    "    logging_steps=10,\n",
    "    learning_rate=1e-5,\n",
    "    warmup_steps=1000,\n",
    "    save_total_limit=3,\n",
    "    gradient_checkpointing=True,\n",
    "    load_best_model_at_end=True,\n",
    "    max_grad_norm=0.5,\n",
    "    report_to=\"wandb\" \n",
    ")"
   ]
  },
  {
   "cell_type": "code",
   "execution_count": 41,
   "metadata": {},
   "outputs": [],
   "source": [
    "from transformers import Trainer\n",
    "\n",
    "trainer = Trainer(\n",
    "    model=model,\n",
    "    data_collator=data_collator,\n",
    "    args=training_args,\n",
    "    compute_metrics=compute_metrics,\n",
    "    train_dataset=train_ds_prepared.select(range(10)),\n",
    "    # train_dataset=train_ds_prepared,\n",
    "    eval_dataset=test_ds_prepared.select(range(10)),\n",
    "    # eval_dataset=test_ds_prepared,\n",
    "    processing_class=processor.feature_extractor,\n",
    ")"
   ]
  },
  {
   "cell_type": "code",
   "execution_count": 42,
   "metadata": {},
   "outputs": [
    {
     "name": "stderr",
     "output_type": "stream",
     "text": [
      "\u001b[34m\u001b[1mwandb\u001b[0m: \u001b[33mWARNING\u001b[0m The `run_name` is currently set to the same value as `TrainingArguments.output_dir`. If this was not intended, please specify a different run name by setting the `TrainingArguments.run_name` parameter.\n",
      "/home/arunasrivastava/ML/venv/lib/python3.8/site-packages/transformers/models/wav2vec2/processing_wav2vec2.py:174: UserWarning: `as_target_processor` is deprecated and will be removed in v5 of Transformers. You can process your labels by using the argument `text` of the regular `__call__` method (either in the same call as your audio inputs, or in a separate call.\n",
      "  warnings.warn(\n",
      "/home/arunasrivastava/ML/venv/lib/python3.8/site-packages/torch/utils/checkpoint.py:295: FutureWarning: `torch.cpu.amp.autocast(args...)` is deprecated. Please use `torch.amp.autocast('cpu', args...)` instead.\n",
      "  with torch.enable_grad(), device_autocast_ctx, torch.cpu.amp.autocast(**ctx.cpu_autocast_kwargs):  # type: ignore[attr-defined]\n"
     ]
    },
    {
     "data": {
      "text/html": [
       "\n",
       "    <div>\n",
       "      \n",
       "      <progress value='5' max='5' style='width:300px; height:20px; vertical-align: middle;'></progress>\n",
       "      [5/5 00:34, Epoch 5/5]\n",
       "    </div>\n",
       "    <table border=\"1\" class=\"dataframe\">\n",
       "  <thead>\n",
       " <tr style=\"text-align: left;\">\n",
       "      <th>Step</th>\n",
       "      <th>Training Loss</th>\n",
       "      <th>Validation Loss</th>\n",
       "    </tr>\n",
       "  </thead>\n",
       "  <tbody>\n",
       "  </tbody>\n",
       "</table><p>"
      ],
      "text/plain": [
       "<IPython.core.display.HTML object>"
      ]
     },
     "metadata": {},
     "output_type": "display_data"
    },
    {
     "data": {
      "text/plain": [
       "TrainOutput(global_step=5, training_loss=6421.801953125, metrics={'train_runtime': 43.0952, 'train_samples_per_second': 1.16, 'train_steps_per_second': 0.116, 'total_flos': 4488795856570500.0, 'train_loss': 6421.801953125, 'epoch': 5.0})"
      ]
     },
     "execution_count": 42,
     "metadata": {},
     "output_type": "execute_result"
    }
   ],
   "source": [
    "# torch.autograd.set_detect_anomaly(False) # debug NaNs, disable for real training to improve performance\n",
    "# model.config.ctc_zero_infinity = True \n",
    "#resume_from_checkpoint=True\n",
    "trainer.train() # resume_from_checkpoint=True to resume training if training was interrupted"
   ]
  },
  {
   "cell_type": "markdown",
   "metadata": {},
   "source": [
    "# Evaluate"
   ]
  },
  {
   "cell_type": "code",
   "execution_count": 43,
   "metadata": {},
   "outputs": [
    {
     "name": "stderr",
     "output_type": "stream",
     "text": [
      "Trainer.tokenizer is now deprecated. You should use Trainer.processing_class instead.\n",
      "Trainer.tokenizer is now deprecated. You should use Trainer.processing_class instead.\n",
      "/home/arunasrivastava/ML/venv/lib/python3.8/site-packages/transformers/models/wav2vec2/processing_wav2vec2.py:174: UserWarning: `as_target_processor` is deprecated and will be removed in v5 of Transformers. You can process your labels by using the argument `text` of the regular `__call__` method (either in the same call as your audio inputs, or in a separate call.\n",
      "  warnings.warn(\n"
     ]
    },
    {
     "data": {
      "text/html": [
       "\n",
       "    <div>\n",
       "      \n",
       "      <progress value='2' max='2' style='width:300px; height:20px; vertical-align: middle;'></progress>\n",
       "      [2/2 00:00]\n",
       "    </div>\n",
       "    "
      ],
      "text/plain": [
       "<IPython.core.display.HTML object>"
      ]
     },
     "metadata": {},
     "output_type": "display_data"
    },
    {
     "name": "stderr",
     "output_type": "stream",
     "text": [
      "/home/arunasrivastava/ML/venv/lib/python3.8/site-packages/panphon/distance.py:73: YAMLLoadWarning: calling yaml.load() without Loader=... is deprecated, as the default Loader is unsafe. Please read https://msg.pyyaml.org/load for full details.\n",
      "  dogol_prime = yaml.load(f.read())\n"
     ]
    },
    {
     "name": "stdout",
     "output_type": "stream",
     "text": [
      "Evaluation Results:\n",
      "Feature edit distance: 984.0454545454446\n",
      "Weighted feature edit distance: 7607.25\n",
      "Hamming distance: 1052.5454545454538\n",
      "CER: 1.0\n"
     ]
    }
   ],
   "source": [
    "import wandb\n",
    "eval_results = trainer.evaluate()\n",
    "wandb.log(eval_results)"
   ]
  },
  {
   "cell_type": "code",
   "execution_count": 44,
   "metadata": {},
   "outputs": [],
   "source": [
    "old_model = AutoModelForCTC.from_pretrained(PRE_TRAINED_ID).to(model.device)"
   ]
  },
  {
   "cell_type": "code",
   "execution_count": 45,
   "metadata": {},
   "outputs": [],
   "source": [
    "finetuned_model = AutoModelForCTC.from_pretrained(os.path.join(OUTPUT_DIR, 'checkpoint-100'))"
   ]
  },
  {
   "cell_type": "code",
   "execution_count": 46,
   "metadata": {},
   "outputs": [],
   "source": [
    "# check for nan weights and replace with old values if any\n",
    "for name, param in finetuned_model.named_parameters():\n",
    "    if torch.isnan(param).any():\n",
    "        print(name)\n",
    "        param.data = old_model.state_dict()[name].data"
   ]
  },
  {
   "cell_type": "code",
   "execution_count": 47,
   "metadata": {},
   "outputs": [
    {
     "name": "stdout",
     "output_type": "stream",
     "text": [
      "Weights are different, training did something\n"
     ]
    }
   ],
   "source": [
    "# compare weights\n",
    "is_diff = False\n",
    "for name, param in finetuned_model.named_parameters():\n",
    "    if not torch.equal(param, old_model.state_dict()[name].to(finetuned_model.device)):\n",
    "        is_diff = True\n",
    "        break\n",
    "print(\"Weights are different, training did something\" if is_diff else \"Weights are the same, training did nothing\")"
   ]
  },
  {
   "cell_type": "code",
   "execution_count": 48,
   "metadata": {},
   "outputs": [],
   "source": [
    "def predict(model, wav_file):\n",
    "    speech = audio_file_to_array(wav_file)\n",
    "    input_values = processor(speech, sampling_rate=16000, return_tensors=\"pt\").input_values.type(torch.float32).to(model.device)\n",
    "\n",
    "    with torch.no_grad():\n",
    "        logits = model(input_values).logits\n",
    "\n",
    "    predicted_ids = torch.argmax(logits, dim=-1)\n",
    "    return processor.decode(predicted_ids[0])\n",
    "    "
   ]
  },
  {
   "cell_type": "code",
   "execution_count": 49,
   "metadata": {},
   "outputs": [
    {
     "name": "stdout",
     "output_type": "stream",
     "text": [
      "Checkpoint Transcription: h ɛ l oʊ æ l ɪ k s ɪ z ɛ k s t ɾ ɹ ə k ə n f iː l ʊ s t\n"
     ]
    }
   ],
   "source": [
    "print('Checkpoint Transcription:', predict(finetuned_model, os.path.join('..', 'data', 'alexIsConfused.wav')))"
   ]
  },
  {
   "cell_type": "code",
   "execution_count": 50,
   "metadata": {},
   "outputs": [
    {
     "name": "stdout",
     "output_type": "stream",
     "text": [
      "Best Fine-Tune Transcription: h ɛ l oʊ æ l ɪ k s ɪ z ɛ k s t ɾ ɹ ə k ə n f iː l ʊ s t\n"
     ]
    }
   ],
   "source": [
    "print('Best Fine-Tune Transcription:', predict(trainer.model, os.path.join('..', 'data', 'alexIsConfused.wav')))"
   ]
  },
  {
   "cell_type": "code",
   "execution_count": 51,
   "metadata": {},
   "outputs": [
    {
     "name": "stdout",
     "output_type": "stream",
     "text": [
      "Best Fine-Tune Transcription: h ɛ l oʊ æ l ɪ k s ɪ z ɛ k s t ɾ ɹ ə k ə n f iː l ʊ s t\n"
     ]
    }
   ],
   "source": [
    "print('Best Fine-Tune Transcription:', predict(trainer.model, os.path.join('..', 'data', 'alexIsConfused.wav')))"
   ]
  },
  {
   "cell_type": "code",
   "execution_count": 52,
   "metadata": {},
   "outputs": [
    {
     "name": "stdout",
     "output_type": "stream",
     "text": [
      "Old Transcription: h ɛ l oʊ æ l ɪ k s ɪ z ɛ k s t ɾ ɹ ə k ə n f iː l ʊ s t\n"
     ]
    }
   ],
   "source": [
    "print('Old Transcription:', predict(old_model, os.path.join('..', 'data', 'alexIsConfused.wav')))"
   ]
  },
  {
   "cell_type": "code",
   "execution_count": 53,
   "metadata": {},
   "outputs": [],
   "source": [
    "# import wandb\n",
    "\n",
    "# sweep_config = {\n",
    "#     'method': 'bayes',  # Or 'grid' or 'random'\n",
    "#     'metric': {'name': 'loss', 'goal': 'minimize'},\n",
    "#     'parameters': {\n",
    "#         'learning_rate': {'min': 1e-8, 'max': 5e-6, 'distribution': 'log_uniform_values'},\n",
    "#         'per_device_train_batch_size': {'values': [4, 8, 16]},\n",
    "#         'num_train_epochs': {'values': [3, 5, 10]},\n",
    "#     }\n",
    "# }\n",
    "\n",
    "# sweep_id = wandb.sweep(sweep_config, project=\"timit-finetune-hyperparam\")\n",
    "\n",
    "# from transformers import TrainingArguments, Trainer\n",
    "\n",
    "# def train():\n",
    "#     # Initialize a new wandb run\n",
    "#     wandb.init()\n",
    "\n",
    "#     # Set up training arguments, pulling values from wandb.config\n",
    "#     training_args = TrainingArguments(\n",
    "#         output_dir=OUTPUT_DIR,\n",
    "#         group_by_length=True,\n",
    "#         per_device_train_batch_size=wandb.config.per_device_train_batch_size,\n",
    "#         gradient_accumulation_steps=4,\n",
    "#         eval_strategy=\"steps\",\n",
    "#         num_train_epochs=wandb.config.num_train_epochs,\n",
    "#         fp16=True,\n",
    "#         save_steps=50,\n",
    "#         eval_steps=50,\n",
    "#         logging_steps=10,\n",
    "#         learning_rate=wandb.config.learning_rate,\n",
    "#         warmup_steps=1000,\n",
    "#         save_total_limit=3,\n",
    "#         gradient_checkpointing=True,\n",
    "#         load_best_model_at_end=True,\n",
    "#         max_grad_norm=1.0,\n",
    "#         report_to=\"wandb\"\n",
    "#     )\n",
    "\n",
    "#     trainer = Trainer(\n",
    "#         model=model,\n",
    "#         data_collator=data_collator,\n",
    "#         args=training_args,\n",
    "#         compute_metrics=compute_metrics,\n",
    "#         train_dataset=train_ds_prepared,\n",
    "#         eval_dataset=test_ds_prepared,\n",
    "#         processing_class=processor.feature_extractor,\n",
    "#     )\n",
    "\n",
    "#     # Run training and automatically log results to W&B\n",
    "#     trainer.train()\n",
    "\n",
    "#     # Ensure to log any additional evaluation metrics\n",
    "#     eval_metrics = trainer.evaluate()\n",
    "#     wandb.log(eval_metrics)\n",
    "\n",
    "\n",
    "\n",
    "# wandb.agent(sweep_id, train, count=5)\n"
   ]
  },
  {
   "cell_type": "code",
   "execution_count": 54,
   "metadata": {},
   "outputs": [],
   "source": [
    "# import wandb\n",
    "# import optuna\n",
    "# from transformers import TrainingArguments, Trainer\n",
    "\n",
    "# # Initialize wandb\n",
    "# wandb.init(project=\"hyperparam\")\n",
    "\n",
    "# def model_init():\n",
    "#     return model\n",
    "\n",
    "# def objective(trial):\n",
    "#     # Define the hyperparameters to tune\n",
    "#     learning_rate = trial.suggest_float(\"learning_rate\", 1e-8, 1e-7, log=True)\n",
    "#     per_device_train_batch_size = trial.suggest_categorical(\"per_device_train_batch_size\", [2, 4, 8])\n",
    "#     num_train_epochs = trial.suggest_int(\"num_train_epochs\", 5, 10, 15)\n",
    "\n",
    "#     # Update training arguments with dynamic hyperparameters\n",
    "#     training_args = TrainingArguments(\n",
    "#         output_dir=OUTPUT_DIR,\n",
    "#         run_name=\"hyperparam-searchC\",  # Set a unique run name\n",
    "#         group_by_length=True,\n",
    "#         per_device_train_batch_size=per_device_train_batch_size,\n",
    "#         gradient_accumulation_steps=4,\n",
    "#         evaluation_strategy=\"steps\",\n",
    "#         num_train_epochs=num_train_epochs,\n",
    "#         fp16=True,\n",
    "#         save_steps=100,\n",
    "#         eval_steps=100,\n",
    "#         logging_steps=100,\n",
    "#         learning_rate=learning_rate,\n",
    "#         warmup_steps=1000,\n",
    "#         save_total_limit=3,\n",
    "#         gradient_checkpointing=True,\n",
    "#         load_best_model_at_end=True,\n",
    "#         max_grad_norm=1.0,\n",
    "#         report_to=\"wandb\"  # Report to WandB\n",
    "#     )\n",
    "\n",
    "#     # Set up the trainer with the training arguments and datasets\n",
    "#     trainer = Trainer(\n",
    "#         model_init=model_init,\n",
    "#         args=training_args,\n",
    "#         data_collator=data_collator,\n",
    "#         compute_metrics=compute_metrics,\n",
    "#         train_dataset=train_ds_prepared.select(range(100)),  # Use a subset for faster experimentation\n",
    "#         eval_dataset=test_ds_prepared.select(range(100)),\n",
    "#         processing_class=processor.feature_extractor,\n",
    "#     )\n",
    "\n",
    "#     # Disable anomaly detection for better performance\n",
    "#     torch.autograd.set_detect_anomaly(False)\n",
    "#     # model.config.ctc_zero_infinity = True  # Uncomment if needed for CTC models\n",
    "\n",
    "#     # Train the model for this trial\n",
    "#     result = trainer.train()  # Set resume_from_checkpoint=True if resuming is required\n",
    "\n",
    "#     # Return the final training loss for Optuna to minimize\n",
    "#     return result.training_loss\n",
    "\n",
    "# # Perform hyperparameter search with updated search space\n",
    "# study = optuna.create_study(direction=\"minimize\")\n",
    "# study.optimize(objective, n_trials=10)\n",
    "\n",
    "# # Print the best hyperparameters\n",
    "# print(\"Best hyperparameters: \", study.best_params)\n"
   ]
  },
  {
   "cell_type": "code",
   "execution_count": null,
   "metadata": {},
   "outputs": [],
   "source": []
  }
 ],
 "metadata": {
  "kernelspec": {
   "display_name": "venv",
   "language": "python",
   "name": "python3"
  },
  "language_info": {
   "codemirror_mode": {
    "name": "ipython",
    "version": 3
   },
   "file_extension": ".py",
   "mimetype": "text/x-python",
   "name": "python",
   "nbconvert_exporter": "python",
   "pygments_lexer": "ipython3",
   "version": "3.8.10"
  }
 },
 "nbformat": 4,
 "nbformat_minor": 2
}
