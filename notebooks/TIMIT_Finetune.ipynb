{
 "cells": [
  {
   "cell_type": "code",
   "execution_count": 1,
   "metadata": {},
   "outputs": [
    {
     "name": "stderr",
     "output_type": "stream",
     "text": [
      "/home/arunasrivastava/ML/venv/lib/python3.8/site-packages/tqdm/auto.py:21: TqdmWarning: IProgress not found. Please update jupyter and ipywidgets. See https://ipywidgets.readthedocs.io/en/stable/user_install.html\n",
      "  from .autonotebook import tqdm as notebook_tqdm\n"
     ]
    }
   ],
   "source": [
    "import numpy as np\n",
    "import zipfile\n",
    "from datasets import Dataset\n",
    "import pandas as pd\n",
    "\n",
    "import os\n",
    "# run as much as possible accelerated by apple silicon, fall back to cpu if not possible\n",
    "os.environ[\"PYTORCH_ENABLE_MPS_FALLBACK\"] = \"1\"\n",
    "import torch\n",
    "\n",
    "import sys\n",
    "sys.path.append('..')\n",
    "from scripts.audio import audio_file_to_array\n",
    "from scripts.ipa import timit2ipa\n",
    "from scripts.ipa import filter_chars"
   ]
  },
  {
   "cell_type": "code",
   "execution_count": 2,
   "metadata": {},
   "outputs": [],
   "source": [
    "import sys, os\n",
    "sys.path.append('..')\n",
    "from scripts.eval_tests.panphon_model_eval import panphon_model_eval "
   ]
  },
  {
   "cell_type": "code",
   "execution_count": 3,
   "metadata": {},
   "outputs": [],
   "source": [
    "# set espeak library path for macOS\n",
    "if sys.platform == \"darwin\":\n",
    "    from phonemizer.backend.espeak.wrapper import EspeakWrapper\n",
    "\n",
    "    _ESPEAK_LIBRARY = \"/opt/homebrew/Cellar/espeak/1.48.04_1/lib/libespeak.1.1.48.dylib\"\n",
    "    EspeakWrapper.set_library(_ESPEAK_LIBRARY)"
   ]
  },
  {
   "cell_type": "code",
   "execution_count": 4,
   "metadata": {},
   "outputs": [],
   "source": [
    "from transformers import AutoProcessor, AutoModelForCTC, AutoTokenizer, AutoFeatureExtractor"
   ]
  },
  {
   "cell_type": "code",
   "execution_count": 5,
   "metadata": {},
   "outputs": [],
   "source": [
    "OUTPUT_DIR = os.path.join('..', 'models', 'timit-xlsr-finetune-B')\n",
    "PRE_TRAINED_ID = \"ginic/data_seed_4_wav2vec2-large-xlsr-buckeye-ipa\""
   ]
  },
  {
   "cell_type": "markdown",
   "metadata": {},
   "source": [
    "# Load Data"
   ]
  },
  {
   "cell_type": "code",
   "execution_count": 6,
   "metadata": {},
   "outputs": [],
   "source": [
    "timit = zipfile.ZipFile('../.data/TIMIT.zip', 'r')\n",
    "timit_files = timit.namelist()"
   ]
  },
  {
   "cell_type": "code",
   "execution_count": 7,
   "metadata": {},
   "outputs": [],
   "source": [
    "training_files = list(set(map(lambda x: x.split('.')[0], filter(lambda x: x.startswith('data/TRAIN'), timit_files))))"
   ]
  },
  {
   "cell_type": "code",
   "execution_count": 8,
   "metadata": {},
   "outputs": [],
   "source": [
    "WAV_HEADER_SIZE = 44\n",
    "def zipped_wav_to_array(filename):\n",
    "    with timit.open(filename) as wav_file:\n",
    "        return np.frombuffer(wav_file.read(), dtype=np.int16)[WAV_HEADER_SIZE//2:]"
   ]
  },
  {
   "cell_type": "code",
   "execution_count": 9,
   "metadata": {},
   "outputs": [
    {
     "data": {
      "text/html": [
       "<div>\n",
       "<style scoped>\n",
       "    .dataframe tbody tr th:only-of-type {\n",
       "        vertical-align: middle;\n",
       "    }\n",
       "\n",
       "    .dataframe tbody tr th {\n",
       "        vertical-align: top;\n",
       "    }\n",
       "\n",
       "    .dataframe thead th {\n",
       "        text-align: right;\n",
       "    }\n",
       "</style>\n",
       "<table border=\"1\" class=\"dataframe\">\n",
       "  <thead>\n",
       "    <tr style=\"text-align: right;\">\n",
       "      <th></th>\n",
       "      <th>audio</th>\n",
       "      <th>ipa</th>\n",
       "      <th>phoneme_starts</th>\n",
       "      <th>phoneme_ends</th>\n",
       "    </tr>\n",
       "  </thead>\n",
       "  <tbody>\n",
       "    <tr>\n",
       "      <th>0</th>\n",
       "      <td>[25971, 30303, 29285, 26995, 28271, 11552, 131...</td>\n",
       "      <td>ʔittʃɹɹeɪznzaʊtɔɹzɔnəpɔɹttʃstɛps</td>\n",
       "      <td>[0, 2250, 2725, 3520, 4000, 5389, 6224, 6976, ...</td>\n",
       "      <td>[2250, 2725, 3520, 4000, 5389, 6224, 6976, 977...</td>\n",
       "    </tr>\n",
       "    <tr>\n",
       "      <th>1</th>\n",
       "      <td>[25971, 30303, 29285, 26995, 28271, 11552, 131...</td>\n",
       "      <td>itnaʊʃilʊkʔʌɡli</td>\n",
       "      <td>[0, 2120, 2327, 2860, 3456, 4840, 7564, 9725, ...</td>\n",
       "      <td>[2120, 2327, 2860, 3456, 4840, 7564, 9725, 105...</td>\n",
       "    </tr>\n",
       "    <tr>\n",
       "      <th>2</th>\n",
       "      <td>[25971, 30303, 29285, 26995, 28271, 11552, 131...</td>\n",
       "      <td>ʃihædjɹdɑɹksuɾinɡɹisiwɔʃwɔɾɹɔljiɹ</td>\n",
       "      <td>[0, 2339, 3960, 5138, 6224, 8062, 8550, 9024, ...</td>\n",
       "      <td>[2339, 3960, 5138, 6224, 8062, 8550, 9024, 960...</td>\n",
       "    </tr>\n",
       "    <tr>\n",
       "      <th>3</th>\n",
       "      <td>[25971, 30303, 29285, 26995, 28271, 11552, 131...</td>\n",
       "      <td>wʌnmɔɹmʌɾlhɛɾɪdleɪlaɪkðæwʌnɪnðeɪdiliɾiŋhɪməweɪ</td>\n",
       "      <td>[0, 4804, 5514, 6934, 7644, 8522, 10227, 11080...</td>\n",
       "      <td>[4804, 5514, 6934, 7644, 8522, 10227, 11080, 1...</td>\n",
       "    </tr>\n",
       "    <tr>\n",
       "      <th>4</th>\n",
       "      <td>[25971, 30303, 29285, 26995, 28271, 11552, 131...</td>\n",
       "      <td>ðiʔɛmpɹihæɾimintɛmpɹ</td>\n",
       "      <td>[0, 2231, 2834, 3757, 5045, 6023, 6825, 7070, ...</td>\n",
       "      <td>[2231, 2834, 3757, 5045, 6023, 6825, 7070, 795...</td>\n",
       "    </tr>\n",
       "  </tbody>\n",
       "</table>\n",
       "</div>"
      ],
      "text/plain": [
       "                                               audio  \\\n",
       "0  [25971, 30303, 29285, 26995, 28271, 11552, 131...   \n",
       "1  [25971, 30303, 29285, 26995, 28271, 11552, 131...   \n",
       "2  [25971, 30303, 29285, 26995, 28271, 11552, 131...   \n",
       "3  [25971, 30303, 29285, 26995, 28271, 11552, 131...   \n",
       "4  [25971, 30303, 29285, 26995, 28271, 11552, 131...   \n",
       "\n",
       "                                              ipa  \\\n",
       "0                ʔittʃɹɹeɪznzaʊtɔɹzɔnəpɔɹttʃstɛps   \n",
       "1                                 itnaʊʃilʊkʔʌɡli   \n",
       "2               ʃihædjɹdɑɹksuɾinɡɹisiwɔʃwɔɾɹɔljiɹ   \n",
       "3  wʌnmɔɹmʌɾlhɛɾɪdleɪlaɪkðæwʌnɪnðeɪdiliɾiŋhɪməweɪ   \n",
       "4                            ðiʔɛmpɹihæɾimintɛmpɹ   \n",
       "\n",
       "                                      phoneme_starts  \\\n",
       "0  [0, 2250, 2725, 3520, 4000, 5389, 6224, 6976, ...   \n",
       "1  [0, 2120, 2327, 2860, 3456, 4840, 7564, 9725, ...   \n",
       "2  [0, 2339, 3960, 5138, 6224, 8062, 8550, 9024, ...   \n",
       "3  [0, 4804, 5514, 6934, 7644, 8522, 10227, 11080...   \n",
       "4  [0, 2231, 2834, 3757, 5045, 6023, 6825, 7070, ...   \n",
       "\n",
       "                                        phoneme_ends  \n",
       "0  [2250, 2725, 3520, 4000, 5389, 6224, 6976, 977...  \n",
       "1  [2120, 2327, 2860, 3456, 4840, 7564, 9725, 105...  \n",
       "2  [2339, 3960, 5138, 6224, 8062, 8550, 9024, 960...  \n",
       "3  [4804, 5514, 6934, 7644, 8522, 10227, 11080, 1...  \n",
       "4  [2231, 2834, 3757, 5045, 6023, 6825, 7070, 795...  "
      ]
     },
     "execution_count": 9,
     "metadata": {},
     "output_type": "execute_result"
    }
   ],
   "source": [
    "# First, ensure that the simplify_timit function is available and works\n",
    "def simplify_timit(phoneme):\n",
    "    # Substitute the phoneme based on the dictionary\n",
    "    substitution_dict = {\n",
    "        'ɾ̃': 'ɾ',  # Replace nasalized flap with plain flap\n",
    "        'ŋ̍': 'ŋ',  # Remove syllabic marker from 'ŋ̍'\n",
    "        'ə̥': 'ə',  # Remove voiceless marker from 'ə̥'\n",
    "        'ɝ': 'ɹ',   # Simplify rhotacized schwa to 'ɹ'\n",
    "        'ɚ': 'ɹ',   # Simplify rhotacized schwa to 'ɹ'\n",
    "        'l̩': 'l',   # Remove syllabic marker from 'l̩'\n",
    "        'm̩': 'm',   # Remove syllabic marker from 'm̩'\n",
    "        'n̩': 'n',   # Remove syllabic marker from 'n̩'\n",
    "        '̩': '',     # Remove syllabic marker\n",
    "        'ʉ': 'u',    # Replace high central rounded vowel with high back rounded vowel\n",
    "        'ɨ': 'i',    # Replace high central unrounded vowel with high front unrounded vowel\n",
    "        ' ': '',     # Remove nasalization marker\n",
    "        'ɦ': 'h',    # Replace voiceless glottal fricative with voiceless glottal fricative\n",
    "        '͡': '', # Simplify affricate to single character\n",
    "        # Add other necessary substitutions if needed\n",
    "    }\n",
    "    # Apply the substitution for the phoneme\n",
    "    return substitution_dict.get(phoneme, phoneme)  # Return simplified phoneme or the original if no replacement\n",
    "\n",
    "def remove_stress_mark(text):\n",
    "    \"\"\"\n",
    "    Removes the combining double inverted breve (͡) from text.\n",
    "    \n",
    "    Args:\n",
    "        text: String or iterable containing IPA symbols\n",
    "        \n",
    "    Returns:\n",
    "        Text with stress marks removed\n",
    "    \"\"\"\n",
    "    if isinstance(text, str):\n",
    "        return text.replace('͡', '')\n",
    "    else:\n",
    "        raise TypeError(\"Input must be string, set, or list\")\n",
    "    \n",
    "# Updated timit_file_to_dict to use the simplified IPA phonemes\n",
    "def timit_file_to_dict(filename):\n",
    "    with timit.open(filename + '.PHN') as phn_file:\n",
    "        timestamped_phonemes = []\n",
    "        for line in phn_file.read().decode('utf-8').split('\\n'):\n",
    "            if line == '':\n",
    "                continue\n",
    "            start, end, phoneme = line.split()\n",
    "            \n",
    "            # Convert to IPA first and then simplify the phoneme\n",
    "            ipa_phonemes = timit2ipa(phoneme, \"eng\")\n",
    "            \n",
    "            # Now filter only the necessary characters (this simplifies the phoneme to the basic form)\n",
    "            cleaned_ipa = filter_chars(simplify_timit(ipa_phonemes), filter_type=\"letters\")\n",
    "            cleaned_ipa = remove_stress_mark(cleaned_ipa)\n",
    "            timestamped_phonemes.append((cleaned_ipa, int(start), int(end)))\n",
    "\n",
    "    return {'timestamped_phonemes': timestamped_phonemes, 'wav_filename': filename + '.WAV'}\n",
    "\n",
    "# Updated files_to_df to create DataFrame with cleaned-up phonemes\n",
    "def files_to_df(files):\n",
    "    records = []\n",
    "    for filename in files:\n",
    "        parsed = timit_file_to_dict(filename)\n",
    "        parsed['audio'] = zipped_wav_to_array(parsed['wav_filename'])\n",
    "        del parsed['wav_filename']\n",
    "        parsed['ipa'] = \"\".join(phoneme for phoneme, _, _ in parsed['timestamped_phonemes'])\n",
    "        parsed['phoneme_starts'] = [start for _, start, _ in parsed['timestamped_phonemes']]\n",
    "        parsed['phoneme_ends'] = [end for _, _, end in parsed['timestamped_phonemes']]\n",
    "        del parsed['timestamped_phonemes']\n",
    "        records.append(parsed)\n",
    "    return pd.DataFrame(records)\n",
    "\n",
    "# Call files_to_df for your test files\n",
    "train_df = files_to_df(training_files)\n",
    "train_df.head()\n"
   ]
  },
  {
   "cell_type": "markdown",
   "metadata": {},
   "source": [
    "### Cleaning Up Audio"
   ]
  },
  {
   "cell_type": "code",
   "execution_count": 10,
   "metadata": {},
   "outputs": [],
   "source": [
    "def crop_audio(row):\n",
    "    # Access the phoneme_starts column and get the last value of the list\n",
    "    end = row['phoneme_starts'][-1]\n",
    "    # Access the phoneme_ends column and get the first value of the list\n",
    "    start = row['phoneme_ends'][0]\n",
    "    # Crop the audio from start to end\n",
    "    # note that start and end are in samples, not seconds\n",
    "    cropped_audio = row['audio'][start:end]\n",
    "    \n",
    "    return cropped_audio"
   ]
  },
  {
   "cell_type": "code",
   "execution_count": 11,
   "metadata": {},
   "outputs": [
    {
     "data": {
      "image/png": "[encoded data removed]",
      "text/plain": [
       "<Figure size 640x480 with 1 Axes>"
      ]
     },
     "metadata": {},
     "output_type": "display_data"
    }
   ],
   "source": [
    "# graph one audio to see start signal that we will remove\n",
    "import matplotlib.pyplot as plt\n",
    "plt.plot(train_df['audio'][0])\n",
    "plt.show()"
   ]
  },
  {
   "cell_type": "code",
   "execution_count": 12,
   "metadata": {},
   "outputs": [
    {
     "data": {
      "text/html": [
       "<div>\n",
       "<style scoped>\n",
       "    .dataframe tbody tr th:only-of-type {\n",
       "        vertical-align: middle;\n",
       "    }\n",
       "\n",
       "    .dataframe tbody tr th {\n",
       "        vertical-align: top;\n",
       "    }\n",
       "\n",
       "    .dataframe thead th {\n",
       "        text-align: right;\n",
       "    }\n",
       "</style>\n",
       "<table border=\"1\" class=\"dataframe\">\n",
       "  <thead>\n",
       "    <tr style=\"text-align: right;\">\n",
       "      <th></th>\n",
       "      <th>audio</th>\n",
       "      <th>ipa</th>\n",
       "      <th>phoneme_starts</th>\n",
       "      <th>phoneme_ends</th>\n",
       "      <th>cropped_audio</th>\n",
       "    </tr>\n",
       "  </thead>\n",
       "  <tbody>\n",
       "    <tr>\n",
       "      <th>0</th>\n",
       "      <td>[25971, 30303, 29285, 26995, 28271, 11552, 131...</td>\n",
       "      <td>ʔittʃɹɹeɪznzaʊtɔɹzɔnəpɔɹttʃstɛps</td>\n",
       "      <td>[0, 2250, 2725, 3520, 4000, 5389, 6224, 6976, ...</td>\n",
       "      <td>[2250, 2725, 3520, 4000, 5389, 6224, 6976, 977...</td>\n",
       "      <td>[5, 3, 4, 5, 1, 3, 1, 5, 4, 7, 4, 5, 5, 0, 8, ...</td>\n",
       "    </tr>\n",
       "    <tr>\n",
       "      <th>1</th>\n",
       "      <td>[25971, 30303, 29285, 26995, 28271, 11552, 131...</td>\n",
       "      <td>itnaʊʃilʊkʔʌɡli</td>\n",
       "      <td>[0, 2120, 2327, 2860, 3456, 4840, 7564, 9725, ...</td>\n",
       "      <td>[2120, 2327, 2860, 3456, 4840, 7564, 9725, 105...</td>\n",
       "      <td>[5, 5, 5, 5, 5, 5, 5, 5, 3, 4, 5, 5, 5, 5, 5, ...</td>\n",
       "    </tr>\n",
       "    <tr>\n",
       "      <th>2</th>\n",
       "      <td>[25971, 30303, 29285, 26995, 28271, 11552, 131...</td>\n",
       "      <td>ʃihædjɹdɑɹksuɾinɡɹisiwɔʃwɔɾɹɔljiɹ</td>\n",
       "      <td>[0, 2339, 3960, 5138, 6224, 8062, 8550, 9024, ...</td>\n",
       "      <td>[2339, 3960, 5138, 6224, 8062, 8550, 9024, 960...</td>\n",
       "      <td>[3, 5, 2, 5, 4, 7, 6, 4, 3, 3, 1, 0, 1, 2, -1,...</td>\n",
       "    </tr>\n",
       "    <tr>\n",
       "      <th>3</th>\n",
       "      <td>[25971, 30303, 29285, 26995, 28271, 11552, 131...</td>\n",
       "      <td>wʌnmɔɹmʌɾlhɛɾɪdleɪlaɪkðæwʌnɪnðeɪdiliɾiŋhɪməweɪ</td>\n",
       "      <td>[0, 4804, 5514, 6934, 7644, 8522, 10227, 11080...</td>\n",
       "      <td>[4804, 5514, 6934, 7644, 8522, 10227, 11080, 1...</td>\n",
       "      <td>[4, 4, 5, 1, 4, 3, 2, 1, 0, 0, -1, -1, -1, -4,...</td>\n",
       "    </tr>\n",
       "    <tr>\n",
       "      <th>4</th>\n",
       "      <td>[25971, 30303, 29285, 26995, 28271, 11552, 131...</td>\n",
       "      <td>ðiʔɛmpɹihæɾimintɛmpɹ</td>\n",
       "      <td>[0, 2231, 2834, 3757, 5045, 6023, 6825, 7070, ...</td>\n",
       "      <td>[2231, 2834, 3757, 5045, 6023, 6825, 7070, 795...</td>\n",
       "      <td>[5, 4, 3, 6, 3, 2, 5, 5, 4, 2, 6, 1, 6, 2, 3, ...</td>\n",
       "    </tr>\n",
       "  </tbody>\n",
       "</table>\n",
       "</div>"
      ],
      "text/plain": [
       "                                               audio  \\\n",
       "0  [25971, 30303, 29285, 26995, 28271, 11552, 131...   \n",
       "1  [25971, 30303, 29285, 26995, 28271, 11552, 131...   \n",
       "2  [25971, 30303, 29285, 26995, 28271, 11552, 131...   \n",
       "3  [25971, 30303, 29285, 26995, 28271, 11552, 131...   \n",
       "4  [25971, 30303, 29285, 26995, 28271, 11552, 131...   \n",
       "\n",
       "                                              ipa  \\\n",
       "0                ʔittʃɹɹeɪznzaʊtɔɹzɔnəpɔɹttʃstɛps   \n",
       "1                                 itnaʊʃilʊkʔʌɡli   \n",
       "2               ʃihædjɹdɑɹksuɾinɡɹisiwɔʃwɔɾɹɔljiɹ   \n",
       "3  wʌnmɔɹmʌɾlhɛɾɪdleɪlaɪkðæwʌnɪnðeɪdiliɾiŋhɪməweɪ   \n",
       "4                            ðiʔɛmpɹihæɾimintɛmpɹ   \n",
       "\n",
       "                                      phoneme_starts  \\\n",
       "0  [0, 2250, 2725, 3520, 4000, 5389, 6224, 6976, ...   \n",
       "1  [0, 2120, 2327, 2860, 3456, 4840, 7564, 9725, ...   \n",
       "2  [0, 2339, 3960, 5138, 6224, 8062, 8550, 9024, ...   \n",
       "3  [0, 4804, 5514, 6934, 7644, 8522, 10227, 11080...   \n",
       "4  [0, 2231, 2834, 3757, 5045, 6023, 6825, 7070, ...   \n",
       "\n",
       "                                        phoneme_ends  \\\n",
       "0  [2250, 2725, 3520, 4000, 5389, 6224, 6976, 977...   \n",
       "1  [2120, 2327, 2860, 3456, 4840, 7564, 9725, 105...   \n",
       "2  [2339, 3960, 5138, 6224, 8062, 8550, 9024, 960...   \n",
       "3  [4804, 5514, 6934, 7644, 8522, 10227, 11080, 1...   \n",
       "4  [2231, 2834, 3757, 5045, 6023, 6825, 7070, 795...   \n",
       "\n",
       "                                       cropped_audio  \n",
       "0  [5, 3, 4, 5, 1, 3, 1, 5, 4, 7, 4, 5, 5, 0, 8, ...  \n",
       "1  [5, 5, 5, 5, 5, 5, 5, 5, 3, 4, 5, 5, 5, 5, 5, ...  \n",
       "2  [3, 5, 2, 5, 4, 7, 6, 4, 3, 3, 1, 0, 1, 2, -1,...  \n",
       "3  [4, 4, 5, 1, 4, 3, 2, 1, 0, 0, -1, -1, -1, -4,...  \n",
       "4  [5, 4, 3, 6, 3, 2, 5, 5, 4, 2, 6, 1, 6, 2, 3, ...  "
      ]
     },
     "execution_count": 12,
     "metadata": {},
     "output_type": "execute_result"
    }
   ],
   "source": [
    "# Apply the process_row function to each row in the DataFrame\n",
    "train_df['cropped_audio'] = train_df.apply(crop_audio, axis=1) \n",
    "train_df.head()\n",
    "    "
   ]
  },
  {
   "cell_type": "code",
   "execution_count": 13,
   "metadata": {},
   "outputs": [
    {
     "data": {
      "text/plain": [
       "[<matplotlib.lines.Line2D at 0x7fe05b6ce4c0>]"
      ]
     },
     "execution_count": 13,
     "metadata": {},
     "output_type": "execute_result"
    },
    {
     "data": {
      "image/png": "[encoded data removed]",
      "text/plain": [
       "<Figure size 640x480 with 1 Axes>"
      ]
     },
     "metadata": {},
     "output_type": "display_data"
    }
   ],
   "source": [
    "# visualize again, much better!\n",
    "plt.plot(train_df['cropped_audio'][0])\n"
   ]
  },
  {
   "cell_type": "code",
   "execution_count": 14,
   "metadata": {},
   "outputs": [
    {
     "data": {
      "text/html": [
       "<div>\n",
       "<style scoped>\n",
       "    .dataframe tbody tr th:only-of-type {\n",
       "        vertical-align: middle;\n",
       "    }\n",
       "\n",
       "    .dataframe tbody tr th {\n",
       "        vertical-align: top;\n",
       "    }\n",
       "\n",
       "    .dataframe thead th {\n",
       "        text-align: right;\n",
       "    }\n",
       "</style>\n",
       "<table border=\"1\" class=\"dataframe\">\n",
       "  <thead>\n",
       "    <tr style=\"text-align: right;\">\n",
       "      <th></th>\n",
       "      <th>ipa</th>\n",
       "      <th>audio</th>\n",
       "    </tr>\n",
       "  </thead>\n",
       "  <tbody>\n",
       "    <tr>\n",
       "      <th>0</th>\n",
       "      <td>ʔittʃɹɹeɪznzaʊtɔɹzɔnəpɔɹttʃstɛps</td>\n",
       "      <td>[5, 3, 4, 5, 1, 3, 1, 5, 4, 7, 4, 5, 5, 0, 8, ...</td>\n",
       "    </tr>\n",
       "    <tr>\n",
       "      <th>1</th>\n",
       "      <td>itnaʊʃilʊkʔʌɡli</td>\n",
       "      <td>[5, 5, 5, 5, 5, 5, 5, 5, 3, 4, 5, 5, 5, 5, 5, ...</td>\n",
       "    </tr>\n",
       "    <tr>\n",
       "      <th>2</th>\n",
       "      <td>ʃihædjɹdɑɹksuɾinɡɹisiwɔʃwɔɾɹɔljiɹ</td>\n",
       "      <td>[3, 5, 2, 5, 4, 7, 6, 4, 3, 3, 1, 0, 1, 2, -1,...</td>\n",
       "    </tr>\n",
       "    <tr>\n",
       "      <th>3</th>\n",
       "      <td>wʌnmɔɹmʌɾlhɛɾɪdleɪlaɪkðæwʌnɪnðeɪdiliɾiŋhɪməweɪ</td>\n",
       "      <td>[4, 4, 5, 1, 4, 3, 2, 1, 0, 0, -1, -1, -1, -4,...</td>\n",
       "    </tr>\n",
       "    <tr>\n",
       "      <th>4</th>\n",
       "      <td>ðiʔɛmpɹihæɾimintɛmpɹ</td>\n",
       "      <td>[5, 4, 3, 6, 3, 2, 5, 5, 4, 2, 6, 1, 6, 2, 3, ...</td>\n",
       "    </tr>\n",
       "  </tbody>\n",
       "</table>\n",
       "</div>"
      ],
      "text/plain": [
       "                                              ipa  \\\n",
       "0                ʔittʃɹɹeɪznzaʊtɔɹzɔnəpɔɹttʃstɛps   \n",
       "1                                 itnaʊʃilʊkʔʌɡli   \n",
       "2               ʃihædjɹdɑɹksuɾinɡɹisiwɔʃwɔɾɹɔljiɹ   \n",
       "3  wʌnmɔɹmʌɾlhɛɾɪdleɪlaɪkðæwʌnɪnðeɪdiliɾiŋhɪməweɪ   \n",
       "4                            ðiʔɛmpɹihæɾimintɛmpɹ   \n",
       "\n",
       "                                               audio  \n",
       "0  [5, 3, 4, 5, 1, 3, 1, 5, 4, 7, 4, 5, 5, 0, 8, ...  \n",
       "1  [5, 5, 5, 5, 5, 5, 5, 5, 3, 4, 5, 5, 5, 5, 5, ...  \n",
       "2  [3, 5, 2, 5, 4, 7, 6, 4, 3, 3, 1, 0, 1, 2, -1,...  \n",
       "3  [4, 4, 5, 1, 4, 3, 2, 1, 0, 0, -1, -1, -1, -4,...  \n",
       "4  [5, 4, 3, 6, 3, 2, 5, 5, 4, 2, 6, 1, 6, 2, 3, ...  "
      ]
     },
     "execution_count": 14,
     "metadata": {},
     "output_type": "execute_result"
    }
   ],
   "source": [
    "# train_df comprised of just cropped_audio and phonemes\n",
    "train_df = train_df.drop(columns=['phoneme_starts', 'phoneme_ends', 'audio'])\n",
    "# rename cropped audio to audio\n",
    "train_df = train_df.rename(columns={'cropped_audio': 'audio'})\n",
    "train_df.head()"
   ]
  },
  {
   "cell_type": "code",
   "execution_count": 15,
   "metadata": {},
   "outputs": [],
   "source": [
    "train_ds = Dataset.from_pandas(train_df)"
   ]
  },
  {
   "cell_type": "markdown",
   "metadata": {},
   "source": [
    "# Extend Phoneme Vocab"
   ]
  },
  {
   "cell_type": "code",
   "execution_count": 16,
   "metadata": {},
   "outputs": [],
   "source": [
    "timit_vocab = set(\"\".join(train_df['ipa']))"
   ]
  },
  {
   "cell_type": "code",
   "execution_count": 17,
   "metadata": {},
   "outputs": [
    {
     "name": "stdout",
     "output_type": "stream",
     "text": [
      "{'ʒ', 's', 'ŋ', 'ʌ', 'æ', 'i', 'j', 'k', 'θ', 'p', 'ð', 'b', 'ʔ', 't', 'm', 'ɛ', 'ɑ', 'e', 'd', 'ə', 'z', 'f', 'v', 'ʃ', 'ɔ', 'l', 'ʊ', 'h', 'ɪ', 'ɹ', 'u', 'a', 'w', 'ɡ', 'n', 'o', 'ɾ'}\n"
     ]
    }
   ],
   "source": [
    "print(timit_vocab)"
   ]
  },
  {
   "cell_type": "code",
   "execution_count": 18,
   "metadata": {},
   "outputs": [
    {
     "name": "stdout",
     "output_type": "stream",
     "text": [
      "{'A': 113, 'C': 20, 'E': 89, 'H': 148, 'I': 124, 'O': 28, 'U': 176, 'X': 224, '[PAD]': 312, '[UNK]': 311, '_': 259, 'a': 156, 'ã': 188, 'b': 286, 'b̪': 83, 'b̪͡v': 137, 'b͡ꞵ': 80, 'c': 186, 'cʼ': 277, 'c͡ç': 265, 'd': 229, 'd̼': 210, 'd͡z': 51, 'd͡ð': 110, 'd͡ɮ': 284, 'd͡ʑ': 112, 'd͡ʒ': 214, 'e': 22, 'ẽ': 233, 'e̞': 202, 'ẽ̞': 187, 'f': 34, 'fʼ': 181, 'h': 253, 'i': 160, 'j': 92, 'k': 135, 'kxʼ': 221, 'kǀ': 25, 'kǁ': 140, 'kǂ': 115, 'kǃ': 97, 'kʘ': 165, 'kʼ': 7, 'k̚': 118, 'k͡p': 102, 'k͡x': 287, 'l': 292, 'm': 85, 'm̥': 101, 'n': 141, 'n̥': 54, 'n̼': 61, 'o': 162, 'õ': 62, 'o̞': 203, 'õ̞': 60, 'p': 38, 'pʼ': 216, 'p̚': 11, 'p̪': 236, 'p̪͡f': 205, 'p͡f': 43, 'p͡ɸ': 154, 'q': 237, 'qǀ': 9, 'qǁ': 49, 'qǂ': 196, 'qǃ': 53, 'qʘ': 119, 'qʼ': 99, 'q͡ʡ': 169, 'q͡χʼ': 44, 'q͡ꭓ': 226, 'r': 254, 'r̥': 174, 's': 201, 'sʼ': 117, 't': 39, 'tʼ': 2, 't̚': 59, 't̪͡θʼ': 50, 't̼': 307, 't͡s': 264, 't͡sʼ': 68, 't͡ɕ': 281, 't͡ɬ': 158, 't͡ɬʼ': 172, 't͡ʃ': 246, 't͡ʃʼ': 192, 't͡θ': 161, 'u': 48, 'ũ': 159, 'v': 82, 'w': 127, 'x': 177, 'xʼ': 66, 'y': 261, 'ỹ': 189, 'z': 126, '{': 73, '}': 238, 'ã': 209, 'ä': 69, 'ä̃': 47, 'æ': 26, 'æ̃': 153, 'ç': 10, 'ð': 266, 'ð̠': 163, 'ð̼': 204, 'õ': 298, 'ø': 95, 'ø̃': 3, 'ø̞': 121, 'ø̞̃': 280, 'ħ': 19, 'ĩ': 42, 'ŋ': 222, 'ŋǀ': 109, 'ŋǁ': 310, 'ŋǂ': 301, 'ŋǃ': 232, 'ŋʘ': 58, 'ŋ̊': 146, 'ŋ͡m': 302, 'œ': 111, 'œ̃': 132, 'ũ': 248, 'ɐ': 197, 'ɐ̃': 234, 'ɑ': 208, 'ɑ̃': 37, 'ɒ': 18, 'ɒ̃': 4, 'ɓ': 303, 'ɓ̥': 157, 'ɔ': 106, 'ɔ̃': 183, 'ɕ': 308, 'ɕʼ': 185, 'ɖ': 239, 'ɖ͡ʐ': 215, 'ɗ': 180, 'ɗ̥': 300, 'ɘ': 91, 'ɘ̃': 41, 'ə': 155, 'ə̃': 289, 'ɚ': 131, 'ɛ': 282, 'ɛ̃': 65, 'ɜ': 297, 'ɜ̃': 14, 'ɝ': 151, 'ɞ': 198, 'ɞ̃': 120, 'ɟ': 166, 'ɟ͡ʝ': 150, 'ɠ': 164, 'ɠ̊': 247, 'ɡ': 103, 'ɡǀ': 79, 'ɡǁ': 269, 'ɡǂ': 98, 'ɡǃ': 133, 'ɡʘ': 134, 'ɡ̆': 228, 'ɡ͡b': 70, 'ɡ͡ɣ': 190, 'ɢ': 220, 'ɢǀ': 152, 'ɢǁ': 116, 'ɢǂ': 168, 'ɢǃ': 290, 'ɢʘ': 268, 'ɢ̆': 267, 'ɢ͡ʁ': 63, 'ɣ': 149, 'ɤ': 147, 'ɤ̃': 67, 'ɤ̞': 244, 'ɤ̞̃': 240, 'ɥ': 74, 'ɥ̊': 64, 'ɧ': 87, 'ɨ': 123, 'ɨ̃': 72, 'ɪ': 256, 'ɪ̃': 179, 'ɬ': 108, 'ɬʼ': 207, 'ɭ': 249, 'ɭ˔': 262, 'ɭ̆': 178, 'ɭ̥̆': 299, 'ɮ': 242, 'ɯ': 213, 'ɯ̃': 76, 'ɰ': 250, 'ɱ': 219, 'ɲ': 31, 'ɲ̊': 30, 'ɳ': 193, 'ɳ̊': 184, 'ɴ': 257, 'ɴǀ': 138, 'ɴǁ': 182, 'ɴǂ': 206, 'ɴǃ': 243, 'ɴʘ': 23, 'ɵ': 212, 'ɵ̃': 94, 'ɶ': 296, 'ɶ̃': 24, 'ɸ': 199, 'ɸʼ': 305, 'ɹ': 285, 'ɹ̠˔': 260, 'ɹ̠̊˔': 12, 'ɺ': 100, 'ɺ̥': 139, 'ɻ': 273, 'ɻ˔': 55, 'ɻ̊˔': 170, 'ɽ': 211, 'ɽ̊': 270, 'ɾ': 251, 'ɾ̥': 21, 'ɾ̼': 27, 'ʀ': 235, 'ʀ̥': 125, 'ʁ': 200, 'ʂ': 75, 'ʂʼ': 96, 'ʃ': 279, 'ʃʼ': 230, 'ʄ': 291, 'ʄ̊': 88, 'ʈ': 5, 'ʈʼ': 309, 'ʈ͡ʂ': 258, 'ʈ͡ʂʼ': 1, 'ʉ': 29, 'ʉ̃': 33, 'ʊ': 128, 'ʊ̃': 263, 'ʋ': 56, 'ʌ': 223, 'ʌ̃': 225, 'ʍ': 173, 'ʎ': 288, 'ʎ̆': 175, 'ʎ̝': 81, 'ʎ̝̊': 195, 'ʏ': 105, 'ʏ̃': 86, 'ʐ': 306, 'ʑ': 304, 'ʒ': 171, 'ʔ': 245, 'ʔ̞': 78, 'ʔ͡h': 276, 'ʕ': 107, 'ʙ': 104, 'ʙ̥': 6, 'ʛ': 15, 'ʛ̥': 294, 'ʜ': 16, 'ʝ': 84, 'ʟ': 52, 'ʟ̆': 275, 'ʟ̝': 8, 'ʟ̝̊': 57, 'ʟ̠': 40, 'ʡ': 194, 'ʡʼ': 231, 'ʡ̆': 32, 'ʡ͡ʜ': 114, 'ʡ͡ʢ': 122, 'ʢ': 36, 'ʰ': 45, 'ʲ': 191, 'ʷ': 144, 'ː': 295, '˞': 145, 'ˠ': 217, 'ˡ': 218, 'ˣ': 46, 'ˤ': 271, '̃': 283, '̩': 272, 'β': 0, 'θ': 278, 'θʼ': 71, 'θ̠': 13, 'θ̼': 136, 'χ': 129, 'χʼ': 241, 'ᵐ': 17, 'ᵑ': 274, 'ᶑ': 90, 'ᶑ̊': 293, 'ᶬ': 142, 'ᶮ': 130, 'ᶯ': 255, 'ᶰ': 252, 'ᶿ': 93, 'ẽ': 35, 'ⁿ': 143, 'ⱱ': 167, 'ⱱ̟': 227, 'ꞎ': 77, '<s>': 313, '</s>': 314}\n"
     ]
    }
   ],
   "source": [
    "tokenizer = AutoTokenizer.from_pretrained(PRE_TRAINED_ID)\n",
    "vocab = tokenizer.get_vocab()\n",
    "print(vocab)"
   ]
  },
  {
   "cell_type": "code",
   "execution_count": 19,
   "metadata": {},
   "outputs": [
    {
     "name": "stdout",
     "output_type": "stream",
     "text": [
      "set()\n"
     ]
    }
   ],
   "source": [
    "additional_vocab = timit_vocab.difference(set(vocab.keys()) | {' '})\n",
    "tokenizer.add_tokens(list(additional_vocab))\n",
    "print(additional_vocab)\n"
   ]
  },
  {
   "cell_type": "markdown",
   "metadata": {},
   "source": [
    "# Update Feature Extraction"
   ]
  },
  {
   "cell_type": "code",
   "execution_count": 20,
   "metadata": {},
   "outputs": [],
   "source": [
    "feature_extractor = AutoFeatureExtractor.from_pretrained(PRE_TRAINED_ID)"
   ]
  },
  {
   "cell_type": "markdown",
   "metadata": {},
   "source": [
    "We don't need to update the feature extractor since it has been pretrained on 16kHz audio which matches the TIMIT dataset.\n",
    "\n",
    "For datasets with different sampling rates, the feature extractor should be updated or the audio resampled (easier).\n",
    "\n",
    "This is also where code to add extra features (such as conditioning on speaker's native language etc.) would be added."
   ]
  },
  {
   "cell_type": "markdown",
   "metadata": {},
   "source": [
    "### NEW FINE-TUNE CODE\n"
   ]
  },
  {
   "cell_type": "code",
   "execution_count": 35,
   "metadata": {},
   "outputs": [
    {
     "data": {
      "text/html": [
       "Tracking run with wandb version 0.18.6"
      ],
      "text/plain": [
       "<IPython.core.display.HTML object>"
      ]
     },
     "metadata": {},
     "output_type": "display_data"
    },
    {
     "data": {
      "text/html": [
       "Run data is saved locally in <code>/home/arunasrivastava/ML/notebooks/wandb/run-20241129_120259-e8s9i1i6</code>"
      ],
      "text/plain": [
       "<IPython.core.display.HTML object>"
      ]
     },
     "metadata": {},
     "output_type": "display_data"
    },
    {
     "data": {
      "text/html": [
       "Syncing run <strong><a href='https://wandb.ai/aruna-team/xlsr-buckeye-phoneme-prediction/runs/e8s9i1i6' target=\"_blank\">sunny-lion-21</a></strong> to <a href='https://wandb.ai/aruna-team/xlsr-buckeye-phoneme-prediction' target=\"_blank\">Weights & Biases</a> (<a href='https://wandb.me/developer-guide' target=\"_blank\">docs</a>)<br/>"
      ],
      "text/plain": [
       "<IPython.core.display.HTML object>"
      ]
     },
     "metadata": {},
     "output_type": "display_data"
    },
    {
     "data": {
      "text/html": [
       " View project at <a href='https://wandb.ai/aruna-team/xlsr-buckeye-phoneme-prediction' target=\"_blank\">https://wandb.ai/aruna-team/xlsr-buckeye-phoneme-prediction</a>"
      ],
      "text/plain": [
       "<IPython.core.display.HTML object>"
      ]
     },
     "metadata": {},
     "output_type": "display_data"
    },
    {
     "data": {
      "text/html": [
       " View run at <a href='https://wandb.ai/aruna-team/xlsr-buckeye-phoneme-prediction/runs/e8s9i1i6' target=\"_blank\">https://wandb.ai/aruna-team/xlsr-buckeye-phoneme-prediction/runs/e8s9i1i6</a>"
      ],
      "text/plain": [
       "<IPython.core.display.HTML object>"
      ]
     },
     "metadata": {},
     "output_type": "display_data"
    },
    {
     "name": "stderr",
     "output_type": "stream",
     "text": [
      "INFO:__main__:Loading pretrained model and processor...\n",
      "INFO:__main__:Initial vocabulary size: 315\n",
      "INFO:__main__:Initial special tokens setup:\n",
      "INFO:__main__:<pad>: 0\n",
      "INFO:__main__:<s>: 1\n",
      "INFO:__main__:</s>: 2\n",
      "INFO:__main__:<unk>: 3\n",
      "INFO:__main__:\n",
      "Verifying special token IDs in new tokenizer:\n",
      "INFO:__main__:<pad>: expected=0, actual=0\n",
      "INFO:__main__:<s>: expected=1, actual=1\n",
      "INFO:__main__:</s>: expected=2, actual=2\n",
      "INFO:__main__:<unk>: expected=3, actual=3\n",
      "INFO:__main__:\n",
      "Final vocabulary size: 41\n",
      "INFO:__main__:\n",
      "Final vocabulary check:\n",
      "INFO:__main__:<pad>: 0\n",
      "INFO:__main__:<s>: 1\n",
      "INFO:__main__:</s>: 2\n",
      "INFO:__main__:<unk>: 3\n",
      "INFO:__main__:\n",
      "=== Token ID Verification [After Model Preparation] ===\n",
      "INFO:__main__:Vocabulary size: 41\n",
      "INFO:__main__:Token <pad>: ID 0\n",
      "INFO:__main__:Token <s>: ID 1\n",
      "INFO:__main__:Token </s>: ID 2\n",
      "INFO:__main__:Token <unk>: ID 3\n",
      "INFO:__main__:Sample regular token IDs:\n",
      "INFO:__main__:Token a: ID 4\n",
      "INFO:__main__:Full vocabulary: {'<pad>': 0, '<s>': 1, '</s>': 2, '<unk>': 3, 'a': 4, 'b': 5, 'd': 6, 'e': 7, 'f': 8, 'h': 9, 'i': 10, 'j': 11, 'k': 12, 'l': 13, 'm': 14, 'n': 15, 'o': 16, 'p': 17, 's': 18, 't': 19, 'u': 20, 'v': 21, 'w': 22, 'z': 23, 'æ': 24, 'ð': 25, 'ŋ': 26, 'ɑ': 27, 'ɔ': 28, 'ə': 29, 'ɛ': 30, 'ɡ': 31, 'ɪ': 32, 'ɹ': 33, 'ɾ': 34, 'ʃ': 35, 'ʊ': 36, 'ʌ': 37, 'ʒ': 38, 'ʔ': 39, 'θ': 40}\n",
      "INFO:__main__:Splitting dataset into train and evaluation...\n",
      "Map:   0%|          | 0/3696 [00:00<?, ? examples/s]/home/arunasrivastava/ML/venv/lib/python3.8/site-packages/transformers/models/wav2vec2/processing_wav2vec2.py:174: UserWarning: `as_target_processor` is deprecated and will be removed in v5 of Transformers. You can process your labels by using the argument `text` of the regular `__call__` method (either in the same call as your audio inputs, or in a separate call.\n",
      "  warnings.warn(\n",
      "Map: 100%|██████████| 3696/3696 [01:36<00:00, 38.31 examples/s]\n",
      "Map: 100%|██████████| 924/924 [00:24<00:00, 38.10 examples/s]\n",
      "INFO:__main__:Sample input_values shape: (160000,)\n",
      "INFO:__main__:Sample labels shape: (36,)\n",
      "/home/arunasrivastava/ML/venv/lib/python3.8/site-packages/transformers/trainer.py:3347: FutureWarning: You are using `torch.load` with `weights_only=False` (the current default value), which uses the default pickle module implicitly. It is possible to construct malicious pickle data which will execute arbitrary code during unpickling (See https://github.com/pytorch/pytorch/blob/main/SECURITY.md#untrusted-models for more details). In a future release, the default value for `weights_only` will be flipped to `True`. This limits the functions that could be executed during unpickling. Arbitrary objects will no longer be allowed to be loaded via this mode unless they are explicitly allowlisted by the user via `torch.serialization.add_safe_globals`. We recommend you start setting `weights_only=True` for any use case where you don't have full control of the loaded file. Please open an issue on GitHub for any issues related to this experimental feature.\n",
      "  torch.load(os.path.join(checkpoint, OPTIMIZER_NAME), map_location=map_location)\n",
      "/home/arunasrivastava/ML/venv/lib/python3.8/site-packages/transformers/models/wav2vec2/processing_wav2vec2.py:174: UserWarning: `as_target_processor` is deprecated and will be removed in v5 of Transformers. You can process your labels by using the argument `text` of the regular `__call__` method (either in the same call as your audio inputs, or in a separate call.\n",
      "  warnings.warn(\n",
      "/home/arunasrivastava/ML/venv/lib/python3.8/site-packages/transformers/trainer.py:3026: FutureWarning: You are using `torch.load` with `weights_only=False` (the current default value), which uses the default pickle module implicitly. It is possible to construct malicious pickle data which will execute arbitrary code during unpickling (See https://github.com/pytorch/pytorch/blob/main/SECURITY.md#untrusted-models for more details). In a future release, the default value for `weights_only` will be flipped to `True`. This limits the functions that could be executed during unpickling. Arbitrary objects will no longer be allowed to be loaded via this mode unless they are explicitly allowlisted by the user via `torch.serialization.add_safe_globals`. We recommend you start setting `weights_only=True` for any use case where you don't have full control of the loaded file. Please open an issue on GitHub for any issues related to this experimental feature.\n",
      "  checkpoint_rng_state = torch.load(rng_file)\n"
     ]
    },
    {
     "data": {
      "text/html": [
       "\n",
       "    <div>\n",
       "      \n",
       "      <progress value='1155' max='1155' style='width:300px; height:20px; vertical-align: middle;'></progress>\n",
       "      [1155/1155 07:13, Epoch 5/5]\n",
       "    </div>\n",
       "    <table border=\"1\" class=\"dataframe\">\n",
       "  <thead>\n",
       " <tr style=\"text-align: left;\">\n",
       "      <th>Step</th>\n",
       "      <th>Training Loss</th>\n",
       "      <th>Validation Loss</th>\n",
       "    </tr>\n",
       "  </thead>\n",
       "  <tbody>\n",
       "    <tr>\n",
       "      <td>1100</td>\n",
       "      <td>18.311100</td>\n",
       "      <td>4.981781</td>\n",
       "    </tr>\n",
       "  </tbody>\n",
       "</table><p>"
      ],
      "text/plain": [
       "<IPython.core.display.HTML object>"
      ]
     },
     "metadata": {},
     "output_type": "display_data"
    },
    {
     "name": "stderr",
     "output_type": "stream",
     "text": [
      "INFO:__main__:\n",
      "=== Token ID Verification [After Training] ===\n",
      "INFO:__main__:Vocabulary size: 41\n",
      "INFO:__main__:Token <pad>: ID 0\n",
      "INFO:__main__:Token <s>: ID 1\n",
      "INFO:__main__:Token </s>: ID 2\n",
      "INFO:__main__:Token <unk>: ID 3\n",
      "INFO:__main__:Sample regular token IDs:\n",
      "INFO:__main__:Token a: ID 4\n",
      "INFO:__main__:Running inference on sample...\n",
      "It is strongly recommended to pass the ``sampling_rate`` argument to this function. Failing to do so can result in silent errors that might be hard to debug.\n",
      "INFO:__main__:Sample raw prediction: ['ðisɹdʒinkɛɹiɾikdʒivlaɪɪɪɪɪ']\n",
      "INFO:__main__:Sample cleaned prediction: ðisɹdʒinkɛɹiɾikdʒivlaɪɪɪɪɪ\n"
     ]
    },
    {
     "data": {
      "text/html": [
       "\n",
       "    <style>\n",
       "        .wandb-row {\n",
       "            display: flex;\n",
       "            flex-direction: row;\n",
       "            flex-wrap: wrap;\n",
       "            justify-content: flex-start;\n",
       "            width: 100%;\n",
       "        }\n",
       "        .wandb-col {\n",
       "            display: flex;\n",
       "            flex-direction: column;\n",
       "            flex-basis: 100%;\n",
       "            flex: 1;\n",
       "            padding: 10px;\n",
       "        }\n",
       "    </style>\n",
       "<div class=\"wandb-row\"><div class=\"wandb-col\"><h3>Run history:</h3><br/><table class=\"wandb\"><tr><td>eval/loss</td><td>▁</td></tr><tr><td>eval/runtime</td><td>▁</td></tr><tr><td>eval/samples_per_second</td><td>▁</td></tr><tr><td>eval/steps_per_second</td><td>▁</td></tr><tr><td>train/epoch</td><td>▁▁▂▂▃▃▄▄▅▅▅▆▆▇▇██</td></tr><tr><td>train/global_step</td><td>▁▁▂▂▃▃▄▄▅▅▅▆▆▇▇██</td></tr><tr><td>train/grad_norm</td><td> ▁▃▅▁█▁▁▃▂▄▃▅▁▁</td></tr><tr><td>train/learning_rate</td><td>██▇▇▆▆▅▅▄▄▃▂▂▁▁</td></tr><tr><td>train/loss</td><td>▄▁▇▇▅▃▃▂█▆▂▄▃▄▄</td></tr></table><br/></div><div class=\"wandb-col\"><h3>Run summary:</h3><br/><table class=\"wandb\"><tr><td>eval/loss</td><td>4.98178</td></tr><tr><td>eval/runtime</td><td>100.6571</td></tr><tr><td>eval/samples_per_second</td><td>9.18</td></tr><tr><td>eval/steps_per_second</td><td>1.152</td></tr><tr><td>total_flos</td><td>5.596880800896e+18</td></tr><tr><td>train/epoch</td><td>5</td></tr><tr><td>train/global_step</td><td>1155</td></tr><tr><td>train/grad_norm</td><td>39.37695</td></tr><tr><td>train/learning_rate</td><td>1e-05</td></tr><tr><td>train/loss</td><td>15.1241</td></tr><tr><td>train_loss</td><td>2.06603</td></tr><tr><td>train_runtime</td><td>436.3319</td></tr><tr><td>train_samples_per_second</td><td>42.353</td></tr><tr><td>train_steps_per_second</td><td>2.647</td></tr></table><br/></div></div>"
      ],
      "text/plain": [
       "<IPython.core.display.HTML object>"
      ]
     },
     "metadata": {},
     "output_type": "display_data"
    },
    {
     "data": {
      "text/html": [
       " View run <strong style=\"color:#cdcd00\">sunny-lion-21</strong> at: <a href='https://wandb.ai/aruna-team/xlsr-buckeye-phoneme-prediction/runs/e8s9i1i6' target=\"_blank\">https://wandb.ai/aruna-team/xlsr-buckeye-phoneme-prediction/runs/e8s9i1i6</a><br/> View project at: <a href='https://wandb.ai/aruna-team/xlsr-buckeye-phoneme-prediction' target=\"_blank\">https://wandb.ai/aruna-team/xlsr-buckeye-phoneme-prediction</a><br/>Synced 5 W&B file(s), 0 media file(s), 2 artifact file(s) and 0 other file(s)"
      ],
      "text/plain": [
       "<IPython.core.display.HTML object>"
      ]
     },
     "metadata": {},
     "output_type": "display_data"
    },
    {
     "data": {
      "text/html": [
       "Find logs at: <code>./wandb/run-20241129_120259-e8s9i1i6/logs</code>"
      ],
      "text/plain": [
       "<IPython.core.display.HTML object>"
      ]
     },
     "metadata": {},
     "output_type": "display_data"
    }
   ],
   "source": [
    "import torch\n",
    "import tempfile\n",
    "from transformers import AutoProcessor, AutoModelForCTC, Trainer, TrainingArguments, Wav2Vec2CTCTokenizer\n",
    "from datasets import Dataset\n",
    "import numpy as np\n",
    "from dataclasses import dataclass\n",
    "from typing import Dict, List, Optional, Union\n",
    "import logging\n",
    "from torch.utils.data import DataLoader\n",
    "import wandb\n",
    "import os\n",
    "from sklearn.model_selection import train_test_split\n",
    "import torchaudio\n",
    "import json\n",
    "\n",
    "#B1- LESS TRAINING EPOCHS\n",
    "#B2- LENGTH PENALTY \n",
    "#B3- MORE TRAINING EPOCHS\n",
    "\n",
    "NEW_MODEL_ID = \"./notebooks/results-b3\"\n",
    "\n",
    "# Set up logging\n",
    "logging.basicConfig(level=logging.INFO)\n",
    "logger = logging.getLogger(__name__)\n",
    "\n",
    "# Constants\n",
    "SAMPLING_RATE = 16000\n",
    "MAX_AUDIO_LENGTH = 160000  # 10 seconds at 16kHz\n",
    "MAX_LABEL_LENGTH = 100\n",
    "\n",
    "@dataclass\n",
    "class DataCollatorCTCWithPadding:\n",
    "    \"\"\"\n",
    "    Data collator that will dynamically pad the inputs received.\n",
    "    \"\"\"\n",
    "    processor: AutoProcessor\n",
    "    padding: Union[bool, str] = \"longest\"\n",
    "\n",
    "    def __call__(self, features: List[Dict[str, Union[List[int], torch.Tensor]]]) -> Dict[str, torch.Tensor]:\n",
    "        # Add max length check\n",
    "        max_length = min(\n",
    "            max(len(feature[\"input_values\"]) for feature in features),\n",
    "            MAX_AUDIO_LENGTH  # Your existing constant\n",
    "        )\n",
    "        # Pad input_values\n",
    "        padded_inputs = []\n",
    "        attention_mask = []\n",
    "        for feature in features:\n",
    "            input_length = len(feature[\"input_values\"])\n",
    "            padding_length = max_length - input_length\n",
    "            \n",
    "            # Convert to tensor and ensure correct shape\n",
    "            if isinstance(feature[\"input_values\"], list):\n",
    "                input_values = torch.tensor(feature[\"input_values\"])\n",
    "            else:\n",
    "                input_values = feature[\"input_values\"]\n",
    "            \n",
    "            # Remove any extra dimensions and ensure it's 1D\n",
    "            input_values = input_values.squeeze()\n",
    "            \n",
    "            # Pad with zeros\n",
    "            if padding_length > 0:\n",
    "                padded_input = torch.nn.functional.pad(input_values, (0, padding_length))\n",
    "                attention_mask.append(torch.cat([torch.ones(input_length), torch.zeros(padding_length)]))\n",
    "            else:\n",
    "                padded_input = input_values\n",
    "                attention_mask.append(torch.ones(input_length))\n",
    "            \n",
    "            padded_inputs.append(padded_input)\n",
    "\n",
    "        # Stack all padded inputs ensuring correct dimensions [batch_size, sequence_length]\n",
    "        batch = {\n",
    "            \"input_values\": torch.stack(padded_inputs),\n",
    "            \"attention_mask\": torch.stack(attention_mask)\n",
    "        }\n",
    "\n",
    "        # Process labels\n",
    "        with self.processor.as_target_processor():\n",
    "            label_features = [{\"input_ids\": feature[\"labels\"]} for feature in features]\n",
    "            labels_batch = self.processor.pad(\n",
    "                label_features,\n",
    "                padding=self.padding,\n",
    "                return_tensors=\"pt\",\n",
    "            )\n",
    "\n",
    "        # Replace padding with -100 to ignore loss correctly\n",
    "        labels = labels_batch[\"input_ids\"].masked_fill(labels_batch.attention_mask.ne(1), -100)\n",
    "        batch[\"labels\"] = labels\n",
    "\n",
    "        return batch\n",
    "def prepare_model_and_processor(timit_vocab):\n",
    "    \"\"\"\n",
    "    Prepare the model and processor with reduced vocabulary and consistent special token IDs.\n",
    "    \"\"\"\n",
    "    logger.info(\"Loading pretrained model and processor...\")\n",
    "    \n",
    "    processor = AutoProcessor.from_pretrained(PRE_TRAINED_ID)\n",
    "    model = AutoModelForCTC.from_pretrained(PRE_TRAINED_ID)\n",
    "    \n",
    "    # Store the old vocabulary before making any changes\n",
    "    old_vocab = processor.tokenizer.get_vocab()\n",
    "    logger.info(f\"Initial vocabulary size: {len(old_vocab)}\")\n",
    "    \n",
    "    # Define fixed special token IDs - pad token first for CTC\n",
    "    special_tokens = {\n",
    "        \"<pad>\": 0,  # Changed to 0 for CTC blank token\n",
    "        \"<s>\": 1,    # Shifted up\n",
    "        \"</s>\": 2,   # Shifted up\n",
    "        \"<unk>\": 3   # Shifted up\n",
    "    }\n",
    "    logger.info(\"Initial special tokens setup:\")\n",
    "    for token, idx in special_tokens.items():\n",
    "        logger.info(f\"{token}: {idx}\")\n",
    "    \n",
    "    # Get regular tokens (excluding special tokens)\n",
    "    regular_tokens = sorted(list(timit_vocab - set(special_tokens.keys())))\n",
    "    \n",
    "    # Create combined vocabulary with fixed IDs\n",
    "    vocab = {**special_tokens}  # Start with special tokens\n",
    "    \n",
    "    # Add regular tokens after special tokens\n",
    "    for idx, token in enumerate(regular_tokens):\n",
    "        vocab[token] = idx + len(special_tokens)\n",
    "    \n",
    "    # Create tokenizer config with consistent token formats\n",
    "    tokenizer_config = {\n",
    "        \"vocab\": vocab,\n",
    "        \"pad_token\": \"<pad>\",\n",
    "        \"bos_token\": \"<s>\",\n",
    "        \"eos_token\": \"</s>\",\n",
    "        \"unk_token\": \"<unk>\",\n",
    "    }\n",
    "    \n",
    "    # Save vocab to temporary file\n",
    "    with tempfile.NamedTemporaryFile(mode='w', delete=False) as f:\n",
    "        json.dump(vocab, f)\n",
    "        vocab_path = f.name\n",
    "    \n",
    "    # Create new tokenizer\n",
    "    new_tokenizer = Wav2Vec2CTCTokenizer(\n",
    "        vocab_path,\n",
    "        **{k: v for k, v in tokenizer_config.items() if k != \"vocab\"}\n",
    "    )\n",
    "    \n",
    "    # Verify tokenizer loaded correctly before proceeding\n",
    "    loaded_vocab = new_tokenizer.get_vocab()\n",
    "    logger.info(\"\\nVerifying special token IDs in new tokenizer:\")\n",
    "    for token, expected_id in special_tokens.items():\n",
    "        actual_id = loaded_vocab.get(token)\n",
    "        logger.info(f\"{token}: expected={expected_id}, actual={actual_id}\")\n",
    "        assert actual_id == expected_id, f\"Token ID mismatch for {token}\"\n",
    "    \n",
    "    # Update processor with new tokenizer\n",
    "    processor.tokenizer = new_tokenizer\n",
    "    os.remove(vocab_path)\n",
    "    \n",
    "    # Verify vocab size\n",
    "    final_vocab_size = len(processor.tokenizer.get_vocab())\n",
    "    logger.info(f\"\\nFinal vocabulary size: {final_vocab_size}\")\n",
    "    assert final_vocab_size == len(vocab), \"Vocabulary size mismatch\"\n",
    "    \n",
    "    # Handle model weights\n",
    "    old_weights = model.lm_head.weight.data\n",
    "    old_bias = model.lm_head.bias.data\n",
    "    \n",
    "    # Create new layer\n",
    "    new_layer = torch.nn.Linear(model.lm_head.in_features, len(processor.tokenizer))\n",
    "    new_layer.weight.data.zero_()\n",
    "    new_layer.bias.data.zero_()\n",
    "    \n",
    "    # Transfer weights and bias using the stored old_vocab\n",
    "    for token, new_idx in loaded_vocab.items():\n",
    "        if token in old_vocab:\n",
    "            old_idx = old_vocab[token]\n",
    "            new_layer.weight.data[new_idx, :] = old_weights[old_idx, :]\n",
    "            new_layer.bias.data[new_idx] = old_bias[old_idx]\n",
    "    \n",
    "    model.lm_head = new_layer\n",
    "    model.config.vocab_size = final_vocab_size\n",
    "    model.config.pad_token_id = 0  # Explicitly set pad token as CTC blank token\n",
    "    \n",
    "    # Final verification\n",
    "    logger.info(\"\\nFinal vocabulary check:\")\n",
    "    final_vocab = processor.tokenizer.get_vocab()\n",
    "    for token, expected_id in special_tokens.items():\n",
    "        actual_id = final_vocab.get(token)\n",
    "        logger.info(f\"{token}: {actual_id}\")\n",
    "        assert actual_id == expected_id, f\"Final token ID mismatch for {token}\"\n",
    "    \n",
    "    return model, processor\n",
    "\n",
    "\n",
    "def preprocess_audio(audio_input):\n",
    "    \"\"\"\n",
    "    Load and preprocess audio to match expected format.\n",
    "    \n",
    "    Args:\n",
    "        audio_input: Can be a file path (str), numpy array, list, or tensor\n",
    "        \n",
    "    Returns:\n",
    "        np.ndarray: Processed audio as float32 numpy array\n",
    "    \"\"\"\n",
    "    # Handle different input types\n",
    "    if isinstance(audio_input, str):  # File path\n",
    "        waveform, sample_rate = torchaudio.load(audio_input)\n",
    "        audio_numpy = waveform.squeeze().numpy()\n",
    "        \n",
    "    elif isinstance(audio_input, list):  # List input\n",
    "        audio_numpy = np.array(audio_input, dtype=np.float32)\n",
    "        \n",
    "    elif isinstance(audio_input, np.ndarray):  # Already numpy array\n",
    "        audio_numpy = audio_input\n",
    "        \n",
    "    elif isinstance(audio_input, torch.Tensor):  # Torch tensor\n",
    "        audio_numpy = audio_input.numpy()\n",
    "        \n",
    "    else:\n",
    "        raise ValueError(f\"Unsupported audio type: {type(audio_input)}\")\n",
    "    \n",
    "    # Ensure float32 dtype\n",
    "    audio_numpy = audio_numpy.astype(np.float32)\n",
    "    \n",
    "    # Ensure 1D array\n",
    "    if len(audio_numpy.shape) > 1:\n",
    "        audio_numpy = np.mean(audio_numpy, axis=0)\n",
    "    \n",
    "    # Normalize audio\n",
    "    if np.abs(audio_numpy).max() > 1:\n",
    "        audio_numpy = audio_numpy / np.abs(audio_numpy).max()\n",
    "    \n",
    "    # Trim or pad to max length\n",
    "    if len(audio_numpy) > MAX_AUDIO_LENGTH:\n",
    "        audio_numpy = audio_numpy[:MAX_AUDIO_LENGTH]\n",
    "    elif len(audio_numpy) < MAX_AUDIO_LENGTH:\n",
    "        padding = np.zeros(MAX_AUDIO_LENGTH - len(audio_numpy), dtype=np.float32)\n",
    "        audio_numpy = np.concatenate([audio_numpy, padding])\n",
    "    \n",
    "    return audio_numpy\n",
    "\n",
    "def prepare_datasets(train_df, processor):\n",
    "    \"\"\"\n",
    "    Split and prepare datasets for training and evaluation.\n",
    "    \"\"\"\n",
    "    logger.info(\"Splitting dataset into train and evaluation...\")\n",
    "    \n",
    "    train_data, eval_data = train_test_split(train_df, test_size=0.2, random_state=42)\n",
    "    \n",
    "    def process_data(batch):\n",
    "        # Preprocess audio\n",
    "        audio = preprocess_audio(batch[\"audio\"])\n",
    "        \n",
    "        # Ensure audio is 1D\n",
    "        audio = audio.squeeze()\n",
    "        \n",
    "        # Process audio with the processor\n",
    "        inputs = processor(\n",
    "            audio, \n",
    "            sampling_rate=SAMPLING_RATE, \n",
    "            return_tensors=None,\n",
    "            padding=False\n",
    "        )\n",
    "        \n",
    "        # Ensure input_values is 1D\n",
    "        input_values = np.squeeze(inputs[\"input_values\"])\n",
    "        \n",
    "        # Tokenize IPA\n",
    "        with processor.as_target_processor():\n",
    "            labels = processor(batch[\"ipa\"]).input_ids\n",
    "        \n",
    "        return {\n",
    "            \"input_values\": input_values,\n",
    "            \"labels\": labels,\n",
    "            \"audio\": audio  # Keep the audio in the processed data\n",
    "        }\n",
    "    \n",
    "    # Convert DataFrames to Datasets\n",
    "    train_dataset = Dataset.from_pandas(train_data)\n",
    "    eval_dataset = Dataset.from_pandas(eval_data)\n",
    "    \n",
    "    # Apply processing\n",
    "    train_dataset = train_dataset.map(\n",
    "        process_data,\n",
    "        remove_columns=[col for col in train_dataset.column_names if col != \"audio\"]  # Keep audio column\n",
    "    )\n",
    "    eval_dataset = eval_dataset.map(\n",
    "        process_data,\n",
    "        remove_columns=[col for col in eval_dataset.column_names if col != \"audio\"]  # Keep audio column\n",
    "    )\n",
    "    \n",
    "    # Debug: Check shapes\n",
    "    sample_item = train_dataset[0]\n",
    "    logger.info(f\"Sample input_values shape: {np.array(sample_item['input_values']).shape}\")\n",
    "    logger.info(f\"Sample labels shape: {np.array(sample_item['labels']).shape}\")\n",
    "    \n",
    "    return train_dataset, eval_dataset\n",
    "\n",
    "def verify_dimensions(batch, logger):\n",
    "    \"\"\"\n",
    "    Debug helper to verify tensor dimensions\n",
    "    \"\"\"\n",
    "    logger.info(\"Batch dimensions:\")\n",
    "    for key, value in batch.items():\n",
    "        if isinstance(value, torch.Tensor):\n",
    "            logger.info(f\"{key}: {value.shape}\")\n",
    "\n",
    "# def train_model(model, train_dataset, eval_dataset, processor, output_dir=\"./results\"):\n",
    "    # \"\"\"\n",
    "    # Train the model using CTC loss.\n",
    "    # \"\"\"\n",
    "    # logger.info(\"Starting training...\")\n",
    "    \n",
    "    # # training_args = TrainingArguments(\n",
    "    # #     output_dir=output_dir,\n",
    "    # #     per_device_train_batch_size=1,\n",
    "    # #     gradient_accumulation_steps=4,\n",
    "    # #     learning_rate=1e-4,\n",
    "    # #     num_train_epochs=3,\n",
    "    # #     logging_dir='./logs',\n",
    "    # #     logging_steps=10,\n",
    "    # #     # Increase save_steps to reduce disk usage\n",
    "    # #     save_steps=500,  # Changed from 100\n",
    "    # #     eval_steps=100,\n",
    "    # #     eval_strategy=\"steps\",\n",
    "    # #     load_best_model_at_end=True,\n",
    "    # #     # Add save_safetensors=True for more reliable saving\n",
    "    # #     save_safetensors=True,\n",
    "    # # )\n",
    "    # training_args = TrainingArguments(\n",
    "    #     output_dir=output_dir,\n",
    "    #     # Decrease learning rate since loss is high\n",
    "    #     learning_rate=1e-5,  # Changed from 1e-4\n",
    "        \n",
    "    #     # Increase batch size for better stability\n",
    "    #     per_device_train_batch_size=1,  # Changed from 1\n",
    "    #     gradient_accumulation_steps=4,   # Changed from 4 (maintains effective batch size of 16)\n",
    "        \n",
    "    #     # Add warmup steps\n",
    "    #     warmup_steps=500,\n",
    "        \n",
    "    #     # Add weight decay for regularization\n",
    "    #     weight_decay=0.01,\n",
    "        \n",
    "    #     # Increase training time\n",
    "    #     num_train_epochs=10,  # Changed from 3\n",
    "        \n",
    "    #     # Keep other parameters\n",
    "    #     logging_dir='./logs',\n",
    "    #     logging_steps=10,\n",
    "    #     save_steps=500,\n",
    "    #     eval_steps=100,\n",
    "    #     eval_strategy=\"steps\",\n",
    "    #     load_best_model_at_end=True,\n",
    "\n",
    "        \n",
    "    #     # Add early stopping\n",
    "    #     metric_for_best_model=\"eval_loss\",\n",
    "    #     greater_is_better=False,\n",
    "\n",
    "    #     # Add these parameters for more robust checkpointing\n",
    "    #     save_safetensors=True,\n",
    "    #     save_strategy=\"steps\",\n",
    "    #     save_total_limit=3,  # Keep only last 3 checkpoints to manage disk space\n",
    "        \n",
    "    #     # Add this to handle potential corruption\n",
    "    #     hub_strategy=\"end\",  # Only save to hub at end of training\n",
    "    # )\n",
    "    # data_collator = DataCollatorCTCWithPadding(processor=processor)\n",
    "    \n",
    "    # trainer = Trainer(\n",
    "    #     model=model,\n",
    "    #     args=training_args,\n",
    "    #     train_dataset=train_dataset,\n",
    "    #     eval_dataset=eval_dataset,  # Include the eval dataset here\n",
    "    #     data_collator=data_collator,\n",
    "    # )\n",
    "    \n",
    "    # # Train the model\n",
    "    # trainer.train(resume_from_checkpoint=\"./results/checkpoint-3100\")\n",
    "\n",
    "    # # Save the final model and processor\n",
    "    # model.save_pretrained(output_dir)\n",
    "    # processor.save_pretrained(output_dir)\n",
    "    \n",
    "    # return model, processor\n",
    "\n",
    "def verify_token_ids(processor, stage=\"\"):\n",
    "    \"\"\"\n",
    "    Simple token verification function\n",
    "    \"\"\"\n",
    "    logger.info(f\"\\n=== Token ID Verification [{stage}] ===\")\n",
    "    vocab = processor.tokenizer.get_vocab()\n",
    "    logger.info(f\"Vocabulary size: {len(vocab)}\")\n",
    "    \n",
    "    # Check special tokens\n",
    "    special_tokens = [\"<pad>\", \"<s>\", \"</s>\", \"<unk>\"]\n",
    "    for token in special_tokens:\n",
    "        token_id = vocab.get(token)\n",
    "        logger.info(f\"Token {token}: ID {token_id}\")\n",
    "    \n",
    "    # Sample a few regular tokens\n",
    "    regular_tokens = [t for t in list(vocab.keys())[:5] if t not in special_tokens]\n",
    "    logger.info(\"Sample regular token IDs:\")\n",
    "    for token in regular_tokens:\n",
    "        logger.info(f\"Token {token}: ID {vocab[token]}\")\n",
    "    \n",
    "    return vocab\n",
    "\n",
    "def main(train_df, timit_vocab):\n",
    "    \"\"\"\n",
    "    Main training pipeline.\n",
    "    \"\"\"\n",
    "    # Initialize wandb for tracking\n",
    "    wandb.init(project=\"xlsr-buckeye-phoneme-prediction\")\n",
    "    \n",
    "    # Prepare model and processor\n",
    "    model, processor = prepare_model_and_processor(timit_vocab)\n",
    "    \n",
    "    # Verify tokens after preparation\n",
    "    vocab = verify_token_ids(processor, \"After Model Preparation\")\n",
    "    logger.info(f\"Full vocabulary: {vocab}\")\n",
    "    \n",
    "    # Get the device\n",
    "    device = torch.device(\"cuda\" if torch.cuda.is_available() else \"cpu\")\n",
    "    model = model.to(device)  # Ensure model is on GPU\n",
    "    \n",
    "    # Prepare train and eval datasets\n",
    "    train_dataset, eval_dataset = prepare_datasets(train_df, processor)\n",
    "    \n",
    "    # Create trainer\n",
    "    training_args = TrainingArguments(\n",
    "        output_dir=\"./results-b3\",\n",
    "        learning_rate=1e-4,\n",
    "        per_device_train_batch_size=4,\n",
    "        gradient_accumulation_steps=4, \n",
    "        warmup_steps=500,\n",
    "        weight_decay=0.001,\n",
    "        num_train_epochs=5,\n",
    "        logging_dir='./logs',\n",
    "        logging_steps=10,\n",
    "        save_steps=500,\n",
    "        eval_steps=100,\n",
    "        eval_strategy=\"steps\",\n",
    "        load_best_model_at_end=True,\n",
    "        metric_for_best_model=\"eval_loss\",\n",
    "        greater_is_better=False,\n",
    "        save_safetensors=True,\n",
    "        save_strategy=\"steps\",\n",
    "        save_total_limit=5,\n",
    "        hub_strategy=\"end\",\n",
    "    )\n",
    "    \n",
    "    data_collator = DataCollatorCTCWithPadding(processor=processor)\n",
    "    \n",
    "    trainer = Trainer(\n",
    "        model=model,\n",
    "        args=training_args,\n",
    "        train_dataset=train_dataset,\n",
    "        eval_dataset=eval_dataset,\n",
    "        data_collator=data_collator,\n",
    "    )\n",
    "    \n",
    "    # Train model\n",
    "    trainer.train(resume_from_checkpoint=\"./results-b3/checkpoint-1000\") # resume_from_checkpoint=\"./results-b1/checkpoint-500\"\n",
    "    \n",
    "    # Save the final model and processor\n",
    "    model.save_pretrained(\"./results-b3\")\n",
    "    processor.save_pretrained(\"./results-b3\")\n",
    "    \n",
    "    # Verify tokens after training\n",
    "    verify_token_ids(processor, \"After Training\")\n",
    "    \n",
    "    # Final inference verification\n",
    "    logger.info(\"Running inference on sample...\")\n",
    "    sample_audio = train_dataset[0][\"audio\"]\n",
    "    inputs = processor(sample_audio, return_tensors=\"pt\", padding=True)\n",
    "    inputs = {k: v.to(device) for k, v in inputs.items()}\n",
    "    \n",
    "    with torch.no_grad():\n",
    "        logits = model(**inputs).logits\n",
    "    predicted_ids = torch.argmax(logits, dim=-1)\n",
    "    \n",
    "    predicted_tokens = processor.batch_decode(predicted_ids)\n",
    "    cleaned_prediction = (predicted_tokens[0]\n",
    "                        .replace('<s>', '')\n",
    "                        .replace('</s>', '')\n",
    "                        .replace('<pad>', '')\n",
    "                        .replace('<unk>', '')\n",
    "                        .strip())\n",
    "    \n",
    "    logger.info(f\"Sample raw prediction: {predicted_tokens}\")\n",
    "    logger.info(f\"Sample cleaned prediction: {cleaned_prediction}\")\n",
    "    \n",
    "    wandb.finish()\n",
    "\n",
    "if __name__ == \"__main__\":\n",
    "    main(train_df, timit_vocab)"
   ]
  },
  {
   "cell_type": "markdown",
   "metadata": {},
   "source": [
    "# Preprocess Data"
   ]
  },
  {
   "cell_type": "code",
   "execution_count": 48,
   "metadata": {},
   "outputs": [
    {
     "name": "stdout",
     "output_type": "stream",
     "text": [
      "processor vocab: {'</s>': 1, '<pad>': 3, '<s>': 0, '<unk>': 2, 'a': 11, 'b': 14, 'd': 17, 'e': 22, 'f': 23, 'h': 31, 'i': 24, 'j': 35, 'k': 26, 'l': 38, 'm': 28, 'n': 20, 'o': 5, 'p': 13, 's': 9, 't': 32, 'u': 21, 'v': 37, 'w': 19, 'z': 7, 'æ': 16, 'ð': 29, 'ŋ': 33, 'ɑ': 40, 'ɔ': 15, 'ə': 12, 'ɛ': 30, 'ɡ': 39, 'ɪ': 10, 'ɹ': 8, 'ɾ': 34, 'ʃ': 18, 'ʊ': 36, 'ʌ': 6, 'ʒ': 25, 'ʔ': 4, 'θ': 27}\n"
     ]
    }
   ],
   "source": [
    "processor = AutoProcessor.from_pretrained(\"/home/arunasrivastava/ML/notebooks/results\")\n",
    "print(f\"processor vocab: {processor.tokenizer.get_vocab()}\")"
   ]
  },
  {
   "cell_type": "code",
   "execution_count": null,
   "metadata": {},
   "outputs": [],
   "source": [
    "\n",
    "vocab = processor.tokenizer.get_vocab()\n",
    "print(vocab)"
   ]
  },
  {
   "cell_type": "code",
   "execution_count": 167,
   "metadata": {},
   "outputs": [],
   "source": [
    "def prepare_dataset(batch):\n",
    "    batch[\"input_values\"] = processor(batch[\"audio\"], sampling_rate=feature_extractor.sampling_rate).input_values\n",
    "    with processor.as_target_processor():\n",
    "        batch[\"labels\"] = processor(batch[\"ipa\"]).input_ids\n",
    "    print(\"Tokenized IPA:\", batch['labels'])\n",
    "    # convert the batch['labels'] back to IPA\n",
    "    decoded_ipa = [processor.tokenizer.decode(label, skip_special_tokens=True) for label in batch['labels']]\n",
    "    print(\"Decoded IPA (skipping special tokens):\", decoded_ipa)\n",
    "    print(\"Length of tokenized IPA:\", len(batch['labels']))\n",
    "    return batch"
   ]
  },
  {
   "cell_type": "code",
   "execution_count": null,
   "metadata": {},
   "outputs": [],
   "source": [
    "# test prepare_dataset on just the furst row of the train_ds\n",
    "\n",
    "ds_test = prepare_dataset(train_ds[0])\n",
    "print(ds_test)"
   ]
  },
  {
   "cell_type": "code",
   "execution_count": null,
   "metadata": {},
   "outputs": [],
   "source": [
    "train_ds_prepared = train_ds.map(prepare_dataset, batch_size=8, num_proc=4)"
   ]
  },
  {
   "cell_type": "code",
   "execution_count": null,
   "metadata": {},
   "outputs": [],
   "source": [
    "test_ds_prepared = test_ds.map(prepare_dataset, batch_size=8, num_proc=4)"
   ]
  },
  {
   "cell_type": "code",
   "execution_count": null,
   "metadata": {},
   "outputs": [],
   "source": [
    "train_ds_prepared.to_pandas().head()"
   ]
  },
  {
   "cell_type": "markdown",
   "metadata": {},
   "source": [
    "# Fine-Tune Model"
   ]
  },
  {
   "cell_type": "code",
   "execution_count": null,
   "metadata": {},
   "outputs": [],
   "source": [
    "vocab = processor.tokenizer.get_vocab()\n",
    "print(vocab)\n"
   ]
  },
  {
   "cell_type": "code",
   "execution_count": null,
   "metadata": {},
   "outputs": [],
   "source": [
    "# print first row of train ipa\n",
    "print(len(train_ds_prepared[0]['ipa']))\n",
    "print(train_ds_prepared[0]['ipa'])\n",
    "# print ipa mapped to the vocab numbers\n",
    "print(train_ds_prepared[0]['labels'])\n",
    "\n",
    "print(len(train_ds_prepared[0]['labels']))"
   ]
  },
  {
   "cell_type": "code",
   "execution_count": 152,
   "metadata": {},
   "outputs": [],
   "source": [
    "\n",
    "class DataCollatorCTCWithPadding:\n",
    "    \"\"\"\n",
    "    Data collator that will dynamically pad the inputs received.\n",
    "    Args:\n",
    "        processor (:class:`~transformers.Wav2Vec2Processor`)\n",
    "            The processor used for proccessing the data.\n",
    "        padding (:obj:`bool`, :obj:`str` or :class:`~transformers.tokenization_utils_base.PaddingStrategy`, `optional`, defaults to :obj:`True`):\n",
    "            Select a strategy to pad the returned sequences (according to the model's padding side and padding index)\n",
    "            among:\n",
    "            * :obj:`True` or :obj:`'longest'`: Pad to the longest sequence in the batch (or no padding if only a single\n",
    "              sequence if provided).\n",
    "            * :obj:`'max_length'`: Pad to a maximum length specified with the argument :obj:`max_length` or to the\n",
    "              maximum acceptable input length for the model if that argument is not provided.\n",
    "            * :obj:`False` or :obj:`'do_not_pad'` (default): No padding (i.e., can output a batch with sequences of\n",
    "              different lengths).\n",
    "        max_length (:obj:`int`, `optional`):\n",
    "            Maximum length of the ``input_values`` of the returned list and optionally padding length (see above).\n",
    "        max_length_labels (:obj:`int`, `optional`):\n",
    "            Maximum length of the ``labels`` returned list and optionally padding length (see above).\n",
    "        pad_to_multiple_of (:obj:`int`, `optional`):\n",
    "            If set will pad the sequence to a multiple of the provided value.\n",
    "            This is especially useful to enable the use of Tensor Cores on NVIDIA hardware with compute capability >=\n",
    "            7.5 (Volta).\n",
    "    \"\"\"\n",
    "\n",
    "    def __init__(self, processor: AutoProcessor, padding=True, max_length=None, max_length_labels=None, pad_to_multiple_of=None, pad_to_multiple_of_labels=None):\n",
    "        self.processor = processor\n",
    "        self.padding = padding\n",
    "        self.max_length = max_length\n",
    "        self.max_length_labels = max_length_labels\n",
    "        self.pad_to_multiple_of = pad_to_multiple_of\n",
    "        self.pad_to_multiple_of_labels = pad_to_multiple_of_labels\n",
    "\n",
    "    def __call__(self, features: \"list[dict[str, list[int] | torch.Tensor]]\") -> \"dict[str, torch.Tensor]\":\n",
    "        vocab = processor.tokenizer.get_vocab()  # For most processors, this works\n",
    "        print(\"MF VOCAB\", vocab)\n",
    "\n",
    "        # split inputs and labels since they have to be of different lenghts and need\n",
    "        # different padding methods\n",
    "        input_features = [{\"input_values\": feature[\"input_values\"]} for feature in features]\n",
    "        label_features = [{\"input_ids\": feature[\"labels\"]} for feature in features]\n",
    "\n",
    "\n",
    "        batch = self.processor.pad(\n",
    "            input_features,\n",
    "            padding=self.padding,\n",
    "            max_length=self.max_length,\n",
    "            pad_to_multiple_of=self.pad_to_multiple_of,\n",
    "            return_tensors=\"pt\",\n",
    "        )\n",
    "        print(\"input-features pt after processor.pad\", batch[\"input_values\"].shape)\n",
    "        with self.processor.as_target_processor():\n",
    "            labels_batch = self.processor.pad(\n",
    "                label_features,\n",
    "                padding=self.padding,\n",
    "                max_length=self.max_length_labels,\n",
    "                pad_to_multiple_of=self.pad_to_multiple_of_labels,\n",
    "                return_tensors=\"pt\",\n",
    "            )\n",
    "        print(\"labels-features pt after processor.pad\", labels_batch[\"input_ids\"].shape)\n",
    "        # Loop through each sequence in the batch and decode\n",
    "        for i, input_ids in enumerate(labels_batch[\"input_ids\"]):\n",
    "            decoded_text = processor.decode(input_ids.tolist(), skip_special_tokens=False)\n",
    "            print(f\"Decoded text for sample {i}: {decoded_text}\")\n",
    "     \n",
    "\n",
    "        # replace padding with -100 to ignore loss correctly\n",
    "        labels = labels_batch[\"input_ids\"].masked_fill(labels_batch.attention_mask.ne(1), -100)\n",
    "        print(\"labels: \", labels)\n",
    "        print(\"labels-features pt after masked_fill\", labels.shape)\n",
    "\n",
    "        batch[\"labels\"] = labels\n",
    "\n",
    "        return batch"
   ]
  },
  {
   "cell_type": "code",
   "execution_count": null,
   "metadata": {},
   "outputs": [],
   "source": [
    "# Assuming train_ds is your dataset\n",
    "sample = train_ds_prepared[0]  # Grab the first row from the dataset\n",
    "# print the first row's phonemes\n",
    "print(\"Phonemes:\", sample[\"ipa\"])\n",
    "# Create an instance of the DataCollatorCTCWithPadding class\n",
    "processor = AutoProcessor.from_pretrained(PRE_TRAINED_ID)  # Replace with your processor\n",
    "data_collator = DataCollatorCTCWithPadding(processor=processor)\n",
    "\n",
    "# Manually test the data collator with the sample\n",
    "features = [sample]\n",
    "batch = data_collator(features)\n",
    "\n",
    "# Print the batch to inspect the results\n",
    "print(\"Batch:\", batch)"
   ]
  },
  {
   "cell_type": "code",
   "execution_count": 78,
   "metadata": {},
   "outputs": [],
   "source": [
    "data_collator = DataCollatorCTCWithPadding(processor=processor, padding=True)"
   ]
  },
  {
   "cell_type": "code",
   "execution_count": 68,
   "metadata": {},
   "outputs": [],
   "source": [
    "def cer(pred, label):\n",
    "    distances = np.zeros((len(pred) + 1, len(label) + 1))\n",
    "\n",
    "    for t1 in range(len(pred) + 1):\n",
    "        distances[t1][0] = t1\n",
    "\n",
    "    for t2 in range(len(label) + 1):\n",
    "        distances[0][t2] = t2\n",
    "        \n",
    "    a = 0\n",
    "    b = 0\n",
    "    c = 0\n",
    "    \n",
    "    for t1 in range(1, len(pred) + 1):\n",
    "        for t2 in range(1, len(label) + 1):\n",
    "            if (pred[t1-1] == label[t2-1]):\n",
    "                distances[t1][t2] = distances[t1 - 1][t2 - 1]\n",
    "            else:\n",
    "                a = distances[t1][t2 - 1]\n",
    "                b = distances[t1 - 1][t2]\n",
    "                c = distances[t1 - 1][t2 - 1]\n",
    "                \n",
    "                if (a <= b and a <= c):\n",
    "                    distances[t1][t2] = a + 1\n",
    "                elif (b <= a and b <= c):\n",
    "                    distances[t1][t2] = b + 1\n",
    "                else:\n",
    "                    distances[t1][t2] = c + 1\n",
    "\n",
    "    return distances[len(pred)][len(label)] / len(label)"
   ]
  },
  {
   "cell_type": "code",
   "execution_count": 79,
   "metadata": {},
   "outputs": [],
   "source": [
    "\n",
    "def compute_metrics(pred):\n",
    "    pred_logits = pred.predictions\n",
    "    pred_ids = np.argmax(pred_logits, axis=-1)\n",
    "\n",
    "    pred.label_ids[pred.label_ids == -100] = processor.tokenizer.pad_token_id\n",
    "\n",
    "    pred_str = processor.batch_decode(pred_ids)\n",
    "    label_str = processor.batch_decode(pred.label_ids, group_tokens=False) # labels are already grouped as they should be\n",
    "\n",
    "    # Call panphon_model_eval with label and predictedipa\n",
    "    results = panphon_model_eval(label_str, pred_str)\n",
    "\n",
    "    # Output results\n",
    "    print(\"Evaluation Results:\")\n",
    "    print(f\"Feature edit distance: {results['feature_dist']}\")\n",
    "    print(f\"Weighted feature edit distance: {results['weighted_feature_dist']}\")\n",
    "    print(f\"Hamming distance: {results['hamming_feature_dist']}\")\n",
    "    print(f\"CER: {results['cer_score']}\")\n",
    "\n",
    "\n",
    "    return results"
   ]
  },
  {
   "cell_type": "code",
   "execution_count": 80,
   "metadata": {},
   "outputs": [],
   "source": [
    "model = AutoModelForCTC.from_pretrained(\n",
    "    PRE_TRAINED_ID, \n",
    "    pad_token_id=processor.tokenizer.pad_token_id, \n",
    "    # gradient_checkpointing=True,\n",
    "    ctc_zero_infinity = True,\n",
    "    attention_dropout=0.1,\n",
    "    layerdrop=0.0,\n",
    "    feat_proj_dropout=0.0,\n",
    "    ctc_loss_reduction=\"mean\",\n",
    "    pad_token_id=processor.tokenizer.pad_token_id,\n",
    "    vocab_size=len(processor.tokenizer)\n",
    ")"
   ]
  },
  {
   "cell_type": "code",
   "execution_count": 81,
   "metadata": {},
   "outputs": [],
   "source": [
    "# model.resize_token_embeddings(len(tokenizer))\n",
    "old_weights = model.lm_head.weight.t().detach()\n",
    "old_bias = model.lm_head.bias.detach()\n",
    "new_layer = torch.nn.Linear(model.lm_head.in_features, len(processor.tokenizer))\n",
    "new_layer.weight.data[:model.lm_head.out_features, :] = old_weights.t()\n",
    "new_layer.bias.data[:model.lm_head.out_features] = old_bias\n",
    "model.lm_head = new_layer\n",
    "model.config.vocab_size = len(processor.tokenizer)"
   ]
  },
  {
   "cell_type": "code",
   "execution_count": 82,
   "metadata": {},
   "outputs": [],
   "source": [
    "model.freeze_feature_encoder()"
   ]
  },
  {
   "cell_type": "code",
   "execution_count": 73,
   "metadata": {},
   "outputs": [],
   "source": [
    "# sanity checks\n",
    "max_class_id = 0\n",
    "for label_sequence in train_ds_prepared['labels']:\n",
    "    for class_id in label_sequence:\n",
    "        max_class_id = max(max_class_id, class_id)\n",
    "assert max_class_id == model.config.vocab_size - 1\n",
    "\n",
    "for label_sequence in train_ds_prepared['labels']:\n",
    "    for class_id in label_sequence:\n",
    "        assert class_id >= 0 and class_id <  model.config.vocab_size\n",
    "\n",
    "for label_sequence in train_ds_prepared['labels']:\n",
    "    assert  len(label_sequence) < 1024\n",
    "    assert len(label_sequence) >= 5"
   ]
  },
  {
   "cell_type": "code",
   "execution_count": null,
   "metadata": {},
   "outputs": [],
   "source": [
    "import wandb\n",
    "from transformers import TrainingArguments, Trainer\n",
    "\n",
    "# Initialize wandb\n",
    "wandb.init(project=\"timit-finetune-a100\")\n",
    "\n",
    "training_args = TrainingArguments(\n",
    "    output_dir=OUTPUT_DIR,\n",
    "    group_by_length=True,\n",
    "    per_device_train_batch_size=8,\n",
    "    gradient_accumulation_steps=4,\n",
    "    eval_strategy=\"steps\",\n",
    "    num_train_epochs=5,\n",
    "    fp16=True,\n",
    "    save_steps=50,\n",
    "    eval_steps=50,\n",
    "    logging_steps=10,\n",
    "    learning_rate=1e-5,\n",
    "    warmup_steps=1000,\n",
    "    save_total_limit=3,\n",
    "    gradient_checkpointing=True,\n",
    "    load_best_model_at_end=True,\n",
    "    max_grad_norm=0.5,\n",
    "    report_to=\"wandb\" \n",
    ")"
   ]
  },
  {
   "cell_type": "code",
   "execution_count": 84,
   "metadata": {},
   "outputs": [],
   "source": [
    "from transformers import Trainer\n",
    "\n",
    "trainer = Trainer(\n",
    "    model=model,\n",
    "    data_collator=data_collator,\n",
    "    args=training_args,\n",
    "    compute_metrics=compute_metrics,\n",
    "    train_dataset=train_ds_prepared.select(range(10)),\n",
    "    # train_dataset=train_ds_prepared,\n",
    "    eval_dataset=test_ds_prepared.select(range(10)),\n",
    "    # eval_dataset=test_ds_prepared,\n",
    "    processing_class=processor.feature_extractor,\n",
    ")"
   ]
  },
  {
   "cell_type": "code",
   "execution_count": null,
   "metadata": {},
   "outputs": [],
   "source": [
    "# torch.autograd.set_detect_anomaly(False) # debug NaNs, disable for real training to improve performance\n",
    "# model.config.ctc_zero_infinity = True \n",
    "#resume_from_checkpoint=True\n",
    "trainer.train() # resume_from_checkpoint=True to resume training if training was interrupted"
   ]
  },
  {
   "cell_type": "markdown",
   "metadata": {},
   "source": [
    "# Evaluate"
   ]
  },
  {
   "cell_type": "code",
   "execution_count": null,
   "metadata": {},
   "outputs": [],
   "source": [
    "import wandb\n",
    "eval_results = trainer.evaluate()\n",
    "wandb.log(eval_results)"
   ]
  },
  {
   "cell_type": "code",
   "execution_count": 44,
   "metadata": {},
   "outputs": [],
   "source": [
    "old_model = AutoModelForCTC.from_pretrained(PRE_TRAINED_ID).to(model.device)"
   ]
  },
  {
   "cell_type": "code",
   "execution_count": 45,
   "metadata": {},
   "outputs": [],
   "source": [
    "finetuned_model = AutoModelForCTC.from_pretrained(os.path.join(OUTPUT_DIR, 'checkpoint-100'))"
   ]
  },
  {
   "cell_type": "code",
   "execution_count": 46,
   "metadata": {},
   "outputs": [],
   "source": [
    "# check for nan weights and replace with old values if any\n",
    "for name, param in finetuned_model.named_parameters():\n",
    "    if torch.isnan(param).any():\n",
    "        print(name)\n",
    "        param.data = old_model.state_dict()[name].data"
   ]
  },
  {
   "cell_type": "code",
   "execution_count": null,
   "metadata": {},
   "outputs": [],
   "source": [
    "# compare weights\n",
    "is_diff = False\n",
    "for name, param in finetuned_model.named_parameters():\n",
    "    if not torch.equal(param, old_model.state_dict()[name].to(finetuned_model.device)):\n",
    "        is_diff = True\n",
    "        break\n",
    "print(\"Weights are different, training did something\" if is_diff else \"Weights are the same, training did nothing\")"
   ]
  },
  {
   "cell_type": "code",
   "execution_count": 48,
   "metadata": {},
   "outputs": [],
   "source": [
    "def predict(model, wav_file):\n",
    "    speech = audio_file_to_array(wav_file)\n",
    "    input_values = processor(speech, sampling_rate=16000, return_tensors=\"pt\").input_values.type(torch.float32).to(model.device)\n",
    "\n",
    "    with torch.no_grad():\n",
    "        logits = model(input_values).logits\n",
    "\n",
    "    predicted_ids = torch.argmax(logits, dim=-1)\n",
    "    return processor.decode(predicted_ids[0])\n",
    "    "
   ]
  },
  {
   "cell_type": "code",
   "execution_count": null,
   "metadata": {},
   "outputs": [],
   "source": [
    "print('Checkpoint Transcription:', predict(finetuned_model, os.path.join('..', 'data', 'alexIsConfused.wav')))"
   ]
  },
  {
   "cell_type": "code",
   "execution_count": null,
   "metadata": {},
   "outputs": [],
   "source": [
    "print('Best Fine-Tune Transcription:', predict(trainer.model, os.path.join('..', 'data', 'alexIsConfused.wav')))"
   ]
  },
  {
   "cell_type": "code",
   "execution_count": null,
   "metadata": {},
   "outputs": [],
   "source": [
    "print('Best Fine-Tune Transcription:', predict(trainer.model, os.path.join('..', 'data', 'alexIsConfused.wav')))"
   ]
  },
  {
   "cell_type": "code",
   "execution_count": null,
   "metadata": {},
   "outputs": [],
   "source": [
    "print('Old Transcription:', predict(old_model, os.path.join('..', 'data', 'alexIsConfused.wav')))"
   ]
  },
  {
   "cell_type": "code",
   "execution_count": null,
   "metadata": {},
   "outputs": [],
   "source": []
  }
 ],
 "metadata": {
  "kernelspec": {
   "display_name": "venv",
   "language": "python",
   "name": "python3"
  },
  "language_info": {
   "codemirror_mode": {
    "name": "ipython",
    "version": 3
   },
   "file_extension": ".py",
   "mimetype": "text/x-python",
   "name": "python",
   "nbconvert_exporter": "python",
   "pygments_lexer": "ipython3",
   "version": "3.8.10"
  }
 },
 "nbformat": 4,
 "nbformat_minor": 2
}
