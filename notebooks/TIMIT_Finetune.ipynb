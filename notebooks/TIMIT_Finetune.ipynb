{
 "cells": [
  {
   "cell_type": "code",
   "execution_count": 1,
   "metadata": {},
   "outputs": [
    {
     "name": "stderr",
     "output_type": "stream",
     "text": [
      "/home/arunasrivastava/ML/venv/lib/python3.8/site-packages/tqdm/auto.py:21: TqdmWarning: IProgress not found. Please update jupyter and ipywidgets. See https://ipywidgets.readthedocs.io/en/stable/user_install.html\n",
      "  from .autonotebook import tqdm as notebook_tqdm\n"
     ]
    }
   ],
   "source": [
    "import numpy as np\n",
    "import zipfile\n",
    "from datasets import Dataset\n",
    "import pandas as pd\n",
    "\n",
    "import os\n",
    "# run as much as possible accelerated by apple silicon, fall back to cpu if not possible\n",
    "os.environ[\"PYTORCH_ENABLE_MPS_FALLBACK\"] = \"1\"\n",
    "import torch\n",
    "\n",
    "import sys\n",
    "sys.path.append('..')\n",
    "from scripts.audio import audio_file_to_array\n",
    "from scripts.ipa import timit2ipa\n",
    "from scripts.ipa import filter_chars"
   ]
  },
  {
   "cell_type": "code",
   "execution_count": 2,
   "metadata": {},
   "outputs": [],
   "source": [
    "import sys, os\n",
    "sys.path.append('..')\n",
    "from scripts.eval_tests.panphon_model_eval import panphon_model_eval "
   ]
  },
  {
   "cell_type": "code",
   "execution_count": 3,
   "metadata": {},
   "outputs": [],
   "source": [
    "# set espeak library path for macOS\n",
    "if sys.platform == \"darwin\":\n",
    "    from phonemizer.backend.espeak.wrapper import EspeakWrapper\n",
    "\n",
    "    _ESPEAK_LIBRARY = \"/opt/homebrew/Cellar/espeak/1.48.04_1/lib/libespeak.1.1.48.dylib\"\n",
    "    EspeakWrapper.set_library(_ESPEAK_LIBRARY)"
   ]
  },
  {
   "cell_type": "code",
   "execution_count": 4,
   "metadata": {},
   "outputs": [],
   "source": [
    "from transformers import AutoProcessor, AutoModelForCTC, AutoTokenizer, AutoFeatureExtractor"
   ]
  },
  {
   "cell_type": "code",
   "execution_count": 5,
   "metadata": {},
   "outputs": [],
   "source": [
    "OUTPUT_DIR = os.path.join('..', 'models', 'timit-xlsr-finetune-B')\n",
    "PRE_TRAINED_ID = \"facebook/wav2vec2-lv-60-espeak-cv-ft\""
   ]
  },
  {
   "cell_type": "markdown",
   "metadata": {},
   "source": [
    "# Load Data"
   ]
  },
  {
   "cell_type": "code",
   "execution_count": 6,
   "metadata": {},
   "outputs": [],
   "source": [
    "timit = zipfile.ZipFile('../.data/TIMIT.zip', 'r')\n",
    "timit_files = timit.namelist()"
   ]
  },
  {
   "cell_type": "code",
   "execution_count": 7,
   "metadata": {},
   "outputs": [],
   "source": [
    "training_files = list(set(map(lambda x: x.split('.')[0], filter(lambda x: x.startswith('data/TRAIN'), timit_files))))"
   ]
  },
  {
   "cell_type": "code",
   "execution_count": 8,
   "metadata": {},
   "outputs": [],
   "source": [
    "WAV_HEADER_SIZE = 44\n",
    "def zipped_wav_to_array(filename):\n",
    "    with timit.open(filename) as wav_file:\n",
    "        return np.frombuffer(wav_file.read(), dtype=np.int16)[WAV_HEADER_SIZE//2:]"
   ]
  },
  {
   "cell_type": "code",
   "execution_count": 9,
   "metadata": {},
   "outputs": [
    {
     "data": {
      "text/html": [
       "<div>\n",
       "<style scoped>\n",
       "    .dataframe tbody tr th:only-of-type {\n",
       "        vertical-align: middle;\n",
       "    }\n",
       "\n",
       "    .dataframe tbody tr th {\n",
       "        vertical-align: top;\n",
       "    }\n",
       "\n",
       "    .dataframe thead th {\n",
       "        text-align: right;\n",
       "    }\n",
       "</style>\n",
       "<table border=\"1\" class=\"dataframe\">\n",
       "  <thead>\n",
       "    <tr style=\"text-align: right;\">\n",
       "      <th></th>\n",
       "      <th>audio</th>\n",
       "      <th>ipa</th>\n",
       "      <th>phoneme_starts</th>\n",
       "      <th>phoneme_ends</th>\n",
       "    </tr>\n",
       "  </thead>\n",
       "  <tbody>\n",
       "    <tr>\n",
       "      <th>0</th>\n",
       "      <td>[25971, 30303, 29285, 26995, 28271, 11552, 131...</td>\n",
       "      <td>ðəbɔstnbæleɪoʊvəkeɪmðɛɹfʌndiŋʃɔɹɾiddʒ</td>\n",
       "      <td>[0, 2152, 2398, 2837, 4270, 4501, 6840, 7394, ...</td>\n",
       "      <td>[2152, 2398, 2837, 4270, 4501, 6840, 7394, 787...</td>\n",
       "    </tr>\n",
       "    <tr>\n",
       "      <th>1</th>\n",
       "      <td>[25971, 30303, 29285, 26995, 28271, 11552, 131...</td>\n",
       "      <td>flaɪiŋstændaɪkinbipɹækəklʔifjuwɑntuseɪvmʌni</td>\n",
       "      <td>[0, 2680, 3480, 4135, 5723, 6600, 7320, 9080, ...</td>\n",
       "      <td>[2680, 3480, 4135, 5723, 6600, 7320, 9080, 960...</td>\n",
       "    </tr>\n",
       "    <tr>\n",
       "      <th>2</th>\n",
       "      <td>[25971, 30303, 29285, 26995, 28271, 11552, 131...</td>\n",
       "      <td>ʃihædjɹdɑɹksutʔinɡɹisiwɔʃwɔɾɹʔɔljɪɹ</td>\n",
       "      <td>[0, 2400, 4470, 5480, 6600, 8898, 9566, 10151,...</td>\n",
       "      <td>[2400, 4470, 5480, 6600, 8898, 9566, 10151, 11...</td>\n",
       "    </tr>\n",
       "    <tr>\n",
       "      <th>3</th>\n",
       "      <td>[25971, 30303, 29285, 26995, 28271, 11552, 131...</td>\n",
       "      <td>hɛlpsɛləbɹeɪtjɹbɹʌðɹsiksɛs</td>\n",
       "      <td>[0, 4280, 4920, 6146, 6760, 7951, 10760, 12320...</td>\n",
       "      <td>[4280, 4920, 6146, 6760, 7951, 10760, 12320, 1...</td>\n",
       "    </tr>\n",
       "    <tr>\n",
       "      <th>4</th>\n",
       "      <td>[25971, 30303, 29285, 26995, 28271, 11552, 131...</td>\n",
       "      <td>eɪvimæθjusʔɪtsdzisɡʌstiŋnəweɪjɹʔɑlisʔidɪŋ</td>\n",
       "      <td>[0, 2300, 2760, 4971, 5890, 7060, 8981, 12040,...</td>\n",
       "      <td>[2300, 2760, 4971, 5890, 7060, 8981, 12040, 13...</td>\n",
       "    </tr>\n",
       "  </tbody>\n",
       "</table>\n",
       "</div>"
      ],
      "text/plain": [
       "                                               audio  \\\n",
       "0  [25971, 30303, 29285, 26995, 28271, 11552, 131...   \n",
       "1  [25971, 30303, 29285, 26995, 28271, 11552, 131...   \n",
       "2  [25971, 30303, 29285, 26995, 28271, 11552, 131...   \n",
       "3  [25971, 30303, 29285, 26995, 28271, 11552, 131...   \n",
       "4  [25971, 30303, 29285, 26995, 28271, 11552, 131...   \n",
       "\n",
       "                                           ipa  \\\n",
       "0        ðəbɔstnbæleɪoʊvəkeɪmðɛɹfʌndiŋʃɔɹɾiddʒ   \n",
       "1  flaɪiŋstændaɪkinbipɹækəklʔifjuwɑntuseɪvmʌni   \n",
       "2          ʃihædjɹdɑɹksutʔinɡɹisiwɔʃwɔɾɹʔɔljɪɹ   \n",
       "3                   hɛlpsɛləbɹeɪtjɹbɹʌðɹsiksɛs   \n",
       "4    eɪvimæθjusʔɪtsdzisɡʌstiŋnəweɪjɹʔɑlisʔidɪŋ   \n",
       "\n",
       "                                      phoneme_starts  \\\n",
       "0  [0, 2152, 2398, 2837, 4270, 4501, 6840, 7394, ...   \n",
       "1  [0, 2680, 3480, 4135, 5723, 6600, 7320, 9080, ...   \n",
       "2  [0, 2400, 4470, 5480, 6600, 8898, 9566, 10151,...   \n",
       "3  [0, 4280, 4920, 6146, 6760, 7951, 10760, 12320...   \n",
       "4  [0, 2300, 2760, 4971, 5890, 7060, 8981, 12040,...   \n",
       "\n",
       "                                        phoneme_ends  \n",
       "0  [2152, 2398, 2837, 4270, 4501, 6840, 7394, 787...  \n",
       "1  [2680, 3480, 4135, 5723, 6600, 7320, 9080, 960...  \n",
       "2  [2400, 4470, 5480, 6600, 8898, 9566, 10151, 11...  \n",
       "3  [4280, 4920, 6146, 6760, 7951, 10760, 12320, 1...  \n",
       "4  [2300, 2760, 4971, 5890, 7060, 8981, 12040, 13...  "
      ]
     },
     "execution_count": 9,
     "metadata": {},
     "output_type": "execute_result"
    }
   ],
   "source": [
    "# First, ensure that the simplify_timit function is available and works\n",
    "def simplify_timit(phoneme):\n",
    "    # Substitute the phoneme based on the dictionary\n",
    "    substitution_dict = {\n",
    "        'ɾ̃': 'ɾ',  # Replace nasalized flap with plain flap\n",
    "        'ŋ̍': 'ŋ',  # Remove syllabic marker from 'ŋ̍'\n",
    "        'ə̥': 'ə',  # Remove voiceless marker from 'ə̥'\n",
    "        'ɝ': 'ɹ',   # Simplify rhotacized schwa to 'ɹ'\n",
    "        'ɚ': 'ɹ',   # Simplify rhotacized schwa to 'ɹ'\n",
    "        'l̩': 'l',   # Remove syllabic marker from 'l̩'\n",
    "        'm̩': 'm',   # Remove syllabic marker from 'm̩'\n",
    "        'n̩': 'n',   # Remove syllabic marker from 'n̩'\n",
    "        '̩': '',     # Remove syllabic marker\n",
    "        'ʉ': 'u',    # Replace high central rounded vowel with high back rounded vowel\n",
    "        'ɨ': 'i',    # Replace high central unrounded vowel with high front unrounded vowel\n",
    "        ' ': '',     # Remove nasalization marker\n",
    "        'ɦ': 'h',    # Replace voiceless glottal fricative with voiceless glottal fricative\n",
    "        '͡': '', # Simplify affricate to single character\n",
    "        # Add other necessary substitutions if needed\n",
    "    }\n",
    "    # Apply the substitution for the phoneme\n",
    "    return substitution_dict.get(phoneme, phoneme)  # Return simplified phoneme or the original if no replacement\n",
    "\n",
    "def remove_stress_mark(text):\n",
    "    \"\"\"\n",
    "    Removes the combining double inverted breve (͡) from text.\n",
    "    \n",
    "    Args:\n",
    "        text: String or iterable containing IPA symbols\n",
    "        \n",
    "    Returns:\n",
    "        Text with stress marks removed\n",
    "    \"\"\"\n",
    "    if isinstance(text, str):\n",
    "        return text.replace('͡', '')\n",
    "    else:\n",
    "        raise TypeError(\"Input must be string, set, or list\")\n",
    "    \n",
    "# Updated timit_file_to_dict to use the simplified IPA phonemes\n",
    "def timit_file_to_dict(filename):\n",
    "    with timit.open(filename + '.PHN') as phn_file:\n",
    "        timestamped_phonemes = []\n",
    "        for line in phn_file.read().decode('utf-8').split('\\n'):\n",
    "            if line == '':\n",
    "                continue\n",
    "            start, end, phoneme = line.split()\n",
    "            \n",
    "            # Convert to IPA first and then simplify the phoneme\n",
    "            ipa_phonemes = timit2ipa(phoneme, \"eng\")\n",
    "            \n",
    "            # Now filter only the necessary characters (this simplifies the phoneme to the basic form)\n",
    "            cleaned_ipa = filter_chars(simplify_timit(ipa_phonemes), filter_type=\"letters\")\n",
    "            cleaned_ipa = remove_stress_mark(cleaned_ipa)\n",
    "            timestamped_phonemes.append((cleaned_ipa, int(start), int(end)))\n",
    "\n",
    "    return {'timestamped_phonemes': timestamped_phonemes, 'wav_filename': filename + '.WAV'}\n",
    "\n",
    "# Updated files_to_df to create DataFrame with cleaned-up phonemes\n",
    "def files_to_df(files):\n",
    "    records = []\n",
    "    for filename in files:\n",
    "        parsed = timit_file_to_dict(filename)\n",
    "        parsed['audio'] = zipped_wav_to_array(parsed['wav_filename'])\n",
    "        del parsed['wav_filename']\n",
    "        parsed['ipa'] = \"\".join(phoneme for phoneme, _, _ in parsed['timestamped_phonemes'])\n",
    "        parsed['phoneme_starts'] = [start for _, start, _ in parsed['timestamped_phonemes']]\n",
    "        parsed['phoneme_ends'] = [end for _, _, end in parsed['timestamped_phonemes']]\n",
    "        del parsed['timestamped_phonemes']\n",
    "        records.append(parsed)\n",
    "    return pd.DataFrame(records)\n",
    "\n",
    "# Call files_to_df for your test files\n",
    "train_df = files_to_df(training_files)\n",
    "train_df.head()\n"
   ]
  },
  {
   "cell_type": "markdown",
   "metadata": {},
   "source": [
    "### Cleaning Up Audio"
   ]
  },
  {
   "cell_type": "code",
   "execution_count": 10,
   "metadata": {},
   "outputs": [],
   "source": [
    "def crop_audio(row):\n",
    "    # Access the phoneme_starts column and get the last value of the list\n",
    "    end = row['phoneme_starts'][-1]\n",
    "    # Access the phoneme_ends column and get the first value of the list\n",
    "    start = row['phoneme_ends'][0]\n",
    "    # Crop the audio from start to end\n",
    "    # note that start and end are in samples, not seconds\n",
    "    cropped_audio = row['audio'][start:end]\n",
    "    \n",
    "    return cropped_audio"
   ]
  },
  {
   "cell_type": "code",
   "execution_count": 11,
   "metadata": {},
   "outputs": [
    {
     "data": {
      "image/png": "[encoded data removed]",
      "text/plain": [
       "<Figure size 640x480 with 1 Axes>"
      ]
     },
     "metadata": {},
     "output_type": "display_data"
    }
   ],
   "source": [
    "# graph one audio to see start signal that we will remove\n",
    "import matplotlib.pyplot as plt\n",
    "plt.plot(train_df['audio'][0])\n",
    "plt.show()"
   ]
  },
  {
   "cell_type": "code",
   "execution_count": 12,
   "metadata": {},
   "outputs": [
    {
     "data": {
      "text/html": [
       "<div>\n",
       "<style scoped>\n",
       "    .dataframe tbody tr th:only-of-type {\n",
       "        vertical-align: middle;\n",
       "    }\n",
       "\n",
       "    .dataframe tbody tr th {\n",
       "        vertical-align: top;\n",
       "    }\n",
       "\n",
       "    .dataframe thead th {\n",
       "        text-align: right;\n",
       "    }\n",
       "</style>\n",
       "<table border=\"1\" class=\"dataframe\">\n",
       "  <thead>\n",
       "    <tr style=\"text-align: right;\">\n",
       "      <th></th>\n",
       "      <th>audio</th>\n",
       "      <th>ipa</th>\n",
       "      <th>phoneme_starts</th>\n",
       "      <th>phoneme_ends</th>\n",
       "      <th>cropped_audio</th>\n",
       "    </tr>\n",
       "  </thead>\n",
       "  <tbody>\n",
       "    <tr>\n",
       "      <th>0</th>\n",
       "      <td>[25971, 30303, 29285, 26995, 28271, 11552, 131...</td>\n",
       "      <td>ðəbɔstnbæleɪoʊvəkeɪmðɛɹfʌndiŋʃɔɹɾiddʒ</td>\n",
       "      <td>[0, 2152, 2398, 2837, 4270, 4501, 6840, 7394, ...</td>\n",
       "      <td>[2152, 2398, 2837, 4270, 4501, 6840, 7394, 787...</td>\n",
       "      <td>[-1, 1, 0, -2, -4, 1, -4, 6, 1, -3, 1, 3, -1, ...</td>\n",
       "    </tr>\n",
       "    <tr>\n",
       "      <th>1</th>\n",
       "      <td>[25971, 30303, 29285, 26995, 28271, 11552, 131...</td>\n",
       "      <td>flaɪiŋstændaɪkinbipɹækəklʔifjuwɑntuseɪvmʌni</td>\n",
       "      <td>[0, 2680, 3480, 4135, 5723, 6600, 7320, 9080, ...</td>\n",
       "      <td>[2680, 3480, 4135, 5723, 6600, 7320, 9080, 960...</td>\n",
       "      <td>[4, 17, -2, -4, -5, -1, -4, -3, 7, -10, -2, -1...</td>\n",
       "    </tr>\n",
       "    <tr>\n",
       "      <th>2</th>\n",
       "      <td>[25971, 30303, 29285, 26995, 28271, 11552, 131...</td>\n",
       "      <td>ʃihædjɹdɑɹksutʔinɡɹisiwɔʃwɔɾɹʔɔljɪɹ</td>\n",
       "      <td>[0, 2400, 4470, 5480, 6600, 8898, 9566, 10151,...</td>\n",
       "      <td>[2400, 4470, 5480, 6600, 8898, 9566, 10151, 11...</td>\n",
       "      <td>[-4, 1, -4, -1, -3, -7, 0, 3, 4, -2, -6, -3, 1...</td>\n",
       "    </tr>\n",
       "    <tr>\n",
       "      <th>3</th>\n",
       "      <td>[25971, 30303, 29285, 26995, 28271, 11552, 131...</td>\n",
       "      <td>hɛlpsɛləbɹeɪtjɹbɹʌðɹsiksɛs</td>\n",
       "      <td>[0, 4280, 4920, 6146, 6760, 7951, 10760, 12320...</td>\n",
       "      <td>[4280, 4920, 6146, 6760, 7951, 10760, 12320, 1...</td>\n",
       "      <td>[15, -4, -4, 15, 18, 2, 12, 16, -11, -21, 2, 1...</td>\n",
       "    </tr>\n",
       "    <tr>\n",
       "      <th>4</th>\n",
       "      <td>[25971, 30303, 29285, 26995, 28271, 11552, 131...</td>\n",
       "      <td>eɪvimæθjusʔɪtsdzisɡʌstiŋnəweɪjɹʔɑlisʔidɪŋ</td>\n",
       "      <td>[0, 2300, 2760, 4971, 5890, 7060, 8981, 12040,...</td>\n",
       "      <td>[2300, 2760, 4971, 5890, 7060, 8981, 12040, 13...</td>\n",
       "      <td>[7, 3, 5, 6, 6, 6, 5, 4, 4, 3, 8, 4, 6, 1, 4, ...</td>\n",
       "    </tr>\n",
       "  </tbody>\n",
       "</table>\n",
       "</div>"
      ],
      "text/plain": [
       "                                               audio  \\\n",
       "0  [25971, 30303, 29285, 26995, 28271, 11552, 131...   \n",
       "1  [25971, 30303, 29285, 26995, 28271, 11552, 131...   \n",
       "2  [25971, 30303, 29285, 26995, 28271, 11552, 131...   \n",
       "3  [25971, 30303, 29285, 26995, 28271, 11552, 131...   \n",
       "4  [25971, 30303, 29285, 26995, 28271, 11552, 131...   \n",
       "\n",
       "                                           ipa  \\\n",
       "0        ðəbɔstnbæleɪoʊvəkeɪmðɛɹfʌndiŋʃɔɹɾiddʒ   \n",
       "1  flaɪiŋstændaɪkinbipɹækəklʔifjuwɑntuseɪvmʌni   \n",
       "2          ʃihædjɹdɑɹksutʔinɡɹisiwɔʃwɔɾɹʔɔljɪɹ   \n",
       "3                   hɛlpsɛləbɹeɪtjɹbɹʌðɹsiksɛs   \n",
       "4    eɪvimæθjusʔɪtsdzisɡʌstiŋnəweɪjɹʔɑlisʔidɪŋ   \n",
       "\n",
       "                                      phoneme_starts  \\\n",
       "0  [0, 2152, 2398, 2837, 4270, 4501, 6840, 7394, ...   \n",
       "1  [0, 2680, 3480, 4135, 5723, 6600, 7320, 9080, ...   \n",
       "2  [0, 2400, 4470, 5480, 6600, 8898, 9566, 10151,...   \n",
       "3  [0, 4280, 4920, 6146, 6760, 7951, 10760, 12320...   \n",
       "4  [0, 2300, 2760, 4971, 5890, 7060, 8981, 12040,...   \n",
       "\n",
       "                                        phoneme_ends  \\\n",
       "0  [2152, 2398, 2837, 4270, 4501, 6840, 7394, 787...   \n",
       "1  [2680, 3480, 4135, 5723, 6600, 7320, 9080, 960...   \n",
       "2  [2400, 4470, 5480, 6600, 8898, 9566, 10151, 11...   \n",
       "3  [4280, 4920, 6146, 6760, 7951, 10760, 12320, 1...   \n",
       "4  [2300, 2760, 4971, 5890, 7060, 8981, 12040, 13...   \n",
       "\n",
       "                                       cropped_audio  \n",
       "0  [-1, 1, 0, -2, -4, 1, -4, 6, 1, -3, 1, 3, -1, ...  \n",
       "1  [4, 17, -2, -4, -5, -1, -4, -3, 7, -10, -2, -1...  \n",
       "2  [-4, 1, -4, -1, -3, -7, 0, 3, 4, -2, -6, -3, 1...  \n",
       "3  [15, -4, -4, 15, 18, 2, 12, 16, -11, -21, 2, 1...  \n",
       "4  [7, 3, 5, 6, 6, 6, 5, 4, 4, 3, 8, 4, 6, 1, 4, ...  "
      ]
     },
     "execution_count": 12,
     "metadata": {},
     "output_type": "execute_result"
    }
   ],
   "source": [
    "# Apply the process_row function to each row in the DataFrame\n",
    "train_df['cropped_audio'] = train_df.apply(crop_audio, axis=1) \n",
    "train_df.head()\n",
    "    "
   ]
  },
  {
   "cell_type": "code",
   "execution_count": 13,
   "metadata": {},
   "outputs": [
    {
     "data": {
      "text/plain": [
       "[<matplotlib.lines.Line2D at 0x7fa523203d60>]"
      ]
     },
     "execution_count": 13,
     "metadata": {},
     "output_type": "execute_result"
    },
    {
     "data": {
      "image/png": "[encoded data removed]",
      "text/plain": [
       "<Figure size 640x480 with 1 Axes>"
      ]
     },
     "metadata": {},
     "output_type": "display_data"
    }
   ],
   "source": [
    "# visualize again, much better!\n",
    "plt.plot(train_df['cropped_audio'][0])\n"
   ]
  },
  {
   "cell_type": "code",
   "execution_count": 14,
   "metadata": {},
   "outputs": [
    {
     "data": {
      "text/html": [
       "<div>\n",
       "<style scoped>\n",
       "    .dataframe tbody tr th:only-of-type {\n",
       "        vertical-align: middle;\n",
       "    }\n",
       "\n",
       "    .dataframe tbody tr th {\n",
       "        vertical-align: top;\n",
       "    }\n",
       "\n",
       "    .dataframe thead th {\n",
       "        text-align: right;\n",
       "    }\n",
       "</style>\n",
       "<table border=\"1\" class=\"dataframe\">\n",
       "  <thead>\n",
       "    <tr style=\"text-align: right;\">\n",
       "      <th></th>\n",
       "      <th>ipa</th>\n",
       "      <th>audio</th>\n",
       "    </tr>\n",
       "  </thead>\n",
       "  <tbody>\n",
       "    <tr>\n",
       "      <th>0</th>\n",
       "      <td>ðəbɔstnbæleɪoʊvəkeɪmðɛɹfʌndiŋʃɔɹɾiddʒ</td>\n",
       "      <td>[-1, 1, 0, -2, -4, 1, -4, 6, 1, -3, 1, 3, -1, ...</td>\n",
       "    </tr>\n",
       "    <tr>\n",
       "      <th>1</th>\n",
       "      <td>flaɪiŋstændaɪkinbipɹækəklʔifjuwɑntuseɪvmʌni</td>\n",
       "      <td>[4, 17, -2, -4, -5, -1, -4, -3, 7, -10, -2, -1...</td>\n",
       "    </tr>\n",
       "    <tr>\n",
       "      <th>2</th>\n",
       "      <td>ʃihædjɹdɑɹksutʔinɡɹisiwɔʃwɔɾɹʔɔljɪɹ</td>\n",
       "      <td>[-4, 1, -4, -1, -3, -7, 0, 3, 4, -2, -6, -3, 1...</td>\n",
       "    </tr>\n",
       "    <tr>\n",
       "      <th>3</th>\n",
       "      <td>hɛlpsɛləbɹeɪtjɹbɹʌðɹsiksɛs</td>\n",
       "      <td>[15, -4, -4, 15, 18, 2, 12, 16, -11, -21, 2, 1...</td>\n",
       "    </tr>\n",
       "    <tr>\n",
       "      <th>4</th>\n",
       "      <td>eɪvimæθjusʔɪtsdzisɡʌstiŋnəweɪjɹʔɑlisʔidɪŋ</td>\n",
       "      <td>[7, 3, 5, 6, 6, 6, 5, 4, 4, 3, 8, 4, 6, 1, 4, ...</td>\n",
       "    </tr>\n",
       "  </tbody>\n",
       "</table>\n",
       "</div>"
      ],
      "text/plain": [
       "                                           ipa  \\\n",
       "0        ðəbɔstnbæleɪoʊvəkeɪmðɛɹfʌndiŋʃɔɹɾiddʒ   \n",
       "1  flaɪiŋstændaɪkinbipɹækəklʔifjuwɑntuseɪvmʌni   \n",
       "2          ʃihædjɹdɑɹksutʔinɡɹisiwɔʃwɔɾɹʔɔljɪɹ   \n",
       "3                   hɛlpsɛləbɹeɪtjɹbɹʌðɹsiksɛs   \n",
       "4    eɪvimæθjusʔɪtsdzisɡʌstiŋnəweɪjɹʔɑlisʔidɪŋ   \n",
       "\n",
       "                                               audio  \n",
       "0  [-1, 1, 0, -2, -4, 1, -4, 6, 1, -3, 1, 3, -1, ...  \n",
       "1  [4, 17, -2, -4, -5, -1, -4, -3, 7, -10, -2, -1...  \n",
       "2  [-4, 1, -4, -1, -3, -7, 0, 3, 4, -2, -6, -3, 1...  \n",
       "3  [15, -4, -4, 15, 18, 2, 12, 16, -11, -21, 2, 1...  \n",
       "4  [7, 3, 5, 6, 6, 6, 5, 4, 4, 3, 8, 4, 6, 1, 4, ...  "
      ]
     },
     "execution_count": 14,
     "metadata": {},
     "output_type": "execute_result"
    }
   ],
   "source": [
    "# train_df comprised of just cropped_audio and phonemes\n",
    "train_df = train_df.drop(columns=['phoneme_starts', 'phoneme_ends', 'audio'])\n",
    "# rename cropped audio to audio\n",
    "train_df = train_df.rename(columns={'cropped_audio': 'audio'})\n",
    "train_df.head()"
   ]
  },
  {
   "cell_type": "code",
   "execution_count": 15,
   "metadata": {},
   "outputs": [],
   "source": [
    "train_ds = Dataset.from_pandas(train_df)"
   ]
  },
  {
   "cell_type": "markdown",
   "metadata": {},
   "source": [
    "# Extend Phoneme Vocab"
   ]
  },
  {
   "cell_type": "code",
   "execution_count": 16,
   "metadata": {},
   "outputs": [],
   "source": [
    "timit_vocab = set(\"\".join(train_df['ipa']))"
   ]
  },
  {
   "cell_type": "code",
   "execution_count": 17,
   "metadata": {},
   "outputs": [
    {
     "name": "stdout",
     "output_type": "stream",
     "text": [
      "{'æ', 'ɡ', 'ɛ', 't', 'ʊ', 'ə', 'h', 'o', 'z', 'd', 's', 'n', 'ʒ', 'b', 'ɑ', 'ɹ', 'ŋ', 'ɪ', 'ʃ', 'ʔ', 'a', 'i', 'e', 'v', 'θ', 'ɔ', 'f', 'm', 'ð', 'j', 'u', 'w', 'k', 'ɾ', 'p', 'l', 'ʌ'}\n"
     ]
    }
   ],
   "source": [
    "print(timit_vocab)"
   ]
  },
  {
   "cell_type": "code",
   "execution_count": 18,
   "metadata": {},
   "outputs": [
    {
     "name": "stdout",
     "output_type": "stream",
     "text": [
      "{'<s>': 1, '<pad>': 0, '</s>': 2, '<unk>': 3, 'n': 4, 's': 5, 't': 6, 'ə': 7, 'l': 8, 'a': 9, 'i': 10, 'k': 11, 'd': 12, 'm': 13, 'ɛ': 14, 'ɾ': 15, 'e': 16, 'ɪ': 17, 'p': 18, 'o': 19, 'ɐ': 20, 'z': 21, 'ð': 22, 'f': 23, 'j': 24, 'v': 25, 'b': 26, 'ɹ': 27, 'ʁ': 28, 'ʊ': 29, 'iː': 30, 'r': 31, 'w': 32, 'ʌ': 33, 'u': 34, 'ɡ': 35, 'æ': 36, 'aɪ': 37, 'ʃ': 38, 'h': 39, 'ɔ': 40, 'ɑː': 41, 'ŋ': 42, 'ɚ': 43, 'eɪ': 44, 'β': 45, 'uː': 46, 'y': 47, 'ɑ̃': 48, 'oʊ': 49, 'ᵻ': 50, 'eː': 51, 'θ': 52, 'aʊ': 53, 'ts': 54, 'oː': 55, 'ɔ̃': 56, 'ɣ': 57, 'ɜ': 58, 'ɑ': 59, 'dʒ': 60, 'əl': 61, 'x': 62, 'ɜː': 63, 'ç': 64, 'ʒ': 65, 'tʃ': 66, 'ɔː': 67, 'ɑːɹ': 68, 'ɛ̃': 69, 'ʎ': 70, 'ɔːɹ': 71, 'ʋ': 72, 'aː': 73, 'ɕ': 74, 'œ': 75, 'ø': 76, 'oːɹ': 77, 'ɲ': 78, 'yː': 79, 'ʔ': 80, 'iə': 81, 'i5': 82, 's.': 83, 'tɕ': 84, '??': 85, 'nʲ': 86, 'ɛː': 87, 'œ̃': 88, 'ɭ': 89, 'ɔø': 90, 'ʑ': 91, 'tʲ': 92, 'ɨ': 93, 'ɛɹ': 94, 'ts.': 95, 'rʲ': 96, 'ɪɹ': 97, 'ɭʲ': 98, 'i.5': 99, 'ɔɪ': 100, 'q': 101, 'sʲ': 102, 'u5': 103, 'ʊɹ': 104, 'iɜ': 105, 'a5': 106, 'iɛ5': 107, 'øː': 108, 'ʕ': 109, 'ja': 110, 'əɜ': 111, 'th': 112, 'ɑ5': 113, 'oɪ': 114, 'dʲ': 115, 'ə5': 116, 'tɕh': 117, 'ts.h': 118, 'mʲ': 119, 'ɯ': 120, 'dʑ': 121, 'vʲ': 122, 'e̞': 123, 'tʃʲ': 124, 'ei5': 125, 'o5': 126, 'onɡ5': 127, 'ɑu5': 128, 'iɑ5': 129, 'ai5': 130, 'aɪɚ': 131, 'kh': 132, 'ə1': 133, 'ʐ': 134, 'i2': 135, 'ʉ': 136, 'ħ': 137, 't[': 138, 'aɪə': 139, 'ʲ': 140, 'ju': 141, 'ə2': 142, 'u2': 143, 'oɜ': 144, 'pː': 145, 'iɛɜ': 146, 'ou5': 147, 'y5': 148, 'uɜ': 149, 'tː': 150, 'uo5': 151, 'd[': 152, 'uoɜ': 153, 'tsh': 154, 'ɑɜ': 155, 'ɵ': 156, 'i̪5': 157, 'uei5': 158, 'ɟ': 159, 'aɜ': 160, 'ɑɨ': 161, 'i.ɜ': 162, 'eʊ': 163, 'o2': 164, 'ɐ̃': 165, 'ä': 166, 'pʲ': 167, 'kʲ': 168, 'n̩': 169, 'ɒ': 170, 'ph': 171, 'ɑu2': 172, 'uɨ': 173, 'əɪ': 174, 'ɫ': 175, 'ɬ': 176, 'yɜ': 177, 'bʲ': 178, 'ɑ2': 179, 's̪': 180, 'aiɜ': 181, 'χ': 182, 'ɐ̃ʊ̃': 183, '1': 184, 'ə4': 185, 'yæɜ': 186, 'a2': 187, 'ɨː': 188, 't̪': 189, 'iouɜ': 190, 'ũ': 191, 'onɡɜ': 192, 'aɨ': 193, 'iɛ2': 194, 'ɔɨ': 195, 'ɑuɜ': 196, 'o̞': 197, 'ei2': 198, 'iou2': 199, 'c': 200, 'kː': 201, 'y2': 202, 'ɖ': 203, 'oe': 204, 'dˤ': 205, 'yɛɜ': 206, 'əʊ': 207, 'S': 208, 'ɡʲ': 209, 'onɡ2': 210, 'u\"': 211, 'eiɜ': 212, 'ʈ': 213, 'ɯᵝ': 214, 'iou5': 215, 'dZ': 216, 'r̝̊': 217, 'i.2': 218, 'tS': 219, 's^': 220, 'ʝ': 221, 'yə5': 222, 'iɑɜ': 223, 'uə5': 224, 'pf': 225, 'ɨu': 226, 'iɑ2': 227, 'ou2': 228, 'ər2': 229, 'fʲ': 230, 'ai2': 231, 'r̝': 232, 'uəɜ': 233, 'ɳ': 234, 'əɨ': 235, 'ua5': 236, 'uɪ': 237, 'ɽ': 238, 'bː': 239, 'yu5': 240, 'uo2': 241, 'yɛ5': 242, 'l̩': 243, 'ɻ': 244, 'ərɜ': 245, 'ʂ': 246, 'i̪2': 247, 'ouɜ': 248, 'uaɜ': 249, 'a.': 250, 'a.ː': 251, 'yæ5': 252, 'dː': 253, 'r̩': 254, 'ee': 255, 'ɪu': 256, 'ər5': 257, 'i̪ɜ': 258, 'æi': 259, 'u:': 260, 'i.ː': 261, 't^': 262, 'o1': 263, 'ɪ^': 264, 'ai': 265, 'ueiɜ': 266, 'æː': 267, 'ɛɪ': 268, 'eə': 269, 'i.': 270, 'ɴ': 271, 'ie': 272, 'ua2': 273, 'ɑ1': 274, 'o4': 275, 'tʃː': 276, 'o:': 277, 'ɑ:': 278, 'u1': 279, 'N': 280, 'i̪1': 281, 'au': 282, 'yæ2': 283, 'u.': 284, 'qː': 285, 'yəɜ': 286, 'y:': 287, 'kʰ': 288, 'tʃʰ': 289, 'iʊ': 290, 'sx': 291, 'õ': 292, 'uo': 293, 'tʰ': 294, 'uai5': 295, 'bʰ': 296, 'u.ː': 297, 'uə2': 298, 'ʊə': 299, 'd^': 300, 's̪ː': 301, 'yiɜ': 302, 'dʰ': 303, 'r.': 304, 'oe:': 305, 'i1': 306, 'ɟː': 307, 'yu2': 308, 'nʲʲ': 309, 'i̪4': 310, 'uei2': 311, 'tsʲ': 312, 'ɸ': 313, 'ĩ': 314, 'ɑ4': 315, 't̪ː': 316, 'eɑ': 317, 'u4': 318, 'e:': 319, 'tsː': 320, 'ʈʰ': 321, 'ɡʰ': 322, 'ɯɯ': 323, 'dʒʲ': 324, 'ʂʲ': 325, 'X': 326, 'ɵː': 327, 'uaiɜ': 328, 'tɕʲ': 329, 'ã': 330, 't^ː': 331, 'ẽː': 332, 'yɛ2': 333, 'cː': 334, 'i.1': 335, 'ɛʊ': 336, 'dˤdˤ': 337, 'dʒː': 338, 'i4': 339, 'ɡː': 340, 'yi': 341, 'ɕʲ': 342, 'ɟʰ': 343, 'pʰ': 344, 'dʑʲ': 345, 'yuɜ': 346, 'ua1': 347, 'ua4': 348, 'æiː': 349, 'ɐɐ': 350, 'ui': 351, 'iou1': 352, 'ʊː': 353, 'a1': 354, 'iou4': 355, 'cʰ': 356, 'iɛ1': 357, 'yə2': 358, 'ɖʰ': 359, 'ẽ': 360, 'ʒʲ': 361, 'ää': 362, 'ər4': 363, 'iːː': 364, 'ɪː': 365, 'iɑ1': 366, 'ər1': 367, 'œː': 368, 'øi': 369, 'ɪuː': 370, 'cʰcʰ': 371, 'əː1': 372, 'iː1': 373, 'ũ': 374, 'kʰː': 375, 'o̞o̞': 376, 'xʲ': 377, 'ou1': 378, 'iɛ4': 379, 'e̞e̞': 380, 'y1': 381, 'dzː': 382, 'dʲʲ': 383, 'dʰː': 384, 'ɯᵝɯᵝ': 385, 'lː': 386, 'uo1': 387, 'i.4': 388, 'i:': 389, 'yɛ5ʲ': 390, 'a4': 391}\n"
     ]
    }
   ],
   "source": [
    "tokenizer = AutoTokenizer.from_pretrained(PRE_TRAINED_ID)\n",
    "vocab = tokenizer.get_vocab()\n",
    "print(vocab)"
   ]
  },
  {
   "cell_type": "code",
   "execution_count": 19,
   "metadata": {},
   "outputs": [
    {
     "name": "stdout",
     "output_type": "stream",
     "text": [
      "set()\n"
     ]
    }
   ],
   "source": [
    "additional_vocab = timit_vocab.difference(set(vocab.keys()) | {' '})\n",
    "tokenizer.add_tokens(list(additional_vocab))\n",
    "print(additional_vocab)\n"
   ]
  },
  {
   "cell_type": "markdown",
   "metadata": {},
   "source": [
    "# Update Feature Extraction"
   ]
  },
  {
   "cell_type": "code",
   "execution_count": 20,
   "metadata": {},
   "outputs": [],
   "source": [
    "feature_extractor = AutoFeatureExtractor.from_pretrained(PRE_TRAINED_ID)"
   ]
  },
  {
   "cell_type": "markdown",
   "metadata": {},
   "source": [
    "We don't need to update the feature extractor since it has been pretrained on 16kHz audio which matches the TIMIT dataset.\n",
    "\n",
    "For datasets with different sampling rates, the feature extractor should be updated or the audio resampled (easier).\n",
    "\n",
    "This is also where code to add extra features (such as conditioning on speaker's native language etc.) would be added."
   ]
  },
  {
   "cell_type": "markdown",
   "metadata": {},
   "source": [
    "### NEW FINE-TUNE CODE\n"
   ]
  },
  {
   "cell_type": "code",
   "execution_count": 21,
   "metadata": {},
   "outputs": [
    {
     "name": "stderr",
     "output_type": "stream",
     "text": [
      "\u001b[34m\u001b[1mwandb\u001b[0m: Using wandb-core as the SDK backend.  Please refer to https://wandb.me/wandb-core for more information.\n",
      "\u001b[34m\u001b[1mwandb\u001b[0m: Currently logged in as: \u001b[33maruna-sri\u001b[0m (\u001b[33maruna-team\u001b[0m). Use \u001b[1m`wandb login --relogin`\u001b[0m to force relogin\n"
     ]
    },
    {
     "data": {
      "text/html": [
       "Tracking run with wandb version 0.18.6"
      ],
      "text/plain": [
       "<IPython.core.display.HTML object>"
      ]
     },
     "metadata": {},
     "output_type": "display_data"
    },
    {
     "data": {
      "text/html": [
       "Run data is saved locally in <code>/home/arunasrivastava/ML/notebooks/wandb/run-20241129_044725-g5eqlkdd</code>"
      ],
      "text/plain": [
       "<IPython.core.display.HTML object>"
      ]
     },
     "metadata": {},
     "output_type": "display_data"
    },
    {
     "data": {
      "text/html": [
       "Syncing run <strong><a href='https://wandb.ai/aruna-team/xlsr-phoneme-prediction/runs/g5eqlkdd' target=\"_blank\">usual-violet-67</a></strong> to <a href='https://wandb.ai/aruna-team/xlsr-phoneme-prediction' target=\"_blank\">Weights & Biases</a> (<a href='https://wandb.me/developer-guide' target=\"_blank\">docs</a>)<br/>"
      ],
      "text/plain": [
       "<IPython.core.display.HTML object>"
      ]
     },
     "metadata": {},
     "output_type": "display_data"
    },
    {
     "data": {
      "text/html": [
       " View project at <a href='https://wandb.ai/aruna-team/xlsr-phoneme-prediction' target=\"_blank\">https://wandb.ai/aruna-team/xlsr-phoneme-prediction</a>"
      ],
      "text/plain": [
       "<IPython.core.display.HTML object>"
      ]
     },
     "metadata": {},
     "output_type": "display_data"
    },
    {
     "data": {
      "text/html": [
       " View run at <a href='https://wandb.ai/aruna-team/xlsr-phoneme-prediction/runs/g5eqlkdd' target=\"_blank\">https://wandb.ai/aruna-team/xlsr-phoneme-prediction/runs/g5eqlkdd</a>"
      ],
      "text/plain": [
       "<IPython.core.display.HTML object>"
      ]
     },
     "metadata": {},
     "output_type": "display_data"
    },
    {
     "name": "stderr",
     "output_type": "stream",
     "text": [
      "INFO:__main__:Loading pretrained model and processor...\n",
      "INFO:__main__:Initial vocabulary size: 41\n",
      "INFO:__main__:Reduced vocabulary size: 41\n",
      "INFO:__main__:Old weights shape: torch.Size([41, 1024])\n",
      "INFO:__main__:New layer weight shape: torch.Size([41, 1024])\n",
      "INFO:__main__:Special token <pad> verified with id 0\n",
      "INFO:__main__:Special token <unk> verified with id 1\n",
      "INFO:__main__:Special token </s> verified with id 2\n",
      "INFO:__main__:Special token <s> verified with id 3\n",
      "INFO:__main__:Splitting dataset into train and evaluation...\n",
      "Map:   0%|          | 0/3696 [00:00<?, ? examples/s]/home/arunasrivastava/ML/venv/lib/python3.8/site-packages/transformers/models/wav2vec2/processing_wav2vec2.py:174: UserWarning: `as_target_processor` is deprecated and will be removed in v5 of Transformers. You can process your labels by using the argument `text` of the regular `__call__` method (either in the same call as your audio inputs, or in a separate call.\n",
      "  warnings.warn(\n",
      "Map: 100%|██████████| 3696/3696 [01:34<00:00, 38.95 examples/s]\n",
      "Map: 100%|██████████| 924/924 [00:24<00:00, 37.76 examples/s]\n",
      "INFO:__main__:Sample input_values shape: (160000,)\n",
      "INFO:__main__:Sample labels shape: (35,)\n",
      "INFO:__main__:Starting training...\n",
      "/home/arunasrivastava/ML/venv/lib/python3.8/site-packages/transformers/trainer.py:3347: FutureWarning: You are using `torch.load` with `weights_only=False` (the current default value), which uses the default pickle module implicitly. It is possible to construct malicious pickle data which will execute arbitrary code during unpickling (See https://github.com/pytorch/pytorch/blob/main/SECURITY.md#untrusted-models for more details). In a future release, the default value for `weights_only` will be flipped to `True`. This limits the functions that could be executed during unpickling. Arbitrary objects will no longer be allowed to be loaded via this mode unless they are explicitly allowlisted by the user via `torch.serialization.add_safe_globals`. We recommend you start setting `weights_only=True` for any use case where you don't have full control of the loaded file. Please open an issue on GitHub for any issues related to this experimental feature.\n",
      "  torch.load(os.path.join(checkpoint, OPTIMIZER_NAME), map_location=map_location)\n",
      "Warning: The following arguments do not match the ones in the `trainer_state.json` within the checkpoint directory: \n",
      "\tsave_steps: 500 (from args) != 100 (from trainer_state.json)\n",
      "\u001b[34m\u001b[1mwandb\u001b[0m: \u001b[33mWARNING\u001b[0m The `run_name` is currently set to the same value as `TrainingArguments.output_dir`. If this was not intended, please specify a different run name by setting the `TrainingArguments.run_name` parameter.\n",
      "/home/arunasrivastava/ML/venv/lib/python3.8/site-packages/transformers/models/wav2vec2/processing_wav2vec2.py:174: UserWarning: `as_target_processor` is deprecated and will be removed in v5 of Transformers. You can process your labels by using the argument `text` of the regular `__call__` method (either in the same call as your audio inputs, or in a separate call.\n",
      "  warnings.warn(\n",
      "/home/arunasrivastava/ML/venv/lib/python3.8/site-packages/transformers/trainer.py:3026: FutureWarning: You are using `torch.load` with `weights_only=False` (the current default value), which uses the default pickle module implicitly. It is possible to construct malicious pickle data which will execute arbitrary code during unpickling (See https://github.com/pytorch/pytorch/blob/main/SECURITY.md#untrusted-models for more details). In a future release, the default value for `weights_only` will be flipped to `True`. This limits the functions that could be executed during unpickling. Arbitrary objects will no longer be allowed to be loaded via this mode unless they are explicitly allowlisted by the user via `torch.serialization.add_safe_globals`. We recommend you start setting `weights_only=True` for any use case where you don't have full control of the loaded file. Please open an issue on GitHub for any issues related to this experimental feature.\n",
      "  checkpoint_rng_state = torch.load(rng_file)\n"
     ]
    },
    {
     "data": {
      "text/html": [
       "\n",
       "    <div>\n",
       "      \n",
       "      <progress value='3201' max='9240' style='width:300px; height:20px; vertical-align: middle;'></progress>\n",
       "      [3201/9240 14:11 < 2:51:44, 0.59 it/s, Epoch 3.46/10]\n",
       "    </div>\n",
       "    <table border=\"1\" class=\"dataframe\">\n",
       "  <thead>\n",
       " <tr style=\"text-align: left;\">\n",
       "      <th>Step</th>\n",
       "      <th>Training Loss</th>\n",
       "      <th>Validation Loss</th>\n",
       "    </tr>\n",
       "  </thead>\n",
       "  <tbody>\n",
       "    <tr>\n",
       "      <td>2800</td>\n",
       "      <td>105.738300</td>\n",
       "      <td>121.364586</td>\n",
       "    </tr>\n",
       "    <tr>\n",
       "      <td>2900</td>\n",
       "      <td>57.969700</td>\n",
       "      <td>87.509377</td>\n",
       "    </tr>\n",
       "    <tr>\n",
       "      <td>3000</td>\n",
       "      <td>80.344100</td>\n",
       "      <td>87.647171</td>\n",
       "    </tr>\n",
       "    <tr>\n",
       "      <td>3100</td>\n",
       "      <td>52.737200</td>\n",
       "      <td>83.651855</td>\n",
       "    </tr>\n",
       "  </tbody>\n",
       "</table><p>\n",
       "    <div>\n",
       "      \n",
       "      <progress value='66' max='116' style='width:300px; height:20px; vertical-align: middle;'></progress>\n",
       "      [ 66/116 01:00 < 00:46, 1.07 it/s]\n",
       "    </div>\n",
       "    "
      ],
      "text/plain": [
       "<IPython.core.display.HTML object>"
      ]
     },
     "metadata": {},
     "output_type": "display_data"
    },
    {
     "name": "stderr",
     "output_type": "stream",
     "text": [
      "/home/arunasrivastava/ML/venv/lib/python3.8/site-packages/transformers/models/wav2vec2/processing_wav2vec2.py:174: UserWarning: `as_target_processor` is deprecated and will be removed in v5 of Transformers. You can process your labels by using the argument `text` of the regular `__call__` method (either in the same call as your audio inputs, or in a separate call.\n",
      "  warnings.warn(\n",
      "/home/arunasrivastava/ML/venv/lib/python3.8/site-packages/transformers/models/wav2vec2/processing_wav2vec2.py:174: UserWarning: `as_target_processor` is deprecated and will be removed in v5 of Transformers. You can process your labels by using the argument `text` of the regular `__call__` method (either in the same call as your audio inputs, or in a separate call.\n",
      "  warnings.warn(\n",
      "/home/arunasrivastava/ML/venv/lib/python3.8/site-packages/transformers/models/wav2vec2/processing_wav2vec2.py:174: UserWarning: `as_target_processor` is deprecated and will be removed in v5 of Transformers. You can process your labels by using the argument `text` of the regular `__call__` method (either in the same call as your audio inputs, or in a separate call.\n",
      "  warnings.warn(\n",
      "/home/arunasrivastava/ML/venv/lib/python3.8/site-packages/transformers/models/wav2vec2/processing_wav2vec2.py:174: UserWarning: `as_target_processor` is deprecated and will be removed in v5 of Transformers. You can process your labels by using the argument `text` of the regular `__call__` method (either in the same call as your audio inputs, or in a separate call.\n",
      "  warnings.warn(\n"
     ]
    }
   ],
   "source": [
    "import torch\n",
    "from transformers import AutoProcessor, AutoModelForCTC, Trainer, TrainingArguments\n",
    "from datasets import Dataset\n",
    "import numpy as np\n",
    "from dataclasses import dataclass\n",
    "from typing import Dict, List, Optional, Union\n",
    "import logging\n",
    "from torch.utils.data import DataLoader\n",
    "import wandb\n",
    "import os\n",
    "from sklearn.model_selection import train_test_split\n",
    "import torchaudio\n",
    "import numpy as np\n",
    "\n",
    "NEW_MODEL_ID = \"/home/arunasrivastava/ML/notebooks/results\"\n",
    "\n",
    "# Set up logging\n",
    "logging.basicConfig(level=logging.INFO)\n",
    "logger = logging.getLogger(__name__)\n",
    "\n",
    "# Constants\n",
    "SAMPLING_RATE = 16000\n",
    "MAX_AUDIO_LENGTH = 160000  # 10 seconds at 16kHz\n",
    "MAX_LABEL_LENGTH = 100\n",
    "\n",
    "@dataclass\n",
    "class DataCollatorCTCWithPadding:\n",
    "    \"\"\"\n",
    "    Data collator that will dynamically pad the inputs received.\n",
    "    \"\"\"\n",
    "    processor: AutoProcessor\n",
    "    padding: Union[bool, str] = \"longest\"\n",
    "\n",
    "    def __call__(self, features: List[Dict[str, Union[List[int], torch.Tensor]]]) -> Dict[str, torch.Tensor]:\n",
    "        # Get max length of all input_values in batch\n",
    "        max_length = max(len(feature[\"input_values\"]) for feature in features)\n",
    "        \n",
    "        # Pad input_values\n",
    "        padded_inputs = []\n",
    "        attention_mask = []\n",
    "        for feature in features:\n",
    "            input_length = len(feature[\"input_values\"])\n",
    "            padding_length = max_length - input_length\n",
    "            \n",
    "            # Convert to tensor and ensure correct shape\n",
    "            if isinstance(feature[\"input_values\"], list):\n",
    "                input_values = torch.tensor(feature[\"input_values\"])\n",
    "            else:\n",
    "                input_values = feature[\"input_values\"]\n",
    "            \n",
    "            # Remove any extra dimensions and ensure it's 1D\n",
    "            input_values = input_values.squeeze()\n",
    "            \n",
    "            # Pad with zeros\n",
    "            if padding_length > 0:\n",
    "                padded_input = torch.nn.functional.pad(input_values, (0, padding_length))\n",
    "                attention_mask.append(torch.cat([torch.ones(input_length), torch.zeros(padding_length)]))\n",
    "            else:\n",
    "                padded_input = input_values\n",
    "                attention_mask.append(torch.ones(input_length))\n",
    "            \n",
    "            padded_inputs.append(padded_input)\n",
    "\n",
    "        # Stack all padded inputs ensuring correct dimensions [batch_size, sequence_length]\n",
    "        batch = {\n",
    "            \"input_values\": torch.stack(padded_inputs),\n",
    "            \"attention_mask\": torch.stack(attention_mask)\n",
    "        }\n",
    "\n",
    "        # Process labels\n",
    "        with self.processor.as_target_processor():\n",
    "            label_features = [{\"input_ids\": feature[\"labels\"]} for feature in features]\n",
    "            labels_batch = self.processor.pad(\n",
    "                label_features,\n",
    "                padding=self.padding,\n",
    "                return_tensors=\"pt\",\n",
    "            )\n",
    "\n",
    "        # Replace padding with -100 to ignore loss correctly\n",
    "        labels = labels_batch[\"input_ids\"].masked_fill(labels_batch.attention_mask.ne(1), -100)\n",
    "        batch[\"labels\"] = labels\n",
    "\n",
    "        return batch\n",
    "def prepare_model_and_processor(timit_vocab):\n",
    "    \"\"\"\n",
    "    Prepare the model and processor with reduced vocabulary.\n",
    "    \"\"\"\n",
    "    logger.info(\"Loading pretrained model and processor...\")\n",
    "    \n",
    "    # Load processor and model\n",
    "    processor = AutoProcessor.from_pretrained(NEW_MODEL_ID)\n",
    "    model = AutoModelForCTC.from_pretrained(NEW_MODEL_ID)\n",
    "    \n",
    "    # Store the old vocabulary before we modify anything\n",
    "    old_vocab = processor.tokenizer.get_vocab()\n",
    "    \n",
    "    # Verify initial setup\n",
    "    initial_vocab_size = len(old_vocab)\n",
    "    logger.info(f\"Initial vocabulary size: {initial_vocab_size}\")\n",
    "    \n",
    "    # Create reduced vocabulary with special tokens preserved\n",
    "    special_tokens = processor.tokenizer.special_tokens_map\n",
    "    special_token_values = set(special_tokens.values())\n",
    "    \n",
    "    # Ensure we keep special tokens\n",
    "    timit_vocab_with_special = timit_vocab | special_token_values\n",
    "    \n",
    "    # Create new vocab with special tokens first, then regular tokens\n",
    "    special_token_dict = {token: idx for idx, token in enumerate(special_token_values)}\n",
    "    next_idx = len(special_token_dict)\n",
    "    \n",
    "    regular_token_dict = {token: idx + next_idx \n",
    "                         for idx, token in enumerate(timit_vocab - special_token_values)}\n",
    "    \n",
    "    reduced_vocab = {**special_token_dict, **regular_token_dict}\n",
    "    \n",
    "    # Create new tokenizer config\n",
    "    tokenizer_config = {\n",
    "        \"vocab\": reduced_vocab,\n",
    "        \"pad_token\": processor.tokenizer.pad_token,\n",
    "        \"word_delimiter_token\": processor.tokenizer.word_delimiter_token,\n",
    "        \"bos_token\": processor.tokenizer.bos_token,\n",
    "        \"eos_token\": processor.tokenizer.eos_token,\n",
    "        \"unk_token\": processor.tokenizer.unk_token,\n",
    "        \"word_delimiter_token\": processor.tokenizer.word_delimiter_token,\n",
    "    }\n",
    "    \n",
    "    # Create new tokenizer with reduced vocabulary\n",
    "    from transformers import Wav2Vec2CTCTokenizer\n",
    "    import json\n",
    "    import tempfile\n",
    "    \n",
    "    # Save vocab to temporary file\n",
    "    with tempfile.NamedTemporaryFile(mode='w', delete=False) as f:\n",
    "        json.dump(reduced_vocab, f)\n",
    "        vocab_path = f.name\n",
    "    \n",
    "    # Create new tokenizer\n",
    "    new_tokenizer = Wav2Vec2CTCTokenizer(\n",
    "        vocab_path,\n",
    "        **{k: v for k, v in tokenizer_config.items() if k != \"vocab\"}\n",
    "    )\n",
    "    \n",
    "    # Update processor with new tokenizer\n",
    "    processor.tokenizer = new_tokenizer\n",
    "    \n",
    "    # Clean up temporary file\n",
    "    os.remove(vocab_path)\n",
    "    \n",
    "    # Verify vocabulary size\n",
    "    assert len(processor.tokenizer.get_vocab()) == len(reduced_vocab), \"Vocabulary size mismatch\"\n",
    "    logger.info(f\"Reduced vocabulary size: {len(reduced_vocab)}\")\n",
    "    \n",
    "    # Get the weights from the original model\n",
    "    old_weights = model.lm_head.weight.data\n",
    "    old_bias = model.lm_head.bias.data\n",
    "    \n",
    "    # Create new layer with correct dimensions\n",
    "    new_layer = torch.nn.Linear(model.lm_head.in_features, len(processor.tokenizer))\n",
    "    \n",
    "    # Verify dimensions before transfer\n",
    "    logger.info(f\"Old weights shape: {old_weights.shape}\")\n",
    "    logger.info(f\"New layer weight shape: {new_layer.weight.shape}\")\n",
    "    \n",
    "    # Initialize new weights to zero\n",
    "    new_layer.weight.data.zero_()\n",
    "    new_layer.bias.data.zero_()\n",
    "    \n",
    "    # Get new vocabulary\n",
    "    new_vocab = processor.tokenizer.get_vocab()\n",
    "    \n",
    "    # Transfer weights and bias for tokens that exist in both vocabularies\n",
    "    for token, new_idx in new_vocab.items():\n",
    "        if token in old_vocab:\n",
    "            old_idx = old_vocab[token]\n",
    "            new_layer.weight.data[new_idx, :] = old_weights[old_idx, :]\n",
    "            new_layer.bias.data[new_idx] = old_bias[old_idx]\n",
    "    \n",
    "    model.lm_head = new_layer\n",
    "    model.config.vocab_size = len(processor.tokenizer)\n",
    "    \n",
    "    # Verify the setup with special handling for special tokens\n",
    "    special_tokens_set = set(special_tokens.values())\n",
    "    sample_regular_tokens = list(reduced_vocab.keys() - special_tokens_set)[:5]\n",
    "    \n",
    "    # First verify regular tokens\n",
    "    for token in sample_regular_tokens:\n",
    "        encoded = processor.tokenizer(token)\n",
    "        decoded = processor.tokenizer.decode(encoded.input_ids)\n",
    "        assert token in decoded, f\"Token verification failed for {token}\"\n",
    "    \n",
    "    # Then verify special tokens separately\n",
    "    for token in special_tokens_set:\n",
    "        # Get the ID for this special token\n",
    "        token_id = processor.tokenizer.convert_tokens_to_ids(token)\n",
    "        # Verify the ID exists and is within range\n",
    "        assert 0 <= token_id < len(processor.tokenizer), f\"Invalid ID for special token {token}\"\n",
    "        # Verify we can encode and decode without error\n",
    "        encoded = processor.tokenizer(token, return_tensors='pt')\n",
    "        _ = processor.tokenizer.decode(encoded.input_ids[0].tolist())\n",
    "        logger.info(f\"Special token {token} verified with id {token_id}\")\n",
    "    \n",
    "    return model, processor\n",
    "\n",
    "\n",
    "def preprocess_audio(audio_input):\n",
    "    \"\"\"\n",
    "    Load and preprocess audio to match expected format.\n",
    "    \n",
    "    Args:\n",
    "        audio_input: Can be a file path (str), numpy array, list, or tensor\n",
    "        \n",
    "    Returns:\n",
    "        np.ndarray: Processed audio as float32 numpy array\n",
    "    \"\"\"\n",
    "    # Handle different input types\n",
    "    if isinstance(audio_input, str):  # File path\n",
    "        waveform, sample_rate = torchaudio.load(audio_input)\n",
    "        audio_numpy = waveform.squeeze().numpy()\n",
    "        \n",
    "    elif isinstance(audio_input, list):  # List input\n",
    "        audio_numpy = np.array(audio_input, dtype=np.float32)\n",
    "        \n",
    "    elif isinstance(audio_input, np.ndarray):  # Already numpy array\n",
    "        audio_numpy = audio_input\n",
    "        \n",
    "    elif isinstance(audio_input, torch.Tensor):  # Torch tensor\n",
    "        audio_numpy = audio_input.numpy()\n",
    "        \n",
    "    else:\n",
    "        raise ValueError(f\"Unsupported audio type: {type(audio_input)}\")\n",
    "    \n",
    "    # Ensure float32 dtype\n",
    "    audio_numpy = audio_numpy.astype(np.float32)\n",
    "    \n",
    "    # Ensure 1D array\n",
    "    if len(audio_numpy.shape) > 1:\n",
    "        audio_numpy = np.mean(audio_numpy, axis=0)\n",
    "    \n",
    "    # Normalize audio\n",
    "    if np.abs(audio_numpy).max() > 1:\n",
    "        audio_numpy = audio_numpy / np.abs(audio_numpy).max()\n",
    "    \n",
    "    # Trim or pad to max length\n",
    "    if len(audio_numpy) > MAX_AUDIO_LENGTH:\n",
    "        audio_numpy = audio_numpy[:MAX_AUDIO_LENGTH]\n",
    "    elif len(audio_numpy) < MAX_AUDIO_LENGTH:\n",
    "        padding = np.zeros(MAX_AUDIO_LENGTH - len(audio_numpy), dtype=np.float32)\n",
    "        audio_numpy = np.concatenate([audio_numpy, padding])\n",
    "    \n",
    "    return audio_numpy\n",
    "\n",
    "def prepare_datasets(train_df, processor):\n",
    "    \"\"\"\n",
    "    Split and prepare datasets for training and evaluation.\n",
    "    \"\"\"\n",
    "    logger.info(\"Splitting dataset into train and evaluation...\")\n",
    "    \n",
    "    train_data, eval_data = train_test_split(train_df, test_size=0.2, random_state=42)\n",
    "    \n",
    "    def process_data(batch):\n",
    "        # Preprocess audio\n",
    "        audio = preprocess_audio(batch[\"audio\"])\n",
    "        \n",
    "        # Ensure audio is 1D\n",
    "        audio = audio.squeeze()\n",
    "        \n",
    "        # Process audio with the processor\n",
    "        inputs = processor(\n",
    "            audio, \n",
    "            sampling_rate=SAMPLING_RATE, \n",
    "            return_tensors=None,\n",
    "            padding=False\n",
    "        )\n",
    "        \n",
    "        # Ensure input_values is 1D\n",
    "        input_values = np.squeeze(inputs[\"input_values\"])\n",
    "        \n",
    "        # Tokenize IPA\n",
    "        with processor.as_target_processor():\n",
    "            labels = processor(batch[\"ipa\"]).input_ids\n",
    "        \n",
    "        return {\n",
    "            \"input_values\": input_values,\n",
    "            \"labels\": labels,\n",
    "            \"audio\": audio  # Keep the audio in the processed data\n",
    "        }\n",
    "    \n",
    "    # Convert DataFrames to Datasets\n",
    "    train_dataset = Dataset.from_pandas(train_data)\n",
    "    eval_dataset = Dataset.from_pandas(eval_data)\n",
    "    \n",
    "    # Apply processing\n",
    "    train_dataset = train_dataset.map(\n",
    "        process_data,\n",
    "        remove_columns=[col for col in train_dataset.column_names if col != \"audio\"]  # Keep audio column\n",
    "    )\n",
    "    eval_dataset = eval_dataset.map(\n",
    "        process_data,\n",
    "        remove_columns=[col for col in eval_dataset.column_names if col != \"audio\"]  # Keep audio column\n",
    "    )\n",
    "    \n",
    "    # Debug: Check shapes\n",
    "    sample_item = train_dataset[0]\n",
    "    logger.info(f\"Sample input_values shape: {np.array(sample_item['input_values']).shape}\")\n",
    "    logger.info(f\"Sample labels shape: {np.array(sample_item['labels']).shape}\")\n",
    "    \n",
    "    return train_dataset, eval_dataset\n",
    "\n",
    "def verify_dimensions(batch, logger):\n",
    "    \"\"\"\n",
    "    Debug helper to verify tensor dimensions\n",
    "    \"\"\"\n",
    "    logger.info(\"Batch dimensions:\")\n",
    "    for key, value in batch.items():\n",
    "        if isinstance(value, torch.Tensor):\n",
    "            logger.info(f\"{key}: {value.shape}\")\n",
    "\n",
    "def train_model(model, train_dataset, eval_dataset, processor, output_dir=\"./results\"):\n",
    "    \"\"\"\n",
    "    Train the model using CTC loss.\n",
    "    \"\"\"\n",
    "    logger.info(\"Starting training...\")\n",
    "    \n",
    "    # training_args = TrainingArguments(\n",
    "    #     output_dir=output_dir,\n",
    "    #     per_device_train_batch_size=1,\n",
    "    #     gradient_accumulation_steps=4,\n",
    "    #     learning_rate=1e-4,\n",
    "    #     num_train_epochs=3,\n",
    "    #     logging_dir='./logs',\n",
    "    #     logging_steps=10,\n",
    "    #     # Increase save_steps to reduce disk usage\n",
    "    #     save_steps=500,  # Changed from 100\n",
    "    #     eval_steps=100,\n",
    "    #     eval_strategy=\"steps\",\n",
    "    #     load_best_model_at_end=True,\n",
    "    #     # Add save_safetensors=True for more reliable saving\n",
    "    #     save_safetensors=True,\n",
    "    # )\n",
    "    training_args = TrainingArguments(\n",
    "        output_dir=output_dir,\n",
    "        # Decrease learning rate since loss is high\n",
    "        learning_rate=1e-5,  # Changed from 1e-4\n",
    "        \n",
    "        # Increase batch size for better stability\n",
    "        per_device_train_batch_size=1,  # Changed from 1\n",
    "        gradient_accumulation_steps=4,   # Changed from 4 (maintains effective batch size of 16)\n",
    "        \n",
    "        # Add warmup steps\n",
    "        warmup_steps=500,\n",
    "        \n",
    "        # Add weight decay for regularization\n",
    "        weight_decay=0.01,\n",
    "        \n",
    "        # Increase training time\n",
    "        num_train_epochs=10,  # Changed from 3\n",
    "        \n",
    "        # Keep other parameters\n",
    "        logging_dir='./logs',\n",
    "        logging_steps=10,\n",
    "        save_steps=500,\n",
    "        eval_steps=100,\n",
    "        eval_strategy=\"steps\",\n",
    "        load_best_model_at_end=True,\n",
    "        save_safetensors=True,\n",
    "        \n",
    "        # Add early stopping\n",
    "        metric_for_best_model=\"eval_loss\",\n",
    "        greater_is_better=False,\n",
    "    )\n",
    "    data_collator = DataCollatorCTCWithPadding(processor=processor)\n",
    "    \n",
    "    trainer = Trainer(\n",
    "        model=model,\n",
    "        args=training_args,\n",
    "        train_dataset=train_dataset,\n",
    "        eval_dataset=eval_dataset,  # Include the eval dataset here\n",
    "        data_collator=data_collator,\n",
    "    )\n",
    "    \n",
    "    # Train the model\n",
    "    trainer.train(resume_from_checkpoint=\"./results/checkpoint-2700\")\n",
    "\n",
    "    # Save the final model and processor\n",
    "    model.save_pretrained(output_dir)\n",
    "    processor.save_pretrained(output_dir)\n",
    "    \n",
    "    return model, processor\n",
    "\n",
    "def main(train_df, timit_vocab):\n",
    "    \"\"\"\n",
    "    Main training pipeline.\n",
    "    \"\"\"\n",
    "    # Initialize wandb for tracking\n",
    "    wandb.init(project=\"xlsr-phoneme-prediction\")\n",
    "    \n",
    "    # Prepare model and processor\n",
    "    model, processor = prepare_model_and_processor(timit_vocab)\n",
    "    \n",
    "    # Get the device\n",
    "    device = torch.device(\"cuda\" if torch.cuda.is_available() else \"cpu\")\n",
    "    model = model.to(device)  # Ensure model is on GPU\n",
    "    \n",
    "    # Prepare train and eval datasets\n",
    "    train_dataset, eval_dataset = prepare_datasets(train_df, processor)\n",
    "    \n",
    "    # Train model\n",
    "    model, processor = train_model(model, train_dataset, eval_dataset, processor)\n",
    "    \n",
    "    ## Final verification\n",
    "    logger.info(\"Running inference on sample...\")\n",
    "    sample_audio = train_dataset[0][\"audio\"]\n",
    "    inputs = processor(sample_audio, return_tensors=\"pt\", padding=True)\n",
    "    # Move inputs to the same device as the model\n",
    "    inputs = {k: v.to(device) for k, v in inputs.items()}\n",
    "    \n",
    "    with torch.no_grad():\n",
    "        logits = model(**inputs).logits\n",
    "    predicted_ids = torch.argmax(logits, dim=-1)\n",
    "    \n",
    "    # Modified decoding to remove special tokens properly\n",
    "    predicted_tokens = processor.batch_decode(predicted_ids)\n",
    "    # Clean up the prediction by removing special tokens and extra spaces\n",
    "    cleaned_prediction = (predicted_tokens[0]\n",
    "                        .replace('<s>', '')\n",
    "                        .replace('</s>', '')\n",
    "                        .replace('<pad>', '')\n",
    "                        .replace('<unk>', '')\n",
    "                        .strip())\n",
    "    \n",
    "    logger.info(f\"Sample raw prediction: {predicted_tokens}\")\n",
    "    logger.info(f\"Sample cleaned prediction: {cleaned_prediction}\")\n",
    "    \n",
    "    wandb.finish()\n",
    "\n",
    "if __name__ == \"__main__\":\n",
    "    main(train_df, timit_vocab)"
   ]
  },
  {
   "cell_type": "markdown",
   "metadata": {},
   "source": [
    "# Preprocess Data"
   ]
  },
  {
   "cell_type": "code",
   "execution_count": 48,
   "metadata": {},
   "outputs": [
    {
     "name": "stdout",
     "output_type": "stream",
     "text": [
      "processor vocab: {'</s>': 1, '<pad>': 3, '<s>': 0, '<unk>': 2, 'a': 11, 'b': 14, 'd': 17, 'e': 22, 'f': 23, 'h': 31, 'i': 24, 'j': 35, 'k': 26, 'l': 38, 'm': 28, 'n': 20, 'o': 5, 'p': 13, 's': 9, 't': 32, 'u': 21, 'v': 37, 'w': 19, 'z': 7, 'æ': 16, 'ð': 29, 'ŋ': 33, 'ɑ': 40, 'ɔ': 15, 'ə': 12, 'ɛ': 30, 'ɡ': 39, 'ɪ': 10, 'ɹ': 8, 'ɾ': 34, 'ʃ': 18, 'ʊ': 36, 'ʌ': 6, 'ʒ': 25, 'ʔ': 4, 'θ': 27}\n"
     ]
    }
   ],
   "source": [
    "processor = AutoProcessor.from_pretrained(\"/home/arunasrivastava/ML/notebooks/results\")\n",
    "print(f\"processor vocab: {processor.tokenizer.get_vocab()}\")"
   ]
  },
  {
   "cell_type": "code",
   "execution_count": null,
   "metadata": {},
   "outputs": [],
   "source": [
    "\n",
    "vocab = processor.tokenizer.get_vocab()\n",
    "print(vocab)"
   ]
  },
  {
   "cell_type": "code",
   "execution_count": 167,
   "metadata": {},
   "outputs": [],
   "source": [
    "def prepare_dataset(batch):\n",
    "    batch[\"input_values\"] = processor(batch[\"audio\"], sampling_rate=feature_extractor.sampling_rate).input_values\n",
    "    with processor.as_target_processor():\n",
    "        batch[\"labels\"] = processor(batch[\"ipa\"]).input_ids\n",
    "    print(\"Tokenized IPA:\", batch['labels'])\n",
    "    # convert the batch['labels'] back to IPA\n",
    "    decoded_ipa = [processor.tokenizer.decode(label, skip_special_tokens=True) for label in batch['labels']]\n",
    "    print(\"Decoded IPA (skipping special tokens):\", decoded_ipa)\n",
    "    print(\"Length of tokenized IPA:\", len(batch['labels']))\n",
    "    return batch"
   ]
  },
  {
   "cell_type": "code",
   "execution_count": null,
   "metadata": {},
   "outputs": [],
   "source": [
    "# test prepare_dataset on just the furst row of the train_ds\n",
    "\n",
    "ds_test = prepare_dataset(train_ds[0])\n",
    "print(ds_test)"
   ]
  },
  {
   "cell_type": "code",
   "execution_count": null,
   "metadata": {},
   "outputs": [],
   "source": [
    "train_ds_prepared = train_ds.map(prepare_dataset, batch_size=8, num_proc=4)"
   ]
  },
  {
   "cell_type": "code",
   "execution_count": null,
   "metadata": {},
   "outputs": [],
   "source": [
    "test_ds_prepared = test_ds.map(prepare_dataset, batch_size=8, num_proc=4)"
   ]
  },
  {
   "cell_type": "code",
   "execution_count": null,
   "metadata": {},
   "outputs": [],
   "source": [
    "train_ds_prepared.to_pandas().head()"
   ]
  },
  {
   "cell_type": "markdown",
   "metadata": {},
   "source": [
    "# Fine-Tune Model"
   ]
  },
  {
   "cell_type": "code",
   "execution_count": null,
   "metadata": {},
   "outputs": [],
   "source": [
    "vocab = processor.tokenizer.get_vocab()\n",
    "print(vocab)\n"
   ]
  },
  {
   "cell_type": "code",
   "execution_count": null,
   "metadata": {},
   "outputs": [],
   "source": [
    "# print first row of train ipa\n",
    "print(len(train_ds_prepared[0]['ipa']))\n",
    "print(train_ds_prepared[0]['ipa'])\n",
    "# print ipa mapped to the vocab numbers\n",
    "print(train_ds_prepared[0]['labels'])\n",
    "\n",
    "print(len(train_ds_prepared[0]['labels']))"
   ]
  },
  {
   "cell_type": "code",
   "execution_count": 152,
   "metadata": {},
   "outputs": [],
   "source": [
    "\n",
    "class DataCollatorCTCWithPadding:\n",
    "    \"\"\"\n",
    "    Data collator that will dynamically pad the inputs received.\n",
    "    Args:\n",
    "        processor (:class:`~transformers.Wav2Vec2Processor`)\n",
    "            The processor used for proccessing the data.\n",
    "        padding (:obj:`bool`, :obj:`str` or :class:`~transformers.tokenization_utils_base.PaddingStrategy`, `optional`, defaults to :obj:`True`):\n",
    "            Select a strategy to pad the returned sequences (according to the model's padding side and padding index)\n",
    "            among:\n",
    "            * :obj:`True` or :obj:`'longest'`: Pad to the longest sequence in the batch (or no padding if only a single\n",
    "              sequence if provided).\n",
    "            * :obj:`'max_length'`: Pad to a maximum length specified with the argument :obj:`max_length` or to the\n",
    "              maximum acceptable input length for the model if that argument is not provided.\n",
    "            * :obj:`False` or :obj:`'do_not_pad'` (default): No padding (i.e., can output a batch with sequences of\n",
    "              different lengths).\n",
    "        max_length (:obj:`int`, `optional`):\n",
    "            Maximum length of the ``input_values`` of the returned list and optionally padding length (see above).\n",
    "        max_length_labels (:obj:`int`, `optional`):\n",
    "            Maximum length of the ``labels`` returned list and optionally padding length (see above).\n",
    "        pad_to_multiple_of (:obj:`int`, `optional`):\n",
    "            If set will pad the sequence to a multiple of the provided value.\n",
    "            This is especially useful to enable the use of Tensor Cores on NVIDIA hardware with compute capability >=\n",
    "            7.5 (Volta).\n",
    "    \"\"\"\n",
    "\n",
    "    def __init__(self, processor: AutoProcessor, padding=True, max_length=None, max_length_labels=None, pad_to_multiple_of=None, pad_to_multiple_of_labels=None):\n",
    "        self.processor = processor\n",
    "        self.padding = padding\n",
    "        self.max_length = max_length\n",
    "        self.max_length_labels = max_length_labels\n",
    "        self.pad_to_multiple_of = pad_to_multiple_of\n",
    "        self.pad_to_multiple_of_labels = pad_to_multiple_of_labels\n",
    "\n",
    "    def __call__(self, features: \"list[dict[str, list[int] | torch.Tensor]]\") -> \"dict[str, torch.Tensor]\":\n",
    "        vocab = processor.tokenizer.get_vocab()  # For most processors, this works\n",
    "        print(\"MF VOCAB\", vocab)\n",
    "\n",
    "        # split inputs and labels since they have to be of different lenghts and need\n",
    "        # different padding methods\n",
    "        input_features = [{\"input_values\": feature[\"input_values\"]} for feature in features]\n",
    "        label_features = [{\"input_ids\": feature[\"labels\"]} for feature in features]\n",
    "\n",
    "\n",
    "        batch = self.processor.pad(\n",
    "            input_features,\n",
    "            padding=self.padding,\n",
    "            max_length=self.max_length,\n",
    "            pad_to_multiple_of=self.pad_to_multiple_of,\n",
    "            return_tensors=\"pt\",\n",
    "        )\n",
    "        print(\"input-features pt after processor.pad\", batch[\"input_values\"].shape)\n",
    "        with self.processor.as_target_processor():\n",
    "            labels_batch = self.processor.pad(\n",
    "                label_features,\n",
    "                padding=self.padding,\n",
    "                max_length=self.max_length_labels,\n",
    "                pad_to_multiple_of=self.pad_to_multiple_of_labels,\n",
    "                return_tensors=\"pt\",\n",
    "            )\n",
    "        print(\"labels-features pt after processor.pad\", labels_batch[\"input_ids\"].shape)\n",
    "        # Loop through each sequence in the batch and decode\n",
    "        for i, input_ids in enumerate(labels_batch[\"input_ids\"]):\n",
    "            decoded_text = processor.decode(input_ids.tolist(), skip_special_tokens=False)\n",
    "            print(f\"Decoded text for sample {i}: {decoded_text}\")\n",
    "     \n",
    "\n",
    "        # replace padding with -100 to ignore loss correctly\n",
    "        labels = labels_batch[\"input_ids\"].masked_fill(labels_batch.attention_mask.ne(1), -100)\n",
    "        print(\"labels: \", labels)\n",
    "        print(\"labels-features pt after masked_fill\", labels.shape)\n",
    "\n",
    "        batch[\"labels\"] = labels\n",
    "\n",
    "        return batch"
   ]
  },
  {
   "cell_type": "code",
   "execution_count": null,
   "metadata": {},
   "outputs": [],
   "source": [
    "# Assuming train_ds is your dataset\n",
    "sample = train_ds_prepared[0]  # Grab the first row from the dataset\n",
    "# print the first row's phonemes\n",
    "print(\"Phonemes:\", sample[\"ipa\"])\n",
    "# Create an instance of the DataCollatorCTCWithPadding class\n",
    "processor = AutoProcessor.from_pretrained(PRE_TRAINED_ID)  # Replace with your processor\n",
    "data_collator = DataCollatorCTCWithPadding(processor=processor)\n",
    "\n",
    "# Manually test the data collator with the sample\n",
    "features = [sample]\n",
    "batch = data_collator(features)\n",
    "\n",
    "# Print the batch to inspect the results\n",
    "print(\"Batch:\", batch)"
   ]
  },
  {
   "cell_type": "code",
   "execution_count": 78,
   "metadata": {},
   "outputs": [],
   "source": [
    "data_collator = DataCollatorCTCWithPadding(processor=processor, padding=True)"
   ]
  },
  {
   "cell_type": "code",
   "execution_count": 68,
   "metadata": {},
   "outputs": [],
   "source": [
    "def cer(pred, label):\n",
    "    distances = np.zeros((len(pred) + 1, len(label) + 1))\n",
    "\n",
    "    for t1 in range(len(pred) + 1):\n",
    "        distances[t1][0] = t1\n",
    "\n",
    "    for t2 in range(len(label) + 1):\n",
    "        distances[0][t2] = t2\n",
    "        \n",
    "    a = 0\n",
    "    b = 0\n",
    "    c = 0\n",
    "    \n",
    "    for t1 in range(1, len(pred) + 1):\n",
    "        for t2 in range(1, len(label) + 1):\n",
    "            if (pred[t1-1] == label[t2-1]):\n",
    "                distances[t1][t2] = distances[t1 - 1][t2 - 1]\n",
    "            else:\n",
    "                a = distances[t1][t2 - 1]\n",
    "                b = distances[t1 - 1][t2]\n",
    "                c = distances[t1 - 1][t2 - 1]\n",
    "                \n",
    "                if (a <= b and a <= c):\n",
    "                    distances[t1][t2] = a + 1\n",
    "                elif (b <= a and b <= c):\n",
    "                    distances[t1][t2] = b + 1\n",
    "                else:\n",
    "                    distances[t1][t2] = c + 1\n",
    "\n",
    "    return distances[len(pred)][len(label)] / len(label)"
   ]
  },
  {
   "cell_type": "code",
   "execution_count": 79,
   "metadata": {},
   "outputs": [],
   "source": [
    "\n",
    "def compute_metrics(pred):\n",
    "    pred_logits = pred.predictions\n",
    "    pred_ids = np.argmax(pred_logits, axis=-1)\n",
    "\n",
    "    pred.label_ids[pred.label_ids == -100] = processor.tokenizer.pad_token_id\n",
    "\n",
    "    pred_str = processor.batch_decode(pred_ids)\n",
    "    label_str = processor.batch_decode(pred.label_ids, group_tokens=False) # labels are already grouped as they should be\n",
    "\n",
    "    # Call panphon_model_eval with label and predictedipa\n",
    "    results = panphon_model_eval(label_str, pred_str)\n",
    "\n",
    "    # Output results\n",
    "    print(\"Evaluation Results:\")\n",
    "    print(f\"Feature edit distance: {results['feature_dist']}\")\n",
    "    print(f\"Weighted feature edit distance: {results['weighted_feature_dist']}\")\n",
    "    print(f\"Hamming distance: {results['hamming_feature_dist']}\")\n",
    "    print(f\"CER: {results['cer_score']}\")\n",
    "\n",
    "\n",
    "    return results"
   ]
  },
  {
   "cell_type": "code",
   "execution_count": 80,
   "metadata": {},
   "outputs": [],
   "source": [
    "model = AutoModelForCTC.from_pretrained(\n",
    "    PRE_TRAINED_ID, \n",
    "    pad_token_id=processor.tokenizer.pad_token_id, \n",
    "    # gradient_checkpointing=True,\n",
    "    ctc_zero_infinity = True,\n",
    "    attention_dropout=0.1,\n",
    "    layerdrop=0.0,\n",
    "    feat_proj_dropout=0.0,\n",
    "    ctc_loss_reduction=\"mean\",\n",
    "    pad_token_id=processor.tokenizer.pad_token_id,\n",
    "    vocab_size=len(processor.tokenizer)\n",
    ")"
   ]
  },
  {
   "cell_type": "code",
   "execution_count": 81,
   "metadata": {},
   "outputs": [],
   "source": [
    "# model.resize_token_embeddings(len(tokenizer))\n",
    "old_weights = model.lm_head.weight.t().detach()\n",
    "old_bias = model.lm_head.bias.detach()\n",
    "new_layer = torch.nn.Linear(model.lm_head.in_features, len(processor.tokenizer))\n",
    "new_layer.weight.data[:model.lm_head.out_features, :] = old_weights.t()\n",
    "new_layer.bias.data[:model.lm_head.out_features] = old_bias\n",
    "model.lm_head = new_layer\n",
    "model.config.vocab_size = len(processor.tokenizer)"
   ]
  },
  {
   "cell_type": "code",
   "execution_count": 82,
   "metadata": {},
   "outputs": [],
   "source": [
    "model.freeze_feature_encoder()"
   ]
  },
  {
   "cell_type": "code",
   "execution_count": 73,
   "metadata": {},
   "outputs": [],
   "source": [
    "# sanity checks\n",
    "max_class_id = 0\n",
    "for label_sequence in train_ds_prepared['labels']:\n",
    "    for class_id in label_sequence:\n",
    "        max_class_id = max(max_class_id, class_id)\n",
    "assert max_class_id == model.config.vocab_size - 1\n",
    "\n",
    "for label_sequence in train_ds_prepared['labels']:\n",
    "    for class_id in label_sequence:\n",
    "        assert class_id >= 0 and class_id <  model.config.vocab_size\n",
    "\n",
    "for label_sequence in train_ds_prepared['labels']:\n",
    "    assert  len(label_sequence) < 1024\n",
    "    assert len(label_sequence) >= 5"
   ]
  },
  {
   "cell_type": "code",
   "execution_count": null,
   "metadata": {},
   "outputs": [],
   "source": [
    "import wandb\n",
    "from transformers import TrainingArguments, Trainer\n",
    "\n",
    "# Initialize wandb\n",
    "wandb.init(project=\"timit-finetune-a100\")\n",
    "\n",
    "training_args = TrainingArguments(\n",
    "    output_dir=OUTPUT_DIR,\n",
    "    group_by_length=True,\n",
    "    per_device_train_batch_size=8,\n",
    "    gradient_accumulation_steps=4,\n",
    "    eval_strategy=\"steps\",\n",
    "    num_train_epochs=5,\n",
    "    fp16=True,\n",
    "    save_steps=50,\n",
    "    eval_steps=50,\n",
    "    logging_steps=10,\n",
    "    learning_rate=1e-5,\n",
    "    warmup_steps=1000,\n",
    "    save_total_limit=3,\n",
    "    gradient_checkpointing=True,\n",
    "    load_best_model_at_end=True,\n",
    "    max_grad_norm=0.5,\n",
    "    report_to=\"wandb\" \n",
    ")"
   ]
  },
  {
   "cell_type": "code",
   "execution_count": 84,
   "metadata": {},
   "outputs": [],
   "source": [
    "from transformers import Trainer\n",
    "\n",
    "trainer = Trainer(\n",
    "    model=model,\n",
    "    data_collator=data_collator,\n",
    "    args=training_args,\n",
    "    compute_metrics=compute_metrics,\n",
    "    train_dataset=train_ds_prepared.select(range(10)),\n",
    "    # train_dataset=train_ds_prepared,\n",
    "    eval_dataset=test_ds_prepared.select(range(10)),\n",
    "    # eval_dataset=test_ds_prepared,\n",
    "    processing_class=processor.feature_extractor,\n",
    ")"
   ]
  },
  {
   "cell_type": "code",
   "execution_count": null,
   "metadata": {},
   "outputs": [],
   "source": [
    "# torch.autograd.set_detect_anomaly(False) # debug NaNs, disable for real training to improve performance\n",
    "# model.config.ctc_zero_infinity = True \n",
    "#resume_from_checkpoint=True\n",
    "trainer.train() # resume_from_checkpoint=True to resume training if training was interrupted"
   ]
  },
  {
   "cell_type": "markdown",
   "metadata": {},
   "source": [
    "# Evaluate"
   ]
  },
  {
   "cell_type": "code",
   "execution_count": null,
   "metadata": {},
   "outputs": [],
   "source": [
    "import wandb\n",
    "eval_results = trainer.evaluate()\n",
    "wandb.log(eval_results)"
   ]
  },
  {
   "cell_type": "code",
   "execution_count": 44,
   "metadata": {},
   "outputs": [],
   "source": [
    "old_model = AutoModelForCTC.from_pretrained(PRE_TRAINED_ID).to(model.device)"
   ]
  },
  {
   "cell_type": "code",
   "execution_count": 45,
   "metadata": {},
   "outputs": [],
   "source": [
    "finetuned_model = AutoModelForCTC.from_pretrained(os.path.join(OUTPUT_DIR, 'checkpoint-100'))"
   ]
  },
  {
   "cell_type": "code",
   "execution_count": 46,
   "metadata": {},
   "outputs": [],
   "source": [
    "# check for nan weights and replace with old values if any\n",
    "for name, param in finetuned_model.named_parameters():\n",
    "    if torch.isnan(param).any():\n",
    "        print(name)\n",
    "        param.data = old_model.state_dict()[name].data"
   ]
  },
  {
   "cell_type": "code",
   "execution_count": null,
   "metadata": {},
   "outputs": [],
   "source": [
    "# compare weights\n",
    "is_diff = False\n",
    "for name, param in finetuned_model.named_parameters():\n",
    "    if not torch.equal(param, old_model.state_dict()[name].to(finetuned_model.device)):\n",
    "        is_diff = True\n",
    "        break\n",
    "print(\"Weights are different, training did something\" if is_diff else \"Weights are the same, training did nothing\")"
   ]
  },
  {
   "cell_type": "code",
   "execution_count": 48,
   "metadata": {},
   "outputs": [],
   "source": [
    "def predict(model, wav_file):\n",
    "    speech = audio_file_to_array(wav_file)\n",
    "    input_values = processor(speech, sampling_rate=16000, return_tensors=\"pt\").input_values.type(torch.float32).to(model.device)\n",
    "\n",
    "    with torch.no_grad():\n",
    "        logits = model(input_values).logits\n",
    "\n",
    "    predicted_ids = torch.argmax(logits, dim=-1)\n",
    "    return processor.decode(predicted_ids[0])\n",
    "    "
   ]
  },
  {
   "cell_type": "code",
   "execution_count": null,
   "metadata": {},
   "outputs": [],
   "source": [
    "print('Checkpoint Transcription:', predict(finetuned_model, os.path.join('..', 'data', 'alexIsConfused.wav')))"
   ]
  },
  {
   "cell_type": "code",
   "execution_count": null,
   "metadata": {},
   "outputs": [],
   "source": [
    "print('Best Fine-Tune Transcription:', predict(trainer.model, os.path.join('..', 'data', 'alexIsConfused.wav')))"
   ]
  },
  {
   "cell_type": "code",
   "execution_count": null,
   "metadata": {},
   "outputs": [],
   "source": [
    "print('Best Fine-Tune Transcription:', predict(trainer.model, os.path.join('..', 'data', 'alexIsConfused.wav')))"
   ]
  },
  {
   "cell_type": "code",
   "execution_count": null,
   "metadata": {},
   "outputs": [],
   "source": [
    "print('Old Transcription:', predict(old_model, os.path.join('..', 'data', 'alexIsConfused.wav')))"
   ]
  },
  {
   "cell_type": "code",
   "execution_count": 53,
   "metadata": {},
   "outputs": [],
   "source": [
    "# import wandb\n",
    "\n",
    "# sweep_config = {\n",
    "#     'method': 'bayes',  # Or 'grid' or 'random'\n",
    "#     'metric': {'name': 'loss', 'goal': 'minimize'},\n",
    "#     'parameters': {\n",
    "#         'learning_rate': {'min': 1e-8, 'max': 5e-6, 'distribution': 'log_uniform_values'},\n",
    "#         'per_device_train_batch_size': {'values': [4, 8, 16]},\n",
    "#         'num_train_epochs': {'values': [3, 5, 10]},\n",
    "#     }\n",
    "# }\n",
    "\n",
    "# sweep_id = wandb.sweep(sweep_config, project=\"timit-finetune-hyperparam\")\n",
    "\n",
    "# from transformers import TrainingArguments, Trainer\n",
    "\n",
    "# def train():\n",
    "#     # Initialize a new wandb run\n",
    "#     wandb.init()\n",
    "\n",
    "#     # Set up training arguments, pulling values from wandb.config\n",
    "#     training_args = TrainingArguments(\n",
    "#         output_dir=OUTPUT_DIR,\n",
    "#         group_by_length=True,\n",
    "#         per_device_train_batch_size=wandb.config.per_device_train_batch_size,\n",
    "#         gradient_accumulation_steps=4,\n",
    "#         eval_strategy=\"steps\",\n",
    "#         num_train_epochs=wandb.config.num_train_epochs,\n",
    "#         fp16=True,\n",
    "#         save_steps=50,\n",
    "#         eval_steps=50,\n",
    "#         logging_steps=10,\n",
    "#         learning_rate=wandb.config.learning_rate,\n",
    "#         warmup_steps=1000,\n",
    "#         save_total_limit=3,\n",
    "#         gradient_checkpointing=True,\n",
    "#         load_best_model_at_end=True,\n",
    "#         max_grad_norm=1.0,\n",
    "#         report_to=\"wandb\"\n",
    "#     )\n",
    "\n",
    "#     trainer = Trainer(\n",
    "#         model=model,\n",
    "#         data_collator=data_collator,\n",
    "#         args=training_args,\n",
    "#         compute_metrics=compute_metrics,\n",
    "#         train_dataset=train_ds_prepared,\n",
    "#         eval_dataset=test_ds_prepared,\n",
    "#         processing_class=processor.feature_extractor,\n",
    "#     )\n",
    "\n",
    "#     # Run training and automatically log results to W&B\n",
    "#     trainer.train()\n",
    "\n",
    "#     # Ensure to log any additional evaluation metrics\n",
    "#     eval_metrics = trainer.evaluate()\n",
    "#     wandb.log(eval_metrics)\n",
    "\n",
    "\n",
    "\n",
    "# wandb.agent(sweep_id, train, count=5)\n"
   ]
  },
  {
   "cell_type": "code",
   "execution_count": 54,
   "metadata": {},
   "outputs": [],
   "source": [
    "# import wandb\n",
    "# import optuna\n",
    "# from transformers import TrainingArguments, Trainer\n",
    "\n",
    "# # Initialize wandb\n",
    "# wandb.init(project=\"hyperparam\")\n",
    "\n",
    "# def model_init():\n",
    "#     return model\n",
    "\n",
    "# def objective(trial):\n",
    "#     # Define the hyperparameters to tune\n",
    "#     learning_rate = trial.suggest_float(\"learning_rate\", 1e-8, 1e-7, log=True)\n",
    "#     per_device_train_batch_size = trial.suggest_categorical(\"per_device_train_batch_size\", [2, 4, 8])\n",
    "#     num_train_epochs = trial.suggest_int(\"num_train_epochs\", 5, 10, 15)\n",
    "\n",
    "#     # Update training arguments with dynamic hyperparameters\n",
    "#     training_args = TrainingArguments(\n",
    "#         output_dir=OUTPUT_DIR,\n",
    "#         run_name=\"hyperparam-searchC\",  # Set a unique run name\n",
    "#         group_by_length=True,\n",
    "#         per_device_train_batch_size=per_device_train_batch_size,\n",
    "#         gradient_accumulation_steps=4,\n",
    "#         evaluation_strategy=\"steps\",\n",
    "#         num_train_epochs=num_train_epochs,\n",
    "#         fp16=True,\n",
    "#         save_steps=100,\n",
    "#         eval_steps=100,\n",
    "#         logging_steps=100,\n",
    "#         learning_rate=learning_rate,\n",
    "#         warmup_steps=1000,\n",
    "#         save_total_limit=3,\n",
    "#         gradient_checkpointing=True,\n",
    "#         load_best_model_at_end=True,\n",
    "#         max_grad_norm=1.0,\n",
    "#         report_to=\"wandb\"  # Report to WandB\n",
    "#     )\n",
    "\n",
    "#     # Set up the trainer with the training arguments and datasets\n",
    "#     trainer = Trainer(\n",
    "#         model_init=model_init,\n",
    "#         args=training_args,\n",
    "#         data_collator=data_collator,\n",
    "#         compute_metrics=compute_metrics,\n",
    "#         train_dataset=train_ds_prepared.select(range(100)),  # Use a subset for faster experimentation\n",
    "#         eval_dataset=test_ds_prepared.select(range(100)),\n",
    "#         processing_class=processor.feature_extractor,\n",
    "#     )\n",
    "\n",
    "#     # Disable anomaly detection for better performance\n",
    "#     torch.autograd.set_detect_anomaly(False)\n",
    "#     # model.config.ctc_zero_infinity = True  # Uncomment if needed for CTC models\n",
    "\n",
    "#     # Train the model for this trial\n",
    "#     result = trainer.train()  # Set resume_from_checkpoint=True if resuming is required\n",
    "\n",
    "#     # Return the final training loss for Optuna to minimize\n",
    "#     return result.training_loss\n",
    "\n",
    "# # Perform hyperparameter search with updated search space\n",
    "# study = optuna.create_study(direction=\"minimize\")\n",
    "# study.optimize(objective, n_trials=10)\n",
    "\n",
    "# # Print the best hyperparameters\n",
    "# print(\"Best hyperparameters: \", study.best_params)\n"
   ]
  },
  {
   "cell_type": "code",
   "execution_count": null,
   "metadata": {},
   "outputs": [],
   "source": []
  }
 ],
 "metadata": {
  "kernelspec": {
   "display_name": "venv",
   "language": "python",
   "name": "python3"
  },
  "language_info": {
   "codemirror_mode": {
    "name": "ipython",
    "version": 3
   },
   "file_extension": ".py",
   "mimetype": "text/x-python",
   "name": "python",
   "nbconvert_exporter": "python",
   "pygments_lexer": "ipython3",
   "version": "3.8.10"
  }
 },
 "nbformat": 4,
 "nbformat_minor": 2
}
