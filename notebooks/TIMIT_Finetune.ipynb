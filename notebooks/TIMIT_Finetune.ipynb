{
 "cells": [
  {
   "cell_type": "code",
   "execution_count": 46,
   "metadata": {},
   "outputs": [],
   "source": [
    "import numpy as np\n",
    "import zipfile\n",
    "from datasets import Dataset\n",
    "import pandas as pd\n",
    "\n",
    "import os\n",
    "# run as much as possible accelerated by apple silicon, fall back to cpu if not possible\n",
    "os.environ[\"PYTORCH_ENABLE_MPS_FALLBACK\"] = \"1\"\n",
    "import torch\n",
    "\n",
    "import sys\n",
    "sys.path.append('..')\n",
    "from scripts.audio import audio_file_to_array\n",
    "from scripts.ipa import timit2ipa\n"
   ]
  },
  {
   "cell_type": "code",
   "execution_count": 47,
   "metadata": {},
   "outputs": [],
   "source": [
    "# set espeak library path for macOS\n",
    "if sys.platform == \"darwin\":\n",
    "    from phonemizer.backend.espeak.wrapper import EspeakWrapper\n",
    "\n",
    "    _ESPEAK_LIBRARY = \"/opt/homebrew/Cellar/espeak/1.48.04_1/lib/libespeak.1.1.48.dylib\"\n",
    "    EspeakWrapper.set_library(_ESPEAK_LIBRARY)"
   ]
  },
  {
   "cell_type": "code",
   "execution_count": 48,
   "metadata": {},
   "outputs": [],
   "source": [
    "from transformers import AutoProcessor, AutoModelForCTC, AutoTokenizer, AutoFeatureExtractor"
   ]
  },
  {
   "cell_type": "code",
   "execution_count": 49,
   "metadata": {},
   "outputs": [],
   "source": [
    "OUTPUT_DIR = os.path.join('..', 'models', 'timit-xlsr-finetune')\n",
    "PRE_TRAINED_ID = \"facebook/wav2vec2-lv-60-espeak-cv-ft\""
   ]
  },
  {
   "cell_type": "markdown",
   "metadata": {},
   "source": [
    "# Load Data"
   ]
  },
  {
   "cell_type": "code",
   "execution_count": 50,
   "metadata": {},
   "outputs": [],
   "source": [
    "timit = zipfile.ZipFile('../.data/TIMIT.zip', 'r')\n",
    "timit_files = timit.namelist()"
   ]
  },
  {
   "cell_type": "code",
   "execution_count": 51,
   "metadata": {},
   "outputs": [],
   "source": [
    "training_files = list(set(map(lambda x: x.split('.')[0], filter(lambda x: x.startswith('data/TRAIN'), timit_files))))\n",
    "test_files = list(set(map(lambda x: x.split('.')[0], filter(lambda x: x.startswith('data/TEST'), timit_files))))"
   ]
  },
  {
   "cell_type": "code",
   "execution_count": 52,
   "metadata": {},
   "outputs": [],
   "source": [
    "\n",
    "def timit_file_to_dict(filename):\n",
    "    with timit.open(filename + '.PHN') as phn_file:\n",
    "        timestamped_phonemes = []\n",
    "        for line in phn_file.read().decode('utf-8').split('\\n'):\n",
    "            if line == '':\n",
    "                continue\n",
    "            start, end, phoneme = line.split()\n",
    "            timestamped_phonemes.append((timit2ipa(phoneme, \"eng\"), int(start), int(end)))\n",
    "    return {'timestamped_phonemes': timestamped_phonemes, 'wav_filename': filename + '.WAV'}\n",
    "    "
   ]
  },
  {
   "cell_type": "code",
   "execution_count": 53,
   "metadata": {},
   "outputs": [],
   "source": [
    "WAV_HEADER_SIZE = 44\n",
    "def zipped_wav_to_array(filename):\n",
    "    with timit.open(filename) as wav_file:\n",
    "        return np.frombuffer(wav_file.read(), dtype=np.int16)[WAV_HEADER_SIZE//2:]"
   ]
  },
  {
   "cell_type": "code",
   "execution_count": 54,
   "metadata": {},
   "outputs": [
    {
     "name": "stdout",
     "output_type": "stream",
     "text": [
      "{'timestamped_phonemes': [('', 0, 7000), ('ʃ', 7000, 9240), ('i', 9240, 10664), ('ʔ', 10664, 11446), ('ɑ', 11446, 13661), ('w', 13661, 14747), ('ɨ', 14747, 15776), ('z', 15776, 16763), ('k', 16763, 17670), ('', 17670, 18100), ('ʉ', 18100, 18840), ('d', 18840, 19410), ('s', 19410, 21680), ('ɪ', 21680, 23552), ('s', 23552, 25090), ('', 25090, 25649), ('ð', 25649, 25995), ('ɨ', 25995, 26736), ('ʃ', 26736, 29289), ('æ', 29289, 32439), ('g', 32439, 33668), ('ʔ', 33668, 34444), ('ɛ', 34444, 35965), ('n', 35965, 36761), ('ʌ', 36761, 38008), ('v', 38008, 38835), ('i', 38835, 40374), ('w', 40374, 42285), ('ʊ', 42285, 43446), ('l', 43446, 44233), ('i', 44233, 45486), ('d', 45486, 46510), ('', 46510, 46740), ('eɪ', 46740, 50200), ('', 50200, 52320)], 'wav_filename': 'data/TRAIN/DR5/FGDP0/SI2248.WAV'}\n"
     ]
    }
   ],
   "source": [
    "\n",
    "parsed_0 = timit_file_to_dict(training_files[0])\n",
    "print(parsed_0)"
   ]
  },
  {
   "cell_type": "code",
   "execution_count": 55,
   "metadata": {},
   "outputs": [],
   "source": [
    "def files_to_df(files):\n",
    "    records = []\n",
    "    for filename in files:\n",
    "        parsed = timit_file_to_dict(filename)\n",
    "        parsed['audio'] = zipped_wav_to_array(parsed['wav_filename'])\n",
    "        del parsed['wav_filename']\n",
    "        parsed['ipa'] = \"\".join(phoneme for phoneme, _, _ in parsed['timestamped_phonemes'])\n",
    "        parsed['phoneme_starts'] = [start for _, start, _ in parsed['timestamped_phonemes']]\n",
    "        parsed['phoneme_ends'] = [end for _, _, end in parsed['timestamped_phonemes']]\n",
    "        del parsed['timestamped_phonemes']\n",
    "        records.append(parsed)\n",
    "    return pd.DataFrame(records)"
   ]
  },
  {
   "cell_type": "code",
   "execution_count": 56,
   "metadata": {},
   "outputs": [
    {
     "data": {
      "text/html": [
       "<div>\n",
       "<style scoped>\n",
       "    .dataframe tbody tr th:only-of-type {\n",
       "        vertical-align: middle;\n",
       "    }\n",
       "\n",
       "    .dataframe tbody tr th {\n",
       "        vertical-align: top;\n",
       "    }\n",
       "\n",
       "    .dataframe thead th {\n",
       "        text-align: right;\n",
       "    }\n",
       "</style>\n",
       "<table border=\"1\" class=\"dataframe\">\n",
       "  <thead>\n",
       "    <tr style=\"text-align: right;\">\n",
       "      <th></th>\n",
       "      <th>audio</th>\n",
       "      <th>ipa</th>\n",
       "      <th>phoneme_starts</th>\n",
       "      <th>phoneme_ends</th>\n",
       "    </tr>\n",
       "  </thead>\n",
       "  <tbody>\n",
       "    <tr>\n",
       "      <th>0</th>\n",
       "      <td>[25971, 30303, 29285, 26995, 28271, 11552, 131...</td>\n",
       "      <td>ʃiʔɑwɨzkʉdsɪsðɨʃægʔɛnʌviwʊlideɪ</td>\n",
       "      <td>[0, 7000, 9240, 10664, 11446, 13661, 14747, 15...</td>\n",
       "      <td>[7000, 9240, 10664, 11446, 13661, 14747, 15776...</td>\n",
       "    </tr>\n",
       "    <tr>\n",
       "      <th>1</th>\n",
       "      <td>[25971, 30303, 29285, 26995, 28271, 11552, 131...</td>\n",
       "      <td>ðæɾɨzʔoʊnlɨpɑɹlɨnɑnɑntsɛntsɨbɨgæn</td>\n",
       "      <td>[0, 3341, 4050, 5680, 6000, 6626, 7896, 8312, ...</td>\n",
       "      <td>[3341, 4050, 5680, 6000, 6626, 7896, 8312, 963...</td>\n",
       "    </tr>\n",
       "    <tr>\n",
       "      <th>2</th>\n",
       "      <td>[25971, 30303, 29285, 26995, 28271, 11552, 131...</td>\n",
       "      <td>jʉʃʊdfɝmlinsɪsðɨtnoʊbɑbipɪnzɝɦɛɹpɪnzbiwɔɹnʔɨnð...</td>\n",
       "      <td>[0, 2691, 3430, 4690, 6540, 7800, 8700, 9216, ...</td>\n",
       "      <td>[2691, 3430, 4690, 6540, 7800, 8700, 9216, 106...</td>\n",
       "    </tr>\n",
       "    <tr>\n",
       "      <th>3</th>\n",
       "      <td>[25971, 30303, 29285, 26995, 28271, 11552, 131...</td>\n",
       "      <td>ʔɪɾɪzeɪɦæpibʌzɪnɹaʊd</td>\n",
       "      <td>[0, 2200, 2966, 4440, 4920, 6680, 8140, 10652,...</td>\n",
       "      <td>[2200, 2966, 4440, 4920, 6680, 8140, 10652, 12...</td>\n",
       "    </tr>\n",
       "    <tr>\n",
       "      <th>4</th>\n",
       "      <td>[25971, 30303, 29285, 26995, 28271, 11552, 131...</td>\n",
       "      <td>ælmoʊɾ̃ɨɦɑmzʌdɨvɔsmænzwɛlpθ</td>\n",
       "      <td>[0, 1800, 4093, 5560, 6642, 8440, 9160, 10080,...</td>\n",
       "      <td>[1800, 4093, 5560, 6642, 8440, 9160, 10080, 11...</td>\n",
       "    </tr>\n",
       "  </tbody>\n",
       "</table>\n",
       "</div>"
      ],
      "text/plain": [
       "                                               audio  \\\n",
       "0  [25971, 30303, 29285, 26995, 28271, 11552, 131...   \n",
       "1  [25971, 30303, 29285, 26995, 28271, 11552, 131...   \n",
       "2  [25971, 30303, 29285, 26995, 28271, 11552, 131...   \n",
       "3  [25971, 30303, 29285, 26995, 28271, 11552, 131...   \n",
       "4  [25971, 30303, 29285, 26995, 28271, 11552, 131...   \n",
       "\n",
       "                                                 ipa  \\\n",
       "0                    ʃiʔɑwɨzkʉdsɪsðɨʃægʔɛnʌviwʊlideɪ   \n",
       "1                  ðæɾɨzʔoʊnlɨpɑɹlɨnɑnɑntsɛntsɨbɨgæn   \n",
       "2  jʉʃʊdfɝmlinsɪsðɨtnoʊbɑbipɪnzɝɦɛɹpɪnzbiwɔɹnʔɨnð...   \n",
       "3                               ʔɪɾɪzeɪɦæpibʌzɪnɹaʊd   \n",
       "4                        ælmoʊɾ̃ɨɦɑmzʌdɨvɔsmænzwɛlpθ   \n",
       "\n",
       "                                      phoneme_starts  \\\n",
       "0  [0, 7000, 9240, 10664, 11446, 13661, 14747, 15...   \n",
       "1  [0, 3341, 4050, 5680, 6000, 6626, 7896, 8312, ...   \n",
       "2  [0, 2691, 3430, 4690, 6540, 7800, 8700, 9216, ...   \n",
       "3  [0, 2200, 2966, 4440, 4920, 6680, 8140, 10652,...   \n",
       "4  [0, 1800, 4093, 5560, 6642, 8440, 9160, 10080,...   \n",
       "\n",
       "                                        phoneme_ends  \n",
       "0  [7000, 9240, 10664, 11446, 13661, 14747, 15776...  \n",
       "1  [3341, 4050, 5680, 6000, 6626, 7896, 8312, 963...  \n",
       "2  [2691, 3430, 4690, 6540, 7800, 8700, 9216, 106...  \n",
       "3  [2200, 2966, 4440, 4920, 6680, 8140, 10652, 12...  \n",
       "4  [1800, 4093, 5560, 6642, 8440, 9160, 10080, 11...  "
      ]
     },
     "execution_count": 56,
     "metadata": {},
     "output_type": "execute_result"
    }
   ],
   "source": [
    "train_df = files_to_df(training_files)\n",
    "train_df.head()"
   ]
  },
  {
   "cell_type": "code",
   "execution_count": 57,
   "metadata": {},
   "outputs": [
    {
     "data": {
      "text/html": [
       "<div>\n",
       "<style scoped>\n",
       "    .dataframe tbody tr th:only-of-type {\n",
       "        vertical-align: middle;\n",
       "    }\n",
       "\n",
       "    .dataframe tbody tr th {\n",
       "        vertical-align: top;\n",
       "    }\n",
       "\n",
       "    .dataframe thead th {\n",
       "        text-align: right;\n",
       "    }\n",
       "</style>\n",
       "<table border=\"1\" class=\"dataframe\">\n",
       "  <thead>\n",
       "    <tr style=\"text-align: right;\">\n",
       "      <th></th>\n",
       "      <th>audio</th>\n",
       "      <th>ipa</th>\n",
       "      <th>phoneme_starts</th>\n",
       "      <th>phoneme_ends</th>\n",
       "    </tr>\n",
       "  </thead>\n",
       "  <tbody>\n",
       "    <tr>\n",
       "      <th>0</th>\n",
       "      <td>[25971, 30303, 29285, 26995, 28271, 11552, 131...</td>\n",
       "      <td>ðəsaʊndɨvddʒɛnəfɚzbjʉgl̩ skɛɹdðiʔænl̩ oʊp</td>\n",
       "      <td>[0, 2172, 2378, 3312, 5176, 8229, 8898, 9148, ...</td>\n",
       "      <td>[2172, 2378, 3312, 5176, 8229, 8898, 9148, 937...</td>\n",
       "    </tr>\n",
       "    <tr>\n",
       "      <th>1</th>\n",
       "      <td>[25971, 30303, 29285, 26995, 28271, 11552, 131...</td>\n",
       "      <td>læfdæntsʔɨntsɪŋɪfɔɹttʃɨnsmɑlzəpɔnjʉ</td>\n",
       "      <td>[0, 2052, 3103, 5848, 7240, 8330, 8560, 11621,...</td>\n",
       "      <td>[2052, 3103, 5848, 7240, 8330, 8560, 11621, 12...</td>\n",
       "    </tr>\n",
       "    <tr>\n",
       "      <th>2</th>\n",
       "      <td>[25971, 30303, 29285, 26995, 28271, 11552, 131...</td>\n",
       "      <td>fæmliɹæʃninpɹɑbliwʊlbinɛsə̥sɚɨ</td>\n",
       "      <td>[0, 3320, 4000, 5714, 6520, 7133, 8187, 9639, ...</td>\n",
       "      <td>[3320, 4000, 5714, 6520, 7133, 8187, 9639, 122...</td>\n",
       "    </tr>\n",
       "    <tr>\n",
       "      <th>3</th>\n",
       "      <td>[25971, 30303, 29285, 26995, 28271, 11552, 131...</td>\n",
       "      <td>aɪðætaɪmpɝæpsʌmθiŋbɛɾɝkɨnbidʌn</td>\n",
       "      <td>[0, 2290, 2570, 4080, 5010, 7320, 8640, 9520, ...</td>\n",
       "      <td>[2290, 2570, 4080, 5010, 7320, 8640, 9520, 125...</td>\n",
       "    </tr>\n",
       "    <tr>\n",
       "      <th>4</th>\n",
       "      <td>[25971, 30303, 29285, 26995, 28271, 11552, 131...</td>\n",
       "      <td>ʔɪɾɪznɑɾəplɛzɨntʔɔɹʔizipɨzɪʃɨnʌʔwʌnwiɦɛvɨndɛvɝ...</td>\n",
       "      <td>[0, 2280, 2642, 3148, 3560, 4963, 6150, 6800, ...</td>\n",
       "      <td>[2280, 2642, 3148, 3560, 4963, 6150, 6800, 864...</td>\n",
       "    </tr>\n",
       "  </tbody>\n",
       "</table>\n",
       "</div>"
      ],
      "text/plain": [
       "                                               audio  \\\n",
       "0  [25971, 30303, 29285, 26995, 28271, 11552, 131...   \n",
       "1  [25971, 30303, 29285, 26995, 28271, 11552, 131...   \n",
       "2  [25971, 30303, 29285, 26995, 28271, 11552, 131...   \n",
       "3  [25971, 30303, 29285, 26995, 28271, 11552, 131...   \n",
       "4  [25971, 30303, 29285, 26995, 28271, 11552, 131...   \n",
       "\n",
       "                                                 ipa  \\\n",
       "0          ðəsaʊndɨvddʒɛnəfɚzbjʉgl̩ skɛɹdðiʔænl̩ oʊp   \n",
       "1                læfdæntsʔɨntsɪŋɪfɔɹttʃɨnsmɑlzəpɔnjʉ   \n",
       "2                     fæmliɹæʃninpɹɑbliwʊlbinɛsə̥sɚɨ   \n",
       "3                     aɪðætaɪmpɝæpsʌmθiŋbɛɾɝkɨnbidʌn   \n",
       "4  ʔɪɾɪznɑɾəplɛzɨntʔɔɹʔizipɨzɪʃɨnʌʔwʌnwiɦɛvɨndɛvɝ...   \n",
       "\n",
       "                                      phoneme_starts  \\\n",
       "0  [0, 2172, 2378, 3312, 5176, 8229, 8898, 9148, ...   \n",
       "1  [0, 2052, 3103, 5848, 7240, 8330, 8560, 11621,...   \n",
       "2  [0, 3320, 4000, 5714, 6520, 7133, 8187, 9639, ...   \n",
       "3  [0, 2290, 2570, 4080, 5010, 7320, 8640, 9520, ...   \n",
       "4  [0, 2280, 2642, 3148, 3560, 4963, 6150, 6800, ...   \n",
       "\n",
       "                                        phoneme_ends  \n",
       "0  [2172, 2378, 3312, 5176, 8229, 8898, 9148, 937...  \n",
       "1  [2052, 3103, 5848, 7240, 8330, 8560, 11621, 12...  \n",
       "2  [3320, 4000, 5714, 6520, 7133, 8187, 9639, 122...  \n",
       "3  [2290, 2570, 4080, 5010, 7320, 8640, 9520, 125...  \n",
       "4  [2280, 2642, 3148, 3560, 4963, 6150, 6800, 864...  "
      ]
     },
     "execution_count": 57,
     "metadata": {},
     "output_type": "execute_result"
    }
   ],
   "source": [
    "test_df = files_to_df(test_files)\n",
    "test_df.head()"
   ]
  },
  {
   "cell_type": "markdown",
   "metadata": {},
   "source": [
    "### Cleaning Up Audio"
   ]
  },
  {
   "cell_type": "code",
   "execution_count": 58,
   "metadata": {},
   "outputs": [],
   "source": [
    "def crop_audio(row):\n",
    "    # Access the phoneme_starts column and get the last value of the list\n",
    "    end = row['phoneme_starts'][-1]\n",
    "    # Access the phoneme_ends column and get the first value of the list\n",
    "    start = row['phoneme_ends'][0]\n",
    "    # Crop the audio from start to end\n",
    "    # note that start and end are in samples, not seconds\n",
    "    cropped_audio = row['audio'][start:end]\n",
    "    \n",
    "    return cropped_audio"
   ]
  },
  {
   "cell_type": "code",
   "execution_count": 59,
   "metadata": {},
   "outputs": [
    {
     "data": {
      "image/png": "[encoded data removed]",
      "text/plain": [
       "<Figure size 640x480 with 1 Axes>"
      ]
     },
     "metadata": {},
     "output_type": "display_data"
    }
   ],
   "source": [
    "# graph one audio to see start signal that we will remove\n",
    "import matplotlib.pyplot as plt\n",
    "plt.plot(train_df['audio'][0])\n",
    "plt.show()"
   ]
  },
  {
   "cell_type": "code",
   "execution_count": 60,
   "metadata": {},
   "outputs": [
    {
     "data": {
      "text/html": [
       "<div>\n",
       "<style scoped>\n",
       "    .dataframe tbody tr th:only-of-type {\n",
       "        vertical-align: middle;\n",
       "    }\n",
       "\n",
       "    .dataframe tbody tr th {\n",
       "        vertical-align: top;\n",
       "    }\n",
       "\n",
       "    .dataframe thead th {\n",
       "        text-align: right;\n",
       "    }\n",
       "</style>\n",
       "<table border=\"1\" class=\"dataframe\">\n",
       "  <thead>\n",
       "    <tr style=\"text-align: right;\">\n",
       "      <th></th>\n",
       "      <th>audio</th>\n",
       "      <th>ipa</th>\n",
       "      <th>phoneme_starts</th>\n",
       "      <th>phoneme_ends</th>\n",
       "      <th>cropped_audio</th>\n",
       "    </tr>\n",
       "  </thead>\n",
       "  <tbody>\n",
       "    <tr>\n",
       "      <th>0</th>\n",
       "      <td>[25971, 30303, 29285, 26995, 28271, 11552, 131...</td>\n",
       "      <td>ʃiʔɑwɨzkʉdsɪsðɨʃægʔɛnʌviwʊlideɪ</td>\n",
       "      <td>[0, 7000, 9240, 10664, 11446, 13661, 14747, 15...</td>\n",
       "      <td>[7000, 9240, 10664, 11446, 13661, 14747, 15776...</td>\n",
       "      <td>[-1, 5, 3, 7, 4, 9, -1, 16, -9, -16, 27, -24, ...</td>\n",
       "    </tr>\n",
       "    <tr>\n",
       "      <th>1</th>\n",
       "      <td>[25971, 30303, 29285, 26995, 28271, 11552, 131...</td>\n",
       "      <td>ðæɾɨzʔoʊnlɨpɑɹlɨnɑnɑntsɛntsɨbɨgæn</td>\n",
       "      <td>[0, 3341, 4050, 5680, 6000, 6626, 7896, 8312, ...</td>\n",
       "      <td>[3341, 4050, 5680, 6000, 6626, 7896, 8312, 963...</td>\n",
       "      <td>[5, -1, 2, 3, 1, -3, 2, 2, -3, -4, 2, 3, -1, -...</td>\n",
       "    </tr>\n",
       "    <tr>\n",
       "      <th>2</th>\n",
       "      <td>[25971, 30303, 29285, 26995, 28271, 11552, 131...</td>\n",
       "      <td>jʉʃʊdfɝmlinsɪsðɨtnoʊbɑbipɪnzɝɦɛɹpɪnzbiwɔɹnʔɨnð...</td>\n",
       "      <td>[0, 2691, 3430, 4690, 6540, 7800, 8700, 9216, ...</td>\n",
       "      <td>[2691, 3430, 4690, 6540, 7800, 8700, 9216, 106...</td>\n",
       "      <td>[2, 3, 1, -1, -1, 4, 2, -1, 0, 4, 0, 2, 2, 0, ...</td>\n",
       "    </tr>\n",
       "    <tr>\n",
       "      <th>3</th>\n",
       "      <td>[25971, 30303, 29285, 26995, 28271, 11552, 131...</td>\n",
       "      <td>ʔɪɾɪzeɪɦæpibʌzɪnɹaʊd</td>\n",
       "      <td>[0, 2200, 2966, 4440, 4920, 6680, 8140, 10652,...</td>\n",
       "      <td>[2200, 2966, 4440, 4920, 6680, 8140, 10652, 12...</td>\n",
       "      <td>[3, 1, -1, 3, -1, 1, 0, 0, -1, 3, 1, 0, 2, 0, ...</td>\n",
       "    </tr>\n",
       "    <tr>\n",
       "      <th>4</th>\n",
       "      <td>[25971, 30303, 29285, 26995, 28271, 11552, 131...</td>\n",
       "      <td>ælmoʊɾ̃ɨɦɑmzʌdɨvɔsmænzwɛlpθ</td>\n",
       "      <td>[0, 1800, 4093, 5560, 6642, 8440, 9160, 10080,...</td>\n",
       "      <td>[1800, 4093, 5560, 6642, 8440, 9160, 10080, 11...</td>\n",
       "      <td>[-2, -6, -6, -6, -4, -5, -1, 6, 5, 5, 5, 5, 5,...</td>\n",
       "    </tr>\n",
       "  </tbody>\n",
       "</table>\n",
       "</div>"
      ],
      "text/plain": [
       "                                               audio  \\\n",
       "0  [25971, 30303, 29285, 26995, 28271, 11552, 131...   \n",
       "1  [25971, 30303, 29285, 26995, 28271, 11552, 131...   \n",
       "2  [25971, 30303, 29285, 26995, 28271, 11552, 131...   \n",
       "3  [25971, 30303, 29285, 26995, 28271, 11552, 131...   \n",
       "4  [25971, 30303, 29285, 26995, 28271, 11552, 131...   \n",
       "\n",
       "                                                 ipa  \\\n",
       "0                    ʃiʔɑwɨzkʉdsɪsðɨʃægʔɛnʌviwʊlideɪ   \n",
       "1                  ðæɾɨzʔoʊnlɨpɑɹlɨnɑnɑntsɛntsɨbɨgæn   \n",
       "2  jʉʃʊdfɝmlinsɪsðɨtnoʊbɑbipɪnzɝɦɛɹpɪnzbiwɔɹnʔɨnð...   \n",
       "3                               ʔɪɾɪzeɪɦæpibʌzɪnɹaʊd   \n",
       "4                        ælmoʊɾ̃ɨɦɑmzʌdɨvɔsmænzwɛlpθ   \n",
       "\n",
       "                                      phoneme_starts  \\\n",
       "0  [0, 7000, 9240, 10664, 11446, 13661, 14747, 15...   \n",
       "1  [0, 3341, 4050, 5680, 6000, 6626, 7896, 8312, ...   \n",
       "2  [0, 2691, 3430, 4690, 6540, 7800, 8700, 9216, ...   \n",
       "3  [0, 2200, 2966, 4440, 4920, 6680, 8140, 10652,...   \n",
       "4  [0, 1800, 4093, 5560, 6642, 8440, 9160, 10080,...   \n",
       "\n",
       "                                        phoneme_ends  \\\n",
       "0  [7000, 9240, 10664, 11446, 13661, 14747, 15776...   \n",
       "1  [3341, 4050, 5680, 6000, 6626, 7896, 8312, 963...   \n",
       "2  [2691, 3430, 4690, 6540, 7800, 8700, 9216, 106...   \n",
       "3  [2200, 2966, 4440, 4920, 6680, 8140, 10652, 12...   \n",
       "4  [1800, 4093, 5560, 6642, 8440, 9160, 10080, 11...   \n",
       "\n",
       "                                       cropped_audio  \n",
       "0  [-1, 5, 3, 7, 4, 9, -1, 16, -9, -16, 27, -24, ...  \n",
       "1  [5, -1, 2, 3, 1, -3, 2, 2, -3, -4, 2, 3, -1, -...  \n",
       "2  [2, 3, 1, -1, -1, 4, 2, -1, 0, 4, 0, 2, 2, 0, ...  \n",
       "3  [3, 1, -1, 3, -1, 1, 0, 0, -1, 3, 1, 0, 2, 0, ...  \n",
       "4  [-2, -6, -6, -6, -4, -5, -1, 6, 5, 5, 5, 5, 5,...  "
      ]
     },
     "execution_count": 60,
     "metadata": {},
     "output_type": "execute_result"
    }
   ],
   "source": [
    "# Apply the process_row function to each row in the DataFrame\n",
    "train_df['cropped_audio'] = train_df.apply(crop_audio, axis=1) \n",
    "train_df.head()\n",
    "    "
   ]
  },
  {
   "cell_type": "code",
   "execution_count": 61,
   "metadata": {},
   "outputs": [
    {
     "data": {
      "text/html": [
       "<div>\n",
       "<style scoped>\n",
       "    .dataframe tbody tr th:only-of-type {\n",
       "        vertical-align: middle;\n",
       "    }\n",
       "\n",
       "    .dataframe tbody tr th {\n",
       "        vertical-align: top;\n",
       "    }\n",
       "\n",
       "    .dataframe thead th {\n",
       "        text-align: right;\n",
       "    }\n",
       "</style>\n",
       "<table border=\"1\" class=\"dataframe\">\n",
       "  <thead>\n",
       "    <tr style=\"text-align: right;\">\n",
       "      <th></th>\n",
       "      <th>audio</th>\n",
       "      <th>ipa</th>\n",
       "      <th>phoneme_starts</th>\n",
       "      <th>phoneme_ends</th>\n",
       "      <th>cropped_audio</th>\n",
       "    </tr>\n",
       "  </thead>\n",
       "  <tbody>\n",
       "    <tr>\n",
       "      <th>0</th>\n",
       "      <td>[25971, 30303, 29285, 26995, 28271, 11552, 131...</td>\n",
       "      <td>ðəsaʊndɨvddʒɛnəfɚzbjʉgl̩ skɛɹdðiʔænl̩ oʊp</td>\n",
       "      <td>[0, 2172, 2378, 3312, 5176, 8229, 8898, 9148, ...</td>\n",
       "      <td>[2172, 2378, 3312, 5176, 8229, 8898, 9148, 937...</td>\n",
       "      <td>[0, -1, 2, 0, 2, 3, 0, 1, 0, 1, -1, 1, 0, 1, 1...</td>\n",
       "    </tr>\n",
       "    <tr>\n",
       "      <th>1</th>\n",
       "      <td>[25971, 30303, 29285, 26995, 28271, 11552, 131...</td>\n",
       "      <td>læfdæntsʔɨntsɪŋɪfɔɹttʃɨnsmɑlzəpɔnjʉ</td>\n",
       "      <td>[0, 2052, 3103, 5848, 7240, 8330, 8560, 11621,...</td>\n",
       "      <td>[2052, 3103, 5848, 7240, 8330, 8560, 11621, 12...</td>\n",
       "      <td>[4, 0, 3, 3, 2, 7, 5, 4, 0, 1, 1, 7, 5, 18, 37...</td>\n",
       "    </tr>\n",
       "    <tr>\n",
       "      <th>2</th>\n",
       "      <td>[25971, 30303, 29285, 26995, 28271, 11552, 131...</td>\n",
       "      <td>fæmliɹæʃninpɹɑbliwʊlbinɛsə̥sɚɨ</td>\n",
       "      <td>[0, 3320, 4000, 5714, 6520, 7133, 8187, 9639, ...</td>\n",
       "      <td>[3320, 4000, 5714, 6520, 7133, 8187, 9639, 122...</td>\n",
       "      <td>[2, -2, 5, 7, 12, 5, 2, 11, -7, 7, 13, 13, -8,...</td>\n",
       "    </tr>\n",
       "    <tr>\n",
       "      <th>3</th>\n",
       "      <td>[25971, 30303, 29285, 26995, 28271, 11552, 131...</td>\n",
       "      <td>aɪðætaɪmpɝæpsʌmθiŋbɛɾɝkɨnbidʌn</td>\n",
       "      <td>[0, 2290, 2570, 4080, 5010, 7320, 8640, 9520, ...</td>\n",
       "      <td>[2290, 2570, 4080, 5010, 7320, 8640, 9520, 125...</td>\n",
       "      <td>[2, 3, 1, -3, -1, 3, -1, 1, 3, 3, 0, 1, 3, 3, ...</td>\n",
       "    </tr>\n",
       "    <tr>\n",
       "      <th>4</th>\n",
       "      <td>[25971, 30303, 29285, 26995, 28271, 11552, 131...</td>\n",
       "      <td>ʔɪɾɪznɑɾəplɛzɨntʔɔɹʔizipɨzɪʃɨnʌʔwʌnwiɦɛvɨndɛvɝ...</td>\n",
       "      <td>[0, 2280, 2642, 3148, 3560, 4963, 6150, 6800, ...</td>\n",
       "      <td>[2280, 2642, 3148, 3560, 4963, 6150, 6800, 864...</td>\n",
       "      <td>[3, 6, 5, 2, 1, 2, 2, 3, 1, 3, 2, 1, 6, 2, -1,...</td>\n",
       "    </tr>\n",
       "  </tbody>\n",
       "</table>\n",
       "</div>"
      ],
      "text/plain": [
       "                                               audio  \\\n",
       "0  [25971, 30303, 29285, 26995, 28271, 11552, 131...   \n",
       "1  [25971, 30303, 29285, 26995, 28271, 11552, 131...   \n",
       "2  [25971, 30303, 29285, 26995, 28271, 11552, 131...   \n",
       "3  [25971, 30303, 29285, 26995, 28271, 11552, 131...   \n",
       "4  [25971, 30303, 29285, 26995, 28271, 11552, 131...   \n",
       "\n",
       "                                                 ipa  \\\n",
       "0          ðəsaʊndɨvddʒɛnəfɚzbjʉgl̩ skɛɹdðiʔænl̩ oʊp   \n",
       "1                læfdæntsʔɨntsɪŋɪfɔɹttʃɨnsmɑlzəpɔnjʉ   \n",
       "2                     fæmliɹæʃninpɹɑbliwʊlbinɛsə̥sɚɨ   \n",
       "3                     aɪðætaɪmpɝæpsʌmθiŋbɛɾɝkɨnbidʌn   \n",
       "4  ʔɪɾɪznɑɾəplɛzɨntʔɔɹʔizipɨzɪʃɨnʌʔwʌnwiɦɛvɨndɛvɝ...   \n",
       "\n",
       "                                      phoneme_starts  \\\n",
       "0  [0, 2172, 2378, 3312, 5176, 8229, 8898, 9148, ...   \n",
       "1  [0, 2052, 3103, 5848, 7240, 8330, 8560, 11621,...   \n",
       "2  [0, 3320, 4000, 5714, 6520, 7133, 8187, 9639, ...   \n",
       "3  [0, 2290, 2570, 4080, 5010, 7320, 8640, 9520, ...   \n",
       "4  [0, 2280, 2642, 3148, 3560, 4963, 6150, 6800, ...   \n",
       "\n",
       "                                        phoneme_ends  \\\n",
       "0  [2172, 2378, 3312, 5176, 8229, 8898, 9148, 937...   \n",
       "1  [2052, 3103, 5848, 7240, 8330, 8560, 11621, 12...   \n",
       "2  [3320, 4000, 5714, 6520, 7133, 8187, 9639, 122...   \n",
       "3  [2290, 2570, 4080, 5010, 7320, 8640, 9520, 125...   \n",
       "4  [2280, 2642, 3148, 3560, 4963, 6150, 6800, 864...   \n",
       "\n",
       "                                       cropped_audio  \n",
       "0  [0, -1, 2, 0, 2, 3, 0, 1, 0, 1, -1, 1, 0, 1, 1...  \n",
       "1  [4, 0, 3, 3, 2, 7, 5, 4, 0, 1, 1, 7, 5, 18, 37...  \n",
       "2  [2, -2, 5, 7, 12, 5, 2, 11, -7, 7, 13, 13, -8,...  \n",
       "3  [2, 3, 1, -3, -1, 3, -1, 1, 3, 3, 0, 1, 3, 3, ...  \n",
       "4  [3, 6, 5, 2, 1, 2, 2, 3, 1, 3, 2, 1, 6, 2, -1,...  "
      ]
     },
     "execution_count": 61,
     "metadata": {},
     "output_type": "execute_result"
    }
   ],
   "source": [
    "test_df['cropped_audio'] = test_df.apply(crop_audio, axis=1)\n",
    "test_df.head()"
   ]
  },
  {
   "cell_type": "code",
   "execution_count": 62,
   "metadata": {},
   "outputs": [
    {
     "data": {
      "text/plain": [
       "[<matplotlib.lines.Line2D at 0x7f8cc7d13fa0>]"
      ]
     },
     "execution_count": 62,
     "metadata": {},
     "output_type": "execute_result"
    },
    {
     "data": {
      "image/png": "[encoded data removed]",
      "text/plain": [
       "<Figure size 640x480 with 1 Axes>"
      ]
     },
     "metadata": {},
     "output_type": "display_data"
    }
   ],
   "source": [
    "# visualize again, much better!\n",
    "plt.plot(train_df['cropped_audio'][0])\n"
   ]
  },
  {
   "cell_type": "code",
   "execution_count": 63,
   "metadata": {},
   "outputs": [
    {
     "data": {
      "text/html": [
       "<div>\n",
       "<style scoped>\n",
       "    .dataframe tbody tr th:only-of-type {\n",
       "        vertical-align: middle;\n",
       "    }\n",
       "\n",
       "    .dataframe tbody tr th {\n",
       "        vertical-align: top;\n",
       "    }\n",
       "\n",
       "    .dataframe thead th {\n",
       "        text-align: right;\n",
       "    }\n",
       "</style>\n",
       "<table border=\"1\" class=\"dataframe\">\n",
       "  <thead>\n",
       "    <tr style=\"text-align: right;\">\n",
       "      <th></th>\n",
       "      <th>ipa</th>\n",
       "      <th>audio</th>\n",
       "    </tr>\n",
       "  </thead>\n",
       "  <tbody>\n",
       "    <tr>\n",
       "      <th>0</th>\n",
       "      <td>ʃiʔɑwɨzkʉdsɪsðɨʃægʔɛnʌviwʊlideɪ</td>\n",
       "      <td>[-1, 5, 3, 7, 4, 9, -1, 16, -9, -16, 27, -24, ...</td>\n",
       "    </tr>\n",
       "    <tr>\n",
       "      <th>1</th>\n",
       "      <td>ðæɾɨzʔoʊnlɨpɑɹlɨnɑnɑntsɛntsɨbɨgæn</td>\n",
       "      <td>[5, -1, 2, 3, 1, -3, 2, 2, -3, -4, 2, 3, -1, -...</td>\n",
       "    </tr>\n",
       "    <tr>\n",
       "      <th>2</th>\n",
       "      <td>jʉʃʊdfɝmlinsɪsðɨtnoʊbɑbipɪnzɝɦɛɹpɪnzbiwɔɹnʔɨnð...</td>\n",
       "      <td>[2, 3, 1, -1, -1, 4, 2, -1, 0, 4, 0, 2, 2, 0, ...</td>\n",
       "    </tr>\n",
       "    <tr>\n",
       "      <th>3</th>\n",
       "      <td>ʔɪɾɪzeɪɦæpibʌzɪnɹaʊd</td>\n",
       "      <td>[3, 1, -1, 3, -1, 1, 0, 0, -1, 3, 1, 0, 2, 0, ...</td>\n",
       "    </tr>\n",
       "    <tr>\n",
       "      <th>4</th>\n",
       "      <td>ælmoʊɾ̃ɨɦɑmzʌdɨvɔsmænzwɛlpθ</td>\n",
       "      <td>[-2, -6, -6, -6, -4, -5, -1, 6, 5, 5, 5, 5, 5,...</td>\n",
       "    </tr>\n",
       "  </tbody>\n",
       "</table>\n",
       "</div>"
      ],
      "text/plain": [
       "                                                 ipa  \\\n",
       "0                    ʃiʔɑwɨzkʉdsɪsðɨʃægʔɛnʌviwʊlideɪ   \n",
       "1                  ðæɾɨzʔoʊnlɨpɑɹlɨnɑnɑntsɛntsɨbɨgæn   \n",
       "2  jʉʃʊdfɝmlinsɪsðɨtnoʊbɑbipɪnzɝɦɛɹpɪnzbiwɔɹnʔɨnð...   \n",
       "3                               ʔɪɾɪzeɪɦæpibʌzɪnɹaʊd   \n",
       "4                        ælmoʊɾ̃ɨɦɑmzʌdɨvɔsmænzwɛlpθ   \n",
       "\n",
       "                                               audio  \n",
       "0  [-1, 5, 3, 7, 4, 9, -1, 16, -9, -16, 27, -24, ...  \n",
       "1  [5, -1, 2, 3, 1, -3, 2, 2, -3, -4, 2, 3, -1, -...  \n",
       "2  [2, 3, 1, -1, -1, 4, 2, -1, 0, 4, 0, 2, 2, 0, ...  \n",
       "3  [3, 1, -1, 3, -1, 1, 0, 0, -1, 3, 1, 0, 2, 0, ...  \n",
       "4  [-2, -6, -6, -6, -4, -5, -1, 6, 5, 5, 5, 5, 5,...  "
      ]
     },
     "execution_count": 63,
     "metadata": {},
     "output_type": "execute_result"
    }
   ],
   "source": [
    "# train_df comprised of just cropped_audio and phonemes\n",
    "train_df = train_df.drop(columns=['phoneme_starts', 'phoneme_ends', 'audio'])\n",
    "# rename cropped audio to audio\n",
    "train_df = train_df.rename(columns={'cropped_audio': 'audio'})\n",
    "train_df.head()"
   ]
  },
  {
   "cell_type": "code",
   "execution_count": 64,
   "metadata": {},
   "outputs": [
    {
     "data": {
      "text/html": [
       "<div>\n",
       "<style scoped>\n",
       "    .dataframe tbody tr th:only-of-type {\n",
       "        vertical-align: middle;\n",
       "    }\n",
       "\n",
       "    .dataframe tbody tr th {\n",
       "        vertical-align: top;\n",
       "    }\n",
       "\n",
       "    .dataframe thead th {\n",
       "        text-align: right;\n",
       "    }\n",
       "</style>\n",
       "<table border=\"1\" class=\"dataframe\">\n",
       "  <thead>\n",
       "    <tr style=\"text-align: right;\">\n",
       "      <th></th>\n",
       "      <th>ipa</th>\n",
       "      <th>audio</th>\n",
       "    </tr>\n",
       "  </thead>\n",
       "  <tbody>\n",
       "    <tr>\n",
       "      <th>0</th>\n",
       "      <td>ðəsaʊndɨvddʒɛnəfɚzbjʉgl̩ skɛɹdðiʔænl̩ oʊp</td>\n",
       "      <td>[0, -1, 2, 0, 2, 3, 0, 1, 0, 1, -1, 1, 0, 1, 1...</td>\n",
       "    </tr>\n",
       "    <tr>\n",
       "      <th>1</th>\n",
       "      <td>læfdæntsʔɨntsɪŋɪfɔɹttʃɨnsmɑlzəpɔnjʉ</td>\n",
       "      <td>[4, 0, 3, 3, 2, 7, 5, 4, 0, 1, 1, 7, 5, 18, 37...</td>\n",
       "    </tr>\n",
       "    <tr>\n",
       "      <th>2</th>\n",
       "      <td>fæmliɹæʃninpɹɑbliwʊlbinɛsə̥sɚɨ</td>\n",
       "      <td>[2, -2, 5, 7, 12, 5, 2, 11, -7, 7, 13, 13, -8,...</td>\n",
       "    </tr>\n",
       "    <tr>\n",
       "      <th>3</th>\n",
       "      <td>aɪðætaɪmpɝæpsʌmθiŋbɛɾɝkɨnbidʌn</td>\n",
       "      <td>[2, 3, 1, -3, -1, 3, -1, 1, 3, 3, 0, 1, 3, 3, ...</td>\n",
       "    </tr>\n",
       "    <tr>\n",
       "      <th>4</th>\n",
       "      <td>ʔɪɾɪznɑɾəplɛzɨntʔɔɹʔizipɨzɪʃɨnʌʔwʌnwiɦɛvɨndɛvɝ...</td>\n",
       "      <td>[3, 6, 5, 2, 1, 2, 2, 3, 1, 3, 2, 1, 6, 2, -1,...</td>\n",
       "    </tr>\n",
       "  </tbody>\n",
       "</table>\n",
       "</div>"
      ],
      "text/plain": [
       "                                                 ipa  \\\n",
       "0          ðəsaʊndɨvddʒɛnəfɚzbjʉgl̩ skɛɹdðiʔænl̩ oʊp   \n",
       "1                læfdæntsʔɨntsɪŋɪfɔɹttʃɨnsmɑlzəpɔnjʉ   \n",
       "2                     fæmliɹæʃninpɹɑbliwʊlbinɛsə̥sɚɨ   \n",
       "3                     aɪðætaɪmpɝæpsʌmθiŋbɛɾɝkɨnbidʌn   \n",
       "4  ʔɪɾɪznɑɾəplɛzɨntʔɔɹʔizipɨzɪʃɨnʌʔwʌnwiɦɛvɨndɛvɝ...   \n",
       "\n",
       "                                               audio  \n",
       "0  [0, -1, 2, 0, 2, 3, 0, 1, 0, 1, -1, 1, 0, 1, 1...  \n",
       "1  [4, 0, 3, 3, 2, 7, 5, 4, 0, 1, 1, 7, 5, 18, 37...  \n",
       "2  [2, -2, 5, 7, 12, 5, 2, 11, -7, 7, 13, 13, -8,...  \n",
       "3  [2, 3, 1, -3, -1, 3, -1, 1, 3, 3, 0, 1, 3, 3, ...  \n",
       "4  [3, 6, 5, 2, 1, 2, 2, 3, 1, 3, 2, 1, 6, 2, -1,...  "
      ]
     },
     "execution_count": 64,
     "metadata": {},
     "output_type": "execute_result"
    }
   ],
   "source": [
    "# Same for test_df\n",
    "test_df = test_df.drop(columns=['phoneme_starts', 'phoneme_ends', 'audio'])\n",
    "test_df = test_df.rename(columns={'cropped_audio': 'audio'})\n",
    "test_df.head()"
   ]
  },
  {
   "cell_type": "code",
   "execution_count": 65,
   "metadata": {},
   "outputs": [],
   "source": [
    "train_ds = Dataset.from_pandas(train_df)\n",
    "test_ds = Dataset.from_pandas(test_df)"
   ]
  },
  {
   "cell_type": "markdown",
   "metadata": {},
   "source": [
    "# Extend Phoneme Vocab"
   ]
  },
  {
   "cell_type": "code",
   "execution_count": 66,
   "metadata": {},
   "outputs": [],
   "source": [
    "timit_vocab = set(\"\".join(train_df['ipa'])) | set(\"\".join(test_df['ipa']))"
   ]
  },
  {
   "cell_type": "code",
   "execution_count": 67,
   "metadata": {},
   "outputs": [],
   "source": [
    "tokenizer = AutoTokenizer.from_pretrained(PRE_TRAINED_ID)\n",
    "vocab = tokenizer.get_vocab()"
   ]
  },
  {
   "cell_type": "code",
   "execution_count": 68,
   "metadata": {},
   "outputs": [
    {
     "name": "stdout",
     "output_type": "stream",
     "text": [
      "{'̥', 'g', '̍', 'ɦ', '̃', '̩', 'ɝ'}\n"
     ]
    }
   ],
   "source": [
    "additional_vocab = timit_vocab.difference(set(vocab.keys()) | {' '})\n",
    "tokenizer.add_tokens(list(additional_vocab))\n",
    "print(additional_vocab)"
   ]
  },
  {
   "cell_type": "code",
   "execution_count": 69,
   "metadata": {},
   "outputs": [
    {
     "name": "stderr",
     "output_type": "stream",
     "text": [
      "Map: 100%|██████████| 4620/4620 [01:51<00:00, 41.54 examples/s]\n",
      "Map: 100%|██████████| 1680/1680 [00:40<00:00, 41.98 examples/s]\n"
     ]
    }
   ],
   "source": [
    "# replace ' ' in ipa with tokenizer.pad_token\n",
    "train_ds = train_ds.map(lambda x: {'audio': x['audio'], 'ipa': x['ipa'].replace(' ', tokenizer.pad_token)})\n",
    "test_ds = test_ds.map(lambda x: {'audio': x['audio'], 'ipa': x['ipa'].replace(' ', tokenizer.pad_token)})"
   ]
  },
  {
   "cell_type": "markdown",
   "metadata": {},
   "source": [
    "# Update Feature Extraction"
   ]
  },
  {
   "cell_type": "code",
   "execution_count": 70,
   "metadata": {},
   "outputs": [],
   "source": [
    "feature_extractor = AutoFeatureExtractor.from_pretrained(PRE_TRAINED_ID)"
   ]
  },
  {
   "cell_type": "markdown",
   "metadata": {},
   "source": [
    "We don't need to update the feature extractor since it has been pretrained on 16kHz audio which matches the TIMIT dataset.\n",
    "\n",
    "For datasets with different sampling rates, the feature extractor should be updated or the audio resampled (easier).\n",
    "\n",
    "This is also where code to add extra features (such as conditioning on speaker's native language etc.) would be added."
   ]
  },
  {
   "cell_type": "markdown",
   "metadata": {},
   "source": [
    "# Save Updated Tokenizer and Feature Extractor"
   ]
  },
  {
   "cell_type": "code",
   "execution_count": 71,
   "metadata": {},
   "outputs": [
    {
     "data": {
      "text/plain": [
       "[]"
      ]
     },
     "execution_count": 71,
     "metadata": {},
     "output_type": "execute_result"
    }
   ],
   "source": [
    "processor = AutoProcessor.from_pretrained(PRE_TRAINED_ID)\n",
    "processor.tokenizer = tokenizer\n",
    "processor.feature_extractor = feature_extractor\n",
    "processor.save_pretrained(OUTPUT_DIR)"
   ]
  },
  {
   "cell_type": "markdown",
   "metadata": {},
   "source": [
    "# Preprocess Data"
   ]
  },
  {
   "cell_type": "code",
   "execution_count": 72,
   "metadata": {},
   "outputs": [],
   "source": [
    "def prepare_dataset(batch):\n",
    "    batch[\"input_values\"] = processor(batch[\"audio\"], sampling_rate=feature_extractor.sampling_rate).input_values\n",
    "    batch[\"labels\"] = processor(text=batch[\"ipa\"]).input_ids\n",
    "    return batch"
   ]
  },
  {
   "cell_type": "code",
   "execution_count": 73,
   "metadata": {},
   "outputs": [
    {
     "name": "stderr",
     "output_type": "stream",
     "text": [
      "Map: 100%|██████████| 4620/4620 [02:01<00:00, 37.96 examples/s]\n"
     ]
    }
   ],
   "source": [
    "train_ds_prepared = train_ds.map(prepare_dataset, batch_size=8, num_proc=1, batched=True)"
   ]
  },
  {
   "cell_type": "code",
   "execution_count": 74,
   "metadata": {},
   "outputs": [
    {
     "name": "stderr",
     "output_type": "stream",
     "text": [
      "Map (num_proc=4):   0%|          | 0/1680 [00:00<?, ? examples/s]"
     ]
    }
   ],
   "source": [
    "test_ds_prepared = test_ds.map(prepare_dataset, batch_size=8, num_proc=4, batched=True)"
   ]
  },
  {
   "cell_type": "code",
   "execution_count": null,
   "metadata": {},
   "outputs": [],
   "source": [
    "train_ds_prepared.to_pandas().head()"
   ]
  },
  {
   "cell_type": "markdown",
   "metadata": {},
   "source": [
    "# Fine-Tune Model"
   ]
  },
  {
   "cell_type": "code",
   "execution_count": 31,
   "metadata": {},
   "outputs": [],
   "source": [
    "class DataCollatorCTCWithPadding:\n",
    "    \"\"\"\n",
    "    Data collator that will dynamically pad the inputs received.\n",
    "    Args:\n",
    "        processor (:class:`~transformers.Wav2Vec2Processor`)\n",
    "            The processor used for proccessing the data.\n",
    "        padding (:obj:`bool`, :obj:`str` or :class:`~transformers.tokenization_utils_base.PaddingStrategy`, `optional`, defaults to :obj:`True`):\n",
    "            Select a strategy to pad the returned sequences (according to the model's padding side and padding index)\n",
    "            among:\n",
    "            * :obj:`True` or :obj:`'longest'`: Pad to the longest sequence in the batch (or no padding if only a single\n",
    "              sequence if provided).\n",
    "            * :obj:`'max_length'`: Pad to a maximum length specified with the argument :obj:`max_length` or to the\n",
    "              maximum acceptable input length for the model if that argument is not provided.\n",
    "            * :obj:`False` or :obj:`'do_not_pad'` (default): No padding (i.e., can output a batch with sequences of\n",
    "              different lengths).\n",
    "        max_length (:obj:`int`, `optional`):\n",
    "            Maximum length of the ``input_values`` of the returned list and optionally padding length (see above).\n",
    "        max_length_labels (:obj:`int`, `optional`):\n",
    "            Maximum length of the ``labels`` returned list and optionally padding length (see above).\n",
    "        pad_to_multiple_of (:obj:`int`, `optional`):\n",
    "            If set will pad the sequence to a multiple of the provided value.\n",
    "            This is especially useful to enable the use of Tensor Cores on NVIDIA hardware with compute capability >=\n",
    "            7.5 (Volta).\n",
    "    \"\"\"\n",
    "\n",
    "    def __init__(self, processor: AutoProcessor, padding=True, max_length=None, max_length_labels=None, pad_to_multiple_of=None, pad_to_multiple_of_labels=None):\n",
    "        self.processor = processor\n",
    "        self.padding = padding\n",
    "        self.max_length = max_length\n",
    "        self.max_length_labels = max_length_labels\n",
    "        self.pad_to_multiple_of = pad_to_multiple_of\n",
    "        self.pad_to_multiple_of_labels = pad_to_multiple_of_labels\n",
    "\n",
    "    def __call__(self, features: \"list[dict[str, list[int] | torch.Tensor]]\") -> \"dict[str, torch.Tensor]\":\n",
    "        # split inputs and labels since they have to be of different lenghts and need\n",
    "        # different padding methods\n",
    "        input_features = [{\"input_values\": feature[\"input_values\"]} for feature in features]\n",
    "        label_features = [{\"input_ids\": feature[\"labels\"]} for feature in features]\n",
    "\n",
    "        batch = self.processor.pad(\n",
    "            input_features,\n",
    "            padding=self.padding,\n",
    "            max_length=self.max_length,\n",
    "            pad_to_multiple_of=self.pad_to_multiple_of,\n",
    "            return_tensors=\"pt\",\n",
    "        )\n",
    "        with self.processor.as_target_processor():\n",
    "            labels_batch = self.processor.pad(\n",
    "                label_features,\n",
    "                padding=self.padding,\n",
    "                max_length=self.max_length_labels,\n",
    "                pad_to_multiple_of=self.pad_to_multiple_of_labels,\n",
    "                return_tensors=\"pt\",\n",
    "            )\n",
    "\n",
    "        # replace padding with -100 to ignore loss correctly\n",
    "        labels = labels_batch[\"input_ids\"].masked_fill(labels_batch.attention_mask.ne(1), -100)\n",
    "\n",
    "        batch[\"labels\"] = labels\n",
    "\n",
    "        return batch"
   ]
  },
  {
   "cell_type": "code",
   "execution_count": 32,
   "metadata": {},
   "outputs": [],
   "source": [
    "data_collator = DataCollatorCTCWithPadding(processor=processor, padding=True)"
   ]
  },
  {
   "cell_type": "code",
   "execution_count": 33,
   "metadata": {},
   "outputs": [],
   "source": [
    "def cer(pred, label):\n",
    "    distances = np.zeros((len(pred) + 1, len(label) + 1))\n",
    "\n",
    "    for t1 in range(len(pred) + 1):\n",
    "        distances[t1][0] = t1\n",
    "\n",
    "    for t2 in range(len(label) + 1):\n",
    "        distances[0][t2] = t2\n",
    "        \n",
    "    a = 0\n",
    "    b = 0\n",
    "    c = 0\n",
    "    \n",
    "    for t1 in range(1, len(pred) + 1):\n",
    "        for t2 in range(1, len(label) + 1):\n",
    "            if (pred[t1-1] == label[t2-1]):\n",
    "                distances[t1][t2] = distances[t1 - 1][t2 - 1]\n",
    "            else:\n",
    "                a = distances[t1][t2 - 1]\n",
    "                b = distances[t1 - 1][t2]\n",
    "                c = distances[t1 - 1][t2 - 1]\n",
    "                \n",
    "                if (a <= b and a <= c):\n",
    "                    distances[t1][t2] = a + 1\n",
    "                elif (b <= a and b <= c):\n",
    "                    distances[t1][t2] = b + 1\n",
    "                else:\n",
    "                    distances[t1][t2] = c + 1\n",
    "\n",
    "    return distances[len(pred)][len(label)] / len(label)"
   ]
  },
  {
   "cell_type": "code",
   "execution_count": 34,
   "metadata": {},
   "outputs": [],
   "source": [
    "def compute_metrics(pred):\n",
    "    pred_logits = pred.predictions\n",
    "    pred_ids = np.argmax(pred_logits, axis=-1)\n",
    "\n",
    "    pred.label_ids[pred.label_ids == -100] = processor.tokenizer.pad_token_id\n",
    "\n",
    "    pred_str = processor.batch_decode(pred_ids)\n",
    "    label_str = processor.batch_decode(pred.label_ids, group_tokens=False) # labels are already grouped as they should be\n",
    "\n",
    "    err = cer(pred_str, label_str)\n",
    "\n",
    "    return {\"cer\": err}"
   ]
  },
  {
   "cell_type": "code",
   "execution_count": 35,
   "metadata": {},
   "outputs": [],
   "source": [
    "model = AutoModelForCTC.from_pretrained(\n",
    "    PRE_TRAINED_ID, \n",
    "    pad_token_id=processor.tokenizer.pad_token_id, \n",
    "    # gradient_checkpointing=True,\n",
    "    ctc_zero_infinity = True\n",
    ")"
   ]
  },
  {
   "cell_type": "code",
   "execution_count": 36,
   "metadata": {},
   "outputs": [],
   "source": [
    "# model.resize_token_embeddings(len(tokenizer))\n",
    "old_weights = model.lm_head.weight.t().detach()\n",
    "old_bias = model.lm_head.bias.detach()\n",
    "new_layer = torch.nn.Linear(model.lm_head.in_features, len(processor.tokenizer))\n",
    "new_layer.weight.data[:model.lm_head.out_features, :] = old_weights.t()\n",
    "new_layer.bias.data[:model.lm_head.out_features] = old_bias\n",
    "model.lm_head = new_layer\n",
    "model.config.vocab_size = len(processor.tokenizer)"
   ]
  },
  {
   "cell_type": "code",
   "execution_count": 37,
   "metadata": {},
   "outputs": [],
   "source": [
    "model.freeze_feature_encoder()"
   ]
  },
  {
   "cell_type": "code",
   "execution_count": 38,
   "metadata": {},
   "outputs": [],
   "source": [
    "# sanity checks\n",
    "max_class_id = 0\n",
    "for label_sequence in train_ds_prepared['labels']:\n",
    "    for class_id in label_sequence:\n",
    "        max_class_id = max(max_class_id, class_id)\n",
    "assert max_class_id == model.config.vocab_size - 1\n",
    "\n",
    "for label_sequence in train_ds_prepared['labels']:\n",
    "    for class_id in label_sequence:\n",
    "        assert class_id >= 0 and class_id <  model.config.vocab_size\n",
    "\n",
    "for label_sequence in train_ds_prepared['labels']:\n",
    "    assert  len(label_sequence) < 1024\n",
    "    assert len(label_sequence) >= 5"
   ]
  },
  {
   "cell_type": "code",
   "execution_count": null,
   "metadata": {},
   "outputs": [],
   "source": [
    "import wandb\n",
    "from transformers import TrainingArguments, Trainer\n",
    "\n",
    "# Initialize wandb\n",
    "wandb.init(project=\"timit-finetune\")\n",
    "\n",
    "training_args = TrainingArguments(\n",
    "    output_dir=OUTPUT_DIR,\n",
    "    group_by_length=True,\n",
    "    per_device_train_batch_size=16,\n",
    "    gradient_accumulation_steps=4,\n",
    "    eval_strategy=\"steps\",\n",
    "    num_train_epochs=150,\n",
    "    fp16=True,\n",
    "    save_steps=50,\n",
    "    eval_steps=50,\n",
    "    logging_steps=10,\n",
    "    learning_rate=1e-4,\n",
    "    warmup_steps=1000,\n",
    "    save_total_limit=3,\n",
    "    gradient_checkpointing=True,\n",
    "    load_best_model_at_end=True,\n",
    "    max_grad_norm=1.0,\n",
    "    report_to=\"wandb\" \n",
    ")"
   ]
  },
  {
   "cell_type": "code",
   "execution_count": 41,
   "metadata": {},
   "outputs": [],
   "source": [
    "from transformers import Trainer\n",
    "\n",
    "trainer = Trainer(\n",
    "    model=model,\n",
    "    data_collator=data_collator,\n",
    "    args=training_args,\n",
    "    compute_metrics=compute_metrics,\n",
    "    train_dataset=train_ds_prepared.select(range(100)),\n",
    "    # train_dataset=train_ds_prepared,\n",
    "    eval_dataset=test_ds_prepared.select(range(100)),\n",
    "    # eval_dataset=test_ds_prepared,\n",
    "    processing_class=processor.feature_extractor,\n",
    ")"
   ]
  },
  {
   "cell_type": "code",
   "execution_count": null,
   "metadata": {},
   "outputs": [],
   "source": [
    "torch.autograd.set_detect_anomaly(False) # debug NaNs, disable for real training to improve performance\n",
    "# model.config.ctc_zero_infinity = True \n",
    "trainer.train() # resume_from_checkpoint=True to resume training if training was interrupted"
   ]
  },
  {
   "cell_type": "markdown",
   "metadata": {},
   "source": [
    "# Evaluate"
   ]
  },
  {
   "cell_type": "code",
   "execution_count": null,
   "metadata": {},
   "outputs": [],
   "source": [
    "import wandb\n",
    "eval_results = trainer.evaluate()\n",
    "wandb.log(eval_results)"
   ]
  },
  {
   "cell_type": "code",
   "execution_count": 44,
   "metadata": {},
   "outputs": [],
   "source": [
    "old_model = AutoModelForCTC.from_pretrained(PRE_TRAINED_ID).to(model.device)"
   ]
  },
  {
   "cell_type": "code",
   "execution_count": null,
   "metadata": {},
   "outputs": [],
   "source": [
    "finetuned_model = AutoModelForCTC.from_pretrained(os.path.join(OUTPUT_DIR, 'checkpoint-50'))"
   ]
  },
  {
   "cell_type": "code",
   "execution_count": 45,
   "metadata": {},
   "outputs": [],
   "source": [
    "# check for nan weights and replace with old values if any\n",
    "for name, param in finetuned_model.named_parameters():\n",
    "    if torch.isnan(param).any():\n",
    "        print(name)\n",
    "        param.data = old_model.state_dict()[name].data"
   ]
  },
  {
   "cell_type": "code",
   "execution_count": null,
   "metadata": {},
   "outputs": [],
   "source": [
    "# compare weights\n",
    "is_diff = False\n",
    "for name, param in finetuned_model.named_parameters():\n",
    "    if not torch.equal(param, old_model.state_dict()[name].to(finetuned_model.device)):\n",
    "        is_diff = True\n",
    "        break\n",
    "print(\"Weights are different, training did something\" if is_diff else \"Weights are the same, training did nothing\")"
   ]
  },
  {
   "cell_type": "code",
   "execution_count": 47,
   "metadata": {},
   "outputs": [],
   "source": [
    "def predict(model, wav_file):\n",
    "    speech = audio_file_to_array(wav_file)\n",
    "    input_values = processor(speech, sampling_rate=16000, return_tensors=\"pt\").input_values.type(torch.float32).to(model.device)\n",
    "\n",
    "    with torch.no_grad():\n",
    "        logits = model(input_values).logits\n",
    "\n",
    "    predicted_ids = torch.argmax(logits, dim=-1)\n",
    "    return processor.decode(predicted_ids[0])\n",
    "    "
   ]
  },
  {
   "cell_type": "code",
   "execution_count": null,
   "metadata": {},
   "outputs": [],
   "source": [
    "print('Checkpoint Transcription:', predict(finetuned_model, os.path.join('..', 'data', 'alexIsConfused.wav')))"
   ]
  },
  {
   "cell_type": "code",
   "execution_count": null,
   "metadata": {},
   "outputs": [],
   "source": [
    "print('Best Fine-Tune Transcription:', predict(trainer.model, os.path.join('..', 'data', 'alexIsConfused.wav')))"
   ]
  },
  {
   "cell_type": "code",
   "execution_count": null,
   "metadata": {},
   "outputs": [],
   "source": [
    "print('Old Transcription:', predict(old_model, os.path.join('..', 'data', 'alexIsConfused.wav')))"
   ]
  },
  {
   "cell_type": "code",
   "execution_count": null,
   "metadata": {},
   "outputs": [],
   "source": [
    "import editdistance\n",
    "\n",
    "def compute_error_rate(prediction, reference):\n",
    "    # Calculate the edit distance between the prediction and reference\n",
    "    distance = editdistance.eval(prediction, reference)\n",
    "    # Normalize by the length of the reference\n",
    "    error_rate = distance / len(reference)\n",
    "    return error_rate\n",
    "\n",
    "# Example for phoneme sequences (PER)\n",
    "prediction_phonemes = \"h e e o e e e e e eo eh e l ou e æ leicgezeceiɪ zec eckcs t r ec k e n f j u ze d \".split()\n",
    "reference_phonemes = \"h ɛ l oʊ æ l ɪ k s ɪ z ɛ k s t ɾ ɹ ə k ə n f iː l ʊ s t\".split()\n",
    "\n",
    "# Compute PER\n",
    "per = compute_error_rate(prediction_phonemes, reference_phonemes)\n",
    "print(f\"Phoneme Error Rate (PER): {per:.2%}\")\n"
   ]
  },
  {
   "cell_type": "code",
   "execution_count": null,
   "metadata": {},
   "outputs": [],
   "source": [
    "# Example for character sequences (CER)\n",
    "prediction_chars = list(\"h e e o e e e e e eo eh e l ou e æ leicgezeceiɪ zec eckcs t r ec k e n f j u ze d \")\n",
    "reference_chars = list(\"h ɛ l oʊ æ l ɪ k s ɪ z ɛ k s t ɾ ɹ ə k ə n f iː l ʊ s t\")\n",
    "\n",
    "# Compute CER\n",
    "cer = compute_error_rate(prediction_chars, reference_chars)\n",
    "print(f\"Character Error Rate (CER): {cer:.2%}\")\n"
   ]
  },
  {
   "cell_type": "code",
   "execution_count": null,
   "metadata": {},
   "outputs": [],
   "source": [
    "# hyperparam search code <TODO> check this code \n",
    "import wandb\n",
    "import optuna\n",
    "from transformers import TrainingArguments, Trainer\n",
    "\n",
    "# Initialize wandb\n",
    "wandb.init(project=\"your_project_name\")\n",
    "\n",
    "def model_init():\n",
    "    return model\n",
    "\n",
    "def objective(trial):\n",
    "    # Define the hyperparameters to tune\n",
    "    learning_rate = trial.suggest_float(\"learning_rate\", 1e-5, 5e-4, log=True)\n",
    "    per_device_train_batch_size = trial.suggest_categorical(\"per_device_train_batch_size\", [8, 16, 32])\n",
    "    num_train_epochs = trial.suggest_int(\"num_train_epochs\", 3, 10)\n",
    "\n",
    "    training_args = TrainingArguments(\n",
    "        output_dir=OUTPUT_DIR,\n",
    "        run_name=\"your_run_name\",  # Set a different run name\n",
    "        group_by_length=True,\n",
    "        per_device_train_batch_size=per_device_train_batch_size,\n",
    "        gradient_accumulation_steps=4,\n",
    "        eval_strategy=\"steps\",\n",
    "        num_train_epochs=num_train_epochs,\n",
    "        fp16=True,\n",
    "        save_steps=100,\n",
    "        eval_steps=100,\n",
    "        logging_steps=100,\n",
    "        learning_rate=learning_rate,\n",
    "        warmup_steps=1000,\n",
    "        save_total_limit=3,\n",
    "        gradient_checkpointing=True,\n",
    "        load_best_model_at_end=True,\n",
    "        max_grad_norm=1.0,\n",
    "        report_to=\"wandb\"  # Add this line to report to wandb\n",
    "    )\n",
    "\n",
    "    trainer = Trainer(\n",
    "        model_init=model_init,\n",
    "        data_collator=data_collator,\n",
    "        args=training_args,\n",
    "        compute_metrics=compute_metrics,\n",
    "        train_dataset=train_ds_prepared.select(range(100)),\n",
    "        # train_dataset=train_ds_prepared,\n",
    "        eval_dataset=test_ds_prepared.select(range(100)),\n",
    "        # eval_dataset=test_ds_prepared,\n",
    "        processing_class=processor.feature_extractor,\n",
    "    )\n",
    "\n",
    "    torch.autograd.set_detect_anomaly(False)  # debug NaNs, disable for real training to improve performance\n",
    "    # model.config.ctc_zero_infinity = True \n",
    "    result = trainer.train()  # resume_from_checkpoint=True to resume training if training was interrupted\n",
    "\n",
    "    return result.training_loss\n",
    "\n",
    "# Perform hyperparameter search\n",
    "study = optuna.create_study(direction=\"minimize\")\n",
    "study.optimize(objective, n_trials=20)\n",
    "\n",
    "# Print best hyperparameters\n",
    "print(\"Best hyperparameters: \", study.best_params)"
   ]
  }
 ],
 "metadata": {
  "kernelspec": {
   "display_name": "venv",
   "language": "python",
   "name": "python3"
  },
  "language_info": {
   "codemirror_mode": {
    "name": "ipython",
    "version": 3
   },
   "file_extension": ".py",
   "mimetype": "text/x-python",
   "name": "python",
   "nbconvert_exporter": "python",
   "pygments_lexer": "ipython3",
   "version": "3.8.10"
  }
 },
 "nbformat": 4,
 "nbformat_minor": 2
}
