{
 "cells": [
  {
   "cell_type": "code",
   "execution_count": 61,
   "metadata": {},
   "outputs": [],
   "source": [
    "import zipfile\n",
    "import numpy as np\n",
    "\n",
    "import torch\n",
    "from transformers import AutoProcessor, AutoModelForCTC\n",
    "from torch.utils.data import Dataset\n",
    "\n",
    "from IPython.display import clear_output\n",
    "clear_output()"
   ]
  },
  {
   "cell_type": "code",
   "execution_count": 26,
   "metadata": {},
   "outputs": [],
   "source": [
    "# set espeak library path for macOS\n",
    "import sys\n",
    "if sys.platform == \"darwin\":\n",
    "    from phonemizer.backend.espeak.wrapper import EspeakWrapper\n",
    "\n",
    "    _ESPEAK_LIBRARY = \"/opt/homebrew/Cellar/espeak/1.48.04_1/lib/libespeak.1.1.48.dylib\"\n",
    "    EspeakWrapper.set_library(_ESPEAK_LIBRARY)"
   ]
  },
  {
   "cell_type": "markdown",
   "metadata": {},
   "source": [
    "# Load Data"
   ]
  },
  {
   "cell_type": "code",
   "execution_count": 34,
   "metadata": {},
   "outputs": [],
   "source": [
    "TIMIT2IPA = {'AA': 'ɑ', 'AE': 'æ', 'AH': 'ʌ', 'AH0': 'ə', 'AO': 'ɔ', 'AW': 'aʊ', 'AY': 'aɪ', 'EH': 'ɛ', 'ER': 'ɝ', 'ER0': 'ɚ', 'EY': 'eɪ', 'IH': 'ɪ', 'IH0': 'ɨ', 'IY': 'i', 'OW': 'oʊ', 'OY': 'ɔɪ', 'UH': 'ʊ', 'UW': 'u', 'B': '', 'CH': 'tʃ', 'D': '', 'DH': 'ð', 'EL': 'l̩', 'EM': 'm̩', 'EN': 'n̩', 'F': 'f', 'G': '', 'HH': 'h', 'JH': 'dʒ', 'K': '', 'L': 'l', 'M': 'm', 'N': 'n', 'NG': 'ŋ', 'P': '', 'Q': 'ʔ', 'R': 'ɹ', 'S': 's', 'SH': 'ʃ', 'T': '', 'TH': 'θ', 'V': 'v', 'W': 'w', 'WH': 'ʍ', 'Y': 'j', 'Z': 'z', 'ZH': 'ʒ', 'AX': 'ə', 'AX-H': 'ə̥', 'AXR': 'ɚ', 'BCL': 'b', 'DCL': 'd', 'DX': 'ɾ', 'ENG': 'ŋ̍', 'EPI': '', 'GCL': 'g', 'HV': 'ɦ', 'H#': '', 'IX': 'ɨ', 'KCL': 'k', 'NX': 'ɾ̃', 'PAU': '', 'PCL': 'p', 'TCL': 't', 'UX': 'ʉ'}\n",
    "IPA_SUBSTITUTIONS = {\n",
    "    'ɾ̃': 'ɾ',  # Replace nasalized flap with plain flap\n",
    "    'ŋ̍': 'ŋ',  # Remove syllabic marker from 'ŋ̍'\n",
    "    'ə̥': 'ə',  # Remove voiceless marker from 'ə̥'\n",
    "    'ɝ': 'ɹ',   # Simplify rhotacized schwa to 'ɹ'\n",
    "    'ɚ': 'ɹ',   # Simplify rhotacized schwa to 'ɹ'\n",
    "    'l̩': 'l',   # Remove syllabic marker from 'l̩'\n",
    "    'm̩': 'm',   # Remove syllabic marker from 'm̩'\n",
    "    'n̩': 'n',   # Remove syllabic marker from 'n̩'\n",
    "    '̩': '',     # Remove syllabic marker\n",
    "    'ʉ': 'u',    # Replace high central rounded vowel with high back rounded vowel\n",
    "    'ɨ': 'i',    # Replace high central unrounded vowel with high front unrounded vowel\n",
    "    ' ': '',     # Remove nasalization marker\n",
    "    'ɦ': 'h',    # Replace voiceless glottal fricative with voiceless glottal fricative\n",
    "}\n",
    "for k in TIMIT2IPA.keys():\n",
    "    if TIMIT2IPA[k] in IPA_SUBSTITUTIONS.keys():\n",
    "        TIMIT2IPA[k] = IPA_SUBSTITUTIONS[TIMIT2IPA[k]]"
   ]
  },
  {
   "cell_type": "code",
   "execution_count": 134,
   "metadata": {},
   "outputs": [],
   "source": [
    "WAV_HEADER_SIZE = 44\n",
    "class TIMITDataset(Dataset):\n",
    "    def __init__(self, split=\"train\", include_timestamps=False):\n",
    "        self.zip = zipfile.ZipFile('../.data/TIMIT.zip', 'r')\n",
    "        files = self.zip.namelist()\n",
    "        self.files = list(set(map(lambda x: x.split('.')[0], filter(lambda x: x.startswith('data/' + split.upper()), files))))\n",
    "        self.include_timestamps = include_timestamps\n",
    "\n",
    "    def __del__(self):\n",
    "        self.zip.close()\n",
    "\n",
    "    def __len__(self):\n",
    "        return len(self.files)\n",
    "\n",
    "    def _get_file(self, filename):\n",
    "        with self.zip.open(filename+ '.WAV') as wav_file:\n",
    "            audio = np.frombuffer(wav_file.read(), dtype=np.int16)[WAV_HEADER_SIZE//2:]\n",
    "\n",
    "        with self.zip.open(filename + '.PHN') as phn_file:\n",
    "            timestamped_phonemes = []\n",
    "            for line in phn_file.read().decode('utf-8').split('\\n'):\n",
    "                if line == '':\n",
    "                    continue\n",
    "                start, end, phoneme = line.split()\n",
    "                ipa_phonemes = TIMIT2IPA.get(phoneme.upper(), '<unk>')\n",
    "                timestamped_phonemes.append((ipa_phonemes, int(start), int(end)))\n",
    "        ipa = ''.join([x[0] for x in timestamped_phonemes])\n",
    "        \n",
    "        start_signal = timestamped_phonemes.pop(0)\n",
    "        audio = audio[start_signal[2]:]\n",
    "        timestamped_phonemes = [(x[0], x[1] - start_signal[2], x[2] - start_signal[2]) for x in timestamped_phonemes]\n",
    "        \n",
    "        if self.include_timestamps:\n",
    "            return ipa, audio, timestamped_phonemes\n",
    "        else:\n",
    "            return ipa, audio\n",
    "\n",
    "    def __getitem__(self, index):\n",
    "        filenames = self.files[index]\n",
    "        if isinstance(filenames, str):\n",
    "            return self._get_file(filenames)\n",
    "        else:\n",
    "            return [self._get_file(filename) for filename in filenames]"
   ]
  },
  {
   "cell_type": "code",
   "execution_count": 135,
   "metadata": {},
   "outputs": [],
   "source": [
    "train = TIMITDataset(\"train\", include_timestamps=True)\n",
    "test = TIMITDataset(\"test\", include_timestamps=True)"
   ]
  },
  {
   "cell_type": "code",
   "execution_count": 136,
   "metadata": {},
   "outputs": [
    {
     "name": "stdout",
     "output_type": "stream",
     "text": [
      "('wʌtɑɹgitshævwisəksɛsflinɑkaʊt', array([ 2,  1,  3, ..., -1, -3, 11], dtype=int16), [('w', 0, 413), ('ʌ', 413, 1081), ('t', 1081, 2580), ('', 2580, 3210), ('ɑ', 3210, 4026), ('ɹ', 4026, 4680), ('g', 4680, 5196), ('i', 5196, 6280), ('t', 6280, 6500), ('s', 6500, 7660), ('h', 7660, 7990), ('æ', 7990, 8997), ('v', 8997, 9561), ('w', 9561, 10333), ('i', 10333, 11105), ('s', 11105, 12423), ('ə', 12423, 12760), ('k', 12760, 13529), ('s', 13529, 14846), ('ɛ', 14846, 15830), ('s', 15830, 17040), ('f', 17040, 17895), ('l', 17895, 18898), ('i', 18898, 19826), ('n', 19826, 20987), ('ɑ', 20987, 22658), ('k', 22658, 24390), ('', 24390, 24670), ('aʊ', 24670, 27080), ('t', 27080, 28180), ('', 28180, 29280)])\n"
     ]
    },
    {
     "data": {
      "image/png": "[encoded data removed]",
      "text/plain": [
       "<Figure size 640x480 with 1 Axes>"
      ]
     },
     "metadata": {},
     "output_type": "display_data"
    }
   ],
   "source": [
    "import matplotlib.pyplot as plt\n",
    "print(train[0])\n",
    "plt.plot(train[0][1])\n",
    "plt.show()"
   ]
  },
  {
   "cell_type": "markdown",
   "metadata": {},
   "source": [
    "# Evaluate Timestamps"
   ]
  },
  {
   "cell_type": "code",
   "execution_count": 30,
   "metadata": {},
   "outputs": [],
   "source": [
    "# MODEL_ID = \"KoelLabs/xlsr-timit-b0\"\n",
    "# MODEL_ID = \"KoelLabs/xlsr-timit-c0\"\n",
    "# MODEL_ID = \"KoelLabs/xlsr-timit-d0\"\n",
    "# MODEL_ID = \"KoelLabs/xlsr-timit-e0\"\n",
    "# MODEL_ID = \"KoelLabs/xlsr-timit-b1\"\n",
    "# MODEL_ID = \"KoelLabs/xlsr-timit-c1\"\n",
    "# MODEL_ID = \"KoelLabs/xlsr-timit-d1\"\n",
    "# MODEL_ID = \"KoelLabs/xlsr-timit-e1\"\n",
    "# MODEL_ID = \"facebook/wav2vec2-lv-60-espeak-cv-ft\"\n",
    "MODEL_ID = \"mrrubino/wav2vec2-large-xlsr-53-l2-arctic-phoneme\"\n",
    "# MODEL_ID = \"vitouphy/wav2vec2-xls-r-300m-timit-phoneme\"\n",
    "# MODEL_ID = \"ginic/gender_split_70_female_4_wav2vec2-large-xlsr-53-buckeye-ipa\"\n",
    "DEVICE = 'cuda' if torch.cuda.is_available() else 'mps' if torch.backends.mps.is_available() else 'cpu'\n",
    "torch.mps.empty_cache()\n",
    "processor = AutoProcessor.from_pretrained(MODEL_ID)\n",
    "model = AutoModelForCTC.from_pretrained(MODEL_ID).to(DEVICE)"
   ]
  },
  {
   "cell_type": "code",
   "execution_count": 11,
   "metadata": {},
   "outputs": [],
   "source": [
    "SAMPLE_RATE = 16000\n",
    "DIPHONES = {'aʊ', 'aɪ', 'eɪ', 'oʊ', 'ɔɪ', 'tʃ', 'dʒ'}\n",
    "def transcribe_batch_timestamped(batch):\n",
    "    input_values = processor([x[1] for x in batch], sampling_rate=SAMPLE_RATE, return_tensors=\"pt\", padding=True).input_values.type(torch.float32).to(DEVICE)\n",
    "    with torch.no_grad():\n",
    "        logits = model(input_values).logits\n",
    "\n",
    "    predicted_ids = torch.argmax(logits, dim=-1)\n",
    "\n",
    "    for ids in predicted_ids:\n",
    "        # transcription = processor.decode(ids)\n",
    "\n",
    "        # get the start and end timestamp for each phoneme\n",
    "        ids = ids.tolist()\n",
    "        duration_sec = input_values.shape[1]\n",
    "\n",
    "        ids_w_time = [\n",
    "            (i / len(ids) * duration_sec, _id)\n",
    "            for i, _id in enumerate(ids)\n",
    "        ]\n",
    "\n",
    "        # group the phonemes with the same id together\n",
    "        current_phoneme_id = processor.tokenizer.pad_token_id\n",
    "        current_start_time = 0\n",
    "        phonemes_with_time = []\n",
    "        for time, _id in ids_w_time:\n",
    "            if current_phoneme_id != _id:\n",
    "                if current_phoneme_id != processor.tokenizer.pad_token_id:\n",
    "                    phonemes_with_time.append(\n",
    "                        (processor.decode(current_phoneme_id), int(current_start_time), int(time))\n",
    "                    )\n",
    "                current_start_time = time\n",
    "                current_phoneme_id = _id\n",
    "\n",
    "        # group together characters that are diphones\n",
    "        grouped_phonemes_with_time = []\n",
    "        previous_phoneme = ''\n",
    "        for phoneme, start, end in phonemes_with_time:\n",
    "            if (previous_phoneme + phoneme) in DIPHONES:\n",
    "                grouped_phonemes_with_time[-1] = (grouped_phonemes_with_time[-1][0] + phoneme, grouped_phonemes_with_time[-1][1], end)\n",
    "            else:\n",
    "                grouped_phonemes_with_time.append((phoneme, start, end))\n",
    "            previous_phoneme = phoneme\n",
    "\n",
    "        yield grouped_phonemes_with_time"
   ]
  },
  {
   "cell_type": "code",
   "execution_count": 12,
   "metadata": {},
   "outputs": [
    {
     "name": "stdout",
     "output_type": "stream",
     "text": [
      "('ɹ', 643, 965) ('ɹ', 0, 846)\n",
      "('æ', 1931, 2253) ('ɑ', 846, 2540)\n",
      "('l', 2896, 3218) ('l', 2540, 3400)\n",
      "('f', 4506, 4827) ('f', 3400, 4920)\n",
      "('k', 6115, 6437) ('k', 4920, 5720)\n",
      "('n', 7402, 7724) ('n', 6360, 7776)\n",
      "('t', 8690, 9333) ('t', 7776, 8080)\n",
      "('ɹ', 9655, 10299) ('ɹ', 9700, 10536)\n",
      "('oʊ', 10943, 11908) ('oʊ', 10536, 11700)\n",
      "('l', 11908, 12552) ('l', 11700, 12360)\n",
      "('d', 13196, 13839) ('d', 12360, 13700)\n",
      "('ð', 14161, 14483) ('ð', 13700, 13880)\n",
      "('ə', 14805, 15127) ('i', 13880, 15030)\n",
      "('s', 17058, 17380) ('s', 15030, 17240)\n",
      "('t', 18024, 18346) ('t', 17240, 17620)\n",
      "('ɑ', 19633, 19955) ('ɑ', 18020, 20280)\n",
      "('p', 21564, 21886) ('p', 20280, 21412)\n",
      "('w', 22530, 23173) ('w', 22480, 23213)\n",
      "('ɑ', 23817, 24139) ('ɑ', 23213, 24680)\n",
      "('t', 24783, 25426) ('t', 24680, 25340)\n",
      "('tʃ', 25748, 27358) ('tʃ', 25340, 27121)\n",
      "('f', 29932, 30254) ('f', 27121, 29940)\n",
      "('ɹ', 30254, 30576) ('ɹ', 29940, 30588)\n",
      "('m', 31542, 31864) ('m', 30588, 31620)\n",
      "('ð', 32507, 32829) ('n', 31620, 32262)\n",
      "('ə', 33151, 33473) ('ə', 32262, 32858)\n",
      "('b', 34439, 34760) ('b', 32858, 33900)\n",
      "('l', 35082, 35726) ('l', 34160, 34973)\n",
      "('i', 36370, 36692) ('i', 34973, 36600)\n",
      "('t', 36692, 37335) ('t', 36600, 37190)\n",
      "('tʃ', 37979, 38945) ('tʃ', 37190, 38520)\n",
      "('ɹ', 39588, 39910) ('ɹ', 38520, 40430)\n",
      "('z', 42807, 43129) ('s', 40430, 43460)\n"
     ]
    }
   ],
   "source": [
    "for x, y in zip(list(transcribe_batch_timestamped([test[9]]))[0], [y for y in test[9][2] if y[0].strip() != '']):\n",
    "    print(x, y)"
   ]
  },
  {
   "cell_type": "code",
   "execution_count": 405,
   "metadata": {},
   "outputs": [
    {
     "name": "stdout",
     "output_type": "stream",
     "text": [
      "20 ['i', 's', 'h', 'ɛ', 'l', 'θ', 'j', 'ɹ', 'd', 'k', 'ʊ', 'k', 'w', 'ə', 'θ', 'aʊ', 'tʃ', 'ʊ', 'ɡ', 'ɹ']\n",
      "28 ['tʃ', 'i', 'p', 's', 't', 'ɑ', 'k', 'i', 'ŋ', 'z', 'ɹ', 'ʌ', 'n', 'ð', 'ə', 'f', 'ɹ', 's', 't', 'aɪ', 'm', 'ð', 'ɛ', 'ɹ', 'w', 'ɔ', 'n', 'd']\n",
      "37 ['ð', 'ə', 'b', 'v', 'ʌ', 'ŋ', 'ɡ', 'ə', 'l', 'oʊ', 'w', 'ə', 'z', 'p', 'l', 'ʌ', 'z', 'n', 'l', 'i', 's', 'ɪ', 't', 'tʃ', 'u', 'w', 'eɪ', 'ɾ', 'i', 'd', 'n', 'i', 'ð', 'i', 'ʃ', 'ɔ', 'ɹ']\n",
      "34 ['ʃ', 'i', 'h', 'æ', 'd', 'j', 'ɹ', 'd', 'ɑ', 'ɹ', 'k', 's', 'u', 't', 'n', 'ɡ', 'ɹ', 'i', 's', 'i', 'b', 'w', 'ɔ', 'ʃ', 'w', 'ɔ', 'ɾ', 'ɹ', 'ʔ', 'ɔ', 'l', 'j', 'ɪ', 'ɹ']\n",
      "27 ['oʊ', 'ɾ', 'æ', 's', 'k', 'm', 'i', 'ɾ', 'i', 'k', 'ɛ', 'ɹ', 'ɪ', 'i', 'n', 'ɔɪ', 'l', 'i', 'ɹ', 'æ', 'ɡ', 'l', 'aɪ', 'k', 'ð', 'æ', 't']\n",
      "34 ['ʃ', 'i', 'h', 'ɛ', 'd', 'dʒ', 'ɹ', 'd', 'ɑ', 'ɹ', 'k', 's', 'u', 't', 'ʔ', 'i', 'n', 'ɡ', 'ɹ', 'i', 's', 'i', 'w', 'ɑ', 'ʃ', 'w', 'ɔ', 'ɾ', 'ɹ', 'ɔ', 'l', 'j', 'ɪ', 'ɹ']\n",
      "39 ['i', 's', 'ɛ', 'm', 'b', 'ɹ', 'i', 'n', 'd', 'dʒ', 'æ', 'n', 'j', 'u', 'ɹ', 'i', 'ʔ', 'ɑ', 'n', 'aɪ', 's', 'm', 'ʌ', 'n', 's', 't', 'i', 's', 'p', 'ɛ', 'n', 'd', 'i', 'd', 'm', 'aɪ', 'æ', 'm', 'i']\n",
      "48 ['s', 'oʊ', 'ʊ', 'f', 'ɔ', 'l', 'ð', 'i', 'z', 'b', 'ɪ', 'ɹ', 'z', 'w', 'ʌ', 'z', 'd', 'i', 'ɡ', 'ɛ', 't', 'm', 'i', 'ɪ', 'b', 'ɛ', 'd', 'm', 'æ', 'n', 'j', 'u', 'd', 'dʒ', 'ɪ', 's', 'p', 'ɛ', 'ɾ', 'ə', 'l', 'ɑ', 'ɾ', 'ə', 'm', 'ʌ', 'ɾ', 'i']\n",
      "37 ['i', 'f', 'k', 'ɛ', 'ɹ', 'oʊ', 'k', 'ʌ', 'm', 'z', 't', 'ə', 'm', 'ɑ', 'ɹ', 'ʊ', 'h', 'ɛ', 'v', 'ɹ', 'ɹ', 'ɹ', 'eɪ', 'n', 'd', 'dʒ', 'f', 'ɹ', 'ə', 'm', 'i', 'ɾ', 'i', 'ŋ', 'i', 't', 'u']\n",
      "19 ['h', 'i', 'm', 'eɪ', 'k', 's', 'm', 'i', 'ʔ', 'ʌ', 'ŋ', 'k', 'ʌ', 'n', 'f', 'ɹ', 'ɾ', 'b', 'l']\n"
     ]
    }
   ],
   "source": [
    "timestamped_transcriptions = list(transcribe_batch_timestamped(test[:10]))\n",
    "for timestamped_transcription in timestamped_transcriptions:\n",
    "    print(len(timestamped_transcription), [y[0] for y in timestamped_transcription])"
   ]
  },
  {
   "cell_type": "code",
   "execution_count": 406,
   "metadata": {},
   "outputs": [
    {
     "name": "stdout",
     "output_type": "stream",
     "text": [
      "23 ['i', 't', 's', 'h', 'ɛ', 'l', 'θ', 'i', 'ɹ', 't', 'ə', 'k', 'ʊ', 'k', 'w', 'ə', 'θ', 'aʊ', 't', 'ʃ', 'ʊ', 'g', 'ɹ']\n",
      "28 ['tʃ', 'i', 'p', 's', 't', 'ɑ', 'k', 'i', 'ŋ', 'z', 'ɹ', 'ʌ', 'n', 'ð', 'ə', 'f', 'ɹ', 's', 't', 'aɪ', 'm', 'ð', 'ɛ', 'ɹ', 'w', 'ɔ', 'ə', 'n']\n",
      "35 ['ð', 'ə', 'b', 'ʌ', 'ŋ', 'g', 'l', 'oʊ', 'w', 'ʌ', 'z', 'p', 'l', 'ʌ', 'z', 'n', 'l', 'i', 's', 'i', 't', 'tʃ', 'ə', 'w', 'i', 'ɾ', 'ɪ', 'd', 'n', 'ɪ', 'ð', 'i', 'ʃ', 'ɔ', 'ɹ']\n",
      "32 ['ʃ', 'i', 'h', 'æ', 'd', 'j', 'ɹ', 'd', 'ɑ', 'k', 's', 'u', 't', 'n', 'g', 'ɹ', 'i', 's', 'i', 'w', 'ɔ', 'ʃ', 'w', 'ɔ', 'ɾ', 'ɹ', 'ʔ', 'ɔ', 'l', 'j', 'ɪ', 'ɹ']\n",
      "26 ['oʊ', 'n', 'æ', 's', 'k', 'm', 'i', 'ɾ', 'i', 'k', 'ɹ', 'i', 'i', 'n', 'ɔ', 'l', 'i', 'ɹ', 'æ', 'g', 'l', 'aɪ', 'k', 'ð', 'æ', 't']\n",
      "32 ['ʃ', 'i', 'h', 'æ', 'd', 'dʒ', 'ɹ', 'd', 'ɑ', 'ɹ', 'k', 's', 'u', 'ʔ', 'ɪ', 'n', 'g', 'ɹ', 'i', 's', 'i', 'w', 'ɔ', 'ʃ', 'w', 'ɔ', 'ɾ', 'ɹ', 'ɔ', 'j', 'ɪ', 'ɹ']\n",
      "43 ['i', 's', 'ɛ', 'm', 'b', 'ɹ', 'i', 'n', 'd', 'dʒ', 'æ', 'n', 'j', 'u', 'w', 'ɛ', 'ɹ', 'i', 'ʔ', 'ɑ', 'ɹ', 'n', 'aɪ', 's', 'm', 'ʌ', 'n', 'θ', 's', 't', 'i', 's', 'p', 'ɛ', 'n', 'd', 'i', 'n', 'm', 'aɪ', 'æ', 'm', 'i']\n",
      "48 ['s', 'oʊ', 'ə', 'f', 'ɔ', 'l', 'i', 'z', 'b', 'ɪ', 'ɹ', 'z', 'w', 'ʌ', 'z', 't', 'i', 'g', 'ɛ', 't', 'm', 'i', 'i', 'm', 'b', 'ɛ', 'd', 'm', 'æ', 'n', 'j', 'u', 'd', 'dʒ', 'ʊ', 's', 'p', 'ɛ', 'n', 'ʌ', 'l', 'ɑ', 'ɾ', 'ʌ', 'm', 'ʌ', 'ɾ', 'i']\n",
      "35 ['ɪ', 'f', 'k', 'ɛ', 'ɹ', 'l', 'k', 'ʌ', 'm', 'z', 't', 'ə', 'm', 'ɑ', 'ɹ', 'ə', 'h', 'æ', 'v', 'ɹ', 'ɹ', 'eɪ', 'n', 'dʒ', 'f', 'ɹ', 'm', 'i', 'ɾ', 'i', 'ŋ', 'i', 'ʔ', 't', 'u']\n",
      "20 ['h', 'i', 'm', 'eɪ', 'k', 's', 'm', 'i', 'ʔ', 'ʌ', 'ŋ', 'k', 'ʌ', 'm', 'f', 'ɹ', 'ɾ', 'ə', 'b', 'l']\n"
     ]
    }
   ],
   "source": [
    "for x in test[:10]:\n",
    "    p = [y for y in x[2] if y[0].strip() != '']\n",
    "    print(len(p), [y[0] for y in p])"
   ]
  },
  {
   "cell_type": "code",
   "execution_count": 13,
   "metadata": {},
   "outputs": [],
   "source": [
    "def count_contained_phonemes(output_timestamped, target_timestamped, leniency=200):\n",
    "    target_timestamped = [y for y in target_timestamped if y[0].strip() != '']\n",
    "    count = 0\n",
    "    # for (_, os, oe), (_, ts, te) in zip(output_timestamped, target_timestamped):\n",
    "    #     if os >= ts - leniency and oe <= te + leniency:\n",
    "    #         count += 1\n",
    "    for (_, os, oe) in output_timestamped:\n",
    "        for (_, ts, te) in target_timestamped:\n",
    "            if os >= ts - leniency and oe <= te + leniency:\n",
    "                count += 1\n",
    "                break\n",
    "    return min(count, len(target_timestamped))"
   ]
  },
  {
   "cell_type": "code",
   "execution_count": 31,
   "metadata": {},
   "outputs": [
    {
     "name": "stdout",
     "output_type": "stream",
     "text": [
      "0.8393263788972336\n"
     ]
    }
   ],
   "source": [
    "BATCH_SIZE = 4\n",
    "average_accuracy = 0\n",
    "amount = len(test)\n",
    "for i in range(0, amount, BATCH_SIZE):\n",
    "    torch.mps.empty_cache()\n",
    "    size = min(BATCH_SIZE, amount - i)\n",
    "    transcribed = list(transcribe_batch_timestamped(test[i:i+size]))\n",
    "    for j in range(size):\n",
    "        average_accuracy += count_contained_phonemes(transcribed[j], test[i+j][2], leniency=200) / len(test[i+j][2])\n",
    "print(average_accuracy / amount)"
   ]
  },
  {
   "cell_type": "markdown",
   "metadata": {},
   "source": [
    "B0 timestamp accuracy: 69%\n",
    "B1 timestamp accuracy: 72%\n",
    "C0 timestamp accuracy: 73%\n",
    "C1 timestamp accuracy: 73%\n",
    "D0 timestamp accuracy: 73%\n",
    "D1 timestamp accuracy: 73%\n",
    "E0 timestamp accuracy: 73%\n",
    "E1 timestamp accuracy: 73%\n",
    "Ginic timestamp accuracy: 74%\n",
    "Vitou timestamp accuracy: 81%\n",
    "Facebook 60 timestamp accuracy: 77%\n",
    "Arctic Finetune timestamp accuracy: 84%"
   ]
  },
  {
   "cell_type": "code",
   "execution_count": 15,
   "metadata": {},
   "outputs": [],
   "source": [
    "def t_overlap(os, oe, ts, te):\n",
    "    if os >= ts and oe <= te:\n",
    "        return 1\n",
    "    elif os > te or oe < ts:\n",
    "        return 0\n",
    "    elif os < ts:\n",
    "        return (oe - ts) / (oe - os)\n",
    "    else: # oe >= te\n",
    "        return (te - os) / (oe - os)\n",
    "\n",
    "def timestamp_overlap(output, target):\n",
    "    output = [y for y in output if y[0].strip() != '']\n",
    "    target = [y for y in target if y[0].strip() != '']\n",
    "    overlap = 0\n",
    "    # for (_, os, oe), (_, ts, te) in zip(output, target):\n",
    "    #     overlap += t_overlap(os, oe, ts, te)\n",
    "    for (_, os, oe) in output:\n",
    "        max_overlap = 0\n",
    "        for (_, ts, te) in target:\n",
    "            max_overlap = max(max_overlap, t_overlap(os, oe, ts, te))\n",
    "        overlap += max_overlap\n",
    "    return overlap / min(len(output), len(target))"
   ]
  },
  {
   "cell_type": "code",
   "execution_count": 32,
   "metadata": {},
   "outputs": [
    {
     "name": "stdout",
     "output_type": "stream",
     "text": [
      "0.8716518840732268\n"
     ]
    }
   ],
   "source": [
    "BATCH_SIZE = 4\n",
    "average_overlap = 0\n",
    "amount = len(test)\n",
    "for i in range(0, amount, BATCH_SIZE):\n",
    "    torch.mps.empty_cache()\n",
    "    size = min(BATCH_SIZE, amount - i)\n",
    "    transcribed = list(transcribe_batch_timestamped(test[i:i+size]))\n",
    "    for j in range(size):\n",
    "        average_overlap += timestamp_overlap(transcribed[j], test[i+j][2])\n",
    "print(average_overlap / amount)"
   ]
  },
  {
   "cell_type": "markdown",
   "metadata": {},
   "source": [
    "B0 timestamp overlap: 82%\n",
    "B1 timestamp overlap: 83%\n",
    "C0 timestamp overlap: 84%\n",
    "C1 timestamp overlap: 85%\n",
    "D0 timestamp overlap: 84%\n",
    "D1 timestamp overlap: 84%\n",
    "E0 timestamp overlap: 85%\n",
    "E1 timestamp overlap: 85%\n",
    "Ginic timestamp overlap: 88%\n",
    "Vitou timestamp overlap: 83%\n",
    "Facebook 60 timestamp overlap: 89%\n",
    "Arctic Finetune timestamp overlap: 87%"
   ]
  }
 ],
 "metadata": {
  "kernelspec": {
   "display_name": "venv",
   "language": "python",
   "name": "python3"
  },
  "language_info": {
   "codemirror_mode": {
    "name": "ipython",
    "version": 3
   },
   "file_extension": ".py",
   "mimetype": "text/x-python",
   "name": "python",
   "nbconvert_exporter": "python",
   "pygments_lexer": "ipython3",
   "version": "3.8.10"
  }
 },
 "nbformat": 4,
 "nbformat_minor": 2
}
