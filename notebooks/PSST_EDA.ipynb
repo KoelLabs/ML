{
 "cells": [
  {
   "cell_type": "code",
   "execution_count": 7,
   "metadata": {},
   "outputs": [],
   "source": [
    "import numpy as np\n",
    "\n",
    "import scipy.io.wavfile as wavfile\n",
    "from torch.utils.data import Dataset\n",
    "\n",
    "from IPython.display import clear_output # must not leak any of the data\n",
    "\n",
    "import psstdata # pip install psstdata==1.0.1"
   ]
  },
  {
   "cell_type": "markdown",
   "metadata": {},
   "source": [
    "# Load Data\n",
    "This will prompt for credentials if not already saved in ~/config/psstdata/settings.json"
   ]
  },
  {
   "cell_type": "code",
   "execution_count": null,
   "metadata": {},
   "outputs": [],
   "source": [
    "data = psstdata.load(local_dir=\"../.data/psst-data\") # type: ignore\n",
    "clear_output()"
   ]
  },
  {
   "cell_type": "markdown",
   "metadata": {},
   "source": [
    "# Process Data"
   ]
  },
  {
   "cell_type": "code",
   "execution_count": 8,
   "metadata": {},
   "outputs": [],
   "source": [
    "def audio_file_to_array(input_path, desired_sample_rate=16000):\n",
    "    rate, data = wavfile.read(input_path)\n",
    "    if rate != desired_sample_rate:\n",
    "        data = np.interp(\n",
    "            np.linspace(0, len(data), int(len(data) * desired_sample_rate / rate)),\n",
    "            np.arange(len(data)),\n",
    "            data,\n",
    "        ).astype(np.int16)\n",
    "    return data\n",
    "clear_output()"
   ]
  },
  {
   "cell_type": "code",
   "execution_count": 5,
   "metadata": {},
   "outputs": [],
   "source": [
    "ARPABET2IPA = {'AA':'ɑ','AE':'æ','AH':'ʌ','AH0':'ə','AO':'ɔ','AW':'aʊ','AY':'aɪ','EH':'ɛ','ER':'ɝ','ER0':'ɚ','EY':'eɪ','IH':'ɪ','IH0':'ɨ','IY':'i','OW':'oʊ','OY':'ɔɪ','UH':'ʊ','UW':'u','B':'b','CH':'tʃ','D':'d','DH':'ð','EL':'l̩ ','EM':'m̩','EN':'n̩','F':'f','G':'ɡ','HH':'h','JH':'dʒ','K':'k','L':'l','M':'m','N':'n','NG':'ŋ','P':'p','Q':'ʔ','R':'ɹ','S':'s','SH':'ʃ','T':'t','TH':'θ','V':'v','W':'w','WH':'ʍ','Y':'j','Z':'z','ZH':'ʒ'}\n",
    "IPA_SUBSTITUTIONS = {\n",
    "    'ɝ': 'ɹ',   # Simplify rhotacized schwa to 'ɹ'\n",
    "    'ɚ': 'ɹ',   # Simplify rhotacized schwa to 'ɹ'\n",
    "    'l̩': 'l',   # Remove syllabic marker from 'l̩'\n",
    "    'm̩': 'm',   # Remove syllabic marker from 'm̩'\n",
    "    'n̩': 'n',   # Remove syllabic marker from 'n̩'\n",
    "    '̩': '',     # Remove syllabic marker\n",
    "    'ɨ': 'i',    # Replace high central unrounded vowel with high front unrounded vowel\n",
    "    ' ': '',     # Remove nasalization marker\n",
    "}\n",
    "for k, v in ARPABET2IPA:\n",
    "    if ARPABET2IPA[k] in IPA_SUBSTITUTIONS:\n",
    "        ARPABET2IPA[k] = IPA_SUBSTITUTIONS[ARPABET2IPA[k]]\n",
    "clear_output()"
   ]
  },
  {
   "cell_type": "code",
   "execution_count": 23,
   "metadata": {},
   "outputs": [],
   "source": [
    "class PSSTDataset(Dataset):\n",
    "    def __init__(self, split=\"train\"):\n",
    "        if split == \"train\":\n",
    "            self.utterances = data.train\n",
    "        elif split == \"valid\":\n",
    "            self.utterances = data.valid\n",
    "        elif split == \"test\":\n",
    "            self.utterances = data.test\n",
    "        else:\n",
    "            raise ValueError(f\"Unknown split: {split}\")\n",
    "\n",
    "    def __len__(self):\n",
    "        return len(self.utterances)\n",
    "\n",
    "    def __getitem__(self, index):\n",
    "        utterance = self.utterances[index]\n",
    "        ipa = \"\".join(map(lambda x: ARPABET2IPA[x] if x in ARPABET2IPA else '<unk>', utterance.transcript.split(' ')))\n",
    "        audio = audio_file_to_array(utterance.filename_absolute)\n",
    "        return ipa, audio\n",
    "\n",
    "clear_output()"
   ]
  },
  {
   "cell_type": "code",
   "execution_count": 24,
   "metadata": {},
   "outputs": [],
   "source": [
    "train = PSSTDataset(\"train\")\n",
    "valid = PSSTDataset(\"valid\")\n",
    "test = PSSTDataset(\"test\")\n",
    "clear_output()"
   ]
  },
  {
   "cell_type": "code",
   "execution_count": 30,
   "metadata": {},
   "outputs": [],
   "source": [
    "import matplotlib.pyplot as plt\n",
    "print(train[0])\n",
    "plt.plot(train[0][1])\n",
    "plt.show()\n",
    "clear_output()"
   ]
  }
 ],
 "metadata": {
  "kernelspec": {
   "display_name": "venv",
   "language": "python",
   "name": "python3"
  },
  "language_info": {
   "codemirror_mode": {
    "name": "ipython",
    "version": 3
   },
   "file_extension": ".py",
   "mimetype": "text/x-python",
   "name": "python",
   "nbconvert_exporter": "python",
   "pygments_lexer": "ipython3",
   "version": "3.8.10"
  }
 },
 "nbformat": 4,
 "nbformat_minor": 2
}
